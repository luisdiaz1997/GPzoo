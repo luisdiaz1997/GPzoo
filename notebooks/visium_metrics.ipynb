{
 "cells": [
  {
   "cell_type": "code",
   "execution_count": 1,
   "id": "343fc928-93fd-4b5e-9a4c-da5611d5adf8",
   "metadata": {},
   "outputs": [
    {
     "name": "stderr",
     "output_type": "stream",
     "text": [
      "/engelhardt/home/pshrestha/vnngp/GPzoo/gpzoo/utilities.py:2: TqdmExperimentalWarning: Using `tqdm.autonotebook.tqdm` in notebook mode. Use `tqdm.tqdm` instead to force console mode (e.g. in jupyter console)\n",
      "  from tqdm.autonotebook import tqdm\n"
     ]
    }
   ],
   "source": [
    "import torch\n",
    "import matplotlib.pyplot as plt\n",
    "from torch import optim, distributions, nn\n",
    "import torch.nn.utils as nn_utils\n",
    "from tqdm import tqdm\n",
    "from gpzoo.gp import SVGP, VNNGP\n",
    "from gpzoo.kernels import NSF_RBF, RBF\n",
    "from gpzoo.likelihoods import NSF2\n",
    "from gpzoo.utilities import rescale_spatial_coords, dims_autocorr, regularized_nmf\n",
    "import squidpy as sq\n",
    "import numpy as np\n",
    "import time\n",
    "import random\n",
    "import scanpy as sc\n",
    "import anndata as ad\n",
    "from anndata import AnnData\n",
    "from squidpy.gr import spatial_neighbors,spatial_autocorr\n",
    "from matplotlib.animation import FuncAnimation\n",
    "from matplotlib import animation\n",
    "from scipy.stats import pearsonr\n",
    "from scipy.spatial.distance import cosine\n",
    "from os import path\n",
    "import gpzoo.pri_experiment_utilities as pexp"
   ]
  },
  {
   "cell_type": "code",
   "execution_count": 2,
   "id": "054704f8-d600-4ab1-99a9-d3482d6a12b0",
   "metadata": {},
   "outputs": [
    {
     "name": "stdout",
     "output_type": "stream",
     "text": [
      "/engelhardt/home/pshrestha/vnngp/GPzoo/notebooks\n"
     ]
    },
    {
     "data": {
      "text/plain": [
       "<torch._C.Generator at 0x7f4eb80bbdf0>"
      ]
     },
     "execution_count": 2,
     "metadata": {},
     "output_type": "execute_result"
    }
   ],
   "source": [
    "!pwd\n",
    "root_path = '/engelhardt/home/pshrestha/vnngp/'\n",
    "torch.manual_seed(256)"
   ]
  },
  {
   "cell_type": "code",
   "execution_count": 3,
   "id": "3b0c39c9-c82b-4fa9-8af9-e8186d4a7861",
   "metadata": {},
   "outputs": [
    {
     "name": "stdout",
     "output_type": "stream",
     "text": [
      "CUDA available:  True\n",
      "Number of GPUs:  2\n",
      "Current GPU:  0\n",
      "GPU Name:  NVIDIA A30\n"
     ]
    }
   ],
   "source": [
    "print(\"CUDA available: \", torch.cuda.is_available())\n",
    "print(\"Number of GPUs: \", torch.cuda.device_count())\n",
    "print(\"Current GPU: \", torch.cuda.current_device())\n",
    "print(\"GPU Name: \", torch.cuda.get_device_name(torch.cuda.current_device()))"
   ]
  },
  {
   "cell_type": "code",
   "execution_count": 4,
   "id": "0711a546-68ff-450a-a5ea-4167fe4b44ac",
   "metadata": {},
   "outputs": [
    {
     "data": {
      "text/plain": [
       "device(type='cuda', index=0)"
      ]
     },
     "execution_count": 4,
     "metadata": {},
     "output_type": "execute_result"
    }
   ],
   "source": [
    "device = torch.device('cuda:0' if torch.cuda.is_available() else 'cpu')\n",
    "device"
   ]
  },
  {
   "cell_type": "code",
   "execution_count": 31,
   "id": "9cc07dbb-55e0-4b7a-8f29-4b85f0d6ddce",
   "metadata": {},
   "outputs": [],
   "source": [
    "def rmse(A, B):\n",
    "    A = np.array(A)\n",
    "    B = np.array(B)\n",
    "    diff = A - B\n",
    "    return np.sqrt(np.mean(np.square(diff)))"
   ]
  },
  {
   "cell_type": "code",
   "execution_count": 5,
   "id": "27a46dda-4c15-400f-afa9-1a63c701895b",
   "metadata": {},
   "outputs": [],
   "source": [
    "L = [5, 10, 15]\n",
    "N = [3000]\n",
    "M = [500, 1000, 2000]\n",
    "K = [1, 2, 3, 4, 5, 6, 7, 8, 9, 10]\n",
    "lkzz_builds = [1, 2]"
   ]
  },
  {
   "cell_type": "code",
   "execution_count": 22,
   "id": "59afcc88-fc3e-4ae1-a672-2ef3278e680b",
   "metadata": {},
   "outputs": [],
   "source": [
    "X, Y = pexp.load_visium()"
   ]
  },
  {
   "cell_type": "code",
   "execution_count": 30,
   "id": "c95965bf-eb6e-481c-83ef-4fdd67f4cd06",
   "metadata": {},
   "outputs": [
    {
     "name": "stdout",
     "output_type": "stream",
     "text": [
      "With K=1 pearson correlation is: 0.8489027029845029\n",
      "With K=2 pearson correlation is: 0.8497458723259091\n",
      "With K=3 pearson correlation is: 0.849085474064595\n",
      "With K=4 pearson correlation is: 0.848527065652418\n",
      "With K=5 pearson correlation is: 0.8478300463930877\n",
      "With K=6 pearson correlation is: 0.8475892494629158\n",
      "With K=7 pearson correlation is: 0.8474132423789089\n",
      "With K=8 pearson correlation is: 0.847377006854974\n",
      "With K=9 pearson correlation is: 0.847420706632707\n",
      "With K=10 pearson correlation is: 0.8475344597776198\n"
     ]
    }
   ],
   "source": [
    "import warnings\n",
    "\n",
    "# Suppress all warnings\n",
    "warnings.filterwarnings(\"ignore\")\n",
    "\n",
    "save_path = path.join(root_path, \"results/visium/nnnsf\")\n",
    "corrs = []\n",
    "for k in K:\n",
    "    dicts = {\n",
    "        'L': 15, \n",
    "        'M': 1000, \n",
    "        'K': k,\n",
    "        'sigma': 0.1, \n",
    "        'lengthscale': 0.07, \n",
    "        'jtr': 1e-2,\n",
    "        'batch_size': 128,\n",
    "        'lr': 1e-3,\n",
    "        'rs': 256,\n",
    "        'lkzz_build': 1}\n",
    "    factors, loadings = pexp.preloaded_nmf_factors(\"/engelhardt/home/pshrestha/vnngp/results/visium/nmf/nmf_factors_iter=1000_rs=256_L=15.pt\")\n",
    "    NNNSF = pexp.build_model(X, Y, loadings=loadings, factors=factors, model_type='VNNGP', kwargs=dicts)\n",
    "    pexp.model_grads(NNNSF)\n",
    "    NNNSF.prior.jitter = dicts['jtr']\n",
    "    file_path = path.join(save_path, f\"VNNGP_K={dicts['K']}_lkzz={dicts['lkzz_build']}_M={dicts['M']}_L={dicts['L']}_lr=0.001_jtr=0.01_iter=6000_bs=128_NMFinit_state_dict.pth\")\n",
    "    NNNSF.load_state_dict(torch.load(file_path))\n",
    "    X = torch.tensor(X).type(torch.float)\n",
    "    X = X.clone().detach().type(torch.float)\n",
    "    NNNSF.cpu()\n",
    "    qF, _, _ = NNNSF.prior(X)\n",
    "    \n",
    "    means = torch.exp(qF.mean).detach().numpy() # means = factors\n",
    "    W = (NNNSF.W).cpu()\n",
    "    W_transformed = nn.functional.softplus(W.T)\n",
    "\n",
    "    W_transformd = W_transformed = W_transformed.detach().numpy()\n",
    "    y_nmf = (np.exp(means.T)).dot(W_transformed)\n",
    "\n",
    "    corr_xy, p_value = pearsonr(Y.flatten(), (y_nmf.T).flatten())\n",
    "    corrs.append(corr_xy)\n",
    "    print(f\"With K={str(k)} pearson correlation is: {str(corr_xy)}\")"
   ]
  },
  {
   "cell_type": "code",
   "execution_count": 34,
   "id": "196dd846-84b3-475e-907a-c711ff0ede17",
   "metadata": {},
   "outputs": [
    {
     "name": "stdout",
     "output_type": "stream",
     "text": [
      "With K=1 rmse is: 434.0536283218856\n",
      "With K=2 rmse is: 375.6886338309844\n",
      "With K=3 rmse is: 351.01416044643815\n",
      "With K=4 rmse is: 340.0835252299416\n",
      "With K=5 rmse is: 335.3084163293762\n",
      "With K=6 rmse is: 333.28849158840177\n",
      "With K=7 rmse is: 332.6239167670247\n",
      "With K=8 rmse is: 332.6454927047871\n",
      "With K=9 rmse is: 333.07358223744274\n",
      "With K=10 rmse is: 333.6842771184943\n"
     ]
    }
   ],
   "source": [
    " import warnings\n",
    "\n",
    "# Suppress all warnings\n",
    "warnings.filterwarnings(\"ignore\")\n",
    "\n",
    "save_path = path.join(root_path, \"results/visium/nnnsf\")\n",
    "corrs = []\n",
    "for k in K:\n",
    "    dicts = {\n",
    "        'L': 15, \n",
    "        'M': 1000, \n",
    "        'K': k,\n",
    "        'sigma': 0.1, \n",
    "        'lengthscale': 0.07, \n",
    "        'jtr': 1e-2,\n",
    "        'batch_size': 128,\n",
    "        'lr': 1e-3,\n",
    "        'rs': 256,\n",
    "        'lkzz_build': 1}\n",
    "    factors, loadings = pexp.preloaded_nmf_factors(\"/engelhardt/home/pshrestha/vnngp/results/visium/nmf/nmf_factors_iter=1000_rs=256_L=15.pt\")\n",
    "    NNNSF = pexp.build_model(X, Y, loadings=loadings, factors=factors, model_type='VNNGP', kwargs=dicts)\n",
    "    pexp.model_grads(NNNSF)\n",
    "    NNNSF.prior.jitter = dicts['jtr']\n",
    "    file_path = path.join(save_path, f\"VNNGP_K={dicts['K']}_lkzz={dicts['lkzz_build']}_M={dicts['M']}_L={dicts['L']}_lr=0.001_jtr=0.01_iter=6000_bs=128_NMFinit_state_dict.pth\")\n",
    "    NNNSF.load_state_dict(torch.load(file_path))\n",
    "    X = torch.tensor(X).type(torch.float)\n",
    "    X = X.clone().detach().type(torch.float)\n",
    "    NNNSF.cpu()\n",
    "    qF, _, _ = NNNSF.prior(X)\n",
    "    \n",
    "    means = torch.exp(qF.mean).detach().numpy() # means = factors\n",
    "    W = (NNNSF.W).cpu()\n",
    "    W_transformed = nn.functional.softplus(W.T)\n",
    "\n",
    "    W_transformd = W_transformed = W_transformed.detach().numpy()\n",
    "    y_nmf = (np.exp(means.T)).dot(W_transformed)\n",
    "\n",
    "    #corr_xy, p_value = pearsonr(Y.flatten(), (y_nmf.T).flatten())\n",
    "    r = rmse(Y, y_nmf.T)\n",
    "    corrs.append(r)\n",
    "    print(f\"With K={str(k)} rmse is: {str(r)}\")"
   ]
  },
  {
   "cell_type": "code",
   "execution_count": 36,
   "id": "c495005e-63d0-497d-b87c-aaf25a7bcf55",
   "metadata": {},
   "outputs": [
    {
     "name": "stdout",
     "output_type": "stream",
     "text": [
      "With K=1 cosine similarity is: 0.8493583854953297\n",
      "With K=2 cosine similarity is: 0.8502559339341007\n",
      "With K=3 cosine similarity is: 0.8496515995897862\n",
      "With K=4 cosine similarity is: 0.8491311423491493\n",
      "With K=5 cosine similarity is: 0.8484565065727885\n",
      "With K=6 cosine similarity is: 0.8482246310688355\n",
      "With K=7 cosine similarity is: 0.8480523398466375\n",
      "With K=8 cosine similarity is: 0.8480167617980309\n",
      "With K=9 cosine similarity is: 0.8480586504460711\n",
      "With K=10 cosine similarity is: 0.8481693850914389\n"
     ]
    }
   ],
   "source": [
    " import warnings\n",
    "\n",
    "# Suppress all warnings\n",
    "warnings.filterwarnings(\"ignore\")\n",
    "\n",
    "save_path = path.join(root_path, \"results/visium/nnnsf\")\n",
    "corrs = []\n",
    "for k in K:\n",
    "    dicts = {\n",
    "        'L': 15, \n",
    "        'M': 1000, \n",
    "        'K': k,\n",
    "        'sigma': 0.1, \n",
    "        'lengthscale': 0.07, \n",
    "        'jtr': 1e-2,\n",
    "        'batch_size': 128,\n",
    "        'lr': 1e-3,\n",
    "        'rs': 256,\n",
    "        'lkzz_build': 1}\n",
    "    factors, loadings = pexp.preloaded_nmf_factors(\"/engelhardt/home/pshrestha/vnngp/results/visium/nmf/nmf_factors_iter=1000_rs=256_L=15.pt\")\n",
    "    NNNSF = pexp.build_model(X, Y, loadings=loadings, factors=factors, model_type='VNNGP', kwargs=dicts)\n",
    "    pexp.model_grads(NNNSF)\n",
    "    NNNSF.prior.jitter = dicts['jtr']\n",
    "    file_path = path.join(save_path, f\"VNNGP_K={dicts['K']}_lkzz={dicts['lkzz_build']}_M={dicts['M']}_L={dicts['L']}_lr=0.001_jtr=0.01_iter=6000_bs=128_NMFinit_state_dict.pth\")\n",
    "    NNNSF.load_state_dict(torch.load(file_path))\n",
    "    X = torch.tensor(X).type(torch.float)\n",
    "    X = X.clone().detach().type(torch.float)\n",
    "    NNNSF.cpu()\n",
    "    qF, _, _ = NNNSF.prior(X)\n",
    "    \n",
    "    means = torch.exp(qF.mean).detach().numpy() # means = factors\n",
    "    W = (NNNSF.W).cpu()\n",
    "    W_transformed = nn.functional.softplus(W.T)\n",
    "\n",
    "    W_transformd = W_transformed = W_transformed.detach().numpy()\n",
    "    y_nmf = (np.exp(means.T)).dot(W_transformed)\n",
    "\n",
    "    #corr_xy, p_value = pearsonr(Y.flatten(), (y_nmf.T).flatten())\n",
    "    cosine_similarity = 1 - cosine(Y.flatten(), y_nmf.T.flatten())\n",
    "    corrs.append(cosine_similarity)\n",
    "    print(f\"With K={str(k)} cosine similarity is: {str(cosine_similarity)}\")"
   ]
  },
  {
   "cell_type": "code",
   "execution_count": 39,
   "id": "db9621a4-3267-4c76-b002-56a647850fcd",
   "metadata": {},
   "outputs": [
    {
     "name": "stdout",
     "output_type": "stream",
     "text": [
      "With K=1 pearson correlation is: 0.8483255814189644\n",
      "With K=2 pearson correlation is: 0.8519319964679883\n",
      "With K=3 pearson correlation is: 0.8533091136390737\n",
      "With K=4 pearson correlation is: 0.8539104860553656\n",
      "With K=5 pearson correlation is: 0.8535384412723173\n",
      "With K=6 pearson correlation is: 0.8534872889634493\n",
      "With K=7 pearson correlation is: 0.8533453091557475\n",
      "With K=8 pearson correlation is: 0.8533145611491434\n",
      "With K=9 pearson correlation is: 0.8533507098935394\n",
      "With K=10 pearson correlation is: 0.8534386636480769\n"
     ]
    }
   ],
   "source": [
    "import warnings\n",
    "\n",
    "# Suppress all warnings\n",
    "warnings.filterwarnings(\"ignore\")\n",
    "\n",
    "save_path = path.join(root_path, \"results/visium/nnnsf\")\n",
    "corrs = []\n",
    "for k in K:\n",
    "    dicts = {\n",
    "        'L': 5, \n",
    "        'M': 1000, \n",
    "        'K': k,\n",
    "        'sigma': 0.1, \n",
    "        'lengthscale': 0.07, \n",
    "        'jtr': 1e-2,\n",
    "        'batch_size': 128,\n",
    "        'lr': 1e-3,\n",
    "        'rs': 256,\n",
    "        'lkzz_build': 1}\n",
    "    factors, loadings = pexp.preloaded_nmf_factors(f\"/engelhardt/home/pshrestha/vnngp/results/visium/nmf/nmf_factors_iter=1000_rs=256_L={dicts['L']}.pt\")\n",
    "    NNNSF = pexp.build_model(X, Y, loadings=loadings, factors=factors, model_type='VNNGP', kwargs=dicts)\n",
    "    pexp.model_grads(NNNSF)\n",
    "    NNNSF.prior.jitter = dicts['jtr']\n",
    "    file_path = path.join(save_path, f\"VNNGP_K={dicts['K']}_lkzz={dicts['lkzz_build']}_M={dicts['M']}_L={dicts['L']}_lr=0.001_jtr=0.01_iter=6000_bs=128_NMFinit_state_dict.pth\")\n",
    "    NNNSF.load_state_dict(torch.load(file_path))\n",
    "    X = torch.tensor(X).type(torch.float)\n",
    "    X = X.clone().detach().type(torch.float)\n",
    "    NNNSF.cpu()\n",
    "    qF, _, _ = NNNSF.prior(X)\n",
    "    \n",
    "    means = torch.exp(qF.mean).detach().numpy() # means = factors\n",
    "    W = (NNNSF.W).cpu()\n",
    "    W_transformed = nn.functional.softplus(W.T)\n",
    "\n",
    "    W_transformd = W_transformed = W_transformed.detach().numpy()\n",
    "    y_nmf = (np.exp(means.T)).dot(W_transformed)\n",
    "\n",
    "    corr_xy, p_value = pearsonr(Y.flatten(), (y_nmf.T).flatten())\n",
    "    corrs.append(corr_xy)\n",
    "    print(f\"With K={str(k)} pearson correlation is: {str(corr_xy)}\")"
   ]
  },
  {
   "cell_type": "code",
   "execution_count": 40,
   "id": "31e89f5c-715d-4c4e-9c5f-8c9042b14b42",
   "metadata": {},
   "outputs": [
    {
     "name": "stdout",
     "output_type": "stream",
     "text": [
      "With K=1 pearson correlation is: 0.8472383262080498\n",
      "With K=2 pearson correlation is: 0.8491324046884164\n",
      "With K=3 pearson correlation is: 0.8491643544815329\n",
      "With K=4 pearson correlation is: 0.8489790019042032\n",
      "With K=5 pearson correlation is: 0.8483756357497512\n",
      "With K=6 pearson correlation is: 0.848199634396712\n",
      "With K=7 pearson correlation is: 0.8480317557419632\n",
      "With K=8 pearson correlation is: 0.847992793165879\n",
      "With K=9 pearson correlation is: 0.8480339796425365\n",
      "With K=10 pearson correlation is: 0.8481434682187617\n"
     ]
    }
   ],
   "source": [
    "import warnings\n",
    "\n",
    "# Suppress all warnings\n",
    "warnings.filterwarnings(\"ignore\")\n",
    "\n",
    "save_path = path.join(root_path, \"results/visium/nnnsf\")\n",
    "corrs = []\n",
    "for k in K:\n",
    "    dicts = {\n",
    "        'L': 10, \n",
    "        'M': 1000, \n",
    "        'K': k,\n",
    "        'sigma': 0.1, \n",
    "        'lengthscale': 0.07, \n",
    "        'jtr': 1e-2,\n",
    "        'batch_size': 128,\n",
    "        'lr': 1e-3,\n",
    "        'rs': 256,\n",
    "        'lkzz_build': 1}\n",
    "    factors, loadings = pexp.preloaded_nmf_factors(f\"/engelhardt/home/pshrestha/vnngp/results/visium/nmf/nmf_factors_iter=1000_rs=256_L={dicts['L']}.pt\")\n",
    "    NNNSF = pexp.build_model(X, Y, loadings=loadings, factors=factors, model_type='VNNGP', kwargs=dicts)\n",
    "    pexp.model_grads(NNNSF)\n",
    "    NNNSF.prior.jitter = dicts['jtr']\n",
    "    file_path = path.join(save_path, f\"VNNGP_K={dicts['K']}_lkzz={dicts['lkzz_build']}_M={dicts['M']}_L={dicts['L']}_lr=0.001_jtr=0.01_iter=6000_bs=128_NMFinit_state_dict.pth\")\n",
    "    NNNSF.load_state_dict(torch.load(file_path))\n",
    "    X = torch.tensor(X).type(torch.float)\n",
    "    X = X.clone().detach().type(torch.float)\n",
    "    NNNSF.cpu()\n",
    "    qF, _, _ = NNNSF.prior(X)\n",
    "    \n",
    "    means = torch.exp(qF.mean).detach().numpy() # means = factors\n",
    "    W = (NNNSF.W).cpu()\n",
    "    W_transformed = nn.functional.softplus(W.T)\n",
    "\n",
    "    W_transformd = W_transformed = W_transformed.detach().numpy()\n",
    "    y_nmf = (np.exp(means.T)).dot(W_transformed)\n",
    "\n",
    "    corr_xy, p_value = pearsonr(Y.flatten(), (y_nmf.T).flatten())\n",
    "    corrs.append(corr_xy)\n",
    "    print(f\"With K={str(k)} pearson correlation is: {str(corr_xy)}\")"
   ]
  },
  {
   "cell_type": "code",
   "execution_count": null,
   "id": "9128eca0-f387-4ae5-a9ae-c4ec83370c72",
   "metadata": {},
   "outputs": [],
   "source": []
  }
 ],
 "metadata": {
  "kernelspec": {
   "display_name": "Python (vnngp)",
   "language": "python",
   "name": "vnngp"
  },
  "language_info": {
   "codemirror_mode": {
    "name": "ipython",
    "version": 3
   },
   "file_extension": ".py",
   "mimetype": "text/x-python",
   "name": "python",
   "nbconvert_exporter": "python",
   "pygments_lexer": "ipython3",
   "version": "3.12.2"
  }
 },
 "nbformat": 4,
 "nbformat_minor": 5
}
