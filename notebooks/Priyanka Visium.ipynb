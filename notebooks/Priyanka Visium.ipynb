{
 "cells": [
  {
   "cell_type": "code",
   "execution_count": 1,
   "id": "9683275a-a215-4a8f-8266-4e186cefd687",
   "metadata": {},
   "outputs": [
    {
     "name": "stderr",
     "output_type": "stream",
     "text": [
      "/tmp/ipykernel_3652510/2058128981.py:5: TqdmExperimentalWarning: Using `tqdm.autonotebook.tqdm` in notebook mode. Use `tqdm.tqdm` instead to force console mode (e.g. in jupyter console)\n",
      "  from tqdm.autonotebook import tqdm\n"
     ]
    }
   ],
   "source": [
    "import torch\n",
    "import matplotlib.pyplot as plt\n",
    "from torch import optim, distributions, nn\n",
    "import torch.nn.utils as nn_utils\n",
    "from tqdm.autonotebook import tqdm\n",
    "from gpzoo.gp import SVGP, VNNGP\n",
    "from gpzoo.kernels import NSF_RBF, RBF\n",
    "from gpzoo.likelihoods import NSF2\n",
    "from gpzoo.utilities import rescale_spatial_coords, dims_autocorr\n",
    "import squidpy as sq\n",
    "import numpy as np\n",
    "import time\n",
    "import random\n",
    "import scanpy as sc\n",
    "import anndata as ad\n",
    "from anndata import AnnData\n",
    "from squidpy.gr import spatial_neighbors,spatial_autocorr\n",
    "from matplotlib.animation import FuncAnimation\n",
    "from matplotlib import animation"
   ]
  },
  {
   "cell_type": "code",
   "execution_count": 2,
   "id": "4b1a85ec-7e0b-4194-b5bc-4b164e03fdcf",
   "metadata": {},
   "outputs": [],
   "source": [
    "torch.manual_seed(0)\n",
    "\n",
    "# use GPU if available\n",
    "device = torch.device('cuda:1' if torch.cuda.is_available() else 'cpu')\n",
    "device\n",
    "\n",
    "torch.cuda.empty_cache()\n",
    "\n",
    "adata = sq.datasets.visium_hne_adata()"
   ]
  },
  {
   "cell_type": "code",
   "execution_count": 3,
   "id": "f12a050f-97f4-4e2e-b84a-d34a1d0d8dd7",
   "metadata": {},
   "outputs": [],
   "source": [
    "def run_benchmarking_experiments(X_train, Y_train, M, L, K, steps=1000, batch_size=64):\n",
    "    for k in tqdm(range(len(K))):\n",
    "        for m in range(len(M)):\n",
    "            for l in range(len(L)):\n",
    "                # make data dictionary\n",
    "                exp_data = {\n",
    "                    'model' :  [],\n",
    "                    'Z' : [],\n",
    "                    'L' : [],\n",
    "                    'K': [],\n",
    "                    'time' : []}\n",
    "                # run model\n",
    "                #idx = torch.multinomial(torch.ones(X_train.shape[0]), num_samples=M[m], replacement=False)\n",
    "                model = initialize_model(M[m], L[l], K[k], X_train, Y_train, 1.0, 1.0)\n",
    "                optimizer = optim.Adam(filter(lambda p: p.requires_grad, model.parameters()), lr=1e-3)\n",
    "                model.to(device)\n",
    "                start_time = time.time()\n",
    "                X_train = torch.tensor(X_train, device=device, dtype=torch.float32, requires_grad=True)\n",
    "                losses, means, scales = train(model, optimizer, X_train, Y_train, device, steps=steps, E=10)\n",
    "                #losses, means, scales, idxs = train_batched(model, optimizer, X_train, Y_train, device, steps=steps, E=10, batch_size=batch_size)\n",
    "                end_time = time.time()\n",
    "                final_time = end_time - start_time\n",
    "\n",
    "                # update data dictionary\n",
    "                exp_data['L'].append(L)\n",
    "                exp_data['Z'].append(M)\n",
    "                exp_data['K'].append(K)\n",
    "                alg = 'NNNSF'\n",
    "                exp_data['model'].append(alg)\n",
    "                exp_data['time'].append(final_time)\n",
    "\n",
    "                # make + save loss plot\n",
    "                fig1, ax1 = plt.subplots()\n",
    "                plt.plot(losses)\n",
    "                plt.title(f\"Visium Losses\")\n",
    "                plt.close(fig1)\n",
    "\n",
    "                # make + save factors plot\n",
    "                size=5\n",
    "                #X_train = torch.tensor(X_train, device='cuda', dtype=torch.float32, requires_grad=True)\n",
    "                qF, qU, pU = model.prior(X_train)\n",
    "                loadings = torch.exp(qF.mean).detach().cpu().numpy()\n",
    "                del qF, qU, pU\n",
    "                with torch.no_grad():\n",
    "                    if device.type=='cuda':\n",
    "                        torch.cuda.empty_cache()\n",
    "                X_train = X_train.detach().cpu().numpy()\n",
    "                moran_idx, moranI = dims_autocorr(np.log(loadings).T, X_train)\n",
    "\n",
    "                fig2, ax2 = plt.subplots(2, 5, figsize=(size*5, size*2), tight_layout=True)\n",
    "                fig2.suptitle(\"NNNSF Factors\", size=20)\n",
    "                plot(X_train, loadings, moran_idx, L[l], ax=ax2, size=5, alpha=0.8)\n",
    "                plt.close(fig2)\n",
    "\n",
    "                # make + save animation\n",
    "                fig3, ax = plt.subplots(2, 5, figsize=(size*5, size*2), tight_layout=True)\n",
    "                fig3.suptitle(\"NNNSF Factors\", size=20)\n",
    "\n",
    "                def update(iteration):\n",
    "                    for ax_row in ax:\n",
    "                        for element in ax_row:\n",
    "                            element.cla()\n",
    "                    curr_mean = means[iteration]\n",
    "                    #curr_idx = idxs[iteration]\n",
    "                    plot(X_train, curr_mean, moran_idx, L=10, ax=ax, size=size, alpha=0.9)\n",
    "\n",
    "                anim = FuncAnimation(fig3, update, frames=np.arange(0, len(means), 1), interval=100)\n",
    "                plt.show()\n",
    "                plt.close()\n",
    "                anim.save(f'.visium_K={K[k]}_Z={M[m]}_factors_anim.mp4', writer=\"pillow\")"
   ]
  },
  {
   "cell_type": "code",
   "execution_count": 4,
   "id": "ffcba89e-21ab-4056-8c90-04c845a3f65f",
   "metadata": {},
   "outputs": [],
   "source": [
    "def train(model, optimizer, X, y, device, steps=200, E=10, batch_size=64, **kwargs):\n",
    "    losses = []\n",
    "    means = []\n",
    "    scales = []\n",
    "    #idxs = []\n",
    "    \n",
    "    for it in tqdm(range(steps)):   \n",
    "        idx = torch.multinomial(torch.ones(X.shape[0]), num_samples=batch_size, replacement=False)\n",
    "\n",
    "        optimizer.zero_grad()\n",
    "        pY, qF, qU, pU = model.forward(X=X, E=E, **kwargs)\n",
    "\n",
    "        logpY = pY.log_prob(y)\n",
    "\n",
    "        ELBO = (logpY).mean(axis=0).sum()\n",
    "        ELBO -= torch.sum(distributions.kl_divergence(qU, pU))\n",
    "\n",
    "        loss = -ELBO\n",
    "        loss.backward()\n",
    "\n",
    "        optimizer.step()\n",
    "\n",
    "        losses.append(loss.item())\n",
    "        if (it%10)==0:\n",
    "            #idxs.append(idx.detach().cpu().numpy())\n",
    "            means.append(torch.exp(qF.mean.detach().cpu()).numpy())\n",
    "            scales.append(qF.scale.detach().cpu().numpy())\n",
    "\n",
    "    with torch.no_grad():\n",
    "        if device.type=='cuda':\n",
    "            torch.cuda.empty_cache()\n",
    "\n",
    "    return losses, means, scales"
   ]
  },
  {
   "cell_type": "code",
   "execution_count": 5,
   "id": "5b0342d6-a32c-48a3-89e5-a3316680697d",
   "metadata": {},
   "outputs": [],
   "source": [
    "def initialize_model(M, L, K, X, Y, sigma=1.0, lengthscale=1.0):\n",
    "    idx = torch.multinomial(torch.ones(X.shape[0]), num_samples=M, replacement=False)\n",
    "    kernel = NSF_RBF(L=L, sigma=1.0, lengthscale=1.0)\n",
    "    gp = VNNGP(kernel, M=M, jitter=1e-2, K=K)\n",
    "    gp.Lu = nn.Parameter(torch.eye(M).expand(L, M, M).clone())\n",
    "    gp.mu = nn.Parameter(torch.randn((L, M)))\n",
    "    gp.Z = nn.Parameter(torch.tensor(X[idx]))\n",
    "\n",
    "    model = NSF2(gp=gp, y=Y, L=L)\n",
    "    model.prior.kernel.lengthscale.requires_grad = True\n",
    "    model.prior.kernel.sigma.requires_grad = False\n",
    "    model.prior.Z.requires_grad = False\n",
    "    model.prior.mu.requires_grad = True\n",
    "    model.prior.Lu.requires_grad = True\n",
    "\n",
    "    return model"
   ]
  },
  {
   "cell_type": "code",
   "execution_count": 6,
   "id": "5d5f1c97-909d-4b47-bb8d-5af01348311d",
   "metadata": {},
   "outputs": [],
   "source": [
    "def dims_autocorr(factors,coords,sort=True):\n",
    "    \"\"\"\n",
    "    factors: (num observations) x (num latent dimensions) array\n",
    "    coords: (num observations) x (num spatial dimensions) array\n",
    "    sort: if True (default), returns the index and I statistics in decreasing\n",
    "    order of autocorrelation. If False, returns the index and I statistics\n",
    "    according to the ordering of factors.\n",
    "\n",
    "    returns: an integer array of length (num latent dims), \"idx\"\n",
    "    and a numpy array containing the Moran's I values for each dimension\n",
    "\n",
    "    indexing factors[:,idx] will sort the factors in decreasing order of spatial\n",
    "    autocorrelation.\n",
    "    \"\"\"\n",
    "    #from anndata import AnnData\n",
    "    #from squidpy.gr import spatial_neighbors,spatial_autocorr\n",
    "\n",
    "    ad = AnnData(X=factors,obsm={\"spatial\":coords})\n",
    "    spatial_neighbors(ad)\n",
    "    df = spatial_autocorr(ad,mode=\"moran\",copy=True)\n",
    "    if not sort: #revert to original sort order\n",
    "        df.sort_index(inplace=True)\n",
    "    \n",
    "    idx = np.array([int(i) for i in df.index])\n",
    "    return idx,df[\"I\"].to_numpy()"
   ]
  },
  {
   "cell_type": "code",
   "execution_count": 7,
   "id": "186c1b8b-356d-4aaf-a308-e34ca94067dc",
   "metadata": {},
   "outputs": [],
   "source": [
    "def plot(X_train, factors, moran_idx, L, ax=None, size=7, alpha=0.9):\n",
    "    L=10\n",
    "    max_val = np.percentile(factors, 99)\n",
    "    min_val = np.percentile(factors, 1)\n",
    "    #size = 5\n",
    "    #fig, ax = plt.subplots(L//5, 5, figsize=(size*5, size*2), tight_layout=True)\n",
    "    #fig.suptitle(\"NNNSF Factors\", size=25)\n",
    "    for i in range(L):\n",
    "        plt.subplot(L//5, 5, i+1)\n",
    "        \n",
    "        curr_ax = ax[i//5, i%5]\n",
    "        curr_ax.scatter(X_train[:, 0], X_train[:,1], c=factors[moran_idx][i], vmin=min_val, vmax=max_val, alpha=alpha, cmap='turbo')#, s=0.1)\n",
    "        curr_ax.set_xlim([X_train[:,0].min()*1.1, X_train[:,0].max()*1.1])\n",
    "        curr_ax.set_ylim([X_train[:,1].min()*1.1, X_train[:,1].max()*1.1])\n",
    "        curr_ax.invert_yaxis()\n",
    "        curr_ax.set_xticks([])\n",
    "        curr_ax.set_yticks([])\n",
    "        curr_ax.set_facecolor('xkcd:gray')\n",
    "\n",
    "\n",
    "def plot_anim(factors, moran_idx, curr_idx, L, ax=None, size=7, alpha=0.9):\n",
    "    max_val = np.percentile(factors, 99)\n",
    "    min_val = np.percentile(factors, 1)\n",
    "    if ax is None:\n",
    "        fig, ax = plt.subplots(4, 5, figsize=(size*5, size*4), tight_layout=True)\n",
    "    for i in range(L):\n",
    "        plt.subplot(L//5, 5, i+1)\n",
    "        curr_ax = ax[i//5, i%5]\n",
    "        curr_ax.scatter(X[curr_idx, 0], X[curr_idx,1], c=factors[moran_idx][i], vmin=min_val, vmax=max_val, alpha=alpha, cmap='turbo')#, s=0.1)\n",
    "        curr_ax.invert_yaxis()\n",
    "        curr_ax.set_xticks([])\n",
    "        curr_ax.set_yticks([])\n",
    "        curr_ax.set_facecolor('xkcd:gray')"
   ]
  },
  {
   "cell_type": "code",
   "execution_count": 8,
   "id": "122a779e-c347-48f4-94bd-1ca8468dc6d4",
   "metadata": {},
   "outputs": [],
   "source": [
    "def main():\n",
    "\t# load data\n",
    "\tY_sums = np.array(np.sum(adata.raw.X > 0, axis=0))[0]\n",
    "\tY = np.array(adata.raw.X[:, Y_sums>200].todense(), dtype=int).T\n",
    "\tX = adata.obsm['spatial']\n",
    "\tX = X.astype('float64')\n",
    "\tX = rescale_spatial_coords(X)\n",
    "\t\n",
    "\tX = torch.tensor(X, dtype=torch.float)\n",
    "\tY = torch.tensor(Y, dtype=torch.float)\t\n",
    "\n",
    "\tX_train = X.to(device)\n",
    "\tY_train = Y.to(device)\n",
    "\tneighbors = [8]#,2,3,4,5,6,7,8,9,10]\n",
    "\tinducing_pts = [1000] #[100, 500, 1000, 1500, 2000, 2500, 3000]\n",
    "\tgps = [10]\n",
    "\trun_benchmarking_experiments(X_train, Y_train, inducing_pts, gps, neighbors, steps=1000)"
   ]
  },
  {
   "cell_type": "code",
   "execution_count": 9,
   "id": "1a0dc07e-9217-407e-956f-c9c208e8719b",
   "metadata": {},
   "outputs": [
    {
     "name": "stderr",
     "output_type": "stream",
     "text": [
      "  0%|                                                                                                         | 0/1 [00:00<?, ?it/s]/tmp/ipykernel_3650228/1509992282.py:7: UserWarning: To copy construct from a tensor, it is recommended to use sourceTensor.clone().detach() or sourceTensor.clone().detach().requires_grad_(True), rather than torch.tensor(sourceTensor).\n",
      "  gp.Z = nn.Parameter(torch.tensor(X[idx]))\n",
      "/tmp/ipykernel_3650228/3922245285.py:18: UserWarning: To copy construct from a tensor, it is recommended to use sourceTensor.clone().detach() or sourceTensor.clone().detach().requires_grad_(True), rather than torch.tensor(sourceTensor).\n",
      "  X_train = torch.tensor(X_train, device=device, dtype=torch.float32, requires_grad=True)\n",
      "\n",
      "  0%|                                                                                                      | 0/1000 [00:00<?, ?it/s]\u001b[A"
     ]
    },
    {
     "name": "stdout",
     "output_type": "stream",
     "text": [
      "distances: torch.Size([2688, 1000])\n",
      "Indexes shape:  torch.Size([2688, 8])\n",
      "Kxz: torch.Size([26880, 1000])\n",
      "kzz_inv: torch.Size([26880, 8, 8])\n",
      "indexes: torch.Size([2688, 8])\n",
      "Expanded shape torch.Size([26880, 8])\n"
     ]
    },
    {
     "name": "stderr",
     "output_type": "stream",
     "text": [
      "\n",
      "  0%|                                                                                              | 1/1000 [00:00<13:18,  1.25it/s]\u001b[A"
     ]
    },
    {
     "name": "stdout",
     "output_type": "stream",
     "text": [
      "distances: torch.Size([2688, 1000])\n",
      "Indexes shape:  torch.Size([2688, 8])\n",
      "Kxz: torch.Size([26880, 1000])\n",
      "kzz_inv: torch.Size([26880, 8, 8])\n",
      "indexes: torch.Size([2688, 8])\n",
      "Expanded shape torch.Size([26880, 8])\n"
     ]
    },
    {
     "name": "stderr",
     "output_type": "stream",
     "text": [
      "\n",
      "  0%|▏                                                                                             | 2/1000 [00:01<07:35,  2.19it/s]\u001b[A"
     ]
    },
    {
     "name": "stdout",
     "output_type": "stream",
     "text": [
      "distances: torch.Size([2688, 1000])\n",
      "Indexes shape:  torch.Size([2688, 8])\n",
      "Kxz: torch.Size([26880, 1000])\n",
      "kzz_inv: torch.Size([26880, 8, 8])\n",
      "indexes: torch.Size([2688, 8])\n",
      "Expanded shape torch.Size([26880, 8])\n"
     ]
    },
    {
     "name": "stderr",
     "output_type": "stream",
     "text": [
      "\n",
      "  0%|▎                                                                                             | 3/1000 [00:01<05:41,  2.92it/s]\u001b[A"
     ]
    },
    {
     "name": "stdout",
     "output_type": "stream",
     "text": [
      "distances: torch.Size([2688, 1000])\n",
      "Indexes shape:  torch.Size([2688, 8])\n",
      "Kxz: torch.Size([26880, 1000])\n",
      "kzz_inv: torch.Size([26880, 8, 8])\n",
      "indexes: torch.Size([2688, 8])\n",
      "Expanded shape torch.Size([26880, 8])\n"
     ]
    },
    {
     "name": "stderr",
     "output_type": "stream",
     "text": [
      "\n",
      "  0%|▍                                                                                             | 4/1000 [00:01<04:48,  3.45it/s]\u001b[A"
     ]
    },
    {
     "name": "stdout",
     "output_type": "stream",
     "text": [
      "distances: torch.Size([2688, 1000])\n",
      "Indexes shape:  torch.Size([2688, 8])\n",
      "Kxz: torch.Size([26880, 1000])\n",
      "kzz_inv: torch.Size([26880, 8, 8])\n",
      "indexes: torch.Size([2688, 8])\n",
      "Expanded shape torch.Size([26880, 8])\n"
     ]
    },
    {
     "name": "stderr",
     "output_type": "stream",
     "text": [
      "\n",
      "  0%|▍                                                                                             | 5/1000 [00:01<04:18,  3.85it/s]\u001b[A"
     ]
    },
    {
     "name": "stdout",
     "output_type": "stream",
     "text": [
      "distances: torch.Size([2688, 1000])\n",
      "Indexes shape:  torch.Size([2688, 8])\n",
      "Kxz: torch.Size([26880, 1000])\n",
      "kzz_inv: torch.Size([26880, 8, 8])\n",
      "indexes: torch.Size([2688, 8])\n",
      "Expanded shape torch.Size([26880, 8])\n"
     ]
    },
    {
     "name": "stderr",
     "output_type": "stream",
     "text": [
      "\n",
      "  1%|▌                                                                                             | 6/1000 [00:01<04:00,  4.13it/s]\u001b[A"
     ]
    },
    {
     "name": "stdout",
     "output_type": "stream",
     "text": [
      "distances: torch.Size([2688, 1000])\n",
      "Indexes shape:  torch.Size([2688, 8])\n",
      "Kxz: torch.Size([26880, 1000])\n",
      "kzz_inv: torch.Size([26880, 8, 8])\n",
      "indexes: torch.Size([2688, 8])\n",
      "Expanded shape torch.Size([26880, 8])\n"
     ]
    },
    {
     "name": "stderr",
     "output_type": "stream",
     "text": [
      "\n",
      "  1%|▋                                                                                             | 7/1000 [00:02<03:49,  4.33it/s]\u001b[A"
     ]
    },
    {
     "name": "stdout",
     "output_type": "stream",
     "text": [
      "distances: torch.Size([2688, 1000])\n",
      "Indexes shape:  torch.Size([2688, 8])\n",
      "Kxz: torch.Size([26880, 1000])\n",
      "kzz_inv: torch.Size([26880, 8, 8])\n",
      "indexes: torch.Size([2688, 8])\n",
      "Expanded shape torch.Size([26880, 8])\n"
     ]
    },
    {
     "name": "stderr",
     "output_type": "stream",
     "text": [
      "\n",
      "  1%|▊                                                                                             | 8/1000 [00:02<03:41,  4.47it/s]\u001b[A"
     ]
    },
    {
     "name": "stdout",
     "output_type": "stream",
     "text": [
      "distances: torch.Size([2688, 1000])\n",
      "Indexes shape:  torch.Size([2688, 8])\n",
      "Kxz: torch.Size([26880, 1000])\n",
      "kzz_inv: torch.Size([26880, 8, 8])\n",
      "indexes: torch.Size([2688, 8])\n",
      "Expanded shape torch.Size([26880, 8])\n"
     ]
    },
    {
     "name": "stderr",
     "output_type": "stream",
     "text": [
      "\n",
      "  1%|▊                                                                                             | 9/1000 [00:02<03:36,  4.58it/s]\u001b[A"
     ]
    },
    {
     "name": "stdout",
     "output_type": "stream",
     "text": [
      "distances: torch.Size([2688, 1000])\n",
      "Indexes shape:  torch.Size([2688, 8])\n",
      "Kxz: torch.Size([26880, 1000])\n",
      "kzz_inv: torch.Size([26880, 8, 8])\n",
      "indexes: torch.Size([2688, 8])\n",
      "Expanded shape torch.Size([26880, 8])\n"
     ]
    },
    {
     "name": "stderr",
     "output_type": "stream",
     "text": [
      "\n",
      "  1%|▉                                                                                            | 10/1000 [00:02<03:32,  4.65it/s]\u001b[A"
     ]
    },
    {
     "name": "stdout",
     "output_type": "stream",
     "text": [
      "distances: torch.Size([2688, 1000])\n",
      "Indexes shape:  torch.Size([2688, 8])\n",
      "Kxz: torch.Size([26880, 1000])\n",
      "kzz_inv: torch.Size([26880, 8, 8])\n",
      "indexes: torch.Size([2688, 8])\n",
      "Expanded shape torch.Size([26880, 8])\n"
     ]
    },
    {
     "name": "stderr",
     "output_type": "stream",
     "text": [
      "\n",
      "  1%|█                                                                                            | 11/1000 [00:02<03:30,  4.70it/s]\u001b[A"
     ]
    },
    {
     "name": "stdout",
     "output_type": "stream",
     "text": [
      "distances: torch.Size([2688, 1000])\n",
      "Indexes shape:  torch.Size([2688, 8])\n",
      "Kxz: torch.Size([26880, 1000])\n",
      "kzz_inv: torch.Size([26880, 8, 8])\n",
      "indexes: torch.Size([2688, 8])\n",
      "Expanded shape torch.Size([26880, 8])\n"
     ]
    },
    {
     "name": "stderr",
     "output_type": "stream",
     "text": [
      "\n",
      "  1%|█                                                                                            | 12/1000 [00:03<03:28,  4.74it/s]\u001b[A"
     ]
    },
    {
     "name": "stdout",
     "output_type": "stream",
     "text": [
      "distances: torch.Size([2688, 1000])\n",
      "Indexes shape:  torch.Size([2688, 8])\n",
      "Kxz: torch.Size([26880, 1000])\n",
      "kzz_inv: torch.Size([26880, 8, 8])\n",
      "indexes: torch.Size([2688, 8])\n",
      "Expanded shape torch.Size([26880, 8])\n"
     ]
    },
    {
     "name": "stderr",
     "output_type": "stream",
     "text": [
      "\n",
      "  1%|█▏                                                                                           | 13/1000 [00:03<03:27,  4.76it/s]\u001b[A"
     ]
    },
    {
     "name": "stdout",
     "output_type": "stream",
     "text": [
      "distances: torch.Size([2688, 1000])\n",
      "Indexes shape:  torch.Size([2688, 8])\n",
      "Kxz: torch.Size([26880, 1000])\n",
      "kzz_inv: torch.Size([26880, 8, 8])\n",
      "indexes: torch.Size([2688, 8])\n",
      "Expanded shape torch.Size([26880, 8])\n"
     ]
    },
    {
     "name": "stderr",
     "output_type": "stream",
     "text": [
      "\n",
      "  1%|█▎                                                                                           | 14/1000 [00:03<03:26,  4.78it/s]\u001b[A"
     ]
    },
    {
     "name": "stdout",
     "output_type": "stream",
     "text": [
      "distances: torch.Size([2688, 1000])\n",
      "Indexes shape:  torch.Size([2688, 8])\n",
      "Kxz: torch.Size([26880, 1000])\n",
      "kzz_inv: torch.Size([26880, 8, 8])\n",
      "indexes: torch.Size([2688, 8])\n",
      "Expanded shape torch.Size([26880, 8])\n"
     ]
    },
    {
     "name": "stderr",
     "output_type": "stream",
     "text": [
      "\n",
      "  2%|█▍                                                                                           | 15/1000 [00:03<03:25,  4.79it/s]\u001b[A"
     ]
    },
    {
     "name": "stdout",
     "output_type": "stream",
     "text": [
      "distances: torch.Size([2688, 1000])\n",
      "Indexes shape:  torch.Size([2688, 8])\n",
      "Kxz: torch.Size([26880, 1000])\n",
      "kzz_inv: torch.Size([26880, 8, 8])\n",
      "indexes: torch.Size([2688, 8])\n",
      "Expanded shape torch.Size([26880, 8])\n"
     ]
    },
    {
     "name": "stderr",
     "output_type": "stream",
     "text": [
      "\n",
      "  2%|█▍                                                                                           | 16/1000 [00:03<03:25,  4.80it/s]\u001b[A"
     ]
    },
    {
     "name": "stdout",
     "output_type": "stream",
     "text": [
      "distances: torch.Size([2688, 1000])\n",
      "Indexes shape:  torch.Size([2688, 8])\n",
      "Kxz: torch.Size([26880, 1000])\n",
      "kzz_inv: torch.Size([26880, 8, 8])\n",
      "indexes: torch.Size([2688, 8])\n",
      "Expanded shape torch.Size([26880, 8])\n"
     ]
    },
    {
     "name": "stderr",
     "output_type": "stream",
     "text": [
      "\n",
      "  2%|█▌                                                                                           | 17/1000 [00:04<03:24,  4.80it/s]\u001b[A"
     ]
    },
    {
     "name": "stdout",
     "output_type": "stream",
     "text": [
      "distances: torch.Size([2688, 1000])\n",
      "Indexes shape:  torch.Size([2688, 8])\n",
      "Kxz: torch.Size([26880, 1000])\n",
      "kzz_inv: torch.Size([26880, 8, 8])\n",
      "indexes: torch.Size([2688, 8])\n",
      "Expanded shape torch.Size([26880, 8])\n"
     ]
    },
    {
     "name": "stderr",
     "output_type": "stream",
     "text": [
      "\n",
      "  2%|█▋                                                                                           | 18/1000 [00:04<03:24,  4.81it/s]\u001b[A"
     ]
    },
    {
     "name": "stdout",
     "output_type": "stream",
     "text": [
      "distances: torch.Size([2688, 1000])\n",
      "Indexes shape:  torch.Size([2688, 8])\n",
      "Kxz: torch.Size([26880, 1000])\n",
      "kzz_inv: torch.Size([26880, 8, 8])\n",
      "indexes: torch.Size([2688, 8])\n",
      "Expanded shape torch.Size([26880, 8])\n"
     ]
    },
    {
     "name": "stderr",
     "output_type": "stream",
     "text": [
      "\n",
      "  2%|█▊                                                                                           | 19/1000 [00:04<03:23,  4.81it/s]\u001b[A"
     ]
    },
    {
     "name": "stdout",
     "output_type": "stream",
     "text": [
      "distances: torch.Size([2688, 1000])\n",
      "Indexes shape:  torch.Size([2688, 8])\n",
      "Kxz: torch.Size([26880, 1000])\n",
      "kzz_inv: torch.Size([26880, 8, 8])\n",
      "indexes: torch.Size([2688, 8])\n",
      "Expanded shape torch.Size([26880, 8])\n"
     ]
    },
    {
     "name": "stderr",
     "output_type": "stream",
     "text": [
      "\n",
      "  2%|█▊                                                                                           | 20/1000 [00:04<03:23,  4.82it/s]\u001b[A"
     ]
    },
    {
     "name": "stdout",
     "output_type": "stream",
     "text": [
      "distances: torch.Size([2688, 1000])\n",
      "Indexes shape:  torch.Size([2688, 8])\n",
      "Kxz: torch.Size([26880, 1000])\n",
      "kzz_inv: torch.Size([26880, 8, 8])\n",
      "indexes: torch.Size([2688, 8])\n",
      "Expanded shape torch.Size([26880, 8])\n"
     ]
    },
    {
     "name": "stderr",
     "output_type": "stream",
     "text": [
      "\n",
      "  2%|█▉                                                                                           | 21/1000 [00:04<03:23,  4.82it/s]\u001b[A"
     ]
    },
    {
     "name": "stdout",
     "output_type": "stream",
     "text": [
      "distances: torch.Size([2688, 1000])\n",
      "Indexes shape:  torch.Size([2688, 8])\n",
      "Kxz: torch.Size([26880, 1000])\n",
      "kzz_inv: torch.Size([26880, 8, 8])\n",
      "indexes: torch.Size([2688, 8])\n",
      "Expanded shape torch.Size([26880, 8])\n"
     ]
    },
    {
     "name": "stderr",
     "output_type": "stream",
     "text": [
      "\n",
      "  2%|██                                                                                           | 22/1000 [00:05<03:23,  4.82it/s]\u001b[A"
     ]
    },
    {
     "name": "stdout",
     "output_type": "stream",
     "text": [
      "distances: torch.Size([2688, 1000])\n",
      "Indexes shape:  torch.Size([2688, 8])\n",
      "Kxz: torch.Size([26880, 1000])\n",
      "kzz_inv: torch.Size([26880, 8, 8])\n",
      "indexes: torch.Size([2688, 8])\n",
      "Expanded shape torch.Size([26880, 8])\n"
     ]
    },
    {
     "name": "stderr",
     "output_type": "stream",
     "text": [
      "\n",
      "  2%|██▏                                                                                          | 23/1000 [00:05<03:22,  4.82it/s]\u001b[A"
     ]
    },
    {
     "name": "stdout",
     "output_type": "stream",
     "text": [
      "distances: torch.Size([2688, 1000])\n",
      "Indexes shape:  torch.Size([2688, 8])\n",
      "Kxz: torch.Size([26880, 1000])\n",
      "kzz_inv: torch.Size([26880, 8, 8])\n",
      "indexes: torch.Size([2688, 8])\n",
      "Expanded shape torch.Size([26880, 8])\n"
     ]
    },
    {
     "name": "stderr",
     "output_type": "stream",
     "text": [
      "\n",
      "  2%|██▏                                                                                          | 24/1000 [00:05<03:22,  4.82it/s]\u001b[A"
     ]
    },
    {
     "name": "stdout",
     "output_type": "stream",
     "text": [
      "distances: torch.Size([2688, 1000])\n",
      "Indexes shape:  torch.Size([2688, 8])\n",
      "Kxz: torch.Size([26880, 1000])\n",
      "kzz_inv: torch.Size([26880, 8, 8])\n",
      "indexes: torch.Size([2688, 8])\n",
      "Expanded shape torch.Size([26880, 8])\n"
     ]
    },
    {
     "name": "stderr",
     "output_type": "stream",
     "text": [
      "\n",
      "  2%|██▎                                                                                          | 25/1000 [00:05<03:22,  4.82it/s]\u001b[A"
     ]
    },
    {
     "name": "stdout",
     "output_type": "stream",
     "text": [
      "distances: torch.Size([2688, 1000])\n",
      "Indexes shape:  torch.Size([2688, 8])\n",
      "Kxz: torch.Size([26880, 1000])\n",
      "kzz_inv: torch.Size([26880, 8, 8])\n",
      "indexes: torch.Size([2688, 8])\n",
      "Expanded shape torch.Size([26880, 8])\n"
     ]
    },
    {
     "name": "stderr",
     "output_type": "stream",
     "text": [
      "\n",
      "  3%|██▍                                                                                          | 26/1000 [00:05<03:21,  4.82it/s]\u001b[A"
     ]
    },
    {
     "name": "stdout",
     "output_type": "stream",
     "text": [
      "distances: torch.Size([2688, 1000])\n",
      "Indexes shape:  torch.Size([2688, 8])\n",
      "Kxz: torch.Size([26880, 1000])\n",
      "kzz_inv: torch.Size([26880, 8, 8])\n",
      "indexes: torch.Size([2688, 8])\n",
      "Expanded shape torch.Size([26880, 8])\n"
     ]
    },
    {
     "name": "stderr",
     "output_type": "stream",
     "text": [
      "\n",
      "  3%|██▌                                                                                          | 27/1000 [00:06<03:21,  4.82it/s]\u001b[A"
     ]
    },
    {
     "name": "stdout",
     "output_type": "stream",
     "text": [
      "distances: torch.Size([2688, 1000])\n",
      "Indexes shape:  torch.Size([2688, 8])\n",
      "Kxz: torch.Size([26880, 1000])\n",
      "kzz_inv: torch.Size([26880, 8, 8])\n",
      "indexes: torch.Size([2688, 8])\n",
      "Expanded shape torch.Size([26880, 8])\n"
     ]
    },
    {
     "name": "stderr",
     "output_type": "stream",
     "text": [
      "\n",
      "  3%|██▌                                                                                          | 28/1000 [00:06<03:21,  4.82it/s]\u001b[A"
     ]
    },
    {
     "name": "stdout",
     "output_type": "stream",
     "text": [
      "distances: torch.Size([2688, 1000])\n",
      "Indexes shape:  torch.Size([2688, 8])\n",
      "Kxz: torch.Size([26880, 1000])\n",
      "kzz_inv: torch.Size([26880, 8, 8])\n",
      "indexes: torch.Size([2688, 8])\n",
      "Expanded shape torch.Size([26880, 8])\n"
     ]
    },
    {
     "name": "stderr",
     "output_type": "stream",
     "text": [
      "\n",
      "  3%|██▋                                                                                          | 29/1000 [00:06<03:21,  4.82it/s]\u001b[A"
     ]
    },
    {
     "name": "stdout",
     "output_type": "stream",
     "text": [
      "distances: torch.Size([2688, 1000])\n",
      "Indexes shape:  torch.Size([2688, 8])\n",
      "Kxz: torch.Size([26880, 1000])\n",
      "kzz_inv: torch.Size([26880, 8, 8])\n",
      "indexes: torch.Size([2688, 8])\n",
      "Expanded shape torch.Size([26880, 8])\n"
     ]
    },
    {
     "name": "stderr",
     "output_type": "stream",
     "text": [
      "\n",
      "  3%|██▊                                                                                          | 30/1000 [00:06<03:21,  4.82it/s]\u001b[A"
     ]
    },
    {
     "name": "stdout",
     "output_type": "stream",
     "text": [
      "distances: torch.Size([2688, 1000])\n",
      "Indexes shape:  torch.Size([2688, 8])\n",
      "Kxz: torch.Size([26880, 1000])\n",
      "kzz_inv: torch.Size([26880, 8, 8])\n",
      "indexes: torch.Size([2688, 8])\n",
      "Expanded shape torch.Size([26880, 8])\n"
     ]
    },
    {
     "name": "stderr",
     "output_type": "stream",
     "text": [
      "\n",
      "  3%|██▉                                                                                          | 31/1000 [00:07<03:21,  4.82it/s]\u001b[A"
     ]
    },
    {
     "name": "stdout",
     "output_type": "stream",
     "text": [
      "distances: torch.Size([2688, 1000])\n",
      "Indexes shape:  torch.Size([2688, 8])\n",
      "Kxz: torch.Size([26880, 1000])\n",
      "kzz_inv: torch.Size([26880, 8, 8])\n",
      "indexes: torch.Size([2688, 8])\n",
      "Expanded shape torch.Size([26880, 8])\n"
     ]
    },
    {
     "name": "stderr",
     "output_type": "stream",
     "text": [
      "\n",
      "  3%|██▉                                                                                          | 32/1000 [00:07<03:20,  4.82it/s]\u001b[A"
     ]
    },
    {
     "name": "stdout",
     "output_type": "stream",
     "text": [
      "distances: torch.Size([2688, 1000])\n",
      "Indexes shape:  torch.Size([2688, 8])\n",
      "Kxz: torch.Size([26880, 1000])\n",
      "kzz_inv: torch.Size([26880, 8, 8])\n",
      "indexes: torch.Size([2688, 8])\n",
      "Expanded shape torch.Size([26880, 8])\n"
     ]
    },
    {
     "name": "stderr",
     "output_type": "stream",
     "text": [
      "\n",
      "  3%|███                                                                                          | 33/1000 [00:07<03:20,  4.82it/s]\u001b[A"
     ]
    },
    {
     "name": "stdout",
     "output_type": "stream",
     "text": [
      "distances: torch.Size([2688, 1000])\n",
      "Indexes shape:  torch.Size([2688, 8])\n",
      "Kxz: torch.Size([26880, 1000])\n",
      "kzz_inv: torch.Size([26880, 8, 8])\n",
      "indexes: torch.Size([2688, 8])\n",
      "Expanded shape torch.Size([26880, 8])\n"
     ]
    },
    {
     "name": "stderr",
     "output_type": "stream",
     "text": [
      "\n",
      "  3%|███▏                                                                                         | 34/1000 [00:07<03:20,  4.82it/s]\u001b[A"
     ]
    },
    {
     "name": "stdout",
     "output_type": "stream",
     "text": [
      "distances: torch.Size([2688, 1000])\n",
      "Indexes shape:  torch.Size([2688, 8])\n",
      "Kxz: torch.Size([26880, 1000])\n",
      "kzz_inv: torch.Size([26880, 8, 8])\n",
      "indexes: torch.Size([2688, 8])\n",
      "Expanded shape torch.Size([26880, 8])\n"
     ]
    },
    {
     "name": "stderr",
     "output_type": "stream",
     "text": [
      "\n",
      "  4%|███▎                                                                                         | 35/1000 [00:07<03:20,  4.82it/s]\u001b[A"
     ]
    },
    {
     "name": "stdout",
     "output_type": "stream",
     "text": [
      "distances: torch.Size([2688, 1000])\n",
      "Indexes shape:  torch.Size([2688, 8])\n",
      "Kxz: torch.Size([26880, 1000])\n",
      "kzz_inv: torch.Size([26880, 8, 8])\n",
      "indexes: torch.Size([2688, 8])\n",
      "Expanded shape torch.Size([26880, 8])\n"
     ]
    },
    {
     "name": "stderr",
     "output_type": "stream",
     "text": [
      "\n",
      "  4%|███▎                                                                                         | 36/1000 [00:08<03:20,  4.82it/s]\u001b[A"
     ]
    },
    {
     "name": "stdout",
     "output_type": "stream",
     "text": [
      "distances: torch.Size([2688, 1000])\n",
      "Indexes shape:  torch.Size([2688, 8])\n",
      "Kxz: torch.Size([26880, 1000])\n",
      "kzz_inv: torch.Size([26880, 8, 8])\n",
      "indexes: torch.Size([2688, 8])\n",
      "Expanded shape torch.Size([26880, 8])\n"
     ]
    },
    {
     "name": "stderr",
     "output_type": "stream",
     "text": [
      "\n",
      "  4%|███▍                                                                                         | 37/1000 [00:08<03:19,  4.82it/s]\u001b[A"
     ]
    },
    {
     "name": "stdout",
     "output_type": "stream",
     "text": [
      "distances: torch.Size([2688, 1000])\n",
      "Indexes shape:  torch.Size([2688, 8])\n",
      "Kxz: torch.Size([26880, 1000])\n",
      "kzz_inv: torch.Size([26880, 8, 8])\n",
      "indexes: torch.Size([2688, 8])\n",
      "Expanded shape torch.Size([26880, 8])\n"
     ]
    },
    {
     "name": "stderr",
     "output_type": "stream",
     "text": [
      "\n",
      "  4%|███▌                                                                                         | 38/1000 [00:08<03:19,  4.82it/s]\u001b[A"
     ]
    },
    {
     "name": "stdout",
     "output_type": "stream",
     "text": [
      "distances: torch.Size([2688, 1000])\n",
      "Indexes shape:  torch.Size([2688, 8])\n",
      "Kxz: torch.Size([26880, 1000])\n",
      "kzz_inv: torch.Size([26880, 8, 8])\n",
      "indexes: torch.Size([2688, 8])\n",
      "Expanded shape torch.Size([26880, 8])\n"
     ]
    },
    {
     "name": "stderr",
     "output_type": "stream",
     "text": [
      "\n",
      "  4%|███▋                                                                                         | 39/1000 [00:08<03:19,  4.82it/s]\u001b[A"
     ]
    },
    {
     "name": "stdout",
     "output_type": "stream",
     "text": [
      "distances: torch.Size([2688, 1000])\n",
      "Indexes shape:  torch.Size([2688, 8])\n",
      "Kxz: torch.Size([26880, 1000])\n",
      "kzz_inv: torch.Size([26880, 8, 8])\n",
      "indexes: torch.Size([2688, 8])\n",
      "Expanded shape torch.Size([26880, 8])\n"
     ]
    },
    {
     "name": "stderr",
     "output_type": "stream",
     "text": [
      "\n",
      "  4%|███▋                                                                                         | 40/1000 [00:08<03:19,  4.82it/s]\u001b[A"
     ]
    },
    {
     "name": "stdout",
     "output_type": "stream",
     "text": [
      "distances: torch.Size([2688, 1000])\n",
      "Indexes shape:  torch.Size([2688, 8])\n",
      "Kxz: torch.Size([26880, 1000])\n",
      "kzz_inv: torch.Size([26880, 8, 8])\n",
      "indexes: torch.Size([2688, 8])\n",
      "Expanded shape torch.Size([26880, 8])\n"
     ]
    },
    {
     "name": "stderr",
     "output_type": "stream",
     "text": [
      "\n",
      "  4%|███▊                                                                                         | 41/1000 [00:09<03:19,  4.82it/s]\u001b[A"
     ]
    },
    {
     "name": "stdout",
     "output_type": "stream",
     "text": [
      "distances: torch.Size([2688, 1000])\n",
      "Indexes shape:  torch.Size([2688, 8])\n",
      "Kxz: torch.Size([26880, 1000])\n",
      "kzz_inv: torch.Size([26880, 8, 8])\n",
      "indexes: torch.Size([2688, 8])\n",
      "Expanded shape torch.Size([26880, 8])\n"
     ]
    },
    {
     "name": "stderr",
     "output_type": "stream",
     "text": [
      "\n",
      "  4%|███▉                                                                                         | 42/1000 [00:09<03:18,  4.82it/s]\u001b[A"
     ]
    },
    {
     "name": "stdout",
     "output_type": "stream",
     "text": [
      "distances: torch.Size([2688, 1000])\n",
      "Indexes shape:  torch.Size([2688, 8])\n",
      "Kxz: torch.Size([26880, 1000])\n",
      "kzz_inv: torch.Size([26880, 8, 8])\n",
      "indexes: torch.Size([2688, 8])\n",
      "Expanded shape torch.Size([26880, 8])\n"
     ]
    },
    {
     "name": "stderr",
     "output_type": "stream",
     "text": [
      "\n",
      "  4%|███▉                                                                                         | 43/1000 [00:09<03:18,  4.82it/s]\u001b[A"
     ]
    },
    {
     "name": "stdout",
     "output_type": "stream",
     "text": [
      "distances: torch.Size([2688, 1000])\n",
      "Indexes shape:  torch.Size([2688, 8])\n",
      "Kxz: torch.Size([26880, 1000])\n",
      "kzz_inv: torch.Size([26880, 8, 8])\n",
      "indexes: torch.Size([2688, 8])\n",
      "Expanded shape torch.Size([26880, 8])\n"
     ]
    },
    {
     "name": "stderr",
     "output_type": "stream",
     "text": [
      "\n",
      "  4%|████                                                                                         | 44/1000 [00:09<03:18,  4.82it/s]\u001b[A"
     ]
    },
    {
     "name": "stdout",
     "output_type": "stream",
     "text": [
      "distances: torch.Size([2688, 1000])\n",
      "Indexes shape:  torch.Size([2688, 8])\n",
      "Kxz: torch.Size([26880, 1000])\n",
      "kzz_inv: torch.Size([26880, 8, 8])\n",
      "indexes: torch.Size([2688, 8])\n",
      "Expanded shape torch.Size([26880, 8])\n"
     ]
    },
    {
     "name": "stderr",
     "output_type": "stream",
     "text": [
      "\n",
      "  4%|████▏                                                                                        | 45/1000 [00:09<03:18,  4.82it/s]\u001b[A"
     ]
    },
    {
     "name": "stdout",
     "output_type": "stream",
     "text": [
      "distances: torch.Size([2688, 1000])\n",
      "Indexes shape:  torch.Size([2688, 8])\n",
      "Kxz: torch.Size([26880, 1000])\n",
      "kzz_inv: torch.Size([26880, 8, 8])\n",
      "indexes: torch.Size([2688, 8])\n",
      "Expanded shape torch.Size([26880, 8])\n"
     ]
    },
    {
     "name": "stderr",
     "output_type": "stream",
     "text": [
      "\n",
      "  5%|████▎                                                                                        | 46/1000 [00:10<03:17,  4.82it/s]\u001b[A"
     ]
    },
    {
     "name": "stdout",
     "output_type": "stream",
     "text": [
      "distances: torch.Size([2688, 1000])\n",
      "Indexes shape:  torch.Size([2688, 8])\n",
      "Kxz: torch.Size([26880, 1000])\n",
      "kzz_inv: torch.Size([26880, 8, 8])\n",
      "indexes: torch.Size([2688, 8])\n",
      "Expanded shape torch.Size([26880, 8])\n"
     ]
    },
    {
     "name": "stderr",
     "output_type": "stream",
     "text": [
      "\n",
      "  5%|████▎                                                                                        | 47/1000 [00:10<03:17,  4.82it/s]\u001b[A"
     ]
    },
    {
     "name": "stdout",
     "output_type": "stream",
     "text": [
      "distances: torch.Size([2688, 1000])\n",
      "Indexes shape:  torch.Size([2688, 8])\n",
      "Kxz: torch.Size([26880, 1000])\n",
      "kzz_inv: torch.Size([26880, 8, 8])\n",
      "indexes: torch.Size([2688, 8])\n",
      "Expanded shape torch.Size([26880, 8])\n"
     ]
    },
    {
     "name": "stderr",
     "output_type": "stream",
     "text": [
      "\n",
      "  5%|████▍                                                                                        | 48/1000 [00:10<03:17,  4.82it/s]\u001b[A"
     ]
    },
    {
     "name": "stdout",
     "output_type": "stream",
     "text": [
      "distances: torch.Size([2688, 1000])\n",
      "Indexes shape:  torch.Size([2688, 8])\n",
      "Kxz: torch.Size([26880, 1000])\n",
      "kzz_inv: torch.Size([26880, 8, 8])\n",
      "indexes: torch.Size([2688, 8])\n",
      "Expanded shape torch.Size([26880, 8])\n"
     ]
    },
    {
     "name": "stderr",
     "output_type": "stream",
     "text": [
      "\n",
      "  5%|████▌                                                                                        | 49/1000 [00:10<03:17,  4.82it/s]\u001b[A"
     ]
    },
    {
     "name": "stdout",
     "output_type": "stream",
     "text": [
      "distances: torch.Size([2688, 1000])\n",
      "Indexes shape:  torch.Size([2688, 8])\n",
      "Kxz: torch.Size([26880, 1000])\n",
      "kzz_inv: torch.Size([26880, 8, 8])\n",
      "indexes: torch.Size([2688, 8])\n",
      "Expanded shape torch.Size([26880, 8])\n"
     ]
    },
    {
     "name": "stderr",
     "output_type": "stream",
     "text": [
      "\n",
      "  5%|████▋                                                                                        | 50/1000 [00:10<03:17,  4.82it/s]\u001b[A"
     ]
    },
    {
     "name": "stdout",
     "output_type": "stream",
     "text": [
      "distances: torch.Size([2688, 1000])\n",
      "Indexes shape:  torch.Size([2688, 8])\n",
      "Kxz: torch.Size([26880, 1000])\n",
      "kzz_inv: torch.Size([26880, 8, 8])\n",
      "indexes: torch.Size([2688, 8])\n",
      "Expanded shape torch.Size([26880, 8])\n"
     ]
    },
    {
     "name": "stderr",
     "output_type": "stream",
     "text": [
      "\n",
      "  5%|████▋                                                                                        | 51/1000 [00:11<03:16,  4.82it/s]\u001b[A"
     ]
    },
    {
     "name": "stdout",
     "output_type": "stream",
     "text": [
      "distances: torch.Size([2688, 1000])\n",
      "Indexes shape:  torch.Size([2688, 8])\n",
      "Kxz: torch.Size([26880, 1000])\n",
      "kzz_inv: torch.Size([26880, 8, 8])\n",
      "indexes: torch.Size([2688, 8])\n",
      "Expanded shape torch.Size([26880, 8])\n"
     ]
    },
    {
     "name": "stderr",
     "output_type": "stream",
     "text": [
      "\n",
      "  5%|████▊                                                                                        | 52/1000 [00:11<03:16,  4.82it/s]\u001b[A"
     ]
    },
    {
     "name": "stdout",
     "output_type": "stream",
     "text": [
      "distances: torch.Size([2688, 1000])\n",
      "Indexes shape:  torch.Size([2688, 8])\n",
      "Kxz: torch.Size([26880, 1000])\n",
      "kzz_inv: torch.Size([26880, 8, 8])\n",
      "indexes: torch.Size([2688, 8])\n",
      "Expanded shape torch.Size([26880, 8])\n"
     ]
    },
    {
     "name": "stderr",
     "output_type": "stream",
     "text": [
      "\n",
      "  5%|████▉                                                                                        | 53/1000 [00:11<03:16,  4.82it/s]\u001b[A"
     ]
    },
    {
     "name": "stdout",
     "output_type": "stream",
     "text": [
      "distances: torch.Size([2688, 1000])\n",
      "Indexes shape:  torch.Size([2688, 8])\n",
      "Kxz: torch.Size([26880, 1000])\n",
      "kzz_inv: torch.Size([26880, 8, 8])\n",
      "indexes: torch.Size([2688, 8])\n",
      "Expanded shape torch.Size([26880, 8])\n"
     ]
    },
    {
     "name": "stderr",
     "output_type": "stream",
     "text": [
      "\n",
      "  5%|█████                                                                                        | 54/1000 [00:11<03:16,  4.82it/s]\u001b[A"
     ]
    },
    {
     "name": "stdout",
     "output_type": "stream",
     "text": [
      "distances: torch.Size([2688, 1000])\n",
      "Indexes shape:  torch.Size([2688, 8])\n",
      "Kxz: torch.Size([26880, 1000])\n",
      "kzz_inv: torch.Size([26880, 8, 8])\n",
      "indexes: torch.Size([2688, 8])\n",
      "Expanded shape torch.Size([26880, 8])\n"
     ]
    },
    {
     "name": "stderr",
     "output_type": "stream",
     "text": [
      "\n",
      "  6%|█████                                                                                        | 55/1000 [00:12<03:16,  4.81it/s]\u001b[A"
     ]
    },
    {
     "name": "stdout",
     "output_type": "stream",
     "text": [
      "distances: torch.Size([2688, 1000])\n",
      "Indexes shape:  torch.Size([2688, 8])\n",
      "Kxz: torch.Size([26880, 1000])\n",
      "kzz_inv: torch.Size([26880, 8, 8])\n",
      "indexes: torch.Size([2688, 8])\n",
      "Expanded shape torch.Size([26880, 8])\n"
     ]
    },
    {
     "name": "stderr",
     "output_type": "stream",
     "text": [
      "\n",
      "  6%|█████▏                                                                                       | 56/1000 [00:12<03:16,  4.82it/s]\u001b[A"
     ]
    },
    {
     "name": "stdout",
     "output_type": "stream",
     "text": [
      "distances: torch.Size([2688, 1000])\n",
      "Indexes shape:  torch.Size([2688, 8])\n",
      "Kxz: torch.Size([26880, 1000])\n",
      "kzz_inv: torch.Size([26880, 8, 8])\n",
      "indexes: torch.Size([2688, 8])\n",
      "Expanded shape torch.Size([26880, 8])\n"
     ]
    },
    {
     "name": "stderr",
     "output_type": "stream",
     "text": [
      "\n",
      "  6%|█████▎                                                                                       | 57/1000 [00:12<03:15,  4.81it/s]\u001b[A"
     ]
    },
    {
     "name": "stdout",
     "output_type": "stream",
     "text": [
      "distances: torch.Size([2688, 1000])\n",
      "Indexes shape:  torch.Size([2688, 8])\n",
      "Kxz: torch.Size([26880, 1000])\n",
      "kzz_inv: torch.Size([26880, 8, 8])\n",
      "indexes: torch.Size([2688, 8])\n",
      "Expanded shape torch.Size([26880, 8])\n"
     ]
    },
    {
     "name": "stderr",
     "output_type": "stream",
     "text": [
      "\n",
      "  6%|█████▍                                                                                       | 58/1000 [00:12<03:15,  4.82it/s]\u001b[A"
     ]
    },
    {
     "name": "stdout",
     "output_type": "stream",
     "text": [
      "distances: torch.Size([2688, 1000])\n",
      "Indexes shape:  torch.Size([2688, 8])\n",
      "Kxz: torch.Size([26880, 1000])\n",
      "kzz_inv: torch.Size([26880, 8, 8])\n",
      "indexes: torch.Size([2688, 8])\n",
      "Expanded shape torch.Size([26880, 8])\n"
     ]
    },
    {
     "name": "stderr",
     "output_type": "stream",
     "text": [
      "\n",
      "  6%|█████▍                                                                                       | 59/1000 [00:12<03:15,  4.82it/s]\u001b[A"
     ]
    },
    {
     "name": "stdout",
     "output_type": "stream",
     "text": [
      "distances: torch.Size([2688, 1000])\n",
      "Indexes shape:  torch.Size([2688, 8])\n",
      "Kxz: torch.Size([26880, 1000])\n",
      "kzz_inv: torch.Size([26880, 8, 8])\n",
      "indexes: torch.Size([2688, 8])\n",
      "Expanded shape torch.Size([26880, 8])\n"
     ]
    },
    {
     "name": "stderr",
     "output_type": "stream",
     "text": [
      "\n",
      "  6%|█████▌                                                                                       | 60/1000 [00:13<03:15,  4.82it/s]\u001b[A"
     ]
    },
    {
     "name": "stdout",
     "output_type": "stream",
     "text": [
      "distances: torch.Size([2688, 1000])\n",
      "Indexes shape:  torch.Size([2688, 8])\n",
      "Kxz: torch.Size([26880, 1000])\n",
      "kzz_inv: torch.Size([26880, 8, 8])\n",
      "indexes: torch.Size([2688, 8])\n",
      "Expanded shape torch.Size([26880, 8])\n"
     ]
    },
    {
     "name": "stderr",
     "output_type": "stream",
     "text": [
      "\n",
      "  6%|█████▋                                                                                       | 61/1000 [00:13<03:15,  4.81it/s]\u001b[A"
     ]
    },
    {
     "name": "stdout",
     "output_type": "stream",
     "text": [
      "distances: torch.Size([2688, 1000])\n",
      "Indexes shape:  torch.Size([2688, 8])\n",
      "Kxz: torch.Size([26880, 1000])\n",
      "kzz_inv: torch.Size([26880, 8, 8])\n",
      "indexes: torch.Size([2688, 8])\n",
      "Expanded shape torch.Size([26880, 8])\n"
     ]
    },
    {
     "name": "stderr",
     "output_type": "stream",
     "text": [
      "\n",
      "  6%|█████▊                                                                                       | 62/1000 [00:13<03:14,  4.81it/s]\u001b[A"
     ]
    },
    {
     "name": "stdout",
     "output_type": "stream",
     "text": [
      "distances: torch.Size([2688, 1000])\n",
      "Indexes shape:  torch.Size([2688, 8])\n",
      "Kxz: torch.Size([26880, 1000])\n",
      "kzz_inv: torch.Size([26880, 8, 8])\n",
      "indexes: torch.Size([2688, 8])\n",
      "Expanded shape torch.Size([26880, 8])\n"
     ]
    },
    {
     "name": "stderr",
     "output_type": "stream",
     "text": [
      "\n",
      "  6%|█████▊                                                                                       | 63/1000 [00:13<03:14,  4.81it/s]\u001b[A"
     ]
    },
    {
     "name": "stdout",
     "output_type": "stream",
     "text": [
      "distances: torch.Size([2688, 1000])\n",
      "Indexes shape:  torch.Size([2688, 8])\n",
      "Kxz: torch.Size([26880, 1000])\n",
      "kzz_inv: torch.Size([26880, 8, 8])\n",
      "indexes: torch.Size([2688, 8])\n",
      "Expanded shape torch.Size([26880, 8])\n"
     ]
    },
    {
     "name": "stderr",
     "output_type": "stream",
     "text": [
      "\n",
      "  6%|█████▉                                                                                       | 64/1000 [00:13<03:14,  4.81it/s]\u001b[A"
     ]
    },
    {
     "name": "stdout",
     "output_type": "stream",
     "text": [
      "distances: torch.Size([2688, 1000])\n",
      "Indexes shape:  torch.Size([2688, 8])\n",
      "Kxz: torch.Size([26880, 1000])\n",
      "kzz_inv: torch.Size([26880, 8, 8])\n",
      "indexes: torch.Size([2688, 8])\n",
      "Expanded shape torch.Size([26880, 8])\n"
     ]
    },
    {
     "name": "stderr",
     "output_type": "stream",
     "text": [
      "\n",
      "  6%|██████                                                                                       | 65/1000 [00:14<03:14,  4.81it/s]\u001b[A"
     ]
    },
    {
     "name": "stdout",
     "output_type": "stream",
     "text": [
      "distances: torch.Size([2688, 1000])\n",
      "Indexes shape:  torch.Size([2688, 8])\n",
      "Kxz: torch.Size([26880, 1000])\n",
      "kzz_inv: torch.Size([26880, 8, 8])\n",
      "indexes: torch.Size([2688, 8])\n",
      "Expanded shape torch.Size([26880, 8])\n"
     ]
    },
    {
     "name": "stderr",
     "output_type": "stream",
     "text": [
      "\n",
      "  7%|██████▏                                                                                      | 66/1000 [00:14<03:13,  4.82it/s]\u001b[A"
     ]
    },
    {
     "name": "stdout",
     "output_type": "stream",
     "text": [
      "distances: torch.Size([2688, 1000])\n",
      "Indexes shape:  torch.Size([2688, 8])\n",
      "Kxz: torch.Size([26880, 1000])\n",
      "kzz_inv: torch.Size([26880, 8, 8])\n",
      "indexes: torch.Size([2688, 8])\n",
      "Expanded shape torch.Size([26880, 8])\n"
     ]
    },
    {
     "name": "stderr",
     "output_type": "stream",
     "text": [
      "\n",
      "  7%|██████▏                                                                                      | 67/1000 [00:14<03:13,  4.81it/s]\u001b[A"
     ]
    },
    {
     "name": "stdout",
     "output_type": "stream",
     "text": [
      "distances: torch.Size([2688, 1000])\n",
      "Indexes shape:  torch.Size([2688, 8])\n",
      "Kxz: torch.Size([26880, 1000])\n",
      "kzz_inv: torch.Size([26880, 8, 8])\n",
      "indexes: torch.Size([2688, 8])\n",
      "Expanded shape torch.Size([26880, 8])\n"
     ]
    },
    {
     "name": "stderr",
     "output_type": "stream",
     "text": [
      "\n",
      "  7%|██████▎                                                                                      | 68/1000 [00:14<03:13,  4.82it/s]\u001b[A"
     ]
    },
    {
     "name": "stdout",
     "output_type": "stream",
     "text": [
      "distances: torch.Size([2688, 1000])\n",
      "Indexes shape:  torch.Size([2688, 8])\n",
      "Kxz: torch.Size([26880, 1000])\n",
      "kzz_inv: torch.Size([26880, 8, 8])\n",
      "indexes: torch.Size([2688, 8])\n",
      "Expanded shape torch.Size([26880, 8])\n"
     ]
    },
    {
     "name": "stderr",
     "output_type": "stream",
     "text": [
      "\n",
      "  7%|██████▍                                                                                      | 69/1000 [00:14<03:13,  4.82it/s]\u001b[A"
     ]
    },
    {
     "name": "stdout",
     "output_type": "stream",
     "text": [
      "distances: torch.Size([2688, 1000])\n",
      "Indexes shape:  torch.Size([2688, 8])\n",
      "Kxz: torch.Size([26880, 1000])\n",
      "kzz_inv: torch.Size([26880, 8, 8])\n",
      "indexes: torch.Size([2688, 8])\n",
      "Expanded shape torch.Size([26880, 8])\n"
     ]
    },
    {
     "name": "stderr",
     "output_type": "stream",
     "text": [
      "\n",
      "  7%|██████▌                                                                                      | 70/1000 [00:15<03:12,  4.82it/s]\u001b[A"
     ]
    },
    {
     "name": "stdout",
     "output_type": "stream",
     "text": [
      "distances: torch.Size([2688, 1000])\n",
      "Indexes shape:  torch.Size([2688, 8])\n",
      "Kxz: torch.Size([26880, 1000])\n",
      "kzz_inv: torch.Size([26880, 8, 8])\n",
      "indexes: torch.Size([2688, 8])\n",
      "Expanded shape torch.Size([26880, 8])\n"
     ]
    },
    {
     "name": "stderr",
     "output_type": "stream",
     "text": [
      "\n",
      "  7%|██████▌                                                                                      | 71/1000 [00:15<03:12,  4.82it/s]\u001b[A"
     ]
    },
    {
     "name": "stdout",
     "output_type": "stream",
     "text": [
      "distances: torch.Size([2688, 1000])\n",
      "Indexes shape:  torch.Size([2688, 8])\n",
      "Kxz: torch.Size([26880, 1000])\n",
      "kzz_inv: torch.Size([26880, 8, 8])\n",
      "indexes: torch.Size([2688, 8])\n",
      "Expanded shape torch.Size([26880, 8])\n"
     ]
    },
    {
     "name": "stderr",
     "output_type": "stream",
     "text": [
      "\n",
      "  7%|██████▋                                                                                      | 72/1000 [00:15<03:12,  4.82it/s]\u001b[A"
     ]
    },
    {
     "name": "stdout",
     "output_type": "stream",
     "text": [
      "distances: torch.Size([2688, 1000])\n",
      "Indexes shape:  torch.Size([2688, 8])\n",
      "Kxz: torch.Size([26880, 1000])\n",
      "kzz_inv: torch.Size([26880, 8, 8])\n",
      "indexes: torch.Size([2688, 8])\n",
      "Expanded shape torch.Size([26880, 8])\n"
     ]
    },
    {
     "name": "stderr",
     "output_type": "stream",
     "text": [
      "\n",
      "  7%|██████▊                                                                                      | 73/1000 [00:15<03:12,  4.82it/s]\u001b[A"
     ]
    },
    {
     "name": "stdout",
     "output_type": "stream",
     "text": [
      "distances: torch.Size([2688, 1000])\n",
      "Indexes shape:  torch.Size([2688, 8])\n",
      "Kxz: torch.Size([26880, 1000])\n",
      "kzz_inv: torch.Size([26880, 8, 8])\n",
      "indexes: torch.Size([2688, 8])\n",
      "Expanded shape torch.Size([26880, 8])\n"
     ]
    },
    {
     "name": "stderr",
     "output_type": "stream",
     "text": [
      "\n",
      "  7%|██████▉                                                                                      | 74/1000 [00:15<03:12,  4.82it/s]\u001b[A"
     ]
    },
    {
     "name": "stdout",
     "output_type": "stream",
     "text": [
      "distances: torch.Size([2688, 1000])\n",
      "Indexes shape:  torch.Size([2688, 8])\n",
      "Kxz: torch.Size([26880, 1000])\n",
      "kzz_inv: torch.Size([26880, 8, 8])\n",
      "indexes: torch.Size([2688, 8])\n",
      "Expanded shape torch.Size([26880, 8])\n"
     ]
    },
    {
     "name": "stderr",
     "output_type": "stream",
     "text": [
      "\n",
      "  8%|██████▉                                                                                      | 75/1000 [00:16<03:11,  4.82it/s]\u001b[A"
     ]
    },
    {
     "name": "stdout",
     "output_type": "stream",
     "text": [
      "distances: torch.Size([2688, 1000])\n",
      "Indexes shape:  torch.Size([2688, 8])\n",
      "Kxz: torch.Size([26880, 1000])\n",
      "kzz_inv: torch.Size([26880, 8, 8])\n",
      "indexes: torch.Size([2688, 8])\n",
      "Expanded shape torch.Size([26880, 8])\n"
     ]
    },
    {
     "name": "stderr",
     "output_type": "stream",
     "text": [
      "\n",
      "  8%|███████                                                                                      | 76/1000 [00:16<03:11,  4.82it/s]\u001b[A"
     ]
    },
    {
     "name": "stdout",
     "output_type": "stream",
     "text": [
      "distances: torch.Size([2688, 1000])\n",
      "Indexes shape:  torch.Size([2688, 8])\n",
      "Kxz: torch.Size([26880, 1000])\n",
      "kzz_inv: torch.Size([26880, 8, 8])\n",
      "indexes: torch.Size([2688, 8])\n",
      "Expanded shape torch.Size([26880, 8])\n"
     ]
    },
    {
     "name": "stderr",
     "output_type": "stream",
     "text": [
      "\n",
      "  8%|███████▏                                                                                     | 77/1000 [00:16<03:11,  4.82it/s]\u001b[A"
     ]
    },
    {
     "name": "stdout",
     "output_type": "stream",
     "text": [
      "distances: torch.Size([2688, 1000])\n",
      "Indexes shape:  torch.Size([2688, 8])\n",
      "Kxz: torch.Size([26880, 1000])\n",
      "kzz_inv: torch.Size([26880, 8, 8])\n",
      "indexes: torch.Size([2688, 8])\n",
      "Expanded shape torch.Size([26880, 8])\n"
     ]
    },
    {
     "name": "stderr",
     "output_type": "stream",
     "text": [
      "\n",
      "  8%|███████▎                                                                                     | 78/1000 [00:16<03:11,  4.82it/s]\u001b[A"
     ]
    },
    {
     "name": "stdout",
     "output_type": "stream",
     "text": [
      "distances: torch.Size([2688, 1000])\n",
      "Indexes shape:  torch.Size([2688, 8])\n",
      "Kxz: torch.Size([26880, 1000])\n",
      "kzz_inv: torch.Size([26880, 8, 8])\n",
      "indexes: torch.Size([2688, 8])\n",
      "Expanded shape torch.Size([26880, 8])\n"
     ]
    },
    {
     "name": "stderr",
     "output_type": "stream",
     "text": [
      "\n",
      "  8%|███████▎                                                                                     | 79/1000 [00:16<03:11,  4.82it/s]\u001b[A"
     ]
    },
    {
     "name": "stdout",
     "output_type": "stream",
     "text": [
      "distances: torch.Size([2688, 1000])\n",
      "Indexes shape:  torch.Size([2688, 8])\n",
      "Kxz: torch.Size([26880, 1000])\n",
      "kzz_inv: torch.Size([26880, 8, 8])\n",
      "indexes: torch.Size([2688, 8])\n",
      "Expanded shape torch.Size([26880, 8])\n"
     ]
    },
    {
     "name": "stderr",
     "output_type": "stream",
     "text": [
      "\n",
      "  8%|███████▍                                                                                     | 80/1000 [00:17<03:10,  4.82it/s]\u001b[A"
     ]
    },
    {
     "name": "stdout",
     "output_type": "stream",
     "text": [
      "distances: torch.Size([2688, 1000])\n",
      "Indexes shape:  torch.Size([2688, 8])\n",
      "Kxz: torch.Size([26880, 1000])\n",
      "kzz_inv: torch.Size([26880, 8, 8])\n",
      "indexes: torch.Size([2688, 8])\n",
      "Expanded shape torch.Size([26880, 8])\n"
     ]
    },
    {
     "name": "stderr",
     "output_type": "stream",
     "text": [
      "\n",
      "  8%|███████▌                                                                                     | 81/1000 [00:17<03:10,  4.82it/s]\u001b[A"
     ]
    },
    {
     "name": "stdout",
     "output_type": "stream",
     "text": [
      "distances: torch.Size([2688, 1000])\n",
      "Indexes shape:  torch.Size([2688, 8])\n",
      "Kxz: torch.Size([26880, 1000])\n",
      "kzz_inv: torch.Size([26880, 8, 8])\n",
      "indexes: torch.Size([2688, 8])\n",
      "Expanded shape torch.Size([26880, 8])\n"
     ]
    },
    {
     "name": "stderr",
     "output_type": "stream",
     "text": [
      "\n",
      "  8%|███████▋                                                                                     | 82/1000 [00:17<03:10,  4.81it/s]\u001b[A"
     ]
    },
    {
     "name": "stdout",
     "output_type": "stream",
     "text": [
      "distances: torch.Size([2688, 1000])\n",
      "Indexes shape:  torch.Size([2688, 8])\n",
      "Kxz: torch.Size([26880, 1000])\n",
      "kzz_inv: torch.Size([26880, 8, 8])\n",
      "indexes: torch.Size([2688, 8])\n",
      "Expanded shape torch.Size([26880, 8])\n"
     ]
    },
    {
     "name": "stderr",
     "output_type": "stream",
     "text": [
      "\n",
      "  8%|███████▋                                                                                     | 83/1000 [00:17<03:10,  4.82it/s]\u001b[A"
     ]
    },
    {
     "name": "stdout",
     "output_type": "stream",
     "text": [
      "distances: torch.Size([2688, 1000])\n",
      "Indexes shape:  torch.Size([2688, 8])\n",
      "Kxz: torch.Size([26880, 1000])\n",
      "kzz_inv: torch.Size([26880, 8, 8])\n",
      "indexes: torch.Size([2688, 8])\n",
      "Expanded shape torch.Size([26880, 8])\n"
     ]
    },
    {
     "name": "stderr",
     "output_type": "stream",
     "text": [
      "\n",
      "  8%|███████▊                                                                                     | 84/1000 [00:18<03:10,  4.82it/s]\u001b[A"
     ]
    },
    {
     "name": "stdout",
     "output_type": "stream",
     "text": [
      "distances: torch.Size([2688, 1000])\n",
      "Indexes shape:  torch.Size([2688, 8])\n",
      "Kxz: torch.Size([26880, 1000])\n",
      "kzz_inv: torch.Size([26880, 8, 8])\n",
      "indexes: torch.Size([2688, 8])\n",
      "Expanded shape torch.Size([26880, 8])\n"
     ]
    },
    {
     "name": "stderr",
     "output_type": "stream",
     "text": [
      "\n",
      "  8%|███████▉                                                                                     | 85/1000 [00:18<03:10,  4.81it/s]\u001b[A"
     ]
    },
    {
     "name": "stdout",
     "output_type": "stream",
     "text": [
      "distances: torch.Size([2688, 1000])\n",
      "Indexes shape:  torch.Size([2688, 8])\n",
      "Kxz: torch.Size([26880, 1000])\n",
      "kzz_inv: torch.Size([26880, 8, 8])\n",
      "indexes: torch.Size([2688, 8])\n",
      "Expanded shape torch.Size([26880, 8])\n"
     ]
    },
    {
     "name": "stderr",
     "output_type": "stream",
     "text": [
      "\n",
      "  9%|███████▉                                                                                     | 86/1000 [00:18<03:09,  4.82it/s]\u001b[A"
     ]
    },
    {
     "name": "stdout",
     "output_type": "stream",
     "text": [
      "distances: torch.Size([2688, 1000])\n",
      "Indexes shape:  torch.Size([2688, 8])\n",
      "Kxz: torch.Size([26880, 1000])\n",
      "kzz_inv: torch.Size([26880, 8, 8])\n",
      "indexes: torch.Size([2688, 8])\n",
      "Expanded shape torch.Size([26880, 8])\n"
     ]
    },
    {
     "name": "stderr",
     "output_type": "stream",
     "text": [
      "\n",
      "  9%|████████                                                                                     | 87/1000 [00:18<03:09,  4.82it/s]\u001b[A"
     ]
    },
    {
     "name": "stdout",
     "output_type": "stream",
     "text": [
      "distances: torch.Size([2688, 1000])\n",
      "Indexes shape:  torch.Size([2688, 8])\n",
      "Kxz: torch.Size([26880, 1000])\n",
      "kzz_inv: torch.Size([26880, 8, 8])\n",
      "indexes: torch.Size([2688, 8])\n",
      "Expanded shape torch.Size([26880, 8])\n"
     ]
    },
    {
     "name": "stderr",
     "output_type": "stream",
     "text": [
      "\n",
      "  9%|████████▏                                                                                    | 88/1000 [00:18<03:09,  4.82it/s]\u001b[A"
     ]
    },
    {
     "name": "stdout",
     "output_type": "stream",
     "text": [
      "distances: torch.Size([2688, 1000])\n",
      "Indexes shape:  torch.Size([2688, 8])\n",
      "Kxz: torch.Size([26880, 1000])\n",
      "kzz_inv: torch.Size([26880, 8, 8])\n",
      "indexes: torch.Size([2688, 8])\n",
      "Expanded shape torch.Size([26880, 8])\n"
     ]
    },
    {
     "name": "stderr",
     "output_type": "stream",
     "text": [
      "\n",
      "  9%|████████▎                                                                                    | 89/1000 [00:19<03:08,  4.82it/s]\u001b[A"
     ]
    },
    {
     "name": "stdout",
     "output_type": "stream",
     "text": [
      "distances: torch.Size([2688, 1000])\n",
      "Indexes shape:  torch.Size([2688, 8])\n",
      "Kxz: torch.Size([26880, 1000])\n",
      "kzz_inv: torch.Size([26880, 8, 8])\n",
      "indexes: torch.Size([2688, 8])\n",
      "Expanded shape torch.Size([26880, 8])\n"
     ]
    },
    {
     "name": "stderr",
     "output_type": "stream",
     "text": [
      "\n",
      "  9%|████████▎                                                                                    | 90/1000 [00:19<03:08,  4.82it/s]\u001b[A"
     ]
    },
    {
     "name": "stdout",
     "output_type": "stream",
     "text": [
      "distances: torch.Size([2688, 1000])\n",
      "Indexes shape:  torch.Size([2688, 8])\n",
      "Kxz: torch.Size([26880, 1000])\n",
      "kzz_inv: torch.Size([26880, 8, 8])\n",
      "indexes: torch.Size([2688, 8])\n",
      "Expanded shape torch.Size([26880, 8])\n"
     ]
    },
    {
     "name": "stderr",
     "output_type": "stream",
     "text": [
      "\n",
      "  9%|████████▍                                                                                    | 91/1000 [00:19<03:08,  4.82it/s]\u001b[A"
     ]
    },
    {
     "name": "stdout",
     "output_type": "stream",
     "text": [
      "distances: torch.Size([2688, 1000])\n",
      "Indexes shape:  torch.Size([2688, 8])\n",
      "Kxz: torch.Size([26880, 1000])\n",
      "kzz_inv: torch.Size([26880, 8, 8])\n",
      "indexes: torch.Size([2688, 8])\n",
      "Expanded shape torch.Size([26880, 8])\n"
     ]
    },
    {
     "name": "stderr",
     "output_type": "stream",
     "text": [
      "\n",
      "  9%|████████▌                                                                                    | 92/1000 [00:19<03:08,  4.82it/s]\u001b[A"
     ]
    },
    {
     "name": "stdout",
     "output_type": "stream",
     "text": [
      "distances: torch.Size([2688, 1000])\n",
      "Indexes shape:  torch.Size([2688, 8])\n",
      "Kxz: torch.Size([26880, 1000])\n",
      "kzz_inv: torch.Size([26880, 8, 8])\n",
      "indexes: torch.Size([2688, 8])\n",
      "Expanded shape torch.Size([26880, 8])\n"
     ]
    },
    {
     "name": "stderr",
     "output_type": "stream",
     "text": [
      "\n",
      "  9%|████████▋                                                                                    | 93/1000 [00:19<03:08,  4.82it/s]\u001b[A"
     ]
    },
    {
     "name": "stdout",
     "output_type": "stream",
     "text": [
      "distances: torch.Size([2688, 1000])\n",
      "Indexes shape:  torch.Size([2688, 8])\n",
      "Kxz: torch.Size([26880, 1000])\n",
      "kzz_inv: torch.Size([26880, 8, 8])\n",
      "indexes: torch.Size([2688, 8])\n",
      "Expanded shape torch.Size([26880, 8])\n"
     ]
    },
    {
     "name": "stderr",
     "output_type": "stream",
     "text": [
      "\n",
      "  9%|████████▋                                                                                    | 94/1000 [00:20<03:07,  4.82it/s]\u001b[A"
     ]
    },
    {
     "name": "stdout",
     "output_type": "stream",
     "text": [
      "distances: torch.Size([2688, 1000])\n",
      "Indexes shape:  torch.Size([2688, 8])\n",
      "Kxz: torch.Size([26880, 1000])\n",
      "kzz_inv: torch.Size([26880, 8, 8])\n",
      "indexes: torch.Size([2688, 8])\n",
      "Expanded shape torch.Size([26880, 8])\n"
     ]
    },
    {
     "name": "stderr",
     "output_type": "stream",
     "text": [
      "\n",
      " 10%|████████▊                                                                                    | 95/1000 [00:20<03:07,  4.82it/s]\u001b[A"
     ]
    },
    {
     "name": "stdout",
     "output_type": "stream",
     "text": [
      "distances: torch.Size([2688, 1000])\n",
      "Indexes shape:  torch.Size([2688, 8])\n",
      "Kxz: torch.Size([26880, 1000])\n",
      "kzz_inv: torch.Size([26880, 8, 8])\n",
      "indexes: torch.Size([2688, 8])\n",
      "Expanded shape torch.Size([26880, 8])\n"
     ]
    },
    {
     "name": "stderr",
     "output_type": "stream",
     "text": [
      "\n",
      " 10%|████████▉                                                                                    | 96/1000 [00:20<03:07,  4.82it/s]\u001b[A"
     ]
    },
    {
     "name": "stdout",
     "output_type": "stream",
     "text": [
      "distances: torch.Size([2688, 1000])\n",
      "Indexes shape:  torch.Size([2688, 8])\n",
      "Kxz: torch.Size([26880, 1000])\n",
      "kzz_inv: torch.Size([26880, 8, 8])\n",
      "indexes: torch.Size([2688, 8])\n",
      "Expanded shape torch.Size([26880, 8])\n"
     ]
    },
    {
     "name": "stderr",
     "output_type": "stream",
     "text": [
      "\n",
      " 10%|█████████                                                                                    | 97/1000 [00:20<03:07,  4.82it/s]\u001b[A"
     ]
    },
    {
     "name": "stdout",
     "output_type": "stream",
     "text": [
      "distances: torch.Size([2688, 1000])\n",
      "Indexes shape:  torch.Size([2688, 8])\n",
      "Kxz: torch.Size([26880, 1000])\n",
      "kzz_inv: torch.Size([26880, 8, 8])\n",
      "indexes: torch.Size([2688, 8])\n",
      "Expanded shape torch.Size([26880, 8])\n"
     ]
    },
    {
     "name": "stderr",
     "output_type": "stream",
     "text": [
      "\n",
      " 10%|█████████                                                                                    | 98/1000 [00:20<03:06,  4.82it/s]\u001b[A"
     ]
    },
    {
     "name": "stdout",
     "output_type": "stream",
     "text": [
      "distances: torch.Size([2688, 1000])\n",
      "Indexes shape:  torch.Size([2688, 8])\n",
      "Kxz: torch.Size([26880, 1000])\n",
      "kzz_inv: torch.Size([26880, 8, 8])\n",
      "indexes: torch.Size([2688, 8])\n",
      "Expanded shape torch.Size([26880, 8])\n"
     ]
    },
    {
     "name": "stderr",
     "output_type": "stream",
     "text": [
      "\n",
      " 10%|█████████▏                                                                                   | 99/1000 [00:21<03:06,  4.82it/s]\u001b[A"
     ]
    },
    {
     "name": "stdout",
     "output_type": "stream",
     "text": [
      "distances: torch.Size([2688, 1000])\n",
      "Indexes shape:  torch.Size([2688, 8])\n",
      "Kxz: torch.Size([26880, 1000])\n",
      "kzz_inv: torch.Size([26880, 8, 8])\n",
      "indexes: torch.Size([2688, 8])\n",
      "Expanded shape torch.Size([26880, 8])\n"
     ]
    },
    {
     "name": "stderr",
     "output_type": "stream",
     "text": [
      "\n",
      " 10%|█████████▏                                                                                  | 100/1000 [00:21<03:06,  4.82it/s]\u001b[A"
     ]
    },
    {
     "name": "stdout",
     "output_type": "stream",
     "text": [
      "distances: torch.Size([2688, 1000])\n",
      "Indexes shape:  torch.Size([2688, 8])\n",
      "Kxz: torch.Size([26880, 1000])\n",
      "kzz_inv: torch.Size([26880, 8, 8])\n",
      "indexes: torch.Size([2688, 8])\n",
      "Expanded shape torch.Size([26880, 8])\n"
     ]
    },
    {
     "name": "stderr",
     "output_type": "stream",
     "text": [
      "\n",
      " 10%|█████████▎                                                                                  | 101/1000 [00:21<03:06,  4.82it/s]\u001b[A"
     ]
    },
    {
     "name": "stdout",
     "output_type": "stream",
     "text": [
      "distances: torch.Size([2688, 1000])\n",
      "Indexes shape:  torch.Size([2688, 8])\n",
      "Kxz: torch.Size([26880, 1000])\n",
      "kzz_inv: torch.Size([26880, 8, 8])\n",
      "indexes: torch.Size([2688, 8])\n",
      "Expanded shape torch.Size([26880, 8])\n"
     ]
    },
    {
     "name": "stderr",
     "output_type": "stream",
     "text": [
      "\n",
      " 10%|█████████▍                                                                                  | 102/1000 [00:21<03:06,  4.82it/s]\u001b[A"
     ]
    },
    {
     "name": "stdout",
     "output_type": "stream",
     "text": [
      "distances: torch.Size([2688, 1000])\n",
      "Indexes shape:  torch.Size([2688, 8])\n",
      "Kxz: torch.Size([26880, 1000])\n",
      "kzz_inv: torch.Size([26880, 8, 8])\n",
      "indexes: torch.Size([2688, 8])\n",
      "Expanded shape torch.Size([26880, 8])\n"
     ]
    },
    {
     "name": "stderr",
     "output_type": "stream",
     "text": [
      "\n",
      " 10%|█████████▍                                                                                  | 103/1000 [00:21<03:06,  4.82it/s]\u001b[A"
     ]
    },
    {
     "name": "stdout",
     "output_type": "stream",
     "text": [
      "distances: torch.Size([2688, 1000])\n",
      "Indexes shape:  torch.Size([2688, 8])\n",
      "Kxz: torch.Size([26880, 1000])\n",
      "kzz_inv: torch.Size([26880, 8, 8])\n",
      "indexes: torch.Size([2688, 8])\n",
      "Expanded shape torch.Size([26880, 8])\n"
     ]
    },
    {
     "name": "stderr",
     "output_type": "stream",
     "text": [
      "\n",
      " 10%|█████████▌                                                                                  | 104/1000 [00:22<03:05,  4.82it/s]\u001b[A"
     ]
    },
    {
     "name": "stdout",
     "output_type": "stream",
     "text": [
      "distances: torch.Size([2688, 1000])\n",
      "Indexes shape:  torch.Size([2688, 8])\n",
      "Kxz: torch.Size([26880, 1000])\n",
      "kzz_inv: torch.Size([26880, 8, 8])\n",
      "indexes: torch.Size([2688, 8])\n",
      "Expanded shape torch.Size([26880, 8])\n"
     ]
    },
    {
     "name": "stderr",
     "output_type": "stream",
     "text": [
      "\n",
      " 10%|█████████▋                                                                                  | 105/1000 [00:22<03:05,  4.82it/s]\u001b[A"
     ]
    },
    {
     "name": "stdout",
     "output_type": "stream",
     "text": [
      "distances: torch.Size([2688, 1000])\n",
      "Indexes shape:  torch.Size([2688, 8])\n",
      "Kxz: torch.Size([26880, 1000])\n",
      "kzz_inv: torch.Size([26880, 8, 8])\n",
      "indexes: torch.Size([2688, 8])\n",
      "Expanded shape torch.Size([26880, 8])\n"
     ]
    },
    {
     "name": "stderr",
     "output_type": "stream",
     "text": [
      "\n",
      " 11%|█████████▊                                                                                  | 106/1000 [00:22<03:05,  4.82it/s]\u001b[A"
     ]
    },
    {
     "name": "stdout",
     "output_type": "stream",
     "text": [
      "distances: torch.Size([2688, 1000])\n",
      "Indexes shape:  torch.Size([2688, 8])\n",
      "Kxz: torch.Size([26880, 1000])\n",
      "kzz_inv: torch.Size([26880, 8, 8])\n",
      "indexes: torch.Size([2688, 8])\n",
      "Expanded shape torch.Size([26880, 8])\n"
     ]
    },
    {
     "name": "stderr",
     "output_type": "stream",
     "text": [
      "\n",
      " 11%|█████████▊                                                                                  | 107/1000 [00:22<03:05,  4.82it/s]\u001b[A"
     ]
    },
    {
     "name": "stdout",
     "output_type": "stream",
     "text": [
      "distances: torch.Size([2688, 1000])\n",
      "Indexes shape:  torch.Size([2688, 8])\n",
      "Kxz: torch.Size([26880, 1000])\n",
      "kzz_inv: torch.Size([26880, 8, 8])\n",
      "indexes: torch.Size([2688, 8])\n",
      "Expanded shape torch.Size([26880, 8])\n"
     ]
    },
    {
     "name": "stderr",
     "output_type": "stream",
     "text": [
      "\n",
      " 11%|█████████▉                                                                                  | 108/1000 [00:23<03:04,  4.82it/s]\u001b[A"
     ]
    },
    {
     "name": "stdout",
     "output_type": "stream",
     "text": [
      "distances: torch.Size([2688, 1000])\n",
      "Indexes shape:  torch.Size([2688, 8])\n",
      "Kxz: torch.Size([26880, 1000])\n",
      "kzz_inv: torch.Size([26880, 8, 8])\n",
      "indexes: torch.Size([2688, 8])\n",
      "Expanded shape torch.Size([26880, 8])\n"
     ]
    },
    {
     "name": "stderr",
     "output_type": "stream",
     "text": [
      "\n",
      " 11%|██████████                                                                                  | 109/1000 [00:23<03:04,  4.82it/s]\u001b[A"
     ]
    },
    {
     "name": "stdout",
     "output_type": "stream",
     "text": [
      "distances: torch.Size([2688, 1000])\n",
      "Indexes shape:  torch.Size([2688, 8])\n",
      "Kxz: torch.Size([26880, 1000])\n",
      "kzz_inv: torch.Size([26880, 8, 8])\n",
      "indexes: torch.Size([2688, 8])\n",
      "Expanded shape torch.Size([26880, 8])\n"
     ]
    },
    {
     "name": "stderr",
     "output_type": "stream",
     "text": [
      "\n",
      " 11%|██████████                                                                                  | 110/1000 [00:23<03:04,  4.82it/s]\u001b[A"
     ]
    },
    {
     "name": "stdout",
     "output_type": "stream",
     "text": [
      "distances: torch.Size([2688, 1000])\n",
      "Indexes shape:  torch.Size([2688, 8])\n",
      "Kxz: torch.Size([26880, 1000])\n",
      "kzz_inv: torch.Size([26880, 8, 8])\n",
      "indexes: torch.Size([2688, 8])\n",
      "Expanded shape torch.Size([26880, 8])\n"
     ]
    },
    {
     "name": "stderr",
     "output_type": "stream",
     "text": [
      "\n",
      " 11%|██████████▏                                                                                 | 111/1000 [00:23<03:04,  4.82it/s]\u001b[A"
     ]
    },
    {
     "name": "stdout",
     "output_type": "stream",
     "text": [
      "distances: torch.Size([2688, 1000])\n",
      "Indexes shape:  torch.Size([2688, 8])\n",
      "Kxz: torch.Size([26880, 1000])\n",
      "kzz_inv: torch.Size([26880, 8, 8])\n",
      "indexes: torch.Size([2688, 8])\n",
      "Expanded shape torch.Size([26880, 8])\n"
     ]
    },
    {
     "name": "stderr",
     "output_type": "stream",
     "text": [
      "\n",
      " 11%|██████████▎                                                                                 | 112/1000 [00:23<03:04,  4.82it/s]\u001b[A"
     ]
    },
    {
     "name": "stdout",
     "output_type": "stream",
     "text": [
      "distances: torch.Size([2688, 1000])\n",
      "Indexes shape:  torch.Size([2688, 8])\n",
      "Kxz: torch.Size([26880, 1000])\n",
      "kzz_inv: torch.Size([26880, 8, 8])\n",
      "indexes: torch.Size([2688, 8])\n",
      "Expanded shape torch.Size([26880, 8])\n"
     ]
    },
    {
     "name": "stderr",
     "output_type": "stream",
     "text": [
      "\n",
      " 11%|██████████▍                                                                                 | 113/1000 [00:24<03:03,  4.82it/s]\u001b[A"
     ]
    },
    {
     "name": "stdout",
     "output_type": "stream",
     "text": [
      "distances: torch.Size([2688, 1000])\n",
      "Indexes shape:  torch.Size([2688, 8])\n",
      "Kxz: torch.Size([26880, 1000])\n",
      "kzz_inv: torch.Size([26880, 8, 8])\n",
      "indexes: torch.Size([2688, 8])\n",
      "Expanded shape torch.Size([26880, 8])\n"
     ]
    },
    {
     "name": "stderr",
     "output_type": "stream",
     "text": [
      "\n",
      " 11%|██████████▍                                                                                 | 114/1000 [00:24<03:03,  4.82it/s]\u001b[A"
     ]
    },
    {
     "name": "stdout",
     "output_type": "stream",
     "text": [
      "distances: torch.Size([2688, 1000])\n",
      "Indexes shape:  torch.Size([2688, 8])\n",
      "Kxz: torch.Size([26880, 1000])\n",
      "kzz_inv: torch.Size([26880, 8, 8])\n",
      "indexes: torch.Size([2688, 8])\n",
      "Expanded shape torch.Size([26880, 8])\n"
     ]
    },
    {
     "name": "stderr",
     "output_type": "stream",
     "text": [
      "\n",
      " 12%|██████████▌                                                                                 | 115/1000 [00:24<03:03,  4.82it/s]\u001b[A"
     ]
    },
    {
     "name": "stdout",
     "output_type": "stream",
     "text": [
      "distances: torch.Size([2688, 1000])\n",
      "Indexes shape:  torch.Size([2688, 8])\n",
      "Kxz: torch.Size([26880, 1000])\n",
      "kzz_inv: torch.Size([26880, 8, 8])\n",
      "indexes: torch.Size([2688, 8])\n",
      "Expanded shape torch.Size([26880, 8])\n"
     ]
    },
    {
     "name": "stderr",
     "output_type": "stream",
     "text": [
      "\n",
      " 12%|██████████▋                                                                                 | 116/1000 [00:24<03:03,  4.82it/s]\u001b[A"
     ]
    },
    {
     "name": "stdout",
     "output_type": "stream",
     "text": [
      "distances: torch.Size([2688, 1000])\n",
      "Indexes shape:  torch.Size([2688, 8])\n",
      "Kxz: torch.Size([26880, 1000])\n",
      "kzz_inv: torch.Size([26880, 8, 8])\n",
      "indexes: torch.Size([2688, 8])\n",
      "Expanded shape torch.Size([26880, 8])\n"
     ]
    },
    {
     "name": "stderr",
     "output_type": "stream",
     "text": [
      "\n",
      " 12%|██████████▊                                                                                 | 117/1000 [00:24<03:03,  4.82it/s]\u001b[A"
     ]
    },
    {
     "name": "stdout",
     "output_type": "stream",
     "text": [
      "distances: torch.Size([2688, 1000])\n",
      "Indexes shape:  torch.Size([2688, 8])\n",
      "Kxz: torch.Size([26880, 1000])\n",
      "kzz_inv: torch.Size([26880, 8, 8])\n",
      "indexes: torch.Size([2688, 8])\n",
      "Expanded shape torch.Size([26880, 8])\n"
     ]
    },
    {
     "name": "stderr",
     "output_type": "stream",
     "text": [
      "\n",
      " 12%|██████████▊                                                                                 | 118/1000 [00:25<03:02,  4.82it/s]\u001b[A"
     ]
    },
    {
     "name": "stdout",
     "output_type": "stream",
     "text": [
      "distances: torch.Size([2688, 1000])\n",
      "Indexes shape:  torch.Size([2688, 8])\n",
      "Kxz: torch.Size([26880, 1000])\n",
      "kzz_inv: torch.Size([26880, 8, 8])\n",
      "indexes: torch.Size([2688, 8])\n",
      "Expanded shape torch.Size([26880, 8])\n"
     ]
    },
    {
     "name": "stderr",
     "output_type": "stream",
     "text": [
      "\n",
      " 12%|██████████▉                                                                                 | 119/1000 [00:25<03:02,  4.82it/s]\u001b[A"
     ]
    },
    {
     "name": "stdout",
     "output_type": "stream",
     "text": [
      "distances: torch.Size([2688, 1000])\n",
      "Indexes shape:  torch.Size([2688, 8])\n",
      "Kxz: torch.Size([26880, 1000])\n",
      "kzz_inv: torch.Size([26880, 8, 8])\n",
      "indexes: torch.Size([2688, 8])\n",
      "Expanded shape torch.Size([26880, 8])\n"
     ]
    },
    {
     "name": "stderr",
     "output_type": "stream",
     "text": [
      "\n",
      " 12%|███████████                                                                                 | 120/1000 [00:25<03:02,  4.82it/s]\u001b[A"
     ]
    },
    {
     "name": "stdout",
     "output_type": "stream",
     "text": [
      "distances: torch.Size([2688, 1000])\n",
      "Indexes shape:  torch.Size([2688, 8])\n",
      "Kxz: torch.Size([26880, 1000])\n",
      "kzz_inv: torch.Size([26880, 8, 8])\n",
      "indexes: torch.Size([2688, 8])\n",
      "Expanded shape torch.Size([26880, 8])\n"
     ]
    },
    {
     "name": "stderr",
     "output_type": "stream",
     "text": [
      "\n",
      " 12%|███████████▏                                                                                | 121/1000 [00:25<03:02,  4.82it/s]\u001b[A"
     ]
    },
    {
     "name": "stdout",
     "output_type": "stream",
     "text": [
      "distances: torch.Size([2688, 1000])\n",
      "Indexes shape:  torch.Size([2688, 8])\n",
      "Kxz: torch.Size([26880, 1000])\n",
      "kzz_inv: torch.Size([26880, 8, 8])\n",
      "indexes: torch.Size([2688, 8])\n",
      "Expanded shape torch.Size([26880, 8])\n"
     ]
    },
    {
     "name": "stderr",
     "output_type": "stream",
     "text": [
      "\n",
      " 12%|███████████▏                                                                                | 122/1000 [00:25<03:02,  4.82it/s]\u001b[A"
     ]
    },
    {
     "name": "stdout",
     "output_type": "stream",
     "text": [
      "distances: torch.Size([2688, 1000])\n",
      "Indexes shape:  torch.Size([2688, 8])\n",
      "Kxz: torch.Size([26880, 1000])\n",
      "kzz_inv: torch.Size([26880, 8, 8])\n",
      "indexes: torch.Size([2688, 8])\n",
      "Expanded shape torch.Size([26880, 8])\n"
     ]
    },
    {
     "name": "stderr",
     "output_type": "stream",
     "text": [
      "\n",
      " 12%|███████████▎                                                                                | 123/1000 [00:26<03:02,  4.82it/s]\u001b[A"
     ]
    },
    {
     "name": "stdout",
     "output_type": "stream",
     "text": [
      "distances: torch.Size([2688, 1000])\n",
      "Indexes shape:  torch.Size([2688, 8])\n",
      "Kxz: torch.Size([26880, 1000])\n",
      "kzz_inv: torch.Size([26880, 8, 8])\n",
      "indexes: torch.Size([2688, 8])\n",
      "Expanded shape torch.Size([26880, 8])\n"
     ]
    },
    {
     "name": "stderr",
     "output_type": "stream",
     "text": [
      "\n",
      " 12%|███████████▍                                                                                | 124/1000 [00:26<03:01,  4.82it/s]\u001b[A"
     ]
    },
    {
     "name": "stdout",
     "output_type": "stream",
     "text": [
      "distances: torch.Size([2688, 1000])\n",
      "Indexes shape:  torch.Size([2688, 8])\n",
      "Kxz: torch.Size([26880, 1000])\n",
      "kzz_inv: torch.Size([26880, 8, 8])\n",
      "indexes: torch.Size([2688, 8])\n",
      "Expanded shape torch.Size([26880, 8])\n"
     ]
    },
    {
     "name": "stderr",
     "output_type": "stream",
     "text": [
      "\n",
      " 12%|███████████▌                                                                                | 125/1000 [00:26<03:01,  4.82it/s]\u001b[A"
     ]
    },
    {
     "name": "stdout",
     "output_type": "stream",
     "text": [
      "distances: torch.Size([2688, 1000])\n",
      "Indexes shape:  torch.Size([2688, 8])\n",
      "Kxz: torch.Size([26880, 1000])\n",
      "kzz_inv: torch.Size([26880, 8, 8])\n",
      "indexes: torch.Size([2688, 8])\n",
      "Expanded shape torch.Size([26880, 8])\n"
     ]
    },
    {
     "name": "stderr",
     "output_type": "stream",
     "text": [
      "\n",
      " 13%|███████████▌                                                                                | 126/1000 [00:26<03:01,  4.82it/s]\u001b[A"
     ]
    },
    {
     "name": "stdout",
     "output_type": "stream",
     "text": [
      "distances: torch.Size([2688, 1000])\n",
      "Indexes shape:  torch.Size([2688, 8])\n",
      "Kxz: torch.Size([26880, 1000])\n",
      "kzz_inv: torch.Size([26880, 8, 8])\n",
      "indexes: torch.Size([2688, 8])\n",
      "Expanded shape torch.Size([26880, 8])\n"
     ]
    },
    {
     "name": "stderr",
     "output_type": "stream",
     "text": [
      "\n",
      " 13%|███████████▋                                                                                | 127/1000 [00:26<03:01,  4.82it/s]\u001b[A"
     ]
    },
    {
     "name": "stdout",
     "output_type": "stream",
     "text": [
      "distances: torch.Size([2688, 1000])\n",
      "Indexes shape:  torch.Size([2688, 8])\n",
      "Kxz: torch.Size([26880, 1000])\n",
      "kzz_inv: torch.Size([26880, 8, 8])\n",
      "indexes: torch.Size([2688, 8])\n",
      "Expanded shape torch.Size([26880, 8])\n"
     ]
    },
    {
     "name": "stderr",
     "output_type": "stream",
     "text": [
      "\n",
      " 13%|███████████▊                                                                                | 128/1000 [00:27<03:00,  4.82it/s]\u001b[A"
     ]
    },
    {
     "name": "stdout",
     "output_type": "stream",
     "text": [
      "distances: torch.Size([2688, 1000])\n",
      "Indexes shape:  torch.Size([2688, 8])\n",
      "Kxz: torch.Size([26880, 1000])\n",
      "kzz_inv: torch.Size([26880, 8, 8])\n",
      "indexes: torch.Size([2688, 8])\n",
      "Expanded shape torch.Size([26880, 8])\n"
     ]
    },
    {
     "name": "stderr",
     "output_type": "stream",
     "text": [
      "\n",
      " 13%|███████████▊                                                                                | 129/1000 [00:27<03:00,  4.82it/s]\u001b[A"
     ]
    },
    {
     "name": "stdout",
     "output_type": "stream",
     "text": [
      "distances: torch.Size([2688, 1000])\n",
      "Indexes shape:  torch.Size([2688, 8])\n",
      "Kxz: torch.Size([26880, 1000])\n",
      "kzz_inv: torch.Size([26880, 8, 8])\n",
      "indexes: torch.Size([2688, 8])\n",
      "Expanded shape torch.Size([26880, 8])\n"
     ]
    },
    {
     "name": "stderr",
     "output_type": "stream",
     "text": [
      "\n",
      " 13%|███████████▉                                                                                | 130/1000 [00:27<03:00,  4.82it/s]\u001b[A"
     ]
    },
    {
     "name": "stdout",
     "output_type": "stream",
     "text": [
      "distances: torch.Size([2688, 1000])\n",
      "Indexes shape:  torch.Size([2688, 8])\n",
      "Kxz: torch.Size([26880, 1000])\n",
      "kzz_inv: torch.Size([26880, 8, 8])\n",
      "indexes: torch.Size([2688, 8])\n",
      "Expanded shape torch.Size([26880, 8])\n"
     ]
    },
    {
     "name": "stderr",
     "output_type": "stream",
     "text": [
      "\n",
      " 13%|████████████                                                                                | 131/1000 [00:27<03:00,  4.82it/s]\u001b[A"
     ]
    },
    {
     "name": "stdout",
     "output_type": "stream",
     "text": [
      "distances: torch.Size([2688, 1000])\n",
      "Indexes shape:  torch.Size([2688, 8])\n",
      "Kxz: torch.Size([26880, 1000])\n",
      "kzz_inv: torch.Size([26880, 8, 8])\n",
      "indexes: torch.Size([2688, 8])\n",
      "Expanded shape torch.Size([26880, 8])\n"
     ]
    },
    {
     "name": "stderr",
     "output_type": "stream",
     "text": [
      "\n",
      " 13%|████████████▏                                                                               | 132/1000 [00:27<03:00,  4.82it/s]\u001b[A"
     ]
    },
    {
     "name": "stdout",
     "output_type": "stream",
     "text": [
      "distances: torch.Size([2688, 1000])\n",
      "Indexes shape:  torch.Size([2688, 8])\n",
      "Kxz: torch.Size([26880, 1000])\n",
      "kzz_inv: torch.Size([26880, 8, 8])\n",
      "indexes: torch.Size([2688, 8])\n",
      "Expanded shape torch.Size([26880, 8])\n"
     ]
    },
    {
     "name": "stderr",
     "output_type": "stream",
     "text": [
      "\n",
      " 13%|████████████▏                                                                               | 133/1000 [00:28<02:59,  4.82it/s]\u001b[A"
     ]
    },
    {
     "name": "stdout",
     "output_type": "stream",
     "text": [
      "distances: torch.Size([2688, 1000])\n",
      "Indexes shape:  torch.Size([2688, 8])\n",
      "Kxz: torch.Size([26880, 1000])\n",
      "kzz_inv: torch.Size([26880, 8, 8])\n",
      "indexes: torch.Size([2688, 8])\n",
      "Expanded shape torch.Size([26880, 8])\n"
     ]
    },
    {
     "name": "stderr",
     "output_type": "stream",
     "text": [
      "\n",
      " 13%|████████████▎                                                                               | 134/1000 [00:28<02:59,  4.82it/s]\u001b[A"
     ]
    },
    {
     "name": "stdout",
     "output_type": "stream",
     "text": [
      "distances: torch.Size([2688, 1000])\n",
      "Indexes shape:  torch.Size([2688, 8])\n",
      "Kxz: torch.Size([26880, 1000])\n",
      "kzz_inv: torch.Size([26880, 8, 8])\n",
      "indexes: torch.Size([2688, 8])\n",
      "Expanded shape torch.Size([26880, 8])\n"
     ]
    },
    {
     "name": "stderr",
     "output_type": "stream",
     "text": [
      "\n",
      " 14%|████████████▍                                                                               | 135/1000 [00:28<02:59,  4.82it/s]\u001b[A"
     ]
    },
    {
     "name": "stdout",
     "output_type": "stream",
     "text": [
      "distances: torch.Size([2688, 1000])\n",
      "Indexes shape:  torch.Size([2688, 8])\n",
      "Kxz: torch.Size([26880, 1000])\n",
      "kzz_inv: torch.Size([26880, 8, 8])\n",
      "indexes: torch.Size([2688, 8])\n",
      "Expanded shape torch.Size([26880, 8])\n"
     ]
    },
    {
     "name": "stderr",
     "output_type": "stream",
     "text": [
      "\n",
      " 14%|████████████▌                                                                               | 136/1000 [00:28<02:59,  4.82it/s]\u001b[A"
     ]
    },
    {
     "name": "stdout",
     "output_type": "stream",
     "text": [
      "distances: torch.Size([2688, 1000])\n",
      "Indexes shape:  torch.Size([2688, 8])\n",
      "Kxz: torch.Size([26880, 1000])\n",
      "kzz_inv: torch.Size([26880, 8, 8])\n",
      "indexes: torch.Size([2688, 8])\n",
      "Expanded shape torch.Size([26880, 8])\n"
     ]
    },
    {
     "name": "stderr",
     "output_type": "stream",
     "text": [
      "\n",
      " 14%|████████████▌                                                                               | 137/1000 [00:29<02:59,  4.82it/s]\u001b[A"
     ]
    },
    {
     "name": "stdout",
     "output_type": "stream",
     "text": [
      "distances: torch.Size([2688, 1000])\n",
      "Indexes shape:  torch.Size([2688, 8])\n",
      "Kxz: torch.Size([26880, 1000])\n",
      "kzz_inv: torch.Size([26880, 8, 8])\n",
      "indexes: torch.Size([2688, 8])\n",
      "Expanded shape torch.Size([26880, 8])\n"
     ]
    },
    {
     "name": "stderr",
     "output_type": "stream",
     "text": [
      "\n",
      " 14%|████████████▋                                                                               | 138/1000 [00:29<02:58,  4.82it/s]\u001b[A"
     ]
    },
    {
     "name": "stdout",
     "output_type": "stream",
     "text": [
      "distances: torch.Size([2688, 1000])\n",
      "Indexes shape:  torch.Size([2688, 8])\n",
      "Kxz: torch.Size([26880, 1000])\n",
      "kzz_inv: torch.Size([26880, 8, 8])\n",
      "indexes: torch.Size([2688, 8])\n",
      "Expanded shape torch.Size([26880, 8])\n"
     ]
    },
    {
     "name": "stderr",
     "output_type": "stream",
     "text": [
      "\n",
      " 14%|████████████▊                                                                               | 139/1000 [00:29<02:58,  4.82it/s]\u001b[A"
     ]
    },
    {
     "name": "stdout",
     "output_type": "stream",
     "text": [
      "distances: torch.Size([2688, 1000])\n",
      "Indexes shape:  torch.Size([2688, 8])\n",
      "Kxz: torch.Size([26880, 1000])\n",
      "kzz_inv: torch.Size([26880, 8, 8])\n",
      "indexes: torch.Size([2688, 8])\n",
      "Expanded shape torch.Size([26880, 8])\n"
     ]
    },
    {
     "name": "stderr",
     "output_type": "stream",
     "text": [
      "\n",
      " 14%|████████████▉                                                                               | 140/1000 [00:29<02:58,  4.82it/s]\u001b[A"
     ]
    },
    {
     "name": "stdout",
     "output_type": "stream",
     "text": [
      "distances: torch.Size([2688, 1000])\n",
      "Indexes shape:  torch.Size([2688, 8])\n",
      "Kxz: torch.Size([26880, 1000])\n",
      "kzz_inv: torch.Size([26880, 8, 8])\n",
      "indexes: torch.Size([2688, 8])\n",
      "Expanded shape torch.Size([26880, 8])\n"
     ]
    },
    {
     "name": "stderr",
     "output_type": "stream",
     "text": [
      "\n",
      " 14%|████████████▉                                                                               | 141/1000 [00:29<02:58,  4.82it/s]\u001b[A"
     ]
    },
    {
     "name": "stdout",
     "output_type": "stream",
     "text": [
      "distances: torch.Size([2688, 1000])\n",
      "Indexes shape:  torch.Size([2688, 8])\n",
      "Kxz: torch.Size([26880, 1000])\n",
      "kzz_inv: torch.Size([26880, 8, 8])\n",
      "indexes: torch.Size([2688, 8])\n",
      "Expanded shape torch.Size([26880, 8])\n"
     ]
    },
    {
     "name": "stderr",
     "output_type": "stream",
     "text": [
      "\n",
      " 14%|█████████████                                                                               | 142/1000 [00:30<02:57,  4.82it/s]\u001b[A"
     ]
    },
    {
     "name": "stdout",
     "output_type": "stream",
     "text": [
      "distances: torch.Size([2688, 1000])\n",
      "Indexes shape:  torch.Size([2688, 8])\n",
      "Kxz: torch.Size([26880, 1000])\n",
      "kzz_inv: torch.Size([26880, 8, 8])\n",
      "indexes: torch.Size([2688, 8])\n",
      "Expanded shape torch.Size([26880, 8])\n"
     ]
    },
    {
     "name": "stderr",
     "output_type": "stream",
     "text": [
      "\n",
      " 14%|█████████████▏                                                                              | 143/1000 [00:30<02:57,  4.82it/s]\u001b[A"
     ]
    },
    {
     "name": "stdout",
     "output_type": "stream",
     "text": [
      "distances: torch.Size([2688, 1000])\n",
      "Indexes shape:  torch.Size([2688, 8])\n",
      "Kxz: torch.Size([26880, 1000])\n",
      "kzz_inv: torch.Size([26880, 8, 8])\n",
      "indexes: torch.Size([2688, 8])\n",
      "Expanded shape torch.Size([26880, 8])\n"
     ]
    },
    {
     "name": "stderr",
     "output_type": "stream",
     "text": [
      "\n",
      " 14%|█████████████▏                                                                              | 144/1000 [00:30<02:57,  4.82it/s]\u001b[A"
     ]
    },
    {
     "name": "stdout",
     "output_type": "stream",
     "text": [
      "distances: torch.Size([2688, 1000])\n",
      "Indexes shape:  torch.Size([2688, 8])\n",
      "Kxz: torch.Size([26880, 1000])\n",
      "kzz_inv: torch.Size([26880, 8, 8])\n",
      "indexes: torch.Size([2688, 8])\n",
      "Expanded shape torch.Size([26880, 8])\n"
     ]
    },
    {
     "name": "stderr",
     "output_type": "stream",
     "text": [
      "\n",
      " 14%|█████████████▎                                                                              | 145/1000 [00:30<02:57,  4.82it/s]\u001b[A"
     ]
    },
    {
     "name": "stdout",
     "output_type": "stream",
     "text": [
      "distances: torch.Size([2688, 1000])\n",
      "Indexes shape:  torch.Size([2688, 8])\n",
      "Kxz: torch.Size([26880, 1000])\n",
      "kzz_inv: torch.Size([26880, 8, 8])\n",
      "indexes: torch.Size([2688, 8])\n",
      "Expanded shape torch.Size([26880, 8])\n"
     ]
    },
    {
     "name": "stderr",
     "output_type": "stream",
     "text": [
      "\n",
      " 15%|█████████████▍                                                                              | 146/1000 [00:30<02:57,  4.82it/s]\u001b[A"
     ]
    },
    {
     "name": "stdout",
     "output_type": "stream",
     "text": [
      "distances: torch.Size([2688, 1000])\n",
      "Indexes shape:  torch.Size([2688, 8])\n",
      "Kxz: torch.Size([26880, 1000])\n",
      "kzz_inv: torch.Size([26880, 8, 8])\n",
      "indexes: torch.Size([2688, 8])\n",
      "Expanded shape torch.Size([26880, 8])\n"
     ]
    },
    {
     "name": "stderr",
     "output_type": "stream",
     "text": [
      "\n",
      " 15%|█████████████▌                                                                              | 147/1000 [00:31<02:56,  4.82it/s]\u001b[A"
     ]
    },
    {
     "name": "stdout",
     "output_type": "stream",
     "text": [
      "distances: torch.Size([2688, 1000])\n",
      "Indexes shape:  torch.Size([2688, 8])\n",
      "Kxz: torch.Size([26880, 1000])\n",
      "kzz_inv: torch.Size([26880, 8, 8])\n",
      "indexes: torch.Size([2688, 8])\n",
      "Expanded shape torch.Size([26880, 8])\n"
     ]
    },
    {
     "name": "stderr",
     "output_type": "stream",
     "text": [
      "\n",
      " 15%|█████████████▌                                                                              | 148/1000 [00:31<02:56,  4.82it/s]\u001b[A"
     ]
    },
    {
     "name": "stdout",
     "output_type": "stream",
     "text": [
      "distances: torch.Size([2688, 1000])\n",
      "Indexes shape:  torch.Size([2688, 8])\n",
      "Kxz: torch.Size([26880, 1000])\n",
      "kzz_inv: torch.Size([26880, 8, 8])\n",
      "indexes: torch.Size([2688, 8])\n",
      "Expanded shape torch.Size([26880, 8])\n"
     ]
    },
    {
     "name": "stderr",
     "output_type": "stream",
     "text": [
      "\n",
      " 15%|█████████████▋                                                                              | 149/1000 [00:31<02:56,  4.82it/s]\u001b[A"
     ]
    },
    {
     "name": "stdout",
     "output_type": "stream",
     "text": [
      "distances: torch.Size([2688, 1000])\n",
      "Indexes shape:  torch.Size([2688, 8])\n",
      "Kxz: torch.Size([26880, 1000])\n",
      "kzz_inv: torch.Size([26880, 8, 8])\n",
      "indexes: torch.Size([2688, 8])\n",
      "Expanded shape torch.Size([26880, 8])\n"
     ]
    },
    {
     "name": "stderr",
     "output_type": "stream",
     "text": [
      "\n",
      " 15%|█████████████▊                                                                              | 150/1000 [00:31<02:56,  4.82it/s]\u001b[A"
     ]
    },
    {
     "name": "stdout",
     "output_type": "stream",
     "text": [
      "distances: torch.Size([2688, 1000])\n",
      "Indexes shape:  torch.Size([2688, 8])\n",
      "Kxz: torch.Size([26880, 1000])\n",
      "kzz_inv: torch.Size([26880, 8, 8])\n",
      "indexes: torch.Size([2688, 8])\n",
      "Expanded shape torch.Size([26880, 8])\n"
     ]
    },
    {
     "name": "stderr",
     "output_type": "stream",
     "text": [
      "\n",
      " 15%|█████████████▉                                                                              | 151/1000 [00:31<02:56,  4.82it/s]\u001b[A"
     ]
    },
    {
     "name": "stdout",
     "output_type": "stream",
     "text": [
      "distances: torch.Size([2688, 1000])\n",
      "Indexes shape:  torch.Size([2688, 8])\n",
      "Kxz: torch.Size([26880, 1000])\n",
      "kzz_inv: torch.Size([26880, 8, 8])\n",
      "indexes: torch.Size([2688, 8])\n",
      "Expanded shape torch.Size([26880, 8])\n"
     ]
    },
    {
     "name": "stderr",
     "output_type": "stream",
     "text": [
      "\n",
      " 15%|█████████████▉                                                                              | 152/1000 [00:32<02:55,  4.82it/s]\u001b[A"
     ]
    },
    {
     "name": "stdout",
     "output_type": "stream",
     "text": [
      "distances: torch.Size([2688, 1000])\n",
      "Indexes shape:  torch.Size([2688, 8])\n",
      "Kxz: torch.Size([26880, 1000])\n",
      "kzz_inv: torch.Size([26880, 8, 8])\n",
      "indexes: torch.Size([2688, 8])\n",
      "Expanded shape torch.Size([26880, 8])\n"
     ]
    },
    {
     "name": "stderr",
     "output_type": "stream",
     "text": [
      "\n",
      " 15%|██████████████                                                                              | 153/1000 [00:32<02:55,  4.82it/s]\u001b[A"
     ]
    },
    {
     "name": "stdout",
     "output_type": "stream",
     "text": [
      "distances: torch.Size([2688, 1000])\n",
      "Indexes shape:  torch.Size([2688, 8])\n",
      "Kxz: torch.Size([26880, 1000])\n",
      "kzz_inv: torch.Size([26880, 8, 8])\n",
      "indexes: torch.Size([2688, 8])\n",
      "Expanded shape torch.Size([26880, 8])\n"
     ]
    },
    {
     "name": "stderr",
     "output_type": "stream",
     "text": [
      "\n",
      " 15%|██████████████▏                                                                             | 154/1000 [00:32<02:55,  4.82it/s]\u001b[A"
     ]
    },
    {
     "name": "stdout",
     "output_type": "stream",
     "text": [
      "distances: torch.Size([2688, 1000])\n",
      "Indexes shape:  torch.Size([2688, 8])\n",
      "Kxz: torch.Size([26880, 1000])\n",
      "kzz_inv: torch.Size([26880, 8, 8])\n",
      "indexes: torch.Size([2688, 8])\n",
      "Expanded shape torch.Size([26880, 8])\n"
     ]
    },
    {
     "name": "stderr",
     "output_type": "stream",
     "text": [
      "\n",
      " 16%|██████████████▎                                                                             | 155/1000 [00:32<02:55,  4.82it/s]\u001b[A"
     ]
    },
    {
     "name": "stdout",
     "output_type": "stream",
     "text": [
      "distances: torch.Size([2688, 1000])\n",
      "Indexes shape:  torch.Size([2688, 8])\n",
      "Kxz: torch.Size([26880, 1000])\n",
      "kzz_inv: torch.Size([26880, 8, 8])\n",
      "indexes: torch.Size([2688, 8])\n",
      "Expanded shape torch.Size([26880, 8])\n"
     ]
    },
    {
     "name": "stderr",
     "output_type": "stream",
     "text": [
      "\n",
      " 16%|██████████████▎                                                                             | 156/1000 [00:32<02:55,  4.82it/s]\u001b[A"
     ]
    },
    {
     "name": "stdout",
     "output_type": "stream",
     "text": [
      "distances: torch.Size([2688, 1000])\n",
      "Indexes shape:  torch.Size([2688, 8])\n",
      "Kxz: torch.Size([26880, 1000])\n",
      "kzz_inv: torch.Size([26880, 8, 8])\n",
      "indexes: torch.Size([2688, 8])\n",
      "Expanded shape torch.Size([26880, 8])\n"
     ]
    },
    {
     "name": "stderr",
     "output_type": "stream",
     "text": [
      "\n",
      " 16%|██████████████▍                                                                             | 157/1000 [00:33<02:54,  4.82it/s]\u001b[A"
     ]
    },
    {
     "name": "stdout",
     "output_type": "stream",
     "text": [
      "distances: torch.Size([2688, 1000])\n",
      "Indexes shape:  torch.Size([2688, 8])\n",
      "Kxz: torch.Size([26880, 1000])\n",
      "kzz_inv: torch.Size([26880, 8, 8])\n",
      "indexes: torch.Size([2688, 8])\n",
      "Expanded shape torch.Size([26880, 8])\n"
     ]
    },
    {
     "name": "stderr",
     "output_type": "stream",
     "text": [
      "\n",
      " 16%|██████████████▌                                                                             | 158/1000 [00:33<02:54,  4.82it/s]\u001b[A"
     ]
    },
    {
     "name": "stdout",
     "output_type": "stream",
     "text": [
      "distances: torch.Size([2688, 1000])\n",
      "Indexes shape:  torch.Size([2688, 8])\n",
      "Kxz: torch.Size([26880, 1000])\n",
      "kzz_inv: torch.Size([26880, 8, 8])\n",
      "indexes: torch.Size([2688, 8])\n",
      "Expanded shape torch.Size([26880, 8])\n"
     ]
    },
    {
     "name": "stderr",
     "output_type": "stream",
     "text": [
      "\n",
      " 16%|██████████████▋                                                                             | 159/1000 [00:33<02:54,  4.82it/s]\u001b[A"
     ]
    },
    {
     "name": "stdout",
     "output_type": "stream",
     "text": [
      "distances: torch.Size([2688, 1000])\n",
      "Indexes shape:  torch.Size([2688, 8])\n",
      "Kxz: torch.Size([26880, 1000])\n",
      "kzz_inv: torch.Size([26880, 8, 8])\n",
      "indexes: torch.Size([2688, 8])\n",
      "Expanded shape torch.Size([26880, 8])\n"
     ]
    },
    {
     "name": "stderr",
     "output_type": "stream",
     "text": [
      "\n",
      " 16%|██████████████▋                                                                             | 160/1000 [00:33<02:54,  4.82it/s]\u001b[A"
     ]
    },
    {
     "name": "stdout",
     "output_type": "stream",
     "text": [
      "distances: torch.Size([2688, 1000])\n",
      "Indexes shape:  torch.Size([2688, 8])\n",
      "Kxz: torch.Size([26880, 1000])\n",
      "kzz_inv: torch.Size([26880, 8, 8])\n",
      "indexes: torch.Size([2688, 8])\n",
      "Expanded shape torch.Size([26880, 8])\n"
     ]
    },
    {
     "name": "stderr",
     "output_type": "stream",
     "text": [
      "\n",
      " 16%|██████████████▊                                                                             | 161/1000 [00:34<02:54,  4.82it/s]\u001b[A"
     ]
    },
    {
     "name": "stdout",
     "output_type": "stream",
     "text": [
      "distances: torch.Size([2688, 1000])\n",
      "Indexes shape:  torch.Size([2688, 8])\n",
      "Kxz: torch.Size([26880, 1000])\n",
      "kzz_inv: torch.Size([26880, 8, 8])\n",
      "indexes: torch.Size([2688, 8])\n",
      "Expanded shape torch.Size([26880, 8])\n"
     ]
    },
    {
     "name": "stderr",
     "output_type": "stream",
     "text": [
      "\n",
      " 16%|██████████████▉                                                                             | 162/1000 [00:34<02:53,  4.82it/s]\u001b[A"
     ]
    },
    {
     "name": "stdout",
     "output_type": "stream",
     "text": [
      "distances: torch.Size([2688, 1000])\n",
      "Indexes shape:  torch.Size([2688, 8])\n",
      "Kxz: torch.Size([26880, 1000])\n",
      "kzz_inv: torch.Size([26880, 8, 8])\n",
      "indexes: torch.Size([2688, 8])\n",
      "Expanded shape torch.Size([26880, 8])\n"
     ]
    },
    {
     "name": "stderr",
     "output_type": "stream",
     "text": [
      "\n",
      " 16%|██████████████▉                                                                             | 163/1000 [00:34<02:53,  4.82it/s]\u001b[A"
     ]
    },
    {
     "name": "stdout",
     "output_type": "stream",
     "text": [
      "distances: torch.Size([2688, 1000])\n",
      "Indexes shape:  torch.Size([2688, 8])\n",
      "Kxz: torch.Size([26880, 1000])\n",
      "kzz_inv: torch.Size([26880, 8, 8])\n",
      "indexes: torch.Size([2688, 8])\n",
      "Expanded shape torch.Size([26880, 8])\n"
     ]
    },
    {
     "name": "stderr",
     "output_type": "stream",
     "text": [
      "\n",
      " 16%|███████████████                                                                             | 164/1000 [00:34<02:53,  4.82it/s]\u001b[A"
     ]
    },
    {
     "name": "stdout",
     "output_type": "stream",
     "text": [
      "distances: torch.Size([2688, 1000])\n",
      "Indexes shape:  torch.Size([2688, 8])\n",
      "Kxz: torch.Size([26880, 1000])\n",
      "kzz_inv: torch.Size([26880, 8, 8])\n",
      "indexes: torch.Size([2688, 8])\n",
      "Expanded shape torch.Size([26880, 8])\n"
     ]
    },
    {
     "name": "stderr",
     "output_type": "stream",
     "text": [
      "\n",
      " 16%|███████████████▏                                                                            | 165/1000 [00:34<02:53,  4.82it/s]\u001b[A"
     ]
    },
    {
     "name": "stdout",
     "output_type": "stream",
     "text": [
      "distances: torch.Size([2688, 1000])\n",
      "Indexes shape:  torch.Size([2688, 8])\n",
      "Kxz: torch.Size([26880, 1000])\n",
      "kzz_inv: torch.Size([26880, 8, 8])\n",
      "indexes: torch.Size([2688, 8])\n",
      "Expanded shape torch.Size([26880, 8])\n"
     ]
    },
    {
     "name": "stderr",
     "output_type": "stream",
     "text": [
      "\n",
      " 17%|███████████████▎                                                                            | 166/1000 [00:35<02:53,  4.82it/s]\u001b[A"
     ]
    },
    {
     "name": "stdout",
     "output_type": "stream",
     "text": [
      "distances: torch.Size([2688, 1000])\n",
      "Indexes shape:  torch.Size([2688, 8])\n",
      "Kxz: torch.Size([26880, 1000])\n",
      "kzz_inv: torch.Size([26880, 8, 8])\n",
      "indexes: torch.Size([2688, 8])\n",
      "Expanded shape torch.Size([26880, 8])\n"
     ]
    },
    {
     "name": "stderr",
     "output_type": "stream",
     "text": [
      "\n",
      " 17%|███████████████▎                                                                            | 167/1000 [00:35<02:52,  4.82it/s]\u001b[A"
     ]
    },
    {
     "name": "stdout",
     "output_type": "stream",
     "text": [
      "distances: torch.Size([2688, 1000])\n",
      "Indexes shape:  torch.Size([2688, 8])\n",
      "Kxz: torch.Size([26880, 1000])\n",
      "kzz_inv: torch.Size([26880, 8, 8])\n",
      "indexes: torch.Size([2688, 8])\n",
      "Expanded shape torch.Size([26880, 8])\n"
     ]
    },
    {
     "name": "stderr",
     "output_type": "stream",
     "text": [
      "\n",
      " 17%|███████████████▍                                                                            | 168/1000 [00:35<02:52,  4.82it/s]\u001b[A"
     ]
    },
    {
     "name": "stdout",
     "output_type": "stream",
     "text": [
      "distances: torch.Size([2688, 1000])\n",
      "Indexes shape:  torch.Size([2688, 8])\n",
      "Kxz: torch.Size([26880, 1000])\n",
      "kzz_inv: torch.Size([26880, 8, 8])\n",
      "indexes: torch.Size([2688, 8])\n",
      "Expanded shape torch.Size([26880, 8])\n"
     ]
    },
    {
     "name": "stderr",
     "output_type": "stream",
     "text": [
      "\n",
      " 17%|███████████████▌                                                                            | 169/1000 [00:35<02:52,  4.82it/s]\u001b[A"
     ]
    },
    {
     "name": "stdout",
     "output_type": "stream",
     "text": [
      "distances: torch.Size([2688, 1000])\n",
      "Indexes shape:  torch.Size([2688, 8])\n",
      "Kxz: torch.Size([26880, 1000])\n",
      "kzz_inv: torch.Size([26880, 8, 8])\n",
      "indexes: torch.Size([2688, 8])\n",
      "Expanded shape torch.Size([26880, 8])\n"
     ]
    },
    {
     "name": "stderr",
     "output_type": "stream",
     "text": [
      "\n",
      " 17%|███████████████▋                                                                            | 170/1000 [00:35<02:52,  4.82it/s]\u001b[A"
     ]
    },
    {
     "name": "stdout",
     "output_type": "stream",
     "text": [
      "distances: torch.Size([2688, 1000])\n",
      "Indexes shape:  torch.Size([2688, 8])\n",
      "Kxz: torch.Size([26880, 1000])\n",
      "kzz_inv: torch.Size([26880, 8, 8])\n",
      "indexes: torch.Size([2688, 8])\n",
      "Expanded shape torch.Size([26880, 8])\n"
     ]
    },
    {
     "name": "stderr",
     "output_type": "stream",
     "text": [
      "\n",
      " 17%|███████████████▋                                                                            | 171/1000 [00:36<02:52,  4.82it/s]\u001b[A"
     ]
    },
    {
     "name": "stdout",
     "output_type": "stream",
     "text": [
      "distances: torch.Size([2688, 1000])\n",
      "Indexes shape:  torch.Size([2688, 8])\n",
      "Kxz: torch.Size([26880, 1000])\n",
      "kzz_inv: torch.Size([26880, 8, 8])\n",
      "indexes: torch.Size([2688, 8])\n",
      "Expanded shape torch.Size([26880, 8])\n"
     ]
    },
    {
     "name": "stderr",
     "output_type": "stream",
     "text": [
      "\n",
      " 17%|███████████████▊                                                                            | 172/1000 [00:36<02:51,  4.82it/s]\u001b[A"
     ]
    },
    {
     "name": "stdout",
     "output_type": "stream",
     "text": [
      "distances: torch.Size([2688, 1000])\n",
      "Indexes shape:  torch.Size([2688, 8])\n",
      "Kxz: torch.Size([26880, 1000])\n",
      "kzz_inv: torch.Size([26880, 8, 8])\n",
      "indexes: torch.Size([2688, 8])\n",
      "Expanded shape torch.Size([26880, 8])\n"
     ]
    },
    {
     "name": "stderr",
     "output_type": "stream",
     "text": [
      "\n",
      " 17%|███████████████▉                                                                            | 173/1000 [00:36<02:51,  4.82it/s]\u001b[A"
     ]
    },
    {
     "name": "stdout",
     "output_type": "stream",
     "text": [
      "distances: torch.Size([2688, 1000])\n",
      "Indexes shape:  torch.Size([2688, 8])\n",
      "Kxz: torch.Size([26880, 1000])\n",
      "kzz_inv: torch.Size([26880, 8, 8])\n",
      "indexes: torch.Size([2688, 8])\n",
      "Expanded shape torch.Size([26880, 8])\n"
     ]
    },
    {
     "name": "stderr",
     "output_type": "stream",
     "text": [
      "\n",
      " 17%|████████████████                                                                            | 174/1000 [00:36<02:51,  4.82it/s]\u001b[A"
     ]
    },
    {
     "name": "stdout",
     "output_type": "stream",
     "text": [
      "distances: torch.Size([2688, 1000])\n",
      "Indexes shape:  torch.Size([2688, 8])\n",
      "Kxz: torch.Size([26880, 1000])\n",
      "kzz_inv: torch.Size([26880, 8, 8])\n",
      "indexes: torch.Size([2688, 8])\n",
      "Expanded shape torch.Size([26880, 8])\n"
     ]
    },
    {
     "name": "stderr",
     "output_type": "stream",
     "text": [
      "\n",
      " 18%|████████████████                                                                            | 175/1000 [00:36<02:51,  4.82it/s]\u001b[A"
     ]
    },
    {
     "name": "stdout",
     "output_type": "stream",
     "text": [
      "distances: torch.Size([2688, 1000])\n",
      "Indexes shape:  torch.Size([2688, 8])\n",
      "Kxz: torch.Size([26880, 1000])\n",
      "kzz_inv: torch.Size([26880, 8, 8])\n",
      "indexes: torch.Size([2688, 8])\n",
      "Expanded shape torch.Size([26880, 8])\n"
     ]
    },
    {
     "name": "stderr",
     "output_type": "stream",
     "text": [
      "\n",
      " 18%|████████████████▏                                                                           | 176/1000 [00:37<02:51,  4.82it/s]\u001b[A"
     ]
    },
    {
     "name": "stdout",
     "output_type": "stream",
     "text": [
      "distances: torch.Size([2688, 1000])\n",
      "Indexes shape:  torch.Size([2688, 8])\n",
      "Kxz: torch.Size([26880, 1000])\n",
      "kzz_inv: torch.Size([26880, 8, 8])\n",
      "indexes: torch.Size([2688, 8])\n",
      "Expanded shape torch.Size([26880, 8])\n"
     ]
    },
    {
     "name": "stderr",
     "output_type": "stream",
     "text": [
      "\n",
      " 18%|████████████████▎                                                                           | 177/1000 [00:37<02:50,  4.82it/s]\u001b[A"
     ]
    },
    {
     "name": "stdout",
     "output_type": "stream",
     "text": [
      "distances: torch.Size([2688, 1000])\n",
      "Indexes shape:  torch.Size([2688, 8])\n",
      "Kxz: torch.Size([26880, 1000])\n",
      "kzz_inv: torch.Size([26880, 8, 8])\n",
      "indexes: torch.Size([2688, 8])\n",
      "Expanded shape torch.Size([26880, 8])\n"
     ]
    },
    {
     "name": "stderr",
     "output_type": "stream",
     "text": [
      "\n",
      " 18%|████████████████▍                                                                           | 178/1000 [00:37<02:50,  4.82it/s]\u001b[A"
     ]
    },
    {
     "name": "stdout",
     "output_type": "stream",
     "text": [
      "distances: torch.Size([2688, 1000])\n",
      "Indexes shape:  torch.Size([2688, 8])\n",
      "Kxz: torch.Size([26880, 1000])\n",
      "kzz_inv: torch.Size([26880, 8, 8])\n",
      "indexes: torch.Size([2688, 8])\n",
      "Expanded shape torch.Size([26880, 8])\n"
     ]
    },
    {
     "name": "stderr",
     "output_type": "stream",
     "text": [
      "\n",
      " 18%|████████████████▍                                                                           | 179/1000 [00:37<02:50,  4.82it/s]\u001b[A"
     ]
    },
    {
     "name": "stdout",
     "output_type": "stream",
     "text": [
      "distances: torch.Size([2688, 1000])\n",
      "Indexes shape:  torch.Size([2688, 8])\n",
      "Kxz: torch.Size([26880, 1000])\n",
      "kzz_inv: torch.Size([26880, 8, 8])\n",
      "indexes: torch.Size([2688, 8])\n",
      "Expanded shape torch.Size([26880, 8])\n"
     ]
    },
    {
     "name": "stderr",
     "output_type": "stream",
     "text": [
      "\n",
      " 18%|████████████████▌                                                                           | 180/1000 [00:37<02:50,  4.82it/s]\u001b[A"
     ]
    },
    {
     "name": "stdout",
     "output_type": "stream",
     "text": [
      "distances: torch.Size([2688, 1000])\n",
      "Indexes shape:  torch.Size([2688, 8])\n",
      "Kxz: torch.Size([26880, 1000])\n",
      "kzz_inv: torch.Size([26880, 8, 8])\n",
      "indexes: torch.Size([2688, 8])\n",
      "Expanded shape torch.Size([26880, 8])\n"
     ]
    },
    {
     "name": "stderr",
     "output_type": "stream",
     "text": [
      "\n",
      " 18%|████████████████▋                                                                           | 181/1000 [00:38<02:50,  4.82it/s]\u001b[A"
     ]
    },
    {
     "name": "stdout",
     "output_type": "stream",
     "text": [
      "distances: torch.Size([2688, 1000])\n",
      "Indexes shape:  torch.Size([2688, 8])\n",
      "Kxz: torch.Size([26880, 1000])\n",
      "kzz_inv: torch.Size([26880, 8, 8])\n",
      "indexes: torch.Size([2688, 8])\n",
      "Expanded shape torch.Size([26880, 8])\n"
     ]
    },
    {
     "name": "stderr",
     "output_type": "stream",
     "text": [
      "\n",
      " 18%|████████████████▋                                                                           | 182/1000 [00:38<02:49,  4.81it/s]\u001b[A"
     ]
    },
    {
     "name": "stdout",
     "output_type": "stream",
     "text": [
      "distances: torch.Size([2688, 1000])\n",
      "Indexes shape:  torch.Size([2688, 8])\n",
      "Kxz: torch.Size([26880, 1000])\n",
      "kzz_inv: torch.Size([26880, 8, 8])\n",
      "indexes: torch.Size([2688, 8])\n",
      "Expanded shape torch.Size([26880, 8])\n"
     ]
    },
    {
     "name": "stderr",
     "output_type": "stream",
     "text": [
      "\n",
      " 18%|████████████████▊                                                                           | 183/1000 [00:38<02:49,  4.82it/s]\u001b[A"
     ]
    },
    {
     "name": "stdout",
     "output_type": "stream",
     "text": [
      "distances: torch.Size([2688, 1000])\n",
      "Indexes shape:  torch.Size([2688, 8])\n",
      "Kxz: torch.Size([26880, 1000])\n",
      "kzz_inv: torch.Size([26880, 8, 8])\n",
      "indexes: torch.Size([2688, 8])\n",
      "Expanded shape torch.Size([26880, 8])\n"
     ]
    },
    {
     "name": "stderr",
     "output_type": "stream",
     "text": [
      "\n",
      " 18%|████████████████▉                                                                           | 184/1000 [00:38<02:49,  4.82it/s]\u001b[A"
     ]
    },
    {
     "name": "stdout",
     "output_type": "stream",
     "text": [
      "distances: torch.Size([2688, 1000])\n",
      "Indexes shape:  torch.Size([2688, 8])\n",
      "Kxz: torch.Size([26880, 1000])\n",
      "kzz_inv: torch.Size([26880, 8, 8])\n",
      "indexes: torch.Size([2688, 8])\n",
      "Expanded shape torch.Size([26880, 8])\n"
     ]
    },
    {
     "name": "stderr",
     "output_type": "stream",
     "text": [
      "\n",
      " 18%|█████████████████                                                                           | 185/1000 [00:38<02:49,  4.82it/s]\u001b[A"
     ]
    },
    {
     "name": "stdout",
     "output_type": "stream",
     "text": [
      "distances: torch.Size([2688, 1000])\n",
      "Indexes shape:  torch.Size([2688, 8])\n",
      "Kxz: torch.Size([26880, 1000])\n",
      "kzz_inv: torch.Size([26880, 8, 8])\n",
      "indexes: torch.Size([2688, 8])\n",
      "Expanded shape torch.Size([26880, 8])\n"
     ]
    },
    {
     "name": "stderr",
     "output_type": "stream",
     "text": [
      "\n",
      " 19%|█████████████████                                                                           | 186/1000 [00:39<02:48,  4.82it/s]\u001b[A"
     ]
    },
    {
     "name": "stdout",
     "output_type": "stream",
     "text": [
      "distances: torch.Size([2688, 1000])\n",
      "Indexes shape:  torch.Size([2688, 8])\n",
      "Kxz: torch.Size([26880, 1000])\n",
      "kzz_inv: torch.Size([26880, 8, 8])\n",
      "indexes: torch.Size([2688, 8])\n",
      "Expanded shape torch.Size([26880, 8])\n"
     ]
    },
    {
     "name": "stderr",
     "output_type": "stream",
     "text": [
      "\n",
      " 19%|█████████████████▏                                                                          | 187/1000 [00:39<02:48,  4.82it/s]\u001b[A"
     ]
    },
    {
     "name": "stdout",
     "output_type": "stream",
     "text": [
      "distances: torch.Size([2688, 1000])\n",
      "Indexes shape:  torch.Size([2688, 8])\n",
      "Kxz: torch.Size([26880, 1000])\n",
      "kzz_inv: torch.Size([26880, 8, 8])\n",
      "indexes: torch.Size([2688, 8])\n",
      "Expanded shape torch.Size([26880, 8])\n"
     ]
    },
    {
     "name": "stderr",
     "output_type": "stream",
     "text": [
      "\n",
      " 19%|█████████████████▎                                                                          | 188/1000 [00:39<02:48,  4.82it/s]\u001b[A"
     ]
    },
    {
     "name": "stdout",
     "output_type": "stream",
     "text": [
      "distances: torch.Size([2688, 1000])\n",
      "Indexes shape:  torch.Size([2688, 8])\n",
      "Kxz: torch.Size([26880, 1000])\n",
      "kzz_inv: torch.Size([26880, 8, 8])\n",
      "indexes: torch.Size([2688, 8])\n",
      "Expanded shape torch.Size([26880, 8])\n"
     ]
    },
    {
     "name": "stderr",
     "output_type": "stream",
     "text": [
      "\n",
      " 19%|█████████████████▍                                                                          | 189/1000 [00:39<02:48,  4.82it/s]\u001b[A"
     ]
    },
    {
     "name": "stdout",
     "output_type": "stream",
     "text": [
      "distances: torch.Size([2688, 1000])\n",
      "Indexes shape:  torch.Size([2688, 8])\n",
      "Kxz: torch.Size([26880, 1000])\n",
      "kzz_inv: torch.Size([26880, 8, 8])\n",
      "indexes: torch.Size([2688, 8])\n",
      "Expanded shape torch.Size([26880, 8])\n"
     ]
    },
    {
     "name": "stderr",
     "output_type": "stream",
     "text": [
      "\n",
      " 19%|█████████████████▍                                                                          | 190/1000 [00:40<02:47,  4.82it/s]\u001b[A"
     ]
    },
    {
     "name": "stdout",
     "output_type": "stream",
     "text": [
      "distances: torch.Size([2688, 1000])\n",
      "Indexes shape:  torch.Size([2688, 8])\n",
      "Kxz: torch.Size([26880, 1000])\n",
      "kzz_inv: torch.Size([26880, 8, 8])\n",
      "indexes: torch.Size([2688, 8])\n",
      "Expanded shape torch.Size([26880, 8])\n"
     ]
    },
    {
     "name": "stderr",
     "output_type": "stream",
     "text": [
      "\n",
      " 19%|█████████████████▌                                                                          | 191/1000 [00:40<02:47,  4.82it/s]\u001b[A"
     ]
    },
    {
     "name": "stdout",
     "output_type": "stream",
     "text": [
      "distances: torch.Size([2688, 1000])\n",
      "Indexes shape:  torch.Size([2688, 8])\n",
      "Kxz: torch.Size([26880, 1000])\n",
      "kzz_inv: torch.Size([26880, 8, 8])\n",
      "indexes: torch.Size([2688, 8])\n",
      "Expanded shape torch.Size([26880, 8])\n"
     ]
    },
    {
     "name": "stderr",
     "output_type": "stream",
     "text": [
      "\n",
      " 19%|█████████████████▋                                                                          | 192/1000 [00:40<02:47,  4.82it/s]\u001b[A"
     ]
    },
    {
     "name": "stdout",
     "output_type": "stream",
     "text": [
      "distances: torch.Size([2688, 1000])\n",
      "Indexes shape:  torch.Size([2688, 8])\n",
      "Kxz: torch.Size([26880, 1000])\n",
      "kzz_inv: torch.Size([26880, 8, 8])\n",
      "indexes: torch.Size([2688, 8])\n",
      "Expanded shape torch.Size([26880, 8])\n"
     ]
    },
    {
     "name": "stderr",
     "output_type": "stream",
     "text": [
      "\n",
      " 19%|█████████████████▊                                                                          | 193/1000 [00:40<02:47,  4.82it/s]\u001b[A"
     ]
    },
    {
     "name": "stdout",
     "output_type": "stream",
     "text": [
      "distances: torch.Size([2688, 1000])\n",
      "Indexes shape:  torch.Size([2688, 8])\n",
      "Kxz: torch.Size([26880, 1000])\n",
      "kzz_inv: torch.Size([26880, 8, 8])\n",
      "indexes: torch.Size([2688, 8])\n",
      "Expanded shape torch.Size([26880, 8])\n"
     ]
    },
    {
     "name": "stderr",
     "output_type": "stream",
     "text": [
      "\n",
      " 19%|█████████████████▊                                                                          | 194/1000 [00:40<02:47,  4.82it/s]\u001b[A"
     ]
    },
    {
     "name": "stdout",
     "output_type": "stream",
     "text": [
      "distances: torch.Size([2688, 1000])\n",
      "Indexes shape:  torch.Size([2688, 8])\n",
      "Kxz: torch.Size([26880, 1000])\n",
      "kzz_inv: torch.Size([26880, 8, 8])\n",
      "indexes: torch.Size([2688, 8])\n",
      "Expanded shape torch.Size([26880, 8])\n"
     ]
    },
    {
     "name": "stderr",
     "output_type": "stream",
     "text": [
      "\n",
      " 20%|█████████████████▉                                                                          | 195/1000 [00:41<02:46,  4.82it/s]\u001b[A"
     ]
    },
    {
     "name": "stdout",
     "output_type": "stream",
     "text": [
      "distances: torch.Size([2688, 1000])\n",
      "Indexes shape:  torch.Size([2688, 8])\n",
      "Kxz: torch.Size([26880, 1000])\n",
      "kzz_inv: torch.Size([26880, 8, 8])\n",
      "indexes: torch.Size([2688, 8])\n",
      "Expanded shape torch.Size([26880, 8])\n"
     ]
    },
    {
     "name": "stderr",
     "output_type": "stream",
     "text": [
      "\n",
      " 20%|██████████████████                                                                          | 196/1000 [00:41<02:46,  4.82it/s]\u001b[A"
     ]
    },
    {
     "name": "stdout",
     "output_type": "stream",
     "text": [
      "distances: torch.Size([2688, 1000])\n",
      "Indexes shape:  torch.Size([2688, 8])\n",
      "Kxz: torch.Size([26880, 1000])\n",
      "kzz_inv: torch.Size([26880, 8, 8])\n",
      "indexes: torch.Size([2688, 8])\n",
      "Expanded shape torch.Size([26880, 8])\n"
     ]
    },
    {
     "name": "stderr",
     "output_type": "stream",
     "text": [
      "\n",
      " 20%|██████████████████                                                                          | 197/1000 [00:41<02:46,  4.82it/s]\u001b[A"
     ]
    },
    {
     "name": "stdout",
     "output_type": "stream",
     "text": [
      "distances: torch.Size([2688, 1000])\n",
      "Indexes shape:  torch.Size([2688, 8])\n",
      "Kxz: torch.Size([26880, 1000])\n",
      "kzz_inv: torch.Size([26880, 8, 8])\n",
      "indexes: torch.Size([2688, 8])\n",
      "Expanded shape torch.Size([26880, 8])\n"
     ]
    },
    {
     "name": "stderr",
     "output_type": "stream",
     "text": [
      "\n",
      " 20%|██████████████████▏                                                                         | 198/1000 [00:41<02:46,  4.82it/s]\u001b[A"
     ]
    },
    {
     "name": "stdout",
     "output_type": "stream",
     "text": [
      "distances: torch.Size([2688, 1000])\n",
      "Indexes shape:  torch.Size([2688, 8])\n",
      "Kxz: torch.Size([26880, 1000])\n",
      "kzz_inv: torch.Size([26880, 8, 8])\n",
      "indexes: torch.Size([2688, 8])\n",
      "Expanded shape torch.Size([26880, 8])\n"
     ]
    },
    {
     "name": "stderr",
     "output_type": "stream",
     "text": [
      "\n",
      " 20%|██████████████████▎                                                                         | 199/1000 [00:41<02:46,  4.82it/s]\u001b[A"
     ]
    },
    {
     "name": "stdout",
     "output_type": "stream",
     "text": [
      "distances: torch.Size([2688, 1000])\n",
      "Indexes shape:  torch.Size([2688, 8])\n",
      "Kxz: torch.Size([26880, 1000])\n",
      "kzz_inv: torch.Size([26880, 8, 8])\n",
      "indexes: torch.Size([2688, 8])\n",
      "Expanded shape torch.Size([26880, 8])\n"
     ]
    },
    {
     "name": "stderr",
     "output_type": "stream",
     "text": [
      "\n",
      " 20%|██████████████████▍                                                                         | 200/1000 [00:42<02:46,  4.82it/s]\u001b[A"
     ]
    },
    {
     "name": "stdout",
     "output_type": "stream",
     "text": [
      "distances: torch.Size([2688, 1000])\n",
      "Indexes shape:  torch.Size([2688, 8])\n",
      "Kxz: torch.Size([26880, 1000])\n",
      "kzz_inv: torch.Size([26880, 8, 8])\n",
      "indexes: torch.Size([2688, 8])\n",
      "Expanded shape torch.Size([26880, 8])\n"
     ]
    },
    {
     "name": "stderr",
     "output_type": "stream",
     "text": [
      "\n",
      " 20%|██████████████████▍                                                                         | 201/1000 [00:42<02:45,  4.81it/s]\u001b[A"
     ]
    },
    {
     "name": "stdout",
     "output_type": "stream",
     "text": [
      "distances: torch.Size([2688, 1000])\n",
      "Indexes shape:  torch.Size([2688, 8])\n",
      "Kxz: torch.Size([26880, 1000])\n",
      "kzz_inv: torch.Size([26880, 8, 8])\n",
      "indexes: torch.Size([2688, 8])\n",
      "Expanded shape torch.Size([26880, 8])\n"
     ]
    },
    {
     "name": "stderr",
     "output_type": "stream",
     "text": [
      "\n",
      " 20%|██████████████████▌                                                                         | 202/1000 [00:42<02:45,  4.82it/s]\u001b[A"
     ]
    },
    {
     "name": "stdout",
     "output_type": "stream",
     "text": [
      "distances: torch.Size([2688, 1000])\n",
      "Indexes shape:  torch.Size([2688, 8])\n",
      "Kxz: torch.Size([26880, 1000])\n",
      "kzz_inv: torch.Size([26880, 8, 8])\n",
      "indexes: torch.Size([2688, 8])\n",
      "Expanded shape torch.Size([26880, 8])\n"
     ]
    },
    {
     "name": "stderr",
     "output_type": "stream",
     "text": [
      "\n",
      " 20%|██████████████████▋                                                                         | 203/1000 [00:42<02:45,  4.82it/s]\u001b[A"
     ]
    },
    {
     "name": "stdout",
     "output_type": "stream",
     "text": [
      "distances: torch.Size([2688, 1000])\n",
      "Indexes shape:  torch.Size([2688, 8])\n",
      "Kxz: torch.Size([26880, 1000])\n",
      "kzz_inv: torch.Size([26880, 8, 8])\n",
      "indexes: torch.Size([2688, 8])\n",
      "Expanded shape torch.Size([26880, 8])\n"
     ]
    },
    {
     "name": "stderr",
     "output_type": "stream",
     "text": [
      "\n",
      " 20%|██████████████████▊                                                                         | 204/1000 [00:42<02:45,  4.82it/s]\u001b[A"
     ]
    },
    {
     "name": "stdout",
     "output_type": "stream",
     "text": [
      "distances: torch.Size([2688, 1000])\n",
      "Indexes shape:  torch.Size([2688, 8])\n",
      "Kxz: torch.Size([26880, 1000])\n",
      "kzz_inv: torch.Size([26880, 8, 8])\n",
      "indexes: torch.Size([2688, 8])\n",
      "Expanded shape torch.Size([26880, 8])\n"
     ]
    },
    {
     "name": "stderr",
     "output_type": "stream",
     "text": [
      "\n",
      " 20%|██████████████████▊                                                                         | 205/1000 [00:43<02:44,  4.82it/s]\u001b[A"
     ]
    },
    {
     "name": "stdout",
     "output_type": "stream",
     "text": [
      "distances: torch.Size([2688, 1000])\n",
      "Indexes shape:  torch.Size([2688, 8])\n",
      "Kxz: torch.Size([26880, 1000])\n",
      "kzz_inv: torch.Size([26880, 8, 8])\n",
      "indexes: torch.Size([2688, 8])\n",
      "Expanded shape torch.Size([26880, 8])\n"
     ]
    },
    {
     "name": "stderr",
     "output_type": "stream",
     "text": [
      "\n",
      " 21%|██████████████████▉                                                                         | 206/1000 [00:43<02:44,  4.82it/s]\u001b[A"
     ]
    },
    {
     "name": "stdout",
     "output_type": "stream",
     "text": [
      "distances: torch.Size([2688, 1000])\n",
      "Indexes shape:  torch.Size([2688, 8])\n",
      "Kxz: torch.Size([26880, 1000])\n",
      "kzz_inv: torch.Size([26880, 8, 8])\n",
      "indexes: torch.Size([2688, 8])\n",
      "Expanded shape torch.Size([26880, 8])\n"
     ]
    },
    {
     "name": "stderr",
     "output_type": "stream",
     "text": [
      "\n",
      " 21%|███████████████████                                                                         | 207/1000 [00:43<02:44,  4.82it/s]\u001b[A"
     ]
    },
    {
     "name": "stdout",
     "output_type": "stream",
     "text": [
      "distances: torch.Size([2688, 1000])\n",
      "Indexes shape:  torch.Size([2688, 8])\n",
      "Kxz: torch.Size([26880, 1000])\n",
      "kzz_inv: torch.Size([26880, 8, 8])\n",
      "indexes: torch.Size([2688, 8])\n",
      "Expanded shape torch.Size([26880, 8])\n"
     ]
    },
    {
     "name": "stderr",
     "output_type": "stream",
     "text": [
      "\n",
      " 21%|███████████████████▏                                                                        | 208/1000 [00:43<02:44,  4.82it/s]\u001b[A"
     ]
    },
    {
     "name": "stdout",
     "output_type": "stream",
     "text": [
      "distances: torch.Size([2688, 1000])\n",
      "Indexes shape:  torch.Size([2688, 8])\n",
      "Kxz: torch.Size([26880, 1000])\n",
      "kzz_inv: torch.Size([26880, 8, 8])\n",
      "indexes: torch.Size([2688, 8])\n",
      "Expanded shape torch.Size([26880, 8])\n"
     ]
    },
    {
     "name": "stderr",
     "output_type": "stream",
     "text": [
      "\n",
      " 21%|███████████████████▏                                                                        | 209/1000 [00:43<02:44,  4.82it/s]\u001b[A"
     ]
    },
    {
     "name": "stdout",
     "output_type": "stream",
     "text": [
      "distances: torch.Size([2688, 1000])\n",
      "Indexes shape:  torch.Size([2688, 8])\n",
      "Kxz: torch.Size([26880, 1000])\n",
      "kzz_inv: torch.Size([26880, 8, 8])\n",
      "indexes: torch.Size([2688, 8])\n",
      "Expanded shape torch.Size([26880, 8])\n"
     ]
    },
    {
     "name": "stderr",
     "output_type": "stream",
     "text": [
      "\n",
      " 21%|███████████████████▎                                                                        | 210/1000 [00:44<02:44,  4.82it/s]\u001b[A"
     ]
    },
    {
     "name": "stdout",
     "output_type": "stream",
     "text": [
      "distances: torch.Size([2688, 1000])\n",
      "Indexes shape:  torch.Size([2688, 8])\n",
      "Kxz: torch.Size([26880, 1000])\n",
      "kzz_inv: torch.Size([26880, 8, 8])\n",
      "indexes: torch.Size([2688, 8])\n",
      "Expanded shape torch.Size([26880, 8])\n"
     ]
    },
    {
     "name": "stderr",
     "output_type": "stream",
     "text": [
      "\n",
      " 21%|███████████████████▍                                                                        | 211/1000 [00:44<02:43,  4.82it/s]\u001b[A"
     ]
    },
    {
     "name": "stdout",
     "output_type": "stream",
     "text": [
      "distances: torch.Size([2688, 1000])\n",
      "Indexes shape:  torch.Size([2688, 8])\n",
      "Kxz: torch.Size([26880, 1000])\n",
      "kzz_inv: torch.Size([26880, 8, 8])\n",
      "indexes: torch.Size([2688, 8])\n",
      "Expanded shape torch.Size([26880, 8])\n"
     ]
    },
    {
     "name": "stderr",
     "output_type": "stream",
     "text": [
      "\n",
      " 21%|███████████████████▌                                                                        | 212/1000 [00:44<02:43,  4.82it/s]\u001b[A"
     ]
    },
    {
     "name": "stdout",
     "output_type": "stream",
     "text": [
      "distances: torch.Size([2688, 1000])\n",
      "Indexes shape:  torch.Size([2688, 8])\n",
      "Kxz: torch.Size([26880, 1000])\n",
      "kzz_inv: torch.Size([26880, 8, 8])\n",
      "indexes: torch.Size([2688, 8])\n",
      "Expanded shape torch.Size([26880, 8])\n"
     ]
    },
    {
     "name": "stderr",
     "output_type": "stream",
     "text": [
      "\n",
      " 21%|███████████████████▌                                                                        | 213/1000 [00:44<02:43,  4.81it/s]\u001b[A"
     ]
    },
    {
     "name": "stdout",
     "output_type": "stream",
     "text": [
      "distances: torch.Size([2688, 1000])\n",
      "Indexes shape:  torch.Size([2688, 8])\n",
      "Kxz: torch.Size([26880, 1000])\n",
      "kzz_inv: torch.Size([26880, 8, 8])\n",
      "indexes: torch.Size([2688, 8])\n",
      "Expanded shape torch.Size([26880, 8])\n"
     ]
    },
    {
     "name": "stderr",
     "output_type": "stream",
     "text": [
      "\n",
      " 21%|███████████████████▋                                                                        | 214/1000 [00:45<02:43,  4.82it/s]\u001b[A"
     ]
    },
    {
     "name": "stdout",
     "output_type": "stream",
     "text": [
      "distances: torch.Size([2688, 1000])\n",
      "Indexes shape:  torch.Size([2688, 8])\n",
      "Kxz: torch.Size([26880, 1000])\n",
      "kzz_inv: torch.Size([26880, 8, 8])\n",
      "indexes: torch.Size([2688, 8])\n",
      "Expanded shape torch.Size([26880, 8])\n"
     ]
    },
    {
     "name": "stderr",
     "output_type": "stream",
     "text": [
      "\n",
      " 22%|███████████████████▊                                                                        | 215/1000 [00:45<02:42,  4.82it/s]\u001b[A"
     ]
    },
    {
     "name": "stdout",
     "output_type": "stream",
     "text": [
      "distances: torch.Size([2688, 1000])\n",
      "Indexes shape:  torch.Size([2688, 8])\n",
      "Kxz: torch.Size([26880, 1000])\n",
      "kzz_inv: torch.Size([26880, 8, 8])\n",
      "indexes: torch.Size([2688, 8])\n",
      "Expanded shape torch.Size([26880, 8])\n"
     ]
    },
    {
     "name": "stderr",
     "output_type": "stream",
     "text": [
      "\n",
      " 22%|███████████████████▊                                                                        | 216/1000 [00:45<02:42,  4.81it/s]\u001b[A"
     ]
    },
    {
     "name": "stdout",
     "output_type": "stream",
     "text": [
      "distances: torch.Size([2688, 1000])\n",
      "Indexes shape:  torch.Size([2688, 8])\n",
      "Kxz: torch.Size([26880, 1000])\n",
      "kzz_inv: torch.Size([26880, 8, 8])\n",
      "indexes: torch.Size([2688, 8])\n",
      "Expanded shape torch.Size([26880, 8])\n"
     ]
    },
    {
     "name": "stderr",
     "output_type": "stream",
     "text": [
      "\n",
      " 22%|███████████████████▉                                                                        | 217/1000 [00:45<02:42,  4.82it/s]\u001b[A"
     ]
    },
    {
     "name": "stdout",
     "output_type": "stream",
     "text": [
      "distances: torch.Size([2688, 1000])\n",
      "Indexes shape:  torch.Size([2688, 8])\n",
      "Kxz: torch.Size([26880, 1000])\n",
      "kzz_inv: torch.Size([26880, 8, 8])\n",
      "indexes: torch.Size([2688, 8])\n",
      "Expanded shape torch.Size([26880, 8])\n"
     ]
    },
    {
     "name": "stderr",
     "output_type": "stream",
     "text": [
      "\n",
      " 22%|████████████████████                                                                        | 218/1000 [00:45<02:42,  4.82it/s]\u001b[A"
     ]
    },
    {
     "name": "stdout",
     "output_type": "stream",
     "text": [
      "distances: torch.Size([2688, 1000])\n",
      "Indexes shape:  torch.Size([2688, 8])\n",
      "Kxz: torch.Size([26880, 1000])\n",
      "kzz_inv: torch.Size([26880, 8, 8])\n",
      "indexes: torch.Size([2688, 8])\n",
      "Expanded shape torch.Size([26880, 8])\n"
     ]
    },
    {
     "name": "stderr",
     "output_type": "stream",
     "text": [
      "\n",
      " 22%|████████████████████▏                                                                       | 219/1000 [00:46<02:42,  4.82it/s]\u001b[A"
     ]
    },
    {
     "name": "stdout",
     "output_type": "stream",
     "text": [
      "distances: torch.Size([2688, 1000])\n",
      "Indexes shape:  torch.Size([2688, 8])\n",
      "Kxz: torch.Size([26880, 1000])\n",
      "kzz_inv: torch.Size([26880, 8, 8])\n",
      "indexes: torch.Size([2688, 8])\n",
      "Expanded shape torch.Size([26880, 8])\n"
     ]
    },
    {
     "name": "stderr",
     "output_type": "stream",
     "text": [
      "\n",
      " 22%|████████████████████▏                                                                       | 220/1000 [00:46<02:41,  4.82it/s]\u001b[A"
     ]
    },
    {
     "name": "stdout",
     "output_type": "stream",
     "text": [
      "distances: torch.Size([2688, 1000])\n",
      "Indexes shape:  torch.Size([2688, 8])\n",
      "Kxz: torch.Size([26880, 1000])\n",
      "kzz_inv: torch.Size([26880, 8, 8])\n",
      "indexes: torch.Size([2688, 8])\n",
      "Expanded shape torch.Size([26880, 8])\n"
     ]
    },
    {
     "name": "stderr",
     "output_type": "stream",
     "text": [
      "\n",
      " 22%|████████████████████▎                                                                       | 221/1000 [00:46<02:41,  4.82it/s]\u001b[A"
     ]
    },
    {
     "name": "stdout",
     "output_type": "stream",
     "text": [
      "distances: torch.Size([2688, 1000])\n",
      "Indexes shape:  torch.Size([2688, 8])\n",
      "Kxz: torch.Size([26880, 1000])\n",
      "kzz_inv: torch.Size([26880, 8, 8])\n",
      "indexes: torch.Size([2688, 8])\n",
      "Expanded shape torch.Size([26880, 8])\n"
     ]
    },
    {
     "name": "stderr",
     "output_type": "stream",
     "text": [
      "\n",
      " 22%|████████████████████▍                                                                       | 222/1000 [00:46<02:41,  4.81it/s]\u001b[A"
     ]
    },
    {
     "name": "stdout",
     "output_type": "stream",
     "text": [
      "distances: torch.Size([2688, 1000])\n",
      "Indexes shape:  torch.Size([2688, 8])\n",
      "Kxz: torch.Size([26880, 1000])\n",
      "kzz_inv: torch.Size([26880, 8, 8])\n",
      "indexes: torch.Size([2688, 8])\n",
      "Expanded shape torch.Size([26880, 8])\n"
     ]
    },
    {
     "name": "stderr",
     "output_type": "stream",
     "text": [
      "\n",
      " 22%|████████████████████▌                                                                       | 223/1000 [00:46<02:41,  4.81it/s]\u001b[A"
     ]
    },
    {
     "name": "stdout",
     "output_type": "stream",
     "text": [
      "distances: torch.Size([2688, 1000])\n",
      "Indexes shape:  torch.Size([2688, 8])\n",
      "Kxz: torch.Size([26880, 1000])\n",
      "kzz_inv: torch.Size([26880, 8, 8])\n",
      "indexes: torch.Size([2688, 8])\n",
      "Expanded shape torch.Size([26880, 8])\n"
     ]
    },
    {
     "name": "stderr",
     "output_type": "stream",
     "text": [
      "\n",
      " 22%|████████████████████▌                                                                       | 224/1000 [00:47<02:41,  4.81it/s]\u001b[A"
     ]
    },
    {
     "name": "stdout",
     "output_type": "stream",
     "text": [
      "distances: torch.Size([2688, 1000])\n",
      "Indexes shape:  torch.Size([2688, 8])\n",
      "Kxz: torch.Size([26880, 1000])\n",
      "kzz_inv: torch.Size([26880, 8, 8])\n",
      "indexes: torch.Size([2688, 8])\n",
      "Expanded shape torch.Size([26880, 8])\n"
     ]
    },
    {
     "name": "stderr",
     "output_type": "stream",
     "text": [
      "\n",
      " 22%|████████████████████▋                                                                       | 225/1000 [00:47<02:41,  4.81it/s]\u001b[A"
     ]
    },
    {
     "name": "stdout",
     "output_type": "stream",
     "text": [
      "distances: torch.Size([2688, 1000])\n",
      "Indexes shape:  torch.Size([2688, 8])\n",
      "Kxz: torch.Size([26880, 1000])\n",
      "kzz_inv: torch.Size([26880, 8, 8])\n",
      "indexes: torch.Size([2688, 8])\n",
      "Expanded shape torch.Size([26880, 8])\n"
     ]
    },
    {
     "name": "stderr",
     "output_type": "stream",
     "text": [
      "\n",
      " 23%|████████████████████▊                                                                       | 226/1000 [00:47<02:40,  4.81it/s]\u001b[A"
     ]
    },
    {
     "name": "stdout",
     "output_type": "stream",
     "text": [
      "distances: torch.Size([2688, 1000])\n",
      "Indexes shape:  torch.Size([2688, 8])\n",
      "Kxz: torch.Size([26880, 1000])\n",
      "kzz_inv: torch.Size([26880, 8, 8])\n",
      "indexes: torch.Size([2688, 8])\n",
      "Expanded shape torch.Size([26880, 8])\n"
     ]
    },
    {
     "name": "stderr",
     "output_type": "stream",
     "text": [
      "\n",
      " 23%|████████████████████▉                                                                       | 227/1000 [00:47<02:40,  4.82it/s]\u001b[A"
     ]
    },
    {
     "name": "stdout",
     "output_type": "stream",
     "text": [
      "distances: torch.Size([2688, 1000])\n",
      "Indexes shape:  torch.Size([2688, 8])\n",
      "Kxz: torch.Size([26880, 1000])\n",
      "kzz_inv: torch.Size([26880, 8, 8])\n",
      "indexes: torch.Size([2688, 8])\n",
      "Expanded shape torch.Size([26880, 8])\n"
     ]
    },
    {
     "name": "stderr",
     "output_type": "stream",
     "text": [
      "\n",
      " 23%|████████████████████▉                                                                       | 228/1000 [00:47<02:40,  4.81it/s]\u001b[A"
     ]
    },
    {
     "name": "stdout",
     "output_type": "stream",
     "text": [
      "distances: torch.Size([2688, 1000])\n",
      "Indexes shape:  torch.Size([2688, 8])\n",
      "Kxz: torch.Size([26880, 1000])\n",
      "kzz_inv: torch.Size([26880, 8, 8])\n",
      "indexes: torch.Size([2688, 8])\n",
      "Expanded shape torch.Size([26880, 8])\n"
     ]
    },
    {
     "name": "stderr",
     "output_type": "stream",
     "text": [
      "\n",
      " 23%|█████████████████████                                                                       | 229/1000 [00:48<02:40,  4.81it/s]\u001b[A"
     ]
    },
    {
     "name": "stdout",
     "output_type": "stream",
     "text": [
      "distances: torch.Size([2688, 1000])\n",
      "Indexes shape:  torch.Size([2688, 8])\n",
      "Kxz: torch.Size([26880, 1000])\n",
      "kzz_inv: torch.Size([26880, 8, 8])\n",
      "indexes: torch.Size([2688, 8])\n",
      "Expanded shape torch.Size([26880, 8])\n"
     ]
    },
    {
     "name": "stderr",
     "output_type": "stream",
     "text": [
      "\n",
      " 23%|█████████████████████▏                                                                      | 230/1000 [00:48<02:39,  4.82it/s]\u001b[A"
     ]
    },
    {
     "name": "stdout",
     "output_type": "stream",
     "text": [
      "distances: torch.Size([2688, 1000])\n",
      "Indexes shape:  torch.Size([2688, 8])\n",
      "Kxz: torch.Size([26880, 1000])\n",
      "kzz_inv: torch.Size([26880, 8, 8])\n",
      "indexes: torch.Size([2688, 8])\n",
      "Expanded shape torch.Size([26880, 8])\n"
     ]
    },
    {
     "name": "stderr",
     "output_type": "stream",
     "text": [
      "\n",
      " 23%|█████████████████████▎                                                                      | 231/1000 [00:48<02:39,  4.81it/s]\u001b[A"
     ]
    },
    {
     "name": "stdout",
     "output_type": "stream",
     "text": [
      "distances: torch.Size([2688, 1000])\n",
      "Indexes shape:  torch.Size([2688, 8])\n",
      "Kxz: torch.Size([26880, 1000])\n",
      "kzz_inv: torch.Size([26880, 8, 8])\n",
      "indexes: torch.Size([2688, 8])\n",
      "Expanded shape torch.Size([26880, 8])\n"
     ]
    },
    {
     "name": "stderr",
     "output_type": "stream",
     "text": [
      "\n",
      " 23%|█████████████████████▎                                                                      | 232/1000 [00:48<02:39,  4.81it/s]\u001b[A"
     ]
    },
    {
     "name": "stdout",
     "output_type": "stream",
     "text": [
      "distances: torch.Size([2688, 1000])\n",
      "Indexes shape:  torch.Size([2688, 8])\n",
      "Kxz: torch.Size([26880, 1000])\n",
      "kzz_inv: torch.Size([26880, 8, 8])\n",
      "indexes: torch.Size([2688, 8])\n",
      "Expanded shape torch.Size([26880, 8])\n"
     ]
    },
    {
     "name": "stderr",
     "output_type": "stream",
     "text": [
      "\n",
      " 23%|█████████████████████▍                                                                      | 233/1000 [00:48<02:39,  4.81it/s]\u001b[A"
     ]
    },
    {
     "name": "stdout",
     "output_type": "stream",
     "text": [
      "distances: torch.Size([2688, 1000])\n",
      "Indexes shape:  torch.Size([2688, 8])\n",
      "Kxz: torch.Size([26880, 1000])\n",
      "kzz_inv: torch.Size([26880, 8, 8])\n",
      "indexes: torch.Size([2688, 8])\n",
      "Expanded shape torch.Size([26880, 8])\n"
     ]
    },
    {
     "name": "stderr",
     "output_type": "stream",
     "text": [
      "\n",
      " 23%|█████████████████████▌                                                                      | 234/1000 [00:49<02:39,  4.81it/s]\u001b[A"
     ]
    },
    {
     "name": "stdout",
     "output_type": "stream",
     "text": [
      "distances: torch.Size([2688, 1000])\n",
      "Indexes shape:  torch.Size([2688, 8])\n",
      "Kxz: torch.Size([26880, 1000])\n",
      "kzz_inv: torch.Size([26880, 8, 8])\n",
      "indexes: torch.Size([2688, 8])\n",
      "Expanded shape torch.Size([26880, 8])\n"
     ]
    },
    {
     "name": "stderr",
     "output_type": "stream",
     "text": [
      "\n",
      " 24%|█████████████████████▌                                                                      | 235/1000 [00:49<02:38,  4.82it/s]\u001b[A"
     ]
    },
    {
     "name": "stdout",
     "output_type": "stream",
     "text": [
      "distances: torch.Size([2688, 1000])\n",
      "Indexes shape:  torch.Size([2688, 8])\n",
      "Kxz: torch.Size([26880, 1000])\n",
      "kzz_inv: torch.Size([26880, 8, 8])\n",
      "indexes: torch.Size([2688, 8])\n",
      "Expanded shape torch.Size([26880, 8])\n"
     ]
    },
    {
     "name": "stderr",
     "output_type": "stream",
     "text": [
      "\n",
      " 24%|█████████████████████▋                                                                      | 236/1000 [00:49<02:38,  4.82it/s]\u001b[A"
     ]
    },
    {
     "name": "stdout",
     "output_type": "stream",
     "text": [
      "distances: torch.Size([2688, 1000])\n",
      "Indexes shape:  torch.Size([2688, 8])\n",
      "Kxz: torch.Size([26880, 1000])\n",
      "kzz_inv: torch.Size([26880, 8, 8])\n",
      "indexes: torch.Size([2688, 8])\n",
      "Expanded shape torch.Size([26880, 8])\n"
     ]
    },
    {
     "name": "stderr",
     "output_type": "stream",
     "text": [
      "\n",
      " 24%|█████████████████████▊                                                                      | 237/1000 [00:49<02:38,  4.82it/s]\u001b[A"
     ]
    },
    {
     "name": "stdout",
     "output_type": "stream",
     "text": [
      "distances: torch.Size([2688, 1000])\n",
      "Indexes shape:  torch.Size([2688, 8])\n",
      "Kxz: torch.Size([26880, 1000])\n",
      "kzz_inv: torch.Size([26880, 8, 8])\n",
      "indexes: torch.Size([2688, 8])\n",
      "Expanded shape torch.Size([26880, 8])\n"
     ]
    },
    {
     "name": "stderr",
     "output_type": "stream",
     "text": [
      "\n",
      " 24%|█████████████████████▉                                                                      | 238/1000 [00:49<02:38,  4.82it/s]\u001b[A"
     ]
    },
    {
     "name": "stdout",
     "output_type": "stream",
     "text": [
      "distances: torch.Size([2688, 1000])\n",
      "Indexes shape:  torch.Size([2688, 8])\n",
      "Kxz: torch.Size([26880, 1000])\n",
      "kzz_inv: torch.Size([26880, 8, 8])\n",
      "indexes: torch.Size([2688, 8])\n",
      "Expanded shape torch.Size([26880, 8])\n"
     ]
    },
    {
     "name": "stderr",
     "output_type": "stream",
     "text": [
      "\n",
      " 24%|█████████████████████▉                                                                      | 239/1000 [00:50<02:37,  4.82it/s]\u001b[A"
     ]
    },
    {
     "name": "stdout",
     "output_type": "stream",
     "text": [
      "distances: torch.Size([2688, 1000])\n",
      "Indexes shape:  torch.Size([2688, 8])\n",
      "Kxz: torch.Size([26880, 1000])\n",
      "kzz_inv: torch.Size([26880, 8, 8])\n",
      "indexes: torch.Size([2688, 8])\n",
      "Expanded shape torch.Size([26880, 8])\n"
     ]
    },
    {
     "name": "stderr",
     "output_type": "stream",
     "text": [
      "\n",
      " 24%|██████████████████████                                                                      | 240/1000 [00:50<02:37,  4.82it/s]\u001b[A"
     ]
    },
    {
     "name": "stdout",
     "output_type": "stream",
     "text": [
      "distances: torch.Size([2688, 1000])\n",
      "Indexes shape:  torch.Size([2688, 8])\n",
      "Kxz: torch.Size([26880, 1000])\n",
      "kzz_inv: torch.Size([26880, 8, 8])\n",
      "indexes: torch.Size([2688, 8])\n",
      "Expanded shape torch.Size([26880, 8])\n"
     ]
    },
    {
     "name": "stderr",
     "output_type": "stream",
     "text": [
      "\n",
      " 24%|██████████████████████▏                                                                     | 241/1000 [00:50<02:37,  4.82it/s]\u001b[A"
     ]
    },
    {
     "name": "stdout",
     "output_type": "stream",
     "text": [
      "distances: torch.Size([2688, 1000])\n",
      "Indexes shape:  torch.Size([2688, 8])\n",
      "Kxz: torch.Size([26880, 1000])\n",
      "kzz_inv: torch.Size([26880, 8, 8])\n",
      "indexes: torch.Size([2688, 8])\n",
      "Expanded shape torch.Size([26880, 8])\n"
     ]
    },
    {
     "name": "stderr",
     "output_type": "stream",
     "text": [
      "\n",
      " 24%|██████████████████████▎                                                                     | 242/1000 [00:50<02:37,  4.82it/s]\u001b[A"
     ]
    },
    {
     "name": "stdout",
     "output_type": "stream",
     "text": [
      "distances: torch.Size([2688, 1000])\n",
      "Indexes shape:  torch.Size([2688, 8])\n",
      "Kxz: torch.Size([26880, 1000])\n",
      "kzz_inv: torch.Size([26880, 8, 8])\n",
      "indexes: torch.Size([2688, 8])\n",
      "Expanded shape torch.Size([26880, 8])\n"
     ]
    },
    {
     "name": "stderr",
     "output_type": "stream",
     "text": [
      "\n",
      " 24%|██████████████████████▎                                                                     | 243/1000 [00:51<02:37,  4.82it/s]\u001b[A"
     ]
    },
    {
     "name": "stdout",
     "output_type": "stream",
     "text": [
      "distances: torch.Size([2688, 1000])\n",
      "Indexes shape:  torch.Size([2688, 8])\n",
      "Kxz: torch.Size([26880, 1000])\n",
      "kzz_inv: torch.Size([26880, 8, 8])\n",
      "indexes: torch.Size([2688, 8])\n",
      "Expanded shape torch.Size([26880, 8])\n"
     ]
    },
    {
     "name": "stderr",
     "output_type": "stream",
     "text": [
      "\n",
      " 24%|██████████████████████▍                                                                     | 244/1000 [00:51<02:37,  4.81it/s]\u001b[A"
     ]
    },
    {
     "name": "stdout",
     "output_type": "stream",
     "text": [
      "distances: torch.Size([2688, 1000])\n",
      "Indexes shape:  torch.Size([2688, 8])\n",
      "Kxz: torch.Size([26880, 1000])\n",
      "kzz_inv: torch.Size([26880, 8, 8])\n",
      "indexes: torch.Size([2688, 8])\n",
      "Expanded shape torch.Size([26880, 8])\n"
     ]
    },
    {
     "name": "stderr",
     "output_type": "stream",
     "text": [
      "\n",
      " 24%|██████████████████████▌                                                                     | 245/1000 [00:51<02:36,  4.82it/s]\u001b[A"
     ]
    },
    {
     "name": "stdout",
     "output_type": "stream",
     "text": [
      "distances: torch.Size([2688, 1000])\n",
      "Indexes shape:  torch.Size([2688, 8])\n",
      "Kxz: torch.Size([26880, 1000])\n",
      "kzz_inv: torch.Size([26880, 8, 8])\n",
      "indexes: torch.Size([2688, 8])\n",
      "Expanded shape torch.Size([26880, 8])\n"
     ]
    },
    {
     "name": "stderr",
     "output_type": "stream",
     "text": [
      "\n",
      " 25%|██████████████████████▋                                                                     | 246/1000 [00:51<02:36,  4.82it/s]\u001b[A"
     ]
    },
    {
     "name": "stdout",
     "output_type": "stream",
     "text": [
      "distances: torch.Size([2688, 1000])\n",
      "Indexes shape:  torch.Size([2688, 8])\n",
      "Kxz: torch.Size([26880, 1000])\n",
      "kzz_inv: torch.Size([26880, 8, 8])\n",
      "indexes: torch.Size([2688, 8])\n",
      "Expanded shape torch.Size([26880, 8])\n"
     ]
    },
    {
     "name": "stderr",
     "output_type": "stream",
     "text": [
      "\n",
      " 25%|██████████████████████▋                                                                     | 247/1000 [00:51<02:36,  4.82it/s]\u001b[A"
     ]
    },
    {
     "name": "stdout",
     "output_type": "stream",
     "text": [
      "distances: torch.Size([2688, 1000])\n",
      "Indexes shape:  torch.Size([2688, 8])\n",
      "Kxz: torch.Size([26880, 1000])\n",
      "kzz_inv: torch.Size([26880, 8, 8])\n",
      "indexes: torch.Size([2688, 8])\n",
      "Expanded shape torch.Size([26880, 8])\n"
     ]
    },
    {
     "name": "stderr",
     "output_type": "stream",
     "text": [
      "\n",
      " 25%|██████████████████████▊                                                                     | 248/1000 [00:52<02:36,  4.82it/s]\u001b[A"
     ]
    },
    {
     "name": "stdout",
     "output_type": "stream",
     "text": [
      "distances: torch.Size([2688, 1000])\n",
      "Indexes shape:  torch.Size([2688, 8])\n",
      "Kxz: torch.Size([26880, 1000])\n",
      "kzz_inv: torch.Size([26880, 8, 8])\n",
      "indexes: torch.Size([2688, 8])\n",
      "Expanded shape torch.Size([26880, 8])\n"
     ]
    },
    {
     "name": "stderr",
     "output_type": "stream",
     "text": [
      "\n",
      " 25%|██████████████████████▉                                                                     | 249/1000 [00:52<02:35,  4.82it/s]\u001b[A"
     ]
    },
    {
     "name": "stdout",
     "output_type": "stream",
     "text": [
      "distances: torch.Size([2688, 1000])\n",
      "Indexes shape:  torch.Size([2688, 8])\n",
      "Kxz: torch.Size([26880, 1000])\n",
      "kzz_inv: torch.Size([26880, 8, 8])\n",
      "indexes: torch.Size([2688, 8])\n",
      "Expanded shape torch.Size([26880, 8])\n"
     ]
    },
    {
     "name": "stderr",
     "output_type": "stream",
     "text": [
      "\n",
      " 25%|███████████████████████                                                                     | 250/1000 [00:52<02:35,  4.82it/s]\u001b[A"
     ]
    },
    {
     "name": "stdout",
     "output_type": "stream",
     "text": [
      "distances: torch.Size([2688, 1000])\n",
      "Indexes shape:  torch.Size([2688, 8])\n",
      "Kxz: torch.Size([26880, 1000])\n",
      "kzz_inv: torch.Size([26880, 8, 8])\n",
      "indexes: torch.Size([2688, 8])\n",
      "Expanded shape torch.Size([26880, 8])\n"
     ]
    },
    {
     "name": "stderr",
     "output_type": "stream",
     "text": [
      "\n",
      " 25%|███████████████████████                                                                     | 251/1000 [00:52<02:35,  4.81it/s]\u001b[A"
     ]
    },
    {
     "name": "stdout",
     "output_type": "stream",
     "text": [
      "distances: torch.Size([2688, 1000])\n",
      "Indexes shape:  torch.Size([2688, 8])\n",
      "Kxz: torch.Size([26880, 1000])\n",
      "kzz_inv: torch.Size([26880, 8, 8])\n",
      "indexes: torch.Size([2688, 8])\n",
      "Expanded shape torch.Size([26880, 8])\n"
     ]
    },
    {
     "name": "stderr",
     "output_type": "stream",
     "text": [
      "\n",
      " 25%|███████████████████████▏                                                                    | 252/1000 [00:52<02:35,  4.82it/s]\u001b[A"
     ]
    },
    {
     "name": "stdout",
     "output_type": "stream",
     "text": [
      "distances: torch.Size([2688, 1000])\n",
      "Indexes shape:  torch.Size([2688, 8])\n",
      "Kxz: torch.Size([26880, 1000])\n",
      "kzz_inv: torch.Size([26880, 8, 8])\n",
      "indexes: torch.Size([2688, 8])\n",
      "Expanded shape torch.Size([26880, 8])\n"
     ]
    },
    {
     "name": "stderr",
     "output_type": "stream",
     "text": [
      "\n",
      " 25%|███████████████████████▎                                                                    | 253/1000 [00:53<02:35,  4.82it/s]\u001b[A"
     ]
    },
    {
     "name": "stdout",
     "output_type": "stream",
     "text": [
      "distances: torch.Size([2688, 1000])\n",
      "Indexes shape:  torch.Size([2688, 8])\n",
      "Kxz: torch.Size([26880, 1000])\n",
      "kzz_inv: torch.Size([26880, 8, 8])\n",
      "indexes: torch.Size([2688, 8])\n",
      "Expanded shape torch.Size([26880, 8])\n"
     ]
    },
    {
     "name": "stderr",
     "output_type": "stream",
     "text": [
      "\n",
      " 25%|███████████████████████▎                                                                    | 254/1000 [00:53<02:34,  4.81it/s]\u001b[A"
     ]
    },
    {
     "name": "stdout",
     "output_type": "stream",
     "text": [
      "distances: torch.Size([2688, 1000])\n",
      "Indexes shape:  torch.Size([2688, 8])\n",
      "Kxz: torch.Size([26880, 1000])\n",
      "kzz_inv: torch.Size([26880, 8, 8])\n",
      "indexes: torch.Size([2688, 8])\n",
      "Expanded shape torch.Size([26880, 8])\n"
     ]
    },
    {
     "name": "stderr",
     "output_type": "stream",
     "text": [
      "\n",
      " 26%|███████████████████████▍                                                                    | 255/1000 [00:53<02:34,  4.82it/s]\u001b[A"
     ]
    },
    {
     "name": "stdout",
     "output_type": "stream",
     "text": [
      "distances: torch.Size([2688, 1000])\n",
      "Indexes shape:  torch.Size([2688, 8])\n",
      "Kxz: torch.Size([26880, 1000])\n",
      "kzz_inv: torch.Size([26880, 8, 8])\n",
      "indexes: torch.Size([2688, 8])\n",
      "Expanded shape torch.Size([26880, 8])\n"
     ]
    },
    {
     "name": "stderr",
     "output_type": "stream",
     "text": [
      "\n",
      " 26%|███████████████████████▌                                                                    | 256/1000 [00:53<02:34,  4.81it/s]\u001b[A"
     ]
    },
    {
     "name": "stdout",
     "output_type": "stream",
     "text": [
      "distances: torch.Size([2688, 1000])\n",
      "Indexes shape:  torch.Size([2688, 8])\n",
      "Kxz: torch.Size([26880, 1000])\n",
      "kzz_inv: torch.Size([26880, 8, 8])\n",
      "indexes: torch.Size([2688, 8])\n",
      "Expanded shape torch.Size([26880, 8])\n"
     ]
    },
    {
     "name": "stderr",
     "output_type": "stream",
     "text": [
      "\n",
      " 26%|███████████████████████▋                                                                    | 257/1000 [00:53<02:34,  4.81it/s]\u001b[A"
     ]
    },
    {
     "name": "stdout",
     "output_type": "stream",
     "text": [
      "distances: torch.Size([2688, 1000])\n",
      "Indexes shape:  torch.Size([2688, 8])\n",
      "Kxz: torch.Size([26880, 1000])\n",
      "kzz_inv: torch.Size([26880, 8, 8])\n",
      "indexes: torch.Size([2688, 8])\n",
      "Expanded shape torch.Size([26880, 8])\n"
     ]
    },
    {
     "name": "stderr",
     "output_type": "stream",
     "text": [
      "\n",
      " 26%|███████████████████████▋                                                                    | 258/1000 [00:54<02:34,  4.81it/s]\u001b[A"
     ]
    },
    {
     "name": "stdout",
     "output_type": "stream",
     "text": [
      "distances: torch.Size([2688, 1000])\n",
      "Indexes shape:  torch.Size([2688, 8])\n",
      "Kxz: torch.Size([26880, 1000])\n",
      "kzz_inv: torch.Size([26880, 8, 8])\n",
      "indexes: torch.Size([2688, 8])\n",
      "Expanded shape torch.Size([26880, 8])\n"
     ]
    },
    {
     "name": "stderr",
     "output_type": "stream",
     "text": [
      "\n",
      " 26%|███████████████████████▊                                                                    | 259/1000 [00:54<02:33,  4.81it/s]\u001b[A"
     ]
    },
    {
     "name": "stdout",
     "output_type": "stream",
     "text": [
      "distances: torch.Size([2688, 1000])\n",
      "Indexes shape:  torch.Size([2688, 8])\n",
      "Kxz: torch.Size([26880, 1000])\n",
      "kzz_inv: torch.Size([26880, 8, 8])\n",
      "indexes: torch.Size([2688, 8])\n",
      "Expanded shape torch.Size([26880, 8])\n"
     ]
    },
    {
     "name": "stderr",
     "output_type": "stream",
     "text": [
      "\n",
      " 26%|███████████████████████▉                                                                    | 260/1000 [00:54<02:33,  4.81it/s]\u001b[A"
     ]
    },
    {
     "name": "stdout",
     "output_type": "stream",
     "text": [
      "distances: torch.Size([2688, 1000])\n",
      "Indexes shape:  torch.Size([2688, 8])\n",
      "Kxz: torch.Size([26880, 1000])\n",
      "kzz_inv: torch.Size([26880, 8, 8])\n",
      "indexes: torch.Size([2688, 8])\n",
      "Expanded shape torch.Size([26880, 8])\n"
     ]
    },
    {
     "name": "stderr",
     "output_type": "stream",
     "text": [
      "\n",
      " 26%|████████████████████████                                                                    | 261/1000 [00:54<02:33,  4.81it/s]\u001b[A"
     ]
    },
    {
     "name": "stdout",
     "output_type": "stream",
     "text": [
      "distances: torch.Size([2688, 1000])\n",
      "Indexes shape:  torch.Size([2688, 8])\n",
      "Kxz: torch.Size([26880, 1000])\n",
      "kzz_inv: torch.Size([26880, 8, 8])\n",
      "indexes: torch.Size([2688, 8])\n",
      "Expanded shape torch.Size([26880, 8])\n"
     ]
    },
    {
     "name": "stderr",
     "output_type": "stream",
     "text": [
      "\n",
      " 26%|████████████████████████                                                                    | 262/1000 [00:54<02:33,  4.81it/s]\u001b[A"
     ]
    },
    {
     "name": "stdout",
     "output_type": "stream",
     "text": [
      "distances: torch.Size([2688, 1000])\n",
      "Indexes shape:  torch.Size([2688, 8])\n",
      "Kxz: torch.Size([26880, 1000])\n",
      "kzz_inv: torch.Size([26880, 8, 8])\n",
      "indexes: torch.Size([2688, 8])\n",
      "Expanded shape torch.Size([26880, 8])\n"
     ]
    },
    {
     "name": "stderr",
     "output_type": "stream",
     "text": [
      "\n",
      " 26%|████████████████████████▏                                                                   | 263/1000 [00:55<02:33,  4.81it/s]\u001b[A"
     ]
    },
    {
     "name": "stdout",
     "output_type": "stream",
     "text": [
      "distances: torch.Size([2688, 1000])\n",
      "Indexes shape:  torch.Size([2688, 8])\n",
      "Kxz: torch.Size([26880, 1000])\n",
      "kzz_inv: torch.Size([26880, 8, 8])\n",
      "indexes: torch.Size([2688, 8])\n",
      "Expanded shape torch.Size([26880, 8])\n"
     ]
    },
    {
     "name": "stderr",
     "output_type": "stream",
     "text": [
      "\n",
      " 26%|████████████████████████▎                                                                   | 264/1000 [00:55<02:32,  4.81it/s]\u001b[A"
     ]
    },
    {
     "name": "stdout",
     "output_type": "stream",
     "text": [
      "distances: torch.Size([2688, 1000])\n",
      "Indexes shape:  torch.Size([2688, 8])\n",
      "Kxz: torch.Size([26880, 1000])\n",
      "kzz_inv: torch.Size([26880, 8, 8])\n",
      "indexes: torch.Size([2688, 8])\n",
      "Expanded shape torch.Size([26880, 8])\n"
     ]
    },
    {
     "name": "stderr",
     "output_type": "stream",
     "text": [
      "\n",
      " 26%|████████████████████████▍                                                                   | 265/1000 [00:55<02:32,  4.81it/s]\u001b[A"
     ]
    },
    {
     "name": "stdout",
     "output_type": "stream",
     "text": [
      "distances: torch.Size([2688, 1000])\n",
      "Indexes shape:  torch.Size([2688, 8])\n",
      "Kxz: torch.Size([26880, 1000])\n",
      "kzz_inv: torch.Size([26880, 8, 8])\n",
      "indexes: torch.Size([2688, 8])\n",
      "Expanded shape torch.Size([26880, 8])\n"
     ]
    },
    {
     "name": "stderr",
     "output_type": "stream",
     "text": [
      "\n",
      " 27%|████████████████████████▍                                                                   | 266/1000 [00:55<02:32,  4.81it/s]\u001b[A"
     ]
    },
    {
     "name": "stdout",
     "output_type": "stream",
     "text": [
      "distances: torch.Size([2688, 1000])\n",
      "Indexes shape:  torch.Size([2688, 8])\n",
      "Kxz: torch.Size([26880, 1000])\n",
      "kzz_inv: torch.Size([26880, 8, 8])\n",
      "indexes: torch.Size([2688, 8])\n",
      "Expanded shape torch.Size([26880, 8])\n"
     ]
    },
    {
     "name": "stderr",
     "output_type": "stream",
     "text": [
      "\n",
      " 27%|████████████████████████▌                                                                   | 267/1000 [00:56<02:32,  4.81it/s]\u001b[A"
     ]
    },
    {
     "name": "stdout",
     "output_type": "stream",
     "text": [
      "distances: torch.Size([2688, 1000])\n",
      "Indexes shape:  torch.Size([2688, 8])\n",
      "Kxz: torch.Size([26880, 1000])\n",
      "kzz_inv: torch.Size([26880, 8, 8])\n",
      "indexes: torch.Size([2688, 8])\n",
      "Expanded shape torch.Size([26880, 8])\n"
     ]
    },
    {
     "name": "stderr",
     "output_type": "stream",
     "text": [
      "\n",
      " 27%|████████████████████████▋                                                                   | 268/1000 [00:56<02:32,  4.81it/s]\u001b[A"
     ]
    },
    {
     "name": "stdout",
     "output_type": "stream",
     "text": [
      "distances: torch.Size([2688, 1000])\n",
      "Indexes shape:  torch.Size([2688, 8])\n",
      "Kxz: torch.Size([26880, 1000])\n",
      "kzz_inv: torch.Size([26880, 8, 8])\n",
      "indexes: torch.Size([2688, 8])\n",
      "Expanded shape torch.Size([26880, 8])\n"
     ]
    },
    {
     "name": "stderr",
     "output_type": "stream",
     "text": [
      "\n",
      " 27%|████████████████████████▋                                                                   | 269/1000 [00:56<02:32,  4.81it/s]\u001b[A"
     ]
    },
    {
     "name": "stdout",
     "output_type": "stream",
     "text": [
      "distances: torch.Size([2688, 1000])\n",
      "Indexes shape:  torch.Size([2688, 8])\n",
      "Kxz: torch.Size([26880, 1000])\n",
      "kzz_inv: torch.Size([26880, 8, 8])\n",
      "indexes: torch.Size([2688, 8])\n",
      "Expanded shape torch.Size([26880, 8])\n"
     ]
    },
    {
     "name": "stderr",
     "output_type": "stream",
     "text": [
      "\n",
      " 27%|████████████████████████▊                                                                   | 270/1000 [00:56<02:31,  4.81it/s]\u001b[A"
     ]
    },
    {
     "name": "stdout",
     "output_type": "stream",
     "text": [
      "distances: torch.Size([2688, 1000])\n",
      "Indexes shape:  torch.Size([2688, 8])\n",
      "Kxz: torch.Size([26880, 1000])\n",
      "kzz_inv: torch.Size([26880, 8, 8])\n",
      "indexes: torch.Size([2688, 8])\n",
      "Expanded shape torch.Size([26880, 8])\n"
     ]
    },
    {
     "name": "stderr",
     "output_type": "stream",
     "text": [
      "\n",
      " 27%|████████████████████████▉                                                                   | 271/1000 [00:56<02:31,  4.81it/s]\u001b[A"
     ]
    },
    {
     "name": "stdout",
     "output_type": "stream",
     "text": [
      "distances: torch.Size([2688, 1000])\n",
      "Indexes shape:  torch.Size([2688, 8])\n",
      "Kxz: torch.Size([26880, 1000])\n",
      "kzz_inv: torch.Size([26880, 8, 8])\n",
      "indexes: torch.Size([2688, 8])\n",
      "Expanded shape torch.Size([26880, 8])\n"
     ]
    },
    {
     "name": "stderr",
     "output_type": "stream",
     "text": [
      "\n",
      " 27%|█████████████████████████                                                                   | 272/1000 [00:57<02:31,  4.81it/s]\u001b[A"
     ]
    },
    {
     "name": "stdout",
     "output_type": "stream",
     "text": [
      "distances: torch.Size([2688, 1000])\n",
      "Indexes shape:  torch.Size([2688, 8])\n",
      "Kxz: torch.Size([26880, 1000])\n",
      "kzz_inv: torch.Size([26880, 8, 8])\n",
      "indexes: torch.Size([2688, 8])\n",
      "Expanded shape torch.Size([26880, 8])\n"
     ]
    },
    {
     "name": "stderr",
     "output_type": "stream",
     "text": [
      "\n",
      " 27%|█████████████████████████                                                                   | 273/1000 [00:57<02:31,  4.81it/s]\u001b[A"
     ]
    },
    {
     "name": "stdout",
     "output_type": "stream",
     "text": [
      "distances: torch.Size([2688, 1000])\n",
      "Indexes shape:  torch.Size([2688, 8])\n",
      "Kxz: torch.Size([26880, 1000])\n",
      "kzz_inv: torch.Size([26880, 8, 8])\n",
      "indexes: torch.Size([2688, 8])\n",
      "Expanded shape torch.Size([26880, 8])\n"
     ]
    },
    {
     "name": "stderr",
     "output_type": "stream",
     "text": [
      "\n",
      " 27%|█████████████████████████▏                                                                  | 274/1000 [00:57<02:30,  4.81it/s]\u001b[A"
     ]
    },
    {
     "name": "stdout",
     "output_type": "stream",
     "text": [
      "distances: torch.Size([2688, 1000])\n",
      "Indexes shape:  torch.Size([2688, 8])\n",
      "Kxz: torch.Size([26880, 1000])\n",
      "kzz_inv: torch.Size([26880, 8, 8])\n",
      "indexes: torch.Size([2688, 8])\n",
      "Expanded shape torch.Size([26880, 8])\n"
     ]
    },
    {
     "name": "stderr",
     "output_type": "stream",
     "text": [
      "\n",
      " 28%|█████████████████████████▎                                                                  | 275/1000 [00:57<02:30,  4.81it/s]\u001b[A"
     ]
    },
    {
     "name": "stdout",
     "output_type": "stream",
     "text": [
      "distances: torch.Size([2688, 1000])\n",
      "Indexes shape:  torch.Size([2688, 8])\n",
      "Kxz: torch.Size([26880, 1000])\n",
      "kzz_inv: torch.Size([26880, 8, 8])\n",
      "indexes: torch.Size([2688, 8])\n",
      "Expanded shape torch.Size([26880, 8])\n"
     ]
    },
    {
     "name": "stderr",
     "output_type": "stream",
     "text": [
      "\n",
      " 28%|█████████████████████████▍                                                                  | 276/1000 [00:57<02:30,  4.81it/s]\u001b[A"
     ]
    },
    {
     "name": "stdout",
     "output_type": "stream",
     "text": [
      "distances: torch.Size([2688, 1000])\n",
      "Indexes shape:  torch.Size([2688, 8])\n",
      "Kxz: torch.Size([26880, 1000])\n",
      "kzz_inv: torch.Size([26880, 8, 8])\n",
      "indexes: torch.Size([2688, 8])\n",
      "Expanded shape torch.Size([26880, 8])\n"
     ]
    },
    {
     "name": "stderr",
     "output_type": "stream",
     "text": [
      "\n",
      " 28%|█████████████████████████▍                                                                  | 277/1000 [00:58<02:30,  4.81it/s]\u001b[A"
     ]
    },
    {
     "name": "stdout",
     "output_type": "stream",
     "text": [
      "distances: torch.Size([2688, 1000])\n",
      "Indexes shape:  torch.Size([2688, 8])\n",
      "Kxz: torch.Size([26880, 1000])\n",
      "kzz_inv: torch.Size([26880, 8, 8])\n",
      "indexes: torch.Size([2688, 8])\n",
      "Expanded shape torch.Size([26880, 8])\n"
     ]
    },
    {
     "name": "stderr",
     "output_type": "stream",
     "text": [
      "\n",
      " 28%|█████████████████████████▌                                                                  | 278/1000 [00:58<02:30,  4.81it/s]\u001b[A"
     ]
    },
    {
     "name": "stdout",
     "output_type": "stream",
     "text": [
      "distances: torch.Size([2688, 1000])\n",
      "Indexes shape:  torch.Size([2688, 8])\n",
      "Kxz: torch.Size([26880, 1000])\n",
      "kzz_inv: torch.Size([26880, 8, 8])\n",
      "indexes: torch.Size([2688, 8])\n",
      "Expanded shape torch.Size([26880, 8])\n"
     ]
    },
    {
     "name": "stderr",
     "output_type": "stream",
     "text": [
      "\n",
      " 28%|█████████████████████████▋                                                                  | 279/1000 [00:58<02:29,  4.81it/s]\u001b[A"
     ]
    },
    {
     "name": "stdout",
     "output_type": "stream",
     "text": [
      "distances: torch.Size([2688, 1000])\n",
      "Indexes shape:  torch.Size([2688, 8])\n",
      "Kxz: torch.Size([26880, 1000])\n",
      "kzz_inv: torch.Size([26880, 8, 8])\n",
      "indexes: torch.Size([2688, 8])\n",
      "Expanded shape torch.Size([26880, 8])\n"
     ]
    },
    {
     "name": "stderr",
     "output_type": "stream",
     "text": [
      "\n",
      " 28%|█████████████████████████▊                                                                  | 280/1000 [00:58<02:29,  4.81it/s]\u001b[A"
     ]
    },
    {
     "name": "stdout",
     "output_type": "stream",
     "text": [
      "distances: torch.Size([2688, 1000])\n",
      "Indexes shape:  torch.Size([2688, 8])\n",
      "Kxz: torch.Size([26880, 1000])\n",
      "kzz_inv: torch.Size([26880, 8, 8])\n",
      "indexes: torch.Size([2688, 8])\n",
      "Expanded shape torch.Size([26880, 8])\n"
     ]
    },
    {
     "name": "stderr",
     "output_type": "stream",
     "text": [
      "\n",
      " 28%|█████████████████████████▊                                                                  | 281/1000 [00:58<02:29,  4.81it/s]\u001b[A"
     ]
    },
    {
     "name": "stdout",
     "output_type": "stream",
     "text": [
      "distances: torch.Size([2688, 1000])\n",
      "Indexes shape:  torch.Size([2688, 8])\n",
      "Kxz: torch.Size([26880, 1000])\n",
      "kzz_inv: torch.Size([26880, 8, 8])\n",
      "indexes: torch.Size([2688, 8])\n",
      "Expanded shape torch.Size([26880, 8])\n"
     ]
    },
    {
     "name": "stderr",
     "output_type": "stream",
     "text": [
      "\n",
      " 28%|█████████████████████████▉                                                                  | 282/1000 [00:59<02:29,  4.81it/s]\u001b[A"
     ]
    },
    {
     "name": "stdout",
     "output_type": "stream",
     "text": [
      "distances: torch.Size([2688, 1000])\n",
      "Indexes shape:  torch.Size([2688, 8])\n",
      "Kxz: torch.Size([26880, 1000])\n",
      "kzz_inv: torch.Size([26880, 8, 8])\n",
      "indexes: torch.Size([2688, 8])\n",
      "Expanded shape torch.Size([26880, 8])\n"
     ]
    },
    {
     "name": "stderr",
     "output_type": "stream",
     "text": [
      "\n",
      " 28%|██████████████████████████                                                                  | 283/1000 [00:59<02:29,  4.81it/s]\u001b[A"
     ]
    },
    {
     "name": "stdout",
     "output_type": "stream",
     "text": [
      "distances: torch.Size([2688, 1000])\n",
      "Indexes shape:  torch.Size([2688, 8])\n",
      "Kxz: torch.Size([26880, 1000])\n",
      "kzz_inv: torch.Size([26880, 8, 8])\n",
      "indexes: torch.Size([2688, 8])\n",
      "Expanded shape torch.Size([26880, 8])\n"
     ]
    },
    {
     "name": "stderr",
     "output_type": "stream",
     "text": [
      "\n",
      " 28%|██████████████████████████▏                                                                 | 284/1000 [00:59<02:28,  4.81it/s]\u001b[A"
     ]
    },
    {
     "name": "stdout",
     "output_type": "stream",
     "text": [
      "distances: torch.Size([2688, 1000])\n",
      "Indexes shape:  torch.Size([2688, 8])\n",
      "Kxz: torch.Size([26880, 1000])\n",
      "kzz_inv: torch.Size([26880, 8, 8])\n",
      "indexes: torch.Size([2688, 8])\n",
      "Expanded shape torch.Size([26880, 8])\n"
     ]
    },
    {
     "name": "stderr",
     "output_type": "stream",
     "text": [
      "\n",
      " 28%|██████████████████████████▏                                                                 | 285/1000 [00:59<02:28,  4.81it/s]\u001b[A"
     ]
    },
    {
     "name": "stdout",
     "output_type": "stream",
     "text": [
      "distances: torch.Size([2688, 1000])\n",
      "Indexes shape:  torch.Size([2688, 8])\n",
      "Kxz: torch.Size([26880, 1000])\n",
      "kzz_inv: torch.Size([26880, 8, 8])\n",
      "indexes: torch.Size([2688, 8])\n",
      "Expanded shape torch.Size([26880, 8])\n"
     ]
    },
    {
     "name": "stderr",
     "output_type": "stream",
     "text": [
      "\n",
      " 29%|██████████████████████████▎                                                                 | 286/1000 [00:59<02:28,  4.81it/s]\u001b[A"
     ]
    },
    {
     "name": "stdout",
     "output_type": "stream",
     "text": [
      "distances: torch.Size([2688, 1000])\n",
      "Indexes shape:  torch.Size([2688, 8])\n",
      "Kxz: torch.Size([26880, 1000])\n",
      "kzz_inv: torch.Size([26880, 8, 8])\n",
      "indexes: torch.Size([2688, 8])\n",
      "Expanded shape torch.Size([26880, 8])\n"
     ]
    },
    {
     "name": "stderr",
     "output_type": "stream",
     "text": [
      "\n",
      " 29%|██████████████████████████▍                                                                 | 287/1000 [01:00<02:28,  4.81it/s]\u001b[A"
     ]
    },
    {
     "name": "stdout",
     "output_type": "stream",
     "text": [
      "distances: torch.Size([2688, 1000])\n",
      "Indexes shape:  torch.Size([2688, 8])\n",
      "Kxz: torch.Size([26880, 1000])\n",
      "kzz_inv: torch.Size([26880, 8, 8])\n",
      "indexes: torch.Size([2688, 8])\n",
      "Expanded shape torch.Size([26880, 8])\n"
     ]
    },
    {
     "name": "stderr",
     "output_type": "stream",
     "text": [
      "\n",
      " 29%|██████████████████████████▍                                                                 | 288/1000 [01:00<02:27,  4.81it/s]\u001b[A"
     ]
    },
    {
     "name": "stdout",
     "output_type": "stream",
     "text": [
      "distances: torch.Size([2688, 1000])\n",
      "Indexes shape:  torch.Size([2688, 8])\n",
      "Kxz: torch.Size([26880, 1000])\n",
      "kzz_inv: torch.Size([26880, 8, 8])\n",
      "indexes: torch.Size([2688, 8])\n",
      "Expanded shape torch.Size([26880, 8])\n"
     ]
    },
    {
     "name": "stderr",
     "output_type": "stream",
     "text": [
      "\n",
      " 29%|██████████████████████████▌                                                                 | 289/1000 [01:00<02:27,  4.81it/s]\u001b[A"
     ]
    },
    {
     "name": "stdout",
     "output_type": "stream",
     "text": [
      "distances: torch.Size([2688, 1000])\n",
      "Indexes shape:  torch.Size([2688, 8])\n",
      "Kxz: torch.Size([26880, 1000])\n",
      "kzz_inv: torch.Size([26880, 8, 8])\n",
      "indexes: torch.Size([2688, 8])\n",
      "Expanded shape torch.Size([26880, 8])\n"
     ]
    },
    {
     "name": "stderr",
     "output_type": "stream",
     "text": [
      "\n",
      " 29%|██████████████████████████▋                                                                 | 290/1000 [01:00<02:27,  4.81it/s]\u001b[A"
     ]
    },
    {
     "name": "stdout",
     "output_type": "stream",
     "text": [
      "distances: torch.Size([2688, 1000])\n",
      "Indexes shape:  torch.Size([2688, 8])\n",
      "Kxz: torch.Size([26880, 1000])\n",
      "kzz_inv: torch.Size([26880, 8, 8])\n",
      "indexes: torch.Size([2688, 8])\n",
      "Expanded shape torch.Size([26880, 8])\n"
     ]
    },
    {
     "name": "stderr",
     "output_type": "stream",
     "text": [
      "\n",
      " 29%|██████████████████████████▊                                                                 | 291/1000 [01:01<02:27,  4.81it/s]\u001b[A"
     ]
    },
    {
     "name": "stdout",
     "output_type": "stream",
     "text": [
      "distances: torch.Size([2688, 1000])\n",
      "Indexes shape:  torch.Size([2688, 8])\n",
      "Kxz: torch.Size([26880, 1000])\n",
      "kzz_inv: torch.Size([26880, 8, 8])\n",
      "indexes: torch.Size([2688, 8])\n",
      "Expanded shape torch.Size([26880, 8])\n"
     ]
    },
    {
     "name": "stderr",
     "output_type": "stream",
     "text": [
      "\n",
      " 29%|██████████████████████████▊                                                                 | 292/1000 [01:01<02:27,  4.81it/s]\u001b[A"
     ]
    },
    {
     "name": "stdout",
     "output_type": "stream",
     "text": [
      "distances: torch.Size([2688, 1000])\n",
      "Indexes shape:  torch.Size([2688, 8])\n",
      "Kxz: torch.Size([26880, 1000])\n",
      "kzz_inv: torch.Size([26880, 8, 8])\n",
      "indexes: torch.Size([2688, 8])\n",
      "Expanded shape torch.Size([26880, 8])\n"
     ]
    },
    {
     "name": "stderr",
     "output_type": "stream",
     "text": [
      "\n",
      " 29%|██████████████████████████▉                                                                 | 293/1000 [01:01<02:27,  4.81it/s]\u001b[A"
     ]
    },
    {
     "name": "stdout",
     "output_type": "stream",
     "text": [
      "distances: torch.Size([2688, 1000])\n",
      "Indexes shape:  torch.Size([2688, 8])\n",
      "Kxz: torch.Size([26880, 1000])\n",
      "kzz_inv: torch.Size([26880, 8, 8])\n",
      "indexes: torch.Size([2688, 8])\n",
      "Expanded shape torch.Size([26880, 8])\n"
     ]
    },
    {
     "name": "stderr",
     "output_type": "stream",
     "text": [
      "\n",
      " 29%|███████████████████████████                                                                 | 294/1000 [01:01<02:26,  4.81it/s]\u001b[A"
     ]
    },
    {
     "name": "stdout",
     "output_type": "stream",
     "text": [
      "distances: torch.Size([2688, 1000])\n",
      "Indexes shape:  torch.Size([2688, 8])\n",
      "Kxz: torch.Size([26880, 1000])\n",
      "kzz_inv: torch.Size([26880, 8, 8])\n",
      "indexes: torch.Size([2688, 8])\n",
      "Expanded shape torch.Size([26880, 8])\n"
     ]
    },
    {
     "name": "stderr",
     "output_type": "stream",
     "text": [
      "\n",
      " 30%|███████████████████████████▏                                                                | 295/1000 [01:01<02:26,  4.81it/s]\u001b[A"
     ]
    },
    {
     "name": "stdout",
     "output_type": "stream",
     "text": [
      "distances: torch.Size([2688, 1000])\n",
      "Indexes shape:  torch.Size([2688, 8])\n",
      "Kxz: torch.Size([26880, 1000])\n",
      "kzz_inv: torch.Size([26880, 8, 8])\n",
      "indexes: torch.Size([2688, 8])\n",
      "Expanded shape torch.Size([26880, 8])\n"
     ]
    },
    {
     "name": "stderr",
     "output_type": "stream",
     "text": [
      "\n",
      " 30%|███████████████████████████▏                                                                | 296/1000 [01:02<02:26,  4.81it/s]\u001b[A"
     ]
    },
    {
     "name": "stdout",
     "output_type": "stream",
     "text": [
      "distances: torch.Size([2688, 1000])\n",
      "Indexes shape:  torch.Size([2688, 8])\n",
      "Kxz: torch.Size([26880, 1000])\n",
      "kzz_inv: torch.Size([26880, 8, 8])\n",
      "indexes: torch.Size([2688, 8])\n",
      "Expanded shape torch.Size([26880, 8])\n"
     ]
    },
    {
     "name": "stderr",
     "output_type": "stream",
     "text": [
      "\n",
      " 30%|███████████████████████████▎                                                                | 297/1000 [01:02<02:26,  4.81it/s]\u001b[A"
     ]
    },
    {
     "name": "stdout",
     "output_type": "stream",
     "text": [
      "distances: torch.Size([2688, 1000])\n",
      "Indexes shape:  torch.Size([2688, 8])\n",
      "Kxz: torch.Size([26880, 1000])\n",
      "kzz_inv: torch.Size([26880, 8, 8])\n",
      "indexes: torch.Size([2688, 8])\n",
      "Expanded shape torch.Size([26880, 8])\n"
     ]
    },
    {
     "name": "stderr",
     "output_type": "stream",
     "text": [
      "\n",
      " 30%|███████████████████████████▍                                                                | 298/1000 [01:02<02:25,  4.81it/s]\u001b[A"
     ]
    },
    {
     "name": "stdout",
     "output_type": "stream",
     "text": [
      "distances: torch.Size([2688, 1000])\n",
      "Indexes shape:  torch.Size([2688, 8])\n",
      "Kxz: torch.Size([26880, 1000])\n",
      "kzz_inv: torch.Size([26880, 8, 8])\n",
      "indexes: torch.Size([2688, 8])\n",
      "Expanded shape torch.Size([26880, 8])\n"
     ]
    },
    {
     "name": "stderr",
     "output_type": "stream",
     "text": [
      "\n",
      " 30%|███████████████████████████▌                                                                | 299/1000 [01:02<02:25,  4.81it/s]\u001b[A"
     ]
    },
    {
     "name": "stdout",
     "output_type": "stream",
     "text": [
      "distances: torch.Size([2688, 1000])\n",
      "Indexes shape:  torch.Size([2688, 8])\n",
      "Kxz: torch.Size([26880, 1000])\n",
      "kzz_inv: torch.Size([26880, 8, 8])\n",
      "indexes: torch.Size([2688, 8])\n",
      "Expanded shape torch.Size([26880, 8])\n"
     ]
    },
    {
     "name": "stderr",
     "output_type": "stream",
     "text": [
      "\n",
      " 30%|███████████████████████████▌                                                                | 300/1000 [01:02<02:25,  4.81it/s]\u001b[A"
     ]
    },
    {
     "name": "stdout",
     "output_type": "stream",
     "text": [
      "distances: torch.Size([2688, 1000])\n",
      "Indexes shape:  torch.Size([2688, 8])\n",
      "Kxz: torch.Size([26880, 1000])\n",
      "kzz_inv: torch.Size([26880, 8, 8])\n",
      "indexes: torch.Size([2688, 8])\n",
      "Expanded shape torch.Size([26880, 8])\n"
     ]
    },
    {
     "name": "stderr",
     "output_type": "stream",
     "text": [
      "\n",
      " 30%|███████████████████████████▋                                                                | 301/1000 [01:03<02:25,  4.81it/s]\u001b[A"
     ]
    },
    {
     "name": "stdout",
     "output_type": "stream",
     "text": [
      "distances: torch.Size([2688, 1000])\n",
      "Indexes shape:  torch.Size([2688, 8])\n",
      "Kxz: torch.Size([26880, 1000])\n",
      "kzz_inv: torch.Size([26880, 8, 8])\n",
      "indexes: torch.Size([2688, 8])\n",
      "Expanded shape torch.Size([26880, 8])\n"
     ]
    },
    {
     "name": "stderr",
     "output_type": "stream",
     "text": [
      "\n",
      " 30%|███████████████████████████▊                                                                | 302/1000 [01:03<02:25,  4.81it/s]\u001b[A"
     ]
    },
    {
     "name": "stdout",
     "output_type": "stream",
     "text": [
      "distances: torch.Size([2688, 1000])\n",
      "Indexes shape:  torch.Size([2688, 8])\n",
      "Kxz: torch.Size([26880, 1000])\n",
      "kzz_inv: torch.Size([26880, 8, 8])\n",
      "indexes: torch.Size([2688, 8])\n",
      "Expanded shape torch.Size([26880, 8])\n"
     ]
    },
    {
     "name": "stderr",
     "output_type": "stream",
     "text": [
      "\n",
      " 30%|███████████████████████████▉                                                                | 303/1000 [01:03<02:24,  4.81it/s]\u001b[A"
     ]
    },
    {
     "name": "stdout",
     "output_type": "stream",
     "text": [
      "distances: torch.Size([2688, 1000])\n",
      "Indexes shape:  torch.Size([2688, 8])\n",
      "Kxz: torch.Size([26880, 1000])\n",
      "kzz_inv: torch.Size([26880, 8, 8])\n",
      "indexes: torch.Size([2688, 8])\n",
      "Expanded shape torch.Size([26880, 8])\n"
     ]
    },
    {
     "name": "stderr",
     "output_type": "stream",
     "text": [
      "\n",
      " 30%|███████████████████████████▉                                                                | 304/1000 [01:03<02:24,  4.81it/s]\u001b[A"
     ]
    },
    {
     "name": "stdout",
     "output_type": "stream",
     "text": [
      "distances: torch.Size([2688, 1000])\n",
      "Indexes shape:  torch.Size([2688, 8])\n",
      "Kxz: torch.Size([26880, 1000])\n",
      "kzz_inv: torch.Size([26880, 8, 8])\n",
      "indexes: torch.Size([2688, 8])\n",
      "Expanded shape torch.Size([26880, 8])\n"
     ]
    },
    {
     "name": "stderr",
     "output_type": "stream",
     "text": [
      "\n",
      " 30%|████████████████████████████                                                                | 305/1000 [01:03<02:24,  4.81it/s]\u001b[A"
     ]
    },
    {
     "name": "stdout",
     "output_type": "stream",
     "text": [
      "distances: torch.Size([2688, 1000])\n",
      "Indexes shape:  torch.Size([2688, 8])\n",
      "Kxz: torch.Size([26880, 1000])\n",
      "kzz_inv: torch.Size([26880, 8, 8])\n",
      "indexes: torch.Size([2688, 8])\n",
      "Expanded shape torch.Size([26880, 8])\n"
     ]
    },
    {
     "name": "stderr",
     "output_type": "stream",
     "text": [
      "\n",
      " 31%|████████████████████████████▏                                                               | 306/1000 [01:04<02:24,  4.81it/s]\u001b[A"
     ]
    },
    {
     "name": "stdout",
     "output_type": "stream",
     "text": [
      "distances: torch.Size([2688, 1000])\n",
      "Indexes shape:  torch.Size([2688, 8])\n",
      "Kxz: torch.Size([26880, 1000])\n",
      "kzz_inv: torch.Size([26880, 8, 8])\n",
      "indexes: torch.Size([2688, 8])\n",
      "Expanded shape torch.Size([26880, 8])\n"
     ]
    },
    {
     "name": "stderr",
     "output_type": "stream",
     "text": [
      "\n",
      " 31%|████████████████████████████▏                                                               | 307/1000 [01:04<02:24,  4.81it/s]\u001b[A"
     ]
    },
    {
     "name": "stdout",
     "output_type": "stream",
     "text": [
      "distances: torch.Size([2688, 1000])\n",
      "Indexes shape:  torch.Size([2688, 8])\n",
      "Kxz: torch.Size([26880, 1000])\n",
      "kzz_inv: torch.Size([26880, 8, 8])\n",
      "indexes: torch.Size([2688, 8])\n",
      "Expanded shape torch.Size([26880, 8])\n"
     ]
    },
    {
     "name": "stderr",
     "output_type": "stream",
     "text": [
      "\n",
      " 31%|████████████████████████████▎                                                               | 308/1000 [01:04<02:23,  4.81it/s]\u001b[A"
     ]
    },
    {
     "name": "stdout",
     "output_type": "stream",
     "text": [
      "distances: torch.Size([2688, 1000])\n",
      "Indexes shape:  torch.Size([2688, 8])\n",
      "Kxz: torch.Size([26880, 1000])\n",
      "kzz_inv: torch.Size([26880, 8, 8])\n",
      "indexes: torch.Size([2688, 8])\n",
      "Expanded shape torch.Size([26880, 8])\n"
     ]
    },
    {
     "name": "stderr",
     "output_type": "stream",
     "text": [
      "\n",
      " 31%|████████████████████████████▍                                                               | 309/1000 [01:04<02:23,  4.81it/s]\u001b[A"
     ]
    },
    {
     "name": "stdout",
     "output_type": "stream",
     "text": [
      "distances: torch.Size([2688, 1000])\n",
      "Indexes shape:  torch.Size([2688, 8])\n",
      "Kxz: torch.Size([26880, 1000])\n",
      "kzz_inv: torch.Size([26880, 8, 8])\n",
      "indexes: torch.Size([2688, 8])\n",
      "Expanded shape torch.Size([26880, 8])\n"
     ]
    },
    {
     "name": "stderr",
     "output_type": "stream",
     "text": [
      "\n",
      " 31%|████████████████████████████▌                                                               | 310/1000 [01:04<02:23,  4.81it/s]\u001b[A"
     ]
    },
    {
     "name": "stdout",
     "output_type": "stream",
     "text": [
      "distances: torch.Size([2688, 1000])\n",
      "Indexes shape:  torch.Size([2688, 8])\n",
      "Kxz: torch.Size([26880, 1000])\n",
      "kzz_inv: torch.Size([26880, 8, 8])\n",
      "indexes: torch.Size([2688, 8])\n",
      "Expanded shape torch.Size([26880, 8])\n"
     ]
    },
    {
     "name": "stderr",
     "output_type": "stream",
     "text": [
      "\n",
      " 31%|████████████████████████████▌                                                               | 311/1000 [01:05<02:23,  4.81it/s]\u001b[A"
     ]
    },
    {
     "name": "stdout",
     "output_type": "stream",
     "text": [
      "distances: torch.Size([2688, 1000])\n",
      "Indexes shape:  torch.Size([2688, 8])\n",
      "Kxz: torch.Size([26880, 1000])\n",
      "kzz_inv: torch.Size([26880, 8, 8])\n",
      "indexes: torch.Size([2688, 8])\n",
      "Expanded shape torch.Size([26880, 8])\n"
     ]
    },
    {
     "name": "stderr",
     "output_type": "stream",
     "text": [
      "\n",
      " 31%|████████████████████████████▋                                                               | 312/1000 [01:05<02:22,  4.81it/s]\u001b[A"
     ]
    },
    {
     "name": "stdout",
     "output_type": "stream",
     "text": [
      "distances: torch.Size([2688, 1000])\n",
      "Indexes shape:  torch.Size([2688, 8])\n",
      "Kxz: torch.Size([26880, 1000])\n",
      "kzz_inv: torch.Size([26880, 8, 8])\n",
      "indexes: torch.Size([2688, 8])\n",
      "Expanded shape torch.Size([26880, 8])\n"
     ]
    },
    {
     "name": "stderr",
     "output_type": "stream",
     "text": [
      "\n",
      " 31%|████████████████████████████▊                                                               | 313/1000 [01:05<02:22,  4.81it/s]\u001b[A"
     ]
    },
    {
     "name": "stdout",
     "output_type": "stream",
     "text": [
      "distances: torch.Size([2688, 1000])\n",
      "Indexes shape:  torch.Size([2688, 8])\n",
      "Kxz: torch.Size([26880, 1000])\n",
      "kzz_inv: torch.Size([26880, 8, 8])\n",
      "indexes: torch.Size([2688, 8])\n",
      "Expanded shape torch.Size([26880, 8])\n"
     ]
    },
    {
     "name": "stderr",
     "output_type": "stream",
     "text": [
      "\n",
      " 31%|████████████████████████████▉                                                               | 314/1000 [01:05<02:22,  4.81it/s]\u001b[A"
     ]
    },
    {
     "name": "stdout",
     "output_type": "stream",
     "text": [
      "distances: torch.Size([2688, 1000])\n",
      "Indexes shape:  torch.Size([2688, 8])\n",
      "Kxz: torch.Size([26880, 1000])\n",
      "kzz_inv: torch.Size([26880, 8, 8])\n",
      "indexes: torch.Size([2688, 8])\n",
      "Expanded shape torch.Size([26880, 8])\n"
     ]
    },
    {
     "name": "stderr",
     "output_type": "stream",
     "text": [
      "\n",
      " 32%|████████████████████████████▉                                                               | 315/1000 [01:05<02:22,  4.81it/s]\u001b[A"
     ]
    },
    {
     "name": "stdout",
     "output_type": "stream",
     "text": [
      "distances: torch.Size([2688, 1000])\n",
      "Indexes shape:  torch.Size([2688, 8])\n",
      "Kxz: torch.Size([26880, 1000])\n",
      "kzz_inv: torch.Size([26880, 8, 8])\n",
      "indexes: torch.Size([2688, 8])\n",
      "Expanded shape torch.Size([26880, 8])\n"
     ]
    },
    {
     "name": "stderr",
     "output_type": "stream",
     "text": [
      "\n",
      " 32%|█████████████████████████████                                                               | 316/1000 [01:06<02:22,  4.81it/s]\u001b[A"
     ]
    },
    {
     "name": "stdout",
     "output_type": "stream",
     "text": [
      "distances: torch.Size([2688, 1000])\n",
      "Indexes shape:  torch.Size([2688, 8])\n",
      "Kxz: torch.Size([26880, 1000])\n",
      "kzz_inv: torch.Size([26880, 8, 8])\n",
      "indexes: torch.Size([2688, 8])\n",
      "Expanded shape torch.Size([26880, 8])\n"
     ]
    },
    {
     "name": "stderr",
     "output_type": "stream",
     "text": [
      "\n",
      " 32%|█████████████████████████████▏                                                              | 317/1000 [01:06<02:22,  4.81it/s]\u001b[A"
     ]
    },
    {
     "name": "stdout",
     "output_type": "stream",
     "text": [
      "distances: torch.Size([2688, 1000])\n",
      "Indexes shape:  torch.Size([2688, 8])\n",
      "Kxz: torch.Size([26880, 1000])\n",
      "kzz_inv: torch.Size([26880, 8, 8])\n",
      "indexes: torch.Size([2688, 8])\n",
      "Expanded shape torch.Size([26880, 8])\n"
     ]
    },
    {
     "name": "stderr",
     "output_type": "stream",
     "text": [
      "\n",
      " 32%|█████████████████████████████▎                                                              | 318/1000 [01:06<02:21,  4.81it/s]\u001b[A"
     ]
    },
    {
     "name": "stdout",
     "output_type": "stream",
     "text": [
      "distances: torch.Size([2688, 1000])\n",
      "Indexes shape:  torch.Size([2688, 8])\n",
      "Kxz: torch.Size([26880, 1000])\n",
      "kzz_inv: torch.Size([26880, 8, 8])\n",
      "indexes: torch.Size([2688, 8])\n",
      "Expanded shape torch.Size([26880, 8])\n"
     ]
    },
    {
     "name": "stderr",
     "output_type": "stream",
     "text": [
      "\n",
      " 32%|█████████████████████████████▎                                                              | 319/1000 [01:06<02:21,  4.81it/s]\u001b[A"
     ]
    },
    {
     "name": "stdout",
     "output_type": "stream",
     "text": [
      "distances: torch.Size([2688, 1000])\n",
      "Indexes shape:  torch.Size([2688, 8])\n",
      "Kxz: torch.Size([26880, 1000])\n",
      "kzz_inv: torch.Size([26880, 8, 8])\n",
      "indexes: torch.Size([2688, 8])\n",
      "Expanded shape torch.Size([26880, 8])\n"
     ]
    },
    {
     "name": "stderr",
     "output_type": "stream",
     "text": [
      "\n",
      " 32%|█████████████████████████████▍                                                              | 320/1000 [01:07<02:21,  4.81it/s]\u001b[A"
     ]
    },
    {
     "name": "stdout",
     "output_type": "stream",
     "text": [
      "distances: torch.Size([2688, 1000])\n",
      "Indexes shape:  torch.Size([2688, 8])\n",
      "Kxz: torch.Size([26880, 1000])\n",
      "kzz_inv: torch.Size([26880, 8, 8])\n",
      "indexes: torch.Size([2688, 8])\n",
      "Expanded shape torch.Size([26880, 8])\n"
     ]
    },
    {
     "name": "stderr",
     "output_type": "stream",
     "text": [
      "\n",
      " 32%|█████████████████████████████▌                                                              | 321/1000 [01:07<02:21,  4.80it/s]\u001b[A"
     ]
    },
    {
     "name": "stdout",
     "output_type": "stream",
     "text": [
      "distances: torch.Size([2688, 1000])\n",
      "Indexes shape:  torch.Size([2688, 8])\n",
      "Kxz: torch.Size([26880, 1000])\n",
      "kzz_inv: torch.Size([26880, 8, 8])\n",
      "indexes: torch.Size([2688, 8])\n",
      "Expanded shape torch.Size([26880, 8])\n"
     ]
    },
    {
     "name": "stderr",
     "output_type": "stream",
     "text": [
      "\n",
      " 32%|█████████████████████████████▌                                                              | 322/1000 [01:07<02:21,  4.81it/s]\u001b[A"
     ]
    },
    {
     "name": "stdout",
     "output_type": "stream",
     "text": [
      "distances: torch.Size([2688, 1000])\n",
      "Indexes shape:  torch.Size([2688, 8])\n",
      "Kxz: torch.Size([26880, 1000])\n",
      "kzz_inv: torch.Size([26880, 8, 8])\n",
      "indexes: torch.Size([2688, 8])\n",
      "Expanded shape torch.Size([26880, 8])\n"
     ]
    },
    {
     "name": "stderr",
     "output_type": "stream",
     "text": [
      "\n",
      " 32%|█████████████████████████████▋                                                              | 323/1000 [01:07<02:20,  4.80it/s]\u001b[A"
     ]
    },
    {
     "name": "stdout",
     "output_type": "stream",
     "text": [
      "distances: torch.Size([2688, 1000])\n",
      "Indexes shape:  torch.Size([2688, 8])\n",
      "Kxz: torch.Size([26880, 1000])\n",
      "kzz_inv: torch.Size([26880, 8, 8])\n",
      "indexes: torch.Size([2688, 8])\n",
      "Expanded shape torch.Size([26880, 8])\n"
     ]
    },
    {
     "name": "stderr",
     "output_type": "stream",
     "text": [
      "\n",
      " 32%|█████████████████████████████▊                                                              | 324/1000 [01:07<02:20,  4.81it/s]\u001b[A"
     ]
    },
    {
     "name": "stdout",
     "output_type": "stream",
     "text": [
      "distances: torch.Size([2688, 1000])\n",
      "Indexes shape:  torch.Size([2688, 8])\n",
      "Kxz: torch.Size([26880, 1000])\n",
      "kzz_inv: torch.Size([26880, 8, 8])\n",
      "indexes: torch.Size([2688, 8])\n",
      "Expanded shape torch.Size([26880, 8])\n"
     ]
    },
    {
     "name": "stderr",
     "output_type": "stream",
     "text": [
      "\n",
      " 32%|█████████████████████████████▉                                                              | 325/1000 [01:08<02:20,  4.81it/s]\u001b[A"
     ]
    },
    {
     "name": "stdout",
     "output_type": "stream",
     "text": [
      "distances: torch.Size([2688, 1000])\n",
      "Indexes shape:  torch.Size([2688, 8])\n",
      "Kxz: torch.Size([26880, 1000])\n",
      "kzz_inv: torch.Size([26880, 8, 8])\n",
      "indexes: torch.Size([2688, 8])\n",
      "Expanded shape torch.Size([26880, 8])\n"
     ]
    },
    {
     "name": "stderr",
     "output_type": "stream",
     "text": [
      "\n",
      " 33%|█████████████████████████████▉                                                              | 326/1000 [01:08<02:20,  4.81it/s]\u001b[A"
     ]
    },
    {
     "name": "stdout",
     "output_type": "stream",
     "text": [
      "distances: torch.Size([2688, 1000])\n",
      "Indexes shape:  torch.Size([2688, 8])\n",
      "Kxz: torch.Size([26880, 1000])\n",
      "kzz_inv: torch.Size([26880, 8, 8])\n",
      "indexes: torch.Size([2688, 8])\n",
      "Expanded shape torch.Size([26880, 8])\n"
     ]
    },
    {
     "name": "stderr",
     "output_type": "stream",
     "text": [
      "\n",
      " 33%|██████████████████████████████                                                              | 327/1000 [01:08<02:19,  4.81it/s]\u001b[A"
     ]
    },
    {
     "name": "stdout",
     "output_type": "stream",
     "text": [
      "distances: torch.Size([2688, 1000])\n",
      "Indexes shape:  torch.Size([2688, 8])\n",
      "Kxz: torch.Size([26880, 1000])\n",
      "kzz_inv: torch.Size([26880, 8, 8])\n",
      "indexes: torch.Size([2688, 8])\n",
      "Expanded shape torch.Size([26880, 8])\n"
     ]
    },
    {
     "name": "stderr",
     "output_type": "stream",
     "text": [
      "\n",
      " 33%|██████████████████████████████▏                                                             | 328/1000 [01:08<02:19,  4.81it/s]\u001b[A"
     ]
    },
    {
     "name": "stdout",
     "output_type": "stream",
     "text": [
      "distances: torch.Size([2688, 1000])\n",
      "Indexes shape:  torch.Size([2688, 8])\n",
      "Kxz: torch.Size([26880, 1000])\n",
      "kzz_inv: torch.Size([26880, 8, 8])\n",
      "indexes: torch.Size([2688, 8])\n",
      "Expanded shape torch.Size([26880, 8])\n"
     ]
    },
    {
     "name": "stderr",
     "output_type": "stream",
     "text": [
      "\n",
      " 33%|██████████████████████████████▎                                                             | 329/1000 [01:08<02:19,  4.81it/s]\u001b[A"
     ]
    },
    {
     "name": "stdout",
     "output_type": "stream",
     "text": [
      "distances: torch.Size([2688, 1000])\n",
      "Indexes shape:  torch.Size([2688, 8])\n",
      "Kxz: torch.Size([26880, 1000])\n",
      "kzz_inv: torch.Size([26880, 8, 8])\n",
      "indexes: torch.Size([2688, 8])\n",
      "Expanded shape torch.Size([26880, 8])\n"
     ]
    },
    {
     "name": "stderr",
     "output_type": "stream",
     "text": [
      "\n",
      " 33%|██████████████████████████████▎                                                             | 330/1000 [01:09<02:19,  4.81it/s]\u001b[A"
     ]
    },
    {
     "name": "stdout",
     "output_type": "stream",
     "text": [
      "distances: torch.Size([2688, 1000])\n",
      "Indexes shape:  torch.Size([2688, 8])\n",
      "Kxz: torch.Size([26880, 1000])\n",
      "kzz_inv: torch.Size([26880, 8, 8])\n",
      "indexes: torch.Size([2688, 8])\n",
      "Expanded shape torch.Size([26880, 8])\n"
     ]
    },
    {
     "name": "stderr",
     "output_type": "stream",
     "text": [
      "\n",
      " 33%|██████████████████████████████▍                                                             | 331/1000 [01:09<02:19,  4.81it/s]\u001b[A"
     ]
    },
    {
     "name": "stdout",
     "output_type": "stream",
     "text": [
      "distances: torch.Size([2688, 1000])\n",
      "Indexes shape:  torch.Size([2688, 8])\n",
      "Kxz: torch.Size([26880, 1000])\n",
      "kzz_inv: torch.Size([26880, 8, 8])\n",
      "indexes: torch.Size([2688, 8])\n",
      "Expanded shape torch.Size([26880, 8])\n"
     ]
    },
    {
     "name": "stderr",
     "output_type": "stream",
     "text": [
      "\n",
      " 33%|██████████████████████████████▌                                                             | 332/1000 [01:09<02:18,  4.81it/s]\u001b[A"
     ]
    },
    {
     "name": "stdout",
     "output_type": "stream",
     "text": [
      "distances: torch.Size([2688, 1000])\n",
      "Indexes shape:  torch.Size([2688, 8])\n",
      "Kxz: torch.Size([26880, 1000])\n",
      "kzz_inv: torch.Size([26880, 8, 8])\n",
      "indexes: torch.Size([2688, 8])\n",
      "Expanded shape torch.Size([26880, 8])\n"
     ]
    },
    {
     "name": "stderr",
     "output_type": "stream",
     "text": [
      "\n",
      " 33%|██████████████████████████████▋                                                             | 333/1000 [01:09<02:18,  4.81it/s]\u001b[A"
     ]
    },
    {
     "name": "stdout",
     "output_type": "stream",
     "text": [
      "distances: torch.Size([2688, 1000])\n",
      "Indexes shape:  torch.Size([2688, 8])\n",
      "Kxz: torch.Size([26880, 1000])\n",
      "kzz_inv: torch.Size([26880, 8, 8])\n",
      "indexes: torch.Size([2688, 8])\n",
      "Expanded shape torch.Size([26880, 8])\n"
     ]
    },
    {
     "name": "stderr",
     "output_type": "stream",
     "text": [
      "\n",
      " 33%|██████████████████████████████▋                                                             | 334/1000 [01:09<02:18,  4.81it/s]\u001b[A"
     ]
    },
    {
     "name": "stdout",
     "output_type": "stream",
     "text": [
      "distances: torch.Size([2688, 1000])\n",
      "Indexes shape:  torch.Size([2688, 8])\n",
      "Kxz: torch.Size([26880, 1000])\n",
      "kzz_inv: torch.Size([26880, 8, 8])\n",
      "indexes: torch.Size([2688, 8])\n",
      "Expanded shape torch.Size([26880, 8])\n"
     ]
    },
    {
     "name": "stderr",
     "output_type": "stream",
     "text": [
      "\n",
      " 34%|██████████████████████████████▊                                                             | 335/1000 [01:10<02:18,  4.81it/s]\u001b[A"
     ]
    },
    {
     "name": "stdout",
     "output_type": "stream",
     "text": [
      "distances: torch.Size([2688, 1000])\n",
      "Indexes shape:  torch.Size([2688, 8])\n",
      "Kxz: torch.Size([26880, 1000])\n",
      "kzz_inv: torch.Size([26880, 8, 8])\n",
      "indexes: torch.Size([2688, 8])\n",
      "Expanded shape torch.Size([26880, 8])\n"
     ]
    },
    {
     "name": "stderr",
     "output_type": "stream",
     "text": [
      "\n",
      " 34%|██████████████████████████████▉                                                             | 336/1000 [01:10<02:18,  4.81it/s]\u001b[A"
     ]
    },
    {
     "name": "stdout",
     "output_type": "stream",
     "text": [
      "distances: torch.Size([2688, 1000])\n",
      "Indexes shape:  torch.Size([2688, 8])\n",
      "Kxz: torch.Size([26880, 1000])\n",
      "kzz_inv: torch.Size([26880, 8, 8])\n",
      "indexes: torch.Size([2688, 8])\n",
      "Expanded shape torch.Size([26880, 8])\n"
     ]
    },
    {
     "name": "stderr",
     "output_type": "stream",
     "text": [
      "\n",
      " 34%|███████████████████████████████                                                             | 337/1000 [01:10<02:17,  4.81it/s]\u001b[A"
     ]
    },
    {
     "name": "stdout",
     "output_type": "stream",
     "text": [
      "distances: torch.Size([2688, 1000])\n",
      "Indexes shape:  torch.Size([2688, 8])\n",
      "Kxz: torch.Size([26880, 1000])\n",
      "kzz_inv: torch.Size([26880, 8, 8])\n",
      "indexes: torch.Size([2688, 8])\n",
      "Expanded shape torch.Size([26880, 8])\n"
     ]
    },
    {
     "name": "stderr",
     "output_type": "stream",
     "text": [
      "\n",
      " 34%|███████████████████████████████                                                             | 338/1000 [01:10<02:17,  4.81it/s]\u001b[A"
     ]
    },
    {
     "name": "stdout",
     "output_type": "stream",
     "text": [
      "distances: torch.Size([2688, 1000])\n",
      "Indexes shape:  torch.Size([2688, 8])\n",
      "Kxz: torch.Size([26880, 1000])\n",
      "kzz_inv: torch.Size([26880, 8, 8])\n",
      "indexes: torch.Size([2688, 8])\n",
      "Expanded shape torch.Size([26880, 8])\n"
     ]
    },
    {
     "name": "stderr",
     "output_type": "stream",
     "text": [
      "\n",
      " 34%|███████████████████████████████▏                                                            | 339/1000 [01:10<02:17,  4.81it/s]\u001b[A"
     ]
    },
    {
     "name": "stdout",
     "output_type": "stream",
     "text": [
      "distances: torch.Size([2688, 1000])\n",
      "Indexes shape:  torch.Size([2688, 8])\n",
      "Kxz: torch.Size([26880, 1000])\n",
      "kzz_inv: torch.Size([26880, 8, 8])\n",
      "indexes: torch.Size([2688, 8])\n",
      "Expanded shape torch.Size([26880, 8])\n"
     ]
    },
    {
     "name": "stderr",
     "output_type": "stream",
     "text": [
      "\n",
      " 34%|███████████████████████████████▎                                                            | 340/1000 [01:11<02:17,  4.81it/s]\u001b[A"
     ]
    },
    {
     "name": "stdout",
     "output_type": "stream",
     "text": [
      "distances: torch.Size([2688, 1000])\n",
      "Indexes shape:  torch.Size([2688, 8])\n",
      "Kxz: torch.Size([26880, 1000])\n",
      "kzz_inv: torch.Size([26880, 8, 8])\n",
      "indexes: torch.Size([2688, 8])\n",
      "Expanded shape torch.Size([26880, 8])\n"
     ]
    },
    {
     "name": "stderr",
     "output_type": "stream",
     "text": [
      "\n",
      " 34%|███████████████████████████████▎                                                            | 341/1000 [01:11<02:17,  4.80it/s]\u001b[A"
     ]
    },
    {
     "name": "stdout",
     "output_type": "stream",
     "text": [
      "distances: torch.Size([2688, 1000])\n",
      "Indexes shape:  torch.Size([2688, 8])\n",
      "Kxz: torch.Size([26880, 1000])\n",
      "kzz_inv: torch.Size([26880, 8, 8])\n",
      "indexes: torch.Size([2688, 8])\n",
      "Expanded shape torch.Size([26880, 8])\n"
     ]
    },
    {
     "name": "stderr",
     "output_type": "stream",
     "text": [
      "\n",
      " 34%|███████████████████████████████▍                                                            | 342/1000 [01:11<02:16,  4.81it/s]\u001b[A"
     ]
    },
    {
     "name": "stdout",
     "output_type": "stream",
     "text": [
      "distances: torch.Size([2688, 1000])\n",
      "Indexes shape:  torch.Size([2688, 8])\n",
      "Kxz: torch.Size([26880, 1000])\n",
      "kzz_inv: torch.Size([26880, 8, 8])\n",
      "indexes: torch.Size([2688, 8])\n",
      "Expanded shape torch.Size([26880, 8])\n"
     ]
    },
    {
     "name": "stderr",
     "output_type": "stream",
     "text": [
      "\n",
      " 34%|███████████████████████████████▌                                                            | 343/1000 [01:11<02:16,  4.81it/s]\u001b[A"
     ]
    },
    {
     "name": "stdout",
     "output_type": "stream",
     "text": [
      "distances: torch.Size([2688, 1000])\n",
      "Indexes shape:  torch.Size([2688, 8])\n",
      "Kxz: torch.Size([26880, 1000])\n",
      "kzz_inv: torch.Size([26880, 8, 8])\n",
      "indexes: torch.Size([2688, 8])\n",
      "Expanded shape torch.Size([26880, 8])\n"
     ]
    },
    {
     "name": "stderr",
     "output_type": "stream",
     "text": [
      "\n",
      " 34%|███████████████████████████████▋                                                            | 344/1000 [01:12<02:16,  4.81it/s]\u001b[A"
     ]
    },
    {
     "name": "stdout",
     "output_type": "stream",
     "text": [
      "distances: torch.Size([2688, 1000])\n",
      "Indexes shape:  torch.Size([2688, 8])\n",
      "Kxz: torch.Size([26880, 1000])\n",
      "kzz_inv: torch.Size([26880, 8, 8])\n",
      "indexes: torch.Size([2688, 8])\n",
      "Expanded shape torch.Size([26880, 8])\n"
     ]
    },
    {
     "name": "stderr",
     "output_type": "stream",
     "text": [
      "\n",
      " 34%|███████████████████████████████▋                                                            | 345/1000 [01:12<02:16,  4.81it/s]\u001b[A"
     ]
    },
    {
     "name": "stdout",
     "output_type": "stream",
     "text": [
      "distances: torch.Size([2688, 1000])\n",
      "Indexes shape:  torch.Size([2688, 8])\n",
      "Kxz: torch.Size([26880, 1000])\n",
      "kzz_inv: torch.Size([26880, 8, 8])\n",
      "indexes: torch.Size([2688, 8])\n",
      "Expanded shape torch.Size([26880, 8])\n"
     ]
    },
    {
     "name": "stderr",
     "output_type": "stream",
     "text": [
      "\n",
      " 35%|███████████████████████████████▊                                                            | 346/1000 [01:12<02:16,  4.81it/s]\u001b[A"
     ]
    },
    {
     "name": "stdout",
     "output_type": "stream",
     "text": [
      "distances: torch.Size([2688, 1000])\n",
      "Indexes shape:  torch.Size([2688, 8])\n",
      "Kxz: torch.Size([26880, 1000])\n",
      "kzz_inv: torch.Size([26880, 8, 8])\n",
      "indexes: torch.Size([2688, 8])\n",
      "Expanded shape torch.Size([26880, 8])\n"
     ]
    },
    {
     "name": "stderr",
     "output_type": "stream",
     "text": [
      "\n",
      " 35%|███████████████████████████████▉                                                            | 347/1000 [01:12<02:15,  4.80it/s]\u001b[A"
     ]
    },
    {
     "name": "stdout",
     "output_type": "stream",
     "text": [
      "distances: torch.Size([2688, 1000])\n",
      "Indexes shape:  torch.Size([2688, 8])\n",
      "Kxz: torch.Size([26880, 1000])\n",
      "kzz_inv: torch.Size([26880, 8, 8])\n",
      "indexes: torch.Size([2688, 8])\n",
      "Expanded shape torch.Size([26880, 8])\n"
     ]
    },
    {
     "name": "stderr",
     "output_type": "stream",
     "text": [
      "\n",
      " 35%|████████████████████████████████                                                            | 348/1000 [01:12<02:15,  4.80it/s]\u001b[A"
     ]
    },
    {
     "name": "stdout",
     "output_type": "stream",
     "text": [
      "distances: torch.Size([2688, 1000])\n",
      "Indexes shape:  torch.Size([2688, 8])\n",
      "Kxz: torch.Size([26880, 1000])\n",
      "kzz_inv: torch.Size([26880, 8, 8])\n",
      "indexes: torch.Size([2688, 8])\n",
      "Expanded shape torch.Size([26880, 8])\n"
     ]
    },
    {
     "name": "stderr",
     "output_type": "stream",
     "text": [
      "\n",
      " 35%|████████████████████████████████                                                            | 349/1000 [01:13<02:15,  4.80it/s]\u001b[A"
     ]
    },
    {
     "name": "stdout",
     "output_type": "stream",
     "text": [
      "distances: torch.Size([2688, 1000])\n",
      "Indexes shape:  torch.Size([2688, 8])\n",
      "Kxz: torch.Size([26880, 1000])\n",
      "kzz_inv: torch.Size([26880, 8, 8])\n",
      "indexes: torch.Size([2688, 8])\n",
      "Expanded shape torch.Size([26880, 8])\n"
     ]
    },
    {
     "name": "stderr",
     "output_type": "stream",
     "text": [
      "\n",
      " 35%|████████████████████████████████▏                                                           | 350/1000 [01:13<02:15,  4.80it/s]\u001b[A"
     ]
    },
    {
     "name": "stdout",
     "output_type": "stream",
     "text": [
      "distances: torch.Size([2688, 1000])\n",
      "Indexes shape:  torch.Size([2688, 8])\n",
      "Kxz: torch.Size([26880, 1000])\n",
      "kzz_inv: torch.Size([26880, 8, 8])\n",
      "indexes: torch.Size([2688, 8])\n",
      "Expanded shape torch.Size([26880, 8])\n"
     ]
    },
    {
     "name": "stderr",
     "output_type": "stream",
     "text": [
      "\n",
      " 35%|████████████████████████████████▎                                                           | 351/1000 [01:13<02:15,  4.80it/s]\u001b[A"
     ]
    },
    {
     "name": "stdout",
     "output_type": "stream",
     "text": [
      "distances: torch.Size([2688, 1000])\n",
      "Indexes shape:  torch.Size([2688, 8])\n",
      "Kxz: torch.Size([26880, 1000])\n",
      "kzz_inv: torch.Size([26880, 8, 8])\n",
      "indexes: torch.Size([2688, 8])\n",
      "Expanded shape torch.Size([26880, 8])\n"
     ]
    },
    {
     "name": "stderr",
     "output_type": "stream",
     "text": [
      "\n",
      " 35%|████████████████████████████████▍                                                           | 352/1000 [01:13<02:15,  4.80it/s]\u001b[A"
     ]
    },
    {
     "name": "stdout",
     "output_type": "stream",
     "text": [
      "distances: torch.Size([2688, 1000])\n",
      "Indexes shape:  torch.Size([2688, 8])\n",
      "Kxz: torch.Size([26880, 1000])\n",
      "kzz_inv: torch.Size([26880, 8, 8])\n",
      "indexes: torch.Size([2688, 8])\n",
      "Expanded shape torch.Size([26880, 8])\n"
     ]
    },
    {
     "name": "stderr",
     "output_type": "stream",
     "text": [
      "\n",
      " 35%|████████████████████████████████▍                                                           | 353/1000 [01:13<02:14,  4.80it/s]\u001b[A"
     ]
    },
    {
     "name": "stdout",
     "output_type": "stream",
     "text": [
      "distances: torch.Size([2688, 1000])\n",
      "Indexes shape:  torch.Size([2688, 8])\n",
      "Kxz: torch.Size([26880, 1000])\n",
      "kzz_inv: torch.Size([26880, 8, 8])\n",
      "indexes: torch.Size([2688, 8])\n",
      "Expanded shape torch.Size([26880, 8])\n"
     ]
    },
    {
     "name": "stderr",
     "output_type": "stream",
     "text": [
      "\n",
      " 35%|████████████████████████████████▌                                                           | 354/1000 [01:14<02:14,  4.80it/s]\u001b[A"
     ]
    },
    {
     "name": "stdout",
     "output_type": "stream",
     "text": [
      "distances: torch.Size([2688, 1000])\n",
      "Indexes shape:  torch.Size([2688, 8])\n",
      "Kxz: torch.Size([26880, 1000])\n",
      "kzz_inv: torch.Size([26880, 8, 8])\n",
      "indexes: torch.Size([2688, 8])\n",
      "Expanded shape torch.Size([26880, 8])\n"
     ]
    },
    {
     "name": "stderr",
     "output_type": "stream",
     "text": [
      "\n",
      " 36%|████████████████████████████████▋                                                           | 355/1000 [01:14<02:14,  4.80it/s]\u001b[A"
     ]
    },
    {
     "name": "stdout",
     "output_type": "stream",
     "text": [
      "distances: torch.Size([2688, 1000])\n",
      "Indexes shape:  torch.Size([2688, 8])\n",
      "Kxz: torch.Size([26880, 1000])\n",
      "kzz_inv: torch.Size([26880, 8, 8])\n",
      "indexes: torch.Size([2688, 8])\n",
      "Expanded shape torch.Size([26880, 8])\n"
     ]
    },
    {
     "name": "stderr",
     "output_type": "stream",
     "text": [
      "\n",
      " 36%|████████████████████████████████▊                                                           | 356/1000 [01:14<02:14,  4.80it/s]\u001b[A"
     ]
    },
    {
     "name": "stdout",
     "output_type": "stream",
     "text": [
      "distances: torch.Size([2688, 1000])\n",
      "Indexes shape:  torch.Size([2688, 8])\n",
      "Kxz: torch.Size([26880, 1000])\n",
      "kzz_inv: torch.Size([26880, 8, 8])\n",
      "indexes: torch.Size([2688, 8])\n",
      "Expanded shape torch.Size([26880, 8])\n"
     ]
    },
    {
     "name": "stderr",
     "output_type": "stream",
     "text": [
      "\n",
      " 36%|████████████████████████████████▊                                                           | 357/1000 [01:14<02:13,  4.80it/s]\u001b[A"
     ]
    },
    {
     "name": "stdout",
     "output_type": "stream",
     "text": [
      "distances: torch.Size([2688, 1000])\n",
      "Indexes shape:  torch.Size([2688, 8])\n",
      "Kxz: torch.Size([26880, 1000])\n",
      "kzz_inv: torch.Size([26880, 8, 8])\n",
      "indexes: torch.Size([2688, 8])\n",
      "Expanded shape torch.Size([26880, 8])\n"
     ]
    },
    {
     "name": "stderr",
     "output_type": "stream",
     "text": [
      "\n",
      " 36%|████████████████████████████████▉                                                           | 358/1000 [01:14<02:13,  4.80it/s]\u001b[A"
     ]
    },
    {
     "name": "stdout",
     "output_type": "stream",
     "text": [
      "distances: torch.Size([2688, 1000])\n",
      "Indexes shape:  torch.Size([2688, 8])\n",
      "Kxz: torch.Size([26880, 1000])\n",
      "kzz_inv: torch.Size([26880, 8, 8])\n",
      "indexes: torch.Size([2688, 8])\n",
      "Expanded shape torch.Size([26880, 8])\n"
     ]
    },
    {
     "name": "stderr",
     "output_type": "stream",
     "text": [
      "\n",
      " 36%|█████████████████████████████████                                                           | 359/1000 [01:15<02:13,  4.80it/s]\u001b[A"
     ]
    },
    {
     "name": "stdout",
     "output_type": "stream",
     "text": [
      "distances: torch.Size([2688, 1000])\n",
      "Indexes shape:  torch.Size([2688, 8])\n",
      "Kxz: torch.Size([26880, 1000])\n",
      "kzz_inv: torch.Size([26880, 8, 8])\n",
      "indexes: torch.Size([2688, 8])\n",
      "Expanded shape torch.Size([26880, 8])\n"
     ]
    },
    {
     "name": "stderr",
     "output_type": "stream",
     "text": [
      "\n",
      " 36%|█████████████████████████████████                                                           | 360/1000 [01:15<02:13,  4.80it/s]\u001b[A"
     ]
    },
    {
     "name": "stdout",
     "output_type": "stream",
     "text": [
      "distances: torch.Size([2688, 1000])\n",
      "Indexes shape:  torch.Size([2688, 8])\n",
      "Kxz: torch.Size([26880, 1000])\n",
      "kzz_inv: torch.Size([26880, 8, 8])\n",
      "indexes: torch.Size([2688, 8])\n",
      "Expanded shape torch.Size([26880, 8])\n"
     ]
    },
    {
     "name": "stderr",
     "output_type": "stream",
     "text": [
      "\n",
      " 36%|█████████████████████████████████▏                                                          | 361/1000 [01:15<02:13,  4.80it/s]\u001b[A"
     ]
    },
    {
     "name": "stdout",
     "output_type": "stream",
     "text": [
      "distances: torch.Size([2688, 1000])\n",
      "Indexes shape:  torch.Size([2688, 8])\n",
      "Kxz: torch.Size([26880, 1000])\n",
      "kzz_inv: torch.Size([26880, 8, 8])\n",
      "indexes: torch.Size([2688, 8])\n",
      "Expanded shape torch.Size([26880, 8])\n"
     ]
    },
    {
     "name": "stderr",
     "output_type": "stream",
     "text": [
      "\n",
      " 36%|█████████████████████████████████▎                                                          | 362/1000 [01:15<02:12,  4.80it/s]\u001b[A"
     ]
    },
    {
     "name": "stdout",
     "output_type": "stream",
     "text": [
      "distances: torch.Size([2688, 1000])\n",
      "Indexes shape:  torch.Size([2688, 8])\n",
      "Kxz: torch.Size([26880, 1000])\n",
      "kzz_inv: torch.Size([26880, 8, 8])\n",
      "indexes: torch.Size([2688, 8])\n",
      "Expanded shape torch.Size([26880, 8])\n"
     ]
    },
    {
     "name": "stderr",
     "output_type": "stream",
     "text": [
      "\n",
      " 36%|█████████████████████████████████▍                                                          | 363/1000 [01:15<02:12,  4.80it/s]\u001b[A"
     ]
    },
    {
     "name": "stdout",
     "output_type": "stream",
     "text": [
      "distances: torch.Size([2688, 1000])\n",
      "Indexes shape:  torch.Size([2688, 8])\n",
      "Kxz: torch.Size([26880, 1000])\n",
      "kzz_inv: torch.Size([26880, 8, 8])\n",
      "indexes: torch.Size([2688, 8])\n",
      "Expanded shape torch.Size([26880, 8])\n"
     ]
    },
    {
     "name": "stderr",
     "output_type": "stream",
     "text": [
      "\n",
      " 36%|█████████████████████████████████▍                                                          | 364/1000 [01:16<02:12,  4.80it/s]\u001b[A"
     ]
    },
    {
     "name": "stdout",
     "output_type": "stream",
     "text": [
      "distances: torch.Size([2688, 1000])\n",
      "Indexes shape:  torch.Size([2688, 8])\n",
      "Kxz: torch.Size([26880, 1000])\n",
      "kzz_inv: torch.Size([26880, 8, 8])\n",
      "indexes: torch.Size([2688, 8])\n",
      "Expanded shape torch.Size([26880, 8])\n"
     ]
    },
    {
     "name": "stderr",
     "output_type": "stream",
     "text": [
      "\n",
      " 36%|█████████████████████████████████▌                                                          | 365/1000 [01:16<02:12,  4.80it/s]\u001b[A"
     ]
    },
    {
     "name": "stdout",
     "output_type": "stream",
     "text": [
      "distances: torch.Size([2688, 1000])\n",
      "Indexes shape:  torch.Size([2688, 8])\n",
      "Kxz: torch.Size([26880, 1000])\n",
      "kzz_inv: torch.Size([26880, 8, 8])\n",
      "indexes: torch.Size([2688, 8])\n",
      "Expanded shape torch.Size([26880, 8])\n"
     ]
    },
    {
     "name": "stderr",
     "output_type": "stream",
     "text": [
      "\n",
      " 37%|█████████████████████████████████▋                                                          | 366/1000 [01:16<02:11,  4.80it/s]\u001b[A"
     ]
    },
    {
     "name": "stdout",
     "output_type": "stream",
     "text": [
      "distances: torch.Size([2688, 1000])\n",
      "Indexes shape:  torch.Size([2688, 8])\n",
      "Kxz: torch.Size([26880, 1000])\n",
      "kzz_inv: torch.Size([26880, 8, 8])\n",
      "indexes: torch.Size([2688, 8])\n",
      "Expanded shape torch.Size([26880, 8])\n"
     ]
    },
    {
     "name": "stderr",
     "output_type": "stream",
     "text": [
      "\n",
      " 37%|█████████████████████████████████▊                                                          | 367/1000 [01:16<02:11,  4.80it/s]\u001b[A"
     ]
    },
    {
     "name": "stdout",
     "output_type": "stream",
     "text": [
      "distances: torch.Size([2688, 1000])\n",
      "Indexes shape:  torch.Size([2688, 8])\n",
      "Kxz: torch.Size([26880, 1000])\n",
      "kzz_inv: torch.Size([26880, 8, 8])\n",
      "indexes: torch.Size([2688, 8])\n",
      "Expanded shape torch.Size([26880, 8])\n"
     ]
    },
    {
     "name": "stderr",
     "output_type": "stream",
     "text": [
      "\n",
      " 37%|█████████████████████████████████▊                                                          | 368/1000 [01:17<02:11,  4.80it/s]\u001b[A"
     ]
    },
    {
     "name": "stdout",
     "output_type": "stream",
     "text": [
      "distances: torch.Size([2688, 1000])\n",
      "Indexes shape:  torch.Size([2688, 8])\n",
      "Kxz: torch.Size([26880, 1000])\n",
      "kzz_inv: torch.Size([26880, 8, 8])\n",
      "indexes: torch.Size([2688, 8])\n",
      "Expanded shape torch.Size([26880, 8])\n"
     ]
    },
    {
     "name": "stderr",
     "output_type": "stream",
     "text": [
      "\n",
      " 37%|█████████████████████████████████▉                                                          | 369/1000 [01:17<02:11,  4.80it/s]\u001b[A"
     ]
    },
    {
     "name": "stdout",
     "output_type": "stream",
     "text": [
      "distances: torch.Size([2688, 1000])\n",
      "Indexes shape:  torch.Size([2688, 8])\n",
      "Kxz: torch.Size([26880, 1000])\n",
      "kzz_inv: torch.Size([26880, 8, 8])\n",
      "indexes: torch.Size([2688, 8])\n",
      "Expanded shape torch.Size([26880, 8])\n"
     ]
    },
    {
     "name": "stderr",
     "output_type": "stream",
     "text": [
      "\n",
      " 37%|██████████████████████████████████                                                          | 370/1000 [01:17<02:11,  4.80it/s]\u001b[A"
     ]
    },
    {
     "name": "stdout",
     "output_type": "stream",
     "text": [
      "distances: torch.Size([2688, 1000])\n",
      "Indexes shape:  torch.Size([2688, 8])\n",
      "Kxz: torch.Size([26880, 1000])\n",
      "kzz_inv: torch.Size([26880, 8, 8])\n",
      "indexes: torch.Size([2688, 8])\n",
      "Expanded shape torch.Size([26880, 8])\n"
     ]
    },
    {
     "name": "stderr",
     "output_type": "stream",
     "text": [
      "\n",
      " 37%|██████████████████████████████████▏                                                         | 371/1000 [01:17<02:11,  4.80it/s]\u001b[A"
     ]
    },
    {
     "name": "stdout",
     "output_type": "stream",
     "text": [
      "distances: torch.Size([2688, 1000])\n",
      "Indexes shape:  torch.Size([2688, 8])\n",
      "Kxz: torch.Size([26880, 1000])\n",
      "kzz_inv: torch.Size([26880, 8, 8])\n",
      "indexes: torch.Size([2688, 8])\n",
      "Expanded shape torch.Size([26880, 8])\n"
     ]
    },
    {
     "name": "stderr",
     "output_type": "stream",
     "text": [
      "\n",
      " 37%|██████████████████████████████████▏                                                         | 372/1000 [01:17<02:10,  4.80it/s]\u001b[A"
     ]
    },
    {
     "name": "stdout",
     "output_type": "stream",
     "text": [
      "distances: torch.Size([2688, 1000])\n",
      "Indexes shape:  torch.Size([2688, 8])\n",
      "Kxz: torch.Size([26880, 1000])\n",
      "kzz_inv: torch.Size([26880, 8, 8])\n",
      "indexes: torch.Size([2688, 8])\n",
      "Expanded shape torch.Size([26880, 8])\n"
     ]
    },
    {
     "name": "stderr",
     "output_type": "stream",
     "text": [
      "\n",
      " 37%|██████████████████████████████████▎                                                         | 373/1000 [01:18<02:10,  4.80it/s]\u001b[A"
     ]
    },
    {
     "name": "stdout",
     "output_type": "stream",
     "text": [
      "distances: torch.Size([2688, 1000])\n",
      "Indexes shape:  torch.Size([2688, 8])\n",
      "Kxz: torch.Size([26880, 1000])\n",
      "kzz_inv: torch.Size([26880, 8, 8])\n",
      "indexes: torch.Size([2688, 8])\n",
      "Expanded shape torch.Size([26880, 8])\n"
     ]
    },
    {
     "name": "stderr",
     "output_type": "stream",
     "text": [
      "\n",
      " 37%|██████████████████████████████████▍                                                         | 374/1000 [01:18<02:10,  4.80it/s]\u001b[A"
     ]
    },
    {
     "name": "stdout",
     "output_type": "stream",
     "text": [
      "distances: torch.Size([2688, 1000])\n",
      "Indexes shape:  torch.Size([2688, 8])\n",
      "Kxz: torch.Size([26880, 1000])\n",
      "kzz_inv: torch.Size([26880, 8, 8])\n",
      "indexes: torch.Size([2688, 8])\n",
      "Expanded shape torch.Size([26880, 8])\n"
     ]
    },
    {
     "name": "stderr",
     "output_type": "stream",
     "text": [
      "\n",
      " 38%|██████████████████████████████████▌                                                         | 375/1000 [01:18<02:10,  4.81it/s]\u001b[A"
     ]
    },
    {
     "name": "stdout",
     "output_type": "stream",
     "text": [
      "distances: torch.Size([2688, 1000])\n",
      "Indexes shape:  torch.Size([2688, 8])\n",
      "Kxz: torch.Size([26880, 1000])\n",
      "kzz_inv: torch.Size([26880, 8, 8])\n",
      "indexes: torch.Size([2688, 8])\n",
      "Expanded shape torch.Size([26880, 8])\n"
     ]
    },
    {
     "name": "stderr",
     "output_type": "stream",
     "text": [
      "\n",
      " 38%|██████████████████████████████████▌                                                         | 376/1000 [01:18<02:09,  4.80it/s]\u001b[A"
     ]
    },
    {
     "name": "stdout",
     "output_type": "stream",
     "text": [
      "distances: torch.Size([2688, 1000])\n",
      "Indexes shape:  torch.Size([2688, 8])\n",
      "Kxz: torch.Size([26880, 1000])\n",
      "kzz_inv: torch.Size([26880, 8, 8])\n",
      "indexes: torch.Size([2688, 8])\n",
      "Expanded shape torch.Size([26880, 8])\n"
     ]
    },
    {
     "name": "stderr",
     "output_type": "stream",
     "text": [
      "\n",
      " 38%|██████████████████████████████████▋                                                         | 377/1000 [01:18<02:09,  4.80it/s]\u001b[A"
     ]
    },
    {
     "name": "stdout",
     "output_type": "stream",
     "text": [
      "distances: torch.Size([2688, 1000])\n",
      "Indexes shape:  torch.Size([2688, 8])\n",
      "Kxz: torch.Size([26880, 1000])\n",
      "kzz_inv: torch.Size([26880, 8, 8])\n",
      "indexes: torch.Size([2688, 8])\n",
      "Expanded shape torch.Size([26880, 8])\n"
     ]
    },
    {
     "name": "stderr",
     "output_type": "stream",
     "text": [
      "\n",
      " 38%|██████████████████████████████████▊                                                         | 378/1000 [01:19<02:09,  4.80it/s]\u001b[A"
     ]
    },
    {
     "name": "stdout",
     "output_type": "stream",
     "text": [
      "distances: torch.Size([2688, 1000])\n",
      "Indexes shape:  torch.Size([2688, 8])\n",
      "Kxz: torch.Size([26880, 1000])\n",
      "kzz_inv: torch.Size([26880, 8, 8])\n",
      "indexes: torch.Size([2688, 8])\n",
      "Expanded shape torch.Size([26880, 8])\n"
     ]
    },
    {
     "name": "stderr",
     "output_type": "stream",
     "text": [
      "\n",
      " 38%|██████████████████████████████████▊                                                         | 379/1000 [01:19<02:09,  4.80it/s]\u001b[A"
     ]
    },
    {
     "name": "stdout",
     "output_type": "stream",
     "text": [
      "distances: torch.Size([2688, 1000])\n",
      "Indexes shape:  torch.Size([2688, 8])\n",
      "Kxz: torch.Size([26880, 1000])\n",
      "kzz_inv: torch.Size([26880, 8, 8])\n",
      "indexes: torch.Size([2688, 8])\n",
      "Expanded shape torch.Size([26880, 8])\n"
     ]
    },
    {
     "name": "stderr",
     "output_type": "stream",
     "text": [
      "\n",
      " 38%|██████████████████████████████████▉                                                         | 380/1000 [01:19<02:09,  4.80it/s]\u001b[A"
     ]
    },
    {
     "name": "stdout",
     "output_type": "stream",
     "text": [
      "distances: torch.Size([2688, 1000])\n",
      "Indexes shape:  torch.Size([2688, 8])\n",
      "Kxz: torch.Size([26880, 1000])\n",
      "kzz_inv: torch.Size([26880, 8, 8])\n",
      "indexes: torch.Size([2688, 8])\n",
      "Expanded shape torch.Size([26880, 8])\n"
     ]
    },
    {
     "name": "stderr",
     "output_type": "stream",
     "text": [
      "\n",
      " 38%|███████████████████████████████████                                                         | 381/1000 [01:19<02:08,  4.80it/s]\u001b[A"
     ]
    },
    {
     "name": "stdout",
     "output_type": "stream",
     "text": [
      "distances: torch.Size([2688, 1000])\n",
      "Indexes shape:  torch.Size([2688, 8])\n",
      "Kxz: torch.Size([26880, 1000])\n",
      "kzz_inv: torch.Size([26880, 8, 8])\n",
      "indexes: torch.Size([2688, 8])\n",
      "Expanded shape torch.Size([26880, 8])\n"
     ]
    },
    {
     "name": "stderr",
     "output_type": "stream",
     "text": [
      "\n",
      " 38%|███████████████████████████████████▏                                                        | 382/1000 [01:19<02:08,  4.80it/s]\u001b[A"
     ]
    },
    {
     "name": "stdout",
     "output_type": "stream",
     "text": [
      "distances: torch.Size([2688, 1000])\n",
      "Indexes shape:  torch.Size([2688, 8])\n",
      "Kxz: torch.Size([26880, 1000])\n",
      "kzz_inv: torch.Size([26880, 8, 8])\n",
      "indexes: torch.Size([2688, 8])\n",
      "Expanded shape torch.Size([26880, 8])\n"
     ]
    },
    {
     "name": "stderr",
     "output_type": "stream",
     "text": [
      "\n",
      " 38%|███████████████████████████████████▏                                                        | 383/1000 [01:20<02:08,  4.80it/s]\u001b[A"
     ]
    },
    {
     "name": "stdout",
     "output_type": "stream",
     "text": [
      "distances: torch.Size([2688, 1000])\n",
      "Indexes shape:  torch.Size([2688, 8])\n",
      "Kxz: torch.Size([26880, 1000])\n",
      "kzz_inv: torch.Size([26880, 8, 8])\n",
      "indexes: torch.Size([2688, 8])\n",
      "Expanded shape torch.Size([26880, 8])\n"
     ]
    },
    {
     "name": "stderr",
     "output_type": "stream",
     "text": [
      "\n",
      " 38%|███████████████████████████████████▎                                                        | 384/1000 [01:20<02:08,  4.80it/s]\u001b[A"
     ]
    },
    {
     "name": "stdout",
     "output_type": "stream",
     "text": [
      "distances: torch.Size([2688, 1000])\n",
      "Indexes shape:  torch.Size([2688, 8])\n",
      "Kxz: torch.Size([26880, 1000])\n",
      "kzz_inv: torch.Size([26880, 8, 8])\n",
      "indexes: torch.Size([2688, 8])\n",
      "Expanded shape torch.Size([26880, 8])\n"
     ]
    },
    {
     "name": "stderr",
     "output_type": "stream",
     "text": [
      "\n",
      " 38%|███████████████████████████████████▍                                                        | 385/1000 [01:20<02:08,  4.80it/s]\u001b[A"
     ]
    },
    {
     "name": "stdout",
     "output_type": "stream",
     "text": [
      "distances: torch.Size([2688, 1000])\n",
      "Indexes shape:  torch.Size([2688, 8])\n",
      "Kxz: torch.Size([26880, 1000])\n",
      "kzz_inv: torch.Size([26880, 8, 8])\n",
      "indexes: torch.Size([2688, 8])\n",
      "Expanded shape torch.Size([26880, 8])\n"
     ]
    },
    {
     "name": "stderr",
     "output_type": "stream",
     "text": [
      "\n",
      " 39%|███████████████████████████████████▌                                                        | 386/1000 [01:20<02:07,  4.80it/s]\u001b[A"
     ]
    },
    {
     "name": "stdout",
     "output_type": "stream",
     "text": [
      "distances: torch.Size([2688, 1000])\n",
      "Indexes shape:  torch.Size([2688, 8])\n",
      "Kxz: torch.Size([26880, 1000])\n",
      "kzz_inv: torch.Size([26880, 8, 8])\n",
      "indexes: torch.Size([2688, 8])\n",
      "Expanded shape torch.Size([26880, 8])\n"
     ]
    },
    {
     "name": "stderr",
     "output_type": "stream",
     "text": [
      "\n",
      " 39%|███████████████████████████████████▌                                                        | 387/1000 [01:20<02:07,  4.81it/s]\u001b[A"
     ]
    },
    {
     "name": "stdout",
     "output_type": "stream",
     "text": [
      "distances: torch.Size([2688, 1000])\n",
      "Indexes shape:  torch.Size([2688, 8])\n",
      "Kxz: torch.Size([26880, 1000])\n",
      "kzz_inv: torch.Size([26880, 8, 8])\n",
      "indexes: torch.Size([2688, 8])\n",
      "Expanded shape torch.Size([26880, 8])\n"
     ]
    },
    {
     "name": "stderr",
     "output_type": "stream",
     "text": [
      "\n",
      " 39%|███████████████████████████████████▋                                                        | 388/1000 [01:21<02:07,  4.80it/s]\u001b[A"
     ]
    },
    {
     "name": "stdout",
     "output_type": "stream",
     "text": [
      "distances: torch.Size([2688, 1000])\n",
      "Indexes shape:  torch.Size([2688, 8])\n",
      "Kxz: torch.Size([26880, 1000])\n",
      "kzz_inv: torch.Size([26880, 8, 8])\n",
      "indexes: torch.Size([2688, 8])\n",
      "Expanded shape torch.Size([26880, 8])\n"
     ]
    },
    {
     "name": "stderr",
     "output_type": "stream",
     "text": [
      "\n",
      " 39%|███████████████████████████████████▊                                                        | 389/1000 [01:21<02:07,  4.80it/s]\u001b[A"
     ]
    },
    {
     "name": "stdout",
     "output_type": "stream",
     "text": [
      "distances: torch.Size([2688, 1000])\n",
      "Indexes shape:  torch.Size([2688, 8])\n",
      "Kxz: torch.Size([26880, 1000])\n",
      "kzz_inv: torch.Size([26880, 8, 8])\n",
      "indexes: torch.Size([2688, 8])\n",
      "Expanded shape torch.Size([26880, 8])\n"
     ]
    },
    {
     "name": "stderr",
     "output_type": "stream",
     "text": [
      "\n",
      " 39%|███████████████████████████████████▉                                                        | 390/1000 [01:21<02:06,  4.81it/s]\u001b[A"
     ]
    },
    {
     "name": "stdout",
     "output_type": "stream",
     "text": [
      "distances: torch.Size([2688, 1000])\n",
      "Indexes shape:  torch.Size([2688, 8])\n",
      "Kxz: torch.Size([26880, 1000])\n",
      "kzz_inv: torch.Size([26880, 8, 8])\n",
      "indexes: torch.Size([2688, 8])\n",
      "Expanded shape torch.Size([26880, 8])\n"
     ]
    },
    {
     "name": "stderr",
     "output_type": "stream",
     "text": [
      "\n",
      " 39%|███████████████████████████████████▉                                                        | 391/1000 [01:21<02:06,  4.80it/s]\u001b[A"
     ]
    },
    {
     "name": "stdout",
     "output_type": "stream",
     "text": [
      "distances: torch.Size([2688, 1000])\n",
      "Indexes shape:  torch.Size([2688, 8])\n",
      "Kxz: torch.Size([26880, 1000])\n",
      "kzz_inv: torch.Size([26880, 8, 8])\n",
      "indexes: torch.Size([2688, 8])\n",
      "Expanded shape torch.Size([26880, 8])\n"
     ]
    },
    {
     "name": "stderr",
     "output_type": "stream",
     "text": [
      "\n",
      " 39%|████████████████████████████████████                                                        | 392/1000 [01:22<02:06,  4.80it/s]\u001b[A"
     ]
    },
    {
     "name": "stdout",
     "output_type": "stream",
     "text": [
      "distances: torch.Size([2688, 1000])\n",
      "Indexes shape:  torch.Size([2688, 8])\n",
      "Kxz: torch.Size([26880, 1000])\n",
      "kzz_inv: torch.Size([26880, 8, 8])\n",
      "indexes: torch.Size([2688, 8])\n",
      "Expanded shape torch.Size([26880, 8])\n"
     ]
    },
    {
     "name": "stderr",
     "output_type": "stream",
     "text": [
      "\n",
      " 39%|████████████████████████████████████▏                                                       | 393/1000 [01:22<02:06,  4.80it/s]\u001b[A"
     ]
    },
    {
     "name": "stdout",
     "output_type": "stream",
     "text": [
      "distances: torch.Size([2688, 1000])\n",
      "Indexes shape:  torch.Size([2688, 8])\n",
      "Kxz: torch.Size([26880, 1000])\n",
      "kzz_inv: torch.Size([26880, 8, 8])\n",
      "indexes: torch.Size([2688, 8])\n",
      "Expanded shape torch.Size([26880, 8])\n"
     ]
    },
    {
     "name": "stderr",
     "output_type": "stream",
     "text": [
      "\n",
      " 39%|████████████████████████████████████▏                                                       | 394/1000 [01:22<02:06,  4.80it/s]\u001b[A"
     ]
    },
    {
     "name": "stdout",
     "output_type": "stream",
     "text": [
      "distances: torch.Size([2688, 1000])\n",
      "Indexes shape:  torch.Size([2688, 8])\n",
      "Kxz: torch.Size([26880, 1000])\n",
      "kzz_inv: torch.Size([26880, 8, 8])\n",
      "indexes: torch.Size([2688, 8])\n",
      "Expanded shape torch.Size([26880, 8])\n"
     ]
    },
    {
     "name": "stderr",
     "output_type": "stream",
     "text": [
      "\n",
      " 40%|████████████████████████████████████▎                                                       | 395/1000 [01:22<02:05,  4.80it/s]\u001b[A"
     ]
    },
    {
     "name": "stdout",
     "output_type": "stream",
     "text": [
      "distances: torch.Size([2688, 1000])\n",
      "Indexes shape:  torch.Size([2688, 8])\n",
      "Kxz: torch.Size([26880, 1000])\n",
      "kzz_inv: torch.Size([26880, 8, 8])\n",
      "indexes: torch.Size([2688, 8])\n",
      "Expanded shape torch.Size([26880, 8])\n"
     ]
    },
    {
     "name": "stderr",
     "output_type": "stream",
     "text": [
      "\n",
      " 40%|████████████████████████████████████▍                                                       | 396/1000 [01:22<02:05,  4.80it/s]\u001b[A"
     ]
    },
    {
     "name": "stdout",
     "output_type": "stream",
     "text": [
      "distances: torch.Size([2688, 1000])\n",
      "Indexes shape:  torch.Size([2688, 8])\n",
      "Kxz: torch.Size([26880, 1000])\n",
      "kzz_inv: torch.Size([26880, 8, 8])\n",
      "indexes: torch.Size([2688, 8])\n",
      "Expanded shape torch.Size([26880, 8])\n"
     ]
    },
    {
     "name": "stderr",
     "output_type": "stream",
     "text": [
      "\n",
      " 40%|████████████████████████████████████▌                                                       | 397/1000 [01:23<02:05,  4.80it/s]\u001b[A"
     ]
    },
    {
     "name": "stdout",
     "output_type": "stream",
     "text": [
      "distances: torch.Size([2688, 1000])\n",
      "Indexes shape:  torch.Size([2688, 8])\n",
      "Kxz: torch.Size([26880, 1000])\n",
      "kzz_inv: torch.Size([26880, 8, 8])\n",
      "indexes: torch.Size([2688, 8])\n",
      "Expanded shape torch.Size([26880, 8])\n"
     ]
    },
    {
     "name": "stderr",
     "output_type": "stream",
     "text": [
      "\n",
      " 40%|████████████████████████████████████▌                                                       | 398/1000 [01:23<02:05,  4.80it/s]\u001b[A"
     ]
    },
    {
     "name": "stdout",
     "output_type": "stream",
     "text": [
      "distances: torch.Size([2688, 1000])\n",
      "Indexes shape:  torch.Size([2688, 8])\n",
      "Kxz: torch.Size([26880, 1000])\n",
      "kzz_inv: torch.Size([26880, 8, 8])\n",
      "indexes: torch.Size([2688, 8])\n",
      "Expanded shape torch.Size([26880, 8])\n"
     ]
    },
    {
     "name": "stderr",
     "output_type": "stream",
     "text": [
      "\n",
      " 40%|████████████████████████████████████▋                                                       | 399/1000 [01:23<02:05,  4.80it/s]\u001b[A"
     ]
    },
    {
     "name": "stdout",
     "output_type": "stream",
     "text": [
      "distances: torch.Size([2688, 1000])\n",
      "Indexes shape:  torch.Size([2688, 8])\n",
      "Kxz: torch.Size([26880, 1000])\n",
      "kzz_inv: torch.Size([26880, 8, 8])\n",
      "indexes: torch.Size([2688, 8])\n",
      "Expanded shape torch.Size([26880, 8])\n"
     ]
    },
    {
     "name": "stderr",
     "output_type": "stream",
     "text": [
      "\n",
      " 40%|████████████████████████████████████▊                                                       | 400/1000 [01:23<02:04,  4.80it/s]\u001b[A"
     ]
    },
    {
     "name": "stdout",
     "output_type": "stream",
     "text": [
      "distances: torch.Size([2688, 1000])\n",
      "Indexes shape:  torch.Size([2688, 8])\n",
      "Kxz: torch.Size([26880, 1000])\n",
      "kzz_inv: torch.Size([26880, 8, 8])\n",
      "indexes: torch.Size([2688, 8])\n",
      "Expanded shape torch.Size([26880, 8])\n"
     ]
    },
    {
     "name": "stderr",
     "output_type": "stream",
     "text": [
      "\n",
      " 40%|████████████████████████████████████▉                                                       | 401/1000 [01:23<02:04,  4.80it/s]\u001b[A"
     ]
    },
    {
     "name": "stdout",
     "output_type": "stream",
     "text": [
      "distances: torch.Size([2688, 1000])\n",
      "Indexes shape:  torch.Size([2688, 8])\n",
      "Kxz: torch.Size([26880, 1000])\n",
      "kzz_inv: torch.Size([26880, 8, 8])\n",
      "indexes: torch.Size([2688, 8])\n",
      "Expanded shape torch.Size([26880, 8])\n"
     ]
    },
    {
     "name": "stderr",
     "output_type": "stream",
     "text": [
      "\n",
      " 40%|████████████████████████████████████▉                                                       | 402/1000 [01:24<02:04,  4.80it/s]\u001b[A"
     ]
    },
    {
     "name": "stdout",
     "output_type": "stream",
     "text": [
      "distances: torch.Size([2688, 1000])\n",
      "Indexes shape:  torch.Size([2688, 8])\n",
      "Kxz: torch.Size([26880, 1000])\n",
      "kzz_inv: torch.Size([26880, 8, 8])\n",
      "indexes: torch.Size([2688, 8])\n",
      "Expanded shape torch.Size([26880, 8])\n"
     ]
    },
    {
     "name": "stderr",
     "output_type": "stream",
     "text": [
      "\n",
      " 40%|█████████████████████████████████████                                                       | 403/1000 [01:24<02:04,  4.80it/s]\u001b[A"
     ]
    },
    {
     "name": "stdout",
     "output_type": "stream",
     "text": [
      "distances: torch.Size([2688, 1000])\n",
      "Indexes shape:  torch.Size([2688, 8])\n",
      "Kxz: torch.Size([26880, 1000])\n",
      "kzz_inv: torch.Size([26880, 8, 8])\n",
      "indexes: torch.Size([2688, 8])\n",
      "Expanded shape torch.Size([26880, 8])\n"
     ]
    },
    {
     "name": "stderr",
     "output_type": "stream",
     "text": [
      "\n",
      " 40%|█████████████████████████████████████▏                                                      | 404/1000 [01:24<02:04,  4.80it/s]\u001b[A"
     ]
    },
    {
     "name": "stdout",
     "output_type": "stream",
     "text": [
      "distances: torch.Size([2688, 1000])\n",
      "Indexes shape:  torch.Size([2688, 8])\n",
      "Kxz: torch.Size([26880, 1000])\n",
      "kzz_inv: torch.Size([26880, 8, 8])\n",
      "indexes: torch.Size([2688, 8])\n",
      "Expanded shape torch.Size([26880, 8])\n"
     ]
    },
    {
     "name": "stderr",
     "output_type": "stream",
     "text": [
      "\n",
      " 40%|█████████████████████████████████████▎                                                      | 405/1000 [01:24<02:03,  4.80it/s]\u001b[A"
     ]
    },
    {
     "name": "stdout",
     "output_type": "stream",
     "text": [
      "distances: torch.Size([2688, 1000])\n",
      "Indexes shape:  torch.Size([2688, 8])\n",
      "Kxz: torch.Size([26880, 1000])\n",
      "kzz_inv: torch.Size([26880, 8, 8])\n",
      "indexes: torch.Size([2688, 8])\n",
      "Expanded shape torch.Size([26880, 8])\n"
     ]
    },
    {
     "name": "stderr",
     "output_type": "stream",
     "text": [
      "\n",
      " 41%|█████████████████████████████████████▎                                                      | 406/1000 [01:24<02:03,  4.80it/s]\u001b[A"
     ]
    },
    {
     "name": "stdout",
     "output_type": "stream",
     "text": [
      "distances: torch.Size([2688, 1000])\n",
      "Indexes shape:  torch.Size([2688, 8])\n",
      "Kxz: torch.Size([26880, 1000])\n",
      "kzz_inv: torch.Size([26880, 8, 8])\n",
      "indexes: torch.Size([2688, 8])\n",
      "Expanded shape torch.Size([26880, 8])\n"
     ]
    },
    {
     "name": "stderr",
     "output_type": "stream",
     "text": [
      "\n",
      " 41%|█████████████████████████████████████▍                                                      | 407/1000 [01:25<02:03,  4.80it/s]\u001b[A"
     ]
    },
    {
     "name": "stdout",
     "output_type": "stream",
     "text": [
      "distances: torch.Size([2688, 1000])\n",
      "Indexes shape:  torch.Size([2688, 8])\n",
      "Kxz: torch.Size([26880, 1000])\n",
      "kzz_inv: torch.Size([26880, 8, 8])\n",
      "indexes: torch.Size([2688, 8])\n",
      "Expanded shape torch.Size([26880, 8])\n"
     ]
    },
    {
     "name": "stderr",
     "output_type": "stream",
     "text": [
      "\n",
      " 41%|█████████████████████████████████████▌                                                      | 408/1000 [01:25<02:03,  4.80it/s]\u001b[A"
     ]
    },
    {
     "name": "stdout",
     "output_type": "stream",
     "text": [
      "distances: torch.Size([2688, 1000])\n",
      "Indexes shape:  torch.Size([2688, 8])\n",
      "Kxz: torch.Size([26880, 1000])\n",
      "kzz_inv: torch.Size([26880, 8, 8])\n",
      "indexes: torch.Size([2688, 8])\n",
      "Expanded shape torch.Size([26880, 8])\n"
     ]
    },
    {
     "name": "stderr",
     "output_type": "stream",
     "text": [
      "\n",
      " 41%|█████████████████████████████████████▋                                                      | 409/1000 [01:25<02:03,  4.80it/s]\u001b[A"
     ]
    },
    {
     "name": "stdout",
     "output_type": "stream",
     "text": [
      "distances: torch.Size([2688, 1000])\n",
      "Indexes shape:  torch.Size([2688, 8])\n",
      "Kxz: torch.Size([26880, 1000])\n",
      "kzz_inv: torch.Size([26880, 8, 8])\n",
      "indexes: torch.Size([2688, 8])\n",
      "Expanded shape torch.Size([26880, 8])\n"
     ]
    },
    {
     "name": "stderr",
     "output_type": "stream",
     "text": [
      "\n",
      " 41%|█████████████████████████████████████▋                                                      | 410/1000 [01:25<02:02,  4.80it/s]\u001b[A"
     ]
    },
    {
     "name": "stdout",
     "output_type": "stream",
     "text": [
      "distances: torch.Size([2688, 1000])\n",
      "Indexes shape:  torch.Size([2688, 8])\n",
      "Kxz: torch.Size([26880, 1000])\n",
      "kzz_inv: torch.Size([26880, 8, 8])\n",
      "indexes: torch.Size([2688, 8])\n",
      "Expanded shape torch.Size([26880, 8])\n"
     ]
    },
    {
     "name": "stderr",
     "output_type": "stream",
     "text": [
      "\n",
      " 41%|█████████████████████████████████████▊                                                      | 411/1000 [01:25<02:02,  4.80it/s]\u001b[A"
     ]
    },
    {
     "name": "stdout",
     "output_type": "stream",
     "text": [
      "distances: torch.Size([2688, 1000])\n",
      "Indexes shape:  torch.Size([2688, 8])\n",
      "Kxz: torch.Size([26880, 1000])\n",
      "kzz_inv: torch.Size([26880, 8, 8])\n",
      "indexes: torch.Size([2688, 8])\n",
      "Expanded shape torch.Size([26880, 8])\n"
     ]
    },
    {
     "name": "stderr",
     "output_type": "stream",
     "text": [
      "\n",
      " 41%|█████████████████████████████████████▉                                                      | 412/1000 [01:26<02:02,  4.80it/s]\u001b[A"
     ]
    },
    {
     "name": "stdout",
     "output_type": "stream",
     "text": [
      "distances: torch.Size([2688, 1000])\n",
      "Indexes shape:  torch.Size([2688, 8])\n",
      "Kxz: torch.Size([26880, 1000])\n",
      "kzz_inv: torch.Size([26880, 8, 8])\n",
      "indexes: torch.Size([2688, 8])\n",
      "Expanded shape torch.Size([26880, 8])\n"
     ]
    },
    {
     "name": "stderr",
     "output_type": "stream",
     "text": [
      "\n",
      " 41%|█████████████████████████████████████▉                                                      | 413/1000 [01:26<02:02,  4.80it/s]\u001b[A"
     ]
    },
    {
     "name": "stdout",
     "output_type": "stream",
     "text": [
      "distances: torch.Size([2688, 1000])\n",
      "Indexes shape:  torch.Size([2688, 8])\n",
      "Kxz: torch.Size([26880, 1000])\n",
      "kzz_inv: torch.Size([26880, 8, 8])\n",
      "indexes: torch.Size([2688, 8])\n",
      "Expanded shape torch.Size([26880, 8])\n"
     ]
    },
    {
     "name": "stderr",
     "output_type": "stream",
     "text": [
      "\n",
      " 41%|██████████████████████████████████████                                                      | 414/1000 [01:26<02:01,  4.80it/s]\u001b[A"
     ]
    },
    {
     "name": "stdout",
     "output_type": "stream",
     "text": [
      "distances: torch.Size([2688, 1000])\n",
      "Indexes shape:  torch.Size([2688, 8])\n",
      "Kxz: torch.Size([26880, 1000])\n",
      "kzz_inv: torch.Size([26880, 8, 8])\n",
      "indexes: torch.Size([2688, 8])\n",
      "Expanded shape torch.Size([26880, 8])\n"
     ]
    },
    {
     "name": "stderr",
     "output_type": "stream",
     "text": [
      "\n",
      " 42%|██████████████████████████████████████▏                                                     | 415/1000 [01:26<02:01,  4.80it/s]\u001b[A"
     ]
    },
    {
     "name": "stdout",
     "output_type": "stream",
     "text": [
      "distances: torch.Size([2688, 1000])\n",
      "Indexes shape:  torch.Size([2688, 8])\n",
      "Kxz: torch.Size([26880, 1000])\n",
      "kzz_inv: torch.Size([26880, 8, 8])\n",
      "indexes: torch.Size([2688, 8])\n",
      "Expanded shape torch.Size([26880, 8])\n"
     ]
    },
    {
     "name": "stderr",
     "output_type": "stream",
     "text": [
      "\n",
      " 42%|██████████████████████████████████████▎                                                     | 416/1000 [01:27<02:01,  4.80it/s]\u001b[A"
     ]
    },
    {
     "name": "stdout",
     "output_type": "stream",
     "text": [
      "distances: torch.Size([2688, 1000])\n",
      "Indexes shape:  torch.Size([2688, 8])\n",
      "Kxz: torch.Size([26880, 1000])\n",
      "kzz_inv: torch.Size([26880, 8, 8])\n",
      "indexes: torch.Size([2688, 8])\n",
      "Expanded shape torch.Size([26880, 8])\n"
     ]
    },
    {
     "name": "stderr",
     "output_type": "stream",
     "text": [
      "\n",
      " 42%|██████████████████████████████████████▎                                                     | 417/1000 [01:27<02:01,  4.81it/s]\u001b[A"
     ]
    },
    {
     "name": "stdout",
     "output_type": "stream",
     "text": [
      "distances: torch.Size([2688, 1000])\n",
      "Indexes shape:  torch.Size([2688, 8])\n",
      "Kxz: torch.Size([26880, 1000])\n",
      "kzz_inv: torch.Size([26880, 8, 8])\n",
      "indexes: torch.Size([2688, 8])\n",
      "Expanded shape torch.Size([26880, 8])\n"
     ]
    },
    {
     "name": "stderr",
     "output_type": "stream",
     "text": [
      "\n",
      " 42%|██████████████████████████████████████▍                                                     | 418/1000 [01:27<02:01,  4.80it/s]\u001b[A"
     ]
    },
    {
     "name": "stdout",
     "output_type": "stream",
     "text": [
      "distances: torch.Size([2688, 1000])\n",
      "Indexes shape:  torch.Size([2688, 8])\n",
      "Kxz: torch.Size([26880, 1000])\n",
      "kzz_inv: torch.Size([26880, 8, 8])\n",
      "indexes: torch.Size([2688, 8])\n",
      "Expanded shape torch.Size([26880, 8])\n"
     ]
    },
    {
     "name": "stderr",
     "output_type": "stream",
     "text": [
      "\n",
      " 42%|██████████████████████████████████████▌                                                     | 419/1000 [01:27<02:00,  4.80it/s]\u001b[A"
     ]
    },
    {
     "name": "stdout",
     "output_type": "stream",
     "text": [
      "distances: torch.Size([2688, 1000])\n",
      "Indexes shape:  torch.Size([2688, 8])\n",
      "Kxz: torch.Size([26880, 1000])\n",
      "kzz_inv: torch.Size([26880, 8, 8])\n",
      "indexes: torch.Size([2688, 8])\n",
      "Expanded shape torch.Size([26880, 8])\n"
     ]
    },
    {
     "name": "stderr",
     "output_type": "stream",
     "text": [
      "\n",
      " 42%|██████████████████████████████████████▋                                                     | 420/1000 [01:27<02:00,  4.80it/s]\u001b[A"
     ]
    },
    {
     "name": "stdout",
     "output_type": "stream",
     "text": [
      "distances: torch.Size([2688, 1000])\n",
      "Indexes shape:  torch.Size([2688, 8])\n",
      "Kxz: torch.Size([26880, 1000])\n",
      "kzz_inv: torch.Size([26880, 8, 8])\n",
      "indexes: torch.Size([2688, 8])\n",
      "Expanded shape torch.Size([26880, 8])\n"
     ]
    },
    {
     "name": "stderr",
     "output_type": "stream",
     "text": [
      "\n",
      " 42%|██████████████████████████████████████▋                                                     | 421/1000 [01:28<02:00,  4.80it/s]\u001b[A"
     ]
    },
    {
     "name": "stdout",
     "output_type": "stream",
     "text": [
      "distances: torch.Size([2688, 1000])\n",
      "Indexes shape:  torch.Size([2688, 8])\n",
      "Kxz: torch.Size([26880, 1000])\n",
      "kzz_inv: torch.Size([26880, 8, 8])\n",
      "indexes: torch.Size([2688, 8])\n",
      "Expanded shape torch.Size([26880, 8])\n"
     ]
    },
    {
     "name": "stderr",
     "output_type": "stream",
     "text": [
      "\n",
      " 42%|██████████████████████████████████████▊                                                     | 422/1000 [01:28<02:00,  4.80it/s]\u001b[A"
     ]
    },
    {
     "name": "stdout",
     "output_type": "stream",
     "text": [
      "distances: torch.Size([2688, 1000])\n",
      "Indexes shape:  torch.Size([2688, 8])\n",
      "Kxz: torch.Size([26880, 1000])\n",
      "kzz_inv: torch.Size([26880, 8, 8])\n",
      "indexes: torch.Size([2688, 8])\n",
      "Expanded shape torch.Size([26880, 8])\n"
     ]
    },
    {
     "name": "stderr",
     "output_type": "stream",
     "text": [
      "\n",
      " 42%|██████████████████████████████████████▉                                                     | 423/1000 [01:28<02:00,  4.80it/s]\u001b[A"
     ]
    },
    {
     "name": "stdout",
     "output_type": "stream",
     "text": [
      "distances: torch.Size([2688, 1000])\n",
      "Indexes shape:  torch.Size([2688, 8])\n",
      "Kxz: torch.Size([26880, 1000])\n",
      "kzz_inv: torch.Size([26880, 8, 8])\n",
      "indexes: torch.Size([2688, 8])\n",
      "Expanded shape torch.Size([26880, 8])\n"
     ]
    },
    {
     "name": "stderr",
     "output_type": "stream",
     "text": [
      "\n",
      " 42%|███████████████████████████████████████                                                     | 424/1000 [01:28<02:00,  4.80it/s]\u001b[A"
     ]
    },
    {
     "name": "stdout",
     "output_type": "stream",
     "text": [
      "distances: torch.Size([2688, 1000])\n",
      "Indexes shape:  torch.Size([2688, 8])\n",
      "Kxz: torch.Size([26880, 1000])\n",
      "kzz_inv: torch.Size([26880, 8, 8])\n",
      "indexes: torch.Size([2688, 8])\n",
      "Expanded shape torch.Size([26880, 8])\n"
     ]
    },
    {
     "name": "stderr",
     "output_type": "stream",
     "text": [
      "\n",
      " 42%|███████████████████████████████████████                                                     | 425/1000 [01:28<01:59,  4.80it/s]\u001b[A"
     ]
    },
    {
     "name": "stdout",
     "output_type": "stream",
     "text": [
      "distances: torch.Size([2688, 1000])\n",
      "Indexes shape:  torch.Size([2688, 8])\n",
      "Kxz: torch.Size([26880, 1000])\n",
      "kzz_inv: torch.Size([26880, 8, 8])\n",
      "indexes: torch.Size([2688, 8])\n",
      "Expanded shape torch.Size([26880, 8])\n"
     ]
    },
    {
     "name": "stderr",
     "output_type": "stream",
     "text": [
      "\n",
      " 43%|███████████████████████████████████████▏                                                    | 426/1000 [01:29<01:59,  4.80it/s]\u001b[A"
     ]
    },
    {
     "name": "stdout",
     "output_type": "stream",
     "text": [
      "distances: torch.Size([2688, 1000])\n",
      "Indexes shape:  torch.Size([2688, 8])\n",
      "Kxz: torch.Size([26880, 1000])\n",
      "kzz_inv: torch.Size([26880, 8, 8])\n",
      "indexes: torch.Size([2688, 8])\n",
      "Expanded shape torch.Size([26880, 8])\n"
     ]
    },
    {
     "name": "stderr",
     "output_type": "stream",
     "text": [
      "\n",
      " 43%|███████████████████████████████████████▎                                                    | 427/1000 [01:29<01:59,  4.80it/s]\u001b[A"
     ]
    },
    {
     "name": "stdout",
     "output_type": "stream",
     "text": [
      "distances: torch.Size([2688, 1000])\n",
      "Indexes shape:  torch.Size([2688, 8])\n",
      "Kxz: torch.Size([26880, 1000])\n",
      "kzz_inv: torch.Size([26880, 8, 8])\n",
      "indexes: torch.Size([2688, 8])\n",
      "Expanded shape torch.Size([26880, 8])\n"
     ]
    },
    {
     "name": "stderr",
     "output_type": "stream",
     "text": [
      "\n",
      " 43%|███████████████████████████████████████▍                                                    | 428/1000 [01:29<01:59,  4.80it/s]\u001b[A"
     ]
    },
    {
     "name": "stdout",
     "output_type": "stream",
     "text": [
      "distances: torch.Size([2688, 1000])\n",
      "Indexes shape:  torch.Size([2688, 8])\n",
      "Kxz: torch.Size([26880, 1000])\n",
      "kzz_inv: torch.Size([26880, 8, 8])\n",
      "indexes: torch.Size([2688, 8])\n",
      "Expanded shape torch.Size([26880, 8])\n"
     ]
    },
    {
     "name": "stderr",
     "output_type": "stream",
     "text": [
      "\n",
      " 43%|███████████████████████████████████████▍                                                    | 429/1000 [01:29<01:59,  4.80it/s]\u001b[A"
     ]
    },
    {
     "name": "stdout",
     "output_type": "stream",
     "text": [
      "distances: torch.Size([2688, 1000])\n",
      "Indexes shape:  torch.Size([2688, 8])\n",
      "Kxz: torch.Size([26880, 1000])\n",
      "kzz_inv: torch.Size([26880, 8, 8])\n",
      "indexes: torch.Size([2688, 8])\n",
      "Expanded shape torch.Size([26880, 8])\n"
     ]
    },
    {
     "name": "stderr",
     "output_type": "stream",
     "text": [
      "\n",
      " 43%|███████████████████████████████████████▌                                                    | 430/1000 [01:29<01:58,  4.80it/s]\u001b[A"
     ]
    },
    {
     "name": "stdout",
     "output_type": "stream",
     "text": [
      "distances: torch.Size([2688, 1000])\n",
      "Indexes shape:  torch.Size([2688, 8])\n",
      "Kxz: torch.Size([26880, 1000])\n",
      "kzz_inv: torch.Size([26880, 8, 8])\n",
      "indexes: torch.Size([2688, 8])\n",
      "Expanded shape torch.Size([26880, 8])\n"
     ]
    },
    {
     "name": "stderr",
     "output_type": "stream",
     "text": [
      "\n",
      " 43%|███████████████████████████████████████▋                                                    | 431/1000 [01:30<01:58,  4.80it/s]\u001b[A"
     ]
    },
    {
     "name": "stdout",
     "output_type": "stream",
     "text": [
      "distances: torch.Size([2688, 1000])\n",
      "Indexes shape:  torch.Size([2688, 8])\n",
      "Kxz: torch.Size([26880, 1000])\n",
      "kzz_inv: torch.Size([26880, 8, 8])\n",
      "indexes: torch.Size([2688, 8])\n",
      "Expanded shape torch.Size([26880, 8])\n"
     ]
    },
    {
     "name": "stderr",
     "output_type": "stream",
     "text": [
      "\n",
      " 43%|███████████████████████████████████████▋                                                    | 432/1000 [01:30<01:58,  4.80it/s]\u001b[A"
     ]
    },
    {
     "name": "stdout",
     "output_type": "stream",
     "text": [
      "distances: torch.Size([2688, 1000])\n",
      "Indexes shape:  torch.Size([2688, 8])\n",
      "Kxz: torch.Size([26880, 1000])\n",
      "kzz_inv: torch.Size([26880, 8, 8])\n",
      "indexes: torch.Size([2688, 8])\n",
      "Expanded shape torch.Size([26880, 8])\n"
     ]
    },
    {
     "name": "stderr",
     "output_type": "stream",
     "text": [
      "\n",
      " 43%|███████████████████████████████████████▊                                                    | 433/1000 [01:30<01:58,  4.79it/s]\u001b[A"
     ]
    },
    {
     "name": "stdout",
     "output_type": "stream",
     "text": [
      "distances: torch.Size([2688, 1000])\n",
      "Indexes shape:  torch.Size([2688, 8])\n",
      "Kxz: torch.Size([26880, 1000])\n",
      "kzz_inv: torch.Size([26880, 8, 8])\n",
      "indexes: torch.Size([2688, 8])\n",
      "Expanded shape torch.Size([26880, 8])\n"
     ]
    },
    {
     "name": "stderr",
     "output_type": "stream",
     "text": [
      "\n",
      " 43%|███████████████████████████████████████▉                                                    | 434/1000 [01:30<01:58,  4.80it/s]\u001b[A"
     ]
    },
    {
     "name": "stdout",
     "output_type": "stream",
     "text": [
      "distances: torch.Size([2688, 1000])\n",
      "Indexes shape:  torch.Size([2688, 8])\n",
      "Kxz: torch.Size([26880, 1000])\n",
      "kzz_inv: torch.Size([26880, 8, 8])\n",
      "indexes: torch.Size([2688, 8])\n",
      "Expanded shape torch.Size([26880, 8])\n"
     ]
    },
    {
     "name": "stderr",
     "output_type": "stream",
     "text": [
      "\n",
      " 44%|████████████████████████████████████████                                                    | 435/1000 [01:30<01:57,  4.80it/s]\u001b[A"
     ]
    },
    {
     "name": "stdout",
     "output_type": "stream",
     "text": [
      "distances: torch.Size([2688, 1000])\n",
      "Indexes shape:  torch.Size([2688, 8])\n",
      "Kxz: torch.Size([26880, 1000])\n",
      "kzz_inv: torch.Size([26880, 8, 8])\n",
      "indexes: torch.Size([2688, 8])\n",
      "Expanded shape torch.Size([26880, 8])\n"
     ]
    },
    {
     "name": "stderr",
     "output_type": "stream",
     "text": [
      "\n",
      " 44%|████████████████████████████████████████                                                    | 436/1000 [01:31<01:57,  4.80it/s]\u001b[A"
     ]
    },
    {
     "name": "stdout",
     "output_type": "stream",
     "text": [
      "distances: torch.Size([2688, 1000])\n",
      "Indexes shape:  torch.Size([2688, 8])\n",
      "Kxz: torch.Size([26880, 1000])\n",
      "kzz_inv: torch.Size([26880, 8, 8])\n",
      "indexes: torch.Size([2688, 8])\n",
      "Expanded shape torch.Size([26880, 8])\n"
     ]
    },
    {
     "name": "stderr",
     "output_type": "stream",
     "text": [
      "\n",
      " 44%|████████████████████████████████████████▏                                                   | 437/1000 [01:31<01:57,  4.80it/s]\u001b[A"
     ]
    },
    {
     "name": "stdout",
     "output_type": "stream",
     "text": [
      "distances: torch.Size([2688, 1000])\n",
      "Indexes shape:  torch.Size([2688, 8])\n",
      "Kxz: torch.Size([26880, 1000])\n",
      "kzz_inv: torch.Size([26880, 8, 8])\n",
      "indexes: torch.Size([2688, 8])\n",
      "Expanded shape torch.Size([26880, 8])\n"
     ]
    },
    {
     "name": "stderr",
     "output_type": "stream",
     "text": [
      "\n",
      " 44%|████████████████████████████████████████▎                                                   | 438/1000 [01:31<01:57,  4.80it/s]\u001b[A"
     ]
    },
    {
     "name": "stdout",
     "output_type": "stream",
     "text": [
      "distances: torch.Size([2688, 1000])\n",
      "Indexes shape:  torch.Size([2688, 8])\n",
      "Kxz: torch.Size([26880, 1000])\n",
      "kzz_inv: torch.Size([26880, 8, 8])\n",
      "indexes: torch.Size([2688, 8])\n",
      "Expanded shape torch.Size([26880, 8])\n"
     ]
    },
    {
     "name": "stderr",
     "output_type": "stream",
     "text": [
      "\n",
      " 44%|████████████████████████████████████████▍                                                   | 439/1000 [01:31<01:56,  4.80it/s]\u001b[A"
     ]
    },
    {
     "name": "stdout",
     "output_type": "stream",
     "text": [
      "distances: torch.Size([2688, 1000])\n",
      "Indexes shape:  torch.Size([2688, 8])\n",
      "Kxz: torch.Size([26880, 1000])\n",
      "kzz_inv: torch.Size([26880, 8, 8])\n",
      "indexes: torch.Size([2688, 8])\n",
      "Expanded shape torch.Size([26880, 8])\n"
     ]
    },
    {
     "name": "stderr",
     "output_type": "stream",
     "text": [
      "\n",
      " 44%|████████████████████████████████████████▍                                                   | 440/1000 [01:32<01:56,  4.80it/s]\u001b[A"
     ]
    },
    {
     "name": "stdout",
     "output_type": "stream",
     "text": [
      "distances: torch.Size([2688, 1000])\n",
      "Indexes shape:  torch.Size([2688, 8])\n",
      "Kxz: torch.Size([26880, 1000])\n",
      "kzz_inv: torch.Size([26880, 8, 8])\n",
      "indexes: torch.Size([2688, 8])\n",
      "Expanded shape torch.Size([26880, 8])\n"
     ]
    },
    {
     "name": "stderr",
     "output_type": "stream",
     "text": [
      "\n",
      " 44%|████████████████████████████████████████▌                                                   | 441/1000 [01:32<01:56,  4.80it/s]\u001b[A"
     ]
    },
    {
     "name": "stdout",
     "output_type": "stream",
     "text": [
      "distances: torch.Size([2688, 1000])\n",
      "Indexes shape:  torch.Size([2688, 8])\n",
      "Kxz: torch.Size([26880, 1000])\n",
      "kzz_inv: torch.Size([26880, 8, 8])\n",
      "indexes: torch.Size([2688, 8])\n",
      "Expanded shape torch.Size([26880, 8])\n"
     ]
    },
    {
     "name": "stderr",
     "output_type": "stream",
     "text": [
      "\n",
      " 44%|████████████████████████████████████████▋                                                   | 442/1000 [01:32<01:56,  4.80it/s]\u001b[A"
     ]
    },
    {
     "name": "stdout",
     "output_type": "stream",
     "text": [
      "distances: torch.Size([2688, 1000])\n",
      "Indexes shape:  torch.Size([2688, 8])\n",
      "Kxz: torch.Size([26880, 1000])\n",
      "kzz_inv: torch.Size([26880, 8, 8])\n",
      "indexes: torch.Size([2688, 8])\n",
      "Expanded shape torch.Size([26880, 8])\n"
     ]
    },
    {
     "name": "stderr",
     "output_type": "stream",
     "text": [
      "\n",
      " 44%|████████████████████████████████████████▊                                                   | 443/1000 [01:32<01:55,  4.80it/s]\u001b[A"
     ]
    },
    {
     "name": "stdout",
     "output_type": "stream",
     "text": [
      "distances: torch.Size([2688, 1000])\n",
      "Indexes shape:  torch.Size([2688, 8])\n",
      "Kxz: torch.Size([26880, 1000])\n",
      "kzz_inv: torch.Size([26880, 8, 8])\n",
      "indexes: torch.Size([2688, 8])\n",
      "Expanded shape torch.Size([26880, 8])\n"
     ]
    },
    {
     "name": "stderr",
     "output_type": "stream",
     "text": [
      "\n",
      " 44%|████████████████████████████████████████▊                                                   | 444/1000 [01:32<01:55,  4.80it/s]\u001b[A"
     ]
    },
    {
     "name": "stdout",
     "output_type": "stream",
     "text": [
      "distances: torch.Size([2688, 1000])\n",
      "Indexes shape:  torch.Size([2688, 8])\n",
      "Kxz: torch.Size([26880, 1000])\n",
      "kzz_inv: torch.Size([26880, 8, 8])\n",
      "indexes: torch.Size([2688, 8])\n",
      "Expanded shape torch.Size([26880, 8])\n"
     ]
    },
    {
     "name": "stderr",
     "output_type": "stream",
     "text": [
      "\n",
      " 44%|████████████████████████████████████████▉                                                   | 445/1000 [01:33<01:55,  4.80it/s]\u001b[A"
     ]
    },
    {
     "name": "stdout",
     "output_type": "stream",
     "text": [
      "distances: torch.Size([2688, 1000])\n",
      "Indexes shape:  torch.Size([2688, 8])\n",
      "Kxz: torch.Size([26880, 1000])\n",
      "kzz_inv: torch.Size([26880, 8, 8])\n",
      "indexes: torch.Size([2688, 8])\n",
      "Expanded shape torch.Size([26880, 8])\n"
     ]
    },
    {
     "name": "stderr",
     "output_type": "stream",
     "text": [
      "\n",
      " 45%|█████████████████████████████████████████                                                   | 446/1000 [01:33<01:55,  4.80it/s]\u001b[A"
     ]
    },
    {
     "name": "stdout",
     "output_type": "stream",
     "text": [
      "distances: torch.Size([2688, 1000])\n",
      "Indexes shape:  torch.Size([2688, 8])\n",
      "Kxz: torch.Size([26880, 1000])\n",
      "kzz_inv: torch.Size([26880, 8, 8])\n",
      "indexes: torch.Size([2688, 8])\n",
      "Expanded shape torch.Size([26880, 8])\n"
     ]
    },
    {
     "name": "stderr",
     "output_type": "stream",
     "text": [
      "\n",
      " 45%|█████████████████████████████████████████                                                   | 447/1000 [01:33<01:55,  4.80it/s]\u001b[A"
     ]
    },
    {
     "name": "stdout",
     "output_type": "stream",
     "text": [
      "distances: torch.Size([2688, 1000])\n",
      "Indexes shape:  torch.Size([2688, 8])\n",
      "Kxz: torch.Size([26880, 1000])\n",
      "kzz_inv: torch.Size([26880, 8, 8])\n",
      "indexes: torch.Size([2688, 8])\n",
      "Expanded shape torch.Size([26880, 8])\n"
     ]
    },
    {
     "name": "stderr",
     "output_type": "stream",
     "text": [
      "\n",
      " 45%|█████████████████████████████████████████▏                                                  | 448/1000 [01:33<01:54,  4.80it/s]\u001b[A"
     ]
    },
    {
     "name": "stdout",
     "output_type": "stream",
     "text": [
      "distances: torch.Size([2688, 1000])\n",
      "Indexes shape:  torch.Size([2688, 8])\n",
      "Kxz: torch.Size([26880, 1000])\n",
      "kzz_inv: torch.Size([26880, 8, 8])\n",
      "indexes: torch.Size([2688, 8])\n",
      "Expanded shape torch.Size([26880, 8])\n"
     ]
    },
    {
     "name": "stderr",
     "output_type": "stream",
     "text": [
      "\n",
      " 45%|█████████████████████████████████████████▎                                                  | 449/1000 [01:33<01:54,  4.80it/s]\u001b[A"
     ]
    },
    {
     "name": "stdout",
     "output_type": "stream",
     "text": [
      "distances: torch.Size([2688, 1000])\n",
      "Indexes shape:  torch.Size([2688, 8])\n",
      "Kxz: torch.Size([26880, 1000])\n",
      "kzz_inv: torch.Size([26880, 8, 8])\n",
      "indexes: torch.Size([2688, 8])\n",
      "Expanded shape torch.Size([26880, 8])\n"
     ]
    },
    {
     "name": "stderr",
     "output_type": "stream",
     "text": [
      "\n",
      " 45%|█████████████████████████████████████████▍                                                  | 450/1000 [01:34<01:54,  4.80it/s]\u001b[A"
     ]
    },
    {
     "name": "stdout",
     "output_type": "stream",
     "text": [
      "distances: torch.Size([2688, 1000])\n",
      "Indexes shape:  torch.Size([2688, 8])\n",
      "Kxz: torch.Size([26880, 1000])\n",
      "kzz_inv: torch.Size([26880, 8, 8])\n",
      "indexes: torch.Size([2688, 8])\n",
      "Expanded shape torch.Size([26880, 8])\n"
     ]
    },
    {
     "name": "stderr",
     "output_type": "stream",
     "text": [
      "\n",
      " 45%|█████████████████████████████████████████▍                                                  | 451/1000 [01:34<01:54,  4.80it/s]\u001b[A"
     ]
    },
    {
     "name": "stdout",
     "output_type": "stream",
     "text": [
      "distances: torch.Size([2688, 1000])\n",
      "Indexes shape:  torch.Size([2688, 8])\n",
      "Kxz: torch.Size([26880, 1000])\n",
      "kzz_inv: torch.Size([26880, 8, 8])\n",
      "indexes: torch.Size([2688, 8])\n",
      "Expanded shape torch.Size([26880, 8])\n"
     ]
    },
    {
     "name": "stderr",
     "output_type": "stream",
     "text": [
      "\n",
      " 45%|█████████████████████████████████████████▌                                                  | 452/1000 [01:34<01:54,  4.80it/s]\u001b[A"
     ]
    },
    {
     "name": "stdout",
     "output_type": "stream",
     "text": [
      "distances: torch.Size([2688, 1000])\n",
      "Indexes shape:  torch.Size([2688, 8])\n",
      "Kxz: torch.Size([26880, 1000])\n",
      "kzz_inv: torch.Size([26880, 8, 8])\n",
      "indexes: torch.Size([2688, 8])\n",
      "Expanded shape torch.Size([26880, 8])\n"
     ]
    },
    {
     "name": "stderr",
     "output_type": "stream",
     "text": [
      "\n",
      " 45%|█████████████████████████████████████████▋                                                  | 453/1000 [01:34<01:53,  4.80it/s]\u001b[A"
     ]
    },
    {
     "name": "stdout",
     "output_type": "stream",
     "text": [
      "distances: torch.Size([2688, 1000])\n",
      "Indexes shape:  torch.Size([2688, 8])\n",
      "Kxz: torch.Size([26880, 1000])\n",
      "kzz_inv: torch.Size([26880, 8, 8])\n",
      "indexes: torch.Size([2688, 8])\n",
      "Expanded shape torch.Size([26880, 8])\n"
     ]
    },
    {
     "name": "stderr",
     "output_type": "stream",
     "text": [
      "\n",
      " 45%|█████████████████████████████████████████▊                                                  | 454/1000 [01:34<01:53,  4.80it/s]\u001b[A"
     ]
    },
    {
     "name": "stdout",
     "output_type": "stream",
     "text": [
      "distances: torch.Size([2688, 1000])\n",
      "Indexes shape:  torch.Size([2688, 8])\n",
      "Kxz: torch.Size([26880, 1000])\n",
      "kzz_inv: torch.Size([26880, 8, 8])\n",
      "indexes: torch.Size([2688, 8])\n",
      "Expanded shape torch.Size([26880, 8])\n"
     ]
    },
    {
     "name": "stderr",
     "output_type": "stream",
     "text": [
      "\n",
      " 46%|█████████████████████████████████████████▊                                                  | 455/1000 [01:35<01:53,  4.80it/s]\u001b[A"
     ]
    },
    {
     "name": "stdout",
     "output_type": "stream",
     "text": [
      "distances: torch.Size([2688, 1000])\n",
      "Indexes shape:  torch.Size([2688, 8])\n",
      "Kxz: torch.Size([26880, 1000])\n",
      "kzz_inv: torch.Size([26880, 8, 8])\n",
      "indexes: torch.Size([2688, 8])\n",
      "Expanded shape torch.Size([26880, 8])\n"
     ]
    },
    {
     "name": "stderr",
     "output_type": "stream",
     "text": [
      "\n",
      " 46%|█████████████████████████████████████████▉                                                  | 456/1000 [01:35<01:53,  4.80it/s]\u001b[A"
     ]
    },
    {
     "name": "stdout",
     "output_type": "stream",
     "text": [
      "distances: torch.Size([2688, 1000])\n",
      "Indexes shape:  torch.Size([2688, 8])\n",
      "Kxz: torch.Size([26880, 1000])\n",
      "kzz_inv: torch.Size([26880, 8, 8])\n",
      "indexes: torch.Size([2688, 8])\n",
      "Expanded shape torch.Size([26880, 8])\n"
     ]
    },
    {
     "name": "stderr",
     "output_type": "stream",
     "text": [
      "\n",
      " 46%|██████████████████████████████████████████                                                  | 457/1000 [01:35<01:53,  4.80it/s]\u001b[A"
     ]
    },
    {
     "name": "stdout",
     "output_type": "stream",
     "text": [
      "distances: torch.Size([2688, 1000])\n",
      "Indexes shape:  torch.Size([2688, 8])\n",
      "Kxz: torch.Size([26880, 1000])\n",
      "kzz_inv: torch.Size([26880, 8, 8])\n",
      "indexes: torch.Size([2688, 8])\n",
      "Expanded shape torch.Size([26880, 8])\n"
     ]
    },
    {
     "name": "stderr",
     "output_type": "stream",
     "text": [
      "\n",
      " 46%|██████████████████████████████████████████▏                                                 | 458/1000 [01:35<01:52,  4.80it/s]\u001b[A"
     ]
    },
    {
     "name": "stdout",
     "output_type": "stream",
     "text": [
      "distances: torch.Size([2688, 1000])\n",
      "Indexes shape:  torch.Size([2688, 8])\n",
      "Kxz: torch.Size([26880, 1000])\n",
      "kzz_inv: torch.Size([26880, 8, 8])\n",
      "indexes: torch.Size([2688, 8])\n",
      "Expanded shape torch.Size([26880, 8])\n"
     ]
    },
    {
     "name": "stderr",
     "output_type": "stream",
     "text": [
      "\n",
      " 46%|██████████████████████████████████████████▏                                                 | 459/1000 [01:35<01:52,  4.80it/s]\u001b[A"
     ]
    },
    {
     "name": "stdout",
     "output_type": "stream",
     "text": [
      "distances: torch.Size([2688, 1000])\n",
      "Indexes shape:  torch.Size([2688, 8])\n",
      "Kxz: torch.Size([26880, 1000])\n",
      "kzz_inv: torch.Size([26880, 8, 8])\n",
      "indexes: torch.Size([2688, 8])\n",
      "Expanded shape torch.Size([26880, 8])\n"
     ]
    },
    {
     "name": "stderr",
     "output_type": "stream",
     "text": [
      "\n",
      " 46%|██████████████████████████████████████████▎                                                 | 460/1000 [01:36<01:52,  4.80it/s]\u001b[A"
     ]
    },
    {
     "name": "stdout",
     "output_type": "stream",
     "text": [
      "distances: torch.Size([2688, 1000])\n",
      "Indexes shape:  torch.Size([2688, 8])\n",
      "Kxz: torch.Size([26880, 1000])\n",
      "kzz_inv: torch.Size([26880, 8, 8])\n",
      "indexes: torch.Size([2688, 8])\n",
      "Expanded shape torch.Size([26880, 8])\n"
     ]
    },
    {
     "name": "stderr",
     "output_type": "stream",
     "text": [
      "\n",
      " 46%|██████████████████████████████████████████▍                                                 | 461/1000 [01:36<01:52,  4.80it/s]\u001b[A"
     ]
    },
    {
     "name": "stdout",
     "output_type": "stream",
     "text": [
      "distances: torch.Size([2688, 1000])\n",
      "Indexes shape:  torch.Size([2688, 8])\n",
      "Kxz: torch.Size([26880, 1000])\n",
      "kzz_inv: torch.Size([26880, 8, 8])\n",
      "indexes: torch.Size([2688, 8])\n",
      "Expanded shape torch.Size([26880, 8])\n"
     ]
    },
    {
     "name": "stderr",
     "output_type": "stream",
     "text": [
      "\n",
      " 46%|██████████████████████████████████████████▌                                                 | 462/1000 [01:36<01:52,  4.80it/s]\u001b[A"
     ]
    },
    {
     "name": "stdout",
     "output_type": "stream",
     "text": [
      "distances: torch.Size([2688, 1000])\n",
      "Indexes shape:  torch.Size([2688, 8])\n",
      "Kxz: torch.Size([26880, 1000])\n",
      "kzz_inv: torch.Size([26880, 8, 8])\n",
      "indexes: torch.Size([2688, 8])\n",
      "Expanded shape torch.Size([26880, 8])\n"
     ]
    },
    {
     "name": "stderr",
     "output_type": "stream",
     "text": [
      "\n",
      " 46%|██████████████████████████████████████████▌                                                 | 463/1000 [01:36<01:51,  4.80it/s]\u001b[A"
     ]
    },
    {
     "name": "stdout",
     "output_type": "stream",
     "text": [
      "distances: torch.Size([2688, 1000])\n",
      "Indexes shape:  torch.Size([2688, 8])\n",
      "Kxz: torch.Size([26880, 1000])\n",
      "kzz_inv: torch.Size([26880, 8, 8])\n",
      "indexes: torch.Size([2688, 8])\n",
      "Expanded shape torch.Size([26880, 8])\n"
     ]
    },
    {
     "name": "stderr",
     "output_type": "stream",
     "text": [
      "\n",
      " 46%|██████████████████████████████████████████▋                                                 | 464/1000 [01:37<01:51,  4.80it/s]\u001b[A"
     ]
    },
    {
     "name": "stdout",
     "output_type": "stream",
     "text": [
      "distances: torch.Size([2688, 1000])\n",
      "Indexes shape:  torch.Size([2688, 8])\n",
      "Kxz: torch.Size([26880, 1000])\n",
      "kzz_inv: torch.Size([26880, 8, 8])\n",
      "indexes: torch.Size([2688, 8])\n",
      "Expanded shape torch.Size([26880, 8])\n"
     ]
    },
    {
     "name": "stderr",
     "output_type": "stream",
     "text": [
      "\n",
      " 46%|██████████████████████████████████████████▊                                                 | 465/1000 [01:37<01:51,  4.80it/s]\u001b[A"
     ]
    },
    {
     "name": "stdout",
     "output_type": "stream",
     "text": [
      "distances: torch.Size([2688, 1000])\n",
      "Indexes shape:  torch.Size([2688, 8])\n",
      "Kxz: torch.Size([26880, 1000])\n",
      "kzz_inv: torch.Size([26880, 8, 8])\n",
      "indexes: torch.Size([2688, 8])\n",
      "Expanded shape torch.Size([26880, 8])\n"
     ]
    },
    {
     "name": "stderr",
     "output_type": "stream",
     "text": [
      "\n",
      " 47%|██████████████████████████████████████████▊                                                 | 466/1000 [01:37<01:51,  4.80it/s]\u001b[A"
     ]
    },
    {
     "name": "stdout",
     "output_type": "stream",
     "text": [
      "distances: torch.Size([2688, 1000])\n",
      "Indexes shape:  torch.Size([2688, 8])\n",
      "Kxz: torch.Size([26880, 1000])\n",
      "kzz_inv: torch.Size([26880, 8, 8])\n",
      "indexes: torch.Size([2688, 8])\n",
      "Expanded shape torch.Size([26880, 8])\n"
     ]
    },
    {
     "name": "stderr",
     "output_type": "stream",
     "text": [
      "\n",
      " 47%|██████████████████████████████████████████▉                                                 | 467/1000 [01:37<01:51,  4.80it/s]\u001b[A"
     ]
    },
    {
     "name": "stdout",
     "output_type": "stream",
     "text": [
      "distances: torch.Size([2688, 1000])\n",
      "Indexes shape:  torch.Size([2688, 8])\n",
      "Kxz: torch.Size([26880, 1000])\n",
      "kzz_inv: torch.Size([26880, 8, 8])\n",
      "indexes: torch.Size([2688, 8])\n",
      "Expanded shape torch.Size([26880, 8])\n"
     ]
    },
    {
     "name": "stderr",
     "output_type": "stream",
     "text": [
      "\n",
      " 47%|███████████████████████████████████████████                                                 | 468/1000 [01:37<01:50,  4.80it/s]\u001b[A"
     ]
    },
    {
     "name": "stdout",
     "output_type": "stream",
     "text": [
      "distances: torch.Size([2688, 1000])\n",
      "Indexes shape:  torch.Size([2688, 8])\n",
      "Kxz: torch.Size([26880, 1000])\n",
      "kzz_inv: torch.Size([26880, 8, 8])\n",
      "indexes: torch.Size([2688, 8])\n",
      "Expanded shape torch.Size([26880, 8])\n"
     ]
    },
    {
     "name": "stderr",
     "output_type": "stream",
     "text": [
      "\n",
      " 47%|███████████████████████████████████████████▏                                                | 469/1000 [01:38<01:50,  4.80it/s]\u001b[A"
     ]
    },
    {
     "name": "stdout",
     "output_type": "stream",
     "text": [
      "distances: torch.Size([2688, 1000])\n",
      "Indexes shape:  torch.Size([2688, 8])\n",
      "Kxz: torch.Size([26880, 1000])\n",
      "kzz_inv: torch.Size([26880, 8, 8])\n",
      "indexes: torch.Size([2688, 8])\n",
      "Expanded shape torch.Size([26880, 8])\n"
     ]
    },
    {
     "name": "stderr",
     "output_type": "stream",
     "text": [
      "\n",
      " 47%|███████████████████████████████████████████▏                                                | 470/1000 [01:38<01:50,  4.80it/s]\u001b[A"
     ]
    },
    {
     "name": "stdout",
     "output_type": "stream",
     "text": [
      "distances: torch.Size([2688, 1000])\n",
      "Indexes shape:  torch.Size([2688, 8])\n",
      "Kxz: torch.Size([26880, 1000])\n",
      "kzz_inv: torch.Size([26880, 8, 8])\n",
      "indexes: torch.Size([2688, 8])\n",
      "Expanded shape torch.Size([26880, 8])\n"
     ]
    },
    {
     "name": "stderr",
     "output_type": "stream",
     "text": [
      "\n",
      " 47%|███████████████████████████████████████████▎                                                | 471/1000 [01:38<01:50,  4.80it/s]\u001b[A"
     ]
    },
    {
     "name": "stdout",
     "output_type": "stream",
     "text": [
      "distances: torch.Size([2688, 1000])\n",
      "Indexes shape:  torch.Size([2688, 8])\n",
      "Kxz: torch.Size([26880, 1000])\n",
      "kzz_inv: torch.Size([26880, 8, 8])\n",
      "indexes: torch.Size([2688, 8])\n",
      "Expanded shape torch.Size([26880, 8])\n"
     ]
    },
    {
     "name": "stderr",
     "output_type": "stream",
     "text": [
      "\n",
      " 47%|███████████████████████████████████████████▍                                                | 472/1000 [01:38<01:49,  4.80it/s]\u001b[A"
     ]
    },
    {
     "name": "stdout",
     "output_type": "stream",
     "text": [
      "distances: torch.Size([2688, 1000])\n",
      "Indexes shape:  torch.Size([2688, 8])\n",
      "Kxz: torch.Size([26880, 1000])\n",
      "kzz_inv: torch.Size([26880, 8, 8])\n",
      "indexes: torch.Size([2688, 8])\n",
      "Expanded shape torch.Size([26880, 8])\n"
     ]
    },
    {
     "name": "stderr",
     "output_type": "stream",
     "text": [
      "\n",
      " 47%|███████████████████████████████████████████▌                                                | 473/1000 [01:38<01:49,  4.80it/s]\u001b[A"
     ]
    },
    {
     "name": "stdout",
     "output_type": "stream",
     "text": [
      "distances: torch.Size([2688, 1000])\n",
      "Indexes shape:  torch.Size([2688, 8])\n",
      "Kxz: torch.Size([26880, 1000])\n",
      "kzz_inv: torch.Size([26880, 8, 8])\n",
      "indexes: torch.Size([2688, 8])\n",
      "Expanded shape torch.Size([26880, 8])\n"
     ]
    },
    {
     "name": "stderr",
     "output_type": "stream",
     "text": [
      "\n",
      " 47%|███████████████████████████████████████████▌                                                | 474/1000 [01:39<01:49,  4.80it/s]\u001b[A"
     ]
    },
    {
     "name": "stdout",
     "output_type": "stream",
     "text": [
      "distances: torch.Size([2688, 1000])\n",
      "Indexes shape:  torch.Size([2688, 8])\n",
      "Kxz: torch.Size([26880, 1000])\n",
      "kzz_inv: torch.Size([26880, 8, 8])\n",
      "indexes: torch.Size([2688, 8])\n",
      "Expanded shape torch.Size([26880, 8])\n"
     ]
    },
    {
     "name": "stderr",
     "output_type": "stream",
     "text": [
      "\n",
      " 48%|███████████████████████████████████████████▋                                                | 475/1000 [01:39<01:49,  4.80it/s]\u001b[A"
     ]
    },
    {
     "name": "stdout",
     "output_type": "stream",
     "text": [
      "distances: torch.Size([2688, 1000])\n",
      "Indexes shape:  torch.Size([2688, 8])\n",
      "Kxz: torch.Size([26880, 1000])\n",
      "kzz_inv: torch.Size([26880, 8, 8])\n",
      "indexes: torch.Size([2688, 8])\n",
      "Expanded shape torch.Size([26880, 8])\n"
     ]
    },
    {
     "name": "stderr",
     "output_type": "stream",
     "text": [
      "\n",
      " 48%|███████████████████████████████████████████▊                                                | 476/1000 [01:39<01:49,  4.80it/s]\u001b[A"
     ]
    },
    {
     "name": "stdout",
     "output_type": "stream",
     "text": [
      "distances: torch.Size([2688, 1000])\n",
      "Indexes shape:  torch.Size([2688, 8])\n",
      "Kxz: torch.Size([26880, 1000])\n",
      "kzz_inv: torch.Size([26880, 8, 8])\n",
      "indexes: torch.Size([2688, 8])\n",
      "Expanded shape torch.Size([26880, 8])\n"
     ]
    },
    {
     "name": "stderr",
     "output_type": "stream",
     "text": [
      "\n",
      " 48%|███████████████████████████████████████████▉                                                | 477/1000 [01:39<01:48,  4.80it/s]\u001b[A"
     ]
    },
    {
     "name": "stdout",
     "output_type": "stream",
     "text": [
      "distances: torch.Size([2688, 1000])\n",
      "Indexes shape:  torch.Size([2688, 8])\n",
      "Kxz: torch.Size([26880, 1000])\n",
      "kzz_inv: torch.Size([26880, 8, 8])\n",
      "indexes: torch.Size([2688, 8])\n",
      "Expanded shape torch.Size([26880, 8])\n"
     ]
    },
    {
     "name": "stderr",
     "output_type": "stream",
     "text": [
      "\n",
      " 48%|███████████████████████████████████████████▉                                                | 478/1000 [01:39<01:48,  4.80it/s]\u001b[A"
     ]
    },
    {
     "name": "stdout",
     "output_type": "stream",
     "text": [
      "distances: torch.Size([2688, 1000])\n",
      "Indexes shape:  torch.Size([2688, 8])\n",
      "Kxz: torch.Size([26880, 1000])\n",
      "kzz_inv: torch.Size([26880, 8, 8])\n",
      "indexes: torch.Size([2688, 8])\n",
      "Expanded shape torch.Size([26880, 8])\n"
     ]
    },
    {
     "name": "stderr",
     "output_type": "stream",
     "text": [
      "\n",
      " 48%|████████████████████████████████████████████                                                | 479/1000 [01:40<01:48,  4.80it/s]\u001b[A"
     ]
    },
    {
     "name": "stdout",
     "output_type": "stream",
     "text": [
      "distances: torch.Size([2688, 1000])\n",
      "Indexes shape:  torch.Size([2688, 8])\n",
      "Kxz: torch.Size([26880, 1000])\n",
      "kzz_inv: torch.Size([26880, 8, 8])\n",
      "indexes: torch.Size([2688, 8])\n",
      "Expanded shape torch.Size([26880, 8])\n"
     ]
    },
    {
     "name": "stderr",
     "output_type": "stream",
     "text": [
      "\n",
      " 48%|████████████████████████████████████████████▏                                               | 480/1000 [01:40<01:48,  4.80it/s]\u001b[A"
     ]
    },
    {
     "name": "stdout",
     "output_type": "stream",
     "text": [
      "distances: torch.Size([2688, 1000])\n",
      "Indexes shape:  torch.Size([2688, 8])\n",
      "Kxz: torch.Size([26880, 1000])\n",
      "kzz_inv: torch.Size([26880, 8, 8])\n",
      "indexes: torch.Size([2688, 8])\n",
      "Expanded shape torch.Size([26880, 8])\n"
     ]
    },
    {
     "name": "stderr",
     "output_type": "stream",
     "text": [
      "\n",
      " 48%|████████████████████████████████████████████▎                                               | 481/1000 [01:40<01:48,  4.79it/s]\u001b[A"
     ]
    },
    {
     "name": "stdout",
     "output_type": "stream",
     "text": [
      "distances: torch.Size([2688, 1000])\n",
      "Indexes shape:  torch.Size([2688, 8])\n",
      "Kxz: torch.Size([26880, 1000])\n",
      "kzz_inv: torch.Size([26880, 8, 8])\n",
      "indexes: torch.Size([2688, 8])\n",
      "Expanded shape torch.Size([26880, 8])\n"
     ]
    },
    {
     "name": "stderr",
     "output_type": "stream",
     "text": [
      "\n",
      " 48%|████████████████████████████████████████████▎                                               | 482/1000 [01:40<01:48,  4.76it/s]\u001b[A"
     ]
    },
    {
     "name": "stdout",
     "output_type": "stream",
     "text": [
      "distances: torch.Size([2688, 1000])\n",
      "Indexes shape:  torch.Size([2688, 8])\n",
      "Kxz: torch.Size([26880, 1000])\n",
      "kzz_inv: torch.Size([26880, 8, 8])\n",
      "indexes: torch.Size([2688, 8])\n",
      "Expanded shape torch.Size([26880, 8])\n"
     ]
    },
    {
     "name": "stderr",
     "output_type": "stream",
     "text": [
      "\n",
      " 48%|████████████████████████████████████████████▍                                               | 483/1000 [01:40<01:48,  4.77it/s]\u001b[A"
     ]
    },
    {
     "name": "stdout",
     "output_type": "stream",
     "text": [
      "distances: torch.Size([2688, 1000])\n",
      "Indexes shape:  torch.Size([2688, 8])\n",
      "Kxz: torch.Size([26880, 1000])\n",
      "kzz_inv: torch.Size([26880, 8, 8])\n",
      "indexes: torch.Size([2688, 8])\n",
      "Expanded shape torch.Size([26880, 8])\n"
     ]
    },
    {
     "name": "stderr",
     "output_type": "stream",
     "text": [
      "\n",
      " 48%|████████████████████████████████████████████▌                                               | 484/1000 [01:41<01:47,  4.78it/s]\u001b[A"
     ]
    },
    {
     "name": "stdout",
     "output_type": "stream",
     "text": [
      "distances: torch.Size([2688, 1000])\n",
      "Indexes shape:  torch.Size([2688, 8])\n",
      "Kxz: torch.Size([26880, 1000])\n",
      "kzz_inv: torch.Size([26880, 8, 8])\n",
      "indexes: torch.Size([2688, 8])\n",
      "Expanded shape torch.Size([26880, 8])\n"
     ]
    },
    {
     "name": "stderr",
     "output_type": "stream",
     "text": [
      "\n",
      " 48%|████████████████████████████████████████████▌                                               | 485/1000 [01:41<01:47,  4.79it/s]\u001b[A"
     ]
    },
    {
     "name": "stdout",
     "output_type": "stream",
     "text": [
      "distances: torch.Size([2688, 1000])\n",
      "Indexes shape:  torch.Size([2688, 8])\n",
      "Kxz: torch.Size([26880, 1000])\n",
      "kzz_inv: torch.Size([26880, 8, 8])\n",
      "indexes: torch.Size([2688, 8])\n",
      "Expanded shape torch.Size([26880, 8])\n"
     ]
    },
    {
     "name": "stderr",
     "output_type": "stream",
     "text": [
      "\n",
      " 49%|████████████████████████████████████████████▋                                               | 486/1000 [01:41<01:47,  4.79it/s]\u001b[A"
     ]
    },
    {
     "name": "stdout",
     "output_type": "stream",
     "text": [
      "distances: torch.Size([2688, 1000])\n",
      "Indexes shape:  torch.Size([2688, 8])\n",
      "Kxz: torch.Size([26880, 1000])\n",
      "kzz_inv: torch.Size([26880, 8, 8])\n",
      "indexes: torch.Size([2688, 8])\n",
      "Expanded shape torch.Size([26880, 8])\n"
     ]
    },
    {
     "name": "stderr",
     "output_type": "stream",
     "text": [
      "\n",
      " 49%|████████████████████████████████████████████▊                                               | 487/1000 [01:41<01:46,  4.80it/s]\u001b[A"
     ]
    },
    {
     "name": "stdout",
     "output_type": "stream",
     "text": [
      "distances: torch.Size([2688, 1000])\n",
      "Indexes shape:  torch.Size([2688, 8])\n",
      "Kxz: torch.Size([26880, 1000])\n",
      "kzz_inv: torch.Size([26880, 8, 8])\n",
      "indexes: torch.Size([2688, 8])\n",
      "Expanded shape torch.Size([26880, 8])\n"
     ]
    },
    {
     "name": "stderr",
     "output_type": "stream",
     "text": [
      "\n",
      " 49%|████████████████████████████████████████████▉                                               | 488/1000 [01:42<01:46,  4.80it/s]\u001b[A"
     ]
    },
    {
     "name": "stdout",
     "output_type": "stream",
     "text": [
      "distances: torch.Size([2688, 1000])\n",
      "Indexes shape:  torch.Size([2688, 8])\n",
      "Kxz: torch.Size([26880, 1000])\n",
      "kzz_inv: torch.Size([26880, 8, 8])\n",
      "indexes: torch.Size([2688, 8])\n",
      "Expanded shape torch.Size([26880, 8])\n"
     ]
    },
    {
     "name": "stderr",
     "output_type": "stream",
     "text": [
      "\n",
      " 49%|████████████████████████████████████████████▉                                               | 489/1000 [01:42<01:46,  4.80it/s]\u001b[A"
     ]
    },
    {
     "name": "stdout",
     "output_type": "stream",
     "text": [
      "distances: torch.Size([2688, 1000])\n",
      "Indexes shape:  torch.Size([2688, 8])\n",
      "Kxz: torch.Size([26880, 1000])\n",
      "kzz_inv: torch.Size([26880, 8, 8])\n",
      "indexes: torch.Size([2688, 8])\n",
      "Expanded shape torch.Size([26880, 8])\n"
     ]
    },
    {
     "name": "stderr",
     "output_type": "stream",
     "text": [
      "\n",
      " 49%|█████████████████████████████████████████████                                               | 490/1000 [01:42<01:46,  4.80it/s]\u001b[A"
     ]
    },
    {
     "name": "stdout",
     "output_type": "stream",
     "text": [
      "distances: torch.Size([2688, 1000])\n",
      "Indexes shape:  torch.Size([2688, 8])\n",
      "Kxz: torch.Size([26880, 1000])\n",
      "kzz_inv: torch.Size([26880, 8, 8])\n",
      "indexes: torch.Size([2688, 8])\n",
      "Expanded shape torch.Size([26880, 8])\n"
     ]
    },
    {
     "name": "stderr",
     "output_type": "stream",
     "text": [
      "\n",
      " 49%|█████████████████████████████████████████████▏                                              | 491/1000 [01:42<01:46,  4.79it/s]\u001b[A"
     ]
    },
    {
     "name": "stdout",
     "output_type": "stream",
     "text": [
      "distances: torch.Size([2688, 1000])\n",
      "Indexes shape:  torch.Size([2688, 8])\n",
      "Kxz: torch.Size([26880, 1000])\n",
      "kzz_inv: torch.Size([26880, 8, 8])\n",
      "indexes: torch.Size([2688, 8])\n",
      "Expanded shape torch.Size([26880, 8])\n"
     ]
    },
    {
     "name": "stderr",
     "output_type": "stream",
     "text": [
      "\n",
      " 49%|█████████████████████████████████████████████▎                                              | 492/1000 [01:42<01:46,  4.79it/s]\u001b[A"
     ]
    },
    {
     "name": "stdout",
     "output_type": "stream",
     "text": [
      "distances: torch.Size([2688, 1000])\n",
      "Indexes shape:  torch.Size([2688, 8])\n",
      "Kxz: torch.Size([26880, 1000])\n",
      "kzz_inv: torch.Size([26880, 8, 8])\n",
      "indexes: torch.Size([2688, 8])\n",
      "Expanded shape torch.Size([26880, 8])\n"
     ]
    },
    {
     "name": "stderr",
     "output_type": "stream",
     "text": [
      "\n",
      " 49%|█████████████████████████████████████████████▎                                              | 493/1000 [01:43<01:45,  4.80it/s]\u001b[A"
     ]
    },
    {
     "name": "stdout",
     "output_type": "stream",
     "text": [
      "distances: torch.Size([2688, 1000])\n",
      "Indexes shape:  torch.Size([2688, 8])\n",
      "Kxz: torch.Size([26880, 1000])\n",
      "kzz_inv: torch.Size([26880, 8, 8])\n",
      "indexes: torch.Size([2688, 8])\n",
      "Expanded shape torch.Size([26880, 8])\n"
     ]
    },
    {
     "name": "stderr",
     "output_type": "stream",
     "text": [
      "\n",
      " 49%|█████████████████████████████████████████████▍                                              | 494/1000 [01:43<01:45,  4.80it/s]\u001b[A"
     ]
    },
    {
     "name": "stdout",
     "output_type": "stream",
     "text": [
      "distances: torch.Size([2688, 1000])\n",
      "Indexes shape:  torch.Size([2688, 8])\n",
      "Kxz: torch.Size([26880, 1000])\n",
      "kzz_inv: torch.Size([26880, 8, 8])\n",
      "indexes: torch.Size([2688, 8])\n",
      "Expanded shape torch.Size([26880, 8])\n"
     ]
    },
    {
     "name": "stderr",
     "output_type": "stream",
     "text": [
      "\n",
      " 50%|█████████████████████████████████████████████▌                                              | 495/1000 [01:43<01:45,  4.79it/s]\u001b[A"
     ]
    },
    {
     "name": "stdout",
     "output_type": "stream",
     "text": [
      "distances: torch.Size([2688, 1000])\n",
      "Indexes shape:  torch.Size([2688, 8])\n",
      "Kxz: torch.Size([26880, 1000])\n",
      "kzz_inv: torch.Size([26880, 8, 8])\n",
      "indexes: torch.Size([2688, 8])\n",
      "Expanded shape torch.Size([26880, 8])\n"
     ]
    },
    {
     "name": "stderr",
     "output_type": "stream",
     "text": [
      "\n",
      " 50%|█████████████████████████████████████████████▋                                              | 496/1000 [01:43<01:45,  4.80it/s]\u001b[A"
     ]
    },
    {
     "name": "stdout",
     "output_type": "stream",
     "text": [
      "distances: torch.Size([2688, 1000])\n",
      "Indexes shape:  torch.Size([2688, 8])\n",
      "Kxz: torch.Size([26880, 1000])\n",
      "kzz_inv: torch.Size([26880, 8, 8])\n",
      "indexes: torch.Size([2688, 8])\n",
      "Expanded shape torch.Size([26880, 8])\n"
     ]
    },
    {
     "name": "stderr",
     "output_type": "stream",
     "text": [
      "\n",
      " 50%|█████████████████████████████████████████████▋                                              | 497/1000 [01:43<01:44,  4.80it/s]\u001b[A"
     ]
    },
    {
     "name": "stdout",
     "output_type": "stream",
     "text": [
      "distances: torch.Size([2688, 1000])\n",
      "Indexes shape:  torch.Size([2688, 8])\n",
      "Kxz: torch.Size([26880, 1000])\n",
      "kzz_inv: torch.Size([26880, 8, 8])\n",
      "indexes: torch.Size([2688, 8])\n",
      "Expanded shape torch.Size([26880, 8])\n"
     ]
    },
    {
     "name": "stderr",
     "output_type": "stream",
     "text": [
      "\n",
      " 50%|█████████████████████████████████████████████▊                                              | 498/1000 [01:44<01:44,  4.80it/s]\u001b[A"
     ]
    },
    {
     "name": "stdout",
     "output_type": "stream",
     "text": [
      "distances: torch.Size([2688, 1000])\n",
      "Indexes shape:  torch.Size([2688, 8])\n",
      "Kxz: torch.Size([26880, 1000])\n",
      "kzz_inv: torch.Size([26880, 8, 8])\n",
      "indexes: torch.Size([2688, 8])\n",
      "Expanded shape torch.Size([26880, 8])\n"
     ]
    },
    {
     "name": "stderr",
     "output_type": "stream",
     "text": [
      "\n",
      " 50%|█████████████████████████████████████████████▉                                              | 499/1000 [01:44<01:44,  4.80it/s]\u001b[A"
     ]
    },
    {
     "name": "stdout",
     "output_type": "stream",
     "text": [
      "distances: torch.Size([2688, 1000])\n",
      "Indexes shape:  torch.Size([2688, 8])\n",
      "Kxz: torch.Size([26880, 1000])\n",
      "kzz_inv: torch.Size([26880, 8, 8])\n",
      "indexes: torch.Size([2688, 8])\n",
      "Expanded shape torch.Size([26880, 8])\n"
     ]
    },
    {
     "name": "stderr",
     "output_type": "stream",
     "text": [
      "\n",
      " 50%|██████████████████████████████████████████████                                              | 500/1000 [01:44<01:44,  4.80it/s]\u001b[A"
     ]
    },
    {
     "name": "stdout",
     "output_type": "stream",
     "text": [
      "distances: torch.Size([2688, 1000])\n",
      "Indexes shape:  torch.Size([2688, 8])\n",
      "Kxz: torch.Size([26880, 1000])\n",
      "kzz_inv: torch.Size([26880, 8, 8])\n",
      "indexes: torch.Size([2688, 8])\n",
      "Expanded shape torch.Size([26880, 8])\n"
     ]
    },
    {
     "name": "stderr",
     "output_type": "stream",
     "text": [
      "\n",
      " 50%|██████████████████████████████████████████████                                              | 501/1000 [01:44<01:44,  4.80it/s]\u001b[A"
     ]
    },
    {
     "name": "stdout",
     "output_type": "stream",
     "text": [
      "distances: torch.Size([2688, 1000])\n",
      "Indexes shape:  torch.Size([2688, 8])\n",
      "Kxz: torch.Size([26880, 1000])\n",
      "kzz_inv: torch.Size([26880, 8, 8])\n",
      "indexes: torch.Size([2688, 8])\n",
      "Expanded shape torch.Size([26880, 8])\n"
     ]
    },
    {
     "name": "stderr",
     "output_type": "stream",
     "text": [
      "\n",
      " 50%|██████████████████████████████████████████████▏                                             | 502/1000 [01:44<01:43,  4.80it/s]\u001b[A"
     ]
    },
    {
     "name": "stdout",
     "output_type": "stream",
     "text": [
      "distances: torch.Size([2688, 1000])\n",
      "Indexes shape:  torch.Size([2688, 8])\n",
      "Kxz: torch.Size([26880, 1000])\n",
      "kzz_inv: torch.Size([26880, 8, 8])\n",
      "indexes: torch.Size([2688, 8])\n",
      "Expanded shape torch.Size([26880, 8])\n"
     ]
    },
    {
     "name": "stderr",
     "output_type": "stream",
     "text": [
      "\n",
      " 50%|██████████████████████████████████████████████▎                                             | 503/1000 [01:45<01:43,  4.80it/s]\u001b[A"
     ]
    },
    {
     "name": "stdout",
     "output_type": "stream",
     "text": [
      "distances: torch.Size([2688, 1000])\n",
      "Indexes shape:  torch.Size([2688, 8])\n",
      "Kxz: torch.Size([26880, 1000])\n",
      "kzz_inv: torch.Size([26880, 8, 8])\n",
      "indexes: torch.Size([2688, 8])\n",
      "Expanded shape torch.Size([26880, 8])\n"
     ]
    },
    {
     "name": "stderr",
     "output_type": "stream",
     "text": [
      "\n",
      " 50%|██████████████████████████████████████████████▎                                             | 504/1000 [01:45<01:43,  4.80it/s]\u001b[A"
     ]
    },
    {
     "name": "stdout",
     "output_type": "stream",
     "text": [
      "distances: torch.Size([2688, 1000])\n",
      "Indexes shape:  torch.Size([2688, 8])\n",
      "Kxz: torch.Size([26880, 1000])\n",
      "kzz_inv: torch.Size([26880, 8, 8])\n",
      "indexes: torch.Size([2688, 8])\n",
      "Expanded shape torch.Size([26880, 8])\n"
     ]
    },
    {
     "name": "stderr",
     "output_type": "stream",
     "text": [
      "\n",
      " 50%|██████████████████████████████████████████████▍                                             | 505/1000 [01:45<01:43,  4.80it/s]\u001b[A"
     ]
    },
    {
     "name": "stdout",
     "output_type": "stream",
     "text": [
      "distances: torch.Size([2688, 1000])\n",
      "Indexes shape:  torch.Size([2688, 8])\n",
      "Kxz: torch.Size([26880, 1000])\n",
      "kzz_inv: torch.Size([26880, 8, 8])\n",
      "indexes: torch.Size([2688, 8])\n",
      "Expanded shape torch.Size([26880, 8])\n"
     ]
    },
    {
     "name": "stderr",
     "output_type": "stream",
     "text": [
      "\n",
      " 51%|██████████████████████████████████████████████▌                                             | 506/1000 [01:45<01:42,  4.80it/s]\u001b[A"
     ]
    },
    {
     "name": "stdout",
     "output_type": "stream",
     "text": [
      "distances: torch.Size([2688, 1000])\n",
      "Indexes shape:  torch.Size([2688, 8])\n",
      "Kxz: torch.Size([26880, 1000])\n",
      "kzz_inv: torch.Size([26880, 8, 8])\n",
      "indexes: torch.Size([2688, 8])\n",
      "Expanded shape torch.Size([26880, 8])\n"
     ]
    },
    {
     "name": "stderr",
     "output_type": "stream",
     "text": [
      "\n",
      " 51%|██████████████████████████████████████████████▋                                             | 507/1000 [01:45<01:42,  4.80it/s]\u001b[A"
     ]
    },
    {
     "name": "stdout",
     "output_type": "stream",
     "text": [
      "distances: torch.Size([2688, 1000])\n",
      "Indexes shape:  torch.Size([2688, 8])\n",
      "Kxz: torch.Size([26880, 1000])\n",
      "kzz_inv: torch.Size([26880, 8, 8])\n",
      "indexes: torch.Size([2688, 8])\n",
      "Expanded shape torch.Size([26880, 8])\n"
     ]
    },
    {
     "name": "stderr",
     "output_type": "stream",
     "text": [
      "\n",
      " 51%|██████████████████████████████████████████████▋                                             | 508/1000 [01:46<01:42,  4.81it/s]\u001b[A"
     ]
    },
    {
     "name": "stdout",
     "output_type": "stream",
     "text": [
      "distances: torch.Size([2688, 1000])\n",
      "Indexes shape:  torch.Size([2688, 8])\n",
      "Kxz: torch.Size([26880, 1000])\n",
      "kzz_inv: torch.Size([26880, 8, 8])\n",
      "indexes: torch.Size([2688, 8])\n",
      "Expanded shape torch.Size([26880, 8])\n"
     ]
    },
    {
     "name": "stderr",
     "output_type": "stream",
     "text": [
      "\n",
      " 51%|██████████████████████████████████████████████▊                                             | 509/1000 [01:46<01:42,  4.80it/s]\u001b[A"
     ]
    },
    {
     "name": "stdout",
     "output_type": "stream",
     "text": [
      "distances: torch.Size([2688, 1000])\n",
      "Indexes shape:  torch.Size([2688, 8])\n",
      "Kxz: torch.Size([26880, 1000])\n",
      "kzz_inv: torch.Size([26880, 8, 8])\n",
      "indexes: torch.Size([2688, 8])\n",
      "Expanded shape torch.Size([26880, 8])\n"
     ]
    },
    {
     "name": "stderr",
     "output_type": "stream",
     "text": [
      "\n",
      " 51%|██████████████████████████████████████████████▉                                             | 510/1000 [01:46<01:42,  4.80it/s]\u001b[A"
     ]
    },
    {
     "name": "stdout",
     "output_type": "stream",
     "text": [
      "distances: torch.Size([2688, 1000])\n",
      "Indexes shape:  torch.Size([2688, 8])\n",
      "Kxz: torch.Size([26880, 1000])\n",
      "kzz_inv: torch.Size([26880, 8, 8])\n",
      "indexes: torch.Size([2688, 8])\n",
      "Expanded shape torch.Size([26880, 8])\n"
     ]
    },
    {
     "name": "stderr",
     "output_type": "stream",
     "text": [
      "\n",
      " 51%|███████████████████████████████████████████████                                             | 511/1000 [01:46<01:41,  4.80it/s]\u001b[A"
     ]
    },
    {
     "name": "stdout",
     "output_type": "stream",
     "text": [
      "distances: torch.Size([2688, 1000])\n",
      "Indexes shape:  torch.Size([2688, 8])\n",
      "Kxz: torch.Size([26880, 1000])\n",
      "kzz_inv: torch.Size([26880, 8, 8])\n",
      "indexes: torch.Size([2688, 8])\n",
      "Expanded shape torch.Size([26880, 8])\n"
     ]
    },
    {
     "name": "stderr",
     "output_type": "stream",
     "text": [
      "\n",
      " 51%|███████████████████████████████████████████████                                             | 512/1000 [01:47<01:41,  4.80it/s]\u001b[A"
     ]
    },
    {
     "name": "stdout",
     "output_type": "stream",
     "text": [
      "distances: torch.Size([2688, 1000])\n",
      "Indexes shape:  torch.Size([2688, 8])\n",
      "Kxz: torch.Size([26880, 1000])\n",
      "kzz_inv: torch.Size([26880, 8, 8])\n",
      "indexes: torch.Size([2688, 8])\n",
      "Expanded shape torch.Size([26880, 8])\n"
     ]
    },
    {
     "name": "stderr",
     "output_type": "stream",
     "text": [
      "\n",
      " 51%|███████████████████████████████████████████████▏                                            | 513/1000 [01:47<01:41,  4.80it/s]\u001b[A"
     ]
    },
    {
     "name": "stdout",
     "output_type": "stream",
     "text": [
      "distances: torch.Size([2688, 1000])\n",
      "Indexes shape:  torch.Size([2688, 8])\n",
      "Kxz: torch.Size([26880, 1000])\n",
      "kzz_inv: torch.Size([26880, 8, 8])\n",
      "indexes: torch.Size([2688, 8])\n",
      "Expanded shape torch.Size([26880, 8])\n"
     ]
    },
    {
     "name": "stderr",
     "output_type": "stream",
     "text": [
      "\n",
      " 51%|███████████████████████████████████████████████▎                                            | 514/1000 [01:47<01:41,  4.80it/s]\u001b[A"
     ]
    },
    {
     "name": "stdout",
     "output_type": "stream",
     "text": [
      "distances: torch.Size([2688, 1000])\n",
      "Indexes shape:  torch.Size([2688, 8])\n",
      "Kxz: torch.Size([26880, 1000])\n",
      "kzz_inv: torch.Size([26880, 8, 8])\n",
      "indexes: torch.Size([2688, 8])\n",
      "Expanded shape torch.Size([26880, 8])\n"
     ]
    },
    {
     "name": "stderr",
     "output_type": "stream",
     "text": [
      "\n",
      " 52%|███████████████████████████████████████████████▍                                            | 515/1000 [01:47<01:41,  4.80it/s]\u001b[A"
     ]
    },
    {
     "name": "stdout",
     "output_type": "stream",
     "text": [
      "distances: torch.Size([2688, 1000])\n",
      "Indexes shape:  torch.Size([2688, 8])\n",
      "Kxz: torch.Size([26880, 1000])\n",
      "kzz_inv: torch.Size([26880, 8, 8])\n",
      "indexes: torch.Size([2688, 8])\n",
      "Expanded shape torch.Size([26880, 8])\n"
     ]
    },
    {
     "name": "stderr",
     "output_type": "stream",
     "text": [
      "\n",
      " 52%|███████████████████████████████████████████████▍                                            | 516/1000 [01:47<01:40,  4.80it/s]\u001b[A"
     ]
    },
    {
     "name": "stdout",
     "output_type": "stream",
     "text": [
      "distances: torch.Size([2688, 1000])\n",
      "Indexes shape:  torch.Size([2688, 8])\n",
      "Kxz: torch.Size([26880, 1000])\n",
      "kzz_inv: torch.Size([26880, 8, 8])\n",
      "indexes: torch.Size([2688, 8])\n",
      "Expanded shape torch.Size([26880, 8])\n"
     ]
    },
    {
     "name": "stderr",
     "output_type": "stream",
     "text": [
      "\n",
      " 52%|███████████████████████████████████████████████▌                                            | 517/1000 [01:48<01:40,  4.81it/s]\u001b[A"
     ]
    },
    {
     "name": "stdout",
     "output_type": "stream",
     "text": [
      "distances: torch.Size([2688, 1000])\n",
      "Indexes shape:  torch.Size([2688, 8])\n",
      "Kxz: torch.Size([26880, 1000])\n",
      "kzz_inv: torch.Size([26880, 8, 8])\n",
      "indexes: torch.Size([2688, 8])\n",
      "Expanded shape torch.Size([26880, 8])\n"
     ]
    },
    {
     "name": "stderr",
     "output_type": "stream",
     "text": [
      "\n",
      " 52%|███████████████████████████████████████████████▋                                            | 518/1000 [01:48<01:40,  4.80it/s]\u001b[A"
     ]
    },
    {
     "name": "stdout",
     "output_type": "stream",
     "text": [
      "distances: torch.Size([2688, 1000])\n",
      "Indexes shape:  torch.Size([2688, 8])\n",
      "Kxz: torch.Size([26880, 1000])\n",
      "kzz_inv: torch.Size([26880, 8, 8])\n",
      "indexes: torch.Size([2688, 8])\n",
      "Expanded shape torch.Size([26880, 8])\n"
     ]
    },
    {
     "name": "stderr",
     "output_type": "stream",
     "text": [
      "\n",
      " 52%|███████████████████████████████████████████████▋                                            | 519/1000 [01:48<01:40,  4.80it/s]\u001b[A"
     ]
    },
    {
     "name": "stdout",
     "output_type": "stream",
     "text": [
      "distances: torch.Size([2688, 1000])\n",
      "Indexes shape:  torch.Size([2688, 8])\n",
      "Kxz: torch.Size([26880, 1000])\n",
      "kzz_inv: torch.Size([26880, 8, 8])\n",
      "indexes: torch.Size([2688, 8])\n",
      "Expanded shape torch.Size([26880, 8])\n"
     ]
    },
    {
     "name": "stderr",
     "output_type": "stream",
     "text": [
      "\n",
      " 52%|███████████████████████████████████████████████▊                                            | 520/1000 [01:48<01:39,  4.80it/s]\u001b[A"
     ]
    },
    {
     "name": "stdout",
     "output_type": "stream",
     "text": [
      "distances: torch.Size([2688, 1000])\n",
      "Indexes shape:  torch.Size([2688, 8])\n",
      "Kxz: torch.Size([26880, 1000])\n",
      "kzz_inv: torch.Size([26880, 8, 8])\n",
      "indexes: torch.Size([2688, 8])\n",
      "Expanded shape torch.Size([26880, 8])\n"
     ]
    },
    {
     "name": "stderr",
     "output_type": "stream",
     "text": [
      "\n",
      " 52%|███████████████████████████████████████████████▉                                            | 521/1000 [01:48<01:39,  4.80it/s]\u001b[A"
     ]
    },
    {
     "name": "stdout",
     "output_type": "stream",
     "text": [
      "distances: torch.Size([2688, 1000])\n",
      "Indexes shape:  torch.Size([2688, 8])\n",
      "Kxz: torch.Size([26880, 1000])\n",
      "kzz_inv: torch.Size([26880, 8, 8])\n",
      "indexes: torch.Size([2688, 8])\n",
      "Expanded shape torch.Size([26880, 8])\n"
     ]
    },
    {
     "name": "stderr",
     "output_type": "stream",
     "text": [
      "\n",
      " 52%|████████████████████████████████████████████████                                            | 522/1000 [01:49<01:39,  4.80it/s]\u001b[A"
     ]
    },
    {
     "name": "stdout",
     "output_type": "stream",
     "text": [
      "distances: torch.Size([2688, 1000])\n",
      "Indexes shape:  torch.Size([2688, 8])\n",
      "Kxz: torch.Size([26880, 1000])\n",
      "kzz_inv: torch.Size([26880, 8, 8])\n",
      "indexes: torch.Size([2688, 8])\n",
      "Expanded shape torch.Size([26880, 8])\n"
     ]
    },
    {
     "name": "stderr",
     "output_type": "stream",
     "text": [
      "\n",
      " 52%|████████████████████████████████████████████████                                            | 523/1000 [01:49<01:39,  4.80it/s]\u001b[A"
     ]
    },
    {
     "name": "stdout",
     "output_type": "stream",
     "text": [
      "distances: torch.Size([2688, 1000])\n",
      "Indexes shape:  torch.Size([2688, 8])\n",
      "Kxz: torch.Size([26880, 1000])\n",
      "kzz_inv: torch.Size([26880, 8, 8])\n",
      "indexes: torch.Size([2688, 8])\n",
      "Expanded shape torch.Size([26880, 8])\n"
     ]
    },
    {
     "name": "stderr",
     "output_type": "stream",
     "text": [
      "\n",
      " 52%|████████████████████████████████████████████████▏                                           | 524/1000 [01:49<01:39,  4.80it/s]\u001b[A"
     ]
    },
    {
     "name": "stdout",
     "output_type": "stream",
     "text": [
      "distances: torch.Size([2688, 1000])\n",
      "Indexes shape:  torch.Size([2688, 8])\n",
      "Kxz: torch.Size([26880, 1000])\n",
      "kzz_inv: torch.Size([26880, 8, 8])\n",
      "indexes: torch.Size([2688, 8])\n",
      "Expanded shape torch.Size([26880, 8])\n"
     ]
    },
    {
     "name": "stderr",
     "output_type": "stream",
     "text": [
      "\n",
      " 52%|████████████████████████████████████████████████▎                                           | 525/1000 [01:49<01:38,  4.80it/s]\u001b[A"
     ]
    },
    {
     "name": "stdout",
     "output_type": "stream",
     "text": [
      "distances: torch.Size([2688, 1000])\n",
      "Indexes shape:  torch.Size([2688, 8])\n",
      "Kxz: torch.Size([26880, 1000])\n",
      "kzz_inv: torch.Size([26880, 8, 8])\n",
      "indexes: torch.Size([2688, 8])\n",
      "Expanded shape torch.Size([26880, 8])\n"
     ]
    },
    {
     "name": "stderr",
     "output_type": "stream",
     "text": [
      "\n",
      " 53%|████████████████████████████████████████████████▍                                           | 526/1000 [01:49<01:38,  4.80it/s]\u001b[A"
     ]
    },
    {
     "name": "stdout",
     "output_type": "stream",
     "text": [
      "distances: torch.Size([2688, 1000])\n",
      "Indexes shape:  torch.Size([2688, 8])\n",
      "Kxz: torch.Size([26880, 1000])\n",
      "kzz_inv: torch.Size([26880, 8, 8])\n",
      "indexes: torch.Size([2688, 8])\n",
      "Expanded shape torch.Size([26880, 8])\n"
     ]
    },
    {
     "name": "stderr",
     "output_type": "stream",
     "text": [
      "\n",
      " 53%|████████████████████████████████████████████████▍                                           | 527/1000 [01:50<01:38,  4.80it/s]\u001b[A"
     ]
    },
    {
     "name": "stdout",
     "output_type": "stream",
     "text": [
      "distances: torch.Size([2688, 1000])\n",
      "Indexes shape:  torch.Size([2688, 8])\n",
      "Kxz: torch.Size([26880, 1000])\n",
      "kzz_inv: torch.Size([26880, 8, 8])\n",
      "indexes: torch.Size([2688, 8])\n",
      "Expanded shape torch.Size([26880, 8])\n"
     ]
    },
    {
     "name": "stderr",
     "output_type": "stream",
     "text": [
      "\n",
      " 53%|████████████████████████████████████████████████▌                                           | 528/1000 [01:50<01:38,  4.80it/s]\u001b[A"
     ]
    },
    {
     "name": "stdout",
     "output_type": "stream",
     "text": [
      "distances: torch.Size([2688, 1000])\n",
      "Indexes shape:  torch.Size([2688, 8])\n",
      "Kxz: torch.Size([26880, 1000])\n",
      "kzz_inv: torch.Size([26880, 8, 8])\n",
      "indexes: torch.Size([2688, 8])\n",
      "Expanded shape torch.Size([26880, 8])\n"
     ]
    },
    {
     "name": "stderr",
     "output_type": "stream",
     "text": [
      "\n",
      " 53%|████████████████████████████████████████████████▋                                           | 529/1000 [01:50<01:38,  4.80it/s]\u001b[A"
     ]
    },
    {
     "name": "stdout",
     "output_type": "stream",
     "text": [
      "distances: torch.Size([2688, 1000])\n",
      "Indexes shape:  torch.Size([2688, 8])\n",
      "Kxz: torch.Size([26880, 1000])\n",
      "kzz_inv: torch.Size([26880, 8, 8])\n",
      "indexes: torch.Size([2688, 8])\n",
      "Expanded shape torch.Size([26880, 8])\n"
     ]
    },
    {
     "name": "stderr",
     "output_type": "stream",
     "text": [
      "\n",
      " 53%|████████████████████████████████████████████████▊                                           | 530/1000 [01:50<01:37,  4.80it/s]\u001b[A"
     ]
    },
    {
     "name": "stdout",
     "output_type": "stream",
     "text": [
      "distances: torch.Size([2688, 1000])\n",
      "Indexes shape:  torch.Size([2688, 8])\n",
      "Kxz: torch.Size([26880, 1000])\n",
      "kzz_inv: torch.Size([26880, 8, 8])\n",
      "indexes: torch.Size([2688, 8])\n",
      "Expanded shape torch.Size([26880, 8])\n"
     ]
    },
    {
     "name": "stderr",
     "output_type": "stream",
     "text": [
      "\n",
      " 53%|████████████████████████████████████████████████▊                                           | 531/1000 [01:50<01:37,  4.80it/s]\u001b[A"
     ]
    },
    {
     "name": "stdout",
     "output_type": "stream",
     "text": [
      "distances: torch.Size([2688, 1000])\n",
      "Indexes shape:  torch.Size([2688, 8])\n",
      "Kxz: torch.Size([26880, 1000])\n",
      "kzz_inv: torch.Size([26880, 8, 8])\n",
      "indexes: torch.Size([2688, 8])\n",
      "Expanded shape torch.Size([26880, 8])\n"
     ]
    },
    {
     "name": "stderr",
     "output_type": "stream",
     "text": [
      "\n",
      " 53%|████████████████████████████████████████████████▉                                           | 532/1000 [01:51<01:37,  4.80it/s]\u001b[A"
     ]
    },
    {
     "name": "stdout",
     "output_type": "stream",
     "text": [
      "distances: torch.Size([2688, 1000])\n",
      "Indexes shape:  torch.Size([2688, 8])\n",
      "Kxz: torch.Size([26880, 1000])\n",
      "kzz_inv: torch.Size([26880, 8, 8])\n",
      "indexes: torch.Size([2688, 8])\n",
      "Expanded shape torch.Size([26880, 8])\n"
     ]
    },
    {
     "name": "stderr",
     "output_type": "stream",
     "text": [
      "\n",
      " 53%|█████████████████████████████████████████████████                                           | 533/1000 [01:51<01:37,  4.80it/s]\u001b[A"
     ]
    },
    {
     "name": "stdout",
     "output_type": "stream",
     "text": [
      "distances: torch.Size([2688, 1000])\n",
      "Indexes shape:  torch.Size([2688, 8])\n",
      "Kxz: torch.Size([26880, 1000])\n",
      "kzz_inv: torch.Size([26880, 8, 8])\n",
      "indexes: torch.Size([2688, 8])\n",
      "Expanded shape torch.Size([26880, 8])\n"
     ]
    },
    {
     "name": "stderr",
     "output_type": "stream",
     "text": [
      "\n",
      " 53%|█████████████████████████████████████████████████▏                                          | 534/1000 [01:51<01:37,  4.80it/s]\u001b[A"
     ]
    },
    {
     "name": "stdout",
     "output_type": "stream",
     "text": [
      "distances: torch.Size([2688, 1000])\n",
      "Indexes shape:  torch.Size([2688, 8])\n",
      "Kxz: torch.Size([26880, 1000])\n",
      "kzz_inv: torch.Size([26880, 8, 8])\n",
      "indexes: torch.Size([2688, 8])\n",
      "Expanded shape torch.Size([26880, 8])\n"
     ]
    },
    {
     "name": "stderr",
     "output_type": "stream",
     "text": [
      "\n",
      " 54%|█████████████████████████████████████████████████▏                                          | 535/1000 [01:51<01:36,  4.80it/s]\u001b[A"
     ]
    },
    {
     "name": "stdout",
     "output_type": "stream",
     "text": [
      "distances: torch.Size([2688, 1000])\n",
      "Indexes shape:  torch.Size([2688, 8])\n",
      "Kxz: torch.Size([26880, 1000])\n",
      "kzz_inv: torch.Size([26880, 8, 8])\n",
      "indexes: torch.Size([2688, 8])\n",
      "Expanded shape torch.Size([26880, 8])\n"
     ]
    },
    {
     "name": "stderr",
     "output_type": "stream",
     "text": [
      "\n",
      " 54%|█████████████████████████████████████████████████▎                                          | 536/1000 [01:52<01:36,  4.80it/s]\u001b[A"
     ]
    },
    {
     "name": "stdout",
     "output_type": "stream",
     "text": [
      "distances: torch.Size([2688, 1000])\n",
      "Indexes shape:  torch.Size([2688, 8])\n",
      "Kxz: torch.Size([26880, 1000])\n",
      "kzz_inv: torch.Size([26880, 8, 8])\n",
      "indexes: torch.Size([2688, 8])\n",
      "Expanded shape torch.Size([26880, 8])\n"
     ]
    },
    {
     "name": "stderr",
     "output_type": "stream",
     "text": [
      "\n",
      " 54%|█████████████████████████████████████████████████▍                                          | 537/1000 [01:52<01:36,  4.80it/s]\u001b[A"
     ]
    },
    {
     "name": "stdout",
     "output_type": "stream",
     "text": [
      "distances: torch.Size([2688, 1000])\n",
      "Indexes shape:  torch.Size([2688, 8])\n",
      "Kxz: torch.Size([26880, 1000])\n",
      "kzz_inv: torch.Size([26880, 8, 8])\n",
      "indexes: torch.Size([2688, 8])\n",
      "Expanded shape torch.Size([26880, 8])\n"
     ]
    },
    {
     "name": "stderr",
     "output_type": "stream",
     "text": [
      "\n",
      " 54%|█████████████████████████████████████████████████▍                                          | 538/1000 [01:52<01:36,  4.80it/s]\u001b[A"
     ]
    },
    {
     "name": "stdout",
     "output_type": "stream",
     "text": [
      "distances: torch.Size([2688, 1000])\n",
      "Indexes shape:  torch.Size([2688, 8])\n",
      "Kxz: torch.Size([26880, 1000])\n",
      "kzz_inv: torch.Size([26880, 8, 8])\n",
      "indexes: torch.Size([2688, 8])\n",
      "Expanded shape torch.Size([26880, 8])\n"
     ]
    },
    {
     "name": "stderr",
     "output_type": "stream",
     "text": [
      "\n",
      " 54%|█████████████████████████████████████████████████▌                                          | 539/1000 [01:52<01:36,  4.80it/s]\u001b[A"
     ]
    },
    {
     "name": "stdout",
     "output_type": "stream",
     "text": [
      "distances: torch.Size([2688, 1000])\n",
      "Indexes shape:  torch.Size([2688, 8])\n",
      "Kxz: torch.Size([26880, 1000])\n",
      "kzz_inv: torch.Size([26880, 8, 8])\n",
      "indexes: torch.Size([2688, 8])\n",
      "Expanded shape torch.Size([26880, 8])\n"
     ]
    },
    {
     "name": "stderr",
     "output_type": "stream",
     "text": [
      "\n",
      " 54%|█████████████████████████████████████████████████▋                                          | 540/1000 [01:52<01:35,  4.81it/s]\u001b[A"
     ]
    },
    {
     "name": "stdout",
     "output_type": "stream",
     "text": [
      "distances: torch.Size([2688, 1000])\n",
      "Indexes shape:  torch.Size([2688, 8])\n",
      "Kxz: torch.Size([26880, 1000])\n",
      "kzz_inv: torch.Size([26880, 8, 8])\n",
      "indexes: torch.Size([2688, 8])\n",
      "Expanded shape torch.Size([26880, 8])\n"
     ]
    },
    {
     "name": "stderr",
     "output_type": "stream",
     "text": [
      "\n",
      " 54%|█████████████████████████████████████████████████▊                                          | 541/1000 [01:53<01:35,  4.80it/s]\u001b[A"
     ]
    },
    {
     "name": "stdout",
     "output_type": "stream",
     "text": [
      "distances: torch.Size([2688, 1000])\n",
      "Indexes shape:  torch.Size([2688, 8])\n",
      "Kxz: torch.Size([26880, 1000])\n",
      "kzz_inv: torch.Size([26880, 8, 8])\n",
      "indexes: torch.Size([2688, 8])\n",
      "Expanded shape torch.Size([26880, 8])\n"
     ]
    },
    {
     "name": "stderr",
     "output_type": "stream",
     "text": [
      "\n",
      " 54%|█████████████████████████████████████████████████▊                                          | 542/1000 [01:53<01:35,  4.80it/s]\u001b[A"
     ]
    },
    {
     "name": "stdout",
     "output_type": "stream",
     "text": [
      "distances: torch.Size([2688, 1000])\n",
      "Indexes shape:  torch.Size([2688, 8])\n",
      "Kxz: torch.Size([26880, 1000])\n",
      "kzz_inv: torch.Size([26880, 8, 8])\n",
      "indexes: torch.Size([2688, 8])\n",
      "Expanded shape torch.Size([26880, 8])\n"
     ]
    },
    {
     "name": "stderr",
     "output_type": "stream",
     "text": [
      "\n",
      " 54%|█████████████████████████████████████████████████▉                                          | 543/1000 [01:53<01:35,  4.80it/s]\u001b[A"
     ]
    },
    {
     "name": "stdout",
     "output_type": "stream",
     "text": [
      "distances: torch.Size([2688, 1000])\n",
      "Indexes shape:  torch.Size([2688, 8])\n",
      "Kxz: torch.Size([26880, 1000])\n",
      "kzz_inv: torch.Size([26880, 8, 8])\n",
      "indexes: torch.Size([2688, 8])\n",
      "Expanded shape torch.Size([26880, 8])\n"
     ]
    },
    {
     "name": "stderr",
     "output_type": "stream",
     "text": [
      "\n",
      " 54%|██████████████████████████████████████████████████                                          | 544/1000 [01:53<01:35,  4.80it/s]\u001b[A"
     ]
    },
    {
     "name": "stdout",
     "output_type": "stream",
     "text": [
      "distances: torch.Size([2688, 1000])\n",
      "Indexes shape:  torch.Size([2688, 8])\n",
      "Kxz: torch.Size([26880, 1000])\n",
      "kzz_inv: torch.Size([26880, 8, 8])\n",
      "indexes: torch.Size([2688, 8])\n",
      "Expanded shape torch.Size([26880, 8])\n"
     ]
    },
    {
     "name": "stderr",
     "output_type": "stream",
     "text": [
      "\n",
      " 55%|██████████████████████████████████████████████████▏                                         | 545/1000 [01:53<01:34,  4.80it/s]\u001b[A"
     ]
    },
    {
     "name": "stdout",
     "output_type": "stream",
     "text": [
      "distances: torch.Size([2688, 1000])\n",
      "Indexes shape:  torch.Size([2688, 8])\n",
      "Kxz: torch.Size([26880, 1000])\n",
      "kzz_inv: torch.Size([26880, 8, 8])\n",
      "indexes: torch.Size([2688, 8])\n",
      "Expanded shape torch.Size([26880, 8])\n"
     ]
    },
    {
     "name": "stderr",
     "output_type": "stream",
     "text": [
      "\n",
      " 55%|██████████████████████████████████████████████████▏                                         | 546/1000 [01:54<01:34,  4.80it/s]\u001b[A"
     ]
    },
    {
     "name": "stdout",
     "output_type": "stream",
     "text": [
      "distances: torch.Size([2688, 1000])\n",
      "Indexes shape:  torch.Size([2688, 8])\n",
      "Kxz: torch.Size([26880, 1000])\n",
      "kzz_inv: torch.Size([26880, 8, 8])\n",
      "indexes: torch.Size([2688, 8])\n",
      "Expanded shape torch.Size([26880, 8])\n"
     ]
    },
    {
     "name": "stderr",
     "output_type": "stream",
     "text": [
      "\n",
      " 55%|██████████████████████████████████████████████████▎                                         | 547/1000 [01:54<01:34,  4.80it/s]\u001b[A"
     ]
    },
    {
     "name": "stdout",
     "output_type": "stream",
     "text": [
      "distances: torch.Size([2688, 1000])\n",
      "Indexes shape:  torch.Size([2688, 8])\n",
      "Kxz: torch.Size([26880, 1000])\n",
      "kzz_inv: torch.Size([26880, 8, 8])\n",
      "indexes: torch.Size([2688, 8])\n",
      "Expanded shape torch.Size([26880, 8])\n"
     ]
    },
    {
     "name": "stderr",
     "output_type": "stream",
     "text": [
      "\n",
      " 55%|██████████████████████████████████████████████████▍                                         | 548/1000 [01:54<01:34,  4.80it/s]\u001b[A"
     ]
    },
    {
     "name": "stdout",
     "output_type": "stream",
     "text": [
      "distances: torch.Size([2688, 1000])\n",
      "Indexes shape:  torch.Size([2688, 8])\n",
      "Kxz: torch.Size([26880, 1000])\n",
      "kzz_inv: torch.Size([26880, 8, 8])\n",
      "indexes: torch.Size([2688, 8])\n",
      "Expanded shape torch.Size([26880, 8])\n"
     ]
    },
    {
     "name": "stderr",
     "output_type": "stream",
     "text": [
      "\n",
      " 55%|██████████████████████████████████████████████████▌                                         | 549/1000 [01:54<01:33,  4.80it/s]\u001b[A"
     ]
    },
    {
     "name": "stdout",
     "output_type": "stream",
     "text": [
      "distances: torch.Size([2688, 1000])\n",
      "Indexes shape:  torch.Size([2688, 8])\n",
      "Kxz: torch.Size([26880, 1000])\n",
      "kzz_inv: torch.Size([26880, 8, 8])\n",
      "indexes: torch.Size([2688, 8])\n",
      "Expanded shape torch.Size([26880, 8])\n"
     ]
    },
    {
     "name": "stderr",
     "output_type": "stream",
     "text": [
      "\n",
      " 55%|██████████████████████████████████████████████████▌                                         | 550/1000 [01:54<01:33,  4.80it/s]\u001b[A"
     ]
    },
    {
     "name": "stdout",
     "output_type": "stream",
     "text": [
      "distances: torch.Size([2688, 1000])\n",
      "Indexes shape:  torch.Size([2688, 8])\n",
      "Kxz: torch.Size([26880, 1000])\n",
      "kzz_inv: torch.Size([26880, 8, 8])\n",
      "indexes: torch.Size([2688, 8])\n",
      "Expanded shape torch.Size([26880, 8])\n"
     ]
    },
    {
     "name": "stderr",
     "output_type": "stream",
     "text": [
      "\n",
      " 55%|██████████████████████████████████████████████████▋                                         | 551/1000 [01:55<01:33,  4.80it/s]\u001b[A"
     ]
    },
    {
     "name": "stdout",
     "output_type": "stream",
     "text": [
      "distances: torch.Size([2688, 1000])\n",
      "Indexes shape:  torch.Size([2688, 8])\n",
      "Kxz: torch.Size([26880, 1000])\n",
      "kzz_inv: torch.Size([26880, 8, 8])\n",
      "indexes: torch.Size([2688, 8])\n",
      "Expanded shape torch.Size([26880, 8])\n"
     ]
    },
    {
     "name": "stderr",
     "output_type": "stream",
     "text": [
      "\n",
      " 55%|██████████████████████████████████████████████████▊                                         | 552/1000 [01:55<01:33,  4.80it/s]\u001b[A"
     ]
    },
    {
     "name": "stdout",
     "output_type": "stream",
     "text": [
      "distances: torch.Size([2688, 1000])\n",
      "Indexes shape:  torch.Size([2688, 8])\n",
      "Kxz: torch.Size([26880, 1000])\n",
      "kzz_inv: torch.Size([26880, 8, 8])\n",
      "indexes: torch.Size([2688, 8])\n",
      "Expanded shape torch.Size([26880, 8])\n"
     ]
    },
    {
     "name": "stderr",
     "output_type": "stream",
     "text": [
      "\n",
      " 55%|██████████████████████████████████████████████████▉                                         | 553/1000 [01:55<01:33,  4.80it/s]\u001b[A"
     ]
    },
    {
     "name": "stdout",
     "output_type": "stream",
     "text": [
      "distances: torch.Size([2688, 1000])\n",
      "Indexes shape:  torch.Size([2688, 8])\n",
      "Kxz: torch.Size([26880, 1000])\n",
      "kzz_inv: torch.Size([26880, 8, 8])\n",
      "indexes: torch.Size([2688, 8])\n",
      "Expanded shape torch.Size([26880, 8])\n"
     ]
    },
    {
     "name": "stderr",
     "output_type": "stream",
     "text": [
      "\n",
      " 55%|██████████████████████████████████████████████████▉                                         | 554/1000 [01:55<01:32,  4.80it/s]\u001b[A"
     ]
    },
    {
     "name": "stdout",
     "output_type": "stream",
     "text": [
      "distances: torch.Size([2688, 1000])\n",
      "Indexes shape:  torch.Size([2688, 8])\n",
      "Kxz: torch.Size([26880, 1000])\n",
      "kzz_inv: torch.Size([26880, 8, 8])\n",
      "indexes: torch.Size([2688, 8])\n",
      "Expanded shape torch.Size([26880, 8])\n"
     ]
    },
    {
     "name": "stderr",
     "output_type": "stream",
     "text": [
      "\n",
      " 56%|███████████████████████████████████████████████████                                         | 555/1000 [01:55<01:32,  4.80it/s]\u001b[A"
     ]
    },
    {
     "name": "stdout",
     "output_type": "stream",
     "text": [
      "distances: torch.Size([2688, 1000])\n",
      "Indexes shape:  torch.Size([2688, 8])\n",
      "Kxz: torch.Size([26880, 1000])\n",
      "kzz_inv: torch.Size([26880, 8, 8])\n",
      "indexes: torch.Size([2688, 8])\n",
      "Expanded shape torch.Size([26880, 8])\n"
     ]
    },
    {
     "name": "stderr",
     "output_type": "stream",
     "text": [
      "\n",
      " 56%|███████████████████████████████████████████████████▏                                        | 556/1000 [01:56<01:32,  4.80it/s]\u001b[A"
     ]
    },
    {
     "name": "stdout",
     "output_type": "stream",
     "text": [
      "distances: torch.Size([2688, 1000])\n",
      "Indexes shape:  torch.Size([2688, 8])\n",
      "Kxz: torch.Size([26880, 1000])\n",
      "kzz_inv: torch.Size([26880, 8, 8])\n",
      "indexes: torch.Size([2688, 8])\n",
      "Expanded shape torch.Size([26880, 8])\n"
     ]
    },
    {
     "name": "stderr",
     "output_type": "stream",
     "text": [
      "\n",
      " 56%|███████████████████████████████████████████████████▏                                        | 557/1000 [01:56<01:32,  4.79it/s]\u001b[A"
     ]
    },
    {
     "name": "stdout",
     "output_type": "stream",
     "text": [
      "distances: torch.Size([2688, 1000])\n",
      "Indexes shape:  torch.Size([2688, 8])\n",
      "Kxz: torch.Size([26880, 1000])\n",
      "kzz_inv: torch.Size([26880, 8, 8])\n",
      "indexes: torch.Size([2688, 8])\n",
      "Expanded shape torch.Size([26880, 8])\n"
     ]
    },
    {
     "name": "stderr",
     "output_type": "stream",
     "text": [
      "\n",
      " 56%|███████████████████████████████████████████████████▎                                        | 558/1000 [01:56<01:32,  4.80it/s]\u001b[A"
     ]
    },
    {
     "name": "stdout",
     "output_type": "stream",
     "text": [
      "distances: torch.Size([2688, 1000])\n",
      "Indexes shape:  torch.Size([2688, 8])\n",
      "Kxz: torch.Size([26880, 1000])\n",
      "kzz_inv: torch.Size([26880, 8, 8])\n",
      "indexes: torch.Size([2688, 8])\n",
      "Expanded shape torch.Size([26880, 8])\n"
     ]
    },
    {
     "name": "stderr",
     "output_type": "stream",
     "text": [
      "\n",
      " 56%|███████████████████████████████████████████████████▍                                        | 559/1000 [01:56<01:31,  4.80it/s]\u001b[A"
     ]
    },
    {
     "name": "stdout",
     "output_type": "stream",
     "text": [
      "distances: torch.Size([2688, 1000])\n",
      "Indexes shape:  torch.Size([2688, 8])\n",
      "Kxz: torch.Size([26880, 1000])\n",
      "kzz_inv: torch.Size([26880, 8, 8])\n",
      "indexes: torch.Size([2688, 8])\n",
      "Expanded shape torch.Size([26880, 8])\n"
     ]
    },
    {
     "name": "stderr",
     "output_type": "stream",
     "text": [
      "\n",
      " 56%|███████████████████████████████████████████████████▌                                        | 560/1000 [01:57<01:31,  4.80it/s]\u001b[A"
     ]
    },
    {
     "name": "stdout",
     "output_type": "stream",
     "text": [
      "distances: torch.Size([2688, 1000])\n",
      "Indexes shape:  torch.Size([2688, 8])\n",
      "Kxz: torch.Size([26880, 1000])\n",
      "kzz_inv: torch.Size([26880, 8, 8])\n",
      "indexes: torch.Size([2688, 8])\n",
      "Expanded shape torch.Size([26880, 8])\n"
     ]
    },
    {
     "name": "stderr",
     "output_type": "stream",
     "text": [
      "\n",
      " 56%|███████████████████████████████████████████████████▌                                        | 561/1000 [01:57<01:31,  4.80it/s]\u001b[A"
     ]
    },
    {
     "name": "stdout",
     "output_type": "stream",
     "text": [
      "distances: torch.Size([2688, 1000])\n",
      "Indexes shape:  torch.Size([2688, 8])\n",
      "Kxz: torch.Size([26880, 1000])\n",
      "kzz_inv: torch.Size([26880, 8, 8])\n",
      "indexes: torch.Size([2688, 8])\n",
      "Expanded shape torch.Size([26880, 8])\n"
     ]
    },
    {
     "name": "stderr",
     "output_type": "stream",
     "text": [
      "\n",
      " 56%|███████████████████████████████████████████████████▋                                        | 562/1000 [01:57<01:31,  4.80it/s]\u001b[A"
     ]
    },
    {
     "name": "stdout",
     "output_type": "stream",
     "text": [
      "distances: torch.Size([2688, 1000])\n",
      "Indexes shape:  torch.Size([2688, 8])\n",
      "Kxz: torch.Size([26880, 1000])\n",
      "kzz_inv: torch.Size([26880, 8, 8])\n",
      "indexes: torch.Size([2688, 8])\n",
      "Expanded shape torch.Size([26880, 8])\n"
     ]
    },
    {
     "name": "stderr",
     "output_type": "stream",
     "text": [
      "\n",
      " 56%|███████████████████████████████████████████████████▊                                        | 563/1000 [01:57<01:31,  4.80it/s]\u001b[A"
     ]
    },
    {
     "name": "stdout",
     "output_type": "stream",
     "text": [
      "distances: torch.Size([2688, 1000])\n",
      "Indexes shape:  torch.Size([2688, 8])\n",
      "Kxz: torch.Size([26880, 1000])\n",
      "kzz_inv: torch.Size([26880, 8, 8])\n",
      "indexes: torch.Size([2688, 8])\n",
      "Expanded shape torch.Size([26880, 8])\n"
     ]
    },
    {
     "name": "stderr",
     "output_type": "stream",
     "text": [
      "\n",
      " 56%|███████████████████████████████████████████████████▉                                        | 564/1000 [01:57<01:30,  4.80it/s]\u001b[A"
     ]
    },
    {
     "name": "stdout",
     "output_type": "stream",
     "text": [
      "distances: torch.Size([2688, 1000])\n",
      "Indexes shape:  torch.Size([2688, 8])\n",
      "Kxz: torch.Size([26880, 1000])\n",
      "kzz_inv: torch.Size([26880, 8, 8])\n",
      "indexes: torch.Size([2688, 8])\n",
      "Expanded shape torch.Size([26880, 8])\n"
     ]
    },
    {
     "name": "stderr",
     "output_type": "stream",
     "text": [
      "\n",
      " 56%|███████████████████████████████████████████████████▉                                        | 565/1000 [01:58<01:30,  4.80it/s]\u001b[A"
     ]
    },
    {
     "name": "stdout",
     "output_type": "stream",
     "text": [
      "distances: torch.Size([2688, 1000])\n",
      "Indexes shape:  torch.Size([2688, 8])\n",
      "Kxz: torch.Size([26880, 1000])\n",
      "kzz_inv: torch.Size([26880, 8, 8])\n",
      "indexes: torch.Size([2688, 8])\n",
      "Expanded shape torch.Size([26880, 8])\n"
     ]
    },
    {
     "name": "stderr",
     "output_type": "stream",
     "text": [
      "\n",
      " 57%|████████████████████████████████████████████████████                                        | 566/1000 [01:58<01:30,  4.80it/s]\u001b[A"
     ]
    },
    {
     "name": "stdout",
     "output_type": "stream",
     "text": [
      "distances: torch.Size([2688, 1000])\n",
      "Indexes shape:  torch.Size([2688, 8])\n",
      "Kxz: torch.Size([26880, 1000])\n",
      "kzz_inv: torch.Size([26880, 8, 8])\n",
      "indexes: torch.Size([2688, 8])\n",
      "Expanded shape torch.Size([26880, 8])\n"
     ]
    },
    {
     "name": "stderr",
     "output_type": "stream",
     "text": [
      "\n",
      " 57%|████████████████████████████████████████████████████▏                                       | 567/1000 [01:58<01:30,  4.80it/s]\u001b[A"
     ]
    },
    {
     "name": "stdout",
     "output_type": "stream",
     "text": [
      "distances: torch.Size([2688, 1000])\n",
      "Indexes shape:  torch.Size([2688, 8])\n",
      "Kxz: torch.Size([26880, 1000])\n",
      "kzz_inv: torch.Size([26880, 8, 8])\n",
      "indexes: torch.Size([2688, 8])\n",
      "Expanded shape torch.Size([26880, 8])\n"
     ]
    },
    {
     "name": "stderr",
     "output_type": "stream",
     "text": [
      "\n",
      " 57%|████████████████████████████████████████████████████▎                                       | 568/1000 [01:58<01:29,  4.80it/s]\u001b[A"
     ]
    },
    {
     "name": "stdout",
     "output_type": "stream",
     "text": [
      "distances: torch.Size([2688, 1000])\n",
      "Indexes shape:  torch.Size([2688, 8])\n",
      "Kxz: torch.Size([26880, 1000])\n",
      "kzz_inv: torch.Size([26880, 8, 8])\n",
      "indexes: torch.Size([2688, 8])\n",
      "Expanded shape torch.Size([26880, 8])\n"
     ]
    },
    {
     "name": "stderr",
     "output_type": "stream",
     "text": [
      "\n",
      " 57%|████████████████████████████████████████████████████▎                                       | 569/1000 [01:58<01:29,  4.80it/s]\u001b[A"
     ]
    },
    {
     "name": "stdout",
     "output_type": "stream",
     "text": [
      "distances: torch.Size([2688, 1000])\n",
      "Indexes shape:  torch.Size([2688, 8])\n",
      "Kxz: torch.Size([26880, 1000])\n",
      "kzz_inv: torch.Size([26880, 8, 8])\n",
      "indexes: torch.Size([2688, 8])\n",
      "Expanded shape torch.Size([26880, 8])\n"
     ]
    },
    {
     "name": "stderr",
     "output_type": "stream",
     "text": [
      "\n",
      " 57%|████████████████████████████████████████████████████▍                                       | 570/1000 [01:59<01:29,  4.80it/s]\u001b[A"
     ]
    },
    {
     "name": "stdout",
     "output_type": "stream",
     "text": [
      "distances: torch.Size([2688, 1000])\n",
      "Indexes shape:  torch.Size([2688, 8])\n",
      "Kxz: torch.Size([26880, 1000])\n",
      "kzz_inv: torch.Size([26880, 8, 8])\n",
      "indexes: torch.Size([2688, 8])\n",
      "Expanded shape torch.Size([26880, 8])\n"
     ]
    },
    {
     "name": "stderr",
     "output_type": "stream",
     "text": [
      "\n",
      " 57%|████████████████████████████████████████████████████▌                                       | 571/1000 [01:59<01:29,  4.80it/s]\u001b[A"
     ]
    },
    {
     "name": "stdout",
     "output_type": "stream",
     "text": [
      "distances: torch.Size([2688, 1000])\n",
      "Indexes shape:  torch.Size([2688, 8])\n",
      "Kxz: torch.Size([26880, 1000])\n",
      "kzz_inv: torch.Size([26880, 8, 8])\n",
      "indexes: torch.Size([2688, 8])\n",
      "Expanded shape torch.Size([26880, 8])\n"
     ]
    },
    {
     "name": "stderr",
     "output_type": "stream",
     "text": [
      "\n",
      " 57%|████████████████████████████████████████████████████▌                                       | 572/1000 [01:59<01:29,  4.80it/s]\u001b[A"
     ]
    },
    {
     "name": "stdout",
     "output_type": "stream",
     "text": [
      "distances: torch.Size([2688, 1000])\n",
      "Indexes shape:  torch.Size([2688, 8])\n",
      "Kxz: torch.Size([26880, 1000])\n",
      "kzz_inv: torch.Size([26880, 8, 8])\n",
      "indexes: torch.Size([2688, 8])\n",
      "Expanded shape torch.Size([26880, 8])\n"
     ]
    },
    {
     "name": "stderr",
     "output_type": "stream",
     "text": [
      "\n",
      " 57%|████████████████████████████████████████████████████▋                                       | 573/1000 [01:59<01:28,  4.80it/s]\u001b[A"
     ]
    },
    {
     "name": "stdout",
     "output_type": "stream",
     "text": [
      "distances: torch.Size([2688, 1000])\n",
      "Indexes shape:  torch.Size([2688, 8])\n",
      "Kxz: torch.Size([26880, 1000])\n",
      "kzz_inv: torch.Size([26880, 8, 8])\n",
      "indexes: torch.Size([2688, 8])\n",
      "Expanded shape torch.Size([26880, 8])\n"
     ]
    },
    {
     "name": "stderr",
     "output_type": "stream",
     "text": [
      "\n",
      " 57%|████████████████████████████████████████████████████▊                                       | 574/1000 [01:59<01:28,  4.80it/s]\u001b[A"
     ]
    },
    {
     "name": "stdout",
     "output_type": "stream",
     "text": [
      "distances: torch.Size([2688, 1000])\n",
      "Indexes shape:  torch.Size([2688, 8])\n",
      "Kxz: torch.Size([26880, 1000])\n",
      "kzz_inv: torch.Size([26880, 8, 8])\n",
      "indexes: torch.Size([2688, 8])\n",
      "Expanded shape torch.Size([26880, 8])\n"
     ]
    },
    {
     "name": "stderr",
     "output_type": "stream",
     "text": [
      "\n",
      " 57%|████████████████████████████████████████████████████▉                                       | 575/1000 [02:00<01:28,  4.80it/s]\u001b[A"
     ]
    },
    {
     "name": "stdout",
     "output_type": "stream",
     "text": [
      "distances: torch.Size([2688, 1000])\n",
      "Indexes shape:  torch.Size([2688, 8])\n",
      "Kxz: torch.Size([26880, 1000])\n",
      "kzz_inv: torch.Size([26880, 8, 8])\n",
      "indexes: torch.Size([2688, 8])\n",
      "Expanded shape torch.Size([26880, 8])\n"
     ]
    },
    {
     "name": "stderr",
     "output_type": "stream",
     "text": [
      "\n",
      " 58%|████████████████████████████████████████████████████▉                                       | 576/1000 [02:00<01:28,  4.81it/s]\u001b[A"
     ]
    },
    {
     "name": "stdout",
     "output_type": "stream",
     "text": [
      "distances: torch.Size([2688, 1000])\n",
      "Indexes shape:  torch.Size([2688, 8])\n",
      "Kxz: torch.Size([26880, 1000])\n",
      "kzz_inv: torch.Size([26880, 8, 8])\n",
      "indexes: torch.Size([2688, 8])\n",
      "Expanded shape torch.Size([26880, 8])\n"
     ]
    },
    {
     "name": "stderr",
     "output_type": "stream",
     "text": [
      "\n",
      " 58%|█████████████████████████████████████████████████████                                       | 577/1000 [02:00<01:28,  4.80it/s]\u001b[A"
     ]
    },
    {
     "name": "stdout",
     "output_type": "stream",
     "text": [
      "distances: torch.Size([2688, 1000])\n",
      "Indexes shape:  torch.Size([2688, 8])\n",
      "Kxz: torch.Size([26880, 1000])\n",
      "kzz_inv: torch.Size([26880, 8, 8])\n",
      "indexes: torch.Size([2688, 8])\n",
      "Expanded shape torch.Size([26880, 8])\n"
     ]
    },
    {
     "name": "stderr",
     "output_type": "stream",
     "text": [
      "\n",
      " 58%|█████████████████████████████████████████████████████▏                                      | 578/1000 [02:00<01:27,  4.81it/s]\u001b[A"
     ]
    },
    {
     "name": "stdout",
     "output_type": "stream",
     "text": [
      "distances: torch.Size([2688, 1000])\n",
      "Indexes shape:  torch.Size([2688, 8])\n",
      "Kxz: torch.Size([26880, 1000])\n",
      "kzz_inv: torch.Size([26880, 8, 8])\n",
      "indexes: torch.Size([2688, 8])\n",
      "Expanded shape torch.Size([26880, 8])\n"
     ]
    },
    {
     "name": "stderr",
     "output_type": "stream",
     "text": [
      "\n",
      " 58%|█████████████████████████████████████████████████████▎                                      | 579/1000 [02:00<01:27,  4.81it/s]\u001b[A"
     ]
    },
    {
     "name": "stdout",
     "output_type": "stream",
     "text": [
      "distances: torch.Size([2688, 1000])\n",
      "Indexes shape:  torch.Size([2688, 8])\n",
      "Kxz: torch.Size([26880, 1000])\n",
      "kzz_inv: torch.Size([26880, 8, 8])\n",
      "indexes: torch.Size([2688, 8])\n",
      "Expanded shape torch.Size([26880, 8])\n"
     ]
    },
    {
     "name": "stderr",
     "output_type": "stream",
     "text": [
      "\n",
      " 58%|█████████████████████████████████████████████████████▎                                      | 580/1000 [02:01<01:27,  4.80it/s]\u001b[A"
     ]
    },
    {
     "name": "stdout",
     "output_type": "stream",
     "text": [
      "distances: torch.Size([2688, 1000])\n",
      "Indexes shape:  torch.Size([2688, 8])\n",
      "Kxz: torch.Size([26880, 1000])\n",
      "kzz_inv: torch.Size([26880, 8, 8])\n",
      "indexes: torch.Size([2688, 8])\n",
      "Expanded shape torch.Size([26880, 8])\n"
     ]
    },
    {
     "name": "stderr",
     "output_type": "stream",
     "text": [
      "\n",
      " 58%|█████████████████████████████████████████████████████▍                                      | 581/1000 [02:01<01:27,  4.80it/s]\u001b[A"
     ]
    },
    {
     "name": "stdout",
     "output_type": "stream",
     "text": [
      "distances: torch.Size([2688, 1000])\n",
      "Indexes shape:  torch.Size([2688, 8])\n",
      "Kxz: torch.Size([26880, 1000])\n",
      "kzz_inv: torch.Size([26880, 8, 8])\n",
      "indexes: torch.Size([2688, 8])\n",
      "Expanded shape torch.Size([26880, 8])\n"
     ]
    },
    {
     "name": "stderr",
     "output_type": "stream",
     "text": [
      "\n",
      " 58%|█████████████████████████████████████████████████████▌                                      | 582/1000 [02:01<01:27,  4.80it/s]\u001b[A"
     ]
    },
    {
     "name": "stdout",
     "output_type": "stream",
     "text": [
      "distances: torch.Size([2688, 1000])\n",
      "Indexes shape:  torch.Size([2688, 8])\n",
      "Kxz: torch.Size([26880, 1000])\n",
      "kzz_inv: torch.Size([26880, 8, 8])\n",
      "indexes: torch.Size([2688, 8])\n",
      "Expanded shape torch.Size([26880, 8])\n"
     ]
    },
    {
     "name": "stderr",
     "output_type": "stream",
     "text": [
      "\n",
      " 58%|█████████████████████████████████████████████████████▋                                      | 583/1000 [02:01<01:26,  4.80it/s]\u001b[A"
     ]
    },
    {
     "name": "stdout",
     "output_type": "stream",
     "text": [
      "distances: torch.Size([2688, 1000])\n",
      "Indexes shape:  torch.Size([2688, 8])\n",
      "Kxz: torch.Size([26880, 1000])\n",
      "kzz_inv: torch.Size([26880, 8, 8])\n",
      "indexes: torch.Size([2688, 8])\n",
      "Expanded shape torch.Size([26880, 8])\n"
     ]
    },
    {
     "name": "stderr",
     "output_type": "stream",
     "text": [
      "\n",
      " 58%|█████████████████████████████████████████████████████▋                                      | 584/1000 [02:02<01:26,  4.80it/s]\u001b[A"
     ]
    },
    {
     "name": "stdout",
     "output_type": "stream",
     "text": [
      "distances: torch.Size([2688, 1000])\n",
      "Indexes shape:  torch.Size([2688, 8])\n",
      "Kxz: torch.Size([26880, 1000])\n",
      "kzz_inv: torch.Size([26880, 8, 8])\n",
      "indexes: torch.Size([2688, 8])\n",
      "Expanded shape torch.Size([26880, 8])\n"
     ]
    },
    {
     "name": "stderr",
     "output_type": "stream",
     "text": [
      "\n",
      " 58%|█████████████████████████████████████████████████████▊                                      | 585/1000 [02:02<01:26,  4.80it/s]\u001b[A"
     ]
    },
    {
     "name": "stdout",
     "output_type": "stream",
     "text": [
      "distances: torch.Size([2688, 1000])\n",
      "Indexes shape:  torch.Size([2688, 8])\n",
      "Kxz: torch.Size([26880, 1000])\n",
      "kzz_inv: torch.Size([26880, 8, 8])\n",
      "indexes: torch.Size([2688, 8])\n",
      "Expanded shape torch.Size([26880, 8])\n"
     ]
    },
    {
     "name": "stderr",
     "output_type": "stream",
     "text": [
      "\n",
      " 59%|█████████████████████████████████████████████████████▉                                      | 586/1000 [02:02<01:26,  4.80it/s]\u001b[A"
     ]
    },
    {
     "name": "stdout",
     "output_type": "stream",
     "text": [
      "distances: torch.Size([2688, 1000])\n",
      "Indexes shape:  torch.Size([2688, 8])\n",
      "Kxz: torch.Size([26880, 1000])\n",
      "kzz_inv: torch.Size([26880, 8, 8])\n",
      "indexes: torch.Size([2688, 8])\n",
      "Expanded shape torch.Size([26880, 8])\n"
     ]
    },
    {
     "name": "stderr",
     "output_type": "stream",
     "text": [
      "\n",
      " 59%|██████████████████████████████████████████████████████                                      | 587/1000 [02:02<01:26,  4.80it/s]\u001b[A"
     ]
    },
    {
     "name": "stdout",
     "output_type": "stream",
     "text": [
      "distances: torch.Size([2688, 1000])\n",
      "Indexes shape:  torch.Size([2688, 8])\n",
      "Kxz: torch.Size([26880, 1000])\n",
      "kzz_inv: torch.Size([26880, 8, 8])\n",
      "indexes: torch.Size([2688, 8])\n",
      "Expanded shape torch.Size([26880, 8])\n"
     ]
    },
    {
     "name": "stderr",
     "output_type": "stream",
     "text": [
      "\n",
      " 59%|██████████████████████████████████████████████████████                                      | 588/1000 [02:02<01:25,  4.80it/s]\u001b[A"
     ]
    },
    {
     "name": "stdout",
     "output_type": "stream",
     "text": [
      "distances: torch.Size([2688, 1000])\n",
      "Indexes shape:  torch.Size([2688, 8])\n",
      "Kxz: torch.Size([26880, 1000])\n",
      "kzz_inv: torch.Size([26880, 8, 8])\n",
      "indexes: torch.Size([2688, 8])\n",
      "Expanded shape torch.Size([26880, 8])\n"
     ]
    },
    {
     "name": "stderr",
     "output_type": "stream",
     "text": [
      "\n",
      " 59%|██████████████████████████████████████████████████████▏                                     | 589/1000 [02:03<01:25,  4.80it/s]\u001b[A"
     ]
    },
    {
     "name": "stdout",
     "output_type": "stream",
     "text": [
      "distances: torch.Size([2688, 1000])\n",
      "Indexes shape:  torch.Size([2688, 8])\n",
      "Kxz: torch.Size([26880, 1000])\n",
      "kzz_inv: torch.Size([26880, 8, 8])\n",
      "indexes: torch.Size([2688, 8])\n",
      "Expanded shape torch.Size([26880, 8])\n"
     ]
    },
    {
     "name": "stderr",
     "output_type": "stream",
     "text": [
      "\n",
      " 59%|██████████████████████████████████████████████████████▎                                     | 590/1000 [02:03<01:25,  4.80it/s]\u001b[A"
     ]
    },
    {
     "name": "stdout",
     "output_type": "stream",
     "text": [
      "distances: torch.Size([2688, 1000])\n",
      "Indexes shape:  torch.Size([2688, 8])\n",
      "Kxz: torch.Size([26880, 1000])\n",
      "kzz_inv: torch.Size([26880, 8, 8])\n",
      "indexes: torch.Size([2688, 8])\n",
      "Expanded shape torch.Size([26880, 8])\n"
     ]
    },
    {
     "name": "stderr",
     "output_type": "stream",
     "text": [
      "\n",
      " 59%|██████████████████████████████████████████████████████▎                                     | 591/1000 [02:03<01:25,  4.80it/s]\u001b[A"
     ]
    },
    {
     "name": "stdout",
     "output_type": "stream",
     "text": [
      "distances: torch.Size([2688, 1000])\n",
      "Indexes shape:  torch.Size([2688, 8])\n",
      "Kxz: torch.Size([26880, 1000])\n",
      "kzz_inv: torch.Size([26880, 8, 8])\n",
      "indexes: torch.Size([2688, 8])\n",
      "Expanded shape torch.Size([26880, 8])\n"
     ]
    },
    {
     "name": "stderr",
     "output_type": "stream",
     "text": [
      "\n",
      " 59%|██████████████████████████████████████████████████████▍                                     | 592/1000 [02:03<01:25,  4.80it/s]\u001b[A"
     ]
    },
    {
     "name": "stdout",
     "output_type": "stream",
     "text": [
      "distances: torch.Size([2688, 1000])\n",
      "Indexes shape:  torch.Size([2688, 8])\n",
      "Kxz: torch.Size([26880, 1000])\n",
      "kzz_inv: torch.Size([26880, 8, 8])\n",
      "indexes: torch.Size([2688, 8])\n",
      "Expanded shape torch.Size([26880, 8])\n"
     ]
    },
    {
     "name": "stderr",
     "output_type": "stream",
     "text": [
      "\n",
      " 59%|██████████████████████████████████████████████████████▌                                     | 593/1000 [02:03<01:24,  4.80it/s]\u001b[A"
     ]
    },
    {
     "name": "stdout",
     "output_type": "stream",
     "text": [
      "distances: torch.Size([2688, 1000])\n",
      "Indexes shape:  torch.Size([2688, 8])\n",
      "Kxz: torch.Size([26880, 1000])\n",
      "kzz_inv: torch.Size([26880, 8, 8])\n",
      "indexes: torch.Size([2688, 8])\n",
      "Expanded shape torch.Size([26880, 8])\n"
     ]
    },
    {
     "name": "stderr",
     "output_type": "stream",
     "text": [
      "\n",
      " 59%|██████████████████████████████████████████████████████▋                                     | 594/1000 [02:04<01:24,  4.80it/s]\u001b[A"
     ]
    },
    {
     "name": "stdout",
     "output_type": "stream",
     "text": [
      "distances: torch.Size([2688, 1000])\n",
      "Indexes shape:  torch.Size([2688, 8])\n",
      "Kxz: torch.Size([26880, 1000])\n",
      "kzz_inv: torch.Size([26880, 8, 8])\n",
      "indexes: torch.Size([2688, 8])\n",
      "Expanded shape torch.Size([26880, 8])\n"
     ]
    },
    {
     "name": "stderr",
     "output_type": "stream",
     "text": [
      "\n",
      " 60%|██████████████████████████████████████████████████████▋                                     | 595/1000 [02:04<01:24,  4.80it/s]\u001b[A"
     ]
    },
    {
     "name": "stdout",
     "output_type": "stream",
     "text": [
      "distances: torch.Size([2688, 1000])\n",
      "Indexes shape:  torch.Size([2688, 8])\n",
      "Kxz: torch.Size([26880, 1000])\n",
      "kzz_inv: torch.Size([26880, 8, 8])\n",
      "indexes: torch.Size([2688, 8])\n",
      "Expanded shape torch.Size([26880, 8])\n"
     ]
    },
    {
     "name": "stderr",
     "output_type": "stream",
     "text": [
      "\n",
      " 60%|██████████████████████████████████████████████████████▊                                     | 596/1000 [02:04<01:24,  4.80it/s]\u001b[A"
     ]
    },
    {
     "name": "stdout",
     "output_type": "stream",
     "text": [
      "distances: torch.Size([2688, 1000])\n",
      "Indexes shape:  torch.Size([2688, 8])\n",
      "Kxz: torch.Size([26880, 1000])\n",
      "kzz_inv: torch.Size([26880, 8, 8])\n",
      "indexes: torch.Size([2688, 8])\n",
      "Expanded shape torch.Size([26880, 8])\n"
     ]
    },
    {
     "name": "stderr",
     "output_type": "stream",
     "text": [
      "\n",
      " 60%|██████████████████████████████████████████████████████▉                                     | 597/1000 [02:04<01:24,  4.80it/s]\u001b[A"
     ]
    },
    {
     "name": "stdout",
     "output_type": "stream",
     "text": [
      "distances: torch.Size([2688, 1000])\n",
      "Indexes shape:  torch.Size([2688, 8])\n",
      "Kxz: torch.Size([26880, 1000])\n",
      "kzz_inv: torch.Size([26880, 8, 8])\n",
      "indexes: torch.Size([2688, 8])\n",
      "Expanded shape torch.Size([26880, 8])\n"
     ]
    },
    {
     "name": "stderr",
     "output_type": "stream",
     "text": [
      "\n",
      " 60%|███████████████████████████████████████████████████████                                     | 598/1000 [02:04<01:23,  4.80it/s]\u001b[A"
     ]
    },
    {
     "name": "stdout",
     "output_type": "stream",
     "text": [
      "distances: torch.Size([2688, 1000])\n",
      "Indexes shape:  torch.Size([2688, 8])\n",
      "Kxz: torch.Size([26880, 1000])\n",
      "kzz_inv: torch.Size([26880, 8, 8])\n",
      "indexes: torch.Size([2688, 8])\n",
      "Expanded shape torch.Size([26880, 8])\n"
     ]
    },
    {
     "name": "stderr",
     "output_type": "stream",
     "text": [
      "\n",
      " 60%|███████████████████████████████████████████████████████                                     | 599/1000 [02:05<01:23,  4.80it/s]\u001b[A"
     ]
    },
    {
     "name": "stdout",
     "output_type": "stream",
     "text": [
      "distances: torch.Size([2688, 1000])\n",
      "Indexes shape:  torch.Size([2688, 8])\n",
      "Kxz: torch.Size([26880, 1000])\n",
      "kzz_inv: torch.Size([26880, 8, 8])\n",
      "indexes: torch.Size([2688, 8])\n",
      "Expanded shape torch.Size([26880, 8])\n"
     ]
    },
    {
     "name": "stderr",
     "output_type": "stream",
     "text": [
      "\n",
      " 60%|███████████████████████████████████████████████████████▏                                    | 600/1000 [02:05<01:23,  4.80it/s]\u001b[A"
     ]
    },
    {
     "name": "stdout",
     "output_type": "stream",
     "text": [
      "distances: torch.Size([2688, 1000])\n",
      "Indexes shape:  torch.Size([2688, 8])\n",
      "Kxz: torch.Size([26880, 1000])\n",
      "kzz_inv: torch.Size([26880, 8, 8])\n",
      "indexes: torch.Size([2688, 8])\n",
      "Expanded shape torch.Size([26880, 8])\n"
     ]
    },
    {
     "name": "stderr",
     "output_type": "stream",
     "text": [
      "\n",
      " 60%|███████████████████████████████████████████████████████▎                                    | 601/1000 [02:05<01:23,  4.79it/s]\u001b[A"
     ]
    },
    {
     "name": "stdout",
     "output_type": "stream",
     "text": [
      "distances: torch.Size([2688, 1000])\n",
      "Indexes shape:  torch.Size([2688, 8])\n",
      "Kxz: torch.Size([26880, 1000])\n",
      "kzz_inv: torch.Size([26880, 8, 8])\n",
      "indexes: torch.Size([2688, 8])\n",
      "Expanded shape torch.Size([26880, 8])\n"
     ]
    },
    {
     "name": "stderr",
     "output_type": "stream",
     "text": [
      "\n",
      " 60%|███████████████████████████████████████████████████████▍                                    | 602/1000 [02:05<01:22,  4.80it/s]\u001b[A"
     ]
    },
    {
     "name": "stdout",
     "output_type": "stream",
     "text": [
      "distances: torch.Size([2688, 1000])\n",
      "Indexes shape:  torch.Size([2688, 8])\n",
      "Kxz: torch.Size([26880, 1000])\n",
      "kzz_inv: torch.Size([26880, 8, 8])\n",
      "indexes: torch.Size([2688, 8])\n",
      "Expanded shape torch.Size([26880, 8])\n"
     ]
    },
    {
     "name": "stderr",
     "output_type": "stream",
     "text": [
      "\n",
      " 60%|███████████████████████████████████████████████████████▍                                    | 603/1000 [02:05<01:22,  4.80it/s]\u001b[A"
     ]
    },
    {
     "name": "stdout",
     "output_type": "stream",
     "text": [
      "distances: torch.Size([2688, 1000])\n",
      "Indexes shape:  torch.Size([2688, 8])\n",
      "Kxz: torch.Size([26880, 1000])\n",
      "kzz_inv: torch.Size([26880, 8, 8])\n",
      "indexes: torch.Size([2688, 8])\n",
      "Expanded shape torch.Size([26880, 8])\n"
     ]
    },
    {
     "name": "stderr",
     "output_type": "stream",
     "text": [
      "\n",
      " 60%|███████████████████████████████████████████████████████▌                                    | 604/1000 [02:06<01:22,  4.80it/s]\u001b[A"
     ]
    },
    {
     "name": "stdout",
     "output_type": "stream",
     "text": [
      "distances: torch.Size([2688, 1000])\n",
      "Indexes shape:  torch.Size([2688, 8])\n",
      "Kxz: torch.Size([26880, 1000])\n",
      "kzz_inv: torch.Size([26880, 8, 8])\n",
      "indexes: torch.Size([2688, 8])\n",
      "Expanded shape torch.Size([26880, 8])\n"
     ]
    },
    {
     "name": "stderr",
     "output_type": "stream",
     "text": [
      "\n",
      " 60%|███████████████████████████████████████████████████████▋                                    | 605/1000 [02:06<01:22,  4.80it/s]\u001b[A"
     ]
    },
    {
     "name": "stdout",
     "output_type": "stream",
     "text": [
      "distances: torch.Size([2688, 1000])\n",
      "Indexes shape:  torch.Size([2688, 8])\n",
      "Kxz: torch.Size([26880, 1000])\n",
      "kzz_inv: torch.Size([26880, 8, 8])\n",
      "indexes: torch.Size([2688, 8])\n",
      "Expanded shape torch.Size([26880, 8])\n"
     ]
    },
    {
     "name": "stderr",
     "output_type": "stream",
     "text": [
      "\n",
      " 61%|███████████████████████████████████████████████████████▊                                    | 606/1000 [02:06<01:22,  4.80it/s]\u001b[A"
     ]
    },
    {
     "name": "stdout",
     "output_type": "stream",
     "text": [
      "distances: torch.Size([2688, 1000])\n",
      "Indexes shape:  torch.Size([2688, 8])\n",
      "Kxz: torch.Size([26880, 1000])\n",
      "kzz_inv: torch.Size([26880, 8, 8])\n",
      "indexes: torch.Size([2688, 8])\n",
      "Expanded shape torch.Size([26880, 8])\n"
     ]
    },
    {
     "name": "stderr",
     "output_type": "stream",
     "text": [
      "\n",
      " 61%|███████████████████████████████████████████████████████▊                                    | 607/1000 [02:06<01:21,  4.80it/s]\u001b[A"
     ]
    },
    {
     "name": "stdout",
     "output_type": "stream",
     "text": [
      "distances: torch.Size([2688, 1000])\n",
      "Indexes shape:  torch.Size([2688, 8])\n",
      "Kxz: torch.Size([26880, 1000])\n",
      "kzz_inv: torch.Size([26880, 8, 8])\n",
      "indexes: torch.Size([2688, 8])\n",
      "Expanded shape torch.Size([26880, 8])\n"
     ]
    },
    {
     "name": "stderr",
     "output_type": "stream",
     "text": [
      "\n",
      " 61%|███████████████████████████████████████████████████████▉                                    | 608/1000 [02:07<01:21,  4.80it/s]\u001b[A"
     ]
    },
    {
     "name": "stdout",
     "output_type": "stream",
     "text": [
      "distances: torch.Size([2688, 1000])\n",
      "Indexes shape:  torch.Size([2688, 8])\n",
      "Kxz: torch.Size([26880, 1000])\n",
      "kzz_inv: torch.Size([26880, 8, 8])\n",
      "indexes: torch.Size([2688, 8])\n",
      "Expanded shape torch.Size([26880, 8])\n"
     ]
    },
    {
     "name": "stderr",
     "output_type": "stream",
     "text": [
      "\n",
      " 61%|████████████████████████████████████████████████████████                                    | 609/1000 [02:07<01:21,  4.80it/s]\u001b[A"
     ]
    },
    {
     "name": "stdout",
     "output_type": "stream",
     "text": [
      "distances: torch.Size([2688, 1000])\n",
      "Indexes shape:  torch.Size([2688, 8])\n",
      "Kxz: torch.Size([26880, 1000])\n",
      "kzz_inv: torch.Size([26880, 8, 8])\n",
      "indexes: torch.Size([2688, 8])\n",
      "Expanded shape torch.Size([26880, 8])\n"
     ]
    },
    {
     "name": "stderr",
     "output_type": "stream",
     "text": [
      "\n",
      " 61%|████████████████████████████████████████████████████████                                    | 610/1000 [02:07<01:21,  4.81it/s]\u001b[A"
     ]
    },
    {
     "name": "stdout",
     "output_type": "stream",
     "text": [
      "distances: torch.Size([2688, 1000])\n",
      "Indexes shape:  torch.Size([2688, 8])\n",
      "Kxz: torch.Size([26880, 1000])\n",
      "kzz_inv: torch.Size([26880, 8, 8])\n",
      "indexes: torch.Size([2688, 8])\n",
      "Expanded shape torch.Size([26880, 8])\n"
     ]
    },
    {
     "name": "stderr",
     "output_type": "stream",
     "text": [
      "\n",
      " 61%|████████████████████████████████████████████████████████▏                                   | 611/1000 [02:07<01:20,  4.80it/s]\u001b[A"
     ]
    },
    {
     "name": "stdout",
     "output_type": "stream",
     "text": [
      "distances: torch.Size([2688, 1000])\n",
      "Indexes shape:  torch.Size([2688, 8])\n",
      "Kxz: torch.Size([26880, 1000])\n",
      "kzz_inv: torch.Size([26880, 8, 8])\n",
      "indexes: torch.Size([2688, 8])\n",
      "Expanded shape torch.Size([26880, 8])\n"
     ]
    },
    {
     "name": "stderr",
     "output_type": "stream",
     "text": [
      "\n",
      " 61%|████████████████████████████████████████████████████████▎                                   | 612/1000 [02:07<01:20,  4.80it/s]\u001b[A"
     ]
    },
    {
     "name": "stdout",
     "output_type": "stream",
     "text": [
      "distances: torch.Size([2688, 1000])\n",
      "Indexes shape:  torch.Size([2688, 8])\n",
      "Kxz: torch.Size([26880, 1000])\n",
      "kzz_inv: torch.Size([26880, 8, 8])\n",
      "indexes: torch.Size([2688, 8])\n",
      "Expanded shape torch.Size([26880, 8])\n"
     ]
    },
    {
     "name": "stderr",
     "output_type": "stream",
     "text": [
      "\n",
      " 61%|████████████████████████████████████████████████████████▍                                   | 613/1000 [02:08<01:20,  4.80it/s]\u001b[A"
     ]
    },
    {
     "name": "stdout",
     "output_type": "stream",
     "text": [
      "distances: torch.Size([2688, 1000])\n",
      "Indexes shape:  torch.Size([2688, 8])\n",
      "Kxz: torch.Size([26880, 1000])\n",
      "kzz_inv: torch.Size([26880, 8, 8])\n",
      "indexes: torch.Size([2688, 8])\n",
      "Expanded shape torch.Size([26880, 8])\n"
     ]
    },
    {
     "name": "stderr",
     "output_type": "stream",
     "text": [
      "\n",
      " 61%|████████████████████████████████████████████████████████▍                                   | 614/1000 [02:08<01:20,  4.81it/s]\u001b[A"
     ]
    },
    {
     "name": "stdout",
     "output_type": "stream",
     "text": [
      "distances: torch.Size([2688, 1000])\n",
      "Indexes shape:  torch.Size([2688, 8])\n",
      "Kxz: torch.Size([26880, 1000])\n",
      "kzz_inv: torch.Size([26880, 8, 8])\n",
      "indexes: torch.Size([2688, 8])\n",
      "Expanded shape torch.Size([26880, 8])\n"
     ]
    },
    {
     "name": "stderr",
     "output_type": "stream",
     "text": [
      "\n",
      " 62%|████████████████████████████████████████████████████████▌                                   | 615/1000 [02:08<01:20,  4.80it/s]\u001b[A"
     ]
    },
    {
     "name": "stdout",
     "output_type": "stream",
     "text": [
      "distances: torch.Size([2688, 1000])\n",
      "Indexes shape:  torch.Size([2688, 8])\n",
      "Kxz: torch.Size([26880, 1000])\n",
      "kzz_inv: torch.Size([26880, 8, 8])\n",
      "indexes: torch.Size([2688, 8])\n",
      "Expanded shape torch.Size([26880, 8])\n"
     ]
    },
    {
     "name": "stderr",
     "output_type": "stream",
     "text": [
      "\n",
      " 62%|████████████████████████████████████████████████████████▋                                   | 616/1000 [02:08<01:19,  4.81it/s]\u001b[A"
     ]
    },
    {
     "name": "stdout",
     "output_type": "stream",
     "text": [
      "distances: torch.Size([2688, 1000])\n",
      "Indexes shape:  torch.Size([2688, 8])\n",
      "Kxz: torch.Size([26880, 1000])\n",
      "kzz_inv: torch.Size([26880, 8, 8])\n",
      "indexes: torch.Size([2688, 8])\n",
      "Expanded shape torch.Size([26880, 8])\n"
     ]
    },
    {
     "name": "stderr",
     "output_type": "stream",
     "text": [
      "\n",
      " 62%|████████████████████████████████████████████████████████▊                                   | 617/1000 [02:08<01:19,  4.80it/s]\u001b[A"
     ]
    },
    {
     "name": "stdout",
     "output_type": "stream",
     "text": [
      "distances: torch.Size([2688, 1000])\n",
      "Indexes shape:  torch.Size([2688, 8])\n",
      "Kxz: torch.Size([26880, 1000])\n",
      "kzz_inv: torch.Size([26880, 8, 8])\n",
      "indexes: torch.Size([2688, 8])\n",
      "Expanded shape torch.Size([26880, 8])\n"
     ]
    },
    {
     "name": "stderr",
     "output_type": "stream",
     "text": [
      "\n",
      " 62%|████████████████████████████████████████████████████████▊                                   | 618/1000 [02:09<01:19,  4.80it/s]\u001b[A"
     ]
    },
    {
     "name": "stdout",
     "output_type": "stream",
     "text": [
      "distances: torch.Size([2688, 1000])\n",
      "Indexes shape:  torch.Size([2688, 8])\n",
      "Kxz: torch.Size([26880, 1000])\n",
      "kzz_inv: torch.Size([26880, 8, 8])\n",
      "indexes: torch.Size([2688, 8])\n",
      "Expanded shape torch.Size([26880, 8])\n"
     ]
    },
    {
     "name": "stderr",
     "output_type": "stream",
     "text": [
      "\n",
      " 62%|████████████████████████████████████████████████████████▉                                   | 619/1000 [02:09<01:19,  4.80it/s]\u001b[A"
     ]
    },
    {
     "name": "stdout",
     "output_type": "stream",
     "text": [
      "distances: torch.Size([2688, 1000])\n",
      "Indexes shape:  torch.Size([2688, 8])\n",
      "Kxz: torch.Size([26880, 1000])\n",
      "kzz_inv: torch.Size([26880, 8, 8])\n",
      "indexes: torch.Size([2688, 8])\n",
      "Expanded shape torch.Size([26880, 8])\n"
     ]
    },
    {
     "name": "stderr",
     "output_type": "stream",
     "text": [
      "\n",
      " 62%|█████████████████████████████████████████████████████████                                   | 620/1000 [02:09<01:19,  4.80it/s]\u001b[A"
     ]
    },
    {
     "name": "stdout",
     "output_type": "stream",
     "text": [
      "distances: torch.Size([2688, 1000])\n",
      "Indexes shape:  torch.Size([2688, 8])\n",
      "Kxz: torch.Size([26880, 1000])\n",
      "kzz_inv: torch.Size([26880, 8, 8])\n",
      "indexes: torch.Size([2688, 8])\n",
      "Expanded shape torch.Size([26880, 8])\n"
     ]
    },
    {
     "name": "stderr",
     "output_type": "stream",
     "text": [
      "\n",
      " 62%|█████████████████████████████████████████████████████████▏                                  | 621/1000 [02:09<01:19,  4.79it/s]\u001b[A"
     ]
    },
    {
     "name": "stdout",
     "output_type": "stream",
     "text": [
      "distances: torch.Size([2688, 1000])\n",
      "Indexes shape:  torch.Size([2688, 8])\n",
      "Kxz: torch.Size([26880, 1000])\n",
      "kzz_inv: torch.Size([26880, 8, 8])\n",
      "indexes: torch.Size([2688, 8])\n",
      "Expanded shape torch.Size([26880, 8])\n"
     ]
    },
    {
     "name": "stderr",
     "output_type": "stream",
     "text": [
      "\n",
      " 62%|█████████████████████████████████████████████████████████▏                                  | 622/1000 [02:09<01:18,  4.80it/s]\u001b[A"
     ]
    },
    {
     "name": "stdout",
     "output_type": "stream",
     "text": [
      "distances: torch.Size([2688, 1000])\n",
      "Indexes shape:  torch.Size([2688, 8])\n",
      "Kxz: torch.Size([26880, 1000])\n",
      "kzz_inv: torch.Size([26880, 8, 8])\n",
      "indexes: torch.Size([2688, 8])\n",
      "Expanded shape torch.Size([26880, 8])\n"
     ]
    },
    {
     "name": "stderr",
     "output_type": "stream",
     "text": [
      "\n",
      " 62%|█████████████████████████████████████████████████████████▎                                  | 623/1000 [02:10<01:18,  4.80it/s]\u001b[A"
     ]
    },
    {
     "name": "stdout",
     "output_type": "stream",
     "text": [
      "distances: torch.Size([2688, 1000])\n",
      "Indexes shape:  torch.Size([2688, 8])\n",
      "Kxz: torch.Size([26880, 1000])\n",
      "kzz_inv: torch.Size([26880, 8, 8])\n",
      "indexes: torch.Size([2688, 8])\n",
      "Expanded shape torch.Size([26880, 8])\n"
     ]
    },
    {
     "name": "stderr",
     "output_type": "stream",
     "text": [
      "\n",
      " 62%|█████████████████████████████████████████████████████████▍                                  | 624/1000 [02:10<01:18,  4.80it/s]\u001b[A"
     ]
    },
    {
     "name": "stdout",
     "output_type": "stream",
     "text": [
      "distances: torch.Size([2688, 1000])\n",
      "Indexes shape:  torch.Size([2688, 8])\n",
      "Kxz: torch.Size([26880, 1000])\n",
      "kzz_inv: torch.Size([26880, 8, 8])\n",
      "indexes: torch.Size([2688, 8])\n",
      "Expanded shape torch.Size([26880, 8])\n"
     ]
    },
    {
     "name": "stderr",
     "output_type": "stream",
     "text": [
      "\n",
      " 62%|█████████████████████████████████████████████████████████▌                                  | 625/1000 [02:10<01:18,  4.80it/s]\u001b[A"
     ]
    },
    {
     "name": "stdout",
     "output_type": "stream",
     "text": [
      "distances: torch.Size([2688, 1000])\n",
      "Indexes shape:  torch.Size([2688, 8])\n",
      "Kxz: torch.Size([26880, 1000])\n",
      "kzz_inv: torch.Size([26880, 8, 8])\n",
      "indexes: torch.Size([2688, 8])\n",
      "Expanded shape torch.Size([26880, 8])\n"
     ]
    },
    {
     "name": "stderr",
     "output_type": "stream",
     "text": [
      "\n",
      " 63%|█████████████████████████████████████████████████████████▌                                  | 626/1000 [02:10<01:17,  4.80it/s]\u001b[A"
     ]
    },
    {
     "name": "stdout",
     "output_type": "stream",
     "text": [
      "distances: torch.Size([2688, 1000])\n",
      "Indexes shape:  torch.Size([2688, 8])\n",
      "Kxz: torch.Size([26880, 1000])\n",
      "kzz_inv: torch.Size([26880, 8, 8])\n",
      "indexes: torch.Size([2688, 8])\n",
      "Expanded shape torch.Size([26880, 8])\n"
     ]
    },
    {
     "name": "stderr",
     "output_type": "stream",
     "text": [
      "\n",
      " 63%|█████████████████████████████████████████████████████████▋                                  | 627/1000 [02:10<01:17,  4.80it/s]\u001b[A"
     ]
    },
    {
     "name": "stdout",
     "output_type": "stream",
     "text": [
      "distances: torch.Size([2688, 1000])\n",
      "Indexes shape:  torch.Size([2688, 8])\n",
      "Kxz: torch.Size([26880, 1000])\n",
      "kzz_inv: torch.Size([26880, 8, 8])\n",
      "indexes: torch.Size([2688, 8])\n",
      "Expanded shape torch.Size([26880, 8])\n"
     ]
    },
    {
     "name": "stderr",
     "output_type": "stream",
     "text": [
      "\n",
      " 63%|█████████████████████████████████████████████████████████▊                                  | 628/1000 [02:11<01:17,  4.80it/s]\u001b[A"
     ]
    },
    {
     "name": "stdout",
     "output_type": "stream",
     "text": [
      "distances: torch.Size([2688, 1000])\n",
      "Indexes shape:  torch.Size([2688, 8])\n",
      "Kxz: torch.Size([26880, 1000])\n",
      "kzz_inv: torch.Size([26880, 8, 8])\n",
      "indexes: torch.Size([2688, 8])\n",
      "Expanded shape torch.Size([26880, 8])\n"
     ]
    },
    {
     "name": "stderr",
     "output_type": "stream",
     "text": [
      "\n",
      " 63%|█████████████████████████████████████████████████████████▊                                  | 629/1000 [02:11<01:17,  4.80it/s]\u001b[A"
     ]
    },
    {
     "name": "stdout",
     "output_type": "stream",
     "text": [
      "distances: torch.Size([2688, 1000])\n",
      "Indexes shape:  torch.Size([2688, 8])\n",
      "Kxz: torch.Size([26880, 1000])\n",
      "kzz_inv: torch.Size([26880, 8, 8])\n",
      "indexes: torch.Size([2688, 8])\n",
      "Expanded shape torch.Size([26880, 8])\n"
     ]
    },
    {
     "name": "stderr",
     "output_type": "stream",
     "text": [
      "\n",
      " 63%|█████████████████████████████████████████████████████████▉                                  | 630/1000 [02:11<01:17,  4.79it/s]\u001b[A"
     ]
    },
    {
     "name": "stdout",
     "output_type": "stream",
     "text": [
      "distances: torch.Size([2688, 1000])\n",
      "Indexes shape:  torch.Size([2688, 8])\n",
      "Kxz: torch.Size([26880, 1000])\n",
      "kzz_inv: torch.Size([26880, 8, 8])\n",
      "indexes: torch.Size([2688, 8])\n",
      "Expanded shape torch.Size([26880, 8])\n"
     ]
    },
    {
     "name": "stderr",
     "output_type": "stream",
     "text": [
      "\n",
      " 63%|██████████████████████████████████████████████████████████                                  | 631/1000 [02:11<01:16,  4.79it/s]\u001b[A"
     ]
    },
    {
     "name": "stdout",
     "output_type": "stream",
     "text": [
      "distances: torch.Size([2688, 1000])\n",
      "Indexes shape:  torch.Size([2688, 8])\n",
      "Kxz: torch.Size([26880, 1000])\n",
      "kzz_inv: torch.Size([26880, 8, 8])\n",
      "indexes: torch.Size([2688, 8])\n",
      "Expanded shape torch.Size([26880, 8])\n"
     ]
    },
    {
     "name": "stderr",
     "output_type": "stream",
     "text": [
      "\n",
      " 63%|██████████████████████████████████████████████████████████▏                                 | 632/1000 [02:12<01:16,  4.79it/s]\u001b[A"
     ]
    },
    {
     "name": "stdout",
     "output_type": "stream",
     "text": [
      "distances: torch.Size([2688, 1000])\n",
      "Indexes shape:  torch.Size([2688, 8])\n",
      "Kxz: torch.Size([26880, 1000])\n",
      "kzz_inv: torch.Size([26880, 8, 8])\n",
      "indexes: torch.Size([2688, 8])\n",
      "Expanded shape torch.Size([26880, 8])\n"
     ]
    },
    {
     "name": "stderr",
     "output_type": "stream",
     "text": [
      "\n",
      " 63%|██████████████████████████████████████████████████████████▏                                 | 633/1000 [02:12<01:16,  4.79it/s]\u001b[A"
     ]
    },
    {
     "name": "stdout",
     "output_type": "stream",
     "text": [
      "distances: torch.Size([2688, 1000])\n",
      "Indexes shape:  torch.Size([2688, 8])\n",
      "Kxz: torch.Size([26880, 1000])\n",
      "kzz_inv: torch.Size([26880, 8, 8])\n",
      "indexes: torch.Size([2688, 8])\n",
      "Expanded shape torch.Size([26880, 8])\n"
     ]
    },
    {
     "name": "stderr",
     "output_type": "stream",
     "text": [
      "\n",
      " 63%|██████████████████████████████████████████████████████████▎                                 | 634/1000 [02:12<01:16,  4.79it/s]\u001b[A"
     ]
    },
    {
     "name": "stdout",
     "output_type": "stream",
     "text": [
      "distances: torch.Size([2688, 1000])\n",
      "Indexes shape:  torch.Size([2688, 8])\n",
      "Kxz: torch.Size([26880, 1000])\n",
      "kzz_inv: torch.Size([26880, 8, 8])\n",
      "indexes: torch.Size([2688, 8])\n",
      "Expanded shape torch.Size([26880, 8])\n"
     ]
    },
    {
     "name": "stderr",
     "output_type": "stream",
     "text": [
      "\n",
      " 64%|██████████████████████████████████████████████████████████▍                                 | 635/1000 [02:12<01:16,  4.79it/s]\u001b[A"
     ]
    },
    {
     "name": "stdout",
     "output_type": "stream",
     "text": [
      "distances: torch.Size([2688, 1000])\n",
      "Indexes shape:  torch.Size([2688, 8])\n",
      "Kxz: torch.Size([26880, 1000])\n",
      "kzz_inv: torch.Size([26880, 8, 8])\n",
      "indexes: torch.Size([2688, 8])\n",
      "Expanded shape torch.Size([26880, 8])\n"
     ]
    },
    {
     "name": "stderr",
     "output_type": "stream",
     "text": [
      "\n",
      " 64%|██████████████████████████████████████████████████████████▌                                 | 636/1000 [02:12<01:15,  4.79it/s]\u001b[A"
     ]
    },
    {
     "name": "stdout",
     "output_type": "stream",
     "text": [
      "distances: torch.Size([2688, 1000])\n",
      "Indexes shape:  torch.Size([2688, 8])\n",
      "Kxz: torch.Size([26880, 1000])\n",
      "kzz_inv: torch.Size([26880, 8, 8])\n",
      "indexes: torch.Size([2688, 8])\n",
      "Expanded shape torch.Size([26880, 8])\n"
     ]
    },
    {
     "name": "stderr",
     "output_type": "stream",
     "text": [
      "\n",
      " 64%|██████████████████████████████████████████████████████████▌                                 | 637/1000 [02:13<01:15,  4.80it/s]\u001b[A"
     ]
    },
    {
     "name": "stdout",
     "output_type": "stream",
     "text": [
      "distances: torch.Size([2688, 1000])\n",
      "Indexes shape:  torch.Size([2688, 8])\n",
      "Kxz: torch.Size([26880, 1000])\n",
      "kzz_inv: torch.Size([26880, 8, 8])\n",
      "indexes: torch.Size([2688, 8])\n",
      "Expanded shape torch.Size([26880, 8])\n"
     ]
    },
    {
     "name": "stderr",
     "output_type": "stream",
     "text": [
      "\n",
      " 64%|██████████████████████████████████████████████████████████▋                                 | 638/1000 [02:13<01:15,  4.80it/s]\u001b[A"
     ]
    },
    {
     "name": "stdout",
     "output_type": "stream",
     "text": [
      "distances: torch.Size([2688, 1000])\n",
      "Indexes shape:  torch.Size([2688, 8])\n",
      "Kxz: torch.Size([26880, 1000])\n",
      "kzz_inv: torch.Size([26880, 8, 8])\n",
      "indexes: torch.Size([2688, 8])\n",
      "Expanded shape torch.Size([26880, 8])\n"
     ]
    },
    {
     "name": "stderr",
     "output_type": "stream",
     "text": [
      "\n",
      " 64%|██████████████████████████████████████████████████████████▊                                 | 639/1000 [02:13<01:15,  4.80it/s]\u001b[A"
     ]
    },
    {
     "name": "stdout",
     "output_type": "stream",
     "text": [
      "distances: torch.Size([2688, 1000])\n",
      "Indexes shape:  torch.Size([2688, 8])\n",
      "Kxz: torch.Size([26880, 1000])\n",
      "kzz_inv: torch.Size([26880, 8, 8])\n",
      "indexes: torch.Size([2688, 8])\n",
      "Expanded shape torch.Size([26880, 8])\n"
     ]
    },
    {
     "name": "stderr",
     "output_type": "stream",
     "text": [
      "\n",
      " 64%|██████████████████████████████████████████████████████████▉                                 | 640/1000 [02:13<01:15,  4.80it/s]\u001b[A"
     ]
    },
    {
     "name": "stdout",
     "output_type": "stream",
     "text": [
      "distances: torch.Size([2688, 1000])\n",
      "Indexes shape:  torch.Size([2688, 8])\n",
      "Kxz: torch.Size([26880, 1000])\n",
      "kzz_inv: torch.Size([26880, 8, 8])\n",
      "indexes: torch.Size([2688, 8])\n",
      "Expanded shape torch.Size([26880, 8])\n"
     ]
    },
    {
     "name": "stderr",
     "output_type": "stream",
     "text": [
      "\n",
      " 64%|██████████████████████████████████████████████████████████▉                                 | 641/1000 [02:13<01:14,  4.79it/s]\u001b[A"
     ]
    },
    {
     "name": "stdout",
     "output_type": "stream",
     "text": [
      "distances: torch.Size([2688, 1000])\n",
      "Indexes shape:  torch.Size([2688, 8])\n",
      "Kxz: torch.Size([26880, 1000])\n",
      "kzz_inv: torch.Size([26880, 8, 8])\n",
      "indexes: torch.Size([2688, 8])\n",
      "Expanded shape torch.Size([26880, 8])\n"
     ]
    },
    {
     "name": "stderr",
     "output_type": "stream",
     "text": [
      "\n",
      " 64%|███████████████████████████████████████████████████████████                                 | 642/1000 [02:14<01:14,  4.80it/s]\u001b[A"
     ]
    },
    {
     "name": "stdout",
     "output_type": "stream",
     "text": [
      "distances: torch.Size([2688, 1000])\n",
      "Indexes shape:  torch.Size([2688, 8])\n",
      "Kxz: torch.Size([26880, 1000])\n",
      "kzz_inv: torch.Size([26880, 8, 8])\n",
      "indexes: torch.Size([2688, 8])\n",
      "Expanded shape torch.Size([26880, 8])\n"
     ]
    },
    {
     "name": "stderr",
     "output_type": "stream",
     "text": [
      "\n",
      " 64%|███████████████████████████████████████████████████████████▏                                | 643/1000 [02:14<01:14,  4.80it/s]\u001b[A"
     ]
    },
    {
     "name": "stdout",
     "output_type": "stream",
     "text": [
      "distances: torch.Size([2688, 1000])\n",
      "Indexes shape:  torch.Size([2688, 8])\n",
      "Kxz: torch.Size([26880, 1000])\n",
      "kzz_inv: torch.Size([26880, 8, 8])\n",
      "indexes: torch.Size([2688, 8])\n",
      "Expanded shape torch.Size([26880, 8])\n"
     ]
    },
    {
     "name": "stderr",
     "output_type": "stream",
     "text": [
      "\n",
      " 64%|███████████████████████████████████████████████████████████▏                                | 644/1000 [02:14<01:14,  4.79it/s]\u001b[A"
     ]
    },
    {
     "name": "stdout",
     "output_type": "stream",
     "text": [
      "distances: torch.Size([2688, 1000])\n",
      "Indexes shape:  torch.Size([2688, 8])\n",
      "Kxz: torch.Size([26880, 1000])\n",
      "kzz_inv: torch.Size([26880, 8, 8])\n",
      "indexes: torch.Size([2688, 8])\n",
      "Expanded shape torch.Size([26880, 8])\n"
     ]
    },
    {
     "name": "stderr",
     "output_type": "stream",
     "text": [
      "\n",
      " 64%|███████████████████████████████████████████████████████████▎                                | 645/1000 [02:14<01:14,  4.80it/s]\u001b[A"
     ]
    },
    {
     "name": "stdout",
     "output_type": "stream",
     "text": [
      "distances: torch.Size([2688, 1000])\n",
      "Indexes shape:  torch.Size([2688, 8])\n",
      "Kxz: torch.Size([26880, 1000])\n",
      "kzz_inv: torch.Size([26880, 8, 8])\n",
      "indexes: torch.Size([2688, 8])\n",
      "Expanded shape torch.Size([26880, 8])\n"
     ]
    },
    {
     "name": "stderr",
     "output_type": "stream",
     "text": [
      "\n",
      " 65%|███████████████████████████████████████████████████████████▍                                | 646/1000 [02:14<01:13,  4.80it/s]\u001b[A"
     ]
    },
    {
     "name": "stdout",
     "output_type": "stream",
     "text": [
      "distances: torch.Size([2688, 1000])\n",
      "Indexes shape:  torch.Size([2688, 8])\n",
      "Kxz: torch.Size([26880, 1000])\n",
      "kzz_inv: torch.Size([26880, 8, 8])\n",
      "indexes: torch.Size([2688, 8])\n",
      "Expanded shape torch.Size([26880, 8])\n"
     ]
    },
    {
     "name": "stderr",
     "output_type": "stream",
     "text": [
      "\n",
      " 65%|███████████████████████████████████████████████████████████▌                                | 647/1000 [02:15<01:13,  4.80it/s]\u001b[A"
     ]
    },
    {
     "name": "stdout",
     "output_type": "stream",
     "text": [
      "distances: torch.Size([2688, 1000])\n",
      "Indexes shape:  torch.Size([2688, 8])\n",
      "Kxz: torch.Size([26880, 1000])\n",
      "kzz_inv: torch.Size([26880, 8, 8])\n",
      "indexes: torch.Size([2688, 8])\n",
      "Expanded shape torch.Size([26880, 8])\n"
     ]
    },
    {
     "name": "stderr",
     "output_type": "stream",
     "text": [
      "\n",
      " 65%|███████████████████████████████████████████████████████████▌                                | 648/1000 [02:15<01:13,  4.80it/s]\u001b[A"
     ]
    },
    {
     "name": "stdout",
     "output_type": "stream",
     "text": [
      "distances: torch.Size([2688, 1000])\n",
      "Indexes shape:  torch.Size([2688, 8])\n",
      "Kxz: torch.Size([26880, 1000])\n",
      "kzz_inv: torch.Size([26880, 8, 8])\n",
      "indexes: torch.Size([2688, 8])\n",
      "Expanded shape torch.Size([26880, 8])\n"
     ]
    },
    {
     "name": "stderr",
     "output_type": "stream",
     "text": [
      "\n",
      " 65%|███████████████████████████████████████████████████████████▋                                | 649/1000 [02:15<01:13,  4.80it/s]\u001b[A"
     ]
    },
    {
     "name": "stdout",
     "output_type": "stream",
     "text": [
      "distances: torch.Size([2688, 1000])\n",
      "Indexes shape:  torch.Size([2688, 8])\n",
      "Kxz: torch.Size([26880, 1000])\n",
      "kzz_inv: torch.Size([26880, 8, 8])\n",
      "indexes: torch.Size([2688, 8])\n",
      "Expanded shape torch.Size([26880, 8])\n"
     ]
    },
    {
     "name": "stderr",
     "output_type": "stream",
     "text": [
      "\n",
      " 65%|███████████████████████████████████████████████████████████▊                                | 650/1000 [02:15<01:12,  4.80it/s]\u001b[A"
     ]
    },
    {
     "name": "stdout",
     "output_type": "stream",
     "text": [
      "distances: torch.Size([2688, 1000])\n",
      "Indexes shape:  torch.Size([2688, 8])\n",
      "Kxz: torch.Size([26880, 1000])\n",
      "kzz_inv: torch.Size([26880, 8, 8])\n",
      "indexes: torch.Size([2688, 8])\n",
      "Expanded shape torch.Size([26880, 8])\n"
     ]
    },
    {
     "name": "stderr",
     "output_type": "stream",
     "text": [
      "\n",
      " 65%|███████████████████████████████████████████████████████████▉                                | 651/1000 [02:15<01:12,  4.80it/s]\u001b[A"
     ]
    },
    {
     "name": "stdout",
     "output_type": "stream",
     "text": [
      "distances: torch.Size([2688, 1000])\n",
      "Indexes shape:  torch.Size([2688, 8])\n",
      "Kxz: torch.Size([26880, 1000])\n",
      "kzz_inv: torch.Size([26880, 8, 8])\n",
      "indexes: torch.Size([2688, 8])\n",
      "Expanded shape torch.Size([26880, 8])\n"
     ]
    },
    {
     "name": "stderr",
     "output_type": "stream",
     "text": [
      "\n",
      " 65%|███████████████████████████████████████████████████████████▉                                | 652/1000 [02:16<01:12,  4.80it/s]\u001b[A"
     ]
    },
    {
     "name": "stdout",
     "output_type": "stream",
     "text": [
      "distances: torch.Size([2688, 1000])\n",
      "Indexes shape:  torch.Size([2688, 8])\n",
      "Kxz: torch.Size([26880, 1000])\n",
      "kzz_inv: torch.Size([26880, 8, 8])\n",
      "indexes: torch.Size([2688, 8])\n",
      "Expanded shape torch.Size([26880, 8])\n"
     ]
    },
    {
     "name": "stderr",
     "output_type": "stream",
     "text": [
      "\n",
      " 65%|████████████████████████████████████████████████████████████                                | 653/1000 [02:16<01:12,  4.79it/s]\u001b[A"
     ]
    },
    {
     "name": "stdout",
     "output_type": "stream",
     "text": [
      "distances: torch.Size([2688, 1000])\n",
      "Indexes shape:  torch.Size([2688, 8])\n",
      "Kxz: torch.Size([26880, 1000])\n",
      "kzz_inv: torch.Size([26880, 8, 8])\n",
      "indexes: torch.Size([2688, 8])\n",
      "Expanded shape torch.Size([26880, 8])\n"
     ]
    },
    {
     "name": "stderr",
     "output_type": "stream",
     "text": [
      "\n",
      " 65%|████████████████████████████████████████████████████████████▏                               | 654/1000 [02:16<01:12,  4.80it/s]\u001b[A"
     ]
    },
    {
     "name": "stdout",
     "output_type": "stream",
     "text": [
      "distances: torch.Size([2688, 1000])\n",
      "Indexes shape:  torch.Size([2688, 8])\n",
      "Kxz: torch.Size([26880, 1000])\n",
      "kzz_inv: torch.Size([26880, 8, 8])\n",
      "indexes: torch.Size([2688, 8])\n",
      "Expanded shape torch.Size([26880, 8])\n"
     ]
    },
    {
     "name": "stderr",
     "output_type": "stream",
     "text": [
      "\n",
      " 66%|████████████████████████████████████████████████████████████▎                               | 655/1000 [02:16<01:11,  4.80it/s]\u001b[A"
     ]
    },
    {
     "name": "stdout",
     "output_type": "stream",
     "text": [
      "distances: torch.Size([2688, 1000])\n",
      "Indexes shape:  torch.Size([2688, 8])\n",
      "Kxz: torch.Size([26880, 1000])\n",
      "kzz_inv: torch.Size([26880, 8, 8])\n",
      "indexes: torch.Size([2688, 8])\n",
      "Expanded shape torch.Size([26880, 8])\n"
     ]
    },
    {
     "name": "stderr",
     "output_type": "stream",
     "text": [
      "\n",
      " 66%|████████████████████████████████████████████████████████████▎                               | 656/1000 [02:17<01:11,  4.80it/s]\u001b[A"
     ]
    },
    {
     "name": "stdout",
     "output_type": "stream",
     "text": [
      "distances: torch.Size([2688, 1000])\n",
      "Indexes shape:  torch.Size([2688, 8])\n",
      "Kxz: torch.Size([26880, 1000])\n",
      "kzz_inv: torch.Size([26880, 8, 8])\n",
      "indexes: torch.Size([2688, 8])\n",
      "Expanded shape torch.Size([26880, 8])\n"
     ]
    },
    {
     "name": "stderr",
     "output_type": "stream",
     "text": [
      "\n",
      " 66%|████████████████████████████████████████████████████████████▍                               | 657/1000 [02:17<01:11,  4.80it/s]\u001b[A"
     ]
    },
    {
     "name": "stdout",
     "output_type": "stream",
     "text": [
      "distances: torch.Size([2688, 1000])\n",
      "Indexes shape:  torch.Size([2688, 8])\n",
      "Kxz: torch.Size([26880, 1000])\n",
      "kzz_inv: torch.Size([26880, 8, 8])\n",
      "indexes: torch.Size([2688, 8])\n",
      "Expanded shape torch.Size([26880, 8])\n"
     ]
    },
    {
     "name": "stderr",
     "output_type": "stream",
     "text": [
      "\n",
      " 66%|████████████████████████████████████████████████████████████▌                               | 658/1000 [02:17<01:11,  4.80it/s]\u001b[A"
     ]
    },
    {
     "name": "stdout",
     "output_type": "stream",
     "text": [
      "distances: torch.Size([2688, 1000])\n",
      "Indexes shape:  torch.Size([2688, 8])\n",
      "Kxz: torch.Size([26880, 1000])\n",
      "kzz_inv: torch.Size([26880, 8, 8])\n",
      "indexes: torch.Size([2688, 8])\n",
      "Expanded shape torch.Size([26880, 8])\n"
     ]
    },
    {
     "name": "stderr",
     "output_type": "stream",
     "text": [
      "\n",
      " 66%|████████████████████████████████████████████████████████████▋                               | 659/1000 [02:17<01:11,  4.80it/s]\u001b[A"
     ]
    },
    {
     "name": "stdout",
     "output_type": "stream",
     "text": [
      "distances: torch.Size([2688, 1000])\n",
      "Indexes shape:  torch.Size([2688, 8])\n",
      "Kxz: torch.Size([26880, 1000])\n",
      "kzz_inv: torch.Size([26880, 8, 8])\n",
      "indexes: torch.Size([2688, 8])\n",
      "Expanded shape torch.Size([26880, 8])\n"
     ]
    },
    {
     "name": "stderr",
     "output_type": "stream",
     "text": [
      "\n",
      " 66%|████████████████████████████████████████████████████████████▋                               | 660/1000 [02:17<01:10,  4.80it/s]\u001b[A"
     ]
    },
    {
     "name": "stdout",
     "output_type": "stream",
     "text": [
      "distances: torch.Size([2688, 1000])\n",
      "Indexes shape:  torch.Size([2688, 8])\n",
      "Kxz: torch.Size([26880, 1000])\n",
      "kzz_inv: torch.Size([26880, 8, 8])\n",
      "indexes: torch.Size([2688, 8])\n",
      "Expanded shape torch.Size([26880, 8])\n"
     ]
    },
    {
     "name": "stderr",
     "output_type": "stream",
     "text": [
      "\n",
      " 66%|████████████████████████████████████████████████████████████▊                               | 661/1000 [02:18<01:10,  4.80it/s]\u001b[A"
     ]
    },
    {
     "name": "stdout",
     "output_type": "stream",
     "text": [
      "distances: torch.Size([2688, 1000])\n",
      "Indexes shape:  torch.Size([2688, 8])\n",
      "Kxz: torch.Size([26880, 1000])\n",
      "kzz_inv: torch.Size([26880, 8, 8])\n",
      "indexes: torch.Size([2688, 8])\n",
      "Expanded shape torch.Size([26880, 8])\n"
     ]
    },
    {
     "name": "stderr",
     "output_type": "stream",
     "text": [
      "\n",
      " 66%|████████████████████████████████████████████████████████████▉                               | 662/1000 [02:18<01:10,  4.80it/s]\u001b[A"
     ]
    },
    {
     "name": "stdout",
     "output_type": "stream",
     "text": [
      "distances: torch.Size([2688, 1000])\n",
      "Indexes shape:  torch.Size([2688, 8])\n",
      "Kxz: torch.Size([26880, 1000])\n",
      "kzz_inv: torch.Size([26880, 8, 8])\n",
      "indexes: torch.Size([2688, 8])\n",
      "Expanded shape torch.Size([26880, 8])\n"
     ]
    },
    {
     "name": "stderr",
     "output_type": "stream",
     "text": [
      "\n",
      " 66%|████████████████████████████████████████████████████████████▉                               | 663/1000 [02:18<01:10,  4.80it/s]\u001b[A"
     ]
    },
    {
     "name": "stdout",
     "output_type": "stream",
     "text": [
      "distances: torch.Size([2688, 1000])\n",
      "Indexes shape:  torch.Size([2688, 8])\n",
      "Kxz: torch.Size([26880, 1000])\n",
      "kzz_inv: torch.Size([26880, 8, 8])\n",
      "indexes: torch.Size([2688, 8])\n",
      "Expanded shape torch.Size([26880, 8])\n"
     ]
    },
    {
     "name": "stderr",
     "output_type": "stream",
     "text": [
      "\n",
      " 66%|█████████████████████████████████████████████████████████████                               | 664/1000 [02:18<01:10,  4.80it/s]\u001b[A"
     ]
    },
    {
     "name": "stdout",
     "output_type": "stream",
     "text": [
      "distances: torch.Size([2688, 1000])\n",
      "Indexes shape:  torch.Size([2688, 8])\n",
      "Kxz: torch.Size([26880, 1000])\n",
      "kzz_inv: torch.Size([26880, 8, 8])\n",
      "indexes: torch.Size([2688, 8])\n",
      "Expanded shape torch.Size([26880, 8])\n"
     ]
    },
    {
     "name": "stderr",
     "output_type": "stream",
     "text": [
      "\n",
      " 66%|█████████████████████████████████████████████████████████████▏                              | 665/1000 [02:18<01:09,  4.80it/s]\u001b[A"
     ]
    },
    {
     "name": "stdout",
     "output_type": "stream",
     "text": [
      "distances: torch.Size([2688, 1000])\n",
      "Indexes shape:  torch.Size([2688, 8])\n",
      "Kxz: torch.Size([26880, 1000])\n",
      "kzz_inv: torch.Size([26880, 8, 8])\n",
      "indexes: torch.Size([2688, 8])\n",
      "Expanded shape torch.Size([26880, 8])\n"
     ]
    },
    {
     "name": "stderr",
     "output_type": "stream",
     "text": [
      "\n",
      " 67%|█████████████████████████████████████████████████████████████▎                              | 666/1000 [02:19<01:09,  4.80it/s]\u001b[A"
     ]
    },
    {
     "name": "stdout",
     "output_type": "stream",
     "text": [
      "distances: torch.Size([2688, 1000])\n",
      "Indexes shape:  torch.Size([2688, 8])\n",
      "Kxz: torch.Size([26880, 1000])\n",
      "kzz_inv: torch.Size([26880, 8, 8])\n",
      "indexes: torch.Size([2688, 8])\n",
      "Expanded shape torch.Size([26880, 8])\n"
     ]
    },
    {
     "name": "stderr",
     "output_type": "stream",
     "text": [
      "\n",
      " 67%|█████████████████████████████████████████████████████████████▎                              | 667/1000 [02:19<01:09,  4.80it/s]\u001b[A"
     ]
    },
    {
     "name": "stdout",
     "output_type": "stream",
     "text": [
      "distances: torch.Size([2688, 1000])\n",
      "Indexes shape:  torch.Size([2688, 8])\n",
      "Kxz: torch.Size([26880, 1000])\n",
      "kzz_inv: torch.Size([26880, 8, 8])\n",
      "indexes: torch.Size([2688, 8])\n",
      "Expanded shape torch.Size([26880, 8])\n"
     ]
    },
    {
     "name": "stderr",
     "output_type": "stream",
     "text": [
      "\n",
      " 67%|█████████████████████████████████████████████████████████████▍                              | 668/1000 [02:19<01:09,  4.80it/s]\u001b[A"
     ]
    },
    {
     "name": "stdout",
     "output_type": "stream",
     "text": [
      "distances: torch.Size([2688, 1000])\n",
      "Indexes shape:  torch.Size([2688, 8])\n",
      "Kxz: torch.Size([26880, 1000])\n",
      "kzz_inv: torch.Size([26880, 8, 8])\n",
      "indexes: torch.Size([2688, 8])\n",
      "Expanded shape torch.Size([26880, 8])\n"
     ]
    },
    {
     "name": "stderr",
     "output_type": "stream",
     "text": [
      "\n",
      " 67%|█████████████████████████████████████████████████████████████▌                              | 669/1000 [02:19<01:08,  4.80it/s]\u001b[A"
     ]
    },
    {
     "name": "stdout",
     "output_type": "stream",
     "text": [
      "distances: torch.Size([2688, 1000])\n",
      "Indexes shape:  torch.Size([2688, 8])\n",
      "Kxz: torch.Size([26880, 1000])\n",
      "kzz_inv: torch.Size([26880, 8, 8])\n",
      "indexes: torch.Size([2688, 8])\n",
      "Expanded shape torch.Size([26880, 8])\n"
     ]
    },
    {
     "name": "stderr",
     "output_type": "stream",
     "text": [
      "\n",
      " 67%|█████████████████████████████████████████████████████████████▋                              | 670/1000 [02:19<01:08,  4.80it/s]\u001b[A"
     ]
    },
    {
     "name": "stdout",
     "output_type": "stream",
     "text": [
      "distances: torch.Size([2688, 1000])\n",
      "Indexes shape:  torch.Size([2688, 8])\n",
      "Kxz: torch.Size([26880, 1000])\n",
      "kzz_inv: torch.Size([26880, 8, 8])\n",
      "indexes: torch.Size([2688, 8])\n",
      "Expanded shape torch.Size([26880, 8])\n"
     ]
    },
    {
     "name": "stderr",
     "output_type": "stream",
     "text": [
      "\n",
      " 67%|█████████████████████████████████████████████████████████████▋                              | 671/1000 [02:20<01:08,  4.80it/s]\u001b[A"
     ]
    },
    {
     "name": "stdout",
     "output_type": "stream",
     "text": [
      "distances: torch.Size([2688, 1000])\n",
      "Indexes shape:  torch.Size([2688, 8])\n",
      "Kxz: torch.Size([26880, 1000])\n",
      "kzz_inv: torch.Size([26880, 8, 8])\n",
      "indexes: torch.Size([2688, 8])\n",
      "Expanded shape torch.Size([26880, 8])\n"
     ]
    },
    {
     "name": "stderr",
     "output_type": "stream",
     "text": [
      "\n",
      " 67%|█████████████████████████████████████████████████████████████▊                              | 672/1000 [02:20<01:08,  4.79it/s]\u001b[A"
     ]
    },
    {
     "name": "stdout",
     "output_type": "stream",
     "text": [
      "distances: torch.Size([2688, 1000])\n",
      "Indexes shape:  torch.Size([2688, 8])\n",
      "Kxz: torch.Size([26880, 1000])\n",
      "kzz_inv: torch.Size([26880, 8, 8])\n",
      "indexes: torch.Size([2688, 8])\n",
      "Expanded shape torch.Size([26880, 8])\n"
     ]
    },
    {
     "name": "stderr",
     "output_type": "stream",
     "text": [
      "\n",
      " 67%|█████████████████████████████████████████████████████████████▉                              | 673/1000 [02:20<01:08,  4.79it/s]\u001b[A"
     ]
    },
    {
     "name": "stdout",
     "output_type": "stream",
     "text": [
      "distances: torch.Size([2688, 1000])\n",
      "Indexes shape:  torch.Size([2688, 8])\n",
      "Kxz: torch.Size([26880, 1000])\n",
      "kzz_inv: torch.Size([26880, 8, 8])\n",
      "indexes: torch.Size([2688, 8])\n",
      "Expanded shape torch.Size([26880, 8])\n"
     ]
    },
    {
     "name": "stderr",
     "output_type": "stream",
     "text": [
      "\n",
      " 67%|██████████████████████████████████████████████████████████████                              | 674/1000 [02:20<01:08,  4.79it/s]\u001b[A"
     ]
    },
    {
     "name": "stdout",
     "output_type": "stream",
     "text": [
      "distances: torch.Size([2688, 1000])\n",
      "Indexes shape:  torch.Size([2688, 8])\n",
      "Kxz: torch.Size([26880, 1000])\n",
      "kzz_inv: torch.Size([26880, 8, 8])\n",
      "indexes: torch.Size([2688, 8])\n",
      "Expanded shape torch.Size([26880, 8])\n"
     ]
    },
    {
     "name": "stderr",
     "output_type": "stream",
     "text": [
      "\n",
      " 68%|██████████████████████████████████████████████████████████████                              | 675/1000 [02:20<01:07,  4.80it/s]\u001b[A"
     ]
    },
    {
     "name": "stdout",
     "output_type": "stream",
     "text": [
      "distances: torch.Size([2688, 1000])\n",
      "Indexes shape:  torch.Size([2688, 8])\n",
      "Kxz: torch.Size([26880, 1000])\n",
      "kzz_inv: torch.Size([26880, 8, 8])\n",
      "indexes: torch.Size([2688, 8])\n",
      "Expanded shape torch.Size([26880, 8])\n"
     ]
    },
    {
     "name": "stderr",
     "output_type": "stream",
     "text": [
      "\n",
      " 68%|██████████████████████████████████████████████████████████████▏                             | 676/1000 [02:21<01:07,  4.80it/s]\u001b[A"
     ]
    },
    {
     "name": "stdout",
     "output_type": "stream",
     "text": [
      "distances: torch.Size([2688, 1000])\n",
      "Indexes shape:  torch.Size([2688, 8])\n",
      "Kxz: torch.Size([26880, 1000])\n",
      "kzz_inv: torch.Size([26880, 8, 8])\n",
      "indexes: torch.Size([2688, 8])\n",
      "Expanded shape torch.Size([26880, 8])\n"
     ]
    },
    {
     "name": "stderr",
     "output_type": "stream",
     "text": [
      "\n",
      " 68%|██████████████████████████████████████████████████████████████▎                             | 677/1000 [02:21<01:07,  4.79it/s]\u001b[A"
     ]
    },
    {
     "name": "stdout",
     "output_type": "stream",
     "text": [
      "distances: torch.Size([2688, 1000])\n",
      "Indexes shape:  torch.Size([2688, 8])\n",
      "Kxz: torch.Size([26880, 1000])\n",
      "kzz_inv: torch.Size([26880, 8, 8])\n",
      "indexes: torch.Size([2688, 8])\n",
      "Expanded shape torch.Size([26880, 8])\n"
     ]
    },
    {
     "name": "stderr",
     "output_type": "stream",
     "text": [
      "\n",
      " 68%|██████████████████████████████████████████████████████████████▍                             | 678/1000 [02:21<01:07,  4.80it/s]\u001b[A"
     ]
    },
    {
     "name": "stdout",
     "output_type": "stream",
     "text": [
      "distances: torch.Size([2688, 1000])\n",
      "Indexes shape:  torch.Size([2688, 8])\n",
      "Kxz: torch.Size([26880, 1000])\n",
      "kzz_inv: torch.Size([26880, 8, 8])\n",
      "indexes: torch.Size([2688, 8])\n",
      "Expanded shape torch.Size([26880, 8])\n"
     ]
    },
    {
     "name": "stderr",
     "output_type": "stream",
     "text": [
      "\n",
      " 68%|██████████████████████████████████████████████████████████████▍                             | 679/1000 [02:21<01:06,  4.80it/s]\u001b[A"
     ]
    },
    {
     "name": "stdout",
     "output_type": "stream",
     "text": [
      "distances: torch.Size([2688, 1000])\n",
      "Indexes shape:  torch.Size([2688, 8])\n",
      "Kxz: torch.Size([26880, 1000])\n",
      "kzz_inv: torch.Size([26880, 8, 8])\n",
      "indexes: torch.Size([2688, 8])\n",
      "Expanded shape torch.Size([26880, 8])\n"
     ]
    },
    {
     "name": "stderr",
     "output_type": "stream",
     "text": [
      "\n",
      " 68%|██████████████████████████████████████████████████████████████▌                             | 680/1000 [02:22<01:06,  4.80it/s]\u001b[A"
     ]
    },
    {
     "name": "stdout",
     "output_type": "stream",
     "text": [
      "distances: torch.Size([2688, 1000])\n",
      "Indexes shape:  torch.Size([2688, 8])\n",
      "Kxz: torch.Size([26880, 1000])\n",
      "kzz_inv: torch.Size([26880, 8, 8])\n",
      "indexes: torch.Size([2688, 8])\n",
      "Expanded shape torch.Size([26880, 8])\n"
     ]
    },
    {
     "name": "stderr",
     "output_type": "stream",
     "text": [
      "\n",
      " 68%|██████████████████████████████████████████████████████████████▋                             | 681/1000 [02:22<01:06,  4.79it/s]\u001b[A"
     ]
    },
    {
     "name": "stdout",
     "output_type": "stream",
     "text": [
      "distances: torch.Size([2688, 1000])\n",
      "Indexes shape:  torch.Size([2688, 8])\n",
      "Kxz: torch.Size([26880, 1000])\n",
      "kzz_inv: torch.Size([26880, 8, 8])\n",
      "indexes: torch.Size([2688, 8])\n",
      "Expanded shape torch.Size([26880, 8])\n"
     ]
    },
    {
     "name": "stderr",
     "output_type": "stream",
     "text": [
      "\n",
      " 68%|██████████████████████████████████████████████████████████████▋                             | 682/1000 [02:22<01:06,  4.79it/s]\u001b[A"
     ]
    },
    {
     "name": "stdout",
     "output_type": "stream",
     "text": [
      "distances: torch.Size([2688, 1000])\n",
      "Indexes shape:  torch.Size([2688, 8])\n",
      "Kxz: torch.Size([26880, 1000])\n",
      "kzz_inv: torch.Size([26880, 8, 8])\n",
      "indexes: torch.Size([2688, 8])\n",
      "Expanded shape torch.Size([26880, 8])\n"
     ]
    },
    {
     "name": "stderr",
     "output_type": "stream",
     "text": [
      "\n",
      " 68%|██████████████████████████████████████████████████████████████▊                             | 683/1000 [02:22<01:06,  4.80it/s]\u001b[A"
     ]
    },
    {
     "name": "stdout",
     "output_type": "stream",
     "text": [
      "distances: torch.Size([2688, 1000])\n",
      "Indexes shape:  torch.Size([2688, 8])\n",
      "Kxz: torch.Size([26880, 1000])\n",
      "kzz_inv: torch.Size([26880, 8, 8])\n",
      "indexes: torch.Size([2688, 8])\n",
      "Expanded shape torch.Size([26880, 8])\n"
     ]
    },
    {
     "name": "stderr",
     "output_type": "stream",
     "text": [
      "\n",
      " 68%|██████████████████████████████████████████████████████████████▉                             | 684/1000 [02:22<01:05,  4.79it/s]\u001b[A"
     ]
    },
    {
     "name": "stdout",
     "output_type": "stream",
     "text": [
      "distances: torch.Size([2688, 1000])\n",
      "Indexes shape:  torch.Size([2688, 8])\n",
      "Kxz: torch.Size([26880, 1000])\n",
      "kzz_inv: torch.Size([26880, 8, 8])\n",
      "indexes: torch.Size([2688, 8])\n",
      "Expanded shape torch.Size([26880, 8])\n"
     ]
    },
    {
     "name": "stderr",
     "output_type": "stream",
     "text": [
      "\n",
      " 68%|███████████████████████████████████████████████████████████████                             | 685/1000 [02:23<01:05,  4.80it/s]\u001b[A"
     ]
    },
    {
     "name": "stdout",
     "output_type": "stream",
     "text": [
      "distances: torch.Size([2688, 1000])\n",
      "Indexes shape:  torch.Size([2688, 8])\n",
      "Kxz: torch.Size([26880, 1000])\n",
      "kzz_inv: torch.Size([26880, 8, 8])\n",
      "indexes: torch.Size([2688, 8])\n",
      "Expanded shape torch.Size([26880, 8])\n"
     ]
    },
    {
     "name": "stderr",
     "output_type": "stream",
     "text": [
      "\n",
      " 69%|███████████████████████████████████████████████████████████████                             | 686/1000 [02:23<01:05,  4.80it/s]\u001b[A"
     ]
    },
    {
     "name": "stdout",
     "output_type": "stream",
     "text": [
      "distances: torch.Size([2688, 1000])\n",
      "Indexes shape:  torch.Size([2688, 8])\n",
      "Kxz: torch.Size([26880, 1000])\n",
      "kzz_inv: torch.Size([26880, 8, 8])\n",
      "indexes: torch.Size([2688, 8])\n",
      "Expanded shape torch.Size([26880, 8])\n"
     ]
    },
    {
     "name": "stderr",
     "output_type": "stream",
     "text": [
      "\n",
      " 69%|███████████████████████████████████████████████████████████████▏                            | 687/1000 [02:23<01:05,  4.80it/s]\u001b[A"
     ]
    },
    {
     "name": "stdout",
     "output_type": "stream",
     "text": [
      "distances: torch.Size([2688, 1000])\n",
      "Indexes shape:  torch.Size([2688, 8])\n",
      "Kxz: torch.Size([26880, 1000])\n",
      "kzz_inv: torch.Size([26880, 8, 8])\n",
      "indexes: torch.Size([2688, 8])\n",
      "Expanded shape torch.Size([26880, 8])\n"
     ]
    },
    {
     "name": "stderr",
     "output_type": "stream",
     "text": [
      "\n",
      " 69%|███████████████████████████████████████████████████████████████▎                            | 688/1000 [02:23<01:05,  4.80it/s]\u001b[A"
     ]
    },
    {
     "name": "stdout",
     "output_type": "stream",
     "text": [
      "distances: torch.Size([2688, 1000])\n",
      "Indexes shape:  torch.Size([2688, 8])\n",
      "Kxz: torch.Size([26880, 1000])\n",
      "kzz_inv: torch.Size([26880, 8, 8])\n",
      "indexes: torch.Size([2688, 8])\n",
      "Expanded shape torch.Size([26880, 8])\n"
     ]
    },
    {
     "name": "stderr",
     "output_type": "stream",
     "text": [
      "\n",
      " 69%|███████████████████████████████████████████████████████████████▍                            | 689/1000 [02:23<01:04,  4.80it/s]\u001b[A"
     ]
    },
    {
     "name": "stdout",
     "output_type": "stream",
     "text": [
      "distances: torch.Size([2688, 1000])\n",
      "Indexes shape:  torch.Size([2688, 8])\n",
      "Kxz: torch.Size([26880, 1000])\n",
      "kzz_inv: torch.Size([26880, 8, 8])\n",
      "indexes: torch.Size([2688, 8])\n",
      "Expanded shape torch.Size([26880, 8])\n"
     ]
    },
    {
     "name": "stderr",
     "output_type": "stream",
     "text": [
      "\n",
      " 69%|███████████████████████████████████████████████████████████████▍                            | 690/1000 [02:24<01:04,  4.80it/s]\u001b[A"
     ]
    },
    {
     "name": "stdout",
     "output_type": "stream",
     "text": [
      "distances: torch.Size([2688, 1000])\n",
      "Indexes shape:  torch.Size([2688, 8])\n",
      "Kxz: torch.Size([26880, 1000])\n",
      "kzz_inv: torch.Size([26880, 8, 8])\n",
      "indexes: torch.Size([2688, 8])\n",
      "Expanded shape torch.Size([26880, 8])\n"
     ]
    },
    {
     "name": "stderr",
     "output_type": "stream",
     "text": [
      "\n",
      " 69%|███████████████████████████████████████████████████████████████▌                            | 691/1000 [02:24<01:04,  4.79it/s]\u001b[A"
     ]
    },
    {
     "name": "stdout",
     "output_type": "stream",
     "text": [
      "distances: torch.Size([2688, 1000])\n",
      "Indexes shape:  torch.Size([2688, 8])\n",
      "Kxz: torch.Size([26880, 1000])\n",
      "kzz_inv: torch.Size([26880, 8, 8])\n",
      "indexes: torch.Size([2688, 8])\n",
      "Expanded shape torch.Size([26880, 8])\n"
     ]
    },
    {
     "name": "stderr",
     "output_type": "stream",
     "text": [
      "\n",
      " 69%|███████████████████████████████████████████████████████████████▋                            | 692/1000 [02:24<01:04,  4.80it/s]\u001b[A"
     ]
    },
    {
     "name": "stdout",
     "output_type": "stream",
     "text": [
      "distances: torch.Size([2688, 1000])\n",
      "Indexes shape:  torch.Size([2688, 8])\n",
      "Kxz: torch.Size([26880, 1000])\n",
      "kzz_inv: torch.Size([26880, 8, 8])\n",
      "indexes: torch.Size([2688, 8])\n",
      "Expanded shape torch.Size([26880, 8])\n"
     ]
    },
    {
     "name": "stderr",
     "output_type": "stream",
     "text": [
      "\n",
      " 69%|███████████████████████████████████████████████████████████████▊                            | 693/1000 [02:24<01:03,  4.80it/s]\u001b[A"
     ]
    },
    {
     "name": "stdout",
     "output_type": "stream",
     "text": [
      "distances: torch.Size([2688, 1000])\n",
      "Indexes shape:  torch.Size([2688, 8])\n",
      "Kxz: torch.Size([26880, 1000])\n",
      "kzz_inv: torch.Size([26880, 8, 8])\n",
      "indexes: torch.Size([2688, 8])\n",
      "Expanded shape torch.Size([26880, 8])\n"
     ]
    },
    {
     "name": "stderr",
     "output_type": "stream",
     "text": [
      "\n",
      " 69%|███████████████████████████████████████████████████████████████▊                            | 694/1000 [02:24<01:03,  4.80it/s]\u001b[A"
     ]
    },
    {
     "name": "stdout",
     "output_type": "stream",
     "text": [
      "distances: torch.Size([2688, 1000])\n",
      "Indexes shape:  torch.Size([2688, 8])\n",
      "Kxz: torch.Size([26880, 1000])\n",
      "kzz_inv: torch.Size([26880, 8, 8])\n",
      "indexes: torch.Size([2688, 8])\n",
      "Expanded shape torch.Size([26880, 8])\n"
     ]
    },
    {
     "name": "stderr",
     "output_type": "stream",
     "text": [
      "\n",
      " 70%|███████████████████████████████████████████████████████████████▉                            | 695/1000 [02:25<01:03,  4.80it/s]\u001b[A"
     ]
    },
    {
     "name": "stdout",
     "output_type": "stream",
     "text": [
      "distances: torch.Size([2688, 1000])\n",
      "Indexes shape:  torch.Size([2688, 8])\n",
      "Kxz: torch.Size([26880, 1000])\n",
      "kzz_inv: torch.Size([26880, 8, 8])\n",
      "indexes: torch.Size([2688, 8])\n",
      "Expanded shape torch.Size([26880, 8])\n"
     ]
    },
    {
     "name": "stderr",
     "output_type": "stream",
     "text": [
      "\n",
      " 70%|████████████████████████████████████████████████████████████████                            | 696/1000 [02:25<01:03,  4.80it/s]\u001b[A"
     ]
    },
    {
     "name": "stdout",
     "output_type": "stream",
     "text": [
      "distances: torch.Size([2688, 1000])\n",
      "Indexes shape:  torch.Size([2688, 8])\n",
      "Kxz: torch.Size([26880, 1000])\n",
      "kzz_inv: torch.Size([26880, 8, 8])\n",
      "indexes: torch.Size([2688, 8])\n",
      "Expanded shape torch.Size([26880, 8])\n"
     ]
    },
    {
     "name": "stderr",
     "output_type": "stream",
     "text": [
      "\n",
      " 70%|████████████████████████████████████████████████████████████████                            | 697/1000 [02:25<01:03,  4.80it/s]\u001b[A"
     ]
    },
    {
     "name": "stdout",
     "output_type": "stream",
     "text": [
      "distances: torch.Size([2688, 1000])\n",
      "Indexes shape:  torch.Size([2688, 8])\n",
      "Kxz: torch.Size([26880, 1000])\n",
      "kzz_inv: torch.Size([26880, 8, 8])\n",
      "indexes: torch.Size([2688, 8])\n",
      "Expanded shape torch.Size([26880, 8])\n"
     ]
    },
    {
     "name": "stderr",
     "output_type": "stream",
     "text": [
      "\n",
      " 70%|████████████████████████████████████████████████████████████████▏                           | 698/1000 [02:25<01:02,  4.80it/s]\u001b[A"
     ]
    },
    {
     "name": "stdout",
     "output_type": "stream",
     "text": [
      "distances: torch.Size([2688, 1000])\n",
      "Indexes shape:  torch.Size([2688, 8])\n",
      "Kxz: torch.Size([26880, 1000])\n",
      "kzz_inv: torch.Size([26880, 8, 8])\n",
      "indexes: torch.Size([2688, 8])\n",
      "Expanded shape torch.Size([26880, 8])\n"
     ]
    },
    {
     "name": "stderr",
     "output_type": "stream",
     "text": [
      "\n",
      " 70%|████████████████████████████████████████████████████████████████▎                           | 699/1000 [02:25<01:02,  4.80it/s]\u001b[A"
     ]
    },
    {
     "name": "stdout",
     "output_type": "stream",
     "text": [
      "distances: torch.Size([2688, 1000])\n",
      "Indexes shape:  torch.Size([2688, 8])\n",
      "Kxz: torch.Size([26880, 1000])\n",
      "kzz_inv: torch.Size([26880, 8, 8])\n",
      "indexes: torch.Size([2688, 8])\n",
      "Expanded shape torch.Size([26880, 8])\n"
     ]
    },
    {
     "name": "stderr",
     "output_type": "stream",
     "text": [
      "\n",
      " 70%|████████████████████████████████████████████████████████████████▍                           | 700/1000 [02:26<01:02,  4.80it/s]\u001b[A"
     ]
    },
    {
     "name": "stdout",
     "output_type": "stream",
     "text": [
      "distances: torch.Size([2688, 1000])\n",
      "Indexes shape:  torch.Size([2688, 8])\n",
      "Kxz: torch.Size([26880, 1000])\n",
      "kzz_inv: torch.Size([26880, 8, 8])\n",
      "indexes: torch.Size([2688, 8])\n",
      "Expanded shape torch.Size([26880, 8])\n"
     ]
    },
    {
     "name": "stderr",
     "output_type": "stream",
     "text": [
      "\n",
      " 70%|████████████████████████████████████████████████████████████████▍                           | 701/1000 [02:26<01:02,  4.79it/s]\u001b[A"
     ]
    },
    {
     "name": "stdout",
     "output_type": "stream",
     "text": [
      "distances: torch.Size([2688, 1000])\n",
      "Indexes shape:  torch.Size([2688, 8])\n",
      "Kxz: torch.Size([26880, 1000])\n",
      "kzz_inv: torch.Size([26880, 8, 8])\n",
      "indexes: torch.Size([2688, 8])\n",
      "Expanded shape torch.Size([26880, 8])\n"
     ]
    },
    {
     "name": "stderr",
     "output_type": "stream",
     "text": [
      "\n",
      " 70%|████████████████████████████████████████████████████████████████▌                           | 702/1000 [02:26<01:02,  4.79it/s]\u001b[A"
     ]
    },
    {
     "name": "stdout",
     "output_type": "stream",
     "text": [
      "distances: torch.Size([2688, 1000])\n",
      "Indexes shape:  torch.Size([2688, 8])\n",
      "Kxz: torch.Size([26880, 1000])\n",
      "kzz_inv: torch.Size([26880, 8, 8])\n",
      "indexes: torch.Size([2688, 8])\n",
      "Expanded shape torch.Size([26880, 8])\n"
     ]
    },
    {
     "name": "stderr",
     "output_type": "stream",
     "text": [
      "\n",
      " 70%|████████████████████████████████████████████████████████████████▋                           | 703/1000 [02:26<01:01,  4.79it/s]\u001b[A"
     ]
    },
    {
     "name": "stdout",
     "output_type": "stream",
     "text": [
      "distances: torch.Size([2688, 1000])\n",
      "Indexes shape:  torch.Size([2688, 8])\n",
      "Kxz: torch.Size([26880, 1000])\n",
      "kzz_inv: torch.Size([26880, 8, 8])\n",
      "indexes: torch.Size([2688, 8])\n",
      "Expanded shape torch.Size([26880, 8])\n"
     ]
    },
    {
     "name": "stderr",
     "output_type": "stream",
     "text": [
      "\n",
      " 70%|████████████████████████████████████████████████████████████████▊                           | 704/1000 [02:27<01:01,  4.79it/s]\u001b[A"
     ]
    },
    {
     "name": "stdout",
     "output_type": "stream",
     "text": [
      "distances: torch.Size([2688, 1000])\n",
      "Indexes shape:  torch.Size([2688, 8])\n",
      "Kxz: torch.Size([26880, 1000])\n",
      "kzz_inv: torch.Size([26880, 8, 8])\n",
      "indexes: torch.Size([2688, 8])\n",
      "Expanded shape torch.Size([26880, 8])\n"
     ]
    },
    {
     "name": "stderr",
     "output_type": "stream",
     "text": [
      "\n",
      " 70%|████████████████████████████████████████████████████████████████▊                           | 705/1000 [02:27<01:01,  4.79it/s]\u001b[A"
     ]
    },
    {
     "name": "stdout",
     "output_type": "stream",
     "text": [
      "distances: torch.Size([2688, 1000])\n",
      "Indexes shape:  torch.Size([2688, 8])\n",
      "Kxz: torch.Size([26880, 1000])\n",
      "kzz_inv: torch.Size([26880, 8, 8])\n",
      "indexes: torch.Size([2688, 8])\n",
      "Expanded shape torch.Size([26880, 8])\n"
     ]
    },
    {
     "name": "stderr",
     "output_type": "stream",
     "text": [
      "\n",
      " 71%|████████████████████████████████████████████████████████████████▉                           | 706/1000 [02:27<01:01,  4.80it/s]\u001b[A"
     ]
    },
    {
     "name": "stdout",
     "output_type": "stream",
     "text": [
      "distances: torch.Size([2688, 1000])\n",
      "Indexes shape:  torch.Size([2688, 8])\n",
      "Kxz: torch.Size([26880, 1000])\n",
      "kzz_inv: torch.Size([26880, 8, 8])\n",
      "indexes: torch.Size([2688, 8])\n",
      "Expanded shape torch.Size([26880, 8])\n"
     ]
    },
    {
     "name": "stderr",
     "output_type": "stream",
     "text": [
      "\n",
      " 71%|█████████████████████████████████████████████████████████████████                           | 707/1000 [02:27<01:01,  4.79it/s]\u001b[A"
     ]
    },
    {
     "name": "stdout",
     "output_type": "stream",
     "text": [
      "distances: torch.Size([2688, 1000])\n",
      "Indexes shape:  torch.Size([2688, 8])\n",
      "Kxz: torch.Size([26880, 1000])\n",
      "kzz_inv: torch.Size([26880, 8, 8])\n",
      "indexes: torch.Size([2688, 8])\n",
      "Expanded shape torch.Size([26880, 8])\n"
     ]
    },
    {
     "name": "stderr",
     "output_type": "stream",
     "text": [
      "\n",
      " 71%|█████████████████████████████████████████████████████████████████▏                          | 708/1000 [02:27<01:00,  4.79it/s]\u001b[A"
     ]
    },
    {
     "name": "stdout",
     "output_type": "stream",
     "text": [
      "distances: torch.Size([2688, 1000])\n",
      "Indexes shape:  torch.Size([2688, 8])\n",
      "Kxz: torch.Size([26880, 1000])\n",
      "kzz_inv: torch.Size([26880, 8, 8])\n",
      "indexes: torch.Size([2688, 8])\n",
      "Expanded shape torch.Size([26880, 8])\n"
     ]
    },
    {
     "name": "stderr",
     "output_type": "stream",
     "text": [
      "\n",
      " 71%|█████████████████████████████████████████████████████████████████▏                          | 709/1000 [02:28<01:00,  4.79it/s]\u001b[A"
     ]
    },
    {
     "name": "stdout",
     "output_type": "stream",
     "text": [
      "distances: torch.Size([2688, 1000])\n",
      "Indexes shape:  torch.Size([2688, 8])\n",
      "Kxz: torch.Size([26880, 1000])\n",
      "kzz_inv: torch.Size([26880, 8, 8])\n",
      "indexes: torch.Size([2688, 8])\n",
      "Expanded shape torch.Size([26880, 8])\n"
     ]
    },
    {
     "name": "stderr",
     "output_type": "stream",
     "text": [
      "\n",
      " 71%|█████████████████████████████████████████████████████████████████▎                          | 710/1000 [02:28<01:00,  4.79it/s]\u001b[A"
     ]
    },
    {
     "name": "stdout",
     "output_type": "stream",
     "text": [
      "distances: torch.Size([2688, 1000])\n",
      "Indexes shape:  torch.Size([2688, 8])\n",
      "Kxz: torch.Size([26880, 1000])\n",
      "kzz_inv: torch.Size([26880, 8, 8])\n",
      "indexes: torch.Size([2688, 8])\n",
      "Expanded shape torch.Size([26880, 8])\n"
     ]
    },
    {
     "name": "stderr",
     "output_type": "stream",
     "text": [
      "\n",
      " 71%|█████████████████████████████████████████████████████████████████▍                          | 711/1000 [02:28<01:00,  4.78it/s]\u001b[A"
     ]
    },
    {
     "name": "stdout",
     "output_type": "stream",
     "text": [
      "distances: torch.Size([2688, 1000])\n",
      "Indexes shape:  torch.Size([2688, 8])\n",
      "Kxz: torch.Size([26880, 1000])\n",
      "kzz_inv: torch.Size([26880, 8, 8])\n",
      "indexes: torch.Size([2688, 8])\n",
      "Expanded shape torch.Size([26880, 8])\n"
     ]
    },
    {
     "name": "stderr",
     "output_type": "stream",
     "text": [
      "\n",
      " 71%|█████████████████████████████████████████████████████████████████▌                          | 712/1000 [02:28<01:00,  4.79it/s]\u001b[A"
     ]
    },
    {
     "name": "stdout",
     "output_type": "stream",
     "text": [
      "distances: torch.Size([2688, 1000])\n",
      "Indexes shape:  torch.Size([2688, 8])\n",
      "Kxz: torch.Size([26880, 1000])\n",
      "kzz_inv: torch.Size([26880, 8, 8])\n",
      "indexes: torch.Size([2688, 8])\n",
      "Expanded shape torch.Size([26880, 8])\n"
     ]
    },
    {
     "name": "stderr",
     "output_type": "stream",
     "text": [
      "\n",
      " 71%|█████████████████████████████████████████████████████████████████▌                          | 713/1000 [02:28<00:59,  4.79it/s]\u001b[A"
     ]
    },
    {
     "name": "stdout",
     "output_type": "stream",
     "text": [
      "distances: torch.Size([2688, 1000])\n",
      "Indexes shape:  torch.Size([2688, 8])\n",
      "Kxz: torch.Size([26880, 1000])\n",
      "kzz_inv: torch.Size([26880, 8, 8])\n",
      "indexes: torch.Size([2688, 8])\n",
      "Expanded shape torch.Size([26880, 8])\n"
     ]
    },
    {
     "name": "stderr",
     "output_type": "stream",
     "text": [
      "\n",
      " 71%|█████████████████████████████████████████████████████████████████▋                          | 714/1000 [02:29<00:59,  4.79it/s]\u001b[A"
     ]
    },
    {
     "name": "stdout",
     "output_type": "stream",
     "text": [
      "distances: torch.Size([2688, 1000])\n",
      "Indexes shape:  torch.Size([2688, 8])\n",
      "Kxz: torch.Size([26880, 1000])\n",
      "kzz_inv: torch.Size([26880, 8, 8])\n",
      "indexes: torch.Size([2688, 8])\n",
      "Expanded shape torch.Size([26880, 8])\n"
     ]
    },
    {
     "name": "stderr",
     "output_type": "stream",
     "text": [
      "\n",
      " 72%|█████████████████████████████████████████████████████████████████▊                          | 715/1000 [02:29<00:59,  4.79it/s]\u001b[A"
     ]
    },
    {
     "name": "stdout",
     "output_type": "stream",
     "text": [
      "distances: torch.Size([2688, 1000])\n",
      "Indexes shape:  torch.Size([2688, 8])\n",
      "Kxz: torch.Size([26880, 1000])\n",
      "kzz_inv: torch.Size([26880, 8, 8])\n",
      "indexes: torch.Size([2688, 8])\n",
      "Expanded shape torch.Size([26880, 8])\n"
     ]
    },
    {
     "name": "stderr",
     "output_type": "stream",
     "text": [
      "\n",
      " 72%|█████████████████████████████████████████████████████████████████▊                          | 716/1000 [02:29<00:59,  4.79it/s]\u001b[A"
     ]
    },
    {
     "name": "stdout",
     "output_type": "stream",
     "text": [
      "distances: torch.Size([2688, 1000])\n",
      "Indexes shape:  torch.Size([2688, 8])\n",
      "Kxz: torch.Size([26880, 1000])\n",
      "kzz_inv: torch.Size([26880, 8, 8])\n",
      "indexes: torch.Size([2688, 8])\n",
      "Expanded shape torch.Size([26880, 8])\n"
     ]
    },
    {
     "name": "stderr",
     "output_type": "stream",
     "text": [
      "\n",
      " 72%|█████████████████████████████████████████████████████████████████▉                          | 717/1000 [02:29<00:59,  4.79it/s]\u001b[A"
     ]
    },
    {
     "name": "stdout",
     "output_type": "stream",
     "text": [
      "distances: torch.Size([2688, 1000])\n",
      "Indexes shape:  torch.Size([2688, 8])\n",
      "Kxz: torch.Size([26880, 1000])\n",
      "kzz_inv: torch.Size([26880, 8, 8])\n",
      "indexes: torch.Size([2688, 8])\n",
      "Expanded shape torch.Size([26880, 8])\n"
     ]
    },
    {
     "name": "stderr",
     "output_type": "stream",
     "text": [
      "\n",
      " 72%|██████████████████████████████████████████████████████████████████                          | 718/1000 [02:29<00:58,  4.79it/s]\u001b[A"
     ]
    },
    {
     "name": "stdout",
     "output_type": "stream",
     "text": [
      "distances: torch.Size([2688, 1000])\n",
      "Indexes shape:  torch.Size([2688, 8])\n",
      "Kxz: torch.Size([26880, 1000])\n",
      "kzz_inv: torch.Size([26880, 8, 8])\n",
      "indexes: torch.Size([2688, 8])\n",
      "Expanded shape torch.Size([26880, 8])\n"
     ]
    },
    {
     "name": "stderr",
     "output_type": "stream",
     "text": [
      "\n",
      " 72%|██████████████████████████████████████████████████████████████████▏                         | 719/1000 [02:30<00:58,  4.79it/s]\u001b[A"
     ]
    },
    {
     "name": "stdout",
     "output_type": "stream",
     "text": [
      "distances: torch.Size([2688, 1000])\n",
      "Indexes shape:  torch.Size([2688, 8])\n",
      "Kxz: torch.Size([26880, 1000])\n",
      "kzz_inv: torch.Size([26880, 8, 8])\n",
      "indexes: torch.Size([2688, 8])\n",
      "Expanded shape torch.Size([26880, 8])\n"
     ]
    },
    {
     "name": "stderr",
     "output_type": "stream",
     "text": [
      "\n",
      " 72%|██████████████████████████████████████████████████████████████████▏                         | 720/1000 [02:30<00:58,  4.79it/s]\u001b[A"
     ]
    },
    {
     "name": "stdout",
     "output_type": "stream",
     "text": [
      "distances: torch.Size([2688, 1000])\n",
      "Indexes shape:  torch.Size([2688, 8])\n",
      "Kxz: torch.Size([26880, 1000])\n",
      "kzz_inv: torch.Size([26880, 8, 8])\n",
      "indexes: torch.Size([2688, 8])\n",
      "Expanded shape torch.Size([26880, 8])\n"
     ]
    },
    {
     "name": "stderr",
     "output_type": "stream",
     "text": [
      "\n",
      " 72%|██████████████████████████████████████████████████████████████████▎                         | 721/1000 [02:30<00:58,  4.78it/s]\u001b[A"
     ]
    },
    {
     "name": "stdout",
     "output_type": "stream",
     "text": [
      "distances: torch.Size([2688, 1000])\n",
      "Indexes shape:  torch.Size([2688, 8])\n",
      "Kxz: torch.Size([26880, 1000])\n",
      "kzz_inv: torch.Size([26880, 8, 8])\n",
      "indexes: torch.Size([2688, 8])\n",
      "Expanded shape torch.Size([26880, 8])\n"
     ]
    },
    {
     "name": "stderr",
     "output_type": "stream",
     "text": [
      "\n",
      " 72%|██████████████████████████████████████████████████████████████████▍                         | 722/1000 [02:30<00:58,  4.78it/s]\u001b[A"
     ]
    },
    {
     "name": "stdout",
     "output_type": "stream",
     "text": [
      "distances: torch.Size([2688, 1000])\n",
      "Indexes shape:  torch.Size([2688, 8])\n",
      "Kxz: torch.Size([26880, 1000])\n",
      "kzz_inv: torch.Size([26880, 8, 8])\n",
      "indexes: torch.Size([2688, 8])\n",
      "Expanded shape torch.Size([26880, 8])\n"
     ]
    },
    {
     "name": "stderr",
     "output_type": "stream",
     "text": [
      "\n",
      " 72%|██████████████████████████████████████████████████████████████████▌                         | 723/1000 [02:30<00:57,  4.79it/s]\u001b[A"
     ]
    },
    {
     "name": "stdout",
     "output_type": "stream",
     "text": [
      "distances: torch.Size([2688, 1000])\n",
      "Indexes shape:  torch.Size([2688, 8])\n",
      "Kxz: torch.Size([26880, 1000])\n",
      "kzz_inv: torch.Size([26880, 8, 8])\n",
      "indexes: torch.Size([2688, 8])\n",
      "Expanded shape torch.Size([26880, 8])\n"
     ]
    },
    {
     "name": "stderr",
     "output_type": "stream",
     "text": [
      "\n",
      " 72%|██████████████████████████████████████████████████████████████████▌                         | 724/1000 [02:31<00:57,  4.79it/s]\u001b[A"
     ]
    },
    {
     "name": "stdout",
     "output_type": "stream",
     "text": [
      "distances: torch.Size([2688, 1000])\n",
      "Indexes shape:  torch.Size([2688, 8])\n",
      "Kxz: torch.Size([26880, 1000])\n",
      "kzz_inv: torch.Size([26880, 8, 8])\n",
      "indexes: torch.Size([2688, 8])\n",
      "Expanded shape torch.Size([26880, 8])\n"
     ]
    },
    {
     "name": "stderr",
     "output_type": "stream",
     "text": [
      "\n",
      " 72%|██████████████████████████████████████████████████████████████████▋                         | 725/1000 [02:31<00:57,  4.79it/s]\u001b[A"
     ]
    },
    {
     "name": "stdout",
     "output_type": "stream",
     "text": [
      "distances: torch.Size([2688, 1000])\n",
      "Indexes shape:  torch.Size([2688, 8])\n",
      "Kxz: torch.Size([26880, 1000])\n",
      "kzz_inv: torch.Size([26880, 8, 8])\n",
      "indexes: torch.Size([2688, 8])\n",
      "Expanded shape torch.Size([26880, 8])\n"
     ]
    },
    {
     "name": "stderr",
     "output_type": "stream",
     "text": [
      "\n",
      " 73%|██████████████████████████████████████████████████████████████████▊                         | 726/1000 [02:31<00:57,  4.79it/s]\u001b[A"
     ]
    },
    {
     "name": "stdout",
     "output_type": "stream",
     "text": [
      "distances: torch.Size([2688, 1000])\n",
      "Indexes shape:  torch.Size([2688, 8])\n",
      "Kxz: torch.Size([26880, 1000])\n",
      "kzz_inv: torch.Size([26880, 8, 8])\n",
      "indexes: torch.Size([2688, 8])\n",
      "Expanded shape torch.Size([26880, 8])\n"
     ]
    },
    {
     "name": "stderr",
     "output_type": "stream",
     "text": [
      "\n",
      " 73%|██████████████████████████████████████████████████████████████████▉                         | 727/1000 [02:31<00:56,  4.79it/s]\u001b[A"
     ]
    },
    {
     "name": "stdout",
     "output_type": "stream",
     "text": [
      "distances: torch.Size([2688, 1000])\n",
      "Indexes shape:  torch.Size([2688, 8])\n",
      "Kxz: torch.Size([26880, 1000])\n",
      "kzz_inv: torch.Size([26880, 8, 8])\n",
      "indexes: torch.Size([2688, 8])\n",
      "Expanded shape torch.Size([26880, 8])\n"
     ]
    },
    {
     "name": "stderr",
     "output_type": "stream",
     "text": [
      "\n",
      " 73%|██████████████████████████████████████████████████████████████████▉                         | 728/1000 [02:32<00:56,  4.79it/s]\u001b[A"
     ]
    },
    {
     "name": "stdout",
     "output_type": "stream",
     "text": [
      "distances: torch.Size([2688, 1000])\n",
      "Indexes shape:  torch.Size([2688, 8])\n",
      "Kxz: torch.Size([26880, 1000])\n",
      "kzz_inv: torch.Size([26880, 8, 8])\n",
      "indexes: torch.Size([2688, 8])\n",
      "Expanded shape torch.Size([26880, 8])\n"
     ]
    },
    {
     "name": "stderr",
     "output_type": "stream",
     "text": [
      "\n",
      " 73%|███████████████████████████████████████████████████████████████████                         | 729/1000 [02:32<00:56,  4.79it/s]\u001b[A"
     ]
    },
    {
     "name": "stdout",
     "output_type": "stream",
     "text": [
      "distances: torch.Size([2688, 1000])\n",
      "Indexes shape:  torch.Size([2688, 8])\n",
      "Kxz: torch.Size([26880, 1000])\n",
      "kzz_inv: torch.Size([26880, 8, 8])\n",
      "indexes: torch.Size([2688, 8])\n",
      "Expanded shape torch.Size([26880, 8])\n"
     ]
    },
    {
     "name": "stderr",
     "output_type": "stream",
     "text": [
      "\n",
      " 73%|███████████████████████████████████████████████████████████████████▏                        | 730/1000 [02:32<00:56,  4.79it/s]\u001b[A"
     ]
    },
    {
     "name": "stdout",
     "output_type": "stream",
     "text": [
      "distances: torch.Size([2688, 1000])\n",
      "Indexes shape:  torch.Size([2688, 8])\n",
      "Kxz: torch.Size([26880, 1000])\n",
      "kzz_inv: torch.Size([26880, 8, 8])\n",
      "indexes: torch.Size([2688, 8])\n",
      "Expanded shape torch.Size([26880, 8])\n"
     ]
    },
    {
     "name": "stderr",
     "output_type": "stream",
     "text": [
      "\n",
      " 73%|███████████████████████████████████████████████████████████████████▎                        | 731/1000 [02:32<00:56,  4.79it/s]\u001b[A"
     ]
    },
    {
     "name": "stdout",
     "output_type": "stream",
     "text": [
      "distances: torch.Size([2688, 1000])\n",
      "Indexes shape:  torch.Size([2688, 8])\n",
      "Kxz: torch.Size([26880, 1000])\n",
      "kzz_inv: torch.Size([26880, 8, 8])\n",
      "indexes: torch.Size([2688, 8])\n",
      "Expanded shape torch.Size([26880, 8])\n"
     ]
    },
    {
     "name": "stderr",
     "output_type": "stream",
     "text": [
      "\n",
      " 73%|███████████████████████████████████████████████████████████████████▎                        | 732/1000 [02:32<00:55,  4.79it/s]\u001b[A"
     ]
    },
    {
     "name": "stdout",
     "output_type": "stream",
     "text": [
      "distances: torch.Size([2688, 1000])\n",
      "Indexes shape:  torch.Size([2688, 8])\n",
      "Kxz: torch.Size([26880, 1000])\n",
      "kzz_inv: torch.Size([26880, 8, 8])\n",
      "indexes: torch.Size([2688, 8])\n",
      "Expanded shape torch.Size([26880, 8])\n"
     ]
    },
    {
     "name": "stderr",
     "output_type": "stream",
     "text": [
      "\n",
      " 73%|███████████████████████████████████████████████████████████████████▍                        | 733/1000 [02:33<00:55,  4.78it/s]\u001b[A"
     ]
    },
    {
     "name": "stdout",
     "output_type": "stream",
     "text": [
      "distances: torch.Size([2688, 1000])\n",
      "Indexes shape:  torch.Size([2688, 8])\n",
      "Kxz: torch.Size([26880, 1000])\n",
      "kzz_inv: torch.Size([26880, 8, 8])\n",
      "indexes: torch.Size([2688, 8])\n",
      "Expanded shape torch.Size([26880, 8])\n"
     ]
    },
    {
     "name": "stderr",
     "output_type": "stream",
     "text": [
      "\n",
      " 73%|███████████████████████████████████████████████████████████████████▌                        | 734/1000 [02:33<00:55,  4.79it/s]\u001b[A"
     ]
    },
    {
     "name": "stdout",
     "output_type": "stream",
     "text": [
      "distances: torch.Size([2688, 1000])\n",
      "Indexes shape:  torch.Size([2688, 8])\n",
      "Kxz: torch.Size([26880, 1000])\n",
      "kzz_inv: torch.Size([26880, 8, 8])\n",
      "indexes: torch.Size([2688, 8])\n",
      "Expanded shape torch.Size([26880, 8])\n"
     ]
    },
    {
     "name": "stderr",
     "output_type": "stream",
     "text": [
      "\n",
      " 74%|███████████████████████████████████████████████████████████████████▌                        | 735/1000 [02:33<00:55,  4.78it/s]\u001b[A"
     ]
    },
    {
     "name": "stdout",
     "output_type": "stream",
     "text": [
      "distances: torch.Size([2688, 1000])\n",
      "Indexes shape:  torch.Size([2688, 8])\n",
      "Kxz: torch.Size([26880, 1000])\n",
      "kzz_inv: torch.Size([26880, 8, 8])\n",
      "indexes: torch.Size([2688, 8])\n",
      "Expanded shape torch.Size([26880, 8])\n"
     ]
    },
    {
     "name": "stderr",
     "output_type": "stream",
     "text": [
      "\n",
      " 74%|███████████████████████████████████████████████████████████████████▋                        | 736/1000 [02:33<00:55,  4.78it/s]\u001b[A"
     ]
    },
    {
     "name": "stdout",
     "output_type": "stream",
     "text": [
      "distances: torch.Size([2688, 1000])\n",
      "Indexes shape:  torch.Size([2688, 8])\n",
      "Kxz: torch.Size([26880, 1000])\n",
      "kzz_inv: torch.Size([26880, 8, 8])\n",
      "indexes: torch.Size([2688, 8])\n",
      "Expanded shape torch.Size([26880, 8])\n"
     ]
    },
    {
     "name": "stderr",
     "output_type": "stream",
     "text": [
      "\n",
      " 74%|███████████████████████████████████████████████████████████████████▊                        | 737/1000 [02:33<00:54,  4.79it/s]\u001b[A"
     ]
    },
    {
     "name": "stdout",
     "output_type": "stream",
     "text": [
      "distances: torch.Size([2688, 1000])\n",
      "Indexes shape:  torch.Size([2688, 8])\n",
      "Kxz: torch.Size([26880, 1000])\n",
      "kzz_inv: torch.Size([26880, 8, 8])\n",
      "indexes: torch.Size([2688, 8])\n",
      "Expanded shape torch.Size([26880, 8])\n"
     ]
    },
    {
     "name": "stderr",
     "output_type": "stream",
     "text": [
      "\n",
      " 74%|███████████████████████████████████████████████████████████████████▉                        | 738/1000 [02:34<00:54,  4.79it/s]\u001b[A"
     ]
    },
    {
     "name": "stdout",
     "output_type": "stream",
     "text": [
      "distances: torch.Size([2688, 1000])\n",
      "Indexes shape:  torch.Size([2688, 8])\n",
      "Kxz: torch.Size([26880, 1000])\n",
      "kzz_inv: torch.Size([26880, 8, 8])\n",
      "indexes: torch.Size([2688, 8])\n",
      "Expanded shape torch.Size([26880, 8])\n"
     ]
    },
    {
     "name": "stderr",
     "output_type": "stream",
     "text": [
      "\n",
      " 74%|███████████████████████████████████████████████████████████████████▉                        | 739/1000 [02:34<00:54,  4.79it/s]\u001b[A"
     ]
    },
    {
     "name": "stdout",
     "output_type": "stream",
     "text": [
      "distances: torch.Size([2688, 1000])\n",
      "Indexes shape:  torch.Size([2688, 8])\n",
      "Kxz: torch.Size([26880, 1000])\n",
      "kzz_inv: torch.Size([26880, 8, 8])\n",
      "indexes: torch.Size([2688, 8])\n",
      "Expanded shape torch.Size([26880, 8])\n"
     ]
    },
    {
     "name": "stderr",
     "output_type": "stream",
     "text": [
      "\n",
      " 74%|████████████████████████████████████████████████████████████████████                        | 740/1000 [02:34<00:54,  4.79it/s]\u001b[A"
     ]
    },
    {
     "name": "stdout",
     "output_type": "stream",
     "text": [
      "distances: torch.Size([2688, 1000])\n",
      "Indexes shape:  torch.Size([2688, 8])\n",
      "Kxz: torch.Size([26880, 1000])\n",
      "kzz_inv: torch.Size([26880, 8, 8])\n",
      "indexes: torch.Size([2688, 8])\n",
      "Expanded shape torch.Size([26880, 8])\n"
     ]
    },
    {
     "name": "stderr",
     "output_type": "stream",
     "text": [
      "\n",
      " 74%|████████████████████████████████████████████████████████████████████▏                       | 741/1000 [02:34<00:54,  4.79it/s]\u001b[A"
     ]
    },
    {
     "name": "stdout",
     "output_type": "stream",
     "text": [
      "distances: torch.Size([2688, 1000])\n",
      "Indexes shape:  torch.Size([2688, 8])\n",
      "Kxz: torch.Size([26880, 1000])\n",
      "kzz_inv: torch.Size([26880, 8, 8])\n",
      "indexes: torch.Size([2688, 8])\n",
      "Expanded shape torch.Size([26880, 8])\n"
     ]
    },
    {
     "name": "stderr",
     "output_type": "stream",
     "text": [
      "\n",
      " 74%|████████████████████████████████████████████████████████████████████▎                       | 742/1000 [02:34<00:53,  4.79it/s]\u001b[A"
     ]
    },
    {
     "name": "stdout",
     "output_type": "stream",
     "text": [
      "distances: torch.Size([2688, 1000])\n",
      "Indexes shape:  torch.Size([2688, 8])\n",
      "Kxz: torch.Size([26880, 1000])\n",
      "kzz_inv: torch.Size([26880, 8, 8])\n",
      "indexes: torch.Size([2688, 8])\n",
      "Expanded shape torch.Size([26880, 8])\n"
     ]
    },
    {
     "name": "stderr",
     "output_type": "stream",
     "text": [
      "\n",
      " 74%|████████████████████████████████████████████████████████████████████▎                       | 743/1000 [02:35<00:53,  4.79it/s]\u001b[A"
     ]
    },
    {
     "name": "stdout",
     "output_type": "stream",
     "text": [
      "distances: torch.Size([2688, 1000])\n",
      "Indexes shape:  torch.Size([2688, 8])\n",
      "Kxz: torch.Size([26880, 1000])\n",
      "kzz_inv: torch.Size([26880, 8, 8])\n",
      "indexes: torch.Size([2688, 8])\n",
      "Expanded shape torch.Size([26880, 8])\n"
     ]
    },
    {
     "name": "stderr",
     "output_type": "stream",
     "text": [
      "\n",
      " 74%|████████████████████████████████████████████████████████████████████▍                       | 744/1000 [02:35<00:53,  4.79it/s]\u001b[A"
     ]
    },
    {
     "name": "stdout",
     "output_type": "stream",
     "text": [
      "distances: torch.Size([2688, 1000])\n",
      "Indexes shape:  torch.Size([2688, 8])\n",
      "Kxz: torch.Size([26880, 1000])\n",
      "kzz_inv: torch.Size([26880, 8, 8])\n",
      "indexes: torch.Size([2688, 8])\n",
      "Expanded shape torch.Size([26880, 8])\n"
     ]
    },
    {
     "name": "stderr",
     "output_type": "stream",
     "text": [
      "\n",
      " 74%|████████████████████████████████████████████████████████████████████▌                       | 745/1000 [02:35<00:53,  4.79it/s]\u001b[A"
     ]
    },
    {
     "name": "stdout",
     "output_type": "stream",
     "text": [
      "distances: torch.Size([2688, 1000])\n",
      "Indexes shape:  torch.Size([2688, 8])\n",
      "Kxz: torch.Size([26880, 1000])\n",
      "kzz_inv: torch.Size([26880, 8, 8])\n",
      "indexes: torch.Size([2688, 8])\n",
      "Expanded shape torch.Size([26880, 8])\n"
     ]
    },
    {
     "name": "stderr",
     "output_type": "stream",
     "text": [
      "\n",
      " 75%|████████████████████████████████████████████████████████████████████▋                       | 746/1000 [02:35<00:52,  4.79it/s]\u001b[A"
     ]
    },
    {
     "name": "stdout",
     "output_type": "stream",
     "text": [
      "distances: torch.Size([2688, 1000])\n",
      "Indexes shape:  torch.Size([2688, 8])\n",
      "Kxz: torch.Size([26880, 1000])\n",
      "kzz_inv: torch.Size([26880, 8, 8])\n",
      "indexes: torch.Size([2688, 8])\n",
      "Expanded shape torch.Size([26880, 8])\n"
     ]
    },
    {
     "name": "stderr",
     "output_type": "stream",
     "text": [
      "\n",
      " 75%|████████████████████████████████████████████████████████████████████▋                       | 747/1000 [02:36<00:52,  4.79it/s]\u001b[A"
     ]
    },
    {
     "name": "stdout",
     "output_type": "stream",
     "text": [
      "distances: torch.Size([2688, 1000])\n",
      "Indexes shape:  torch.Size([2688, 8])\n",
      "Kxz: torch.Size([26880, 1000])\n",
      "kzz_inv: torch.Size([26880, 8, 8])\n",
      "indexes: torch.Size([2688, 8])\n",
      "Expanded shape torch.Size([26880, 8])\n"
     ]
    },
    {
     "name": "stderr",
     "output_type": "stream",
     "text": [
      "\n",
      " 75%|████████████████████████████████████████████████████████████████████▊                       | 748/1000 [02:36<00:52,  4.79it/s]\u001b[A"
     ]
    },
    {
     "name": "stdout",
     "output_type": "stream",
     "text": [
      "distances: torch.Size([2688, 1000])\n",
      "Indexes shape:  torch.Size([2688, 8])\n",
      "Kxz: torch.Size([26880, 1000])\n",
      "kzz_inv: torch.Size([26880, 8, 8])\n",
      "indexes: torch.Size([2688, 8])\n",
      "Expanded shape torch.Size([26880, 8])\n"
     ]
    },
    {
     "name": "stderr",
     "output_type": "stream",
     "text": [
      "\n",
      " 75%|████████████████████████████████████████████████████████████████████▉                       | 749/1000 [02:36<00:52,  4.79it/s]\u001b[A"
     ]
    },
    {
     "name": "stdout",
     "output_type": "stream",
     "text": [
      "distances: torch.Size([2688, 1000])\n",
      "Indexes shape:  torch.Size([2688, 8])\n",
      "Kxz: torch.Size([26880, 1000])\n",
      "kzz_inv: torch.Size([26880, 8, 8])\n",
      "indexes: torch.Size([2688, 8])\n",
      "Expanded shape torch.Size([26880, 8])\n"
     ]
    },
    {
     "name": "stderr",
     "output_type": "stream",
     "text": [
      "\n",
      " 75%|█████████████████████████████████████████████████████████████████████                       | 750/1000 [02:36<00:52,  4.79it/s]\u001b[A"
     ]
    },
    {
     "name": "stdout",
     "output_type": "stream",
     "text": [
      "distances: torch.Size([2688, 1000])\n",
      "Indexes shape:  torch.Size([2688, 8])\n",
      "Kxz: torch.Size([26880, 1000])\n",
      "kzz_inv: torch.Size([26880, 8, 8])\n",
      "indexes: torch.Size([2688, 8])\n",
      "Expanded shape torch.Size([26880, 8])\n"
     ]
    },
    {
     "name": "stderr",
     "output_type": "stream",
     "text": [
      "\n",
      " 75%|█████████████████████████████████████████████████████████████████████                       | 751/1000 [02:36<00:52,  4.79it/s]\u001b[A"
     ]
    },
    {
     "name": "stdout",
     "output_type": "stream",
     "text": [
      "distances: torch.Size([2688, 1000])\n",
      "Indexes shape:  torch.Size([2688, 8])\n",
      "Kxz: torch.Size([26880, 1000])\n",
      "kzz_inv: torch.Size([26880, 8, 8])\n",
      "indexes: torch.Size([2688, 8])\n",
      "Expanded shape torch.Size([26880, 8])\n"
     ]
    },
    {
     "name": "stderr",
     "output_type": "stream",
     "text": [
      "\n",
      " 75%|█████████████████████████████████████████████████████████████████████▏                      | 752/1000 [02:37<00:51,  4.79it/s]\u001b[A"
     ]
    },
    {
     "name": "stdout",
     "output_type": "stream",
     "text": [
      "distances: torch.Size([2688, 1000])\n",
      "Indexes shape:  torch.Size([2688, 8])\n",
      "Kxz: torch.Size([26880, 1000])\n",
      "kzz_inv: torch.Size([26880, 8, 8])\n",
      "indexes: torch.Size([2688, 8])\n",
      "Expanded shape torch.Size([26880, 8])\n"
     ]
    },
    {
     "name": "stderr",
     "output_type": "stream",
     "text": [
      "\n",
      " 75%|█████████████████████████████████████████████████████████████████████▎                      | 753/1000 [02:37<00:51,  4.79it/s]\u001b[A"
     ]
    },
    {
     "name": "stdout",
     "output_type": "stream",
     "text": [
      "distances: torch.Size([2688, 1000])\n",
      "Indexes shape:  torch.Size([2688, 8])\n",
      "Kxz: torch.Size([26880, 1000])\n",
      "kzz_inv: torch.Size([26880, 8, 8])\n",
      "indexes: torch.Size([2688, 8])\n",
      "Expanded shape torch.Size([26880, 8])\n"
     ]
    },
    {
     "name": "stderr",
     "output_type": "stream",
     "text": [
      "\n",
      " 75%|█████████████████████████████████████████████████████████████████████▎                      | 754/1000 [02:37<00:51,  4.79it/s]\u001b[A"
     ]
    },
    {
     "name": "stdout",
     "output_type": "stream",
     "text": [
      "distances: torch.Size([2688, 1000])\n",
      "Indexes shape:  torch.Size([2688, 8])\n",
      "Kxz: torch.Size([26880, 1000])\n",
      "kzz_inv: torch.Size([26880, 8, 8])\n",
      "indexes: torch.Size([2688, 8])\n",
      "Expanded shape torch.Size([26880, 8])\n"
     ]
    },
    {
     "name": "stderr",
     "output_type": "stream",
     "text": [
      "\n",
      " 76%|█████████████████████████████████████████████████████████████████████▍                      | 755/1000 [02:37<00:51,  4.79it/s]\u001b[A"
     ]
    },
    {
     "name": "stdout",
     "output_type": "stream",
     "text": [
      "distances: torch.Size([2688, 1000])\n",
      "Indexes shape:  torch.Size([2688, 8])\n",
      "Kxz: torch.Size([26880, 1000])\n",
      "kzz_inv: torch.Size([26880, 8, 8])\n",
      "indexes: torch.Size([2688, 8])\n",
      "Expanded shape torch.Size([26880, 8])\n"
     ]
    },
    {
     "name": "stderr",
     "output_type": "stream",
     "text": [
      "\n",
      " 76%|█████████████████████████████████████████████████████████████████████▌                      | 756/1000 [02:37<00:50,  4.79it/s]\u001b[A"
     ]
    },
    {
     "name": "stdout",
     "output_type": "stream",
     "text": [
      "distances: torch.Size([2688, 1000])\n",
      "Indexes shape:  torch.Size([2688, 8])\n",
      "Kxz: torch.Size([26880, 1000])\n",
      "kzz_inv: torch.Size([26880, 8, 8])\n",
      "indexes: torch.Size([2688, 8])\n",
      "Expanded shape torch.Size([26880, 8])\n"
     ]
    },
    {
     "name": "stderr",
     "output_type": "stream",
     "text": [
      "\n",
      " 76%|█████████████████████████████████████████████████████████████████████▋                      | 757/1000 [02:38<00:50,  4.79it/s]\u001b[A"
     ]
    },
    {
     "name": "stdout",
     "output_type": "stream",
     "text": [
      "distances: torch.Size([2688, 1000])\n",
      "Indexes shape:  torch.Size([2688, 8])\n",
      "Kxz: torch.Size([26880, 1000])\n",
      "kzz_inv: torch.Size([26880, 8, 8])\n",
      "indexes: torch.Size([2688, 8])\n",
      "Expanded shape torch.Size([26880, 8])\n"
     ]
    },
    {
     "name": "stderr",
     "output_type": "stream",
     "text": [
      "\n",
      " 76%|█████████████████████████████████████████████████████████████████████▋                      | 758/1000 [02:38<00:50,  4.79it/s]\u001b[A"
     ]
    },
    {
     "name": "stdout",
     "output_type": "stream",
     "text": [
      "distances: torch.Size([2688, 1000])\n",
      "Indexes shape:  torch.Size([2688, 8])\n",
      "Kxz: torch.Size([26880, 1000])\n",
      "kzz_inv: torch.Size([26880, 8, 8])\n",
      "indexes: torch.Size([2688, 8])\n",
      "Expanded shape torch.Size([26880, 8])\n"
     ]
    },
    {
     "name": "stderr",
     "output_type": "stream",
     "text": [
      "\n",
      " 76%|█████████████████████████████████████████████████████████████████████▊                      | 759/1000 [02:38<00:50,  4.79it/s]\u001b[A"
     ]
    },
    {
     "name": "stdout",
     "output_type": "stream",
     "text": [
      "distances: torch.Size([2688, 1000])\n",
      "Indexes shape:  torch.Size([2688, 8])\n",
      "Kxz: torch.Size([26880, 1000])\n",
      "kzz_inv: torch.Size([26880, 8, 8])\n",
      "indexes: torch.Size([2688, 8])\n",
      "Expanded shape torch.Size([26880, 8])\n"
     ]
    },
    {
     "name": "stderr",
     "output_type": "stream",
     "text": [
      "\n",
      " 76%|█████████████████████████████████████████████████████████████████████▉                      | 760/1000 [02:38<00:50,  4.79it/s]\u001b[A"
     ]
    },
    {
     "name": "stdout",
     "output_type": "stream",
     "text": [
      "distances: torch.Size([2688, 1000])\n",
      "Indexes shape:  torch.Size([2688, 8])\n",
      "Kxz: torch.Size([26880, 1000])\n",
      "kzz_inv: torch.Size([26880, 8, 8])\n",
      "indexes: torch.Size([2688, 8])\n",
      "Expanded shape torch.Size([26880, 8])\n"
     ]
    },
    {
     "name": "stderr",
     "output_type": "stream",
     "text": [
      "\n",
      " 76%|██████████████████████████████████████████████████████████████████████                      | 761/1000 [02:38<00:49,  4.79it/s]\u001b[A"
     ]
    },
    {
     "name": "stdout",
     "output_type": "stream",
     "text": [
      "distances: torch.Size([2688, 1000])\n",
      "Indexes shape:  torch.Size([2688, 8])\n",
      "Kxz: torch.Size([26880, 1000])\n",
      "kzz_inv: torch.Size([26880, 8, 8])\n",
      "indexes: torch.Size([2688, 8])\n",
      "Expanded shape torch.Size([26880, 8])\n"
     ]
    },
    {
     "name": "stderr",
     "output_type": "stream",
     "text": [
      "\n",
      " 76%|██████████████████████████████████████████████████████████████████████                      | 762/1000 [02:39<00:49,  4.79it/s]\u001b[A"
     ]
    },
    {
     "name": "stdout",
     "output_type": "stream",
     "text": [
      "distances: torch.Size([2688, 1000])\n",
      "Indexes shape:  torch.Size([2688, 8])\n",
      "Kxz: torch.Size([26880, 1000])\n",
      "kzz_inv: torch.Size([26880, 8, 8])\n",
      "indexes: torch.Size([2688, 8])\n",
      "Expanded shape torch.Size([26880, 8])\n"
     ]
    },
    {
     "name": "stderr",
     "output_type": "stream",
     "text": [
      "\n",
      " 76%|██████████████████████████████████████████████████████████████████████▏                     | 763/1000 [02:39<00:49,  4.79it/s]\u001b[A"
     ]
    },
    {
     "name": "stdout",
     "output_type": "stream",
     "text": [
      "distances: torch.Size([2688, 1000])\n",
      "Indexes shape:  torch.Size([2688, 8])\n",
      "Kxz: torch.Size([26880, 1000])\n",
      "kzz_inv: torch.Size([26880, 8, 8])\n",
      "indexes: torch.Size([2688, 8])\n",
      "Expanded shape torch.Size([26880, 8])\n"
     ]
    },
    {
     "name": "stderr",
     "output_type": "stream",
     "text": [
      "\n",
      " 76%|██████████████████████████████████████████████████████████████████████▎                     | 764/1000 [02:39<00:49,  4.79it/s]\u001b[A"
     ]
    },
    {
     "name": "stdout",
     "output_type": "stream",
     "text": [
      "distances: torch.Size([2688, 1000])\n",
      "Indexes shape:  torch.Size([2688, 8])\n",
      "Kxz: torch.Size([26880, 1000])\n",
      "kzz_inv: torch.Size([26880, 8, 8])\n",
      "indexes: torch.Size([2688, 8])\n",
      "Expanded shape torch.Size([26880, 8])\n"
     ]
    },
    {
     "name": "stderr",
     "output_type": "stream",
     "text": [
      "\n",
      " 76%|██████████████████████████████████████████████████████████████████████▍                     | 765/1000 [02:39<00:49,  4.79it/s]\u001b[A"
     ]
    },
    {
     "name": "stdout",
     "output_type": "stream",
     "text": [
      "distances: torch.Size([2688, 1000])\n",
      "Indexes shape:  torch.Size([2688, 8])\n",
      "Kxz: torch.Size([26880, 1000])\n",
      "kzz_inv: torch.Size([26880, 8, 8])\n",
      "indexes: torch.Size([2688, 8])\n",
      "Expanded shape torch.Size([26880, 8])\n"
     ]
    },
    {
     "name": "stderr",
     "output_type": "stream",
     "text": [
      "\n",
      " 77%|██████████████████████████████████████████████████████████████████████▍                     | 766/1000 [02:39<00:48,  4.79it/s]\u001b[A"
     ]
    },
    {
     "name": "stdout",
     "output_type": "stream",
     "text": [
      "distances: torch.Size([2688, 1000])\n",
      "Indexes shape:  torch.Size([2688, 8])\n",
      "Kxz: torch.Size([26880, 1000])\n",
      "kzz_inv: torch.Size([26880, 8, 8])\n",
      "indexes: torch.Size([2688, 8])\n",
      "Expanded shape torch.Size([26880, 8])\n"
     ]
    },
    {
     "name": "stderr",
     "output_type": "stream",
     "text": [
      "\n",
      " 77%|██████████████████████████████████████████████████████████████████████▌                     | 767/1000 [02:40<00:48,  4.79it/s]\u001b[A"
     ]
    },
    {
     "name": "stdout",
     "output_type": "stream",
     "text": [
      "distances: torch.Size([2688, 1000])\n",
      "Indexes shape:  torch.Size([2688, 8])\n",
      "Kxz: torch.Size([26880, 1000])\n",
      "kzz_inv: torch.Size([26880, 8, 8])\n",
      "indexes: torch.Size([2688, 8])\n",
      "Expanded shape torch.Size([26880, 8])\n"
     ]
    },
    {
     "name": "stderr",
     "output_type": "stream",
     "text": [
      "\n",
      " 77%|██████████████████████████████████████████████████████████████████████▋                     | 768/1000 [02:40<00:48,  4.79it/s]\u001b[A"
     ]
    },
    {
     "name": "stdout",
     "output_type": "stream",
     "text": [
      "distances: torch.Size([2688, 1000])\n",
      "Indexes shape:  torch.Size([2688, 8])\n",
      "Kxz: torch.Size([26880, 1000])\n",
      "kzz_inv: torch.Size([26880, 8, 8])\n",
      "indexes: torch.Size([2688, 8])\n",
      "Expanded shape torch.Size([26880, 8])\n"
     ]
    },
    {
     "name": "stderr",
     "output_type": "stream",
     "text": [
      "\n",
      " 77%|██████████████████████████████████████████████████████████████████████▋                     | 769/1000 [02:40<00:48,  4.80it/s]\u001b[A"
     ]
    },
    {
     "name": "stdout",
     "output_type": "stream",
     "text": [
      "distances: torch.Size([2688, 1000])\n",
      "Indexes shape:  torch.Size([2688, 8])\n",
      "Kxz: torch.Size([26880, 1000])\n",
      "kzz_inv: torch.Size([26880, 8, 8])\n",
      "indexes: torch.Size([2688, 8])\n",
      "Expanded shape torch.Size([26880, 8])\n"
     ]
    },
    {
     "name": "stderr",
     "output_type": "stream",
     "text": [
      "\n",
      " 77%|██████████████████████████████████████████████████████████████████████▊                     | 770/1000 [02:40<00:47,  4.80it/s]\u001b[A"
     ]
    },
    {
     "name": "stdout",
     "output_type": "stream",
     "text": [
      "distances: torch.Size([2688, 1000])\n",
      "Indexes shape:  torch.Size([2688, 8])\n",
      "Kxz: torch.Size([26880, 1000])\n",
      "kzz_inv: torch.Size([26880, 8, 8])\n",
      "indexes: torch.Size([2688, 8])\n",
      "Expanded shape torch.Size([26880, 8])\n"
     ]
    },
    {
     "name": "stderr",
     "output_type": "stream",
     "text": [
      "\n",
      " 77%|██████████████████████████████████████████████████████████████████████▉                     | 771/1000 [02:41<00:47,  4.79it/s]\u001b[A"
     ]
    },
    {
     "name": "stdout",
     "output_type": "stream",
     "text": [
      "distances: torch.Size([2688, 1000])\n",
      "Indexes shape:  torch.Size([2688, 8])\n",
      "Kxz: torch.Size([26880, 1000])\n",
      "kzz_inv: torch.Size([26880, 8, 8])\n",
      "indexes: torch.Size([2688, 8])\n",
      "Expanded shape torch.Size([26880, 8])\n"
     ]
    },
    {
     "name": "stderr",
     "output_type": "stream",
     "text": [
      "\n",
      " 77%|███████████████████████████████████████████████████████████████████████                     | 772/1000 [02:41<00:47,  4.79it/s]\u001b[A"
     ]
    },
    {
     "name": "stdout",
     "output_type": "stream",
     "text": [
      "distances: torch.Size([2688, 1000])\n",
      "Indexes shape:  torch.Size([2688, 8])\n",
      "Kxz: torch.Size([26880, 1000])\n",
      "kzz_inv: torch.Size([26880, 8, 8])\n",
      "indexes: torch.Size([2688, 8])\n",
      "Expanded shape torch.Size([26880, 8])\n"
     ]
    },
    {
     "name": "stderr",
     "output_type": "stream",
     "text": [
      "\n",
      " 77%|███████████████████████████████████████████████████████████████████████                     | 773/1000 [02:41<00:47,  4.79it/s]\u001b[A"
     ]
    },
    {
     "name": "stdout",
     "output_type": "stream",
     "text": [
      "distances: torch.Size([2688, 1000])\n",
      "Indexes shape:  torch.Size([2688, 8])\n",
      "Kxz: torch.Size([26880, 1000])\n",
      "kzz_inv: torch.Size([26880, 8, 8])\n",
      "indexes: torch.Size([2688, 8])\n",
      "Expanded shape torch.Size([26880, 8])\n"
     ]
    },
    {
     "name": "stderr",
     "output_type": "stream",
     "text": [
      "\n",
      " 77%|███████████████████████████████████████████████████████████████████████▏                    | 774/1000 [02:41<00:47,  4.79it/s]\u001b[A"
     ]
    },
    {
     "name": "stdout",
     "output_type": "stream",
     "text": [
      "distances: torch.Size([2688, 1000])\n",
      "Indexes shape:  torch.Size([2688, 8])\n",
      "Kxz: torch.Size([26880, 1000])\n",
      "kzz_inv: torch.Size([26880, 8, 8])\n",
      "indexes: torch.Size([2688, 8])\n",
      "Expanded shape torch.Size([26880, 8])\n"
     ]
    },
    {
     "name": "stderr",
     "output_type": "stream",
     "text": [
      "\n",
      " 78%|███████████████████████████████████████████████████████████████████████▎                    | 775/1000 [02:41<00:46,  4.79it/s]\u001b[A"
     ]
    },
    {
     "name": "stdout",
     "output_type": "stream",
     "text": [
      "distances: torch.Size([2688, 1000])\n",
      "Indexes shape:  torch.Size([2688, 8])\n",
      "Kxz: torch.Size([26880, 1000])\n",
      "kzz_inv: torch.Size([26880, 8, 8])\n",
      "indexes: torch.Size([2688, 8])\n",
      "Expanded shape torch.Size([26880, 8])\n"
     ]
    },
    {
     "name": "stderr",
     "output_type": "stream",
     "text": [
      "\n",
      " 78%|███████████████████████████████████████████████████████████████████████▍                    | 776/1000 [02:42<00:46,  4.79it/s]\u001b[A"
     ]
    },
    {
     "name": "stdout",
     "output_type": "stream",
     "text": [
      "distances: torch.Size([2688, 1000])\n",
      "Indexes shape:  torch.Size([2688, 8])\n",
      "Kxz: torch.Size([26880, 1000])\n",
      "kzz_inv: torch.Size([26880, 8, 8])\n",
      "indexes: torch.Size([2688, 8])\n",
      "Expanded shape torch.Size([26880, 8])\n"
     ]
    },
    {
     "name": "stderr",
     "output_type": "stream",
     "text": [
      "\n",
      " 78%|███████████████████████████████████████████████████████████████████████▍                    | 777/1000 [02:42<00:46,  4.79it/s]\u001b[A"
     ]
    },
    {
     "name": "stdout",
     "output_type": "stream",
     "text": [
      "distances: torch.Size([2688, 1000])\n",
      "Indexes shape:  torch.Size([2688, 8])\n",
      "Kxz: torch.Size([26880, 1000])\n",
      "kzz_inv: torch.Size([26880, 8, 8])\n",
      "indexes: torch.Size([2688, 8])\n",
      "Expanded shape torch.Size([26880, 8])\n"
     ]
    },
    {
     "name": "stderr",
     "output_type": "stream",
     "text": [
      "\n",
      " 78%|███████████████████████████████████████████████████████████████████████▌                    | 778/1000 [02:42<00:46,  4.79it/s]\u001b[A"
     ]
    },
    {
     "name": "stdout",
     "output_type": "stream",
     "text": [
      "distances: torch.Size([2688, 1000])\n",
      "Indexes shape:  torch.Size([2688, 8])\n",
      "Kxz: torch.Size([26880, 1000])\n",
      "kzz_inv: torch.Size([26880, 8, 8])\n",
      "indexes: torch.Size([2688, 8])\n",
      "Expanded shape torch.Size([26880, 8])\n"
     ]
    },
    {
     "name": "stderr",
     "output_type": "stream",
     "text": [
      "\n",
      " 78%|███████████████████████████████████████████████████████████████████████▋                    | 779/1000 [02:42<00:46,  4.79it/s]\u001b[A"
     ]
    },
    {
     "name": "stdout",
     "output_type": "stream",
     "text": [
      "distances: torch.Size([2688, 1000])\n",
      "Indexes shape:  torch.Size([2688, 8])\n",
      "Kxz: torch.Size([26880, 1000])\n",
      "kzz_inv: torch.Size([26880, 8, 8])\n",
      "indexes: torch.Size([2688, 8])\n",
      "Expanded shape torch.Size([26880, 8])\n"
     ]
    },
    {
     "name": "stderr",
     "output_type": "stream",
     "text": [
      "\n",
      " 78%|███████████████████████████████████████████████████████████████████████▊                    | 780/1000 [02:42<00:45,  4.79it/s]\u001b[A"
     ]
    },
    {
     "name": "stdout",
     "output_type": "stream",
     "text": [
      "distances: torch.Size([2688, 1000])\n",
      "Indexes shape:  torch.Size([2688, 8])\n",
      "Kxz: torch.Size([26880, 1000])\n",
      "kzz_inv: torch.Size([26880, 8, 8])\n",
      "indexes: torch.Size([2688, 8])\n",
      "Expanded shape torch.Size([26880, 8])\n"
     ]
    },
    {
     "name": "stderr",
     "output_type": "stream",
     "text": [
      "\n",
      " 78%|███████████████████████████████████████████████████████████████████████▊                    | 781/1000 [02:43<00:45,  4.78it/s]\u001b[A"
     ]
    },
    {
     "name": "stdout",
     "output_type": "stream",
     "text": [
      "distances: torch.Size([2688, 1000])\n",
      "Indexes shape:  torch.Size([2688, 8])\n",
      "Kxz: torch.Size([26880, 1000])\n",
      "kzz_inv: torch.Size([26880, 8, 8])\n",
      "indexes: torch.Size([2688, 8])\n",
      "Expanded shape torch.Size([26880, 8])\n"
     ]
    },
    {
     "name": "stderr",
     "output_type": "stream",
     "text": [
      "\n",
      " 78%|███████████████████████████████████████████████████████████████████████▉                    | 782/1000 [02:43<00:45,  4.78it/s]\u001b[A"
     ]
    },
    {
     "name": "stdout",
     "output_type": "stream",
     "text": [
      "distances: torch.Size([2688, 1000])\n",
      "Indexes shape:  torch.Size([2688, 8])\n",
      "Kxz: torch.Size([26880, 1000])\n",
      "kzz_inv: torch.Size([26880, 8, 8])\n",
      "indexes: torch.Size([2688, 8])\n",
      "Expanded shape torch.Size([26880, 8])\n"
     ]
    },
    {
     "name": "stderr",
     "output_type": "stream",
     "text": [
      "\n",
      " 78%|████████████████████████████████████████████████████████████████████████                    | 783/1000 [02:43<00:45,  4.78it/s]\u001b[A"
     ]
    },
    {
     "name": "stdout",
     "output_type": "stream",
     "text": [
      "distances: torch.Size([2688, 1000])\n",
      "Indexes shape:  torch.Size([2688, 8])\n",
      "Kxz: torch.Size([26880, 1000])\n",
      "kzz_inv: torch.Size([26880, 8, 8])\n",
      "indexes: torch.Size([2688, 8])\n",
      "Expanded shape torch.Size([26880, 8])\n"
     ]
    },
    {
     "name": "stderr",
     "output_type": "stream",
     "text": [
      "\n",
      " 78%|████████████████████████████████████████████████████████████████████████▏                   | 784/1000 [02:43<00:45,  4.79it/s]\u001b[A"
     ]
    },
    {
     "name": "stdout",
     "output_type": "stream",
     "text": [
      "distances: torch.Size([2688, 1000])\n",
      "Indexes shape:  torch.Size([2688, 8])\n",
      "Kxz: torch.Size([26880, 1000])\n",
      "kzz_inv: torch.Size([26880, 8, 8])\n",
      "indexes: torch.Size([2688, 8])\n",
      "Expanded shape torch.Size([26880, 8])\n"
     ]
    },
    {
     "name": "stderr",
     "output_type": "stream",
     "text": [
      "\n",
      " 78%|████████████████████████████████████████████████████████████████████████▏                   | 785/1000 [02:43<00:44,  4.79it/s]\u001b[A"
     ]
    },
    {
     "name": "stdout",
     "output_type": "stream",
     "text": [
      "distances: torch.Size([2688, 1000])\n",
      "Indexes shape:  torch.Size([2688, 8])\n",
      "Kxz: torch.Size([26880, 1000])\n",
      "kzz_inv: torch.Size([26880, 8, 8])\n",
      "indexes: torch.Size([2688, 8])\n",
      "Expanded shape torch.Size([26880, 8])\n"
     ]
    },
    {
     "name": "stderr",
     "output_type": "stream",
     "text": [
      "\n",
      " 79%|████████████████████████████████████████████████████████████████████████▎                   | 786/1000 [02:44<00:44,  4.79it/s]\u001b[A"
     ]
    },
    {
     "name": "stdout",
     "output_type": "stream",
     "text": [
      "distances: torch.Size([2688, 1000])\n",
      "Indexes shape:  torch.Size([2688, 8])\n",
      "Kxz: torch.Size([26880, 1000])\n",
      "kzz_inv: torch.Size([26880, 8, 8])\n",
      "indexes: torch.Size([2688, 8])\n",
      "Expanded shape torch.Size([26880, 8])\n"
     ]
    },
    {
     "name": "stderr",
     "output_type": "stream",
     "text": [
      "\n",
      " 79%|████████████████████████████████████████████████████████████████████████▍                   | 787/1000 [02:44<00:44,  4.79it/s]\u001b[A"
     ]
    },
    {
     "name": "stdout",
     "output_type": "stream",
     "text": [
      "distances: torch.Size([2688, 1000])\n",
      "Indexes shape:  torch.Size([2688, 8])\n",
      "Kxz: torch.Size([26880, 1000])\n",
      "kzz_inv: torch.Size([26880, 8, 8])\n",
      "indexes: torch.Size([2688, 8])\n",
      "Expanded shape torch.Size([26880, 8])\n"
     ]
    },
    {
     "name": "stderr",
     "output_type": "stream",
     "text": [
      "\n",
      " 79%|████████████████████████████████████████████████████████████████████████▍                   | 788/1000 [02:44<00:44,  4.79it/s]\u001b[A"
     ]
    },
    {
     "name": "stdout",
     "output_type": "stream",
     "text": [
      "distances: torch.Size([2688, 1000])\n",
      "Indexes shape:  torch.Size([2688, 8])\n",
      "Kxz: torch.Size([26880, 1000])\n",
      "kzz_inv: torch.Size([26880, 8, 8])\n",
      "indexes: torch.Size([2688, 8])\n",
      "Expanded shape torch.Size([26880, 8])\n"
     ]
    },
    {
     "name": "stderr",
     "output_type": "stream",
     "text": [
      "\n",
      " 79%|████████████████████████████████████████████████████████████████████████▌                   | 789/1000 [02:44<00:44,  4.78it/s]\u001b[A"
     ]
    },
    {
     "name": "stdout",
     "output_type": "stream",
     "text": [
      "distances: torch.Size([2688, 1000])\n",
      "Indexes shape:  torch.Size([2688, 8])\n",
      "Kxz: torch.Size([26880, 1000])\n",
      "kzz_inv: torch.Size([26880, 8, 8])\n",
      "indexes: torch.Size([2688, 8])\n",
      "Expanded shape torch.Size([26880, 8])\n"
     ]
    },
    {
     "name": "stderr",
     "output_type": "stream",
     "text": [
      "\n",
      " 79%|████████████████████████████████████████████████████████████████████████▋                   | 790/1000 [02:44<00:43,  4.79it/s]\u001b[A"
     ]
    },
    {
     "name": "stdout",
     "output_type": "stream",
     "text": [
      "distances: torch.Size([2688, 1000])\n",
      "Indexes shape:  torch.Size([2688, 8])\n",
      "Kxz: torch.Size([26880, 1000])\n",
      "kzz_inv: torch.Size([26880, 8, 8])\n",
      "indexes: torch.Size([2688, 8])\n",
      "Expanded shape torch.Size([26880, 8])\n"
     ]
    },
    {
     "name": "stderr",
     "output_type": "stream",
     "text": [
      "\n",
      " 79%|████████████████████████████████████████████████████████████████████████▊                   | 791/1000 [02:45<00:43,  4.78it/s]\u001b[A"
     ]
    },
    {
     "name": "stdout",
     "output_type": "stream",
     "text": [
      "distances: torch.Size([2688, 1000])\n",
      "Indexes shape:  torch.Size([2688, 8])\n",
      "Kxz: torch.Size([26880, 1000])\n",
      "kzz_inv: torch.Size([26880, 8, 8])\n",
      "indexes: torch.Size([2688, 8])\n",
      "Expanded shape torch.Size([26880, 8])\n"
     ]
    },
    {
     "name": "stderr",
     "output_type": "stream",
     "text": [
      "\n",
      " 79%|████████████████████████████████████████████████████████████████████████▊                   | 792/1000 [02:45<00:43,  4.78it/s]\u001b[A"
     ]
    },
    {
     "name": "stdout",
     "output_type": "stream",
     "text": [
      "distances: torch.Size([2688, 1000])\n",
      "Indexes shape:  torch.Size([2688, 8])\n",
      "Kxz: torch.Size([26880, 1000])\n",
      "kzz_inv: torch.Size([26880, 8, 8])\n",
      "indexes: torch.Size([2688, 8])\n",
      "Expanded shape torch.Size([26880, 8])\n"
     ]
    },
    {
     "name": "stderr",
     "output_type": "stream",
     "text": [
      "\n",
      " 79%|████████████████████████████████████████████████████████████████████████▉                   | 793/1000 [02:45<00:43,  4.78it/s]\u001b[A"
     ]
    },
    {
     "name": "stdout",
     "output_type": "stream",
     "text": [
      "distances: torch.Size([2688, 1000])\n",
      "Indexes shape:  torch.Size([2688, 8])\n",
      "Kxz: torch.Size([26880, 1000])\n",
      "kzz_inv: torch.Size([26880, 8, 8])\n",
      "indexes: torch.Size([2688, 8])\n",
      "Expanded shape torch.Size([26880, 8])\n"
     ]
    },
    {
     "name": "stderr",
     "output_type": "stream",
     "text": [
      "\n",
      " 79%|█████████████████████████████████████████████████████████████████████████                   | 794/1000 [02:45<00:43,  4.78it/s]\u001b[A"
     ]
    },
    {
     "name": "stdout",
     "output_type": "stream",
     "text": [
      "distances: torch.Size([2688, 1000])\n",
      "Indexes shape:  torch.Size([2688, 8])\n",
      "Kxz: torch.Size([26880, 1000])\n",
      "kzz_inv: torch.Size([26880, 8, 8])\n",
      "indexes: torch.Size([2688, 8])\n",
      "Expanded shape torch.Size([26880, 8])\n"
     ]
    },
    {
     "name": "stderr",
     "output_type": "stream",
     "text": [
      "\n",
      " 80%|█████████████████████████████████████████████████████████████████████████▏                  | 795/1000 [02:46<00:42,  4.78it/s]\u001b[A"
     ]
    },
    {
     "name": "stdout",
     "output_type": "stream",
     "text": [
      "distances: torch.Size([2688, 1000])\n",
      "Indexes shape:  torch.Size([2688, 8])\n",
      "Kxz: torch.Size([26880, 1000])\n",
      "kzz_inv: torch.Size([26880, 8, 8])\n",
      "indexes: torch.Size([2688, 8])\n",
      "Expanded shape torch.Size([26880, 8])\n"
     ]
    },
    {
     "name": "stderr",
     "output_type": "stream",
     "text": [
      "\n",
      " 80%|█████████████████████████████████████████████████████████████████████████▏                  | 796/1000 [02:46<00:42,  4.79it/s]\u001b[A"
     ]
    },
    {
     "name": "stdout",
     "output_type": "stream",
     "text": [
      "distances: torch.Size([2688, 1000])\n",
      "Indexes shape:  torch.Size([2688, 8])\n",
      "Kxz: torch.Size([26880, 1000])\n",
      "kzz_inv: torch.Size([26880, 8, 8])\n",
      "indexes: torch.Size([2688, 8])\n",
      "Expanded shape torch.Size([26880, 8])\n"
     ]
    },
    {
     "name": "stderr",
     "output_type": "stream",
     "text": [
      "\n",
      " 80%|█████████████████████████████████████████████████████████████████████████▎                  | 797/1000 [02:46<00:42,  4.78it/s]\u001b[A"
     ]
    },
    {
     "name": "stdout",
     "output_type": "stream",
     "text": [
      "distances: torch.Size([2688, 1000])\n",
      "Indexes shape:  torch.Size([2688, 8])\n",
      "Kxz: torch.Size([26880, 1000])\n",
      "kzz_inv: torch.Size([26880, 8, 8])\n",
      "indexes: torch.Size([2688, 8])\n",
      "Expanded shape torch.Size([26880, 8])\n"
     ]
    },
    {
     "name": "stderr",
     "output_type": "stream",
     "text": [
      "\n",
      " 80%|█████████████████████████████████████████████████████████████████████████▍                  | 798/1000 [02:46<00:42,  4.78it/s]\u001b[A"
     ]
    },
    {
     "name": "stdout",
     "output_type": "stream",
     "text": [
      "distances: torch.Size([2688, 1000])\n",
      "Indexes shape:  torch.Size([2688, 8])\n",
      "Kxz: torch.Size([26880, 1000])\n",
      "kzz_inv: torch.Size([26880, 8, 8])\n",
      "indexes: torch.Size([2688, 8])\n",
      "Expanded shape torch.Size([26880, 8])\n"
     ]
    },
    {
     "name": "stderr",
     "output_type": "stream",
     "text": [
      "\n",
      " 80%|█████████████████████████████████████████████████████████████████████████▌                  | 799/1000 [02:46<00:42,  4.79it/s]\u001b[A"
     ]
    },
    {
     "name": "stdout",
     "output_type": "stream",
     "text": [
      "distances: torch.Size([2688, 1000])\n",
      "Indexes shape:  torch.Size([2688, 8])\n",
      "Kxz: torch.Size([26880, 1000])\n",
      "kzz_inv: torch.Size([26880, 8, 8])\n",
      "indexes: torch.Size([2688, 8])\n",
      "Expanded shape torch.Size([26880, 8])\n"
     ]
    },
    {
     "name": "stderr",
     "output_type": "stream",
     "text": [
      "\n",
      " 80%|█████████████████████████████████████████████████████████████████████████▌                  | 800/1000 [02:47<00:41,  4.79it/s]\u001b[A"
     ]
    },
    {
     "name": "stdout",
     "output_type": "stream",
     "text": [
      "distances: torch.Size([2688, 1000])\n",
      "Indexes shape:  torch.Size([2688, 8])\n",
      "Kxz: torch.Size([26880, 1000])\n",
      "kzz_inv: torch.Size([26880, 8, 8])\n",
      "indexes: torch.Size([2688, 8])\n",
      "Expanded shape torch.Size([26880, 8])\n"
     ]
    },
    {
     "name": "stderr",
     "output_type": "stream",
     "text": [
      "\n",
      " 80%|█████████████████████████████████████████████████████████████████████████▋                  | 801/1000 [02:47<00:41,  4.78it/s]\u001b[A"
     ]
    },
    {
     "name": "stdout",
     "output_type": "stream",
     "text": [
      "distances: torch.Size([2688, 1000])\n",
      "Indexes shape:  torch.Size([2688, 8])\n",
      "Kxz: torch.Size([26880, 1000])\n",
      "kzz_inv: torch.Size([26880, 8, 8])\n",
      "indexes: torch.Size([2688, 8])\n",
      "Expanded shape torch.Size([26880, 8])\n"
     ]
    },
    {
     "name": "stderr",
     "output_type": "stream",
     "text": [
      "\n",
      " 80%|█████████████████████████████████████████████████████████████████████████▊                  | 802/1000 [02:47<00:41,  4.78it/s]\u001b[A"
     ]
    },
    {
     "name": "stdout",
     "output_type": "stream",
     "text": [
      "distances: torch.Size([2688, 1000])\n",
      "Indexes shape:  torch.Size([2688, 8])\n",
      "Kxz: torch.Size([26880, 1000])\n",
      "kzz_inv: torch.Size([26880, 8, 8])\n",
      "indexes: torch.Size([2688, 8])\n",
      "Expanded shape torch.Size([26880, 8])\n"
     ]
    },
    {
     "name": "stderr",
     "output_type": "stream",
     "text": [
      "\n",
      " 80%|█████████████████████████████████████████████████████████████████████████▉                  | 803/1000 [02:47<00:41,  4.79it/s]\u001b[A"
     ]
    },
    {
     "name": "stdout",
     "output_type": "stream",
     "text": [
      "distances: torch.Size([2688, 1000])\n",
      "Indexes shape:  torch.Size([2688, 8])\n",
      "Kxz: torch.Size([26880, 1000])\n",
      "kzz_inv: torch.Size([26880, 8, 8])\n",
      "indexes: torch.Size([2688, 8])\n",
      "Expanded shape torch.Size([26880, 8])\n"
     ]
    },
    {
     "name": "stderr",
     "output_type": "stream",
     "text": [
      "\n",
      " 80%|█████████████████████████████████████████████████████████████████████████▉                  | 804/1000 [02:47<00:40,  4.79it/s]\u001b[A"
     ]
    },
    {
     "name": "stdout",
     "output_type": "stream",
     "text": [
      "distances: torch.Size([2688, 1000])\n",
      "Indexes shape:  torch.Size([2688, 8])\n",
      "Kxz: torch.Size([26880, 1000])\n",
      "kzz_inv: torch.Size([26880, 8, 8])\n",
      "indexes: torch.Size([2688, 8])\n",
      "Expanded shape torch.Size([26880, 8])\n"
     ]
    },
    {
     "name": "stderr",
     "output_type": "stream",
     "text": [
      "\n",
      " 80%|██████████████████████████████████████████████████████████████████████████                  | 805/1000 [02:48<00:40,  4.79it/s]\u001b[A"
     ]
    },
    {
     "name": "stdout",
     "output_type": "stream",
     "text": [
      "distances: torch.Size([2688, 1000])\n",
      "Indexes shape:  torch.Size([2688, 8])\n",
      "Kxz: torch.Size([26880, 1000])\n",
      "kzz_inv: torch.Size([26880, 8, 8])\n",
      "indexes: torch.Size([2688, 8])\n",
      "Expanded shape torch.Size([26880, 8])\n"
     ]
    },
    {
     "name": "stderr",
     "output_type": "stream",
     "text": [
      "\n",
      " 81%|██████████████████████████████████████████████████████████████████████████▏                 | 806/1000 [02:48<00:40,  4.79it/s]\u001b[A"
     ]
    },
    {
     "name": "stdout",
     "output_type": "stream",
     "text": [
      "distances: torch.Size([2688, 1000])\n",
      "Indexes shape:  torch.Size([2688, 8])\n",
      "Kxz: torch.Size([26880, 1000])\n",
      "kzz_inv: torch.Size([26880, 8, 8])\n",
      "indexes: torch.Size([2688, 8])\n",
      "Expanded shape torch.Size([26880, 8])\n"
     ]
    },
    {
     "name": "stderr",
     "output_type": "stream",
     "text": [
      "\n",
      " 81%|██████████████████████████████████████████████████████████████████████████▏                 | 807/1000 [02:48<00:40,  4.79it/s]\u001b[A"
     ]
    },
    {
     "name": "stdout",
     "output_type": "stream",
     "text": [
      "distances: torch.Size([2688, 1000])\n",
      "Indexes shape:  torch.Size([2688, 8])\n",
      "Kxz: torch.Size([26880, 1000])\n",
      "kzz_inv: torch.Size([26880, 8, 8])\n",
      "indexes: torch.Size([2688, 8])\n",
      "Expanded shape torch.Size([26880, 8])\n"
     ]
    },
    {
     "name": "stderr",
     "output_type": "stream",
     "text": [
      "\n",
      " 81%|██████████████████████████████████████████████████████████████████████████▎                 | 808/1000 [02:48<00:40,  4.79it/s]\u001b[A"
     ]
    },
    {
     "name": "stdout",
     "output_type": "stream",
     "text": [
      "distances: torch.Size([2688, 1000])\n",
      "Indexes shape:  torch.Size([2688, 8])\n",
      "Kxz: torch.Size([26880, 1000])\n",
      "kzz_inv: torch.Size([26880, 8, 8])\n",
      "indexes: torch.Size([2688, 8])\n",
      "Expanded shape torch.Size([26880, 8])\n"
     ]
    },
    {
     "name": "stderr",
     "output_type": "stream",
     "text": [
      "\n",
      " 81%|██████████████████████████████████████████████████████████████████████████▍                 | 809/1000 [02:48<00:39,  4.79it/s]\u001b[A"
     ]
    },
    {
     "name": "stdout",
     "output_type": "stream",
     "text": [
      "distances: torch.Size([2688, 1000])\n",
      "Indexes shape:  torch.Size([2688, 8])\n",
      "Kxz: torch.Size([26880, 1000])\n",
      "kzz_inv: torch.Size([26880, 8, 8])\n",
      "indexes: torch.Size([2688, 8])\n",
      "Expanded shape torch.Size([26880, 8])\n"
     ]
    },
    {
     "name": "stderr",
     "output_type": "stream",
     "text": [
      "\n",
      " 81%|██████████████████████████████████████████████████████████████████████████▌                 | 810/1000 [02:49<00:39,  4.79it/s]\u001b[A"
     ]
    },
    {
     "name": "stdout",
     "output_type": "stream",
     "text": [
      "distances: torch.Size([2688, 1000])\n",
      "Indexes shape:  torch.Size([2688, 8])\n",
      "Kxz: torch.Size([26880, 1000])\n",
      "kzz_inv: torch.Size([26880, 8, 8])\n",
      "indexes: torch.Size([2688, 8])\n",
      "Expanded shape torch.Size([26880, 8])\n"
     ]
    },
    {
     "name": "stderr",
     "output_type": "stream",
     "text": [
      "\n",
      " 81%|██████████████████████████████████████████████████████████████████████████▌                 | 811/1000 [02:49<00:39,  4.79it/s]\u001b[A"
     ]
    },
    {
     "name": "stdout",
     "output_type": "stream",
     "text": [
      "distances: torch.Size([2688, 1000])\n",
      "Indexes shape:  torch.Size([2688, 8])\n",
      "Kxz: torch.Size([26880, 1000])\n",
      "kzz_inv: torch.Size([26880, 8, 8])\n",
      "indexes: torch.Size([2688, 8])\n",
      "Expanded shape torch.Size([26880, 8])\n"
     ]
    },
    {
     "name": "stderr",
     "output_type": "stream",
     "text": [
      "\n",
      " 81%|██████████████████████████████████████████████████████████████████████████▋                 | 812/1000 [02:49<00:39,  4.79it/s]\u001b[A"
     ]
    },
    {
     "name": "stdout",
     "output_type": "stream",
     "text": [
      "distances: torch.Size([2688, 1000])\n",
      "Indexes shape:  torch.Size([2688, 8])\n",
      "Kxz: torch.Size([26880, 1000])\n",
      "kzz_inv: torch.Size([26880, 8, 8])\n",
      "indexes: torch.Size([2688, 8])\n",
      "Expanded shape torch.Size([26880, 8])\n"
     ]
    },
    {
     "name": "stderr",
     "output_type": "stream",
     "text": [
      "\n",
      " 81%|██████████████████████████████████████████████████████████████████████████▊                 | 813/1000 [02:49<00:39,  4.79it/s]\u001b[A"
     ]
    },
    {
     "name": "stdout",
     "output_type": "stream",
     "text": [
      "distances: torch.Size([2688, 1000])\n",
      "Indexes shape:  torch.Size([2688, 8])\n",
      "Kxz: torch.Size([26880, 1000])\n",
      "kzz_inv: torch.Size([26880, 8, 8])\n",
      "indexes: torch.Size([2688, 8])\n",
      "Expanded shape torch.Size([26880, 8])\n"
     ]
    },
    {
     "name": "stderr",
     "output_type": "stream",
     "text": [
      "\n",
      " 81%|██████████████████████████████████████████████████████████████████████████▉                 | 814/1000 [02:50<00:38,  4.79it/s]\u001b[A"
     ]
    },
    {
     "name": "stdout",
     "output_type": "stream",
     "text": [
      "distances: torch.Size([2688, 1000])\n",
      "Indexes shape:  torch.Size([2688, 8])\n",
      "Kxz: torch.Size([26880, 1000])\n",
      "kzz_inv: torch.Size([26880, 8, 8])\n",
      "indexes: torch.Size([2688, 8])\n",
      "Expanded shape torch.Size([26880, 8])\n"
     ]
    },
    {
     "name": "stderr",
     "output_type": "stream",
     "text": [
      "\n",
      " 82%|██████████████████████████████████████████████████████████████████████████▉                 | 815/1000 [02:50<00:38,  4.79it/s]\u001b[A"
     ]
    },
    {
     "name": "stdout",
     "output_type": "stream",
     "text": [
      "distances: torch.Size([2688, 1000])\n",
      "Indexes shape:  torch.Size([2688, 8])\n",
      "Kxz: torch.Size([26880, 1000])\n",
      "kzz_inv: torch.Size([26880, 8, 8])\n",
      "indexes: torch.Size([2688, 8])\n",
      "Expanded shape torch.Size([26880, 8])\n"
     ]
    },
    {
     "name": "stderr",
     "output_type": "stream",
     "text": [
      "\n",
      " 82%|███████████████████████████████████████████████████████████████████████████                 | 816/1000 [02:50<00:38,  4.79it/s]\u001b[A"
     ]
    },
    {
     "name": "stdout",
     "output_type": "stream",
     "text": [
      "distances: torch.Size([2688, 1000])\n",
      "Indexes shape:  torch.Size([2688, 8])\n",
      "Kxz: torch.Size([26880, 1000])\n",
      "kzz_inv: torch.Size([26880, 8, 8])\n",
      "indexes: torch.Size([2688, 8])\n",
      "Expanded shape torch.Size([26880, 8])\n"
     ]
    },
    {
     "name": "stderr",
     "output_type": "stream",
     "text": [
      "\n",
      " 82%|███████████████████████████████████████████████████████████████████████████▏                | 817/1000 [02:50<00:38,  4.79it/s]\u001b[A"
     ]
    },
    {
     "name": "stdout",
     "output_type": "stream",
     "text": [
      "distances: torch.Size([2688, 1000])\n",
      "Indexes shape:  torch.Size([2688, 8])\n",
      "Kxz: torch.Size([26880, 1000])\n",
      "kzz_inv: torch.Size([26880, 8, 8])\n",
      "indexes: torch.Size([2688, 8])\n",
      "Expanded shape torch.Size([26880, 8])\n"
     ]
    },
    {
     "name": "stderr",
     "output_type": "stream",
     "text": [
      "\n",
      " 82%|███████████████████████████████████████████████████████████████████████████▎                | 818/1000 [02:50<00:37,  4.79it/s]\u001b[A"
     ]
    },
    {
     "name": "stdout",
     "output_type": "stream",
     "text": [
      "distances: torch.Size([2688, 1000])\n",
      "Indexes shape:  torch.Size([2688, 8])\n",
      "Kxz: torch.Size([26880, 1000])\n",
      "kzz_inv: torch.Size([26880, 8, 8])\n",
      "indexes: torch.Size([2688, 8])\n",
      "Expanded shape torch.Size([26880, 8])\n"
     ]
    },
    {
     "name": "stderr",
     "output_type": "stream",
     "text": [
      "\n",
      " 82%|███████████████████████████████████████████████████████████████████████████▎                | 819/1000 [02:51<00:37,  4.79it/s]\u001b[A"
     ]
    },
    {
     "name": "stdout",
     "output_type": "stream",
     "text": [
      "distances: torch.Size([2688, 1000])\n",
      "Indexes shape:  torch.Size([2688, 8])\n",
      "Kxz: torch.Size([26880, 1000])\n",
      "kzz_inv: torch.Size([26880, 8, 8])\n",
      "indexes: torch.Size([2688, 8])\n",
      "Expanded shape torch.Size([26880, 8])\n"
     ]
    },
    {
     "name": "stderr",
     "output_type": "stream",
     "text": [
      "\n",
      " 82%|███████████████████████████████████████████████████████████████████████████▍                | 820/1000 [02:51<00:37,  4.79it/s]\u001b[A"
     ]
    },
    {
     "name": "stdout",
     "output_type": "stream",
     "text": [
      "distances: torch.Size([2688, 1000])\n",
      "Indexes shape:  torch.Size([2688, 8])\n",
      "Kxz: torch.Size([26880, 1000])\n",
      "kzz_inv: torch.Size([26880, 8, 8])\n",
      "indexes: torch.Size([2688, 8])\n",
      "Expanded shape torch.Size([26880, 8])\n"
     ]
    },
    {
     "name": "stderr",
     "output_type": "stream",
     "text": [
      "\n",
      " 82%|███████████████████████████████████████████████████████████████████████████▌                | 821/1000 [02:51<00:37,  4.79it/s]\u001b[A"
     ]
    },
    {
     "name": "stdout",
     "output_type": "stream",
     "text": [
      "distances: torch.Size([2688, 1000])\n",
      "Indexes shape:  torch.Size([2688, 8])\n",
      "Kxz: torch.Size([26880, 1000])\n",
      "kzz_inv: torch.Size([26880, 8, 8])\n",
      "indexes: torch.Size([2688, 8])\n",
      "Expanded shape torch.Size([26880, 8])\n"
     ]
    },
    {
     "name": "stderr",
     "output_type": "stream",
     "text": [
      "\n",
      " 82%|███████████████████████████████████████████████████████████████████████████▌                | 822/1000 [02:51<00:37,  4.78it/s]\u001b[A"
     ]
    },
    {
     "name": "stdout",
     "output_type": "stream",
     "text": [
      "distances: torch.Size([2688, 1000])\n",
      "Indexes shape:  torch.Size([2688, 8])\n",
      "Kxz: torch.Size([26880, 1000])\n",
      "kzz_inv: torch.Size([26880, 8, 8])\n",
      "indexes: torch.Size([2688, 8])\n",
      "Expanded shape torch.Size([26880, 8])\n"
     ]
    },
    {
     "name": "stderr",
     "output_type": "stream",
     "text": [
      "\n",
      " 82%|███████████████████████████████████████████████████████████████████████████▋                | 823/1000 [02:51<00:36,  4.79it/s]\u001b[A"
     ]
    },
    {
     "name": "stdout",
     "output_type": "stream",
     "text": [
      "distances: torch.Size([2688, 1000])\n",
      "Indexes shape:  torch.Size([2688, 8])\n",
      "Kxz: torch.Size([26880, 1000])\n",
      "kzz_inv: torch.Size([26880, 8, 8])\n",
      "indexes: torch.Size([2688, 8])\n",
      "Expanded shape torch.Size([26880, 8])\n"
     ]
    },
    {
     "name": "stderr",
     "output_type": "stream",
     "text": [
      "\n",
      " 82%|███████████████████████████████████████████████████████████████████████████▊                | 824/1000 [02:52<00:36,  4.79it/s]\u001b[A"
     ]
    },
    {
     "name": "stdout",
     "output_type": "stream",
     "text": [
      "distances: torch.Size([2688, 1000])\n",
      "Indexes shape:  torch.Size([2688, 8])\n",
      "Kxz: torch.Size([26880, 1000])\n",
      "kzz_inv: torch.Size([26880, 8, 8])\n",
      "indexes: torch.Size([2688, 8])\n",
      "Expanded shape torch.Size([26880, 8])\n"
     ]
    },
    {
     "name": "stderr",
     "output_type": "stream",
     "text": [
      "\n",
      " 82%|███████████████████████████████████████████████████████████████████████████▉                | 825/1000 [02:52<00:36,  4.79it/s]\u001b[A"
     ]
    },
    {
     "name": "stdout",
     "output_type": "stream",
     "text": [
      "distances: torch.Size([2688, 1000])\n",
      "Indexes shape:  torch.Size([2688, 8])\n",
      "Kxz: torch.Size([26880, 1000])\n",
      "kzz_inv: torch.Size([26880, 8, 8])\n",
      "indexes: torch.Size([2688, 8])\n",
      "Expanded shape torch.Size([26880, 8])\n"
     ]
    },
    {
     "name": "stderr",
     "output_type": "stream",
     "text": [
      "\n",
      " 83%|███████████████████████████████████████████████████████████████████████████▉                | 826/1000 [02:52<00:36,  4.79it/s]\u001b[A"
     ]
    },
    {
     "name": "stdout",
     "output_type": "stream",
     "text": [
      "distances: torch.Size([2688, 1000])\n",
      "Indexes shape:  torch.Size([2688, 8])\n",
      "Kxz: torch.Size([26880, 1000])\n",
      "kzz_inv: torch.Size([26880, 8, 8])\n",
      "indexes: torch.Size([2688, 8])\n",
      "Expanded shape torch.Size([26880, 8])\n"
     ]
    },
    {
     "name": "stderr",
     "output_type": "stream",
     "text": [
      "\n",
      " 83%|████████████████████████████████████████████████████████████████████████████                | 827/1000 [02:52<00:36,  4.79it/s]\u001b[A"
     ]
    },
    {
     "name": "stdout",
     "output_type": "stream",
     "text": [
      "distances: torch.Size([2688, 1000])\n",
      "Indexes shape:  torch.Size([2688, 8])\n",
      "Kxz: torch.Size([26880, 1000])\n",
      "kzz_inv: torch.Size([26880, 8, 8])\n",
      "indexes: torch.Size([2688, 8])\n",
      "Expanded shape torch.Size([26880, 8])\n"
     ]
    },
    {
     "name": "stderr",
     "output_type": "stream",
     "text": [
      "\n",
      " 83%|████████████████████████████████████████████████████████████████████████████▏               | 828/1000 [02:52<00:35,  4.79it/s]\u001b[A"
     ]
    },
    {
     "name": "stdout",
     "output_type": "stream",
     "text": [
      "distances: torch.Size([2688, 1000])\n",
      "Indexes shape:  torch.Size([2688, 8])\n",
      "Kxz: torch.Size([26880, 1000])\n",
      "kzz_inv: torch.Size([26880, 8, 8])\n",
      "indexes: torch.Size([2688, 8])\n",
      "Expanded shape torch.Size([26880, 8])\n"
     ]
    },
    {
     "name": "stderr",
     "output_type": "stream",
     "text": [
      "\n",
      " 83%|████████████████████████████████████████████████████████████████████████████▎               | 829/1000 [02:53<00:35,  4.79it/s]\u001b[A"
     ]
    },
    {
     "name": "stdout",
     "output_type": "stream",
     "text": [
      "distances: torch.Size([2688, 1000])\n",
      "Indexes shape:  torch.Size([2688, 8])\n",
      "Kxz: torch.Size([26880, 1000])\n",
      "kzz_inv: torch.Size([26880, 8, 8])\n",
      "indexes: torch.Size([2688, 8])\n",
      "Expanded shape torch.Size([26880, 8])\n"
     ]
    },
    {
     "name": "stderr",
     "output_type": "stream",
     "text": [
      "\n",
      " 83%|████████████████████████████████████████████████████████████████████████████▎               | 830/1000 [02:53<00:35,  4.79it/s]\u001b[A"
     ]
    },
    {
     "name": "stdout",
     "output_type": "stream",
     "text": [
      "distances: torch.Size([2688, 1000])\n",
      "Indexes shape:  torch.Size([2688, 8])\n",
      "Kxz: torch.Size([26880, 1000])\n",
      "kzz_inv: torch.Size([26880, 8, 8])\n",
      "indexes: torch.Size([2688, 8])\n",
      "Expanded shape torch.Size([26880, 8])\n"
     ]
    },
    {
     "name": "stderr",
     "output_type": "stream",
     "text": [
      "\n",
      " 83%|████████████████████████████████████████████████████████████████████████████▍               | 831/1000 [02:53<00:35,  4.78it/s]\u001b[A"
     ]
    },
    {
     "name": "stdout",
     "output_type": "stream",
     "text": [
      "distances: torch.Size([2688, 1000])\n",
      "Indexes shape:  torch.Size([2688, 8])\n",
      "Kxz: torch.Size([26880, 1000])\n",
      "kzz_inv: torch.Size([26880, 8, 8])\n",
      "indexes: torch.Size([2688, 8])\n",
      "Expanded shape torch.Size([26880, 8])\n"
     ]
    },
    {
     "name": "stderr",
     "output_type": "stream",
     "text": [
      "\n",
      " 83%|████████████████████████████████████████████████████████████████████████████▌               | 832/1000 [02:53<00:35,  4.78it/s]\u001b[A"
     ]
    },
    {
     "name": "stdout",
     "output_type": "stream",
     "text": [
      "distances: torch.Size([2688, 1000])\n",
      "Indexes shape:  torch.Size([2688, 8])\n",
      "Kxz: torch.Size([26880, 1000])\n",
      "kzz_inv: torch.Size([26880, 8, 8])\n",
      "indexes: torch.Size([2688, 8])\n",
      "Expanded shape torch.Size([26880, 8])\n"
     ]
    },
    {
     "name": "stderr",
     "output_type": "stream",
     "text": [
      "\n",
      " 83%|████████████████████████████████████████████████████████████████████████████▋               | 833/1000 [02:53<00:34,  4.78it/s]\u001b[A"
     ]
    },
    {
     "name": "stdout",
     "output_type": "stream",
     "text": [
      "distances: torch.Size([2688, 1000])\n",
      "Indexes shape:  torch.Size([2688, 8])\n",
      "Kxz: torch.Size([26880, 1000])\n",
      "kzz_inv: torch.Size([26880, 8, 8])\n",
      "indexes: torch.Size([2688, 8])\n",
      "Expanded shape torch.Size([26880, 8])\n"
     ]
    },
    {
     "name": "stderr",
     "output_type": "stream",
     "text": [
      "\n",
      " 83%|████████████████████████████████████████████████████████████████████████████▋               | 834/1000 [02:54<00:34,  4.78it/s]\u001b[A"
     ]
    },
    {
     "name": "stdout",
     "output_type": "stream",
     "text": [
      "distances: torch.Size([2688, 1000])\n",
      "Indexes shape:  torch.Size([2688, 8])\n",
      "Kxz: torch.Size([26880, 1000])\n",
      "kzz_inv: torch.Size([26880, 8, 8])\n",
      "indexes: torch.Size([2688, 8])\n",
      "Expanded shape torch.Size([26880, 8])\n"
     ]
    },
    {
     "name": "stderr",
     "output_type": "stream",
     "text": [
      "\n",
      " 84%|████████████████████████████████████████████████████████████████████████████▊               | 835/1000 [02:54<00:34,  4.79it/s]\u001b[A"
     ]
    },
    {
     "name": "stdout",
     "output_type": "stream",
     "text": [
      "distances: torch.Size([2688, 1000])\n",
      "Indexes shape:  torch.Size([2688, 8])\n",
      "Kxz: torch.Size([26880, 1000])\n",
      "kzz_inv: torch.Size([26880, 8, 8])\n",
      "indexes: torch.Size([2688, 8])\n",
      "Expanded shape torch.Size([26880, 8])\n"
     ]
    },
    {
     "name": "stderr",
     "output_type": "stream",
     "text": [
      "\n",
      " 84%|████████████████████████████████████████████████████████████████████████████▉               | 836/1000 [02:54<00:34,  4.78it/s]\u001b[A"
     ]
    },
    {
     "name": "stdout",
     "output_type": "stream",
     "text": [
      "distances: torch.Size([2688, 1000])\n",
      "Indexes shape:  torch.Size([2688, 8])\n",
      "Kxz: torch.Size([26880, 1000])\n",
      "kzz_inv: torch.Size([26880, 8, 8])\n",
      "indexes: torch.Size([2688, 8])\n",
      "Expanded shape torch.Size([26880, 8])\n"
     ]
    },
    {
     "name": "stderr",
     "output_type": "stream",
     "text": [
      "\n",
      " 84%|█████████████████████████████████████████████████████████████████████████████               | 837/1000 [02:54<00:34,  4.78it/s]\u001b[A"
     ]
    },
    {
     "name": "stdout",
     "output_type": "stream",
     "text": [
      "distances: torch.Size([2688, 1000])\n",
      "Indexes shape:  torch.Size([2688, 8])\n",
      "Kxz: torch.Size([26880, 1000])\n",
      "kzz_inv: torch.Size([26880, 8, 8])\n",
      "indexes: torch.Size([2688, 8])\n",
      "Expanded shape torch.Size([26880, 8])\n"
     ]
    },
    {
     "name": "stderr",
     "output_type": "stream",
     "text": [
      "\n",
      " 84%|█████████████████████████████████████████████████████████████████████████████               | 838/1000 [02:55<00:33,  4.79it/s]\u001b[A"
     ]
    },
    {
     "name": "stdout",
     "output_type": "stream",
     "text": [
      "distances: torch.Size([2688, 1000])\n",
      "Indexes shape:  torch.Size([2688, 8])\n",
      "Kxz: torch.Size([26880, 1000])\n",
      "kzz_inv: torch.Size([26880, 8, 8])\n",
      "indexes: torch.Size([2688, 8])\n",
      "Expanded shape torch.Size([26880, 8])\n"
     ]
    },
    {
     "name": "stderr",
     "output_type": "stream",
     "text": [
      "\n",
      " 84%|█████████████████████████████████████████████████████████████████████████████▏              | 839/1000 [02:55<00:33,  4.79it/s]\u001b[A"
     ]
    },
    {
     "name": "stdout",
     "output_type": "stream",
     "text": [
      "distances: torch.Size([2688, 1000])\n",
      "Indexes shape:  torch.Size([2688, 8])\n",
      "Kxz: torch.Size([26880, 1000])\n",
      "kzz_inv: torch.Size([26880, 8, 8])\n",
      "indexes: torch.Size([2688, 8])\n",
      "Expanded shape torch.Size([26880, 8])\n"
     ]
    },
    {
     "name": "stderr",
     "output_type": "stream",
     "text": [
      "\n",
      " 84%|█████████████████████████████████████████████████████████████████████████████▎              | 840/1000 [02:55<00:33,  4.79it/s]\u001b[A"
     ]
    },
    {
     "name": "stdout",
     "output_type": "stream",
     "text": [
      "distances: torch.Size([2688, 1000])\n",
      "Indexes shape:  torch.Size([2688, 8])\n",
      "Kxz: torch.Size([26880, 1000])\n",
      "kzz_inv: torch.Size([26880, 8, 8])\n",
      "indexes: torch.Size([2688, 8])\n",
      "Expanded shape torch.Size([26880, 8])\n"
     ]
    },
    {
     "name": "stderr",
     "output_type": "stream",
     "text": [
      "\n",
      " 84%|█████████████████████████████████████████████████████████████████████████████▎              | 841/1000 [02:55<00:33,  4.78it/s]\u001b[A"
     ]
    },
    {
     "name": "stdout",
     "output_type": "stream",
     "text": [
      "distances: torch.Size([2688, 1000])\n",
      "Indexes shape:  torch.Size([2688, 8])\n",
      "Kxz: torch.Size([26880, 1000])\n",
      "kzz_inv: torch.Size([26880, 8, 8])\n",
      "indexes: torch.Size([2688, 8])\n",
      "Expanded shape torch.Size([26880, 8])\n"
     ]
    },
    {
     "name": "stderr",
     "output_type": "stream",
     "text": [
      "\n",
      " 84%|█████████████████████████████████████████████████████████████████████████████▍              | 842/1000 [02:55<00:33,  4.78it/s]\u001b[A"
     ]
    },
    {
     "name": "stdout",
     "output_type": "stream",
     "text": [
      "distances: torch.Size([2688, 1000])\n",
      "Indexes shape:  torch.Size([2688, 8])\n",
      "Kxz: torch.Size([26880, 1000])\n",
      "kzz_inv: torch.Size([26880, 8, 8])\n",
      "indexes: torch.Size([2688, 8])\n",
      "Expanded shape torch.Size([26880, 8])\n"
     ]
    },
    {
     "name": "stderr",
     "output_type": "stream",
     "text": [
      "\n",
      " 84%|█████████████████████████████████████████████████████████████████████████████▌              | 843/1000 [02:56<00:32,  4.78it/s]\u001b[A"
     ]
    },
    {
     "name": "stdout",
     "output_type": "stream",
     "text": [
      "distances: torch.Size([2688, 1000])\n",
      "Indexes shape:  torch.Size([2688, 8])\n",
      "Kxz: torch.Size([26880, 1000])\n",
      "kzz_inv: torch.Size([26880, 8, 8])\n",
      "indexes: torch.Size([2688, 8])\n",
      "Expanded shape torch.Size([26880, 8])\n"
     ]
    },
    {
     "name": "stderr",
     "output_type": "stream",
     "text": [
      "\n",
      " 84%|█████████████████████████████████████████████████████████████████████████████▋              | 844/1000 [02:56<00:32,  4.78it/s]\u001b[A"
     ]
    },
    {
     "name": "stdout",
     "output_type": "stream",
     "text": [
      "distances: torch.Size([2688, 1000])\n",
      "Indexes shape:  torch.Size([2688, 8])\n",
      "Kxz: torch.Size([26880, 1000])\n",
      "kzz_inv: torch.Size([26880, 8, 8])\n",
      "indexes: torch.Size([2688, 8])\n",
      "Expanded shape torch.Size([26880, 8])\n"
     ]
    },
    {
     "name": "stderr",
     "output_type": "stream",
     "text": [
      "\n",
      " 84%|█████████████████████████████████████████████████████████████████████████████▋              | 845/1000 [02:56<00:32,  4.78it/s]\u001b[A"
     ]
    },
    {
     "name": "stdout",
     "output_type": "stream",
     "text": [
      "distances: torch.Size([2688, 1000])\n",
      "Indexes shape:  torch.Size([2688, 8])\n",
      "Kxz: torch.Size([26880, 1000])\n",
      "kzz_inv: torch.Size([26880, 8, 8])\n",
      "indexes: torch.Size([2688, 8])\n",
      "Expanded shape torch.Size([26880, 8])\n"
     ]
    },
    {
     "name": "stderr",
     "output_type": "stream",
     "text": [
      "\n",
      " 85%|█████████████████████████████████████████████████████████████████████████████▊              | 846/1000 [02:56<00:32,  4.78it/s]\u001b[A"
     ]
    },
    {
     "name": "stdout",
     "output_type": "stream",
     "text": [
      "distances: torch.Size([2688, 1000])\n",
      "Indexes shape:  torch.Size([2688, 8])\n",
      "Kxz: torch.Size([26880, 1000])\n",
      "kzz_inv: torch.Size([26880, 8, 8])\n",
      "indexes: torch.Size([2688, 8])\n",
      "Expanded shape torch.Size([26880, 8])\n"
     ]
    },
    {
     "name": "stderr",
     "output_type": "stream",
     "text": [
      "\n",
      " 85%|█████████████████████████████████████████████████████████████████████████████▉              | 847/1000 [02:56<00:31,  4.78it/s]\u001b[A"
     ]
    },
    {
     "name": "stdout",
     "output_type": "stream",
     "text": [
      "distances: torch.Size([2688, 1000])\n",
      "Indexes shape:  torch.Size([2688, 8])\n",
      "Kxz: torch.Size([26880, 1000])\n",
      "kzz_inv: torch.Size([26880, 8, 8])\n",
      "indexes: torch.Size([2688, 8])\n",
      "Expanded shape torch.Size([26880, 8])\n"
     ]
    },
    {
     "name": "stderr",
     "output_type": "stream",
     "text": [
      "\n",
      " 85%|██████████████████████████████████████████████████████████████████████████████              | 848/1000 [02:57<00:31,  4.79it/s]\u001b[A"
     ]
    },
    {
     "name": "stdout",
     "output_type": "stream",
     "text": [
      "distances: torch.Size([2688, 1000])\n",
      "Indexes shape:  torch.Size([2688, 8])\n",
      "Kxz: torch.Size([26880, 1000])\n",
      "kzz_inv: torch.Size([26880, 8, 8])\n",
      "indexes: torch.Size([2688, 8])\n",
      "Expanded shape torch.Size([26880, 8])\n"
     ]
    },
    {
     "name": "stderr",
     "output_type": "stream",
     "text": [
      "\n",
      " 85%|██████████████████████████████████████████████████████████████████████████████              | 849/1000 [02:57<00:31,  4.79it/s]\u001b[A"
     ]
    },
    {
     "name": "stdout",
     "output_type": "stream",
     "text": [
      "distances: torch.Size([2688, 1000])\n",
      "Indexes shape:  torch.Size([2688, 8])\n",
      "Kxz: torch.Size([26880, 1000])\n",
      "kzz_inv: torch.Size([26880, 8, 8])\n",
      "indexes: torch.Size([2688, 8])\n",
      "Expanded shape torch.Size([26880, 8])\n"
     ]
    },
    {
     "name": "stderr",
     "output_type": "stream",
     "text": [
      "\n",
      " 85%|██████████████████████████████████████████████████████████████████████████████▏             | 850/1000 [02:57<00:31,  4.79it/s]\u001b[A"
     ]
    },
    {
     "name": "stdout",
     "output_type": "stream",
     "text": [
      "distances: torch.Size([2688, 1000])\n",
      "Indexes shape:  torch.Size([2688, 8])\n",
      "Kxz: torch.Size([26880, 1000])\n",
      "kzz_inv: torch.Size([26880, 8, 8])\n",
      "indexes: torch.Size([2688, 8])\n",
      "Expanded shape torch.Size([26880, 8])\n"
     ]
    },
    {
     "name": "stderr",
     "output_type": "stream",
     "text": [
      "\n",
      " 85%|██████████████████████████████████████████████████████████████████████████████▎             | 851/1000 [02:57<00:31,  4.79it/s]\u001b[A"
     ]
    },
    {
     "name": "stdout",
     "output_type": "stream",
     "text": [
      "distances: torch.Size([2688, 1000])\n",
      "Indexes shape:  torch.Size([2688, 8])\n",
      "Kxz: torch.Size([26880, 1000])\n",
      "kzz_inv: torch.Size([26880, 8, 8])\n",
      "indexes: torch.Size([2688, 8])\n",
      "Expanded shape torch.Size([26880, 8])\n"
     ]
    },
    {
     "name": "stderr",
     "output_type": "stream",
     "text": [
      "\n",
      " 85%|██████████████████████████████████████████████████████████████████████████████▍             | 852/1000 [02:57<00:30,  4.78it/s]\u001b[A"
     ]
    },
    {
     "name": "stdout",
     "output_type": "stream",
     "text": [
      "distances: torch.Size([2688, 1000])\n",
      "Indexes shape:  torch.Size([2688, 8])\n",
      "Kxz: torch.Size([26880, 1000])\n",
      "kzz_inv: torch.Size([26880, 8, 8])\n",
      "indexes: torch.Size([2688, 8])\n",
      "Expanded shape torch.Size([26880, 8])\n"
     ]
    },
    {
     "name": "stderr",
     "output_type": "stream",
     "text": [
      "\n",
      " 85%|██████████████████████████████████████████████████████████████████████████████▍             | 853/1000 [02:58<00:30,  4.78it/s]\u001b[A"
     ]
    },
    {
     "name": "stdout",
     "output_type": "stream",
     "text": [
      "distances: torch.Size([2688, 1000])\n",
      "Indexes shape:  torch.Size([2688, 8])\n",
      "Kxz: torch.Size([26880, 1000])\n",
      "kzz_inv: torch.Size([26880, 8, 8])\n",
      "indexes: torch.Size([2688, 8])\n",
      "Expanded shape torch.Size([26880, 8])\n"
     ]
    },
    {
     "name": "stderr",
     "output_type": "stream",
     "text": [
      "\n",
      " 85%|██████████████████████████████████████████████████████████████████████████████▌             | 854/1000 [02:58<00:30,  4.78it/s]\u001b[A"
     ]
    },
    {
     "name": "stdout",
     "output_type": "stream",
     "text": [
      "distances: torch.Size([2688, 1000])\n",
      "Indexes shape:  torch.Size([2688, 8])\n",
      "Kxz: torch.Size([26880, 1000])\n",
      "kzz_inv: torch.Size([26880, 8, 8])\n",
      "indexes: torch.Size([2688, 8])\n",
      "Expanded shape torch.Size([26880, 8])\n"
     ]
    },
    {
     "name": "stderr",
     "output_type": "stream",
     "text": [
      "\n",
      " 86%|██████████████████████████████████████████████████████████████████████████████▋             | 855/1000 [02:58<00:30,  4.78it/s]\u001b[A"
     ]
    },
    {
     "name": "stdout",
     "output_type": "stream",
     "text": [
      "distances: torch.Size([2688, 1000])\n",
      "Indexes shape:  torch.Size([2688, 8])\n",
      "Kxz: torch.Size([26880, 1000])\n",
      "kzz_inv: torch.Size([26880, 8, 8])\n",
      "indexes: torch.Size([2688, 8])\n",
      "Expanded shape torch.Size([26880, 8])\n"
     ]
    },
    {
     "name": "stderr",
     "output_type": "stream",
     "text": [
      "\n",
      " 86%|██████████████████████████████████████████████████████████████████████████████▊             | 856/1000 [02:58<00:30,  4.78it/s]\u001b[A"
     ]
    },
    {
     "name": "stdout",
     "output_type": "stream",
     "text": [
      "distances: torch.Size([2688, 1000])\n",
      "Indexes shape:  torch.Size([2688, 8])\n",
      "Kxz: torch.Size([26880, 1000])\n",
      "kzz_inv: torch.Size([26880, 8, 8])\n",
      "indexes: torch.Size([2688, 8])\n",
      "Expanded shape torch.Size([26880, 8])\n"
     ]
    },
    {
     "name": "stderr",
     "output_type": "stream",
     "text": [
      "\n",
      " 86%|██████████████████████████████████████████████████████████████████████████████▊             | 857/1000 [02:58<00:29,  4.78it/s]\u001b[A"
     ]
    },
    {
     "name": "stdout",
     "output_type": "stream",
     "text": [
      "distances: torch.Size([2688, 1000])\n",
      "Indexes shape:  torch.Size([2688, 8])\n",
      "Kxz: torch.Size([26880, 1000])\n",
      "kzz_inv: torch.Size([26880, 8, 8])\n",
      "indexes: torch.Size([2688, 8])\n",
      "Expanded shape torch.Size([26880, 8])\n"
     ]
    },
    {
     "name": "stderr",
     "output_type": "stream",
     "text": [
      "\n",
      " 86%|██████████████████████████████████████████████████████████████████████████████▉             | 858/1000 [02:59<00:29,  4.78it/s]\u001b[A"
     ]
    },
    {
     "name": "stdout",
     "output_type": "stream",
     "text": [
      "distances: torch.Size([2688, 1000])\n",
      "Indexes shape:  torch.Size([2688, 8])\n",
      "Kxz: torch.Size([26880, 1000])\n",
      "kzz_inv: torch.Size([26880, 8, 8])\n",
      "indexes: torch.Size([2688, 8])\n",
      "Expanded shape torch.Size([26880, 8])\n"
     ]
    },
    {
     "name": "stderr",
     "output_type": "stream",
     "text": [
      "\n",
      " 86%|███████████████████████████████████████████████████████████████████████████████             | 859/1000 [02:59<00:29,  4.79it/s]\u001b[A"
     ]
    },
    {
     "name": "stdout",
     "output_type": "stream",
     "text": [
      "distances: torch.Size([2688, 1000])\n",
      "Indexes shape:  torch.Size([2688, 8])\n",
      "Kxz: torch.Size([26880, 1000])\n",
      "kzz_inv: torch.Size([26880, 8, 8])\n",
      "indexes: torch.Size([2688, 8])\n",
      "Expanded shape torch.Size([26880, 8])\n"
     ]
    },
    {
     "name": "stderr",
     "output_type": "stream",
     "text": [
      "\n",
      " 86%|███████████████████████████████████████████████████████████████████████████████             | 860/1000 [02:59<00:29,  4.79it/s]\u001b[A"
     ]
    },
    {
     "name": "stdout",
     "output_type": "stream",
     "text": [
      "distances: torch.Size([2688, 1000])\n",
      "Indexes shape:  torch.Size([2688, 8])\n",
      "Kxz: torch.Size([26880, 1000])\n",
      "kzz_inv: torch.Size([26880, 8, 8])\n",
      "indexes: torch.Size([2688, 8])\n",
      "Expanded shape torch.Size([26880, 8])\n"
     ]
    },
    {
     "name": "stderr",
     "output_type": "stream",
     "text": [
      "\n",
      " 86%|███████████████████████████████████████████████████████████████████████████████▏            | 861/1000 [02:59<00:29,  4.78it/s]\u001b[A"
     ]
    },
    {
     "name": "stdout",
     "output_type": "stream",
     "text": [
      "distances: torch.Size([2688, 1000])\n",
      "Indexes shape:  torch.Size([2688, 8])\n",
      "Kxz: torch.Size([26880, 1000])\n",
      "kzz_inv: torch.Size([26880, 8, 8])\n",
      "indexes: torch.Size([2688, 8])\n",
      "Expanded shape torch.Size([26880, 8])\n"
     ]
    },
    {
     "name": "stderr",
     "output_type": "stream",
     "text": [
      "\n",
      " 86%|███████████████████████████████████████████████████████████████████████████████▎            | 862/1000 [03:00<00:28,  4.78it/s]\u001b[A"
     ]
    },
    {
     "name": "stdout",
     "output_type": "stream",
     "text": [
      "distances: torch.Size([2688, 1000])\n",
      "Indexes shape:  torch.Size([2688, 8])\n",
      "Kxz: torch.Size([26880, 1000])\n",
      "kzz_inv: torch.Size([26880, 8, 8])\n",
      "indexes: torch.Size([2688, 8])\n",
      "Expanded shape torch.Size([26880, 8])\n"
     ]
    },
    {
     "name": "stderr",
     "output_type": "stream",
     "text": [
      "\n",
      " 86%|███████████████████████████████████████████████████████████████████████████████▍            | 863/1000 [03:00<00:28,  4.78it/s]\u001b[A"
     ]
    },
    {
     "name": "stdout",
     "output_type": "stream",
     "text": [
      "distances: torch.Size([2688, 1000])\n",
      "Indexes shape:  torch.Size([2688, 8])\n",
      "Kxz: torch.Size([26880, 1000])\n",
      "kzz_inv: torch.Size([26880, 8, 8])\n",
      "indexes: torch.Size([2688, 8])\n",
      "Expanded shape torch.Size([26880, 8])\n"
     ]
    },
    {
     "name": "stderr",
     "output_type": "stream",
     "text": [
      "\n",
      " 86%|███████████████████████████████████████████████████████████████████████████████▍            | 864/1000 [03:00<00:28,  4.78it/s]\u001b[A"
     ]
    },
    {
     "name": "stdout",
     "output_type": "stream",
     "text": [
      "distances: torch.Size([2688, 1000])\n",
      "Indexes shape:  torch.Size([2688, 8])\n",
      "Kxz: torch.Size([26880, 1000])\n",
      "kzz_inv: torch.Size([26880, 8, 8])\n",
      "indexes: torch.Size([2688, 8])\n",
      "Expanded shape torch.Size([26880, 8])\n"
     ]
    },
    {
     "name": "stderr",
     "output_type": "stream",
     "text": [
      "\n",
      " 86%|███████████████████████████████████████████████████████████████████████████████▌            | 865/1000 [03:00<00:28,  4.79it/s]\u001b[A"
     ]
    },
    {
     "name": "stdout",
     "output_type": "stream",
     "text": [
      "distances: torch.Size([2688, 1000])\n",
      "Indexes shape:  torch.Size([2688, 8])\n",
      "Kxz: torch.Size([26880, 1000])\n",
      "kzz_inv: torch.Size([26880, 8, 8])\n",
      "indexes: torch.Size([2688, 8])\n",
      "Expanded shape torch.Size([26880, 8])\n"
     ]
    },
    {
     "name": "stderr",
     "output_type": "stream",
     "text": [
      "\n",
      " 87%|███████████████████████████████████████████████████████████████████████████████▋            | 866/1000 [03:00<00:27,  4.79it/s]\u001b[A"
     ]
    },
    {
     "name": "stdout",
     "output_type": "stream",
     "text": [
      "distances: torch.Size([2688, 1000])\n",
      "Indexes shape:  torch.Size([2688, 8])\n",
      "Kxz: torch.Size([26880, 1000])\n",
      "kzz_inv: torch.Size([26880, 8, 8])\n",
      "indexes: torch.Size([2688, 8])\n",
      "Expanded shape torch.Size([26880, 8])\n"
     ]
    },
    {
     "name": "stderr",
     "output_type": "stream",
     "text": [
      "\n",
      " 87%|███████████████████████████████████████████████████████████████████████████████▊            | 867/1000 [03:01<00:27,  4.79it/s]\u001b[A"
     ]
    },
    {
     "name": "stdout",
     "output_type": "stream",
     "text": [
      "distances: torch.Size([2688, 1000])\n",
      "Indexes shape:  torch.Size([2688, 8])\n",
      "Kxz: torch.Size([26880, 1000])\n",
      "kzz_inv: torch.Size([26880, 8, 8])\n",
      "indexes: torch.Size([2688, 8])\n",
      "Expanded shape torch.Size([26880, 8])\n"
     ]
    },
    {
     "name": "stderr",
     "output_type": "stream",
     "text": [
      "\n",
      " 87%|███████████████████████████████████████████████████████████████████████████████▊            | 868/1000 [03:01<00:27,  4.79it/s]\u001b[A"
     ]
    },
    {
     "name": "stdout",
     "output_type": "stream",
     "text": [
      "distances: torch.Size([2688, 1000])\n",
      "Indexes shape:  torch.Size([2688, 8])\n",
      "Kxz: torch.Size([26880, 1000])\n",
      "kzz_inv: torch.Size([26880, 8, 8])\n",
      "indexes: torch.Size([2688, 8])\n",
      "Expanded shape torch.Size([26880, 8])\n"
     ]
    },
    {
     "name": "stderr",
     "output_type": "stream",
     "text": [
      "\n",
      " 87%|███████████████████████████████████████████████████████████████████████████████▉            | 869/1000 [03:01<00:27,  4.79it/s]\u001b[A"
     ]
    },
    {
     "name": "stdout",
     "output_type": "stream",
     "text": [
      "distances: torch.Size([2688, 1000])\n",
      "Indexes shape:  torch.Size([2688, 8])\n",
      "Kxz: torch.Size([26880, 1000])\n",
      "kzz_inv: torch.Size([26880, 8, 8])\n",
      "indexes: torch.Size([2688, 8])\n",
      "Expanded shape torch.Size([26880, 8])\n"
     ]
    },
    {
     "name": "stderr",
     "output_type": "stream",
     "text": [
      "\n",
      " 87%|████████████████████████████████████████████████████████████████████████████████            | 870/1000 [03:01<00:27,  4.79it/s]\u001b[A"
     ]
    },
    {
     "name": "stdout",
     "output_type": "stream",
     "text": [
      "distances: torch.Size([2688, 1000])\n",
      "Indexes shape:  torch.Size([2688, 8])\n",
      "Kxz: torch.Size([26880, 1000])\n",
      "kzz_inv: torch.Size([26880, 8, 8])\n",
      "indexes: torch.Size([2688, 8])\n",
      "Expanded shape torch.Size([26880, 8])\n"
     ]
    },
    {
     "name": "stderr",
     "output_type": "stream",
     "text": [
      "\n",
      " 87%|████████████████████████████████████████████████████████████████████████████████▏           | 871/1000 [03:01<00:26,  4.79it/s]\u001b[A"
     ]
    },
    {
     "name": "stdout",
     "output_type": "stream",
     "text": [
      "distances: torch.Size([2688, 1000])\n",
      "Indexes shape:  torch.Size([2688, 8])\n",
      "Kxz: torch.Size([26880, 1000])\n",
      "kzz_inv: torch.Size([26880, 8, 8])\n",
      "indexes: torch.Size([2688, 8])\n",
      "Expanded shape torch.Size([26880, 8])\n"
     ]
    },
    {
     "name": "stderr",
     "output_type": "stream",
     "text": [
      "\n",
      " 87%|████████████████████████████████████████████████████████████████████████████████▏           | 872/1000 [03:02<00:26,  4.78it/s]\u001b[A"
     ]
    },
    {
     "name": "stdout",
     "output_type": "stream",
     "text": [
      "distances: torch.Size([2688, 1000])\n",
      "Indexes shape:  torch.Size([2688, 8])\n",
      "Kxz: torch.Size([26880, 1000])\n",
      "kzz_inv: torch.Size([26880, 8, 8])\n",
      "indexes: torch.Size([2688, 8])\n",
      "Expanded shape torch.Size([26880, 8])\n"
     ]
    },
    {
     "name": "stderr",
     "output_type": "stream",
     "text": [
      "\n",
      " 87%|████████████████████████████████████████████████████████████████████████████████▎           | 873/1000 [03:02<00:26,  4.78it/s]\u001b[A"
     ]
    },
    {
     "name": "stdout",
     "output_type": "stream",
     "text": [
      "distances: torch.Size([2688, 1000])\n",
      "Indexes shape:  torch.Size([2688, 8])\n",
      "Kxz: torch.Size([26880, 1000])\n",
      "kzz_inv: torch.Size([26880, 8, 8])\n",
      "indexes: torch.Size([2688, 8])\n",
      "Expanded shape torch.Size([26880, 8])\n"
     ]
    },
    {
     "name": "stderr",
     "output_type": "stream",
     "text": [
      "\n",
      " 87%|████████████████████████████████████████████████████████████████████████████████▍           | 874/1000 [03:02<00:26,  4.78it/s]\u001b[A"
     ]
    },
    {
     "name": "stdout",
     "output_type": "stream",
     "text": [
      "distances: torch.Size([2688, 1000])\n",
      "Indexes shape:  torch.Size([2688, 8])\n",
      "Kxz: torch.Size([26880, 1000])\n",
      "kzz_inv: torch.Size([26880, 8, 8])\n",
      "indexes: torch.Size([2688, 8])\n",
      "Expanded shape torch.Size([26880, 8])\n"
     ]
    },
    {
     "name": "stderr",
     "output_type": "stream",
     "text": [
      "\n",
      " 88%|████████████████████████████████████████████████████████████████████████████████▌           | 875/1000 [03:02<00:26,  4.78it/s]\u001b[A"
     ]
    },
    {
     "name": "stdout",
     "output_type": "stream",
     "text": [
      "distances: torch.Size([2688, 1000])\n",
      "Indexes shape:  torch.Size([2688, 8])\n",
      "Kxz: torch.Size([26880, 1000])\n",
      "kzz_inv: torch.Size([26880, 8, 8])\n",
      "indexes: torch.Size([2688, 8])\n",
      "Expanded shape torch.Size([26880, 8])\n"
     ]
    },
    {
     "name": "stderr",
     "output_type": "stream",
     "text": [
      "\n",
      " 88%|████████████████████████████████████████████████████████████████████████████████▌           | 876/1000 [03:02<00:25,  4.78it/s]\u001b[A"
     ]
    },
    {
     "name": "stdout",
     "output_type": "stream",
     "text": [
      "distances: torch.Size([2688, 1000])\n",
      "Indexes shape:  torch.Size([2688, 8])\n",
      "Kxz: torch.Size([26880, 1000])\n",
      "kzz_inv: torch.Size([26880, 8, 8])\n",
      "indexes: torch.Size([2688, 8])\n",
      "Expanded shape torch.Size([26880, 8])\n"
     ]
    },
    {
     "name": "stderr",
     "output_type": "stream",
     "text": [
      "\n",
      " 88%|████████████████████████████████████████████████████████████████████████████████▋           | 877/1000 [03:03<00:25,  4.78it/s]\u001b[A"
     ]
    },
    {
     "name": "stdout",
     "output_type": "stream",
     "text": [
      "distances: torch.Size([2688, 1000])\n",
      "Indexes shape:  torch.Size([2688, 8])\n",
      "Kxz: torch.Size([26880, 1000])\n",
      "kzz_inv: torch.Size([26880, 8, 8])\n",
      "indexes: torch.Size([2688, 8])\n",
      "Expanded shape torch.Size([26880, 8])\n"
     ]
    },
    {
     "name": "stderr",
     "output_type": "stream",
     "text": [
      "\n",
      " 88%|████████████████████████████████████████████████████████████████████████████████▊           | 878/1000 [03:03<00:25,  4.79it/s]\u001b[A"
     ]
    },
    {
     "name": "stdout",
     "output_type": "stream",
     "text": [
      "distances: torch.Size([2688, 1000])\n",
      "Indexes shape:  torch.Size([2688, 8])\n",
      "Kxz: torch.Size([26880, 1000])\n",
      "kzz_inv: torch.Size([26880, 8, 8])\n",
      "indexes: torch.Size([2688, 8])\n",
      "Expanded shape torch.Size([26880, 8])\n"
     ]
    },
    {
     "name": "stderr",
     "output_type": "stream",
     "text": [
      "\n",
      " 88%|████████████████████████████████████████████████████████████████████████████████▊           | 879/1000 [03:03<00:25,  4.78it/s]\u001b[A"
     ]
    },
    {
     "name": "stdout",
     "output_type": "stream",
     "text": [
      "distances: torch.Size([2688, 1000])\n",
      "Indexes shape:  torch.Size([2688, 8])\n",
      "Kxz: torch.Size([26880, 1000])\n",
      "kzz_inv: torch.Size([26880, 8, 8])\n",
      "indexes: torch.Size([2688, 8])\n",
      "Expanded shape torch.Size([26880, 8])\n"
     ]
    },
    {
     "name": "stderr",
     "output_type": "stream",
     "text": [
      "\n",
      " 88%|████████████████████████████████████████████████████████████████████████████████▉           | 880/1000 [03:03<00:25,  4.78it/s]\u001b[A"
     ]
    },
    {
     "name": "stdout",
     "output_type": "stream",
     "text": [
      "distances: torch.Size([2688, 1000])\n",
      "Indexes shape:  torch.Size([2688, 8])\n",
      "Kxz: torch.Size([26880, 1000])\n",
      "kzz_inv: torch.Size([26880, 8, 8])\n",
      "indexes: torch.Size([2688, 8])\n",
      "Expanded shape torch.Size([26880, 8])\n"
     ]
    },
    {
     "name": "stderr",
     "output_type": "stream",
     "text": [
      "\n",
      " 88%|█████████████████████████████████████████████████████████████████████████████████           | 881/1000 [03:04<00:24,  4.78it/s]\u001b[A"
     ]
    },
    {
     "name": "stdout",
     "output_type": "stream",
     "text": [
      "distances: torch.Size([2688, 1000])\n",
      "Indexes shape:  torch.Size([2688, 8])\n",
      "Kxz: torch.Size([26880, 1000])\n",
      "kzz_inv: torch.Size([26880, 8, 8])\n",
      "indexes: torch.Size([2688, 8])\n",
      "Expanded shape torch.Size([26880, 8])\n"
     ]
    },
    {
     "name": "stderr",
     "output_type": "stream",
     "text": [
      "\n",
      " 88%|█████████████████████████████████████████████████████████████████████████████████▏          | 882/1000 [03:04<00:24,  4.78it/s]\u001b[A"
     ]
    },
    {
     "name": "stdout",
     "output_type": "stream",
     "text": [
      "distances: torch.Size([2688, 1000])\n",
      "Indexes shape:  torch.Size([2688, 8])\n",
      "Kxz: torch.Size([26880, 1000])\n",
      "kzz_inv: torch.Size([26880, 8, 8])\n",
      "indexes: torch.Size([2688, 8])\n",
      "Expanded shape torch.Size([26880, 8])\n"
     ]
    },
    {
     "name": "stderr",
     "output_type": "stream",
     "text": [
      "\n",
      " 88%|█████████████████████████████████████████████████████████████████████████████████▏          | 883/1000 [03:04<00:24,  4.78it/s]\u001b[A"
     ]
    },
    {
     "name": "stdout",
     "output_type": "stream",
     "text": [
      "distances: torch.Size([2688, 1000])\n",
      "Indexes shape:  torch.Size([2688, 8])\n",
      "Kxz: torch.Size([26880, 1000])\n",
      "kzz_inv: torch.Size([26880, 8, 8])\n",
      "indexes: torch.Size([2688, 8])\n",
      "Expanded shape torch.Size([26880, 8])\n"
     ]
    },
    {
     "name": "stderr",
     "output_type": "stream",
     "text": [
      "\n",
      " 88%|█████████████████████████████████████████████████████████████████████████████████▎          | 884/1000 [03:04<00:24,  4.78it/s]\u001b[A"
     ]
    },
    {
     "name": "stdout",
     "output_type": "stream",
     "text": [
      "distances: torch.Size([2688, 1000])\n",
      "Indexes shape:  torch.Size([2688, 8])\n",
      "Kxz: torch.Size([26880, 1000])\n",
      "kzz_inv: torch.Size([26880, 8, 8])\n",
      "indexes: torch.Size([2688, 8])\n",
      "Expanded shape torch.Size([26880, 8])\n"
     ]
    },
    {
     "name": "stderr",
     "output_type": "stream",
     "text": [
      "\n",
      " 88%|█████████████████████████████████████████████████████████████████████████████████▍          | 885/1000 [03:04<00:24,  4.78it/s]\u001b[A"
     ]
    },
    {
     "name": "stdout",
     "output_type": "stream",
     "text": [
      "distances: torch.Size([2688, 1000])\n",
      "Indexes shape:  torch.Size([2688, 8])\n",
      "Kxz: torch.Size([26880, 1000])\n",
      "kzz_inv: torch.Size([26880, 8, 8])\n",
      "indexes: torch.Size([2688, 8])\n",
      "Expanded shape torch.Size([26880, 8])\n"
     ]
    },
    {
     "name": "stderr",
     "output_type": "stream",
     "text": [
      "\n",
      " 89%|█████████████████████████████████████████████████████████████████████████████████▌          | 886/1000 [03:05<00:23,  4.79it/s]\u001b[A"
     ]
    },
    {
     "name": "stdout",
     "output_type": "stream",
     "text": [
      "distances: torch.Size([2688, 1000])\n",
      "Indexes shape:  torch.Size([2688, 8])\n",
      "Kxz: torch.Size([26880, 1000])\n",
      "kzz_inv: torch.Size([26880, 8, 8])\n",
      "indexes: torch.Size([2688, 8])\n",
      "Expanded shape torch.Size([26880, 8])\n"
     ]
    },
    {
     "name": "stderr",
     "output_type": "stream",
     "text": [
      "\n",
      " 89%|█████████████████████████████████████████████████████████████████████████████████▌          | 887/1000 [03:05<00:23,  4.79it/s]\u001b[A"
     ]
    },
    {
     "name": "stdout",
     "output_type": "stream",
     "text": [
      "distances: torch.Size([2688, 1000])\n",
      "Indexes shape:  torch.Size([2688, 8])\n",
      "Kxz: torch.Size([26880, 1000])\n",
      "kzz_inv: torch.Size([26880, 8, 8])\n",
      "indexes: torch.Size([2688, 8])\n",
      "Expanded shape torch.Size([26880, 8])\n"
     ]
    },
    {
     "name": "stderr",
     "output_type": "stream",
     "text": [
      "\n",
      " 89%|█████████████████████████████████████████████████████████████████████████████████▋          | 888/1000 [03:05<00:23,  4.79it/s]\u001b[A"
     ]
    },
    {
     "name": "stdout",
     "output_type": "stream",
     "text": [
      "distances: torch.Size([2688, 1000])\n",
      "Indexes shape:  torch.Size([2688, 8])\n",
      "Kxz: torch.Size([26880, 1000])\n",
      "kzz_inv: torch.Size([26880, 8, 8])\n",
      "indexes: torch.Size([2688, 8])\n",
      "Expanded shape torch.Size([26880, 8])\n"
     ]
    },
    {
     "name": "stderr",
     "output_type": "stream",
     "text": [
      "\n",
      " 89%|█████████████████████████████████████████████████████████████████████████████████▊          | 889/1000 [03:05<00:23,  4.79it/s]\u001b[A"
     ]
    },
    {
     "name": "stdout",
     "output_type": "stream",
     "text": [
      "distances: torch.Size([2688, 1000])\n",
      "Indexes shape:  torch.Size([2688, 8])\n",
      "Kxz: torch.Size([26880, 1000])\n",
      "kzz_inv: torch.Size([26880, 8, 8])\n",
      "indexes: torch.Size([2688, 8])\n",
      "Expanded shape torch.Size([26880, 8])\n"
     ]
    },
    {
     "name": "stderr",
     "output_type": "stream",
     "text": [
      "\n",
      " 89%|█████████████████████████████████████████████████████████████████████████████████▉          | 890/1000 [03:05<00:22,  4.79it/s]\u001b[A"
     ]
    },
    {
     "name": "stdout",
     "output_type": "stream",
     "text": [
      "distances: torch.Size([2688, 1000])\n",
      "Indexes shape:  torch.Size([2688, 8])\n",
      "Kxz: torch.Size([26880, 1000])\n",
      "kzz_inv: torch.Size([26880, 8, 8])\n",
      "indexes: torch.Size([2688, 8])\n",
      "Expanded shape torch.Size([26880, 8])\n"
     ]
    },
    {
     "name": "stderr",
     "output_type": "stream",
     "text": [
      "\n",
      " 89%|█████████████████████████████████████████████████████████████████████████████████▉          | 891/1000 [03:06<00:22,  4.78it/s]\u001b[A"
     ]
    },
    {
     "name": "stdout",
     "output_type": "stream",
     "text": [
      "distances: torch.Size([2688, 1000])\n",
      "Indexes shape:  torch.Size([2688, 8])\n",
      "Kxz: torch.Size([26880, 1000])\n",
      "kzz_inv: torch.Size([26880, 8, 8])\n",
      "indexes: torch.Size([2688, 8])\n",
      "Expanded shape torch.Size([26880, 8])\n"
     ]
    },
    {
     "name": "stderr",
     "output_type": "stream",
     "text": [
      "\n",
      " 89%|██████████████████████████████████████████████████████████████████████████████████          | 892/1000 [03:06<00:22,  4.78it/s]\u001b[A"
     ]
    },
    {
     "name": "stdout",
     "output_type": "stream",
     "text": [
      "distances: torch.Size([2688, 1000])\n",
      "Indexes shape:  torch.Size([2688, 8])\n",
      "Kxz: torch.Size([26880, 1000])\n",
      "kzz_inv: torch.Size([26880, 8, 8])\n",
      "indexes: torch.Size([2688, 8])\n",
      "Expanded shape torch.Size([26880, 8])\n"
     ]
    },
    {
     "name": "stderr",
     "output_type": "stream",
     "text": [
      "\n",
      " 89%|██████████████████████████████████████████████████████████████████████████████████▏         | 893/1000 [03:06<00:22,  4.78it/s]\u001b[A"
     ]
    },
    {
     "name": "stdout",
     "output_type": "stream",
     "text": [
      "distances: torch.Size([2688, 1000])\n",
      "Indexes shape:  torch.Size([2688, 8])\n",
      "Kxz: torch.Size([26880, 1000])\n",
      "kzz_inv: torch.Size([26880, 8, 8])\n",
      "indexes: torch.Size([2688, 8])\n",
      "Expanded shape torch.Size([26880, 8])\n"
     ]
    },
    {
     "name": "stderr",
     "output_type": "stream",
     "text": [
      "\n",
      " 89%|██████████████████████████████████████████████████████████████████████████████████▏         | 894/1000 [03:06<00:22,  4.78it/s]\u001b[A"
     ]
    },
    {
     "name": "stdout",
     "output_type": "stream",
     "text": [
      "distances: torch.Size([2688, 1000])\n",
      "Indexes shape:  torch.Size([2688, 8])\n",
      "Kxz: torch.Size([26880, 1000])\n",
      "kzz_inv: torch.Size([26880, 8, 8])\n",
      "indexes: torch.Size([2688, 8])\n",
      "Expanded shape torch.Size([26880, 8])\n"
     ]
    },
    {
     "name": "stderr",
     "output_type": "stream",
     "text": [
      "\n",
      " 90%|██████████████████████████████████████████████████████████████████████████████████▎         | 895/1000 [03:06<00:21,  4.78it/s]\u001b[A"
     ]
    },
    {
     "name": "stdout",
     "output_type": "stream",
     "text": [
      "distances: torch.Size([2688, 1000])\n",
      "Indexes shape:  torch.Size([2688, 8])\n",
      "Kxz: torch.Size([26880, 1000])\n",
      "kzz_inv: torch.Size([26880, 8, 8])\n",
      "indexes: torch.Size([2688, 8])\n",
      "Expanded shape torch.Size([26880, 8])\n"
     ]
    },
    {
     "name": "stderr",
     "output_type": "stream",
     "text": [
      "\n",
      " 90%|██████████████████████████████████████████████████████████████████████████████████▍         | 896/1000 [03:07<00:21,  4.78it/s]\u001b[A"
     ]
    },
    {
     "name": "stdout",
     "output_type": "stream",
     "text": [
      "distances: torch.Size([2688, 1000])\n",
      "Indexes shape:  torch.Size([2688, 8])\n",
      "Kxz: torch.Size([26880, 1000])\n",
      "kzz_inv: torch.Size([26880, 8, 8])\n",
      "indexes: torch.Size([2688, 8])\n",
      "Expanded shape torch.Size([26880, 8])\n"
     ]
    },
    {
     "name": "stderr",
     "output_type": "stream",
     "text": [
      "\n",
      " 90%|██████████████████████████████████████████████████████████████████████████████████▌         | 897/1000 [03:07<00:21,  4.79it/s]\u001b[A"
     ]
    },
    {
     "name": "stdout",
     "output_type": "stream",
     "text": [
      "distances: torch.Size([2688, 1000])\n",
      "Indexes shape:  torch.Size([2688, 8])\n",
      "Kxz: torch.Size([26880, 1000])\n",
      "kzz_inv: torch.Size([26880, 8, 8])\n",
      "indexes: torch.Size([2688, 8])\n",
      "Expanded shape torch.Size([26880, 8])\n"
     ]
    },
    {
     "name": "stderr",
     "output_type": "stream",
     "text": [
      "\n",
      " 90%|██████████████████████████████████████████████████████████████████████████████████▌         | 898/1000 [03:07<00:21,  4.79it/s]\u001b[A"
     ]
    },
    {
     "name": "stdout",
     "output_type": "stream",
     "text": [
      "distances: torch.Size([2688, 1000])\n",
      "Indexes shape:  torch.Size([2688, 8])\n",
      "Kxz: torch.Size([26880, 1000])\n",
      "kzz_inv: torch.Size([26880, 8, 8])\n",
      "indexes: torch.Size([2688, 8])\n",
      "Expanded shape torch.Size([26880, 8])\n"
     ]
    },
    {
     "name": "stderr",
     "output_type": "stream",
     "text": [
      "\n",
      " 90%|██████████████████████████████████████████████████████████████████████████████████▋         | 899/1000 [03:07<00:21,  4.78it/s]\u001b[A"
     ]
    },
    {
     "name": "stdout",
     "output_type": "stream",
     "text": [
      "distances: torch.Size([2688, 1000])\n",
      "Indexes shape:  torch.Size([2688, 8])\n",
      "Kxz: torch.Size([26880, 1000])\n",
      "kzz_inv: torch.Size([26880, 8, 8])\n",
      "indexes: torch.Size([2688, 8])\n",
      "Expanded shape torch.Size([26880, 8])\n"
     ]
    },
    {
     "name": "stderr",
     "output_type": "stream",
     "text": [
      "\n",
      " 90%|██████████████████████████████████████████████████████████████████████████████████▊         | 900/1000 [03:07<00:20,  4.78it/s]\u001b[A"
     ]
    },
    {
     "name": "stdout",
     "output_type": "stream",
     "text": [
      "distances: torch.Size([2688, 1000])\n",
      "Indexes shape:  torch.Size([2688, 8])\n",
      "Kxz: torch.Size([26880, 1000])\n",
      "kzz_inv: torch.Size([26880, 8, 8])\n",
      "indexes: torch.Size([2688, 8])\n",
      "Expanded shape torch.Size([26880, 8])\n"
     ]
    },
    {
     "name": "stderr",
     "output_type": "stream",
     "text": [
      "\n",
      " 90%|██████████████████████████████████████████████████████████████████████████████████▉         | 901/1000 [03:08<00:20,  4.78it/s]\u001b[A"
     ]
    },
    {
     "name": "stdout",
     "output_type": "stream",
     "text": [
      "distances: torch.Size([2688, 1000])\n",
      "Indexes shape:  torch.Size([2688, 8])\n",
      "Kxz: torch.Size([26880, 1000])\n",
      "kzz_inv: torch.Size([26880, 8, 8])\n",
      "indexes: torch.Size([2688, 8])\n",
      "Expanded shape torch.Size([26880, 8])\n"
     ]
    },
    {
     "name": "stderr",
     "output_type": "stream",
     "text": [
      "\n",
      " 90%|██████████████████████████████████████████████████████████████████████████████████▉         | 902/1000 [03:08<00:20,  4.78it/s]\u001b[A"
     ]
    },
    {
     "name": "stdout",
     "output_type": "stream",
     "text": [
      "distances: torch.Size([2688, 1000])\n",
      "Indexes shape:  torch.Size([2688, 8])\n",
      "Kxz: torch.Size([26880, 1000])\n",
      "kzz_inv: torch.Size([26880, 8, 8])\n",
      "indexes: torch.Size([2688, 8])\n",
      "Expanded shape torch.Size([26880, 8])\n"
     ]
    },
    {
     "name": "stderr",
     "output_type": "stream",
     "text": [
      "\n",
      " 90%|███████████████████████████████████████████████████████████████████████████████████         | 903/1000 [03:08<00:20,  4.79it/s]\u001b[A"
     ]
    },
    {
     "name": "stdout",
     "output_type": "stream",
     "text": [
      "distances: torch.Size([2688, 1000])\n",
      "Indexes shape:  torch.Size([2688, 8])\n",
      "Kxz: torch.Size([26880, 1000])\n",
      "kzz_inv: torch.Size([26880, 8, 8])\n",
      "indexes: torch.Size([2688, 8])\n",
      "Expanded shape torch.Size([26880, 8])\n"
     ]
    },
    {
     "name": "stderr",
     "output_type": "stream",
     "text": [
      "\n",
      " 90%|███████████████████████████████████████████████████████████████████████████████████▏        | 904/1000 [03:08<00:20,  4.78it/s]\u001b[A"
     ]
    },
    {
     "name": "stdout",
     "output_type": "stream",
     "text": [
      "distances: torch.Size([2688, 1000])\n",
      "Indexes shape:  torch.Size([2688, 8])\n",
      "Kxz: torch.Size([26880, 1000])\n",
      "kzz_inv: torch.Size([26880, 8, 8])\n",
      "indexes: torch.Size([2688, 8])\n",
      "Expanded shape torch.Size([26880, 8])\n"
     ]
    },
    {
     "name": "stderr",
     "output_type": "stream",
     "text": [
      "\n",
      " 90%|███████████████████████████████████████████████████████████████████████████████████▎        | 905/1000 [03:09<00:19,  4.79it/s]\u001b[A"
     ]
    },
    {
     "name": "stdout",
     "output_type": "stream",
     "text": [
      "distances: torch.Size([2688, 1000])\n",
      "Indexes shape:  torch.Size([2688, 8])\n",
      "Kxz: torch.Size([26880, 1000])\n",
      "kzz_inv: torch.Size([26880, 8, 8])\n",
      "indexes: torch.Size([2688, 8])\n",
      "Expanded shape torch.Size([26880, 8])\n"
     ]
    },
    {
     "name": "stderr",
     "output_type": "stream",
     "text": [
      "\n",
      " 91%|███████████████████████████████████████████████████████████████████████████████████▎        | 906/1000 [03:09<00:19,  4.78it/s]\u001b[A"
     ]
    },
    {
     "name": "stdout",
     "output_type": "stream",
     "text": [
      "distances: torch.Size([2688, 1000])\n",
      "Indexes shape:  torch.Size([2688, 8])\n",
      "Kxz: torch.Size([26880, 1000])\n",
      "kzz_inv: torch.Size([26880, 8, 8])\n",
      "indexes: torch.Size([2688, 8])\n",
      "Expanded shape torch.Size([26880, 8])\n"
     ]
    },
    {
     "name": "stderr",
     "output_type": "stream",
     "text": [
      "\n",
      " 91%|███████████████████████████████████████████████████████████████████████████████████▍        | 907/1000 [03:09<00:19,  4.78it/s]\u001b[A"
     ]
    },
    {
     "name": "stdout",
     "output_type": "stream",
     "text": [
      "distances: torch.Size([2688, 1000])\n",
      "Indexes shape:  torch.Size([2688, 8])\n",
      "Kxz: torch.Size([26880, 1000])\n",
      "kzz_inv: torch.Size([26880, 8, 8])\n",
      "indexes: torch.Size([2688, 8])\n",
      "Expanded shape torch.Size([26880, 8])\n"
     ]
    },
    {
     "name": "stderr",
     "output_type": "stream",
     "text": [
      "\n",
      " 91%|███████████████████████████████████████████████████████████████████████████████████▌        | 908/1000 [03:09<00:19,  4.78it/s]\u001b[A"
     ]
    },
    {
     "name": "stdout",
     "output_type": "stream",
     "text": [
      "distances: torch.Size([2688, 1000])\n",
      "Indexes shape:  torch.Size([2688, 8])\n",
      "Kxz: torch.Size([26880, 1000])\n",
      "kzz_inv: torch.Size([26880, 8, 8])\n",
      "indexes: torch.Size([2688, 8])\n",
      "Expanded shape torch.Size([26880, 8])\n"
     ]
    },
    {
     "name": "stderr",
     "output_type": "stream",
     "text": [
      "\n",
      " 91%|███████████████████████████████████████████████████████████████████████████████████▋        | 909/1000 [03:09<00:19,  4.78it/s]\u001b[A"
     ]
    },
    {
     "name": "stdout",
     "output_type": "stream",
     "text": [
      "distances: torch.Size([2688, 1000])\n",
      "Indexes shape:  torch.Size([2688, 8])\n",
      "Kxz: torch.Size([26880, 1000])\n",
      "kzz_inv: torch.Size([26880, 8, 8])\n",
      "indexes: torch.Size([2688, 8])\n",
      "Expanded shape torch.Size([26880, 8])\n"
     ]
    },
    {
     "name": "stderr",
     "output_type": "stream",
     "text": [
      "\n",
      " 91%|███████████████████████████████████████████████████████████████████████████████████▋        | 910/1000 [03:10<00:18,  4.78it/s]\u001b[A"
     ]
    },
    {
     "name": "stdout",
     "output_type": "stream",
     "text": [
      "distances: torch.Size([2688, 1000])\n",
      "Indexes shape:  torch.Size([2688, 8])\n",
      "Kxz: torch.Size([26880, 1000])\n",
      "kzz_inv: torch.Size([26880, 8, 8])\n",
      "indexes: torch.Size([2688, 8])\n",
      "Expanded shape torch.Size([26880, 8])\n"
     ]
    },
    {
     "name": "stderr",
     "output_type": "stream",
     "text": [
      "\n",
      " 91%|███████████████████████████████████████████████████████████████████████████████████▊        | 911/1000 [03:10<00:18,  4.78it/s]\u001b[A"
     ]
    },
    {
     "name": "stdout",
     "output_type": "stream",
     "text": [
      "distances: torch.Size([2688, 1000])\n",
      "Indexes shape:  torch.Size([2688, 8])\n",
      "Kxz: torch.Size([26880, 1000])\n",
      "kzz_inv: torch.Size([26880, 8, 8])\n",
      "indexes: torch.Size([2688, 8])\n",
      "Expanded shape torch.Size([26880, 8])\n"
     ]
    },
    {
     "name": "stderr",
     "output_type": "stream",
     "text": [
      "\n",
      " 91%|███████████████████████████████████████████████████████████████████████████████████▉        | 912/1000 [03:10<00:18,  4.78it/s]\u001b[A"
     ]
    },
    {
     "name": "stdout",
     "output_type": "stream",
     "text": [
      "distances: torch.Size([2688, 1000])\n",
      "Indexes shape:  torch.Size([2688, 8])\n",
      "Kxz: torch.Size([26880, 1000])\n",
      "kzz_inv: torch.Size([26880, 8, 8])\n",
      "indexes: torch.Size([2688, 8])\n",
      "Expanded shape torch.Size([26880, 8])\n"
     ]
    },
    {
     "name": "stderr",
     "output_type": "stream",
     "text": [
      "\n",
      " 91%|███████████████████████████████████████████████████████████████████████████████████▉        | 913/1000 [03:10<00:18,  4.79it/s]\u001b[A"
     ]
    },
    {
     "name": "stdout",
     "output_type": "stream",
     "text": [
      "distances: torch.Size([2688, 1000])\n",
      "Indexes shape:  torch.Size([2688, 8])\n",
      "Kxz: torch.Size([26880, 1000])\n",
      "kzz_inv: torch.Size([26880, 8, 8])\n",
      "indexes: torch.Size([2688, 8])\n",
      "Expanded shape torch.Size([26880, 8])\n"
     ]
    },
    {
     "name": "stderr",
     "output_type": "stream",
     "text": [
      "\n",
      " 91%|████████████████████████████████████████████████████████████████████████████████████        | 914/1000 [03:10<00:17,  4.79it/s]\u001b[A"
     ]
    },
    {
     "name": "stdout",
     "output_type": "stream",
     "text": [
      "distances: torch.Size([2688, 1000])\n",
      "Indexes shape:  torch.Size([2688, 8])\n",
      "Kxz: torch.Size([26880, 1000])\n",
      "kzz_inv: torch.Size([26880, 8, 8])\n",
      "indexes: torch.Size([2688, 8])\n",
      "Expanded shape torch.Size([26880, 8])\n"
     ]
    },
    {
     "name": "stderr",
     "output_type": "stream",
     "text": [
      "\n",
      " 92%|████████████████████████████████████████████████████████████████████████████████████▏       | 915/1000 [03:11<00:17,  4.79it/s]\u001b[A"
     ]
    },
    {
     "name": "stdout",
     "output_type": "stream",
     "text": [
      "distances: torch.Size([2688, 1000])\n",
      "Indexes shape:  torch.Size([2688, 8])\n",
      "Kxz: torch.Size([26880, 1000])\n",
      "kzz_inv: torch.Size([26880, 8, 8])\n",
      "indexes: torch.Size([2688, 8])\n",
      "Expanded shape torch.Size([26880, 8])\n"
     ]
    },
    {
     "name": "stderr",
     "output_type": "stream",
     "text": [
      "\n",
      " 92%|████████████████████████████████████████████████████████████████████████████████████▎       | 916/1000 [03:11<00:17,  4.79it/s]\u001b[A"
     ]
    },
    {
     "name": "stdout",
     "output_type": "stream",
     "text": [
      "distances: torch.Size([2688, 1000])\n",
      "Indexes shape:  torch.Size([2688, 8])\n",
      "Kxz: torch.Size([26880, 1000])\n",
      "kzz_inv: torch.Size([26880, 8, 8])\n",
      "indexes: torch.Size([2688, 8])\n",
      "Expanded shape torch.Size([26880, 8])\n"
     ]
    },
    {
     "name": "stderr",
     "output_type": "stream",
     "text": [
      "\n",
      " 92%|████████████████████████████████████████████████████████████████████████████████████▎       | 917/1000 [03:11<00:17,  4.79it/s]\u001b[A"
     ]
    },
    {
     "name": "stdout",
     "output_type": "stream",
     "text": [
      "distances: torch.Size([2688, 1000])\n",
      "Indexes shape:  torch.Size([2688, 8])\n",
      "Kxz: torch.Size([26880, 1000])\n",
      "kzz_inv: torch.Size([26880, 8, 8])\n",
      "indexes: torch.Size([2688, 8])\n",
      "Expanded shape torch.Size([26880, 8])\n"
     ]
    },
    {
     "name": "stderr",
     "output_type": "stream",
     "text": [
      "\n",
      " 92%|████████████████████████████████████████████████████████████████████████████████████▍       | 918/1000 [03:11<00:17,  4.79it/s]\u001b[A"
     ]
    },
    {
     "name": "stdout",
     "output_type": "stream",
     "text": [
      "distances: torch.Size([2688, 1000])\n",
      "Indexes shape:  torch.Size([2688, 8])\n",
      "Kxz: torch.Size([26880, 1000])\n",
      "kzz_inv: torch.Size([26880, 8, 8])\n",
      "indexes: torch.Size([2688, 8])\n",
      "Expanded shape torch.Size([26880, 8])\n"
     ]
    },
    {
     "name": "stderr",
     "output_type": "stream",
     "text": [
      "\n",
      " 92%|████████████████████████████████████████████████████████████████████████████████████▌       | 919/1000 [03:11<00:16,  4.79it/s]\u001b[A"
     ]
    },
    {
     "name": "stdout",
     "output_type": "stream",
     "text": [
      "distances: torch.Size([2688, 1000])\n",
      "Indexes shape:  torch.Size([2688, 8])\n",
      "Kxz: torch.Size([26880, 1000])\n",
      "kzz_inv: torch.Size([26880, 8, 8])\n",
      "indexes: torch.Size([2688, 8])\n",
      "Expanded shape torch.Size([26880, 8])\n"
     ]
    },
    {
     "name": "stderr",
     "output_type": "stream",
     "text": [
      "\n",
      " 92%|████████████████████████████████████████████████████████████████████████████████████▋       | 920/1000 [03:12<00:16,  4.79it/s]\u001b[A"
     ]
    },
    {
     "name": "stdout",
     "output_type": "stream",
     "text": [
      "distances: torch.Size([2688, 1000])\n",
      "Indexes shape:  torch.Size([2688, 8])\n",
      "Kxz: torch.Size([26880, 1000])\n",
      "kzz_inv: torch.Size([26880, 8, 8])\n",
      "indexes: torch.Size([2688, 8])\n",
      "Expanded shape torch.Size([26880, 8])\n"
     ]
    },
    {
     "name": "stderr",
     "output_type": "stream",
     "text": [
      "\n",
      " 92%|████████████████████████████████████████████████████████████████████████████████████▋       | 921/1000 [03:12<00:16,  4.78it/s]\u001b[A"
     ]
    },
    {
     "name": "stdout",
     "output_type": "stream",
     "text": [
      "distances: torch.Size([2688, 1000])\n",
      "Indexes shape:  torch.Size([2688, 8])\n",
      "Kxz: torch.Size([26880, 1000])\n",
      "kzz_inv: torch.Size([26880, 8, 8])\n",
      "indexes: torch.Size([2688, 8])\n",
      "Expanded shape torch.Size([26880, 8])\n"
     ]
    },
    {
     "name": "stderr",
     "output_type": "stream",
     "text": [
      "\n",
      " 92%|████████████████████████████████████████████████████████████████████████████████████▊       | 922/1000 [03:12<00:16,  4.79it/s]\u001b[A"
     ]
    },
    {
     "name": "stdout",
     "output_type": "stream",
     "text": [
      "distances: torch.Size([2688, 1000])\n",
      "Indexes shape:  torch.Size([2688, 8])\n",
      "Kxz: torch.Size([26880, 1000])\n",
      "kzz_inv: torch.Size([26880, 8, 8])\n",
      "indexes: torch.Size([2688, 8])\n",
      "Expanded shape torch.Size([26880, 8])\n"
     ]
    },
    {
     "name": "stderr",
     "output_type": "stream",
     "text": [
      "\n",
      " 92%|████████████████████████████████████████████████████████████████████████████████████▉       | 923/1000 [03:12<00:16,  4.79it/s]\u001b[A"
     ]
    },
    {
     "name": "stdout",
     "output_type": "stream",
     "text": [
      "distances: torch.Size([2688, 1000])\n",
      "Indexes shape:  torch.Size([2688, 8])\n",
      "Kxz: torch.Size([26880, 1000])\n",
      "kzz_inv: torch.Size([26880, 8, 8])\n",
      "indexes: torch.Size([2688, 8])\n",
      "Expanded shape torch.Size([26880, 8])\n"
     ]
    },
    {
     "name": "stderr",
     "output_type": "stream",
     "text": [
      "\n",
      " 92%|█████████████████████████████████████████████████████████████████████████████████████       | 924/1000 [03:12<00:15,  4.79it/s]\u001b[A"
     ]
    },
    {
     "name": "stdout",
     "output_type": "stream",
     "text": [
      "distances: torch.Size([2688, 1000])\n",
      "Indexes shape:  torch.Size([2688, 8])\n",
      "Kxz: torch.Size([26880, 1000])\n",
      "kzz_inv: torch.Size([26880, 8, 8])\n",
      "indexes: torch.Size([2688, 8])\n",
      "Expanded shape torch.Size([26880, 8])\n"
     ]
    },
    {
     "name": "stderr",
     "output_type": "stream",
     "text": [
      "\n",
      " 92%|█████████████████████████████████████████████████████████████████████████████████████       | 925/1000 [03:13<00:15,  4.79it/s]\u001b[A"
     ]
    },
    {
     "name": "stdout",
     "output_type": "stream",
     "text": [
      "distances: torch.Size([2688, 1000])\n",
      "Indexes shape:  torch.Size([2688, 8])\n",
      "Kxz: torch.Size([26880, 1000])\n",
      "kzz_inv: torch.Size([26880, 8, 8])\n",
      "indexes: torch.Size([2688, 8])\n",
      "Expanded shape torch.Size([26880, 8])\n"
     ]
    },
    {
     "name": "stderr",
     "output_type": "stream",
     "text": [
      "\n",
      " 93%|█████████████████████████████████████████████████████████████████████████████████████▏      | 926/1000 [03:13<00:15,  4.78it/s]\u001b[A"
     ]
    },
    {
     "name": "stdout",
     "output_type": "stream",
     "text": [
      "distances: torch.Size([2688, 1000])\n",
      "Indexes shape:  torch.Size([2688, 8])\n",
      "Kxz: torch.Size([26880, 1000])\n",
      "kzz_inv: torch.Size([26880, 8, 8])\n",
      "indexes: torch.Size([2688, 8])\n",
      "Expanded shape torch.Size([26880, 8])\n"
     ]
    },
    {
     "name": "stderr",
     "output_type": "stream",
     "text": [
      "\n",
      " 93%|█████████████████████████████████████████████████████████████████████████████████████▎      | 927/1000 [03:13<00:15,  4.79it/s]\u001b[A"
     ]
    },
    {
     "name": "stdout",
     "output_type": "stream",
     "text": [
      "distances: torch.Size([2688, 1000])\n",
      "Indexes shape:  torch.Size([2688, 8])\n",
      "Kxz: torch.Size([26880, 1000])\n",
      "kzz_inv: torch.Size([26880, 8, 8])\n",
      "indexes: torch.Size([2688, 8])\n",
      "Expanded shape torch.Size([26880, 8])\n"
     ]
    },
    {
     "name": "stderr",
     "output_type": "stream",
     "text": [
      "\n",
      " 93%|█████████████████████████████████████████████████████████████████████████████████████▍      | 928/1000 [03:13<00:15,  4.78it/s]\u001b[A"
     ]
    },
    {
     "name": "stdout",
     "output_type": "stream",
     "text": [
      "distances: torch.Size([2688, 1000])\n",
      "Indexes shape:  torch.Size([2688, 8])\n",
      "Kxz: torch.Size([26880, 1000])\n",
      "kzz_inv: torch.Size([26880, 8, 8])\n",
      "indexes: torch.Size([2688, 8])\n",
      "Expanded shape torch.Size([26880, 8])\n"
     ]
    },
    {
     "name": "stderr",
     "output_type": "stream",
     "text": [
      "\n",
      " 93%|█████████████████████████████████████████████████████████████████████████████████████▍      | 929/1000 [03:14<00:14,  4.78it/s]\u001b[A"
     ]
    },
    {
     "name": "stdout",
     "output_type": "stream",
     "text": [
      "distances: torch.Size([2688, 1000])\n",
      "Indexes shape:  torch.Size([2688, 8])\n",
      "Kxz: torch.Size([26880, 1000])\n",
      "kzz_inv: torch.Size([26880, 8, 8])\n",
      "indexes: torch.Size([2688, 8])\n",
      "Expanded shape torch.Size([26880, 8])\n"
     ]
    },
    {
     "name": "stderr",
     "output_type": "stream",
     "text": [
      "\n",
      " 93%|█████████████████████████████████████████████████████████████████████████████████████▌      | 930/1000 [03:14<00:14,  4.78it/s]\u001b[A"
     ]
    },
    {
     "name": "stdout",
     "output_type": "stream",
     "text": [
      "distances: torch.Size([2688, 1000])\n",
      "Indexes shape:  torch.Size([2688, 8])\n",
      "Kxz: torch.Size([26880, 1000])\n",
      "kzz_inv: torch.Size([26880, 8, 8])\n",
      "indexes: torch.Size([2688, 8])\n",
      "Expanded shape torch.Size([26880, 8])\n"
     ]
    },
    {
     "name": "stderr",
     "output_type": "stream",
     "text": [
      "\n",
      " 93%|█████████████████████████████████████████████████████████████████████████████████████▋      | 931/1000 [03:14<00:14,  4.78it/s]\u001b[A"
     ]
    },
    {
     "name": "stdout",
     "output_type": "stream",
     "text": [
      "distances: torch.Size([2688, 1000])\n",
      "Indexes shape:  torch.Size([2688, 8])\n",
      "Kxz: torch.Size([26880, 1000])\n",
      "kzz_inv: torch.Size([26880, 8, 8])\n",
      "indexes: torch.Size([2688, 8])\n",
      "Expanded shape torch.Size([26880, 8])\n"
     ]
    },
    {
     "name": "stderr",
     "output_type": "stream",
     "text": [
      "\n",
      " 93%|█████████████████████████████████████████████████████████████████████████████████████▋      | 932/1000 [03:14<00:14,  4.78it/s]\u001b[A"
     ]
    },
    {
     "name": "stdout",
     "output_type": "stream",
     "text": [
      "distances: torch.Size([2688, 1000])\n",
      "Indexes shape:  torch.Size([2688, 8])\n",
      "Kxz: torch.Size([26880, 1000])\n",
      "kzz_inv: torch.Size([26880, 8, 8])\n",
      "indexes: torch.Size([2688, 8])\n",
      "Expanded shape torch.Size([26880, 8])\n"
     ]
    },
    {
     "name": "stderr",
     "output_type": "stream",
     "text": [
      "\n",
      " 93%|█████████████████████████████████████████████████████████████████████████████████████▊      | 933/1000 [03:14<00:14,  4.79it/s]\u001b[A"
     ]
    },
    {
     "name": "stdout",
     "output_type": "stream",
     "text": [
      "distances: torch.Size([2688, 1000])\n",
      "Indexes shape:  torch.Size([2688, 8])\n",
      "Kxz: torch.Size([26880, 1000])\n",
      "kzz_inv: torch.Size([26880, 8, 8])\n",
      "indexes: torch.Size([2688, 8])\n",
      "Expanded shape torch.Size([26880, 8])\n"
     ]
    },
    {
     "name": "stderr",
     "output_type": "stream",
     "text": [
      "\n",
      " 93%|█████████████████████████████████████████████████████████████████████████████████████▉      | 934/1000 [03:15<00:13,  4.78it/s]\u001b[A"
     ]
    },
    {
     "name": "stdout",
     "output_type": "stream",
     "text": [
      "distances: torch.Size([2688, 1000])\n",
      "Indexes shape:  torch.Size([2688, 8])\n",
      "Kxz: torch.Size([26880, 1000])\n",
      "kzz_inv: torch.Size([26880, 8, 8])\n",
      "indexes: torch.Size([2688, 8])\n",
      "Expanded shape torch.Size([26880, 8])\n"
     ]
    },
    {
     "name": "stderr",
     "output_type": "stream",
     "text": [
      "\n",
      " 94%|██████████████████████████████████████████████████████████████████████████████████████      | 935/1000 [03:15<00:13,  4.79it/s]\u001b[A"
     ]
    },
    {
     "name": "stdout",
     "output_type": "stream",
     "text": [
      "distances: torch.Size([2688, 1000])\n",
      "Indexes shape:  torch.Size([2688, 8])\n",
      "Kxz: torch.Size([26880, 1000])\n",
      "kzz_inv: torch.Size([26880, 8, 8])\n",
      "indexes: torch.Size([2688, 8])\n",
      "Expanded shape torch.Size([26880, 8])\n"
     ]
    },
    {
     "name": "stderr",
     "output_type": "stream",
     "text": [
      "\n",
      " 94%|██████████████████████████████████████████████████████████████████████████████████████      | 936/1000 [03:15<00:13,  4.79it/s]\u001b[A"
     ]
    },
    {
     "name": "stdout",
     "output_type": "stream",
     "text": [
      "distances: torch.Size([2688, 1000])\n",
      "Indexes shape:  torch.Size([2688, 8])\n",
      "Kxz: torch.Size([26880, 1000])\n",
      "kzz_inv: torch.Size([26880, 8, 8])\n",
      "indexes: torch.Size([2688, 8])\n",
      "Expanded shape torch.Size([26880, 8])\n"
     ]
    },
    {
     "name": "stderr",
     "output_type": "stream",
     "text": [
      "\n",
      " 94%|██████████████████████████████████████████████████████████████████████████████████████▏     | 937/1000 [03:15<00:13,  4.78it/s]\u001b[A"
     ]
    },
    {
     "name": "stdout",
     "output_type": "stream",
     "text": [
      "distances: torch.Size([2688, 1000])\n",
      "Indexes shape:  torch.Size([2688, 8])\n",
      "Kxz: torch.Size([26880, 1000])\n",
      "kzz_inv: torch.Size([26880, 8, 8])\n",
      "indexes: torch.Size([2688, 8])\n",
      "Expanded shape torch.Size([26880, 8])\n"
     ]
    },
    {
     "name": "stderr",
     "output_type": "stream",
     "text": [
      "\n",
      " 94%|██████████████████████████████████████████████████████████████████████████████████████▎     | 938/1000 [03:15<00:12,  4.79it/s]\u001b[A"
     ]
    },
    {
     "name": "stdout",
     "output_type": "stream",
     "text": [
      "distances: torch.Size([2688, 1000])\n",
      "Indexes shape:  torch.Size([2688, 8])\n",
      "Kxz: torch.Size([26880, 1000])\n",
      "kzz_inv: torch.Size([26880, 8, 8])\n",
      "indexes: torch.Size([2688, 8])\n",
      "Expanded shape torch.Size([26880, 8])\n"
     ]
    },
    {
     "name": "stderr",
     "output_type": "stream",
     "text": [
      "\n",
      " 94%|██████████████████████████████████████████████████████████████████████████████████████▍     | 939/1000 [03:16<00:12,  4.78it/s]\u001b[A"
     ]
    },
    {
     "name": "stdout",
     "output_type": "stream",
     "text": [
      "distances: torch.Size([2688, 1000])\n",
      "Indexes shape:  torch.Size([2688, 8])\n",
      "Kxz: torch.Size([26880, 1000])\n",
      "kzz_inv: torch.Size([26880, 8, 8])\n",
      "indexes: torch.Size([2688, 8])\n",
      "Expanded shape torch.Size([26880, 8])\n"
     ]
    },
    {
     "name": "stderr",
     "output_type": "stream",
     "text": [
      "\n",
      " 94%|██████████████████████████████████████████████████████████████████████████████████████▍     | 940/1000 [03:16<00:12,  4.79it/s]\u001b[A"
     ]
    },
    {
     "name": "stdout",
     "output_type": "stream",
     "text": [
      "distances: torch.Size([2688, 1000])\n",
      "Indexes shape:  torch.Size([2688, 8])\n",
      "Kxz: torch.Size([26880, 1000])\n",
      "kzz_inv: torch.Size([26880, 8, 8])\n",
      "indexes: torch.Size([2688, 8])\n",
      "Expanded shape torch.Size([26880, 8])\n"
     ]
    },
    {
     "name": "stderr",
     "output_type": "stream",
     "text": [
      "\n",
      " 94%|██████████████████████████████████████████████████████████████████████████████████████▌     | 941/1000 [03:16<00:12,  4.78it/s]\u001b[A"
     ]
    },
    {
     "name": "stdout",
     "output_type": "stream",
     "text": [
      "distances: torch.Size([2688, 1000])\n",
      "Indexes shape:  torch.Size([2688, 8])\n",
      "Kxz: torch.Size([26880, 1000])\n",
      "kzz_inv: torch.Size([26880, 8, 8])\n",
      "indexes: torch.Size([2688, 8])\n",
      "Expanded shape torch.Size([26880, 8])\n"
     ]
    },
    {
     "name": "stderr",
     "output_type": "stream",
     "text": [
      "\n",
      " 94%|██████████████████████████████████████████████████████████████████████████████████████▋     | 942/1000 [03:16<00:12,  4.78it/s]\u001b[A"
     ]
    },
    {
     "name": "stdout",
     "output_type": "stream",
     "text": [
      "distances: torch.Size([2688, 1000])\n",
      "Indexes shape:  torch.Size([2688, 8])\n",
      "Kxz: torch.Size([26880, 1000])\n",
      "kzz_inv: torch.Size([26880, 8, 8])\n",
      "indexes: torch.Size([2688, 8])\n",
      "Expanded shape torch.Size([26880, 8])\n"
     ]
    },
    {
     "name": "stderr",
     "output_type": "stream",
     "text": [
      "\n",
      " 94%|██████████████████████████████████████████████████████████████████████████████████████▊     | 943/1000 [03:16<00:11,  4.78it/s]\u001b[A"
     ]
    },
    {
     "name": "stdout",
     "output_type": "stream",
     "text": [
      "distances: torch.Size([2688, 1000])\n",
      "Indexes shape:  torch.Size([2688, 8])\n",
      "Kxz: torch.Size([26880, 1000])\n",
      "kzz_inv: torch.Size([26880, 8, 8])\n",
      "indexes: torch.Size([2688, 8])\n",
      "Expanded shape torch.Size([26880, 8])\n"
     ]
    },
    {
     "name": "stderr",
     "output_type": "stream",
     "text": [
      "\n",
      " 94%|██████████████████████████████████████████████████████████████████████████████████████▊     | 944/1000 [03:17<00:11,  4.78it/s]\u001b[A"
     ]
    },
    {
     "name": "stdout",
     "output_type": "stream",
     "text": [
      "distances: torch.Size([2688, 1000])\n",
      "Indexes shape:  torch.Size([2688, 8])\n",
      "Kxz: torch.Size([26880, 1000])\n",
      "kzz_inv: torch.Size([26880, 8, 8])\n",
      "indexes: torch.Size([2688, 8])\n",
      "Expanded shape torch.Size([26880, 8])\n"
     ]
    },
    {
     "name": "stderr",
     "output_type": "stream",
     "text": [
      "\n",
      " 94%|██████████████████████████████████████████████████████████████████████████████████████▉     | 945/1000 [03:17<00:11,  4.78it/s]\u001b[A"
     ]
    },
    {
     "name": "stdout",
     "output_type": "stream",
     "text": [
      "distances: torch.Size([2688, 1000])\n",
      "Indexes shape:  torch.Size([2688, 8])\n",
      "Kxz: torch.Size([26880, 1000])\n",
      "kzz_inv: torch.Size([26880, 8, 8])\n",
      "indexes: torch.Size([2688, 8])\n",
      "Expanded shape torch.Size([26880, 8])\n"
     ]
    },
    {
     "name": "stderr",
     "output_type": "stream",
     "text": [
      "\n",
      " 95%|███████████████████████████████████████████████████████████████████████████████████████     | 946/1000 [03:17<00:11,  4.79it/s]\u001b[A"
     ]
    },
    {
     "name": "stdout",
     "output_type": "stream",
     "text": [
      "distances: torch.Size([2688, 1000])\n",
      "Indexes shape:  torch.Size([2688, 8])\n",
      "Kxz: torch.Size([26880, 1000])\n",
      "kzz_inv: torch.Size([26880, 8, 8])\n",
      "indexes: torch.Size([2688, 8])\n",
      "Expanded shape torch.Size([26880, 8])\n"
     ]
    },
    {
     "name": "stderr",
     "output_type": "stream",
     "text": [
      "\n",
      " 95%|███████████████████████████████████████████████████████████████████████████████████████     | 947/1000 [03:17<00:11,  4.79it/s]\u001b[A"
     ]
    },
    {
     "name": "stdout",
     "output_type": "stream",
     "text": [
      "distances: torch.Size([2688, 1000])\n",
      "Indexes shape:  torch.Size([2688, 8])\n",
      "Kxz: torch.Size([26880, 1000])\n",
      "kzz_inv: torch.Size([26880, 8, 8])\n",
      "indexes: torch.Size([2688, 8])\n",
      "Expanded shape torch.Size([26880, 8])\n"
     ]
    },
    {
     "name": "stderr",
     "output_type": "stream",
     "text": [
      "\n",
      " 95%|███████████████████████████████████████████████████████████████████████████████████████▏    | 948/1000 [03:18<00:10,  4.78it/s]\u001b[A"
     ]
    },
    {
     "name": "stdout",
     "output_type": "stream",
     "text": [
      "distances: torch.Size([2688, 1000])\n",
      "Indexes shape:  torch.Size([2688, 8])\n",
      "Kxz: torch.Size([26880, 1000])\n",
      "kzz_inv: torch.Size([26880, 8, 8])\n",
      "indexes: torch.Size([2688, 8])\n",
      "Expanded shape torch.Size([26880, 8])\n"
     ]
    },
    {
     "name": "stderr",
     "output_type": "stream",
     "text": [
      "\n",
      " 95%|███████████████████████████████████████████████████████████████████████████████████████▎    | 949/1000 [03:18<00:10,  4.78it/s]\u001b[A"
     ]
    },
    {
     "name": "stdout",
     "output_type": "stream",
     "text": [
      "distances: torch.Size([2688, 1000])\n",
      "Indexes shape:  torch.Size([2688, 8])\n",
      "Kxz: torch.Size([26880, 1000])\n",
      "kzz_inv: torch.Size([26880, 8, 8])\n",
      "indexes: torch.Size([2688, 8])\n",
      "Expanded shape torch.Size([26880, 8])\n"
     ]
    },
    {
     "name": "stderr",
     "output_type": "stream",
     "text": [
      "\n",
      " 95%|███████████████████████████████████████████████████████████████████████████████████████▍    | 950/1000 [03:18<00:10,  4.78it/s]\u001b[A"
     ]
    },
    {
     "name": "stdout",
     "output_type": "stream",
     "text": [
      "distances: torch.Size([2688, 1000])\n",
      "Indexes shape:  torch.Size([2688, 8])\n",
      "Kxz: torch.Size([26880, 1000])\n",
      "kzz_inv: torch.Size([26880, 8, 8])\n",
      "indexes: torch.Size([2688, 8])\n",
      "Expanded shape torch.Size([26880, 8])\n"
     ]
    },
    {
     "name": "stderr",
     "output_type": "stream",
     "text": [
      "\n",
      " 95%|███████████████████████████████████████████████████████████████████████████████████████▍    | 951/1000 [03:18<00:10,  4.78it/s]\u001b[A"
     ]
    },
    {
     "name": "stdout",
     "output_type": "stream",
     "text": [
      "distances: torch.Size([2688, 1000])\n",
      "Indexes shape:  torch.Size([2688, 8])\n",
      "Kxz: torch.Size([26880, 1000])\n",
      "kzz_inv: torch.Size([26880, 8, 8])\n",
      "indexes: torch.Size([2688, 8])\n",
      "Expanded shape torch.Size([26880, 8])\n"
     ]
    },
    {
     "name": "stderr",
     "output_type": "stream",
     "text": [
      "\n",
      " 95%|███████████████████████████████████████████████████████████████████████████████████████▌    | 952/1000 [03:18<00:10,  4.79it/s]\u001b[A"
     ]
    },
    {
     "name": "stdout",
     "output_type": "stream",
     "text": [
      "distances: torch.Size([2688, 1000])\n",
      "Indexes shape:  torch.Size([2688, 8])\n",
      "Kxz: torch.Size([26880, 1000])\n",
      "kzz_inv: torch.Size([26880, 8, 8])\n",
      "indexes: torch.Size([2688, 8])\n",
      "Expanded shape torch.Size([26880, 8])\n"
     ]
    },
    {
     "name": "stderr",
     "output_type": "stream",
     "text": [
      "\n",
      " 95%|███████████████████████████████████████████████████████████████████████████████████████▋    | 953/1000 [03:19<00:09,  4.78it/s]\u001b[A"
     ]
    },
    {
     "name": "stdout",
     "output_type": "stream",
     "text": [
      "distances: torch.Size([2688, 1000])\n",
      "Indexes shape:  torch.Size([2688, 8])\n",
      "Kxz: torch.Size([26880, 1000])\n",
      "kzz_inv: torch.Size([26880, 8, 8])\n",
      "indexes: torch.Size([2688, 8])\n",
      "Expanded shape torch.Size([26880, 8])\n"
     ]
    },
    {
     "name": "stderr",
     "output_type": "stream",
     "text": [
      "\n",
      " 95%|███████████████████████████████████████████████████████████████████████████████████████▊    | 954/1000 [03:19<00:09,  4.79it/s]\u001b[A"
     ]
    },
    {
     "name": "stdout",
     "output_type": "stream",
     "text": [
      "distances: torch.Size([2688, 1000])\n",
      "Indexes shape:  torch.Size([2688, 8])\n",
      "Kxz: torch.Size([26880, 1000])\n",
      "kzz_inv: torch.Size([26880, 8, 8])\n",
      "indexes: torch.Size([2688, 8])\n",
      "Expanded shape torch.Size([26880, 8])\n"
     ]
    },
    {
     "name": "stderr",
     "output_type": "stream",
     "text": [
      "\n",
      " 96%|███████████████████████████████████████████████████████████████████████████████████████▊    | 955/1000 [03:19<00:09,  4.78it/s]\u001b[A"
     ]
    },
    {
     "name": "stdout",
     "output_type": "stream",
     "text": [
      "distances: torch.Size([2688, 1000])\n",
      "Indexes shape:  torch.Size([2688, 8])\n",
      "Kxz: torch.Size([26880, 1000])\n",
      "kzz_inv: torch.Size([26880, 8, 8])\n",
      "indexes: torch.Size([2688, 8])\n",
      "Expanded shape torch.Size([26880, 8])\n"
     ]
    },
    {
     "name": "stderr",
     "output_type": "stream",
     "text": [
      "\n",
      " 96%|███████████████████████████████████████████████████████████████████████████████████████▉    | 956/1000 [03:19<00:09,  4.78it/s]\u001b[A"
     ]
    },
    {
     "name": "stdout",
     "output_type": "stream",
     "text": [
      "distances: torch.Size([2688, 1000])\n",
      "Indexes shape:  torch.Size([2688, 8])\n",
      "Kxz: torch.Size([26880, 1000])\n",
      "kzz_inv: torch.Size([26880, 8, 8])\n",
      "indexes: torch.Size([2688, 8])\n",
      "Expanded shape torch.Size([26880, 8])\n"
     ]
    },
    {
     "name": "stderr",
     "output_type": "stream",
     "text": [
      "\n",
      " 96%|████████████████████████████████████████████████████████████████████████████████████████    | 957/1000 [03:19<00:08,  4.79it/s]\u001b[A"
     ]
    },
    {
     "name": "stdout",
     "output_type": "stream",
     "text": [
      "distances: torch.Size([2688, 1000])\n",
      "Indexes shape:  torch.Size([2688, 8])\n",
      "Kxz: torch.Size([26880, 1000])\n",
      "kzz_inv: torch.Size([26880, 8, 8])\n",
      "indexes: torch.Size([2688, 8])\n",
      "Expanded shape torch.Size([26880, 8])\n"
     ]
    },
    {
     "name": "stderr",
     "output_type": "stream",
     "text": [
      "\n",
      " 96%|████████████████████████████████████████████████████████████████████████████████████████▏   | 958/1000 [03:20<00:08,  4.78it/s]\u001b[A"
     ]
    },
    {
     "name": "stdout",
     "output_type": "stream",
     "text": [
      "distances: torch.Size([2688, 1000])\n",
      "Indexes shape:  torch.Size([2688, 8])\n",
      "Kxz: torch.Size([26880, 1000])\n",
      "kzz_inv: torch.Size([26880, 8, 8])\n",
      "indexes: torch.Size([2688, 8])\n",
      "Expanded shape torch.Size([26880, 8])\n"
     ]
    },
    {
     "name": "stderr",
     "output_type": "stream",
     "text": [
      "\n",
      " 96%|████████████████████████████████████████████████████████████████████████████████████████▏   | 959/1000 [03:20<00:08,  4.79it/s]\u001b[A"
     ]
    },
    {
     "name": "stdout",
     "output_type": "stream",
     "text": [
      "distances: torch.Size([2688, 1000])\n",
      "Indexes shape:  torch.Size([2688, 8])\n",
      "Kxz: torch.Size([26880, 1000])\n",
      "kzz_inv: torch.Size([26880, 8, 8])\n",
      "indexes: torch.Size([2688, 8])\n",
      "Expanded shape torch.Size([26880, 8])\n"
     ]
    },
    {
     "name": "stderr",
     "output_type": "stream",
     "text": [
      "\n",
      " 96%|████████████████████████████████████████████████████████████████████████████████████████▎   | 960/1000 [03:20<00:08,  4.79it/s]\u001b[A"
     ]
    },
    {
     "name": "stdout",
     "output_type": "stream",
     "text": [
      "distances: torch.Size([2688, 1000])\n",
      "Indexes shape:  torch.Size([2688, 8])\n",
      "Kxz: torch.Size([26880, 1000])\n",
      "kzz_inv: torch.Size([26880, 8, 8])\n",
      "indexes: torch.Size([2688, 8])\n",
      "Expanded shape torch.Size([26880, 8])\n"
     ]
    },
    {
     "name": "stderr",
     "output_type": "stream",
     "text": [
      "\n",
      " 96%|████████████████████████████████████████████████████████████████████████████████████████▍   | 961/1000 [03:20<00:08,  4.78it/s]\u001b[A"
     ]
    },
    {
     "name": "stdout",
     "output_type": "stream",
     "text": [
      "distances: torch.Size([2688, 1000])\n",
      "Indexes shape:  torch.Size([2688, 8])\n",
      "Kxz: torch.Size([26880, 1000])\n",
      "kzz_inv: torch.Size([26880, 8, 8])\n",
      "indexes: torch.Size([2688, 8])\n",
      "Expanded shape torch.Size([26880, 8])\n"
     ]
    },
    {
     "name": "stderr",
     "output_type": "stream",
     "text": [
      "\n",
      " 96%|████████████████████████████████████████████████████████████████████████████████████████▌   | 962/1000 [03:20<00:07,  4.78it/s]\u001b[A"
     ]
    },
    {
     "name": "stdout",
     "output_type": "stream",
     "text": [
      "distances: torch.Size([2688, 1000])\n",
      "Indexes shape:  torch.Size([2688, 8])\n",
      "Kxz: torch.Size([26880, 1000])\n",
      "kzz_inv: torch.Size([26880, 8, 8])\n",
      "indexes: torch.Size([2688, 8])\n",
      "Expanded shape torch.Size([26880, 8])\n"
     ]
    },
    {
     "name": "stderr",
     "output_type": "stream",
     "text": [
      "\n",
      " 96%|████████████████████████████████████████████████████████████████████████████████████████▌   | 963/1000 [03:21<00:07,  4.78it/s]\u001b[A"
     ]
    },
    {
     "name": "stdout",
     "output_type": "stream",
     "text": [
      "distances: torch.Size([2688, 1000])\n",
      "Indexes shape:  torch.Size([2688, 8])\n",
      "Kxz: torch.Size([26880, 1000])\n",
      "kzz_inv: torch.Size([26880, 8, 8])\n",
      "indexes: torch.Size([2688, 8])\n",
      "Expanded shape torch.Size([26880, 8])\n"
     ]
    },
    {
     "name": "stderr",
     "output_type": "stream",
     "text": [
      "\n",
      " 96%|████████████████████████████████████████████████████████████████████████████████████████▋   | 964/1000 [03:21<00:07,  4.78it/s]\u001b[A"
     ]
    },
    {
     "name": "stdout",
     "output_type": "stream",
     "text": [
      "distances: torch.Size([2688, 1000])\n",
      "Indexes shape:  torch.Size([2688, 8])\n",
      "Kxz: torch.Size([26880, 1000])\n",
      "kzz_inv: torch.Size([26880, 8, 8])\n",
      "indexes: torch.Size([2688, 8])\n",
      "Expanded shape torch.Size([26880, 8])\n"
     ]
    },
    {
     "name": "stderr",
     "output_type": "stream",
     "text": [
      "\n",
      " 96%|████████████████████████████████████████████████████████████████████████████████████████▊   | 965/1000 [03:21<00:07,  4.79it/s]\u001b[A"
     ]
    },
    {
     "name": "stdout",
     "output_type": "stream",
     "text": [
      "distances: torch.Size([2688, 1000])\n",
      "Indexes shape:  torch.Size([2688, 8])\n",
      "Kxz: torch.Size([26880, 1000])\n",
      "kzz_inv: torch.Size([26880, 8, 8])\n",
      "indexes: torch.Size([2688, 8])\n",
      "Expanded shape torch.Size([26880, 8])\n"
     ]
    },
    {
     "name": "stderr",
     "output_type": "stream",
     "text": [
      "\n",
      " 97%|████████████████████████████████████████████████████████████████████████████████████████▊   | 966/1000 [03:21<00:07,  4.79it/s]\u001b[A"
     ]
    },
    {
     "name": "stdout",
     "output_type": "stream",
     "text": [
      "distances: torch.Size([2688, 1000])\n",
      "Indexes shape:  torch.Size([2688, 8])\n",
      "Kxz: torch.Size([26880, 1000])\n",
      "kzz_inv: torch.Size([26880, 8, 8])\n",
      "indexes: torch.Size([2688, 8])\n",
      "Expanded shape torch.Size([26880, 8])\n"
     ]
    },
    {
     "name": "stderr",
     "output_type": "stream",
     "text": [
      "\n",
      " 97%|████████████████████████████████████████████████████████████████████████████████████████▉   | 967/1000 [03:21<00:06,  4.78it/s]\u001b[A"
     ]
    },
    {
     "name": "stdout",
     "output_type": "stream",
     "text": [
      "distances: torch.Size([2688, 1000])\n",
      "Indexes shape:  torch.Size([2688, 8])\n",
      "Kxz: torch.Size([26880, 1000])\n",
      "kzz_inv: torch.Size([26880, 8, 8])\n",
      "indexes: torch.Size([2688, 8])\n",
      "Expanded shape torch.Size([26880, 8])\n"
     ]
    },
    {
     "name": "stderr",
     "output_type": "stream",
     "text": [
      "\n",
      " 97%|█████████████████████████████████████████████████████████████████████████████████████████   | 968/1000 [03:22<00:06,  4.78it/s]\u001b[A"
     ]
    },
    {
     "name": "stdout",
     "output_type": "stream",
     "text": [
      "distances: torch.Size([2688, 1000])\n",
      "Indexes shape:  torch.Size([2688, 8])\n",
      "Kxz: torch.Size([26880, 1000])\n",
      "kzz_inv: torch.Size([26880, 8, 8])\n",
      "indexes: torch.Size([2688, 8])\n",
      "Expanded shape torch.Size([26880, 8])\n"
     ]
    },
    {
     "name": "stderr",
     "output_type": "stream",
     "text": [
      "\n",
      " 97%|█████████████████████████████████████████████████████████████████████████████████████████▏  | 969/1000 [03:22<00:06,  4.78it/s]\u001b[A"
     ]
    },
    {
     "name": "stdout",
     "output_type": "stream",
     "text": [
      "distances: torch.Size([2688, 1000])\n",
      "Indexes shape:  torch.Size([2688, 8])\n",
      "Kxz: torch.Size([26880, 1000])\n",
      "kzz_inv: torch.Size([26880, 8, 8])\n",
      "indexes: torch.Size([2688, 8])\n",
      "Expanded shape torch.Size([26880, 8])\n"
     ]
    },
    {
     "name": "stderr",
     "output_type": "stream",
     "text": [
      "\n",
      " 97%|█████████████████████████████████████████████████████████████████████████████████████████▏  | 970/1000 [03:22<00:06,  4.78it/s]\u001b[A"
     ]
    },
    {
     "name": "stdout",
     "output_type": "stream",
     "text": [
      "distances: torch.Size([2688, 1000])\n",
      "Indexes shape:  torch.Size([2688, 8])\n",
      "Kxz: torch.Size([26880, 1000])\n",
      "kzz_inv: torch.Size([26880, 8, 8])\n",
      "indexes: torch.Size([2688, 8])\n",
      "Expanded shape torch.Size([26880, 8])\n"
     ]
    },
    {
     "name": "stderr",
     "output_type": "stream",
     "text": [
      "\n",
      " 97%|█████████████████████████████████████████████████████████████████████████████████████████▎  | 971/1000 [03:22<00:06,  4.78it/s]\u001b[A"
     ]
    },
    {
     "name": "stdout",
     "output_type": "stream",
     "text": [
      "distances: torch.Size([2688, 1000])\n",
      "Indexes shape:  torch.Size([2688, 8])\n",
      "Kxz: torch.Size([26880, 1000])\n",
      "kzz_inv: torch.Size([26880, 8, 8])\n",
      "indexes: torch.Size([2688, 8])\n",
      "Expanded shape torch.Size([26880, 8])\n"
     ]
    },
    {
     "name": "stderr",
     "output_type": "stream",
     "text": [
      "\n",
      " 97%|█████████████████████████████████████████████████████████████████████████████████████████▍  | 972/1000 [03:23<00:05,  4.78it/s]\u001b[A"
     ]
    },
    {
     "name": "stdout",
     "output_type": "stream",
     "text": [
      "distances: torch.Size([2688, 1000])\n",
      "Indexes shape:  torch.Size([2688, 8])\n",
      "Kxz: torch.Size([26880, 1000])\n",
      "kzz_inv: torch.Size([26880, 8, 8])\n",
      "indexes: torch.Size([2688, 8])\n",
      "Expanded shape torch.Size([26880, 8])\n"
     ]
    },
    {
     "name": "stderr",
     "output_type": "stream",
     "text": [
      "\n",
      " 97%|█████████████████████████████████████████████████████████████████████████████████████████▌  | 973/1000 [03:23<00:05,  4.78it/s]\u001b[A"
     ]
    },
    {
     "name": "stdout",
     "output_type": "stream",
     "text": [
      "distances: torch.Size([2688, 1000])\n",
      "Indexes shape:  torch.Size([2688, 8])\n",
      "Kxz: torch.Size([26880, 1000])\n",
      "kzz_inv: torch.Size([26880, 8, 8])\n",
      "indexes: torch.Size([2688, 8])\n",
      "Expanded shape torch.Size([26880, 8])\n"
     ]
    },
    {
     "name": "stderr",
     "output_type": "stream",
     "text": [
      "\n",
      " 97%|█████████████████████████████████████████████████████████████████████████████████████████▌  | 974/1000 [03:23<00:05,  4.78it/s]\u001b[A"
     ]
    },
    {
     "name": "stdout",
     "output_type": "stream",
     "text": [
      "distances: torch.Size([2688, 1000])\n",
      "Indexes shape:  torch.Size([2688, 8])\n",
      "Kxz: torch.Size([26880, 1000])\n",
      "kzz_inv: torch.Size([26880, 8, 8])\n",
      "indexes: torch.Size([2688, 8])\n",
      "Expanded shape torch.Size([26880, 8])\n"
     ]
    },
    {
     "name": "stderr",
     "output_type": "stream",
     "text": [
      "\n",
      " 98%|█████████████████████████████████████████████████████████████████████████████████████████▋  | 975/1000 [03:23<00:05,  4.78it/s]\u001b[A"
     ]
    },
    {
     "name": "stdout",
     "output_type": "stream",
     "text": [
      "distances: torch.Size([2688, 1000])\n",
      "Indexes shape:  torch.Size([2688, 8])\n",
      "Kxz: torch.Size([26880, 1000])\n",
      "kzz_inv: torch.Size([26880, 8, 8])\n",
      "indexes: torch.Size([2688, 8])\n",
      "Expanded shape torch.Size([26880, 8])\n"
     ]
    },
    {
     "name": "stderr",
     "output_type": "stream",
     "text": [
      "\n",
      " 98%|█████████████████████████████████████████████████████████████████████████████████████████▊  | 976/1000 [03:23<00:05,  4.78it/s]\u001b[A"
     ]
    },
    {
     "name": "stdout",
     "output_type": "stream",
     "text": [
      "distances: torch.Size([2688, 1000])\n",
      "Indexes shape:  torch.Size([2688, 8])\n",
      "Kxz: torch.Size([26880, 1000])\n",
      "kzz_inv: torch.Size([26880, 8, 8])\n",
      "indexes: torch.Size([2688, 8])\n",
      "Expanded shape torch.Size([26880, 8])\n"
     ]
    },
    {
     "name": "stderr",
     "output_type": "stream",
     "text": [
      "\n",
      " 98%|█████████████████████████████████████████████████████████████████████████████████████████▉  | 977/1000 [03:24<00:04,  4.78it/s]\u001b[A"
     ]
    },
    {
     "name": "stdout",
     "output_type": "stream",
     "text": [
      "distances: torch.Size([2688, 1000])\n",
      "Indexes shape:  torch.Size([2688, 8])\n",
      "Kxz: torch.Size([26880, 1000])\n",
      "kzz_inv: torch.Size([26880, 8, 8])\n",
      "indexes: torch.Size([2688, 8])\n",
      "Expanded shape torch.Size([26880, 8])\n"
     ]
    },
    {
     "name": "stderr",
     "output_type": "stream",
     "text": [
      "\n",
      " 98%|█████████████████████████████████████████████████████████████████████████████████████████▉  | 978/1000 [03:24<00:04,  4.78it/s]\u001b[A"
     ]
    },
    {
     "name": "stdout",
     "output_type": "stream",
     "text": [
      "distances: torch.Size([2688, 1000])\n",
      "Indexes shape:  torch.Size([2688, 8])\n",
      "Kxz: torch.Size([26880, 1000])\n",
      "kzz_inv: torch.Size([26880, 8, 8])\n",
      "indexes: torch.Size([2688, 8])\n",
      "Expanded shape torch.Size([26880, 8])\n"
     ]
    },
    {
     "name": "stderr",
     "output_type": "stream",
     "text": [
      "\n",
      " 98%|██████████████████████████████████████████████████████████████████████████████████████████  | 979/1000 [03:24<00:04,  4.78it/s]\u001b[A"
     ]
    },
    {
     "name": "stdout",
     "output_type": "stream",
     "text": [
      "distances: torch.Size([2688, 1000])\n",
      "Indexes shape:  torch.Size([2688, 8])\n",
      "Kxz: torch.Size([26880, 1000])\n",
      "kzz_inv: torch.Size([26880, 8, 8])\n",
      "indexes: torch.Size([2688, 8])\n",
      "Expanded shape torch.Size([26880, 8])\n"
     ]
    },
    {
     "name": "stderr",
     "output_type": "stream",
     "text": [
      "\n",
      " 98%|██████████████████████████████████████████████████████████████████████████████████████████▏ | 980/1000 [03:24<00:04,  4.78it/s]\u001b[A"
     ]
    },
    {
     "name": "stdout",
     "output_type": "stream",
     "text": [
      "distances: torch.Size([2688, 1000])\n",
      "Indexes shape:  torch.Size([2688, 8])\n",
      "Kxz: torch.Size([26880, 1000])\n",
      "kzz_inv: torch.Size([26880, 8, 8])\n",
      "indexes: torch.Size([2688, 8])\n",
      "Expanded shape torch.Size([26880, 8])\n"
     ]
    },
    {
     "name": "stderr",
     "output_type": "stream",
     "text": [
      "\n",
      " 98%|██████████████████████████████████████████████████████████████████████████████████████████▎ | 981/1000 [03:24<00:03,  4.78it/s]\u001b[A"
     ]
    },
    {
     "name": "stdout",
     "output_type": "stream",
     "text": [
      "distances: torch.Size([2688, 1000])\n",
      "Indexes shape:  torch.Size([2688, 8])\n",
      "Kxz: torch.Size([26880, 1000])\n",
      "kzz_inv: torch.Size([26880, 8, 8])\n",
      "indexes: torch.Size([2688, 8])\n",
      "Expanded shape torch.Size([26880, 8])\n"
     ]
    },
    {
     "name": "stderr",
     "output_type": "stream",
     "text": [
      "\n",
      " 98%|██████████████████████████████████████████████████████████████████████████████████████████▎ | 982/1000 [03:25<00:03,  4.78it/s]\u001b[A"
     ]
    },
    {
     "name": "stdout",
     "output_type": "stream",
     "text": [
      "distances: torch.Size([2688, 1000])\n",
      "Indexes shape:  torch.Size([2688, 8])\n",
      "Kxz: torch.Size([26880, 1000])\n",
      "kzz_inv: torch.Size([26880, 8, 8])\n",
      "indexes: torch.Size([2688, 8])\n",
      "Expanded shape torch.Size([26880, 8])\n"
     ]
    },
    {
     "name": "stderr",
     "output_type": "stream",
     "text": [
      "\n",
      " 98%|██████████████████████████████████████████████████████████████████████████████████████████▍ | 983/1000 [03:25<00:03,  4.78it/s]\u001b[A"
     ]
    },
    {
     "name": "stdout",
     "output_type": "stream",
     "text": [
      "distances: torch.Size([2688, 1000])\n",
      "Indexes shape:  torch.Size([2688, 8])\n",
      "Kxz: torch.Size([26880, 1000])\n",
      "kzz_inv: torch.Size([26880, 8, 8])\n",
      "indexes: torch.Size([2688, 8])\n",
      "Expanded shape torch.Size([26880, 8])\n"
     ]
    },
    {
     "name": "stderr",
     "output_type": "stream",
     "text": [
      "\n",
      " 98%|██████████████████████████████████████████████████████████████████████████████████████████▌ | 984/1000 [03:25<00:03,  4.78it/s]\u001b[A"
     ]
    },
    {
     "name": "stdout",
     "output_type": "stream",
     "text": [
      "distances: torch.Size([2688, 1000])\n",
      "Indexes shape:  torch.Size([2688, 8])\n",
      "Kxz: torch.Size([26880, 1000])\n",
      "kzz_inv: torch.Size([26880, 8, 8])\n",
      "indexes: torch.Size([2688, 8])\n",
      "Expanded shape torch.Size([26880, 8])\n"
     ]
    },
    {
     "name": "stderr",
     "output_type": "stream",
     "text": [
      "\n",
      " 98%|██████████████████████████████████████████████████████████████████████████████████████████▌ | 985/1000 [03:25<00:03,  4.78it/s]\u001b[A"
     ]
    },
    {
     "name": "stdout",
     "output_type": "stream",
     "text": [
      "distances: torch.Size([2688, 1000])\n",
      "Indexes shape:  torch.Size([2688, 8])\n",
      "Kxz: torch.Size([26880, 1000])\n",
      "kzz_inv: torch.Size([26880, 8, 8])\n",
      "indexes: torch.Size([2688, 8])\n",
      "Expanded shape torch.Size([26880, 8])\n"
     ]
    },
    {
     "name": "stderr",
     "output_type": "stream",
     "text": [
      "\n",
      " 99%|██████████████████████████████████████████████████████████████████████████████████████████▋ | 986/1000 [03:25<00:02,  4.78it/s]\u001b[A"
     ]
    },
    {
     "name": "stdout",
     "output_type": "stream",
     "text": [
      "distances: torch.Size([2688, 1000])\n",
      "Indexes shape:  torch.Size([2688, 8])\n",
      "Kxz: torch.Size([26880, 1000])\n",
      "kzz_inv: torch.Size([26880, 8, 8])\n",
      "indexes: torch.Size([2688, 8])\n",
      "Expanded shape torch.Size([26880, 8])\n"
     ]
    },
    {
     "name": "stderr",
     "output_type": "stream",
     "text": [
      "\n",
      " 99%|██████████████████████████████████████████████████████████████████████████████████████████▊ | 987/1000 [03:26<00:02,  4.78it/s]\u001b[A"
     ]
    },
    {
     "name": "stdout",
     "output_type": "stream",
     "text": [
      "distances: torch.Size([2688, 1000])\n",
      "Indexes shape:  torch.Size([2688, 8])\n",
      "Kxz: torch.Size([26880, 1000])\n",
      "kzz_inv: torch.Size([26880, 8, 8])\n",
      "indexes: torch.Size([2688, 8])\n",
      "Expanded shape torch.Size([26880, 8])\n"
     ]
    },
    {
     "name": "stderr",
     "output_type": "stream",
     "text": [
      "\n",
      " 99%|██████████████████████████████████████████████████████████████████████████████████████████▉ | 988/1000 [03:26<00:02,  4.78it/s]\u001b[A"
     ]
    },
    {
     "name": "stdout",
     "output_type": "stream",
     "text": [
      "distances: torch.Size([2688, 1000])\n",
      "Indexes shape:  torch.Size([2688, 8])\n",
      "Kxz: torch.Size([26880, 1000])\n",
      "kzz_inv: torch.Size([26880, 8, 8])\n",
      "indexes: torch.Size([2688, 8])\n",
      "Expanded shape torch.Size([26880, 8])\n"
     ]
    },
    {
     "name": "stderr",
     "output_type": "stream",
     "text": [
      "\n",
      " 99%|██████████████████████████████████████████████████████████████████████████████████████████▉ | 989/1000 [03:26<00:02,  4.78it/s]\u001b[A"
     ]
    },
    {
     "name": "stdout",
     "output_type": "stream",
     "text": [
      "distances: torch.Size([2688, 1000])\n",
      "Indexes shape:  torch.Size([2688, 8])\n",
      "Kxz: torch.Size([26880, 1000])\n",
      "kzz_inv: torch.Size([26880, 8, 8])\n",
      "indexes: torch.Size([2688, 8])\n",
      "Expanded shape torch.Size([26880, 8])\n"
     ]
    },
    {
     "name": "stderr",
     "output_type": "stream",
     "text": [
      "\n",
      " 99%|███████████████████████████████████████████████████████████████████████████████████████████ | 990/1000 [03:26<00:02,  4.79it/s]\u001b[A"
     ]
    },
    {
     "name": "stdout",
     "output_type": "stream",
     "text": [
      "distances: torch.Size([2688, 1000])\n",
      "Indexes shape:  torch.Size([2688, 8])\n",
      "Kxz: torch.Size([26880, 1000])\n",
      "kzz_inv: torch.Size([26880, 8, 8])\n",
      "indexes: torch.Size([2688, 8])\n",
      "Expanded shape torch.Size([26880, 8])\n"
     ]
    },
    {
     "name": "stderr",
     "output_type": "stream",
     "text": [
      "\n",
      " 99%|███████████████████████████████████████████████████████████████████████████████████████████▏| 991/1000 [03:26<00:01,  4.78it/s]\u001b[A"
     ]
    },
    {
     "name": "stdout",
     "output_type": "stream",
     "text": [
      "distances: torch.Size([2688, 1000])\n",
      "Indexes shape:  torch.Size([2688, 8])\n",
      "Kxz: torch.Size([26880, 1000])\n",
      "kzz_inv: torch.Size([26880, 8, 8])\n",
      "indexes: torch.Size([2688, 8])\n",
      "Expanded shape torch.Size([26880, 8])\n"
     ]
    },
    {
     "name": "stderr",
     "output_type": "stream",
     "text": [
      "\n",
      " 99%|███████████████████████████████████████████████████████████████████████████████████████████▎| 992/1000 [03:27<00:01,  4.79it/s]\u001b[A"
     ]
    },
    {
     "name": "stdout",
     "output_type": "stream",
     "text": [
      "distances: torch.Size([2688, 1000])\n",
      "Indexes shape:  torch.Size([2688, 8])\n",
      "Kxz: torch.Size([26880, 1000])\n",
      "kzz_inv: torch.Size([26880, 8, 8])\n",
      "indexes: torch.Size([2688, 8])\n",
      "Expanded shape torch.Size([26880, 8])\n"
     ]
    },
    {
     "name": "stderr",
     "output_type": "stream",
     "text": [
      "\n",
      " 99%|███████████████████████████████████████████████████████████████████████████████████████████▎| 993/1000 [03:27<00:01,  4.79it/s]\u001b[A"
     ]
    },
    {
     "name": "stdout",
     "output_type": "stream",
     "text": [
      "distances: torch.Size([2688, 1000])\n",
      "Indexes shape:  torch.Size([2688, 8])\n",
      "Kxz: torch.Size([26880, 1000])\n",
      "kzz_inv: torch.Size([26880, 8, 8])\n",
      "indexes: torch.Size([2688, 8])\n",
      "Expanded shape torch.Size([26880, 8])\n"
     ]
    },
    {
     "name": "stderr",
     "output_type": "stream",
     "text": [
      "\n",
      " 99%|███████████████████████████████████████████████████████████████████████████████████████████▍| 994/1000 [03:27<00:01,  4.78it/s]\u001b[A"
     ]
    },
    {
     "name": "stdout",
     "output_type": "stream",
     "text": [
      "distances: torch.Size([2688, 1000])\n",
      "Indexes shape:  torch.Size([2688, 8])\n",
      "Kxz: torch.Size([26880, 1000])\n",
      "kzz_inv: torch.Size([26880, 8, 8])\n",
      "indexes: torch.Size([2688, 8])\n",
      "Expanded shape torch.Size([26880, 8])\n"
     ]
    },
    {
     "name": "stderr",
     "output_type": "stream",
     "text": [
      "\n",
      "100%|███████████████████████████████████████████████████████████████████████████████████████████▌| 995/1000 [03:27<00:01,  4.78it/s]\u001b[A"
     ]
    },
    {
     "name": "stdout",
     "output_type": "stream",
     "text": [
      "distances: torch.Size([2688, 1000])\n",
      "Indexes shape:  torch.Size([2688, 8])\n",
      "Kxz: torch.Size([26880, 1000])\n",
      "kzz_inv: torch.Size([26880, 8, 8])\n",
      "indexes: torch.Size([2688, 8])\n",
      "Expanded shape torch.Size([26880, 8])\n"
     ]
    },
    {
     "name": "stderr",
     "output_type": "stream",
     "text": [
      "\n",
      "100%|███████████████████████████████████████████████████████████████████████████████████████████▋| 996/1000 [03:28<00:00,  4.78it/s]\u001b[A"
     ]
    },
    {
     "name": "stdout",
     "output_type": "stream",
     "text": [
      "distances: torch.Size([2688, 1000])\n",
      "Indexes shape:  torch.Size([2688, 8])\n",
      "Kxz: torch.Size([26880, 1000])\n",
      "kzz_inv: torch.Size([26880, 8, 8])\n",
      "indexes: torch.Size([2688, 8])\n",
      "Expanded shape torch.Size([26880, 8])\n"
     ]
    },
    {
     "name": "stderr",
     "output_type": "stream",
     "text": [
      "\n",
      "100%|███████████████████████████████████████████████████████████████████████████████████████████▋| 997/1000 [03:28<00:00,  4.78it/s]\u001b[A"
     ]
    },
    {
     "name": "stdout",
     "output_type": "stream",
     "text": [
      "distances: torch.Size([2688, 1000])\n",
      "Indexes shape:  torch.Size([2688, 8])\n",
      "Kxz: torch.Size([26880, 1000])\n",
      "kzz_inv: torch.Size([26880, 8, 8])\n",
      "indexes: torch.Size([2688, 8])\n",
      "Expanded shape torch.Size([26880, 8])\n"
     ]
    },
    {
     "name": "stderr",
     "output_type": "stream",
     "text": [
      "\n",
      "100%|███████████████████████████████████████████████████████████████████████████████████████████▊| 998/1000 [03:28<00:00,  4.78it/s]\u001b[A"
     ]
    },
    {
     "name": "stdout",
     "output_type": "stream",
     "text": [
      "distances: torch.Size([2688, 1000])\n",
      "Indexes shape:  torch.Size([2688, 8])\n",
      "Kxz: torch.Size([26880, 1000])\n",
      "kzz_inv: torch.Size([26880, 8, 8])\n",
      "indexes: torch.Size([2688, 8])\n",
      "Expanded shape torch.Size([26880, 8])\n"
     ]
    },
    {
     "name": "stderr",
     "output_type": "stream",
     "text": [
      "\n",
      "100%|███████████████████████████████████████████████████████████████████████████████████████████▉| 999/1000 [03:28<00:00,  4.78it/s]\u001b[A"
     ]
    },
    {
     "name": "stdout",
     "output_type": "stream",
     "text": [
      "distances: torch.Size([2688, 1000])\n",
      "Indexes shape:  torch.Size([2688, 8])\n",
      "Kxz: torch.Size([26880, 1000])\n",
      "kzz_inv: torch.Size([26880, 8, 8])\n",
      "indexes: torch.Size([2688, 8])\n",
      "Expanded shape torch.Size([26880, 8])\n"
     ]
    },
    {
     "name": "stderr",
     "output_type": "stream",
     "text": [
      "\n",
      "100%|███████████████████████████████████████████████████████████████████████████████████████████| 1000/1000 [03:28<00:00,  4.79it/s]\u001b[A\n"
     ]
    },
    {
     "name": "stdout",
     "output_type": "stream",
     "text": [
      "distances: torch.Size([2688, 1000])\n",
      "Indexes shape:  torch.Size([2688, 8])\n",
      "Kxz: torch.Size([26880, 1000])\n",
      "kzz_inv: torch.Size([26880, 8, 8])\n",
      "indexes: torch.Size([2688, 8])\n",
      "Expanded shape torch.Size([26880, 8])\n"
     ]
    },
    {
     "data": {
      "image/png": "[encoded data removed]",
      "text/plain": [
       "<Figure size 2500x1000 with 10 Axes>"
      ]
     },
     "metadata": {},
     "output_type": "display_data"
    },
    {
     "name": "stderr",
     "output_type": "stream",
     "text": [
      "100%|████████████████████████████████████████████████████████████████████████████████████████████████| 1/1 [05:06<00:00, 306.35s/it]\n"
     ]
    },
    {
     "data": {
      "image/png": "[encoded data removed]",
      "text/plain": [
       "<Figure size 640x480 with 10 Axes>"
      ]
     },
     "metadata": {},
     "output_type": "display_data"
    }
   ],
   "source": [
    "main()"
   ]
  },
  {
   "cell_type": "code",
   "execution_count": null,
   "id": "dee5ae32-fbc5-48f3-bb4f-c460f349c77f",
   "metadata": {},
   "outputs": [],
   "source": []
  },
  {
   "cell_type": "code",
   "execution_count": null,
   "id": "9c890b8b-0bfa-4dae-aeec-4e8baac5543c",
   "metadata": {},
   "outputs": [],
   "source": []
  }
 ],
 "metadata": {
  "kernelspec": {
   "display_name": "Python 3 (ipykernel)",
   "language": "python",
   "name": "python3"
  },
  "language_info": {
   "codemirror_mode": {
    "name": "ipython",
    "version": 3
   },
   "file_extension": ".py",
   "mimetype": "text/x-python",
   "name": "python",
   "nbconvert_exporter": "python",
   "pygments_lexer": "ipython3",
   "version": "3.9.19"
  }
 },
 "nbformat": 4,
 "nbformat_minor": 5
}
