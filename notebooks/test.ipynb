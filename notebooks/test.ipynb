{
 "cells": [
  {
   "cell_type": "code",
   "execution_count": 1,
   "id": "583774ac",
   "metadata": {},
   "outputs": [],
   "source": [
    "import torch\n",
    "import matplotlib.pyplot as plt\n",
    "from torch import optim, distributions, nn\n",
    "import torch.nn.utils as nn_utils\n",
    "from tqdm import tqdm\n",
    "from gpzoo.gp import SVGP, VNNGP\n",
    "from gpzoo.kernels import NSF_RBF, RBF\n",
    "from gpzoo.likelihoods import NSF2\n",
    "from gpzoo.utilities import rescale_spatial_coords, dims_autocorr, regularized_nmf, add_jitter, scanpy_sizefactors #init_softplus\n",
    "import gpzoo.pri_experiment_utilities as exp\n",
    "import squidpy as sq\n",
    "import numpy as np\n",
    "import time\n",
    "import random\n",
    "import scanpy as sc\n",
    "import anndata as ad\n",
    "from anndata import AnnData\n",
    "from squidpy.gr import spatial_neighbors, spatial_autocorr\n",
    "from sklearn.cluster import KMeans"
   ]
  },
  {
   "cell_type": "code",
   "execution_count": 2,
   "id": "d8b1cbb1",
   "metadata": {},
   "outputs": [],
   "source": [
    "save_path = './test/'\n",
    "dicts = {\n",
    "    'L': 15, \n",
    "    'M': 1000, \n",
    "    'K': 9,\n",
    "    'sigma': 0.1, \n",
    "    'lengthscale': 0.07, \n",
    "    'jtr': 1e-2,\n",
    "    'batch_size': 128,\n",
    "    'lr': 1e-3,\n",
    "}\n",
    "nmf_path = f\"./slideseq_final/nmf/nmf_factors_iter=1000_rs=256_L={dicts['L']}.pt\"\n",
    "nmf_path = f\"./visium_final/nmf/nmf_factors_iter=500_rs=256_L={dicts['L']}.pt\""
   ]
  },
  {
   "cell_type": "code",
   "execution_count": null,
   "id": "1f1f693d",
   "metadata": {},
   "outputs": [
    {
     "name": "stderr",
     "output_type": "stream",
     "text": [
      "/home/users/shrestp/.local/lib/python3.9/site-packages/scanpy/preprocessing/_simple.py:158: ImplicitModificationWarning: Trying to modify attribute `.obs` of view, initializing view as actual.\n",
      "  adata.obs[\"n_counts\"] = number\n"
     ]
    }
   ],
   "source": [
    "\n",
    "\n",
    "exp.run_real_data_experiment(exp.load_slideseq, save_path, steps=100, batched=True,\n",
    "                             model_type='VNNGP', NMF=True, nmf_path=nmf_path, kwargs=dicts)"
   ]
  },
  {
   "cell_type": "code",
   "execution_count": null,
   "id": "c8cc4326",
   "metadata": {},
   "outputs": [],
   "source": []
  }
 ],
 "metadata": {
  "kernelspec": {
   "display_name": "Python 3 (ipykernel)",
   "language": "python",
   "name": "python3"
  },
  "language_info": {
   "codemirror_mode": {
    "name": "ipython",
    "version": 3
   },
   "file_extension": ".py",
   "mimetype": "text/x-python",
   "name": "python",
   "nbconvert_exporter": "python",
   "pygments_lexer": "ipython3",
   "version": "3.9.0"
  }
 },
 "nbformat": 4,
 "nbformat_minor": 5
}
