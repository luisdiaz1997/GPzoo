{
 "cells": [
  {
   "cell_type": "code",
   "execution_count": 1,
   "id": "7076f587-774b-4086-8a79-486cf9c4ce8a",
   "metadata": {},
   "outputs": [
    {
     "name": "stderr",
     "output_type": "stream",
     "text": [
      "/engelhardt/home/pshrestha/vnngp/GPzoo/gpzoo/pri_experiment_utilities.py:5: TqdmExperimentalWarning: Using `tqdm.autonotebook.tqdm` in notebook mode. Use `tqdm.tqdm` instead to force console mode (e.g. in jupyter console)\n",
      "  from tqdm.autonotebook import tqdm\n",
      "/engelhardt/home/pshrestha/anaconda3/envs/vnngp2/lib/python3.9/site-packages/dask/dataframe/_pyarrow_compat.py:15: FutureWarning: Minimal version of pyarrow will soon be increased to 14.0.1. You are using 13.0.0. Please consider upgrading.\n",
      "  warnings.warn(\n",
      "2024-09-12 10:29:49.056892: I tensorflow/core/util/port.cc:113] oneDNN custom operations are on. You may see slightly different numerical results due to floating-point round-off errors from different computation orders. To turn them off, set the environment variable `TF_ENABLE_ONEDNN_OPTS=0`.\n",
      "2024-09-12 10:29:49.068601: E external/local_xla/xla/stream_executor/cuda/cuda_fft.cc:479] Unable to register cuFFT factory: Attempting to register factory for plugin cuFFT when one has already been registered\n",
      "2024-09-12 10:29:49.086093: E external/local_xla/xla/stream_executor/cuda/cuda_dnn.cc:10575] Unable to register cuDNN factory: Attempting to register factory for plugin cuDNN when one has already been registered\n",
      "2024-09-12 10:29:49.086115: E external/local_xla/xla/stream_executor/cuda/cuda_blas.cc:1442] Unable to register cuBLAS factory: Attempting to register factory for plugin cuBLAS when one has already been registered\n",
      "2024-09-12 10:29:49.096933: I tensorflow/core/platform/cpu_feature_guard.cc:210] This TensorFlow binary is optimized to use available CPU instructions in performance-critical operations.\n",
      "To enable the following instructions: AVX2 AVX512F AVX512_VNNI FMA, in other operations, rebuild TensorFlow with the appropriate compiler flags.\n",
      "2024-09-12 10:29:49.755232: W tensorflow/compiler/tf2tensorrt/utils/py_utils.cc:38] TF-TRT Warning: Could not find TensorRT\n"
     ]
    }
   ],
   "source": [
    "import anndata as ad\n",
    "import csv\n",
    "import gpzoo.pri_experiment_utilities as putil\n",
    "import matplotlib.pyplot as plt\n",
    "import numpy as np\n",
    "import random\n",
    "import scanpy as sc\n",
    "import scipy.sparse as sparse\n",
    "import squidpy as sq\n",
    "import tensorflow as tf\n",
    "import time\n",
    "import torch\n",
    "import torch.nn.utils as nn_utils\n",
    "\n",
    "from anndata import AnnData\n",
    "from contextlib import suppress\n",
    "from copy import deepcopy\n",
    "from gpzoo.gp import SVGP\n",
    "from gpzoo.kernels import NSF_RBF\n",
    "from gpzoo.likelihoods import NSF2\n",
    "from gpzoo.utilities import (add_jitter, anndata_to_train_val, deviancePoisson, dims_autocorr, regularized_nmf, rescale_spatial_coords, scanpy_sizefactors)\n",
    "from os import path\n",
    "from scanpy import read_h5ad\n",
    "from sklearn.cluster import KMeans\n",
    "from sklearn.decomposition import NMF\n",
    "from sklearn.model_selection import ParameterGrid, KFold\n",
    "from squidpy.gr import spatial_autocorr, spatial_neighbors\n",
    "from tensorflow import constant\n",
    "from tensorflow.data import Dataset\n",
    "from torch import distributions, nn, optim\n",
    "from tqdm import tqdm"
   ]
  },
  {
   "cell_type": "code",
   "execution_count": 2,
   "id": "70df62a1-6a86-4c54-9381-13848529cd27",
   "metadata": {},
   "outputs": [
    {
     "name": "stdout",
     "output_type": "stream",
     "text": [
      "CUDA available:  True\n",
      "Number of GPUs:  2\n",
      "Current GPU:  0\n",
      "GPU Name:  NVIDIA A30\n"
     ]
    }
   ],
   "source": [
    "print(\"CUDA available: \", torch.cuda.is_available())\n",
    "print(\"Number of GPUs: \", torch.cuda.device_count())\n",
    "print(\"Current GPU: \", torch.cuda.current_device())\n",
    "print(\"GPU Name: \", torch.cuda.get_device_name(torch.cuda.current_device()))"
   ]
  },
  {
   "cell_type": "code",
   "execution_count": 3,
   "id": "3a5b4fcc-da6d-4e23-9d34-622d83f049df",
   "metadata": {},
   "outputs": [
    {
     "data": {
      "text/plain": [
       "device(type='cuda', index=0)"
      ]
     },
     "execution_count": 3,
     "metadata": {},
     "output_type": "execute_result"
    }
   ],
   "source": [
    "device = torch.device('cuda:0' if torch.cuda.is_available() else 'cpu')\n",
    "device"
   ]
  },
  {
   "cell_type": "code",
   "execution_count": 5,
   "id": "a1d88dc4-1b64-4040-bec3-e8d849cb359e",
   "metadata": {},
   "outputs": [],
   "source": [
    "X, Y = putil.load_visium()\n",
    "Y = Y.T"
   ]
  },
  {
   "cell_type": "code",
   "execution_count": 4,
   "id": "9e1af94d-157a-4a3c-86c8-1a2cc6248810",
   "metadata": {},
   "outputs": [],
   "source": [
    "random.seed(256)\n",
    "root_path = '/engelhardt/home/pshrestha/vnngp/'\n",
    "save_path = path.join(root_path, 'results/visium/nnnsfh')"
   ]
  },
  {
   "cell_type": "code",
   "execution_count": null,
   "id": "2d74340e-8056-47e7-b113-f3faf56ef831",
   "metadata": {},
   "outputs": [],
   "source": [
    "# inducing points always untrained\n",
    "# don't train V, initialize it as the median/mean of the expression\n",
    "# filter an define optimizer again after changing gradients\n",
    "model.sf.prior.Z.requires_grad=False\n",
    "model.cf.prior.scale_pf = 1e-1\n",
    "model.V.requires_grad=False\n",
    "\n",
    "# 0. train both variances (3 hrs) \n",
    "model.cf.prior.scale.requires_grad = True\n",
    "model.sf.prior.Lu.requires_grad=True\n",
    "\n",
    "model.sf.prior.kernel.lengthscale.requires_grad = False\n",
    "model.sf.prior.kernel.sigma.requires_grad = False\n",
    "model.sf.prior.mu.requires_grad=False\n",
    "model.sf.W.requires_grad=False\n",
    "model.cf.W.requires_grad=False\n",
    "model.cf.prior.mean.requires_grad=False\n",
    "\n",
    "\n",
    "\n",
    "# 1. train mean and variance (spatial) until convergence  (6 hrs)\n",
    "model.sf.prior.Lu.requires_grad=True\n",
    "model.sf.prior.mu.requires_grad=True\n",
    "\n",
    "model.cf.prior.mean.requires_grad=False\n",
    "model.cf.prior.scale.requires_grad = False\n",
    "model.sf.prior.kernel.lengthscale.requires_grad = False\n",
    "model.sf.prior.kernel.sigma.requires_grad = False\n",
    "model.sf.W.requires_grad=False\n",
    "model.cf.W.requires_grad=False\n",
    "\n",
    "\n",
    "# 2. train mean and variance until convergence + non-spatial variance (3 hrs)\n",
    "model.sf.prior.Lu.requires_grad=True\n",
    "model.sf.prior.mu.requires_grad=True\n",
    "model.cf.prior.scale.requires_grad = True\n",
    "\n",
    "model.cf.prior.mean.requires_grad=False\n",
    "model.cf.prior.scale.requires_grad = False\n",
    "model.sf.prior.kernel.lengthscale.requires_grad = False\n",
    "model.sf.prior.kernel.sigma.requires_grad = False\n",
    "model.sf.W.requires_grad=False\n",
    "model.cf.W.requires_grad=False\n",
    "\n",
    "\n",
    "# 3. train mean, variance and loadings spatial + non-spatial variance (6hrs)\n",
    "model.sf.prior.Lu.requires_grad=True\n",
    "model.sf.prior.mu.requires_grad=True\n",
    "model.cf.prior.scale.requires_grad = True\n",
    "model.sf.W.requires_grad=True\n",
    "\n",
    "model.cf.prior.mean.requires_grad=False\n",
    "model.cf.prior.scale.requires_grad = False\n",
    "model.sf.prior.kernel.lengthscale.requires_grad = False\n",
    "model.sf.prior.kernel.sigma.requires_grad = False\n",
    "model.cf.W.requires_grad=False\n",
    "\n",
    "# 4. train non-spatial mean, variance and loadings (6hrs)\n",
    "model.cf.prior.mean.requires_grad=True\n",
    "model.cf.prior.scale.requires_grad = True\n",
    "model.cf.prior.scale.requires_grad = True\n",
    "model.cf.W.requires_grad=True\n",
    "\n",
    "model.sf.prior.Lu.requires_grad=False\n",
    "model.sf.prior.mu.requires_grad=False\n",
    "model.sf.W.requires_grad=False\n",
    "model.sf.prior.kernel.lengthscale.requires_grad = False\n",
    "model.sf.prior.kernel.sigma.requires_grad = False\n",
    "\n",
    "# 5. train everything (6hrs)\n",
    "model.cf.prior.mean.requires_grad=True\n",
    "model.cf.prior.scale.requires_grad = True\n",
    "model.cf.prior.scale.requires_grad = True\n",
    "model.cf.W.requires_grad=True\n",
    "model.sf.prior.Lu.requires_grad=True\n",
    "model.sf.prior.mu.requires_grad=True\n",
    "model.sf.W.requires_grad=True\n",
    "model.sf.prior.kernel.lengthscale.requires_grad = False\n",
    "model.sf.prior.kernel.sigma.requires_grad = False"
   ]
  },
  {
   "cell_type": "code",
   "execution_count": null,
   "id": "28ba1af7-0097-4372-8502-8745a3498064",
   "metadata": {},
   "outputs": [],
   "source": []
  },
  {
   "cell_type": "code",
   "execution_count": 6,
   "id": "f42d2e28-c62c-41a7-8f22-8f38a2128741",
   "metadata": {},
   "outputs": [],
   "source": [
    "kwargs = {\n",
    "                    'L': 15, \n",
    "                    'M': len(X), # use total number of inducing points\n",
    "                    'sigma': 1.0, \n",
    "                    'lengthscale': 1.0, \n",
    "                    'jtr': 1e-2, # no lower\n",
    "                    'batch_size': 128,\n",
    "                    'lr': 0.001,\n",
    "                    'rs': 256,\n",
    "                    'lkzz_build': 1,\n",
    "                    'model': 'VNNGP',\n",
    "                    'L1_jitter': 1e-1, # no lower\n",
    "                    'iterations': 5000,\n",
    "                    'K': 8,\n",
    "                }"
   ]
  },
  {
   "cell_type": "code",
   "execution_count": 7,
   "id": "5466f9f7-da1a-4bbd-bf69-0af7f4897b3d",
   "metadata": {},
   "outputs": [],
   "source": [
    "nmf_save_path = path.join(root_path, 'results/visium/nmf/')\n",
    "factors_path = path.join(nmf_save_path, f\"nmf_factors_iter=1000_rs=256_L={kwargs['L']}.npy\")\n",
    "loadings_path = path.join(nmf_save_path, f\"nmf_loadings_iter=1000_rs=256_L={kwargs['L']}.npy\")\n",
    "factors = np.load(factors_path)\n",
    "loadings = np.load(loadings_path)"
   ]
  },
  {
   "cell_type": "code",
   "execution_count": 8,
   "id": "28bef4f9-497c-4b08-8b7e-f4768194817c",
   "metadata": {},
   "outputs": [],
   "source": [
    "moran_idx, moranI = putil.dims_autocorr(factors, np.array(X))\n",
    "factors = factors[:, moran_idx]\n",
    "loadings = loadings[:, moran_idx]"
   ]
  },
  {
   "cell_type": "code",
   "execution_count": 9,
   "id": "fa42ee6a-77b6-4c39-ab82-e64c1d3a568b",
   "metadata": {},
   "outputs": [],
   "source": [
    "model = putil.build_model_hybrid(np.array(X), np.array(Y).T, loadings=loadings, factors=factors, kwargs=kwargs)\n",
    "losses, means, scales, final_time = [], [], [], 0"
   ]
  },
  {
   "cell_type": "code",
   "execution_count": 14,
   "id": "5499310d-0eb3-4394-9f9a-0421ccb2d10d",
   "metadata": {},
   "outputs": [
    {
     "data": {
      "text/plain": [
       "Parameter containing:\n",
       "tensor([[0.7512, 0.1662, 0.6926,  ..., 0.2859, 0.4108, 0.5374],\n",
       "        [0.2251, 0.5524, 0.4697,  ..., 0.7516, 0.3228, 0.0940],\n",
       "        [0.0101, 0.6810, 0.9064,  ..., 0.2430, 0.5382, 0.0654],\n",
       "        ...,\n",
       "        [0.7334, 0.5678, 0.2261,  ..., 0.1728, 0.4853, 0.5088],\n",
       "        [0.7637, 0.7165, 0.6401,  ..., 0.0384, 0.9027, 0.4810],\n",
       "        [0.0564, 0.6255, 0.1172,  ..., 0.9951, 0.3971, 0.2547]],\n",
       "       device='cuda:0', requires_grad=True)"
      ]
     },
     "execution_count": 14,
     "metadata": {},
     "output_type": "execute_result"
    }
   ],
   "source": [
    "model.cf.prior.scale"
   ]
  },
  {
   "cell_type": "code",
   "execution_count": 1,
   "id": "831691fd-75c3-49fb-84c1-cbaf11af8954",
   "metadata": {},
   "outputs": [
    {
     "ename": "NameError",
     "evalue": "name 'model' is not defined",
     "output_type": "error",
     "traceback": [
      "\u001b[0;31m---------------------------------------------------------------------------\u001b[0m",
      "\u001b[0;31mNameError\u001b[0m                                 Traceback (most recent call last)",
      "Cell \u001b[0;32mIn[1], line 1\u001b[0m\n\u001b[0;32m----> 1\u001b[0m model\u001b[38;5;241m.\u001b[39msf\u001b[38;5;241m.\u001b[39mprior\u001b[38;5;241m.\u001b[39mkernel\u001b[38;5;241m.\u001b[39mlengthscale\u001b[38;5;241m.\u001b[39mrequires_grad \u001b[38;5;241m=\u001b[39m \u001b[38;5;28;01mFalse\u001b[39;00m\n\u001b[1;32m      2\u001b[0m model\u001b[38;5;241m.\u001b[39msf\u001b[38;5;241m.\u001b[39mprior\u001b[38;5;241m.\u001b[39mZ\u001b[38;5;241m.\u001b[39mrequires_grad\u001b[38;5;241m=\u001b[39m\u001b[38;5;28;01mFalse\u001b[39;00m\n\u001b[1;32m      3\u001b[0m model\u001b[38;5;241m.\u001b[39msf\u001b[38;5;241m.\u001b[39mprior\u001b[38;5;241m.\u001b[39mmu\u001b[38;5;241m.\u001b[39mrequires_grad\u001b[38;5;241m=\u001b[39m\u001b[38;5;28;01mFalse\u001b[39;00m\n",
      "\u001b[0;31mNameError\u001b[0m: name 'model' is not defined"
     ]
    }
   ],
   "source": [
    "model.sf.prior.kernel.lengthscale.requires_grad = False\n",
    "model.sf.prior.Z.requires_grad=False\n",
    "model.sf.prior.mu.requires_grad=False\n",
    "model.sf.prior.Lu.requires_grad=False\n",
    "model.sf.W.requires_grad=False\n",
    "model.cf.W.requires_grad=True\n",
    "model.cf.prior.mean.requires_grad=True\n",
    "model.cf.prior.scale_pf = 1e-1\n",
    "model.V.requires_grad=True"
   ]
  }
 ],
 "metadata": {
  "kernelspec": {
   "display_name": "vnngp2",
   "language": "python",
   "name": "vnngp2"
  },
  "language_info": {
   "codemirror_mode": {
    "name": "ipython",
    "version": 3
   },
   "file_extension": ".py",
   "mimetype": "text/x-python",
   "name": "python",
   "nbconvert_exporter": "python",
   "pygments_lexer": "ipython3",
   "version": "3.9.19"
  }
 },
 "nbformat": 4,
 "nbformat_minor": 5
}
