{
 "cells": [
  {
   "cell_type": "code",
   "execution_count": 1,
   "metadata": {},
   "source": [
    "import torch\n",
    "import matplotlib.pyplot as plt\n",
    "from torch import optim, distributions, nn\n",
    "from tqdm.notebook import tqdm\n",
    "from gpzoo.kernels import MGGP_RBF\n",
    "from gpzoo.gp import MGGP_SVGP\n",
    "from gpzoo.likelihoods import GaussianLikelihood"
   ],
   "outputs": []
  },
  {
   "cell_type": "code",
   "execution_count": 2,
   "metadata": {},
   "source": [
    "torch.manual_seed(32)\n",
    "\n",
    "noise_variance = torch.tensor(0.05)\n",
    "n0, n1 = 100, 100\n",
    "\n",
    "\n",
    "X0 = distributions.Uniform(-10, 10).sample(sample_shape=(n0,1))\n",
    "X1 = distributions.Uniform(-10, 10).sample(sample_shape=(n1,1))\n",
    "\n",
    "X = torch.concatenate([X0, X1], axis=0)\n",
    "X_groups = torch.concatenate([torch.zeros(n0), torch.ones(n1)]).type(torch.LongTensor)"
   ],
   "outputs": []
  },
  {
   "cell_type": "code",
   "execution_count": 3,
   "metadata": {},
   "source": [
    "kernel_true = MGGP_RBF(sigma=1.0, lengthscale=1.0, group_diff_param=1.0)\n",
    "kernel_true.input_dim = 1\n",
    "cov = kernel_true.forward(X, X, X_groups, X_groups)+ noise_variance.expand(n0+n1).diag()\n",
    "Y = distributions.MultivariateNormal(torch.zeros(len(X)), cov).sample()"
   ],
   "outputs": []
  },
  {
   "cell_type": "code",
   "execution_count": 4,
   "metadata": {},
   "source": [
    "kernel = MGGP_RBF(sigma=1.0, lengthscale=3.0, group_diff_param=0.001)\n",
    "\n",
    "M = 50\n",
    "gp = MGGP_SVGP(kernel, dim=1, M=50, jitter=1e-3, n_groups=2)\n",
    "gp.Z = nn.Parameter(20.0*torch.rand((2*M, 1))-10.0)\n",
    "\n",
    "model = GaussianLikelihood(gp, noise=1.0)"
   ],
   "outputs": []
  },
  {
   "cell_type": "code",
   "execution_count": 5,
   "metadata": {},
   "source": [
    "def train(model, optimizer, X, groupsX, y, steps=200, E=20):\n",
    "    losses = []\n",
    "    for it in tqdm(range(steps)):\n",
    "\n",
    "        optimizer.zero_grad()\n",
    "        pY, qF, qU, pU = model(X=X, groupsX=groupsX, E=E)\n",
    "\n",
    "        ELBO = (pY.log_prob(y)).mean(axis=0).sum()\n",
    "\n",
    "        ELBO -= torch.sum(distributions.kl_divergence(qU, pU))\n",
    "\n",
    "\n",
    "        loss = -ELBO\n",
    "        loss.backward()\n",
    "        optimizer.step()\n",
    "        losses.append(loss.item())\n",
    "        \n",
    "    return losses"
   ],
   "outputs": []
  },
  {
   "cell_type": "code",
   "execution_count": 6,
   "metadata": {},
   "source": [
    "optimizer = optim.Adam(model.parameters(), lr=1e-3)"
   ],
   "outputs": []
  },
  {
   "cell_type": "code",
   "execution_count": 72,
   "metadata": {},
   "source": [
    "losses = train(model, optimizer, X, X_groups, Y, steps=4000, E=100)"
   ],
   "outputs": []
  },
  {
   "cell_type": "code",
   "execution_count": 73,
   "metadata": {},
   "source": [
    "plt.plot(losses)"
   ],
   "outputs": []
  },
  {
   "cell_type": "code",
   "execution_count": 74,
   "metadata": {},
   "source": [
    "ntest = 500\n",
    "Xtest_onegroup = torch.linspace(-10, 10, ntest)[:, None]\n",
    "Xtest = torch.concatenate([Xtest_onegroup, Xtest_onegroup], axis=0)\n",
    "Xtest_groups = torch.concatenate([torch.zeros(ntest), torch.ones(ntest)]).type(torch.LongTensor)\n",
    "pY, qF, qU, pU = model(X=Xtest, groupsX=Xtest_groups, verbose=False)\n",
    "mean = qF.mean.detach()"
   ],
   "outputs": []
  },
  {
   "cell_type": "code",
   "execution_count": 75,
   "metadata": {},
   "source": [
    "fig, ax = plt.subplots(figsize=(12, 5))\n",
    "ax.scatter(X[:n0], Y[:n0], color=\"red\", label=\"Data, group 1\")\n",
    "ax.scatter(X[n0:], Y[n0:], color=\"blue\", label=\"Data, group 2\")\n",
    "ax.plot(Xtest[:ntest], mean[:ntest], color=\"red\", label=\"Predictions, group 1\")\n",
    "ax.plot(\n",
    "    Xtest[ntest:], mean[ntest:], color=\"blue\", label=\"Predictions, group 2\"\n",
    ")\n",
    "ax.set_xlabel(r\"$X$\")\n",
    "ax.set_ylabel(r\"$y$\")\n",
    "ax.legend()\n",
    "fig.tight_layout()"
   ],
   "outputs": []
  },
  {
   "cell_type": "code",
   "execution_count": 76,
   "metadata": {},
   "source": [
    "model.gp.kernel.lengthscale"
   ],
   "outputs": []
  },
  {
   "cell_type": "code",
   "execution_count": 77,
   "metadata": {},
   "source": [
    "model.gp.kernel.sigma"
   ],
   "outputs": []
  },
  {
   "cell_type": "code",
   "execution_count": 78,
   "metadata": {},
   "source": [
    "(pY.scale.squeeze()[0])**2.0"
   ],
   "outputs": []
  },
  {
   "cell_type": "code",
   "execution_count": 79,
   "metadata": {},
   "source": [
    "model.gp.kernel.group_diff_param"
   ],
   "outputs": []
  },
  {
   "cell_type": "code",
   "execution_count": 81,
   "metadata": {},
   "source": [
    "torch.nn.functional.softplus(model.noise)"
   ],
   "outputs": []
  },
  {
   "cell_type": "code",
   "execution_count": null,
   "metadata": {},
   "source": [],
   "outputs": []
  }
 ],
 "metadata": {
  "kernelspec": {
   "display_name": "Python 3 (ipykernel)",
   "language": "python",
   "name": "python3"
  },
  "language_info": {
   "codemirror_mode": {
    "name": "ipython",
    "version": 3
   },
   "file_extension": ".py",
   "mimetype": "text/x-python",
   "name": "python",
   "nbconvert_exporter": "python",
   "pygments_lexer": "ipython3",
   "version": "3.9.17"
  }
 },
 "nbformat": 4,
 "nbformat_minor": 2
}
