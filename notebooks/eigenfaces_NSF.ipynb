{
 "cells": [
  {
   "cell_type": "code",
   "execution_count": 1,
   "metadata": {},
   "outputs": [
    {
     "name": "stderr",
     "output_type": "stream",
     "text": [
      "/var/folders/k0/dnsdn2ws5vl0xhxl_60p6pcr0000gq/T/ipykernel_73859/1508153585.py:4: TqdmExperimentalWarning: Using `tqdm.autonotebook.tqdm` in notebook mode. Use `tqdm.tqdm` instead to force console mode (e.g. in jupyter console)\n",
      "  from tqdm.autonotebook import tqdm\n"
     ]
    }
   ],
   "source": [
    "import torch\n",
    "import matplotlib.pyplot as plt\n",
    "from torch import optim, distributions, nn\n",
    "from tqdm.autonotebook import tqdm\n",
    "from sklearn.datasets import fetch_olivetti_faces\n",
    "from gpzoo.gp_stuff import NSF, NSF_RBF"
   ]
  },
  {
   "cell_type": "code",
   "execution_count": 2,
   "metadata": {},
   "outputs": [],
   "source": [
    "device = torch.device('cuda:0' if torch.cuda.is_available() else 'cpu')\n"
   ]
  },
  {
   "cell_type": "code",
   "execution_count": 3,
   "metadata": {},
   "outputs": [],
   "source": [
    "data, _ = fetch_olivetti_faces(return_X_y=True, shuffle=True, random_state=97)"
   ]
  },
  {
   "cell_type": "code",
   "execution_count": 4,
   "metadata": {},
   "outputs": [],
   "source": [
    "Y = (data)*255\n",
    "Y = Y.astype(int)\n",
    "Y = torch.tensor(Y)"
   ]
  },
  {
   "cell_type": "code",
   "execution_count": 5,
   "metadata": {},
   "outputs": [],
   "source": [
    "idx = torch.linspace(-32, 32, 64, dtype=torch.float)\n",
    "X = torch.cartesian_prod(-idx, idx).flip(dims=[1])\n",
    "N = X.shape[0]"
   ]
  },
  {
   "cell_type": "code",
   "execution_count": 6,
   "metadata": {},
   "outputs": [
    {
     "data": {
      "text/plain": [
       "NSF(\n",
       "  (kernel): NSF_RBF()\n",
       "  (svgp): SVGP(\n",
       "    (kernel): NSF_RBF()\n",
       "  )\n",
       ")"
      ]
     },
     "execution_count": 6,
     "metadata": {},
     "output_type": "execute_result"
    }
   ],
   "source": [
    "L =10\n",
    "M = 32*32\n",
    "kernel = NSF_RBF(L=L, lengthscale=2)\n",
    "model = NSF(X=X, y=Y, kernel=kernel, M=M, L=L, jitter=1e-2)\n",
    "idz = torch.multinomial(torch.ones(X.shape[0]), num_samples=M, replacement=False)\n",
    "model.svgp.Z = nn.Parameter(X[idz])\n",
    "\n",
    "model.to(device)"
   ]
  },
  {
   "cell_type": "code",
   "execution_count": 7,
   "metadata": {},
   "outputs": [],
   "source": [
    "X_train = X.to(device)\n",
    "Y_train = Y.to(device)"
   ]
  },
  {
   "cell_type": "code",
   "execution_count": 8,
   "metadata": {},
   "outputs": [],
   "source": [
    "optimizer = optim.Adam(model.parameters(), lr=1e-3)"
   ]
  },
  {
   "cell_type": "code",
   "execution_count": null,
   "metadata": {},
   "outputs": [
    {
     "data": {
      "application/vnd.jupyter.widget-view+json": {
       "model_id": "68dcae22e739494c8425510d063a549a",
       "version_major": 2,
       "version_minor": 0
      },
      "text/plain": [
       "  0%|          | 0/1000 [00:00<?, ?it/s]"
      ]
     },
     "metadata": {},
     "output_type": "display_data"
    }
   ],
   "source": [
    "losses = []\n",
    "for it in tqdm(range(1000)):\n",
    "            \n",
    "    optimizer.zero_grad()\n",
    "    pY, qF, qU, pU = model(X_train, E=20)\n",
    "\n",
    "\n",
    "    ELBO = (pY.log_prob(Y_train)).mean(axis=0).sum()\n",
    "\n",
    "    ELBO -= torch.sum(distributions.kl_divergence(qU, pU))\n",
    "\n",
    "\n",
    "    loss = -ELBO\n",
    "    loss.backward()\n",
    "    optimizer.step()\n",
    "    losses.append(loss.item())"
   ]
  },
  {
   "cell_type": "code",
   "execution_count": null,
   "metadata": {},
   "outputs": [],
   "source": [
    "plt.plot(losses)"
   ]
  },
  {
   "cell_type": "code",
   "execution_count": null,
   "metadata": {},
   "outputs": [],
   "source": [
    "plt.figure(figsize=(10, L*2//5))\n",
    "for i in range(L):\n",
    "    plt.subplot(L//5, 5, i+1)\n",
    "    loading = torch.exp(qF.mean[i]).detach().cpu().numpy()\n",
    "    plt.scatter(X[:, 0].detach().cpu().numpy(), X[:,1].detach().cpu().numpy(), c=loading, cmap='gray',  vmin=0, vmax=10, alpha=0.9, s=2)\n",
    "\n",
    "    plt.axis('off')"
   ]
  },
  {
   "cell_type": "code",
   "execution_count": null,
   "metadata": {},
   "outputs": [],
   "source": []
  }
 ],
 "metadata": {
  "kernelspec": {
   "display_name": "Python 3 (ipykernel)",
   "language": "python",
   "name": "python3"
  },
  "language_info": {
   "codemirror_mode": {
    "name": "ipython",
    "version": 3
   },
   "file_extension": ".py",
   "mimetype": "text/x-python",
   "name": "python",
   "nbconvert_exporter": "python",
   "pygments_lexer": "ipython3",
   "version": "3.8.16"
  }
 },
 "nbformat": 4,
 "nbformat_minor": 2
}
