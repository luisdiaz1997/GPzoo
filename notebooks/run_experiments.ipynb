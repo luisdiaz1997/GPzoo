{
 "cells": [
  {
   "cell_type": "code",
   "execution_count": 1,
   "id": "583774ac",
   "metadata": {},
   "outputs": [
    {
     "name": "stderr",
     "output_type": "stream",
     "text": [
      "/engelhardt/home/pshrestha/vnngp/GPzoo/gpzoo/utilities.py:2: TqdmExperimentalWarning: Using `tqdm.autonotebook.tqdm` in notebook mode. Use `tqdm.tqdm` instead to force console mode (e.g. in jupyter console)\n",
      "  from tqdm.autonotebook import tqdm\n",
      "/engelhardt/home/pshrestha/anaconda3/envs/vnngp2/lib/python3.9/site-packages/dask/dataframe/_pyarrow_compat.py:15: FutureWarning: Minimal version of pyarrow will soon be increased to 14.0.1. You are using 13.0.0. Please consider upgrading.\n",
      "  warnings.warn(\n"
     ]
    }
   ],
   "source": [
    "import torch\n",
    "import matplotlib.pyplot as plt\n",
    "from torch import optim, distributions, nn\n",
    "import torch.nn.utils as nn_utils\n",
    "from tqdm import tqdm\n",
    "from gpzoo.gp import SVGP, VNNGP\n",
    "from gpzoo.kernels import NSF_RBF, RBF\n",
    "from gpzoo.likelihoods import NSF2\n",
    "from gpzoo.utilities import rescale_spatial_coords, dims_autocorr, regularized_nmf, add_jitter, scanpy_sizefactors #init_softplus\n",
    "import gpzoo.pri_experiment_utilities as exp\n",
    "import squidpy as sq\n",
    "import numpy as np\n",
    "import time\n",
    "import random\n",
    "import scanpy as sc\n",
    "import anndata as ad\n",
    "from anndata import AnnData\n",
    "from squidpy.gr import spatial_neighbors, spatial_autocorr\n",
    "from sklearn.cluster import KMeans\n",
    "from os import path"
   ]
  },
  {
   "cell_type": "code",
   "execution_count": 2,
   "id": "5438bfea-1409-48f0-b877-beb80ed65609",
   "metadata": {},
   "outputs": [],
   "source": [
    "random.seed(256)\n",
    "root_path = '/engelhardt/home/pshrestha/vnngp/'"
   ]
  },
  {
   "cell_type": "code",
   "execution_count": 3,
   "id": "e5e29cd4-6100-4b6c-90e2-8eb1319d551d",
   "metadata": {},
   "outputs": [
    {
     "data": {
      "text/plain": [
       "device(type='cuda', index=0)"
      ]
     },
     "execution_count": 3,
     "metadata": {},
     "output_type": "execute_result"
    }
   ],
   "source": [
    "device = torch.device('cuda:0' if torch.cuda.is_available() else 'cpu')\n",
    "device"
   ]
  },
  {
   "cell_type": "code",
   "execution_count": 4,
   "id": "d8b1cbb1",
   "metadata": {},
   "outputs": [],
   "source": [
    "L = [5]\n",
    "#L = [15]\n",
    "#N = [3000]\n",
    "M = [100]\n",
    "K = [1]\n",
    "lkzz_builds = [3]"
   ]
  },
  {
   "cell_type": "code",
   "execution_count": 5,
   "id": "1f1f693d",
   "metadata": {},
   "outputs": [
    {
     "name": "stdout",
     "output_type": "stream",
     "text": [
      "/engelhardt/home/pshrestha/vnngp/results/visium/nnnsf/VNNGP_K=1_lkzz=3_M=100_L=5_lr=0.001_jtr=0.01_iter=6000_bs=128_NMFinit_state_dict.pth does not exist. Running the code...\n"
     ]
    },
    {
     "name": "stderr",
     "output_type": "stream",
     "text": [
      "  0%|                                                               | 0/6000 [00:00<?, ?it/s]\n"
     ]
    },
    {
     "name": "stdout",
     "output_type": "stream",
     "text": [
      "lkzz == 3\n"
     ]
    },
    {
     "ename": "RuntimeError",
     "evalue": "expand(torch.cuda.FloatTensor{[128, 128, 1, 100]}, size=[128, 1, 1]): the number of sizes provided (3) must be greater or equal to the number of dimensions in the tensor (4)",
     "output_type": "error",
     "traceback": [
      "\u001b[0;31m---------------------------------------------------------------------------\u001b[0m",
      "\u001b[0;31mRuntimeError\u001b[0m                              Traceback (most recent call last)",
      "Cell \u001b[0;32mIn[5], line 24\u001b[0m\n\u001b[1;32m     11\u001b[0m     dicts \u001b[38;5;241m=\u001b[39m {\n\u001b[1;32m     12\u001b[0m             \u001b[38;5;124m'\u001b[39m\u001b[38;5;124mL\u001b[39m\u001b[38;5;124m'\u001b[39m: l, \n\u001b[1;32m     13\u001b[0m             \u001b[38;5;124m'\u001b[39m\u001b[38;5;124mM\u001b[39m\u001b[38;5;124m'\u001b[39m: m, \n\u001b[0;32m   (...)\u001b[0m\n\u001b[1;32m     21\u001b[0m             \u001b[38;5;124m'\u001b[39m\u001b[38;5;124mlkzz_build\u001b[39m\u001b[38;5;124m'\u001b[39m: lk,\n\u001b[1;32m     22\u001b[0m     }\n\u001b[1;32m     23\u001b[0m     nmf_path \u001b[38;5;241m=\u001b[39m path\u001b[38;5;241m.\u001b[39mjoin(root_path, \u001b[38;5;124mf\u001b[39m\u001b[38;5;124m\"\u001b[39m\u001b[38;5;124mresults/visium/nmf/nmf_factors_iter=1000_rs=256_L=\u001b[39m\u001b[38;5;132;01m{\u001b[39;00mdicts[\u001b[38;5;124m'\u001b[39m\u001b[38;5;124mL\u001b[39m\u001b[38;5;124m'\u001b[39m]\u001b[38;5;132;01m}\u001b[39;00m\u001b[38;5;124m.pt\u001b[39m\u001b[38;5;124m\"\u001b[39m)\n\u001b[0;32m---> 24\u001b[0m     \u001b[43mexp\u001b[49m\u001b[38;5;241;43m.\u001b[39;49m\u001b[43mrun_experiment\u001b[49m\u001b[43m(\u001b[49m\u001b[43mexp\u001b[49m\u001b[38;5;241;43m.\u001b[39;49m\u001b[43mload_visium\u001b[49m\u001b[43m,\u001b[49m\u001b[43m \u001b[49m\u001b[43msave_path\u001b[49m\u001b[38;5;241;43m=\u001b[39;49m\u001b[43msave_path\u001b[49m\u001b[43m,\u001b[49m\u001b[43m \u001b[49m\u001b[43msteps\u001b[49m\u001b[38;5;241;43m=\u001b[39;49m\u001b[38;5;241;43m6000\u001b[39;49m\u001b[43m,\u001b[49m\u001b[43m \u001b[49m\u001b[43mbatched\u001b[49m\u001b[38;5;241;43m=\u001b[39;49m\u001b[38;5;28;43;01mTrue\u001b[39;49;00m\u001b[43m,\u001b[49m\n\u001b[1;32m     25\u001b[0m \u001b[43m                     \u001b[49m\u001b[43mmodel_type\u001b[49m\u001b[38;5;241;43m=\u001b[39;49m\u001b[38;5;124;43m'\u001b[39;49m\u001b[38;5;124;43mVNNGP\u001b[39;49m\u001b[38;5;124;43m'\u001b[39;49m\u001b[43m,\u001b[49m\u001b[43m \u001b[49m\u001b[43mNMF\u001b[49m\u001b[38;5;241;43m=\u001b[39;49m\u001b[38;5;28;43;01mTrue\u001b[39;49;00m\u001b[43m,\u001b[49m\u001b[43m \u001b[49m\u001b[43mnmf_path\u001b[49m\u001b[38;5;241;43m=\u001b[39;49m\u001b[43mnmf_path\u001b[49m\u001b[43m,\u001b[49m\u001b[43m \u001b[49m\u001b[43mkwargs\u001b[49m\u001b[38;5;241;43m=\u001b[39;49m\u001b[43mdicts\u001b[49m\u001b[43m)\u001b[49m\n\u001b[1;32m     26\u001b[0m \u001b[38;5;28;01melse\u001b[39;00m:\n\u001b[1;32m     27\u001b[0m     \u001b[38;5;28mprint\u001b[39m(\u001b[38;5;124mf\u001b[39m\u001b[38;5;124m\"\u001b[39m\u001b[38;5;132;01m{\u001b[39;00mfile_path\u001b[38;5;132;01m}\u001b[39;00m\u001b[38;5;124m exists. Skipping the code.\u001b[39m\u001b[38;5;124m\"\u001b[39m)\n",
      "File \u001b[0;32m~/vnngp/GPzoo/gpzoo/pri_experiment_utilities.py:435\u001b[0m, in \u001b[0;36mrun_experiment\u001b[0;34m(data_func, save_path, steps, batched, model_type, NMF, nmf_path, **kwargs)\u001b[0m\n\u001b[1;32m    432\u001b[0m \u001b[38;5;66;03m#Y_train = Y.to(device)\u001b[39;00m\n\u001b[1;32m    434\u001b[0m start_time \u001b[38;5;241m=\u001b[39m time\u001b[38;5;241m.\u001b[39mtime()\n\u001b[0;32m--> 435\u001b[0m losses, means, scales, idxs \u001b[38;5;241m=\u001b[39m \u001b[43mtrain_new_KL_batched\u001b[49m\u001b[43m(\u001b[49m\u001b[43mmodel\u001b[49m\u001b[43m,\u001b[49m\u001b[43m \u001b[49m\u001b[43moptimizer\u001b[49m\u001b[43m,\u001b[49m\u001b[43m \u001b[49m\u001b[43mX_train\u001b[49m\u001b[43m,\u001b[49m\u001b[43m \u001b[49m\u001b[43mY\u001b[49m\u001b[43m,\u001b[49m\u001b[43m \u001b[49m\u001b[43mdevice\u001b[49m\u001b[43m,\u001b[49m\n\u001b[1;32m    436\u001b[0m \u001b[43m                                            \u001b[49m\u001b[43msteps\u001b[49m\u001b[38;5;241;43m=\u001b[39;49m\u001b[43msteps\u001b[49m\u001b[43m,\u001b[49m\u001b[43m \u001b[49m\u001b[43mE\u001b[49m\u001b[38;5;241;43m=\u001b[39;49m\u001b[38;5;241;43m3\u001b[39;49m\u001b[43m,\u001b[49m\u001b[43m \u001b[49m\u001b[43mbatch_size\u001b[49m\u001b[38;5;241;43m=\u001b[39;49m\u001b[43mkwargs\u001b[49m\u001b[43m[\u001b[49m\u001b[38;5;124;43m'\u001b[39;49m\u001b[38;5;124;43mbatch_size\u001b[39;49m\u001b[38;5;124;43m'\u001b[39;49m\u001b[43m]\u001b[49m\u001b[43m,\u001b[49m\u001b[43m \u001b[49m\u001b[43mkwargs\u001b[49m\u001b[38;5;241;43m=\u001b[39;49m\u001b[43mkwargs\u001b[49m\u001b[43m)\u001b[49m\n\u001b[1;32m    437\u001b[0m end_time \u001b[38;5;241m=\u001b[39m time\u001b[38;5;241m.\u001b[39mtime()\n\u001b[1;32m    439\u001b[0m final_time \u001b[38;5;241m=\u001b[39m end_time \u001b[38;5;241m-\u001b[39m start_time\n",
      "File \u001b[0;32m~/vnngp/GPzoo/gpzoo/pri_experiment_utilities.py:326\u001b[0m, in \u001b[0;36mtrain_new_KL_batched\u001b[0;34m(model, optimizer, X, y, device, steps, E, verbose, batch_size, **kwargs)\u001b[0m\n\u001b[1;32m    324\u001b[0m idx \u001b[38;5;241m=\u001b[39m torch\u001b[38;5;241m.\u001b[39mmultinomial(torch\u001b[38;5;241m.\u001b[39mones(X\u001b[38;5;241m.\u001b[39mshape[\u001b[38;5;241m0\u001b[39m]), num_samples\u001b[38;5;241m=\u001b[39mbatch_size, replacement\u001b[38;5;241m=\u001b[39m\u001b[38;5;28;01mFalse\u001b[39;00m)\n\u001b[1;32m    325\u001b[0m optimizer\u001b[38;5;241m.\u001b[39mzero_grad()\n\u001b[0;32m--> 326\u001b[0m pY, qF, qU, pU \u001b[38;5;241m=\u001b[39m \u001b[43mmodel\u001b[49m\u001b[38;5;241;43m.\u001b[39;49m\u001b[43mforward_batched\u001b[49m\u001b[43m(\u001b[49m\u001b[43mX\u001b[49m\u001b[38;5;241;43m=\u001b[39;49m\u001b[43mX\u001b[49m\u001b[43m,\u001b[49m\u001b[43m \u001b[49m\u001b[43midx\u001b[49m\u001b[38;5;241;43m=\u001b[39;49m\u001b[43midx\u001b[49m\u001b[43m,\u001b[49m\u001b[43m \u001b[49m\u001b[43mE\u001b[49m\u001b[38;5;241;43m=\u001b[39;49m\u001b[43mE\u001b[49m\u001b[43m,\u001b[49m\u001b[43m \u001b[49m\u001b[43mverbose\u001b[49m\u001b[38;5;241;43m=\u001b[39;49m\u001b[43mverbose\u001b[49m\u001b[43m,\u001b[49m\u001b[43m \u001b[49m\u001b[43mkwargs\u001b[49m\u001b[38;5;241;43m=\u001b[39;49m\u001b[43mkwargs\u001b[49m\u001b[43m)\u001b[49m\n\u001b[1;32m    328\u001b[0m logpY \u001b[38;5;241m=\u001b[39m y[:, idx]\u001b[38;5;241m*\u001b[39mtorch\u001b[38;5;241m.\u001b[39mlog((pY\u001b[38;5;241m.\u001b[39mrate)\u001b[38;5;241m.\u001b[39mcpu()) \u001b[38;5;241m-\u001b[39m (pY\u001b[38;5;241m.\u001b[39mrate)\u001b[38;5;241m.\u001b[39mcpu()\n\u001b[1;32m    331\u001b[0m ELBO \u001b[38;5;241m=\u001b[39m ((logpY)\u001b[38;5;241m.\u001b[39mmean(axis\u001b[38;5;241m=\u001b[39m\u001b[38;5;241m0\u001b[39m)\u001b[38;5;241m.\u001b[39msum())\u001b[38;5;241m.\u001b[39mto(device)\n",
      "File \u001b[0;32m~/vnngp/GPzoo/gpzoo/likelihoods.py:75\u001b[0m, in \u001b[0;36mNSF2.forward_batched\u001b[0;34m(self, X, idx, E, verbose, **kwargs)\u001b[0m\n\u001b[1;32m     74\u001b[0m \u001b[38;5;28;01mdef\u001b[39;00m \u001b[38;5;21mforward_batched\u001b[39m(\u001b[38;5;28mself\u001b[39m, X, idx, E\u001b[38;5;241m=\u001b[39m\u001b[38;5;241m10\u001b[39m, verbose\u001b[38;5;241m=\u001b[39m\u001b[38;5;28;01mFalse\u001b[39;00m, \u001b[38;5;241m*\u001b[39m\u001b[38;5;241m*\u001b[39mkwargs):\n\u001b[0;32m---> 75\u001b[0m   qF, qU, pU \u001b[38;5;241m=\u001b[39m \u001b[38;5;28;43mself\u001b[39;49m\u001b[38;5;241;43m.\u001b[39;49m\u001b[43mprior\u001b[49m\u001b[43m(\u001b[49m\u001b[43mX\u001b[49m\u001b[38;5;241;43m=\u001b[39;49m\u001b[43mX\u001b[49m\u001b[43m[\u001b[49m\u001b[43midx\u001b[49m\u001b[43m]\u001b[49m\u001b[43m,\u001b[49m\u001b[43m \u001b[49m\u001b[43mverbose\u001b[49m\u001b[38;5;241;43m=\u001b[39;49m\u001b[43mverbose\u001b[49m\u001b[43m,\u001b[49m\u001b[43m \u001b[49m\u001b[38;5;241;43m*\u001b[39;49m\u001b[38;5;241;43m*\u001b[39;49m\u001b[43mkwargs\u001b[49m\u001b[43m)\u001b[49m\n\u001b[1;32m     76\u001b[0m   F \u001b[38;5;241m=\u001b[39m qF\u001b[38;5;241m.\u001b[39mrsample((E,))\n\u001b[1;32m     77\u001b[0m   Z \u001b[38;5;241m=\u001b[39m \u001b[38;5;28mself\u001b[39m\u001b[38;5;241m.\u001b[39mget_rate(F)\n",
      "File \u001b[0;32m~/anaconda3/envs/vnngp2/lib/python3.9/site-packages/torch/nn/modules/module.py:1532\u001b[0m, in \u001b[0;36mModule._wrapped_call_impl\u001b[0;34m(self, *args, **kwargs)\u001b[0m\n\u001b[1;32m   1530\u001b[0m     \u001b[38;5;28;01mreturn\u001b[39;00m \u001b[38;5;28mself\u001b[39m\u001b[38;5;241m.\u001b[39m_compiled_call_impl(\u001b[38;5;241m*\u001b[39margs, \u001b[38;5;241m*\u001b[39m\u001b[38;5;241m*\u001b[39mkwargs)  \u001b[38;5;66;03m# type: ignore[misc]\u001b[39;00m\n\u001b[1;32m   1531\u001b[0m \u001b[38;5;28;01melse\u001b[39;00m:\n\u001b[0;32m-> 1532\u001b[0m     \u001b[38;5;28;01mreturn\u001b[39;00m \u001b[38;5;28;43mself\u001b[39;49m\u001b[38;5;241;43m.\u001b[39;49m\u001b[43m_call_impl\u001b[49m\u001b[43m(\u001b[49m\u001b[38;5;241;43m*\u001b[39;49m\u001b[43margs\u001b[49m\u001b[43m,\u001b[49m\u001b[43m \u001b[49m\u001b[38;5;241;43m*\u001b[39;49m\u001b[38;5;241;43m*\u001b[39;49m\u001b[43mkwargs\u001b[49m\u001b[43m)\u001b[49m\n",
      "File \u001b[0;32m~/anaconda3/envs/vnngp2/lib/python3.9/site-packages/torch/nn/modules/module.py:1541\u001b[0m, in \u001b[0;36mModule._call_impl\u001b[0;34m(self, *args, **kwargs)\u001b[0m\n\u001b[1;32m   1536\u001b[0m \u001b[38;5;66;03m# If we don't have any hooks, we want to skip the rest of the logic in\u001b[39;00m\n\u001b[1;32m   1537\u001b[0m \u001b[38;5;66;03m# this function, and just call forward.\u001b[39;00m\n\u001b[1;32m   1538\u001b[0m \u001b[38;5;28;01mif\u001b[39;00m \u001b[38;5;129;01mnot\u001b[39;00m (\u001b[38;5;28mself\u001b[39m\u001b[38;5;241m.\u001b[39m_backward_hooks \u001b[38;5;129;01mor\u001b[39;00m \u001b[38;5;28mself\u001b[39m\u001b[38;5;241m.\u001b[39m_backward_pre_hooks \u001b[38;5;129;01mor\u001b[39;00m \u001b[38;5;28mself\u001b[39m\u001b[38;5;241m.\u001b[39m_forward_hooks \u001b[38;5;129;01mor\u001b[39;00m \u001b[38;5;28mself\u001b[39m\u001b[38;5;241m.\u001b[39m_forward_pre_hooks\n\u001b[1;32m   1539\u001b[0m         \u001b[38;5;129;01mor\u001b[39;00m _global_backward_pre_hooks \u001b[38;5;129;01mor\u001b[39;00m _global_backward_hooks\n\u001b[1;32m   1540\u001b[0m         \u001b[38;5;129;01mor\u001b[39;00m _global_forward_hooks \u001b[38;5;129;01mor\u001b[39;00m _global_forward_pre_hooks):\n\u001b[0;32m-> 1541\u001b[0m     \u001b[38;5;28;01mreturn\u001b[39;00m \u001b[43mforward_call\u001b[49m\u001b[43m(\u001b[49m\u001b[38;5;241;43m*\u001b[39;49m\u001b[43margs\u001b[49m\u001b[43m,\u001b[49m\u001b[43m \u001b[49m\u001b[38;5;241;43m*\u001b[39;49m\u001b[38;5;241;43m*\u001b[39;49m\u001b[43mkwargs\u001b[49m\u001b[43m)\u001b[49m\n\u001b[1;32m   1543\u001b[0m \u001b[38;5;28;01mtry\u001b[39;00m:\n\u001b[1;32m   1544\u001b[0m     result \u001b[38;5;241m=\u001b[39m \u001b[38;5;28;01mNone\u001b[39;00m\n",
      "File \u001b[0;32m~/vnngp/GPzoo/gpzoo/gp.py:138\u001b[0m, in \u001b[0;36mVNNGP.forward\u001b[0;34m(self, X, verbose, **kwargs)\u001b[0m\n\u001b[1;32m    136\u001b[0m     idx \u001b[38;5;241m=\u001b[39m indexes[indices]\n\u001b[1;32m    137\u001b[0m     llkzz \u001b[38;5;241m=\u001b[39m Kzz[l, idx][:, idx]\n\u001b[0;32m--> 138\u001b[0m     lkzz[l, :, :, :] \u001b[38;5;241m=\u001b[39m llkzz\n\u001b[1;32m    140\u001b[0m \u001b[38;5;250m\u001b[39m\u001b[38;5;124;03m'''\u001b[39;00m\n\u001b[1;32m    141\u001b[0m \u001b[38;5;124;03m    for l in range(Kzz.shape[0]):\u001b[39;00m\n\u001b[1;32m    142\u001b[0m \u001b[38;5;124;03m    for n in range(N):\u001b[39;00m\n\u001b[0;32m   (...)\u001b[0m\n\u001b[1;32m    151\u001b[0m \u001b[38;5;124;03m  \u001b[39;00m\n\u001b[1;32m    152\u001b[0m \u001b[38;5;124;03m'''\u001b[39;00m\n\u001b[1;32m    153\u001b[0m little_Kzz \u001b[38;5;241m=\u001b[39m torch\u001b[38;5;241m.\u001b[39mtensor(lkzz, device\u001b[38;5;241m=\u001b[39mKzz\u001b[38;5;241m.\u001b[39mdevice)\u001b[38;5;241m.\u001b[39mfloat()\n",
      "\u001b[0;31mRuntimeError\u001b[0m: expand(torch.cuda.FloatTensor{[128, 128, 1, 100]}, size=[128, 1, 1]): the number of sizes provided (3) must be greater or equal to the number of dimensions in the tensor (4)"
     ]
    }
   ],
   "source": [
    "save_path = path.join(root_path, \"results/visium/nnnsf\")\n",
    "\n",
    "#outputs_dict = defaultdict(list)\n",
    "for l in L:\n",
    "    for m in M:\n",
    "        for k in K:\n",
    "            for lk in lkzz_builds:\n",
    "                file_path = path.join(save_path, f\"VNNGP_K={k}_lkzz={lk}_M={m}_L={l}_lr=0.001_jtr=0.01_iter=6000_bs=128_NMFinit_state_dict.pth\")\n",
    "                if not path.isfile(file_path):\n",
    "                    print(f\"{file_path} does not exist. Running the code...\")\n",
    "                    dicts = {\n",
    "                            'L': l, \n",
    "                            'M': m, \n",
    "                            'K': k,\n",
    "                            'sigma': 0.1, \n",
    "                            'lengthscale': 0.07, \n",
    "                            'jtr': 1e-2,\n",
    "                            'batch_size': 128,\n",
    "                            'lr': 1e-3,\n",
    "                            'rs': 256,\n",
    "                            'lkzz_build': lk,\n",
    "                    }\n",
    "                    nmf_path = path.join(root_path, f\"results/visium/nmf/nmf_factors_iter=1000_rs=256_L={dicts['L']}.pt\")\n",
    "                    exp.run_experiment(exp.load_visium, save_path=save_path, steps=6000, batched=True,\n",
    "                                     model_type='VNNGP', NMF=True, nmf_path=nmf_path, kwargs=dicts)\n",
    "                else:\n",
    "                    print(f\"{file_path} exists. Skipping the code.\")\n",
    "\n",
    "#def run_experiment(data_func, save_path, steps=1000, batched=False, model_type=None, NMF=False, nmf_path=None, **kwargs):\n",
    "#nmf_path = f\"./results/nmf/nmf_factors_iter=1000_rs=256_L={dicts['L']}.pt\"\n",
    "#nmf_path = f\"./visium_final/nmf/nmf_factors_iter=500_rs=256_L={dicts['L']}.pt\""
   ]
  },
  {
   "cell_type": "code",
   "execution_count": null,
   "id": "c8cc4326",
   "metadata": {},
   "outputs": [],
   "source": []
  },
  {
   "cell_type": "code",
   "execution_count": null,
   "id": "40b122f7-61b8-4cde-af16-01dcd4e54f8d",
   "metadata": {},
   "outputs": [],
   "source": []
  },
  {
   "cell_type": "code",
   "execution_count": null,
   "id": "8d7b0710-283d-4d6f-b885-bd53d8a46913",
   "metadata": {},
   "outputs": [],
   "source": []
  },
  {
   "cell_type": "code",
   "execution_count": null,
   "id": "b80f4c5f-5099-4e0c-ae5a-a1bd99d40e56",
   "metadata": {},
   "outputs": [],
   "source": []
  }
 ],
 "metadata": {
  "kernelspec": {
   "display_name": "vnngp2",
   "language": "python",
   "name": "vnngp2"
  },
  "language_info": {
   "codemirror_mode": {
    "name": "ipython",
    "version": 3
   },
   "file_extension": ".py",
   "mimetype": "text/x-python",
   "name": "python",
   "nbconvert_exporter": "python",
   "pygments_lexer": "ipython3",
   "version": "3.9.19"
  }
 },
 "nbformat": 4,
 "nbformat_minor": 5
}
