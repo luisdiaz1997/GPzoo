{
 "cells": [
  {
   "cell_type": "code",
   "execution_count": 955,
   "id": "edbc5c48-4571-4bb6-bba5-a4872ba24ada",
   "metadata": {},
   "outputs": [],
   "source": [
    "import torch\n",
    "from torch import optim, distributions, nn\n",
    "import numpy as np\n",
    "from torch import distributions\n",
    "from torch.distributions import constraints, transform_to\n",
    "import torch.nn as nn\n",
    "from gpzoo.utilities import add_jitter, svgp_forward, reshape_param\n",
    "import gpzoo.pri_experiment_utilities as putil\n",
    "from gpzoo.likelihoods import NSF2\n",
    "from gpzoo.kernels import NSF_RBF, RBF\n",
    "from gpzoo.utilities import rescale_spatial_coords, dims_autocorr, regularized_nmf, anndata_to_train_val, add_jitter, scanpy_sizefactors \n",
    "from tqdm import tqdm\n",
    "\n",
    "import numpy as np\n",
    "import seaborn as sns\n",
    "import matplotlib.pyplot as plt"
   ]
  },
  {
   "cell_type": "code",
   "execution_count": 956,
   "id": "09ffc927-5db5-4498-8824-f207213a1334",
   "metadata": {},
   "outputs": [],
   "source": [
    "def heatmap(X,y,figsize=(6,4),bgcol=\"gray\",cmap=\"turbo\",**kwargs):\n",
    "  fig,ax=plt.subplots(figsize=figsize)\n",
    "  ax.set_facecolor(bgcol)\n",
    "  ax.scatter(X[:,0],X[:,1],c=y,cmap=cmap,**kwargs)\n",
    "  # fig.show()"
   ]
  },
  {
   "cell_type": "code",
   "execution_count": 957,
   "id": "41c14a03-568e-498e-a234-945c38b7e066",
   "metadata": {},
   "outputs": [
    {
     "name": "stdout",
     "output_type": "stream",
     "text": [
      "CUDA available:  False\n",
      "Number of GPUs:  0\n"
     ]
    }
   ],
   "source": [
    "print(\"CUDA available: \", torch.cuda.is_available())\n",
    "print(\"Number of GPUs: \", torch.cuda.device_count())\n",
    "#print(\"Current GPU: \", torch.cuda.current_device())\n",
    "#print(\"GPU Name: \", torch.cuda.get_device_name(torch.cuda.current_device()))"
   ]
  },
  {
   "cell_type": "code",
   "execution_count": 958,
   "id": "d61e882c-103e-4f23-a58e-a54e17114e9d",
   "metadata": {},
   "outputs": [
    {
     "data": {
      "text/plain": [
       "device(type='cpu')"
      ]
     },
     "execution_count": 958,
     "metadata": {},
     "output_type": "execute_result"
    }
   ],
   "source": [
    "torch.manual_seed(256)\n",
    "device = torch.device('cuda:0' if torch.cuda.is_available() else 'cpu')\n",
    "device"
   ]
  },
  {
   "cell_type": "code",
   "execution_count": 959,
   "id": "d95c0144-0bdb-4426-9cc7-b1a2824c368c",
   "metadata": {},
   "outputs": [],
   "source": [
    "import torch\n",
    "import torch.nn as nn\n",
    "import numpy as np\n",
    "from torch.distributions import constraints, transform_to\n",
    "\n",
    "def add_jitter(K, jitter):\n",
    "    return K + jitter * torch.eye(K.shape[-1], device=K.device)\n",
    "\n",
    "class VNNGP(nn.Module):\n",
    "    def __init__(self, kernel, dim=1, M=50, K=3, jitter=1e-4):\n",
    "        super().__init__()\n",
    "        self.kernel = kernel\n",
    "        self.jitter = jitter\n",
    "\n",
    "        self.K = K\n",
    "        self.Z = nn.Parameter(torch.randn((M, dim)))  # choose inducing points\n",
    "        self.Lu = nn.Parameter(torch.randn((M, M)))\n",
    "        self.mu = nn.Parameter(torch.zeros((M,)))\n",
    "        self.constraint = constraints.lower_cholesky\n",
    "        self.indexes = []\n",
    "\n",
    "        print(\"K: \", self.K)\n",
    "        print(\"Z Shape: \", self.Z.shape)\n",
    "        print(\"Lu Shape: \", self.Lu.shape)\n",
    "        print(\"Mu: Shape \", self.mu.shape)\n",
    "\n",
    "    def forward(self, X, verbose=False, **kwargs):\n",
    "        lkzz_build = kwargs['kwargs']['lkzz_build']\n",
    "        Kxx = self.kernel(X, X, diag=True)\n",
    "        Kxx_non_diag = self.kernel(X, X, diag=False)\n",
    "        Kxx_shape = Kxx.shape\n",
    "        Kxx = Kxx.contiguous().view(-1, 1)  # (... x N) x 1\n",
    "\n",
    "        if verbose:\n",
    "            print(\"Kxx shape before contiguous().view(-1, 1) with diag = False: \", Kxx_non_diag.shape)\n",
    "            print(\"Kxx shape before contiguous().view(-1, 1): \", Kxx_shape)\n",
    "            print('calculating Kxx')\n",
    "            print('Kxx.shape', Kxx.shape)\n",
    "\n",
    "        Kxz, distances = self.kernel(X, self.Z, return_distance=True)\n",
    "\n",
    "        Kxz_shape = Kxz.shape\n",
    "        Kxz = Kxz.contiguous().view(-1, Kxz_shape[-1])  # (... x N) x M\n",
    "\n",
    "        if verbose:\n",
    "            print(\"Kxz shape before contiguous().view(-1, 1): \", Kxz_shape)\n",
    "            print(\"distances shape:: \", distances.shape)\n",
    "            print('calculating Kxz')\n",
    "            print('Kxz.shape', Kxz.shape)\n",
    "\n",
    "        Kzz = self.kernel(self.Z, self.Z)\n",
    "\n",
    "        Kzz_shape = Kzz.shape\n",
    "        Kzz = Kzz.contiguous().view(-1, Kzz_shape[-2], Kzz_shape[-1])  # ... x M x M\n",
    "\n",
    "        if verbose:\n",
    "            print(\"Kzz shape before contiguous().view(..): \", Kzz_shape)\n",
    "            print('calculating kzz')\n",
    "            print('Kzz.shape', Kzz.shape)\n",
    "\n",
    "        Lu = transform_to(self.constraint)(self.Lu)\n",
    "        Lu_shape = Lu.shape\n",
    "        Lu = Lu.contiguous().view(-1, Lu_shape[-2], Lu_shape[-1])  # ... x M x M\n",
    "        indexes = torch.argsort(distances, dim=1)[:, :self.K]\n",
    "        self.indexes = indexes\n",
    "\n",
    "        if verbose:\n",
    "            print(\"indexes.shape: \", indexes.shape)\n",
    "\n",
    "        little_Kzz = None  \n",
    "       \n",
    "        if lkzz_build == 0:  # cholesky decomposition\n",
    "            L = torch.linalg.cholesky(add_jitter(Kzz, self.jitter))  # ... x M x M\n",
    "            L_shape = L.shape\n",
    "            L = L.contiguous().view(-1, L_shape[-2], L_shape[-1])  # ... x M x M\n",
    "\n",
    "            if verbose:\n",
    "                print(\"indexes.shape: \", indexes.shape)\n",
    "                print(indexes)\n",
    "                print('calculating L')\n",
    "                print('L.shape', L.shape)\n",
    "\n",
    "            indexes = torch.argsort(distances, dim=1)[:, :self.K]\n",
    "            little_L = L[:, indexes]  # ... x N x K x M\n",
    "\n",
    "            if verbose:\n",
    "                print('Little_L.shape:', little_L.shape)\n",
    "\n",
    "            little_Kzz = little_L @ torch.transpose(little_L, -2, -1)  # ... x N x K x K\n",
    "            little_Kzz_shape = little_Kzz.shape\n",
    "            little_Kzz = little_Kzz.contiguous().view(-1, little_Kzz_shape[-2], little_Kzz_shape[-1])  # ( ... x N) x K x K\n",
    "\n",
    "        elif lkzz_build == 1:  # indexing with np.arange into Kzz\n",
    "            jitter = 1e-6\n",
    "            Kzz_jittered = Kzz + jitter * torch.eye(Kzz.shape[-1], device=Kzz.device)\n",
    "\n",
    "            batch_size = Kzz_jittered.shape[:-2]\n",
    "            N = indexes.shape[-2]\n",
    "            K = indexes.shape[-1]\n",
    "\n",
    "            # gather appropriate submatrices\n",
    "            batch_indices = torch.arange(batch_size[0], device=Kzz.device).view(-1, 1, 1)\n",
    "            little_L = Kzz_jittered[batch_indices, indexes]\n",
    "\n",
    "            little_Kzz = little_L @ torch.transpose(little_L, -2, -1)\n",
    "\n",
    "            little_Kzz_shape = little_Kzz.shape\n",
    "            little_Kzz = little_Kzz.contiguous().view(-1, little_Kzz_shape[-2], little_Kzz_shape[-1])\n",
    "\n",
    "            if verbose:\n",
    "                print(\"little_Kzz_shape before contiguous(): \", little_Kzz_shape)\n",
    "                print(\"little_Kzz: \", little_Kzz.shape)\n",
    "\n",
    "        elif lkzz_build == 2:\n",
    "            # Directly construct little_Kzz\n",
    "            def construct_little_Kzz(Z, indexes):\n",
    "                def kernel_func(i):\n",
    "                    return self.kernel(Z[i], Z[i])\n",
    "                return torch.vmap(kernel_func)(indexes)\n",
    "\n",
    "            little_Kzz = construct_little_Kzz(self.Z, indexes)\n",
    "\n",
    "            if verbose:\n",
    "                print('Little_Kzz.shape:', little_Kzz.shape)\n",
    "\n",
    "            little_Kzz_shape = little_Kzz.shape\n",
    "            little_Kzz = little_Kzz.contiguous().view(-1, little_Kzz_shape[-2], little_Kzz_shape[-1])  # ( ... x N) x K x K\n",
    "\n",
    "        elif lkzz_build == 3:\n",
    "            if verbose:\n",
    "                print(\"Running new lkzz code\")\n",
    "                print(\"Directly constructing little_Kzz\")\n",
    "\n",
    "            N = X.shape[0]\n",
    "            K = self.K\n",
    "            L = Kzz.shape[0]\n",
    "            lkzz = np.zeros((L, N, K, K))  # L x N x K x K\n",
    "    \n",
    "            for l in range(Kzz.shape[0]):\n",
    "                for n in range(N):\n",
    "                    idx = indexes[n]\n",
    "                    if verbose:\n",
    "                        print(\"Kzz[l, idx][:, idx] shape: \", (Kzz[l, idx][:, idx]).shape)\n",
    "                    llkzz = Kzz[l, idx][:, idx]  # extracts Kzz[l, idx, idx]\n",
    "                    if verbose:\n",
    "                        print(\"lkzz shape: \", lkzz.shape)\n",
    "                    lkzz[l, n, :, :] = llkzz.cpu().numpy()\n",
    "\n",
    "            little_Kzz = torch.tensor(lkzz, device=Kzz.device).float()\n",
    "            little_Kzz_shape = little_Kzz.shape\n",
    "            little_Kzz = little_Kzz.contiguous().view(-1, little_Kzz_shape[-2], little_Kzz_shape[-1])  # ( ... x N) x K x K\n",
    "\n",
    "        if little_Kzz is None:\n",
    "            raise ValueError(\"little_Kzz is not set. Please check the lkzz_build logic.\")\n",
    "\n",
    "        kzz_inv = torch.inverse(add_jitter(little_Kzz, self.jitter))  # (... x N) x KxK\n",
    "\n",
    "        expanded = indexes.repeat(Kxx_shape[0], 1)\n",
    "\n",
    "        little_Kxz = torch.gather(Kxz, 1, expanded)[:, None, :]  # (... x N)x1xK\n",
    "\n",
    "        W = little_Kxz @ kzz_inv  # (... x N) x 1 x K # issue is here\n",
    "\n",
    "        if verbose:\n",
    "            print('W_shape:', W.shape)\n",
    "\n",
    "        mu_shape = self.mu.shape\n",
    "\n",
    "        mu = self.mu.contiguous().view(-1, mu_shape[-1])  # ... x M\n",
    "\n",
    "        little_mu = mu[:, indexes]  # ... x  N x K\n",
    "        little_mu = little_mu.view(-1, little_mu.shape[-1])  # (... x  N) x K\n",
    "\n",
    "        little_Lu = Lu[:, indexes]  # ... x N x K x M\n",
    "        little_S = little_Lu @ torch.transpose(little_Lu, -2, -1)  # ... x N x K x K\n",
    "        little_S = little_S.contiguous().view(-1, little_S.shape[-2], little_S.shape[-1])  # (... x N) x K x K\n",
    "\n",
    "        if verbose:\n",
    "            print(Kxx.shape, little_Kzz.shape, W.shape, little_mu.shape, little_S.shape)\n",
    "        mean, cov = svgp_forward(Kxx, little_Kzz, W, little_mu, little_S)\n",
    "\n",
    "        if verbose:\n",
    "            print('mean.shape:', mean.shape)\n",
    "            print('cov.shape:', cov.shape)\n",
    "\n",
    "        mean = torch.squeeze(mean)\n",
    "        cov = torch.squeeze(cov)\n",
    "\n",
    "        mean = mean.contiguous().view(*Kxx_shape)\n",
    "        cov = cov.contiguous().view(*Kxx_shape)\n",
    "\n",
    "        qF = distributions.Normal(mean, torch.clamp(cov, min=5e-2) ** 0.5)\n",
    "        qU = distributions.MultivariateNormal(self.mu, scale_tril=Lu)\n",
    "        # pU = distributions.MultivariateNormal(torch.zeros_like(self.mu), scale_tril=L)\n",
    "        # pU = distributions.MultivariateNormal(torch.zeros_like(self.mu), covariance_matrix=Kzz)\n",
    "        pU = cov, mean\n",
    "        return qF, qU, pU\n"
   ]
  },
  {
   "cell_type": "code",
   "execution_count": 960,
   "id": "4b85925a-4987-4728-aaf3-049fbe819867",
   "metadata": {},
   "outputs": [],
   "source": [
    "X, Y = putil.load_visium()\n",
    "X = np.array(X)\n",
    "Y = np.array(Y)"
   ]
  },
  {
   "cell_type": "code",
   "execution_count": 961,
   "id": "3be12cd1-8f2c-40a9-9f61-b57c5e68b45a",
   "metadata": {},
   "outputs": [],
   "source": [
    "# load NMF\n",
    "nmf_path = '/engelhardt/home/pshrestha/vnngp/results/visium/nmf/nmf_factors_iter=1000_rs=256_L=10.pt'\n",
    "factors, loadings = putil.preloaded_nmf_factors(nmf_path)\n",
    "moran_idx, moranI = putil.dims_autocorr(factors, X)\n",
    "factors=factors[:, moran_idx]\n",
    "loadings=loadings[:, moran_idx]\n",
    "\n"
   ]
  },
  {
   "cell_type": "code",
   "execution_count": 962,
   "id": "c17c3f50-f081-4441-bba0-3070ed125aff",
   "metadata": {},
   "outputs": [],
   "source": [
    "kwargs = {'L': 10, \n",
    "         'M': 1000, \n",
    "         'K': 5,\n",
    "         'sigma': 0.1, \n",
    "         'lengthscale': 0.07, \n",
    "         'jtr': 1e-2,\n",
    "         'batch_size': 128,\n",
    "         'lr': 1e-3,\n",
    "         'rs': 256,\n",
    "         'lkzz_build': 3}"
   ]
  },
  {
   "cell_type": "code",
   "execution_count": 963,
   "id": "c039cf14-a164-4168-8dc3-9b8c748885a6",
   "metadata": {},
   "outputs": [
    {
     "name": "stdout",
     "output_type": "stream",
     "text": [
      "K:  5\n",
      "Z Shape:  torch.Size([1000, 1])\n",
      "Lu Shape:  torch.Size([1000, 1000])\n",
      "Mu: Shape  torch.Size([1000])\n",
      "torch.Size([2688, 2])\n"
     ]
    }
   ],
   "source": [
    "V = scanpy_sizefactors(Y.T)\n",
    "\n",
    "kmeans = putil.inducing_points_cluster_centers(X, kwargs['M'], random_state=kwargs['rs'])\n",
    "Z = nn.Parameter(torch.tensor(kmeans.cluster_centers_).type(torch.float))\n",
    "kernel = NSF_RBF(L=kwargs['L'], sigma=kwargs['sigma'], lengthscale=kwargs['lengthscale'])\n",
    "    \n",
    "gp = VNNGP(kernel, M=kwargs['M'], jitter=kwargs['jtr'], K=kwargs['K'])\n",
    "\n",
    "X = torch.tensor(X).type(torch.float)\n",
    "print(X.shape)\n",
    "Y = torch.tensor(Y).type(torch.float)\n",
    "Kzx = kernel.forward(Z.to('cpu'), X.to('cpu'))\n",
    "Kxz = torch.transpose(Kzx, -2, -1)\n",
    "Kzz = kernel.forward(Z, Z)\n",
    "\n",
    "all_factors = torch.tensor(factors.T)[:, :, None].type(torch.float)\n",
    "L1 = torch.linalg.cholesky(add_jitter(Kzx @ Kxz, 1e-4))\n",
    "    \n",
    "solved1 = torch.cholesky_solve(Kzx @ all_factors, L1)\n",
    "mu = (Kzz @ solved1).to(device)\n",
    "gp.mu = nn.Parameter(torch.squeeze(mu).clone().detach()).type(torch.float)\n",
    "Lu = 1e-2 * torch.eye(kwargs['M']).expand(kwargs['L'], kwargs['M'], kwargs['M'])\n",
    "gp.Lu = nn.Parameter(Lu.clone().detach())\n",
    "    \n",
    "gp.Z = nn.Parameter(Z, requires_grad=False)\n",
    "\n",
    "model = NSF2(gp, Y, L=kwargs['L'])\n",
    "\n",
    "if loadings is not None:\n",
    "    model.W = nn.Parameter(torch.tensor(putil.init_softplus(loadings)[:, :kwargs['L']]).type(torch.float))\n",
    "model.V = nn.Parameter(torch.squeeze(torch.tensor(putil.init_softplus(V)).type(torch.float)))"
   ]
  },
  {
   "cell_type": "code",
   "execution_count": 964,
   "id": "78212dc9-b535-4eaf-a0e8-df039c8ecb75",
   "metadata": {},
   "outputs": [
    {
     "data": {
      "text/plain": [
       "[]"
      ]
     },
     "execution_count": 964,
     "metadata": {},
     "output_type": "execute_result"
    }
   ],
   "source": [
    "gp.indexes"
   ]
  },
  {
   "cell_type": "code",
   "execution_count": 965,
   "id": "de5e16b3-7f60-439b-885c-086d6ed9bdf3",
   "metadata": {},
   "outputs": [
    {
     "data": {
      "text/plain": [
       "Text(0.5, 1.0, 'Inducing Points')"
      ]
     },
     "execution_count": 965,
     "metadata": {},
     "output_type": "execute_result"
    },
    {
     "data": {
      "image/png": "[encoded data removed]",
      "text/plain": [
       "<Figure size 640x480 with 1 Axes>"
      ]
     },
     "metadata": {},
     "output_type": "display_data"
    }
   ],
   "source": [
    "plt.scatter(X[:,0], X[:,1], s=30)\n",
    "plt.scatter(Z.detach().numpy()[:,0], Z.detach().numpy()[:,1], c=\"lightgreen\", s=7)\n",
    "plt.title(\"Inducing Points\")"
   ]
  },
  {
   "cell_type": "code",
   "execution_count": 966,
   "id": "0f48346f-1b13-4781-8231-6aa1b676259d",
   "metadata": {},
   "outputs": [
    {
     "name": "stdout",
     "output_type": "stream",
     "text": [
      "torch.Size([2688, 2])\n",
      "torch.Size([11925, 2688])\n"
     ]
    }
   ],
   "source": [
    "print(X.shape)\n",
    "print(Y.shape)"
   ]
  },
  {
   "cell_type": "code",
   "execution_count": 967,
   "id": "20b732d3-549b-4d7f-ac54-7fccbf39ddec",
   "metadata": {},
   "outputs": [
    {
     "data": {
      "text/plain": [
       "NSF2(\n",
       "  (prior): VNNGP(\n",
       "    (kernel): NSF_RBF()\n",
       "  )\n",
       ")"
      ]
     },
     "execution_count": 967,
     "metadata": {},
     "output_type": "execute_result"
    }
   ],
   "source": [
    "model.to(device)\n"
   ]
  },
  {
   "cell_type": "code",
   "execution_count": 968,
   "id": "bc77baf7-98a2-4bfd-8e6a-a453e6ca43d8",
   "metadata": {},
   "outputs": [],
   "source": [
    "putil.model_grads(model)\n",
    "model.prior.jitter=kwargs['jtr']\n",
    "optimizer = optim.Adam(filter(lambda p: p.requires_grad, model.parameters()), lr=kwargs['lr'])\n",
    "steps=100"
   ]
  },
  {
   "cell_type": "code",
   "execution_count": 969,
   "id": "d625f0b5-f6b7-4ed7-8c1f-02d58179996f",
   "metadata": {},
   "outputs": [],
   "source": [
    "#X = torch.tensor(X).type(torch.float)\n",
    "#Y = torch.tensor(Y).type(torch.float)\n",
    "#X_train = X.to(device)"
   ]
  },
  {
   "cell_type": "code",
   "execution_count": 970,
   "id": "38cfde18-f5c9-45b1-8b03-30d0dc237f43",
   "metadata": {},
   "outputs": [],
   "source": [
    "def train_new_KL_batched(model, optimizer, X, y, device, steps=200, E=20, verbose=False, batch_size=1000, **kwargs):\n",
    "    kwargs = kwargs['kwargs']\n",
    "    #print(kwargs)\n",
    "    losses = []\n",
    "    means = []\n",
    "    scales = []\n",
    "    idxs = []\n",
    "\n",
    "    for it in tqdm(range(steps)):\n",
    "        idx = torch.multinomial(torch.ones(X.shape[0]), num_samples=batch_size, replacement=False)\n",
    "        optimizer.zero_grad()\n",
    "        pY, qF, qU, pU = model.forward_batched(X=X, idx=idx, E=E, verbose=verbose, kwargs=kwargs)\n",
    "        \n",
    "        logpY = y[:, idx]*torch.log((pY.rate).cpu()) - (pY.rate).cpu()\n",
    "\n",
    "\n",
    "        ELBO = ((logpY).mean(axis=0).sum()).to(device)\n",
    "        ELBO -= torch.sum(torch.vmap(putil.vnngp_kl)(qU.mean, qU.scale_tril, model.prior.Lu, model.prior.mu))\n",
    "\n",
    "        loss = -ELBO\n",
    "        loss.backward()\n",
    "        optimizer.step()\n",
    "\n",
    "        losses.append(loss.item())\n",
    "        if (it%10)==0:\n",
    "            means.append(torch.exp(qF.mean.detach().cpu()).numpy())\n",
    "            scales.append(qF.scale.detach().cpu().numpy())\n",
    "\n",
    "    with torch.no_grad():\n",
    "        if device.type=='cuda':\n",
    "            torch.cuda.empty_cache()\n",
    "\n",
    "    return losses, means, scales, idxs"
   ]
  },
  {
   "cell_type": "code",
   "execution_count": 971,
   "id": "b3f67181-d568-46ef-947f-e0037eeb0e13",
   "metadata": {},
   "outputs": [
    {
     "name": "stderr",
     "output_type": "stream",
     "text": [
      " 16%|███████                                     | 16/100 [00:04<00:24,  3.46it/s]\n"
     ]
    },
    {
     "ename": "KeyboardInterrupt",
     "evalue": "",
     "output_type": "error",
     "traceback": [
      "\u001b[0;31m---------------------------------------------------------------------------\u001b[0m",
      "\u001b[0;31mKeyboardInterrupt\u001b[0m                         Traceback (most recent call last)",
      "Cell \u001b[0;32mIn[971], line 2\u001b[0m\n\u001b[1;32m      1\u001b[0m \u001b[38;5;66;03m#start_time = time.time()\u001b[39;00m\n\u001b[0;32m----> 2\u001b[0m losses, means, scales, idxs \u001b[38;5;241m=\u001b[39m train_new_KL_batched(model, optimizer, X, Y, device,\n\u001b[1;32m      3\u001b[0m                                                 steps\u001b[38;5;241m=\u001b[39msteps, E\u001b[38;5;241m=\u001b[39m\u001b[38;5;241m3\u001b[39m, batch_size\u001b[38;5;241m=\u001b[39mkwargs[\u001b[38;5;124m'\u001b[39m\u001b[38;5;124mbatch_size\u001b[39m\u001b[38;5;124m'\u001b[39m], kwargs\u001b[38;5;241m=\u001b[39mkwargs)\n",
      "Cell \u001b[0;32mIn[970], line 9\u001b[0m, in \u001b[0;36mtrain_new_KL_batched\u001b[0;34m(model, optimizer, X, y, device, steps, E, verbose, batch_size, **kwargs)\u001b[0m\n\u001b[1;32m      6\u001b[0m scales \u001b[38;5;241m=\u001b[39m []\n\u001b[1;32m      7\u001b[0m idxs \u001b[38;5;241m=\u001b[39m []\n\u001b[0;32m----> 9\u001b[0m \u001b[38;5;28;01mfor\u001b[39;00m it \u001b[38;5;129;01min\u001b[39;00m tqdm(\u001b[38;5;28mrange\u001b[39m(steps)):\n\u001b[1;32m     10\u001b[0m     idx \u001b[38;5;241m=\u001b[39m torch\u001b[38;5;241m.\u001b[39mmultinomial(torch\u001b[38;5;241m.\u001b[39mones(X\u001b[38;5;241m.\u001b[39mshape[\u001b[38;5;241m0\u001b[39m]), num_samples\u001b[38;5;241m=\u001b[39mbatch_size, replacement\u001b[38;5;241m=\u001b[39m\u001b[38;5;28;01mFalse\u001b[39;00m)\n\u001b[1;32m     11\u001b[0m     optimizer\u001b[38;5;241m.\u001b[39mzero_grad()\n",
      "File \u001b[0;32m~/anaconda3/envs/vnngp/lib/python3.12/site-packages/tqdm/std.py:1191\u001b[0m, in \u001b[0;36mtqdm.__iter__\u001b[0;34m(self)\u001b[0m\n\u001b[1;32m   1189\u001b[0m dt \u001b[38;5;241m=\u001b[39m cur_t \u001b[38;5;241m-\u001b[39m last_print_t\n\u001b[1;32m   1190\u001b[0m \u001b[38;5;28;01mif\u001b[39;00m dt \u001b[38;5;241m>\u001b[39m\u001b[38;5;241m=\u001b[39m mininterval \u001b[38;5;129;01mand\u001b[39;00m cur_t \u001b[38;5;241m>\u001b[39m\u001b[38;5;241m=\u001b[39m min_start_t:\n\u001b[0;32m-> 1191\u001b[0m     \u001b[38;5;28mself\u001b[39m\u001b[38;5;241m.\u001b[39mupdate(n \u001b[38;5;241m-\u001b[39m last_print_n)\n\u001b[1;32m   1192\u001b[0m     last_print_n \u001b[38;5;241m=\u001b[39m \u001b[38;5;28mself\u001b[39m\u001b[38;5;241m.\u001b[39mlast_print_n\n\u001b[1;32m   1193\u001b[0m     last_print_t \u001b[38;5;241m=\u001b[39m \u001b[38;5;28mself\u001b[39m\u001b[38;5;241m.\u001b[39mlast_print_t\n",
      "File \u001b[0;32m~/anaconda3/envs/vnngp/lib/python3.12/site-packages/tqdm/std.py:1242\u001b[0m, in \u001b[0;36mtqdm.update\u001b[0;34m(self, n)\u001b[0m\n\u001b[1;32m   1240\u001b[0m     \u001b[38;5;28mself\u001b[39m\u001b[38;5;241m.\u001b[39m_ema_dn(dn)\n\u001b[1;32m   1241\u001b[0m     \u001b[38;5;28mself\u001b[39m\u001b[38;5;241m.\u001b[39m_ema_dt(dt)\n\u001b[0;32m-> 1242\u001b[0m \u001b[38;5;28mself\u001b[39m\u001b[38;5;241m.\u001b[39mrefresh(lock_args\u001b[38;5;241m=\u001b[39m\u001b[38;5;28mself\u001b[39m\u001b[38;5;241m.\u001b[39mlock_args)\n\u001b[1;32m   1243\u001b[0m \u001b[38;5;28;01mif\u001b[39;00m \u001b[38;5;28mself\u001b[39m\u001b[38;5;241m.\u001b[39mdynamic_miniters:\n\u001b[1;32m   1244\u001b[0m     \u001b[38;5;66;03m# If no `miniters` was specified, adjust automatically to the\u001b[39;00m\n\u001b[1;32m   1245\u001b[0m     \u001b[38;5;66;03m# maximum iteration rate seen so far between two prints.\u001b[39;00m\n\u001b[1;32m   1246\u001b[0m     \u001b[38;5;66;03m# e.g.: After running `tqdm.update(5)`, subsequent\u001b[39;00m\n\u001b[1;32m   1247\u001b[0m     \u001b[38;5;66;03m# calls to `tqdm.update()` will only cause an update after\u001b[39;00m\n\u001b[1;32m   1248\u001b[0m     \u001b[38;5;66;03m# at least 5 more iterations.\u001b[39;00m\n\u001b[1;32m   1249\u001b[0m     \u001b[38;5;28;01mif\u001b[39;00m \u001b[38;5;28mself\u001b[39m\u001b[38;5;241m.\u001b[39mmaxinterval \u001b[38;5;129;01mand\u001b[39;00m dt \u001b[38;5;241m>\u001b[39m\u001b[38;5;241m=\u001b[39m \u001b[38;5;28mself\u001b[39m\u001b[38;5;241m.\u001b[39mmaxinterval:\n",
      "File \u001b[0;32m~/anaconda3/envs/vnngp/lib/python3.12/site-packages/tqdm/std.py:1347\u001b[0m, in \u001b[0;36mtqdm.refresh\u001b[0;34m(self, nolock, lock_args)\u001b[0m\n\u001b[1;32m   1345\u001b[0m     \u001b[38;5;28;01melse\u001b[39;00m:\n\u001b[1;32m   1346\u001b[0m         \u001b[38;5;28mself\u001b[39m\u001b[38;5;241m.\u001b[39m_lock\u001b[38;5;241m.\u001b[39macquire()\n\u001b[0;32m-> 1347\u001b[0m \u001b[38;5;28mself\u001b[39m\u001b[38;5;241m.\u001b[39mdisplay()\n\u001b[1;32m   1348\u001b[0m \u001b[38;5;28;01mif\u001b[39;00m \u001b[38;5;129;01mnot\u001b[39;00m nolock:\n\u001b[1;32m   1349\u001b[0m     \u001b[38;5;28mself\u001b[39m\u001b[38;5;241m.\u001b[39m_lock\u001b[38;5;241m.\u001b[39mrelease()\n",
      "File \u001b[0;32m~/anaconda3/envs/vnngp/lib/python3.12/site-packages/tqdm/std.py:1495\u001b[0m, in \u001b[0;36mtqdm.display\u001b[0;34m(self, msg, pos)\u001b[0m\n\u001b[1;32m   1493\u001b[0m \u001b[38;5;28;01mif\u001b[39;00m pos:\n\u001b[1;32m   1494\u001b[0m     \u001b[38;5;28mself\u001b[39m\u001b[38;5;241m.\u001b[39mmoveto(pos)\n\u001b[0;32m-> 1495\u001b[0m \u001b[38;5;28mself\u001b[39m\u001b[38;5;241m.\u001b[39msp(\u001b[38;5;28mself\u001b[39m\u001b[38;5;241m.\u001b[39m\u001b[38;5;21m__str__\u001b[39m() \u001b[38;5;28;01mif\u001b[39;00m msg \u001b[38;5;129;01mis\u001b[39;00m \u001b[38;5;28;01mNone\u001b[39;00m \u001b[38;5;28;01melse\u001b[39;00m msg)\n\u001b[1;32m   1496\u001b[0m \u001b[38;5;28;01mif\u001b[39;00m pos:\n\u001b[1;32m   1497\u001b[0m     \u001b[38;5;28mself\u001b[39m\u001b[38;5;241m.\u001b[39mmoveto(\u001b[38;5;241m-\u001b[39mpos)\n",
      "File \u001b[0;32m~/anaconda3/envs/vnngp/lib/python3.12/site-packages/tqdm/std.py:459\u001b[0m, in \u001b[0;36mtqdm.status_printer.<locals>.print_status\u001b[0;34m(s)\u001b[0m\n\u001b[1;32m    457\u001b[0m \u001b[38;5;28;01mdef\u001b[39;00m \u001b[38;5;21mprint_status\u001b[39m(s):\n\u001b[1;32m    458\u001b[0m     len_s \u001b[38;5;241m=\u001b[39m disp_len(s)\n\u001b[0;32m--> 459\u001b[0m     fp_write(\u001b[38;5;124m'\u001b[39m\u001b[38;5;130;01m\\r\u001b[39;00m\u001b[38;5;124m'\u001b[39m \u001b[38;5;241m+\u001b[39m s \u001b[38;5;241m+\u001b[39m (\u001b[38;5;124m'\u001b[39m\u001b[38;5;124m \u001b[39m\u001b[38;5;124m'\u001b[39m \u001b[38;5;241m*\u001b[39m \u001b[38;5;28mmax\u001b[39m(last_len[\u001b[38;5;241m0\u001b[39m] \u001b[38;5;241m-\u001b[39m len_s, \u001b[38;5;241m0\u001b[39m)))\n\u001b[1;32m    460\u001b[0m     last_len[\u001b[38;5;241m0\u001b[39m] \u001b[38;5;241m=\u001b[39m len_s\n",
      "File \u001b[0;32m~/anaconda3/envs/vnngp/lib/python3.12/site-packages/tqdm/std.py:452\u001b[0m, in \u001b[0;36mtqdm.status_printer.<locals>.fp_write\u001b[0;34m(s)\u001b[0m\n\u001b[1;32m    451\u001b[0m \u001b[38;5;28;01mdef\u001b[39;00m \u001b[38;5;21mfp_write\u001b[39m(s):\n\u001b[0;32m--> 452\u001b[0m     fp\u001b[38;5;241m.\u001b[39mwrite(\u001b[38;5;28mstr\u001b[39m(s))\n\u001b[1;32m    453\u001b[0m     fp_flush()\n",
      "File \u001b[0;32m~/anaconda3/envs/vnngp/lib/python3.12/site-packages/tqdm/utils.py:196\u001b[0m, in \u001b[0;36mDisableOnWriteError.disable_on_exception.<locals>.inner\u001b[0;34m(*args, **kwargs)\u001b[0m\n\u001b[1;32m    194\u001b[0m \u001b[38;5;28;01mdef\u001b[39;00m \u001b[38;5;21minner\u001b[39m(\u001b[38;5;241m*\u001b[39margs, \u001b[38;5;241m*\u001b[39m\u001b[38;5;241m*\u001b[39mkwargs):\n\u001b[1;32m    195\u001b[0m     \u001b[38;5;28;01mtry\u001b[39;00m:\n\u001b[0;32m--> 196\u001b[0m         \u001b[38;5;28;01mreturn\u001b[39;00m func(\u001b[38;5;241m*\u001b[39margs, \u001b[38;5;241m*\u001b[39m\u001b[38;5;241m*\u001b[39mkwargs)\n\u001b[1;32m    197\u001b[0m     \u001b[38;5;28;01mexcept\u001b[39;00m \u001b[38;5;167;01mOSError\u001b[39;00m \u001b[38;5;28;01mas\u001b[39;00m e:\n\u001b[1;32m    198\u001b[0m         \u001b[38;5;28;01mif\u001b[39;00m e\u001b[38;5;241m.\u001b[39merrno \u001b[38;5;241m!=\u001b[39m \u001b[38;5;241m5\u001b[39m:\n",
      "File \u001b[0;32m~/anaconda3/envs/vnngp/lib/python3.12/site-packages/ipykernel/iostream.py:662\u001b[0m, in \u001b[0;36mOutStream.write\u001b[0;34m(self, string)\u001b[0m\n\u001b[1;32m    660\u001b[0m     \u001b[38;5;28mself\u001b[39m\u001b[38;5;241m.\u001b[39mpub_thread\u001b[38;5;241m.\u001b[39mschedule(\u001b[38;5;28mself\u001b[39m\u001b[38;5;241m.\u001b[39m_flush)\n\u001b[1;32m    661\u001b[0m \u001b[38;5;28;01melse\u001b[39;00m:\n\u001b[0;32m--> 662\u001b[0m     \u001b[38;5;28mself\u001b[39m\u001b[38;5;241m.\u001b[39m_schedule_flush()\n\u001b[1;32m    664\u001b[0m \u001b[38;5;28;01mreturn\u001b[39;00m \u001b[38;5;28mlen\u001b[39m(string)\n",
      "File \u001b[0;32m~/anaconda3/envs/vnngp/lib/python3.12/site-packages/ipykernel/iostream.py:559\u001b[0m, in \u001b[0;36mOutStream._schedule_flush\u001b[0;34m(self)\u001b[0m\n\u001b[1;32m    556\u001b[0m \u001b[38;5;28;01mdef\u001b[39;00m \u001b[38;5;21m_schedule_in_thread\u001b[39m():\n\u001b[1;32m    557\u001b[0m     \u001b[38;5;28mself\u001b[39m\u001b[38;5;241m.\u001b[39m_io_loop\u001b[38;5;241m.\u001b[39mcall_later(\u001b[38;5;28mself\u001b[39m\u001b[38;5;241m.\u001b[39mflush_interval, \u001b[38;5;28mself\u001b[39m\u001b[38;5;241m.\u001b[39m_flush)\n\u001b[0;32m--> 559\u001b[0m \u001b[38;5;28mself\u001b[39m\u001b[38;5;241m.\u001b[39mpub_thread\u001b[38;5;241m.\u001b[39mschedule(_schedule_in_thread)\n",
      "File \u001b[0;32m~/anaconda3/envs/vnngp/lib/python3.12/site-packages/ipykernel/iostream.py:266\u001b[0m, in \u001b[0;36mIOPubThread.schedule\u001b[0;34m(self, f)\u001b[0m\n\u001b[1;32m    264\u001b[0m     \u001b[38;5;28mself\u001b[39m\u001b[38;5;241m.\u001b[39m_events\u001b[38;5;241m.\u001b[39mappend(f)\n\u001b[1;32m    265\u001b[0m     \u001b[38;5;66;03m# wake event thread (message content is ignored)\u001b[39;00m\n\u001b[0;32m--> 266\u001b[0m     \u001b[38;5;28mself\u001b[39m\u001b[38;5;241m.\u001b[39m_event_pipe\u001b[38;5;241m.\u001b[39msend(\u001b[38;5;124mb\u001b[39m\u001b[38;5;124m\"\u001b[39m\u001b[38;5;124m\"\u001b[39m)\n\u001b[1;32m    267\u001b[0m \u001b[38;5;28;01melse\u001b[39;00m:\n\u001b[1;32m    268\u001b[0m     f()\n",
      "File \u001b[0;32m~/anaconda3/envs/vnngp/lib/python3.12/site-packages/zmq/sugar/socket.py:696\u001b[0m, in \u001b[0;36mSocket.send\u001b[0;34m(self, data, flags, copy, track, routing_id, group)\u001b[0m\n\u001b[1;32m    689\u001b[0m         data \u001b[38;5;241m=\u001b[39m zmq\u001b[38;5;241m.\u001b[39mFrame(\n\u001b[1;32m    690\u001b[0m             data,\n\u001b[1;32m    691\u001b[0m             track\u001b[38;5;241m=\u001b[39mtrack,\n\u001b[1;32m    692\u001b[0m             copy\u001b[38;5;241m=\u001b[39mcopy \u001b[38;5;129;01mor\u001b[39;00m \u001b[38;5;28;01mNone\u001b[39;00m,\n\u001b[1;32m    693\u001b[0m             copy_threshold\u001b[38;5;241m=\u001b[39m\u001b[38;5;28mself\u001b[39m\u001b[38;5;241m.\u001b[39mcopy_threshold,\n\u001b[1;32m    694\u001b[0m         )\n\u001b[1;32m    695\u001b[0m     data\u001b[38;5;241m.\u001b[39mgroup \u001b[38;5;241m=\u001b[39m group\n\u001b[0;32m--> 696\u001b[0m \u001b[38;5;28;01mreturn\u001b[39;00m \u001b[38;5;28msuper\u001b[39m()\u001b[38;5;241m.\u001b[39msend(data, flags\u001b[38;5;241m=\u001b[39mflags, copy\u001b[38;5;241m=\u001b[39mcopy, track\u001b[38;5;241m=\u001b[39mtrack)\n",
      "File \u001b[0;32mzmq/backend/cython/socket.pyx:742\u001b[0m, in \u001b[0;36mzmq.backend.cython.socket.Socket.send\u001b[0;34m()\u001b[0m\n",
      "File \u001b[0;32mzmq/backend/cython/socket.pyx:789\u001b[0m, in \u001b[0;36mzmq.backend.cython.socket.Socket.send\u001b[0;34m()\u001b[0m\n",
      "File \u001b[0;32mzmq/backend/cython/socket.pyx:250\u001b[0m, in \u001b[0;36mzmq.backend.cython.socket._send_copy\u001b[0;34m()\u001b[0m\n",
      "File \u001b[0;32m~/anaconda3/envs/vnngp/lib/python3.12/site-packages/zmq/backend/cython/checkrc.pxd:13\u001b[0m, in \u001b[0;36mzmq.backend.cython.checkrc._check_rc\u001b[0;34m()\u001b[0m\n",
      "\u001b[0;31mKeyboardInterrupt\u001b[0m: "
     ]
    }
   ],
   "source": [
    "#start_time = time.time()\n",
    "losses, means, scales, idxs = train_new_KL_batched(model, optimizer, X, Y, device,\n",
    "                                                steps=steps, E=3, batch_size=kwargs['batch_size'], kwargs=kwargs)\n",
    "#end_time = time.time()\n",
    "#final_time = end_time - start_time"
   ]
  },
  {
   "cell_type": "code",
   "execution_count": null,
   "id": "e101ad55-3d3c-4d1b-840b-875178da8c2c",
   "metadata": {},
   "outputs": [],
   "source": []
  },
  {
   "cell_type": "code",
   "execution_count": null,
   "id": "d3f09023-0ac0-4563-85f4-f5e961fb0b23",
   "metadata": {},
   "outputs": [],
   "source": []
  }
 ],
 "metadata": {
  "kernelspec": {
   "display_name": "Python (vnngp)",
   "language": "python",
   "name": "vnngp"
  },
  "language_info": {
   "codemirror_mode": {
    "name": "ipython",
    "version": 3
   },
   "file_extension": ".py",
   "mimetype": "text/x-python",
   "name": "python",
   "nbconvert_exporter": "python",
   "pygments_lexer": "ipython3",
   "version": "3.12.2"
  }
 },
 "nbformat": 4,
 "nbformat_minor": 5
}
