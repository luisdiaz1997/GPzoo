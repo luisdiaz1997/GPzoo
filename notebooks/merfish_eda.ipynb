{
 "cells": [
  {
   "cell_type": "code",
   "execution_count": 1,
   "id": "1cfc9a75-87bb-43d3-8684-6456426af971",
   "metadata": {},
   "outputs": [],
   "source": [
    "import rpy2.robjects as robjects\n",
    "import rpy2.robjects.packages as rpackages\n",
    "from rpy2.robjects import pandas2ri\n",
    "from anndata import AnnData\n",
    "import scanpy as sc\n",
    "from os import path"
   ]
  },
  {
   "cell_type": "code",
   "execution_count": 2,
   "id": "dac488bd-df4d-4375-82b7-7c1300065852",
   "metadata": {},
   "outputs": [
    {
     "name": "stdout",
     "output_type": "stream",
     "text": [
      "/engelhardt/home/pshrestha/vnngp/GPzoo/notebooks\n"
     ]
    }
   ],
   "source": [
    "!pwd\n",
    "root = \"/engelhardt/home/pshrestha/vnngp/\"\n",
    "dpath = path.join(root, \"data\")"
   ]
  },
  {
   "cell_type": "code",
   "execution_count": 3,
   "id": "cddb0771-78d3-4d0f-8151-a013ead4eb1e",
   "metadata": {},
   "outputs": [
    {
     "name": "stdout",
     "output_type": "stream",
     "text": [
      "\n",
      "    WARNING: The R package \"reticulate\" only fixed recently\n",
      "    an issue that caused a segfault when used with rpy2:\n",
      "    https://github.com/rstudio/reticulate/pull/1188\n",
      "    Make sure that you use a version of that package that includes\n",
      "    the fix.\n",
      "    "
     ]
    }
   ],
   "source": [
    "# Enable the conversion between R and pandas data frames\n",
    "pandas2ri.activate()\n",
    "\n",
    "# Load the Seurat and SeuratDisk packages\n",
    "seurat = rpackages.importr('Seurat')\n",
    "seurat_disk = rpackages.importr('SeuratDisk')"
   ]
  },
  {
   "cell_type": "code",
   "execution_count": 4,
   "id": "4a928a49-326e-48d4-8471-885f5002b047",
   "metadata": {},
   "outputs": [
    {
     "name": "stderr",
     "output_type": "stream",
     "text": [
      "R[write to console]: Error in H5File.open(filename, mode, file_create_pl, file_access_pl) : \n",
      "  HDF5-API Errors:\n",
      "    error #000: H5F.c in H5Fcreate(): line 660: unable to synchronously create file\n",
      "        class: HDF5\n",
      "        major: File accessibility\n",
      "        minor: Unable to create file\n",
      "\n",
      "    error #001: H5F.c in H5F__create_api_common(): line 614: unable to create file\n",
      "        class: HDF5\n",
      "        major: File accessibility\n",
      "        minor: Unable to open file\n",
      "\n",
      "    error #002: H5VLcallback.c in H5VL_file_create(): line 3605: file create failed\n",
      "        class: HDF5\n",
      "        major: Virtual Object Layer\n",
      "        minor: Unable to create file\n",
      "\n",
      "    error #003: H5VLcallback.c in H5VL__file_create(): line 3571: file create failed\n",
      "        class: HDF5\n",
      "        major: Virtual Object Layer\n",
      "        minor: Unable to create file\n",
      "\n",
      "    error #004: H5VLnative_file.c in H5VL__native_file_create(): line 94: unable to create file\n",
      "        class: HDF5\n",
      "        major: File accessibility\n",
      "        minor: Unable to open file\n",
      "\n",
      "    error #005: H5Fint.c in H5F_open(): line 1851: unable to open file: name = 'pa\n",
      "\n"
     ]
    },
    {
     "ename": "RRuntimeError",
     "evalue": "Error in H5File.open(filename, mode, file_create_pl, file_access_pl) : \n  HDF5-API Errors:\n    error #000: H5F.c in H5Fcreate(): line 660: unable to synchronously create file\n        class: HDF5\n        major: File accessibility\n        minor: Unable to create file\n\n    error #001: H5F.c in H5F__create_api_common(): line 614: unable to create file\n        class: HDF5\n        major: File accessibility\n        minor: Unable to open file\n\n    error #002: H5VLcallback.c in H5VL_file_create(): line 3605: file create failed\n        class: HDF5\n        major: Virtual Object Layer\n        minor: Unable to create file\n\n    error #003: H5VLcallback.c in H5VL__file_create(): line 3571: file create failed\n        class: HDF5\n        major: Virtual Object Layer\n        minor: Unable to create file\n\n    error #004: H5VLnative_file.c in H5VL__native_file_create(): line 94: unable to create file\n        class: HDF5\n        major: File accessibility\n        minor: Unable to open file\n\n    error #005: H5Fint.c in H5F_open(): line 1851: unable to open file: name = 'pa\n",
     "output_type": "error",
     "traceback": [
      "\u001b[0;31m---------------------------------------------------------------------------\u001b[0m",
      "\u001b[0;31mRRuntimeError\u001b[0m                             Traceback (most recent call last)",
      "Cell \u001b[0;32mIn[4], line 9\u001b[0m\n\u001b[1;32m      7\u001b[0m \u001b[38;5;66;03m# Save the Seurat object as an h5Seurat file\u001b[39;00m\n\u001b[1;32m      8\u001b[0m h5seurat_file_path \u001b[38;5;241m=\u001b[39m \u001b[38;5;124m\"\u001b[39m\u001b[38;5;124mpath/to/temp/file.h5seurat\u001b[39m\u001b[38;5;124m\"\u001b[39m\n\u001b[0;32m----> 9\u001b[0m seurat_disk\u001b[38;5;241m.\u001b[39mSaveH5Seurat(seurat_object, filename\u001b[38;5;241m=\u001b[39mh5seurat_file_path, overwrite\u001b[38;5;241m=\u001b[39m\u001b[38;5;28;01mTrue\u001b[39;00m)\n\u001b[1;32m     11\u001b[0m \u001b[38;5;66;03m# Convert the h5Seurat file to h5ad (AnnData)\u001b[39;00m\n\u001b[1;32m     12\u001b[0m h5ad_file_path \u001b[38;5;241m=\u001b[39m \u001b[38;5;124m\"\u001b[39m\u001b[38;5;124mpath/to/temp/file.h5ad\u001b[39m\u001b[38;5;124m\"\u001b[39m\n",
      "File \u001b[0;32m~/anaconda3/envs/vnngp/lib/python3.12/site-packages/rpy2/robjects/functions.py:208\u001b[0m, in \u001b[0;36mSignatureTranslatedFunction.__call__\u001b[0;34m(self, *args, **kwargs)\u001b[0m\n\u001b[1;32m    206\u001b[0m         v \u001b[38;5;241m=\u001b[39m kwargs\u001b[38;5;241m.\u001b[39mpop(k)\n\u001b[1;32m    207\u001b[0m         kwargs[r_k] \u001b[38;5;241m=\u001b[39m v\n\u001b[0;32m--> 208\u001b[0m \u001b[38;5;28;01mreturn\u001b[39;00m (\u001b[38;5;28msuper\u001b[39m(SignatureTranslatedFunction, \u001b[38;5;28mself\u001b[39m)\n\u001b[1;32m    209\u001b[0m         \u001b[38;5;241m.\u001b[39m\u001b[38;5;21m__call__\u001b[39m(\u001b[38;5;241m*\u001b[39margs, \u001b[38;5;241m*\u001b[39m\u001b[38;5;241m*\u001b[39mkwargs))\n",
      "File \u001b[0;32m~/anaconda3/envs/vnngp/lib/python3.12/site-packages/rpy2/robjects/functions.py:131\u001b[0m, in \u001b[0;36mFunction.__call__\u001b[0;34m(self, *args, **kwargs)\u001b[0m\n\u001b[1;32m    129\u001b[0m     \u001b[38;5;28;01melse\u001b[39;00m:\n\u001b[1;32m    130\u001b[0m         new_kwargs[k] \u001b[38;5;241m=\u001b[39m cv\u001b[38;5;241m.\u001b[39mpy2rpy(v)\n\u001b[0;32m--> 131\u001b[0m res \u001b[38;5;241m=\u001b[39m \u001b[38;5;28msuper\u001b[39m(Function, \u001b[38;5;28mself\u001b[39m)\u001b[38;5;241m.\u001b[39m\u001b[38;5;21m__call__\u001b[39m(\u001b[38;5;241m*\u001b[39mnew_args, \u001b[38;5;241m*\u001b[39m\u001b[38;5;241m*\u001b[39mnew_kwargs)\n\u001b[1;32m    132\u001b[0m res \u001b[38;5;241m=\u001b[39m cv\u001b[38;5;241m.\u001b[39mrpy2py(res)\n\u001b[1;32m    133\u001b[0m \u001b[38;5;28;01mreturn\u001b[39;00m res\n",
      "File \u001b[0;32m~/anaconda3/envs/vnngp/lib/python3.12/site-packages/rpy2/rinterface_lib/conversion.py:45\u001b[0m, in \u001b[0;36m_cdata_res_to_rinterface.<locals>._\u001b[0;34m(*args, **kwargs)\u001b[0m\n\u001b[1;32m     44\u001b[0m \u001b[38;5;28;01mdef\u001b[39;00m \u001b[38;5;21m_\u001b[39m(\u001b[38;5;241m*\u001b[39margs, \u001b[38;5;241m*\u001b[39m\u001b[38;5;241m*\u001b[39mkwargs):\n\u001b[0;32m---> 45\u001b[0m     cdata \u001b[38;5;241m=\u001b[39m function(\u001b[38;5;241m*\u001b[39margs, \u001b[38;5;241m*\u001b[39m\u001b[38;5;241m*\u001b[39mkwargs)\n\u001b[1;32m     46\u001b[0m     \u001b[38;5;66;03m# TODO: test cdata is of the expected CType\u001b[39;00m\n\u001b[1;32m     47\u001b[0m     \u001b[38;5;28;01mreturn\u001b[39;00m _cdata_to_rinterface(cdata)\n",
      "File \u001b[0;32m~/anaconda3/envs/vnngp/lib/python3.12/site-packages/rpy2/rinterface.py:817\u001b[0m, in \u001b[0;36mSexpClosure.__call__\u001b[0;34m(self, *args, **kwargs)\u001b[0m\n\u001b[1;32m    810\u001b[0m     res \u001b[38;5;241m=\u001b[39m rmemory\u001b[38;5;241m.\u001b[39mprotect(\n\u001b[1;32m    811\u001b[0m         openrlib\u001b[38;5;241m.\u001b[39mrlib\u001b[38;5;241m.\u001b[39mR_tryEval(\n\u001b[1;32m    812\u001b[0m             call_r,\n\u001b[1;32m    813\u001b[0m             call_context\u001b[38;5;241m.\u001b[39m__sexp__\u001b[38;5;241m.\u001b[39m_cdata,\n\u001b[1;32m    814\u001b[0m             error_occured)\n\u001b[1;32m    815\u001b[0m     )\n\u001b[1;32m    816\u001b[0m     \u001b[38;5;28;01mif\u001b[39;00m error_occured[\u001b[38;5;241m0\u001b[39m]:\n\u001b[0;32m--> 817\u001b[0m         \u001b[38;5;28;01mraise\u001b[39;00m embedded\u001b[38;5;241m.\u001b[39mRRuntimeError(_rinterface\u001b[38;5;241m.\u001b[39m_geterrmessage())\n\u001b[1;32m    818\u001b[0m \u001b[38;5;28;01mreturn\u001b[39;00m res\n",
      "\u001b[0;31mRRuntimeError\u001b[0m: Error in H5File.open(filename, mode, file_create_pl, file_access_pl) : \n  HDF5-API Errors:\n    error #000: H5F.c in H5Fcreate(): line 660: unable to synchronously create file\n        class: HDF5\n        major: File accessibility\n        minor: Unable to create file\n\n    error #001: H5F.c in H5F__create_api_common(): line 614: unable to create file\n        class: HDF5\n        major: File accessibility\n        minor: Unable to open file\n\n    error #002: H5VLcallback.c in H5VL_file_create(): line 3605: file create failed\n        class: HDF5\n        major: Virtual Object Layer\n        minor: Unable to create file\n\n    error #003: H5VLcallback.c in H5VL__file_create(): line 3571: file create failed\n        class: HDF5\n        major: Virtual Object Layer\n        minor: Unable to create file\n\n    error #004: H5VLnative_file.c in H5VL__native_file_create(): line 94: unable to create file\n        class: HDF5\n        major: File accessibility\n        minor: Unable to open file\n\n    error #005: H5Fint.c in H5F_open(): line 1851: unable to open file: name = 'pa\n"
     ]
    }
   ],
   "source": [
    "# Define the path to your .rds file\n",
    "rds_file_path = path.join(dpath, \"multi_intergrated_seurat_Dec2020.rds\")\n",
    "\n",
    "# Read the Seurat object\n",
    "seurat_object = robjects.r['readRDS'](rds_file_path)\n",
    "\n",
    "# Save the Seurat object as an h5Seurat file\n",
    "h5seurat_file_path = \"path/to/temp/file.h5seurat\"\n",
    "seurat_disk.SaveH5Seurat(seurat_object, filename=h5seurat_file_path, overwrite=True)\n",
    "\n",
    "# Convert the h5Seurat file to h5ad (AnnData)\n",
    "h5ad_file_path = \"path/to/temp/file.h5ad\"\n",
    "seurat_disk.Convert(h5seurat_file_path, dest='h5ad', overwrite=True)"
   ]
  },
  {
   "cell_type": "code",
   "execution_count": null,
   "id": "a438782b-a941-4c23-835e-8ad414be8e03",
   "metadata": {},
   "outputs": [],
   "source": [
    "# Read the h5ad file as an AnnData object\n",
    "adata = sc.read_h5ad(h5ad_file_path)\n",
    "\n",
    "# Display the AnnData object\n",
    "print(adata)"
   ]
  }
 ],
 "metadata": {
  "kernelspec": {
   "display_name": "Python (vnngp)",
   "language": "python",
   "name": "vnngp"
  },
  "language_info": {
   "codemirror_mode": {
    "name": "ipython",
    "version": 3
   },
   "file_extension": ".py",
   "mimetype": "text/x-python",
   "name": "python",
   "nbconvert_exporter": "python",
   "pygments_lexer": "ipython3",
   "version": "3.12.2"
  }
 },
 "nbformat": 4,
 "nbformat_minor": 5
}
