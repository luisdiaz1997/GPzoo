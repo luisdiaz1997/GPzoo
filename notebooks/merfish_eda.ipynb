{
 "cells": [
  {
   "cell_type": "code",
   "execution_count": null,
   "id": "1cfc9a75-87bb-43d3-8684-6456426af971",
   "metadata": {},
   "outputs": [],
   "source": [
    "import rpy2.robjects as robjects\n",
    "import rpy2.robjects.packages as rpackages\n",
    "from rpy2.robjects import pandas2ri\n",
    "from anndata import AnnData\n",
    "import scanpy as sc\n",
    "from os import path"
   ]
  },
  {
   "cell_type": "code",
   "execution_count": null,
   "id": "dac488bd-df4d-4375-82b7-7c1300065852",
   "metadata": {},
   "outputs": [],
   "source": [
    "!pwd\n",
    "root = \"/engelhardt/home/pshrestha/vnngp/\"\n",
    "dpath = path.join(root, \"data\")"
   ]
  },
  {
   "cell_type": "code",
   "execution_count": null,
   "id": "cddb0771-78d3-4d0f-8151-a013ead4eb1e",
   "metadata": {},
   "outputs": [],
   "source": [
    "# Enable the conversion between R and pandas data frames\n",
    "pandas2ri.activate()\n",
    "\n",
    "# Load the Seurat and SeuratDisk packages\n",
    "seurat = rpackages.importr('Seurat')\n",
    "seurat_disk = rpackages.importr('SeuratDisk')"
   ]
  },
  {
   "cell_type": "code",
   "execution_count": null,
   "id": "4a928a49-326e-48d4-8471-885f5002b047",
   "metadata": {},
   "outputs": [],
   "source": [
    "# Define the path to your .rds file\n",
    "rds_file_path = path.join(dpath, \"multi_intergrated_seurat_Dec2020.rds\")\n",
    "\n",
    "# Read the Seurat object\n",
    "seurat_object = robjects.r['readRDS'](rds_file_path)\n",
    "\n",
    "# Save the Seurat object as an h5Seurat file\n",
    "h5seurat_file_path = \"path/to/temp/file.h5seurat\"\n",
    "seurat_disk.SaveH5Seurat(seurat_object, filename=h5seurat_file_path, overwrite=True)\n",
    "\n",
    "# Convert the h5Seurat file to h5ad (AnnData)\n",
    "h5ad_file_path = \"path/to/temp/file.h5ad\"\n",
    "seurat_disk.Convert(h5seurat_file_path, dest='h5ad', overwrite=True)"
   ]
  },
  {
   "cell_type": "code",
   "execution_count": null,
   "id": "a438782b-a941-4c23-835e-8ad414be8e03",
   "metadata": {},
   "outputs": [],
   "source": [
    "# Read the h5ad file as an AnnData object\n",
    "adata = sc.read_h5ad(h5ad_file_path)\n",
    "\n",
    "# Display the AnnData object\n",
    "print(adata)"
   ]
  }
 ],
 "metadata": {
  "kernelspec": {
   "display_name": "Python (vnngp)",
   "language": "python",
   "name": "vnngp"
  },
  "language_info": {
   "codemirror_mode": {
    "name": "ipython",
    "version": 3
   },
   "file_extension": ".py",
   "mimetype": "text/x-python",
   "name": "python",
   "nbconvert_exporter": "python",
   "pygments_lexer": "ipython3",
   "version": "3.12.2"
  }
 },
 "nbformat": 4,
 "nbformat_minor": 5
}
