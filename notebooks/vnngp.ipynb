{
 "cells": [
  {
   "metadata": {
    "ExecuteTime": {
     "end_time": "2024-06-04T09:16:12.166301Z",
     "start_time": "2024-06-04T09:16:12.163418Z"
    }
   },
   "cell_type": "code",
   "source": [
    "import sys\n",
    "import os\n",
    "print(sys.path)"
   ],
   "id": "f16c65bba80968d3",
   "execution_count": 1,
   "outputs": []
  },
  {
   "metadata": {
    "ExecuteTime": {
     "end_time": "2024-06-04T09:16:14.067436Z",
     "start_time": "2024-06-04T09:16:13.956044Z"
    }
   },
   "cell_type": "code",
   "source": "!pwd",
   "id": "1374fa39a7243966",
   "execution_count": 2,
   "outputs": []
  },
  {
   "cell_type": "code",
   "id": "1a8eabac",
   "metadata": {
    "ExecuteTime": {
     "end_time": "2024-06-04T09:18:40.093989Z",
     "start_time": "2024-06-04T09:18:40.091323Z"
    }
   },
   "source": [
    "import torch\n",
    "import matplotlib.pyplot as plt\n",
    "from torch import optim, distributions, nn\n",
    "from tqdm import tqdm\n",
    "from gpzoo.kernels import RBF\n",
    "from gpzoo.gp import VNNGP, SVGP\n",
    "from gpzoo.likelihoods import GaussianLikelihood"
   ],
   "execution_count": 6,
   "outputs": []
  },
  {
   "cell_type": "code",
   "id": "42c708eb",
   "metadata": {
    "ExecuteTime": {
     "end_time": "2024-06-04T09:18:41.328025Z",
     "start_time": "2024-06-04T09:18:41.323971Z"
    }
   },
   "source": [
    "device = torch.device('cuda:0' if torch.cuda.is_available() else 'cpu')\n",
    "device"
   ],
   "execution_count": 7,
   "outputs": []
  },
  {
   "cell_type": "code",
   "id": "d3f65f0a",
   "metadata": {
    "ExecuteTime": {
     "end_time": "2024-06-04T09:18:42.261161Z",
     "start_time": "2024-06-04T09:18:42.242269Z"
    }
   },
   "source": [
    "N = 10000\n",
    "X = distributions.Uniform(-5, 5).sample((N, ))\n",
    "y = 2*torch.sin(2*X) + distributions.Normal(0.0, 0.1).sample((N,))"
   ],
   "execution_count": 8,
   "outputs": []
  },
  {
   "cell_type": "code",
   "id": "a9a428d3",
   "metadata": {
    "ExecuteTime": {
     "end_time": "2024-06-04T09:18:43.122404Z",
     "start_time": "2024-06-04T09:18:42.977783Z"
    }
   },
   "source": [
    "plt.scatter(X, y)"
   ],
   "execution_count": 9,
   "outputs": []
  },
  {
   "cell_type": "code",
   "execution_count": 6,
   "id": "a89b295a",
   "metadata": {},
   "source": [
    "M = 1000\n",
    "kernel = RBF(sigma=1.0, lengthscale=5.0)\n",
    "gp = VNNGP(kernel, dim=1, M=M, jitter=1e-3)\n",
    "gp.Z = nn.Parameter(10.0*torch.rand((M, 1))-5.0) #choose inducing points\n",
    "model = GaussianLikelihood(gp)"
   ],
   "outputs": []
  },
  {
   "cell_type": "code",
   "execution_count": 7,
   "id": "0beff10a",
   "metadata": {},
   "source": [
    "model.to(device)"
   ],
   "outputs": []
  },
  {
   "cell_type": "code",
   "execution_count": 8,
   "id": "249878b2",
   "metadata": {},
   "source": [
    "X_train = (X[:, None]).to(device)\n",
    "y_train = y.to(device)"
   ],
   "outputs": []
  },
  {
   "cell_type": "code",
   "execution_count": 9,
   "id": "daef3bbb",
   "metadata": {},
   "source": [
    "def fit(model, X, y, optimizer, epochs=1000, E=20):\n",
    "    losses = []\n",
    "    for it in tqdm(range(epochs)):\n",
    "        optimizer.zero_grad()\n",
    "        pY, qF, qU, pU = model.forward(X, E=E)\n",
    "        ELBO = (pY.log_prob(y)).mean(axis=0).sum()\n",
    "        ELBO -= torch.sum(distributions.kl_divergence(qU, pU))\n",
    "        loss = -ELBO\n",
    "        loss.backward()\n",
    "        optimizer.step()\n",
    "        losses.append(loss.item())\n",
    "\n",
    "    print(\"finished Training\")\n",
    "    return losses"
   ],
   "outputs": []
  },
  {
   "cell_type": "code",
   "execution_count": 84,
   "id": "408fe667",
   "metadata": {},
   "source": [
    "model.gp.K = 5"
   ],
   "outputs": []
  },
  {
   "cell_type": "code",
   "execution_count": 11,
   "id": "2a4ca4e0",
   "metadata": {},
   "source": [
    "optimizer = optim.Adam(params= model.parameters(), lr=1e-2)"
   ],
   "outputs": []
  },
  {
   "cell_type": "code",
   "execution_count": 12,
   "id": "b8148f31",
   "metadata": {
    "scrolled": true
   },
   "source": [
    "losses = fit(model, X_train, y_train, optimizer, epochs=2000, E=200)"
   ],
   "outputs": []
  },
  {
   "cell_type": "code",
   "execution_count": 13,
   "id": "ad3bccbc",
   "metadata": {},
   "source": [
    "plt.plot(losses)"
   ],
   "outputs": []
  },
  {
   "cell_type": "code",
   "execution_count": 54,
   "id": "703c182f",
   "metadata": {},
   "source": [
    "X_test = torch.linspace(-6, 6, 150)"
   ],
   "outputs": []
  },
  {
   "cell_type": "code",
   "execution_count": 86,
   "id": "1782b688",
   "metadata": {},
   "source": [
    "qF, _, _ = model.gp(X_test[:, None].to(device), verbose=True)\n",
    "mean_test = qF.mean.detach().cpu()"
   ],
   "outputs": []
  },
  {
   "cell_type": "code",
   "execution_count": 87,
   "id": "e1596454",
   "metadata": {},
   "source": [
    "plt.plot(X_test, mean_test, color='black')\n",
    "plt.scatter(X, y, alpha=0.5)"
   ],
   "outputs": []
  },
  {
   "cell_type": "code",
   "execution_count": 94,
   "id": "2c600ab6",
   "metadata": {},
   "source": [
    "samples = qF.sample((3,))\n",
    "plt.plot(X_test, samples.detach().cpu().T, alpha=0.5);\n",
    "plt.plot(X_test, mean_test, color='black');"
   ],
   "outputs": []
  },
  {
   "cell_type": "code",
   "execution_count": 95,
   "id": "236ca783",
   "metadata": {},
   "source": [
    "model.gp.kernel.lengthscale"
   ],
   "outputs": []
  },
  {
   "cell_type": "code",
   "execution_count": 96,
   "id": "93e8a0d3",
   "metadata": {},
   "source": [
    "model.gp.kernel.sigma"
   ],
   "outputs": []
  },
  {
   "cell_type": "code",
   "execution_count": 97,
   "id": "4a80a4ed",
   "metadata": {},
   "source": [
    "model.noise"
   ],
   "outputs": []
  },
  {
   "cell_type": "code",
   "execution_count": null,
   "id": "853d5ea4",
   "metadata": {},
   "source": [],
   "outputs": []
  }
 ],
 "metadata": {
  "kernelspec": {
   "display_name": "Python (vnngp)",
   "language": "python",
   "name": "vnngp"
  },
  "language_info": {
   "codemirror_mode": {
    "name": "ipython",
    "version": 3
   },
   "file_extension": ".py",
   "mimetype": "text/x-python",
   "name": "python",
   "nbconvert_exporter": "python",
   "pygments_lexer": "ipython3",
   "version": "3.8.18"
  },
  "vscode": {
   "interpreter": {
    "hash": "dcc7df95ec71decc6231014ec63448057e1acad940b8e54522bbe6640ef2a439"
   }
  }
 },
 "nbformat": 4,
 "nbformat_minor": 5
}
