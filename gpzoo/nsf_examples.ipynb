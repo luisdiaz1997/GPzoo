{
 "cells": [
  {
   "cell_type": "code",
   "execution_count": 3,
   "metadata": {},
   "outputs": [],
   "source": [
    "import torch\n",
    "import matplotlib.pyplot as plt\n",
    "from torch import optim, distributions, nn\n",
    "from tqdm.autonotebook import tqdm\n",
    "from sklearn.datasets import fetch_olivetti_faces\n",
    "from gpzoo.kernels import NSF_RBF\n",
    "from gpzoo.gp import NSF"
   ]
  },
  {
   "cell_type": "code",
   "execution_count": null,
   "metadata": {},
   "outputs": [],
   "source": []
  }
 ],
 "metadata": {
  "kernelspec": {
   "display_name": "Python 3.8.16 ('research')",
   "language": "python",
   "name": "python3"
  },
  "language_info": {
   "codemirror_mode": {
    "name": "ipython",
    "version": 3
   },
   "file_extension": ".py",
   "mimetype": "text/x-python",
   "name": "python",
   "nbconvert_exporter": "python",
   "pygments_lexer": "ipython3",
   "version": "3.8.16"
  },
  "orig_nbformat": 4,
  "vscode": {
   "interpreter": {
    "hash": "dcc7df95ec71decc6231014ec63448057e1acad940b8e54522bbe6640ef2a439"
   }
  }
 },
 "nbformat": 4,
 "nbformat_minor": 2
}
