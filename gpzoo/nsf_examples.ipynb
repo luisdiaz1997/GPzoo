{
 "cells": [
  {
   "cell_type": "code",
   "execution_count": 1,
   "metadata": {},
   "outputs": [
    {
     "name": "stderr",
     "output_type": "stream",
     "text": [
      "/var/folders/dv/w3pzlt_11hdcpw6gskd45b_80000gn/T/ipykernel_18399/3667266773.py:4: TqdmExperimentalWarning: Using `tqdm.autonotebook.tqdm` in notebook mode. Use `tqdm.tqdm` instead to force console mode (e.g. in jupyter console)\n",
      "  from tqdm.autonotebook import tqdm\n"
     ]
    }
   ],
   "source": [
    "import torch\n",
    "import matplotlib.pyplot as plt\n",
    "from torch import optim, distributions, nn\n",
    "from tqdm.autonotebook import tqdm\n",
    "from sklearn.datasets import fetch_olivetti_faces\n",
    "from gpzoo.kernels import NSF_RBF\n",
    "from gpzoo.gp import NSF"
   ]
  },
  {
   "cell_type": "code",
   "execution_count": 2,
   "metadata": {},
   "outputs": [],
   "source": [
    "new_model = True"
   ]
  },
  {
   "cell_type": "code",
   "execution_count": 3,
   "metadata": {},
   "outputs": [
    {
     "data": {
      "text/plain": [
       "device(type='cpu')"
      ]
     },
     "execution_count": 3,
     "metadata": {},
     "output_type": "execute_result"
    }
   ],
   "source": [
    "device = torch.device('cuda:0' if torch.cuda.is_available() else 'cpu')\n",
    "device"
   ]
  },
  {
   "cell_type": "code",
   "execution_count": 4,
   "metadata": {},
   "outputs": [],
   "source": [
    "data, _ = fetch_olivetti_faces(return_X_y=True, shuffle=True, random_state=97)"
   ]
  },
  {
   "cell_type": "code",
   "execution_count": 5,
   "metadata": {},
   "outputs": [],
   "source": [
    "Y = (data)*255\n",
    "Y = Y.astype(int)\n",
    "Y = torch.tensor(Y)"
   ]
  },
  {
   "cell_type": "code",
   "execution_count": 6,
   "metadata": {},
   "outputs": [],
   "source": [
    "idx = torch.linspace(-32, 32, 64, dtype=torch.float)\n",
    "X = torch.cartesian_prod(-idx, idx).flip(dims=[1])\n",
    "N = X.shape[0]"
   ]
  },
  {
   "cell_type": "code",
   "execution_count": 7,
   "metadata": {},
   "outputs": [
    {
     "data": {
      "text/plain": [
       "NSF(\n",
       "  (kernel): NSF_RBF()\n",
       "  (svgp): SVGP(\n",
       "    (kernel): NSF_RBF()\n",
       "  )\n",
       ")"
      ]
     },
     "execution_count": 7,
     "metadata": {},
     "output_type": "execute_result"
    }
   ],
   "source": [
    "L =10\n",
    "M = 32*32\n",
    "kernel = NSF_RBF(L=L, lengthscale=2)\n",
    "model = NSF(X=X, y=Y, kernel=kernel, M=M, L=L, jitter=1e-2)\n",
    "idz = torch.multinomial(torch.ones(X.shape[0]), num_samples=M, replacement=False)\n",
    "model.svgp.Z = nn.Parameter(X[idz])\n",
    "\n",
    "if not new_model:\n",
    "    model.load_state_dict(torch.load('eigenfaces_nsf'))\n",
    "    \n",
    "model.to(device)"
   ]
  },
  {
   "cell_type": "code",
   "execution_count": 8,
   "metadata": {},
   "outputs": [],
   "source": [
    "X_train = X.to(device)\n",
    "Y_train = Y.to(device)"
   ]
  },
  {
   "cell_type": "code",
   "execution_count": 9,
   "metadata": {},
   "outputs": [],
   "source": [
    "optimizer = optim.Adam(model.parameters(), lr=1e-2)"
   ]
  },
  {
   "cell_type": "code",
   "execution_count": 10,
   "metadata": {},
   "outputs": [
    {
     "name": "stderr",
     "output_type": "stream",
     "text": [
      "  0%|          | 0/1000 [00:00<?, ?it/s]/Users/priyankashrestha/Documents/stanford/engelhardt_research/GPzoo/gpzoo/gp.py:36: UserWarning: torch.cholesky is deprecated in favor of torch.linalg.cholesky and will be removed in a future PyTorch release.\n",
      "L = torch.cholesky(A)\n",
      "should be replaced with\n",
      "L = torch.linalg.cholesky(A)\n",
      "and\n",
      "U = torch.cholesky(A, upper=True)\n",
      "should be replaced with\n",
      "U = torch.linalg.cholesky(A).mH().\n",
      "This transform will produce equivalent results for all valid (symmetric positive definite) inputs. (Triggered internally at /Users/runner/work/_temp/anaconda/conda-bld/pytorch_1678402524629/work/aten/src/ATen/native/BatchLinearAlgebra.cpp:1702.)\n",
      "  L = torch.cholesky(Utilities.add_jitter(Kzz, self.jitter))\n",
      "  0%|          | 3/1000 [01:04<6:01:45, 21.77s/it]"
     ]
    }
   ],
   "source": [
    "losses = model.fit(X_train, Y_train, optimizer)"
   ]
  },
  {
   "cell_type": "code",
   "execution_count": null,
   "metadata": {},
   "outputs": [],
   "source": []
  }
 ],
 "metadata": {
  "kernelspec": {
   "display_name": "Python 3.8.16 ('research')",
   "language": "python",
   "name": "python3"
  },
  "language_info": {
   "codemirror_mode": {
    "name": "ipython",
    "version": 3
   },
   "file_extension": ".py",
   "mimetype": "text/x-python",
   "name": "python",
   "nbconvert_exporter": "python",
   "pygments_lexer": "ipython3",
   "version": "3.8.16"
  },
  "orig_nbformat": 4,
  "vscode": {
   "interpreter": {
    "hash": "dcc7df95ec71decc6231014ec63448057e1acad940b8e54522bbe6640ef2a439"
   }
  }
 },
 "nbformat": 4,
 "nbformat_minor": 2
}
